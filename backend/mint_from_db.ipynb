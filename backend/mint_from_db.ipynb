{
 "cells": [
  {
   "cell_type": "code",
   "execution_count": 1,
   "id": "e9db8e63",
   "metadata": {},
   "outputs": [],
   "source": [
    "%load_ext autoreload\n",
    "%autoreload 2"
   ]
  },
  {
   "cell_type": "code",
   "execution_count": 58,
   "id": "63ee0dee",
   "metadata": {},
   "outputs": [],
   "source": [
    "from scripts.web3_helpers import *\n",
    "import hmac\n",
    "import hashlib\n",
    "import base64\n",
    "from web3 import Web3\n",
    "import os, json\n",
    "from supabase import create_client, Client"
   ]
  },
  {
   "cell_type": "code",
   "execution_count": 10,
   "id": "ae9a732b",
   "metadata": {},
   "outputs": [],
   "source": [
    "w3 = Web3(Web3.HTTPProvider('HTTP://0.0.0.0:8545'))"
   ]
  },
  {
   "cell_type": "code",
   "execution_count": 49,
   "id": "0a09f8d0",
   "metadata": {},
   "outputs": [],
   "source": [
    "creds = json.load(open(\".db-creds.json\"))\n",
    "\n",
    "url = creds[\"SUPABASE_URL\"]\n",
    "key = creds[\"SUPABASE_KEY\"]\n",
    "pw = creds[\"PW_HASH\"]\n",
    "supabase = create_client(url, key)"
   ]
  },
  {
   "cell_type": "code",
   "execution_count": 12,
   "id": "b6850414",
   "metadata": {},
   "outputs": [],
   "source": [
    "def get_data(table_name, select, data):\n",
    "    initial_len = len(data)\n",
    "    prev_len = -1\n",
    "    i = 0\n",
    "    while (len(data) - initial_len) % 1000 == 0 and prev_len != len(data):\n",
    "        prev_len = len(data)\n",
    "        data.extend(supabase.table(table_name).select(select).range(i*1000, i*1000 + 1000).execute().data)\n",
    "        i += 1\n",
    "    return data"
   ]
  },
  {
   "cell_type": "code",
   "execution_count": 18,
   "id": "3971855b",
   "metadata": {},
   "outputs": [],
   "source": [
    "post_reddit_ids = get_data(\"posts\", 'reddit_id, ipfs_hash', [])\n",
    "comment_reddit_ids = get_data(\"comments\", \"reddit_id, ipfs_hash\", [])\n",
    "categories = get_data(\"categories\", \"*\", [])\n",
    "users = get_data(\"users\", \"*\", [])\n",
    "follows = get_data(\"follows\", \"*\", [])\n",
    "votes = get_data(\"votes\", \"*\", [])"
   ]
  },
  {
   "cell_type": "code",
   "execution_count": 19,
   "id": "42cf6eaa",
   "metadata": {},
   "outputs": [
    {
     "data": {
      "text/plain": [
       "{'id': 2,\n",
       " 'created_at': '2022-08-05T00:29:01.305294+00:00',\n",
       " 'username': 'Eabryt',\n",
       " 'profile_pic': 'https://www.redditstatic.com/avatars/defaults/v2/avatar_default_2.png',\n",
       " 'msa_id': None,\n",
       " 'transaction_hash': None,\n",
       " 'wallet_address_personal': None,\n",
       " 'wallet_address_provided': None}"
      ]
     },
     "execution_count": 19,
     "metadata": {},
     "output_type": "execute_result"
    }
   ],
   "source": [
    "users[0]"
   ]
  },
  {
   "cell_type": "code",
   "execution_count": 63,
   "id": "22190513",
   "metadata": {},
   "outputs": [],
   "source": [
    "user_data = []\n",
    "wallets = []\n",
    "for user in users[:10]:\n",
    "    msa_id = user[\"msa_id\"]\n",
    "    username = user[\"username\"]\n",
    "    profile_pic = user[\"profile_pic\"]\n",
    "    user_wallet = user[\"wallet_address_provided\"]\n",
    "    if user_wallet is None:\n",
    "        dig = hmac.new(pw.encode(), msg=\"PocketAAcez\".encode(), digestmod=hashlib.sha256).digest()\n",
    "        pw_hash = base64.b64encode(dig).decode()\n",
    "        user_wallet = w3.eth.account.from_key(keccak(encode_abi_packed(['string'],[f\"{pw_hash}\"])))\n",
    "        \n",
    "    wallets.append(user_wallet)\n",
    "    user_data.append('{' + f'\"msa_id\": {msa_id},\"username\": \"{username}\",\"profile_pic\": \"{profile_pic}\",\"wallet_address\": \"{user_wallet.address}\"' + '}')"
   ]
  },
  {
   "cell_type": "code",
   "execution_count": 64,
   "id": "611625f0",
   "metadata": {
    "scrolled": true
   },
   "outputs": [
    {
     "ename": "EncodingTypeError",
     "evalue": "Value `None` of type <class 'NoneType'> cannot be encoded by PackedUnsignedIntegerEncoder",
     "output_type": "error",
     "traceback": [
      "\u001b[1;31m---------------------------------------------------------------------------\u001b[0m",
      "\u001b[1;31mEncodingTypeError\u001b[0m                         Traceback (most recent call last)",
      "Input \u001b[1;32mIn [64]\u001b[0m, in \u001b[0;36m<cell line: 1>\u001b[1;34m()\u001b[0m\n\u001b[1;32m----> 1\u001b[0m \u001b[43mcreate_msas_with_delegator\u001b[49m\u001b[43m(\u001b[49m\u001b[43mwallets\u001b[49m\u001b[43m)\u001b[49m\n",
      "File \u001b[1;32mF:\\web3_messing_around\\PostThread-Polygon\\backend\\scripts\\web3_helpers.py:94\u001b[0m, in \u001b[0;36mcreate_msas_with_delegator\u001b[1;34m(delegator_wallets, wait_for_inclusion, wait_for_finalization)\u001b[0m\n\u001b[0;32m     91\u001b[0m     \u001b[38;5;28;01mcontinue\u001b[39;00m\n\u001b[0;32m     93\u001b[0m private_key \u001b[38;5;241m=\u001b[39m delegator_wallet\u001b[38;5;241m.\u001b[39mprivateKey\u001b[38;5;241m.\u001b[39mhex()\n\u001b[1;32m---> 94\u001b[0m \u001b[38;5;28mhash\u001b[39m \u001b[38;5;241m=\u001b[39m keccak(\u001b[43mencode_abi_packed\u001b[49m\u001b[43m(\u001b[49m\u001b[43m[\u001b[49m\u001b[38;5;124;43m'\u001b[39;49m\u001b[38;5;124;43muint256\u001b[39;49m\u001b[38;5;124;43m'\u001b[39;49m\u001b[43m]\u001b[49m\u001b[43m,\u001b[49m\u001b[43m[\u001b[49m\u001b[43mdelegate_msa_id\u001b[49m\u001b[43m]\u001b[49m\u001b[43m)\u001b[49m)\n\u001b[0;32m     95\u001b[0m message \u001b[38;5;241m=\u001b[39m encode_defunct(hexstr\u001b[38;5;241m=\u001b[39m\u001b[38;5;28mhash\u001b[39m\u001b[38;5;241m.\u001b[39mhex())\n\u001b[0;32m     96\u001b[0m sigs \u001b[38;5;241m=\u001b[39m  w3\u001b[38;5;241m.\u001b[39meth\u001b[38;5;241m.\u001b[39maccount\u001b[38;5;241m.\u001b[39msign_message(message, private_key\u001b[38;5;241m=\u001b[39mprivate_key)\u001b[38;5;241m.\u001b[39msignature\u001b[38;5;241m.\u001b[39mhex()\n",
      "File \u001b[1;32m~\\AppData\\Local\\Programs\\Python\\Python39\\lib\\site-packages\\eth_abi\\codec.py:87\u001b[0m, in \u001b[0;36mABIEncoder.encode_abi\u001b[1;34m(self, types, args)\u001b[0m\n\u001b[0;32m     80\u001b[0m encoders \u001b[38;5;241m=\u001b[39m [\n\u001b[0;32m     81\u001b[0m     \u001b[38;5;28mself\u001b[39m\u001b[38;5;241m.\u001b[39m_registry\u001b[38;5;241m.\u001b[39mget_encoder(type_str)\n\u001b[0;32m     82\u001b[0m     \u001b[38;5;28;01mfor\u001b[39;00m type_str \u001b[38;5;129;01min\u001b[39;00m types\n\u001b[0;32m     83\u001b[0m ]\n\u001b[0;32m     85\u001b[0m encoder \u001b[38;5;241m=\u001b[39m TupleEncoder(encoders\u001b[38;5;241m=\u001b[39mencoders)\n\u001b[1;32m---> 87\u001b[0m \u001b[38;5;28;01mreturn\u001b[39;00m \u001b[43mencoder\u001b[49m\u001b[43m(\u001b[49m\u001b[43margs\u001b[49m\u001b[43m)\u001b[49m\n",
      "File \u001b[1;32m~\\AppData\\Local\\Programs\\Python\\Python39\\lib\\site-packages\\eth_abi\\encoding.py:98\u001b[0m, in \u001b[0;36mBaseEncoder.__call__\u001b[1;34m(self, value)\u001b[0m\n\u001b[0;32m     97\u001b[0m \u001b[38;5;28;01mdef\u001b[39;00m \u001b[38;5;21m__call__\u001b[39m(\u001b[38;5;28mself\u001b[39m, value: Any) \u001b[38;5;241m-\u001b[39m\u001b[38;5;241m>\u001b[39m \u001b[38;5;28mbytes\u001b[39m:\n\u001b[1;32m---> 98\u001b[0m     \u001b[38;5;28;01mreturn\u001b[39;00m \u001b[38;5;28;43mself\u001b[39;49m\u001b[38;5;241;43m.\u001b[39;49m\u001b[43mencode\u001b[49m\u001b[43m(\u001b[49m\u001b[43mvalue\u001b[49m\u001b[43m)\u001b[49m\n",
      "File \u001b[1;32m~\\AppData\\Local\\Programs\\Python\\Python39\\lib\\site-packages\\eth_abi\\encoding.py:139\u001b[0m, in \u001b[0;36mTupleEncoder.encode\u001b[1;34m(self, values)\u001b[0m\n\u001b[0;32m    138\u001b[0m \u001b[38;5;28;01mdef\u001b[39;00m \u001b[38;5;21mencode\u001b[39m(\u001b[38;5;28mself\u001b[39m, values):\n\u001b[1;32m--> 139\u001b[0m     \u001b[38;5;28;43mself\u001b[39;49m\u001b[38;5;241;43m.\u001b[39;49m\u001b[43mvalidate_value\u001b[49m\u001b[43m(\u001b[49m\u001b[43mvalues\u001b[49m\u001b[43m)\u001b[49m\n\u001b[0;32m    141\u001b[0m     raw_head_chunks \u001b[38;5;241m=\u001b[39m []\n\u001b[0;32m    142\u001b[0m     tail_chunks \u001b[38;5;241m=\u001b[39m []\n",
      "File \u001b[1;32m~\\AppData\\Local\\Programs\\Python\\Python39\\lib\\site-packages\\eth_abi\\encoding.py:134\u001b[0m, in \u001b[0;36mTupleEncoder.validate_value\u001b[1;34m(self, value)\u001b[0m\n\u001b[0;32m    132\u001b[0m \u001b[38;5;28;01mfor\u001b[39;00m item, encoder \u001b[38;5;129;01min\u001b[39;00m \u001b[38;5;28mzip\u001b[39m(value, \u001b[38;5;28mself\u001b[39m\u001b[38;5;241m.\u001b[39mencoders):\n\u001b[0;32m    133\u001b[0m     \u001b[38;5;28;01mtry\u001b[39;00m:\n\u001b[1;32m--> 134\u001b[0m         \u001b[43mencoder\u001b[49m\u001b[38;5;241;43m.\u001b[39;49m\u001b[43mvalidate_value\u001b[49m\u001b[43m(\u001b[49m\u001b[43mitem\u001b[49m\u001b[43m)\u001b[49m\n\u001b[0;32m    135\u001b[0m     \u001b[38;5;28;01mexcept\u001b[39;00m \u001b[38;5;167;01mAttributeError\u001b[39;00m:\n\u001b[0;32m    136\u001b[0m         encoder(item)\n",
      "File \u001b[1;32m~\\AppData\\Local\\Programs\\Python\\Python39\\lib\\site-packages\\eth_abi\\encoding.py:266\u001b[0m, in \u001b[0;36mNumberEncoder.validate_value\u001b[1;34m(self, value)\u001b[0m\n\u001b[0;32m    264\u001b[0m \u001b[38;5;28;01mdef\u001b[39;00m \u001b[38;5;21mvalidate_value\u001b[39m(\u001b[38;5;28mself\u001b[39m, value):\n\u001b[0;32m    265\u001b[0m     \u001b[38;5;28;01mif\u001b[39;00m \u001b[38;5;129;01mnot\u001b[39;00m \u001b[38;5;28mself\u001b[39m\u001b[38;5;241m.\u001b[39mtype_check_fn(value):\n\u001b[1;32m--> 266\u001b[0m         \u001b[38;5;28;43mself\u001b[39;49m\u001b[38;5;241;43m.\u001b[39;49m\u001b[43minvalidate_value\u001b[49m\u001b[43m(\u001b[49m\u001b[43mvalue\u001b[49m\u001b[43m)\u001b[49m\n\u001b[0;32m    268\u001b[0m     illegal_value \u001b[38;5;241m=\u001b[39m (\n\u001b[0;32m    269\u001b[0m         \u001b[38;5;28mself\u001b[39m\u001b[38;5;241m.\u001b[39millegal_value_fn \u001b[38;5;129;01mis\u001b[39;00m \u001b[38;5;129;01mnot\u001b[39;00m \u001b[38;5;28;01mNone\u001b[39;00m \u001b[38;5;129;01mand\u001b[39;00m\n\u001b[0;32m    270\u001b[0m         \u001b[38;5;28mself\u001b[39m\u001b[38;5;241m.\u001b[39millegal_value_fn(value)\n\u001b[0;32m    271\u001b[0m     )\n\u001b[0;32m    272\u001b[0m     \u001b[38;5;28;01mif\u001b[39;00m illegal_value:\n",
      "File \u001b[1;32m~\\AppData\\Local\\Programs\\Python\\Python39\\lib\\site-packages\\eth_abi\\encoding.py:88\u001b[0m, in \u001b[0;36mBaseEncoder.invalidate_value\u001b[1;34m(cls, value, exc, msg)\u001b[0m\n\u001b[0;32m     77\u001b[0m \u001b[38;5;129m@classmethod\u001b[39m\n\u001b[0;32m     78\u001b[0m \u001b[38;5;28;01mdef\u001b[39;00m \u001b[38;5;21minvalidate_value\u001b[39m(\n\u001b[0;32m     79\u001b[0m     \u001b[38;5;28mcls\u001b[39m,\n\u001b[1;32m   (...)\u001b[0m\n\u001b[0;32m     82\u001b[0m     msg: Optional[\u001b[38;5;28mstr\u001b[39m]\u001b[38;5;241m=\u001b[39m\u001b[38;5;28;01mNone\u001b[39;00m,\n\u001b[0;32m     83\u001b[0m ) \u001b[38;5;241m-\u001b[39m\u001b[38;5;241m>\u001b[39m \u001b[38;5;28;01mNone\u001b[39;00m:\n\u001b[0;32m     84\u001b[0m     \u001b[38;5;124;03m\"\"\"\u001b[39;00m\n\u001b[0;32m     85\u001b[0m \u001b[38;5;124;03m    Throws a standard exception for when a value is not encodable by an\u001b[39;00m\n\u001b[0;32m     86\u001b[0m \u001b[38;5;124;03m    encoder.\u001b[39;00m\n\u001b[0;32m     87\u001b[0m \u001b[38;5;124;03m    \"\"\"\u001b[39;00m\n\u001b[1;32m---> 88\u001b[0m     \u001b[38;5;28;01mraise\u001b[39;00m exc(\n\u001b[0;32m     89\u001b[0m         \u001b[38;5;124m\"\u001b[39m\u001b[38;5;124mValue `\u001b[39m\u001b[38;5;132;01m{rep}\u001b[39;00m\u001b[38;5;124m` of type \u001b[39m\u001b[38;5;132;01m{typ}\u001b[39;00m\u001b[38;5;124m cannot be encoded by \u001b[39m\u001b[38;5;132;01m{cls}\u001b[39;00m\u001b[38;5;132;01m{msg}\u001b[39;00m\u001b[38;5;124m\"\u001b[39m\u001b[38;5;241m.\u001b[39mformat(\n\u001b[0;32m     90\u001b[0m             rep\u001b[38;5;241m=\u001b[39mabbr(value),\n\u001b[0;32m     91\u001b[0m             typ\u001b[38;5;241m=\u001b[39m\u001b[38;5;28mtype\u001b[39m(value),\n\u001b[0;32m     92\u001b[0m             \u001b[38;5;28mcls\u001b[39m\u001b[38;5;241m=\u001b[39m\u001b[38;5;28mcls\u001b[39m\u001b[38;5;241m.\u001b[39m\u001b[38;5;18m__name__\u001b[39m,\n\u001b[0;32m     93\u001b[0m             msg\u001b[38;5;241m=\u001b[39m\u001b[38;5;124m\"\u001b[39m\u001b[38;5;124m\"\u001b[39m \u001b[38;5;28;01mif\u001b[39;00m msg \u001b[38;5;129;01mis\u001b[39;00m \u001b[38;5;28;01mNone\u001b[39;00m \u001b[38;5;28;01melse\u001b[39;00m (\u001b[38;5;124m\"\u001b[39m\u001b[38;5;124m: \u001b[39m\u001b[38;5;124m\"\u001b[39m \u001b[38;5;241m+\u001b[39m msg),\n\u001b[0;32m     94\u001b[0m         )\n\u001b[0;32m     95\u001b[0m     )\n",
      "\u001b[1;31mEncodingTypeError\u001b[0m: Value `None` of type <class 'NoneType'> cannot be encoded by PackedUnsignedIntegerEncoder"
     ]
    }
   ],
   "source": [
    "create_msas_with_delegator(wallets)"
   ]
  },
  {
   "cell_type": "code",
   "execution_count": 45,
   "id": "bcfe2e96",
   "metadata": {
    "scrolled": true
   },
   "outputs": [
    {
     "data": {
      "text/plain": [
       "'7DR6F/yY56zt9XVYrB4ogIYAo76hlPgL5udpXxgAgr8='"
      ]
     },
     "execution_count": 45,
     "metadata": {},
     "output_type": "execute_result"
    }
   ],
   "source": [
    "dig = hmac.new(b'password', msg=\"PocketAAcez\".encode(), digestmod=hashlib.sha256).digest()\n",
    "base64.b64encode(dig).decode()"
   ]
  },
  {
   "cell_type": "code",
   "execution_count": 75,
   "id": "d826bf6c",
   "metadata": {},
   "outputs": [
    {
     "name": "stdout",
     "output_type": "stream",
     "text": [
      "that execution reverted: VM Exception while processing transaction: revert User does not have msaId\n",
      "that execution reverted: VM Exception while processing transaction: revert User does not have msaId\n"
     ]
    }
   ],
   "source": [
    "delegate_msa_id = get_msa_id(delegate)"
   ]
  },
  {
   "cell_type": "code",
   "execution_count": 76,
   "id": "9a19307b",
   "metadata": {},
   "outputs": [],
   "source": [
    "delegate_msa_id"
   ]
  },
  {
   "cell_type": "code",
   "execution_count": null,
   "id": "d0290e0c",
   "metadata": {},
   "outputs": [],
   "source": []
  }
 ],
 "metadata": {
  "kernelspec": {
   "display_name": "Python 3 (ipykernel)",
   "language": "python",
   "name": "python3"
  },
  "language_info": {
   "codemirror_mode": {
    "name": "ipython",
    "version": 3
   },
   "file_extension": ".py",
   "mimetype": "text/x-python",
   "name": "python",
   "nbconvert_exporter": "python",
   "pygments_lexer": "ipython3",
   "version": "3.9.12"
  }
 },
 "nbformat": 4,
 "nbformat_minor": 5
}
