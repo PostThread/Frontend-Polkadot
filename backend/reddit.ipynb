{
 "cells": [
  {
   "cell_type": "code",
   "execution_count": 1,
   "id": "c02729b4",
   "metadata": {},
   "outputs": [],
   "source": [
    "%load_ext autoreload\n",
    "%autoreload 2"
   ]
  },
  {
   "cell_type": "code",
   "execution_count": 2,
   "id": "4298de95",
   "metadata": {},
   "outputs": [],
   "source": [
    "import os, json\n",
    "import pandas as pd\n",
    "import subprocess\n",
    "import time\n",
    "from random import sample\n",
    "from os import listdir\n",
    "from os.path import isfile, join\n",
    "import re\n",
    "import praw\n",
    "from supabase import create_client, Client"
   ]
  },
  {
   "cell_type": "code",
   "execution_count": 3,
   "id": "a025eb7f",
   "metadata": {},
   "outputs": [],
   "source": [
    "creds = json.load(open(\".db-creds.json\"))\n",
    "\n",
    "url = creds[\"SUPABASE_URL\"]\n",
    "key = creds[\"SUPABASE_KEY\"]\n",
    "supabase = create_client(url, key)"
   ]
  },
  {
   "cell_type": "code",
   "execution_count": 4,
   "id": "780ca96b",
   "metadata": {
    "scrolled": true
   },
   "outputs": [],
   "source": [
    "reddit_creds = json.load(open(\".reddit_creds.json\", \"r\"))\n",
    "reddit = praw.Reddit(\n",
    "    client_id=reddit_creds[\"client_id\"],\n",
    "    client_secret=reddit_creds[\"client_secret\"],\n",
    "    password=reddit_creds[\"password\"],\n",
    "    user_agent=reddit_creds[\"user_agent\"],\n",
    "    username=reddit_creds[\"username\"],\n",
    ")"
   ]
  },
  {
   "cell_type": "code",
   "execution_count": 5,
   "id": "32f8566f",
   "metadata": {},
   "outputs": [],
   "source": [
    "r_all = reddit.subreddit('all')"
   ]
  },
  {
   "cell_type": "code",
   "execution_count": 6,
   "id": "afdb74a4",
   "metadata": {},
   "outputs": [],
   "source": [
    "def get_comment_data(comment, usernames, posts_result):    \n",
    "    try:\n",
    "        username = str(comment.author.name)\n",
    "        if username[0:2] == '0x':\n",
    "            username = username[2:]\n",
    "        profile_pic = comment.author.icon_img\n",
    "    except:\n",
    "        username = \"removed\"\n",
    "        profile_pic = \"removed\"\n",
    "\n",
    "    if username not in usernames:\n",
    "        user_data = supabase.table(\"users\").insert({\"username\": username, \"profile_pic\": profile_pic}).execute().data\n",
    "        user_id = user_data[0]['id']\n",
    "    else:\n",
    "        user_id = usernames[username]\n",
    "\n",
    "    comment_data = {\n",
    "        \"post_id\": posts_result[\"id\"],\n",
    "        \"user_id\": user_id,\n",
    "        \"body\": comment.body,\n",
    "        \"depth\": comment.depth,\n",
    "        \"reddit_id\": comment.name,\n",
    "        \"reddit_upvotes\": comment.ups,\n",
    "        \"reddit_downvotes\": comment.downs,\n",
    "    }\n",
    "    return comment_data"
   ]
  },
  {
   "cell_type": "code",
   "execution_count": 11,
   "id": "5a2f6100",
   "metadata": {},
   "outputs": [],
   "source": [
    "def add_comment(comment, comments, head_comments=None):\n",
    "    if comment.name in comment_reddit_ids:\n",
    "        return\n",
    "\n",
    "    if type(comment) == praw.models.reddit.comment.Comment:\n",
    "        if head_comments is not None:\n",
    "            head_comments.append(comment.name)\n",
    "        comment_data = get_comment_data(comment, usernames, posts_result)\n",
    "        comments.append(comment_data)\n",
    "#     else:\n",
    "#         print(type(comment))\n",
    "#         comments.extend(get_comments(comment.comments(), comment_reddit_ids, usernames, posts_result))"
   ]
  },
  {
   "cell_type": "code",
   "execution_count": 12,
   "id": "bcb893b4",
   "metadata": {},
   "outputs": [],
   "source": [
    "def get_comments(comment_list, comment_reddit_ids, usernames, posts_result):\n",
    "    comments = []\n",
    "    head_comments = []\n",
    "    for comment in comment_list[:10]:\n",
    "        add_comment(comment, comments, head_comments)\n",
    "    for comment in comment_list[10:]:\n",
    "        if comment.name in head_comments:\n",
    "            add_comment(comment, comments)\n",
    "        \n",
    "    return comments"
   ]
  },
  {
   "cell_type": "code",
   "execution_count": 32,
   "id": "47ed8673",
   "metadata": {},
   "outputs": [],
   "source": [
    "def get_data(table_name, select, data):\n",
    "    initial_len = len(data)\n",
    "    prev_len = -1\n",
    "    i = 0\n",
    "    while (len(data) - initial_len) % 1000 == 0 and prev_len != len(data):\n",
    "        prev_len = len(data)\n",
    "        data.extend(supabase.table(table_name).select(select).range(i*1000, i*1000 + 1000).execute().data)\n",
    "        i += 1\n",
    "    return data"
   ]
  },
  {
   "cell_type": "markdown",
   "id": "665c2f27",
   "metadata": {},
   "source": [
    "# DB writer"
   ]
  },
  {
   "cell_type": "code",
   "execution_count": 33,
   "id": "289ad355",
   "metadata": {
    "scrolled": true
   },
   "outputs": [
    {
     "name": "stderr",
     "output_type": "stream",
     "text": [
      "\n",
      "KeyboardInterrupt\n",
      "\n"
     ]
    }
   ],
   "source": [
    "minted_time = 0\n",
    "last_block = 0\n",
    "\n",
    "\n",
    "post_reddit_ids = [row['reddit_id'] for row in get_data(\"posts\", 'reddit_id', [])]\n",
    "comment_reddit_ids = [row['reddit_id'] for row in get_data(\"comments\", \"reddit_id\", [])]\n",
    "categories = {row['name']: row['id'] for row in get_data(\"categories\", \"id, name\", [])}\n",
    "usernames = {row['username']: row['id'] for row in get_data(\"users\", \"id, username\", [])}\n",
    "\n",
    "while True:\n",
    "    # Mint reddit posts every hour\n",
    "    if (time.time() - minted_time) / 60 > 30:\n",
    "        post_reddit_ids = [row['reddit_id'] for row in get_data(\"posts\", 'reddit_id', post_reddit_ids)]\n",
    "        comment_reddit_ids = [row['reddit_id'] for row in get_data(\"comments\", \"reddit_id\", comment_reddit_ids)]\n",
    "        categories = {row['name']: row['id'] for row in get_data(\"categories\", \"id, name\", categories)}\n",
    "        usernames = {row['username']: row['id'] for row in get_data(\"users\", \"id, username\", usernames)}\n",
    "        \n",
    "        posts = []\n",
    "        for i, post in enumerate(r_all.top(time_filter='hour')):\n",
    "            if post.name in post_reddit_ids:\n",
    "                continue\n",
    "                \n",
    "            if i > 10:\n",
    "                continue\n",
    "                     \n",
    "            category = post.subreddit.display_name\n",
    "            if category not in categories:\n",
    "                category_data = supabase.table(\"categories\").insert({\"name\": category}).execute().data\n",
    "                category_id = category_data[0]['id']\n",
    "            else:\n",
    "                category_id = categories[category]\n",
    "\n",
    "            try:\n",
    "                username = str(post.author.name)\n",
    "                if username[0:2] == '0x':\n",
    "                    username = username[2:]\n",
    "                profile_pic = post.author.icon_img\n",
    "            except:\n",
    "                username = \"removed\"\n",
    "                profile_pic = \"removed\"\n",
    "\n",
    "            if username not in usernames:\n",
    "                user_data = supabase.table(\"users\").insert({\"username\": username, \"profile_pic\": profile_pic}).execute().data\n",
    "                user_id = user_data[0]['id']\n",
    "            else:\n",
    "                user_id = usernames[username]\n",
    "\n",
    "            post_data = {\n",
    "                \"category_id\": category_id,\n",
    "                \"user_id\": user_id,\n",
    "                \"title\": post.title,\n",
    "                \"body\": post.selftext,\n",
    "                \"url\": post.url,\n",
    "                \"is_nsfw\": post.over_18,\n",
    "                \"reddit_id\": post.name,\n",
    "                \"reddit_upvotes\": post.ups,\n",
    "                \"reddit_downvotes\": post.downs,\n",
    "            }\n",
    "            posts.append(post_data)\n",
    "            posts_result = supabase.table(\"posts\").insert(post_data).execute().data[0]\n",
    "\n",
    "            comments = get_comments(post.comments.list(), comment_reddit_ids, usernames, posts_result)\n",
    "                \n",
    "            supabase.table(\"comments\").insert(comments).execute().data\n",
    "            print(f\"added {len(comments)} comments\")\n",
    "        \n",
    "        print(f\"added {len(posts)} posts\")\n",
    "        print('')\n",
    "        minted_time = time.time()\n",
    "    \n",
    "    time.sleep(1)"
   ]
  },
  {
   "cell_type": "code",
   "execution_count": null,
   "id": "35c3b1a5",
   "metadata": {},
   "outputs": [],
   "source": []
  }
 ],
 "metadata": {
  "kernelspec": {
   "display_name": "Python 3 (ipykernel)",
   "language": "python",
   "name": "python3"
  },
  "language_info": {
   "codemirror_mode": {
    "name": "ipython",
    "version": 3
   },
   "file_extension": ".py",
   "mimetype": "text/x-python",
   "name": "python",
   "nbconvert_exporter": "python",
   "pygments_lexer": "ipython3",
   "version": "3.9.12"
  },
  "vscode": {
   "interpreter": {
    "hash": "f90a51316803318f0b952c570a4fe32d53aa73ff3300e1da5777ab9e91b8249c"
   }
  }
 },
 "nbformat": 4,
 "nbformat_minor": 5
}
