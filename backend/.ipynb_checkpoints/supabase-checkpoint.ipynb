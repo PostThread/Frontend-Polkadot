{
 "cells": [
  {
   "cell_type": "code",
   "execution_count": 1,
   "id": "bc60b8a7",
   "metadata": {
    "scrolled": true
   },
   "outputs": [],
   "source": [
    "import os, json\n",
    "from supabase import create_client, Client\n",
    "\n",
    "creds = json.load(open(\".db-creds.json\"))\n",
    "\n",
    "url = creds[\"SUPABASE_URL\"]\n",
    "key = creds[\"SUPABASE_KEY\"]\n",
    "supabase = create_client(url, key)"
   ]
  },
  {
   "cell_type": "code",
   "execution_count": 31,
   "id": "98f3afc7",
   "metadata": {},
   "outputs": [],
   "source": [
    "t = supabase.table(\"posts\")"
   ]
  },
  {
   "cell_type": "code",
   "execution_count": null,
   "id": "1738473e",
   "metadata": {},
   "outputs": [],
   "source": [
    "data = supabase.table(\"posts\").update({\"minted\": True}).eq(\"id\", post_id).execute()"
   ]
  },
  {
   "cell_type": "code",
   "execution_count": null,
   "id": "1f76fdf9",
   "metadata": {},
   "outputs": [],
   "source": [
    "t."
   ]
  },
  {
   "cell_type": "code",
   "execution_count": 10,
   "id": "94efa7c1",
   "metadata": {},
   "outputs": [],
   "source": [
    "t = supabase.table(\"posts\").select(\"id, categories(name)\")."
   ]
  },
  {
   "cell_type": "code",
   "execution_count": 29,
   "id": "ed75b174",
   "metadata": {
    "scrolled": true
   },
   "outputs": [
    {
     "data": {
      "text/plain": [
       "[{'id': 119,\n",
       "  'created_at': '2022-08-05T03:00:45.655687+00:00',\n",
       "  'reddit_upvotes': 90,\n",
       "  'categories': {'name': 'ukraine'}},\n",
       " {'id': 118,\n",
       "  'created_at': '2022-08-05T03:00:37.551744+00:00',\n",
       "  'reddit_upvotes': 89,\n",
       "  'categories': {'name': 'BeforeNAfterAdoption'}},\n",
       " {'id': 121,\n",
       "  'created_at': '2022-08-05T03:01:52.379035+00:00',\n",
       "  'reddit_upvotes': 87,\n",
       "  'categories': {'name': 'AvatarMemes'}},\n",
       " {'id': 122,\n",
       "  'created_at': '2022-08-05T03:01:58.580631+00:00',\n",
       "  'reddit_upvotes': 85,\n",
       "  'categories': {'name': 'Superstonk'}},\n",
       " {'id': 120,\n",
       "  'created_at': '2022-08-05T03:00:55.496331+00:00',\n",
       "  'reddit_upvotes': 85,\n",
       "  'categories': {'name': 'baseball'}}]"
      ]
     },
     "execution_count": 29,
     "metadata": {},
     "output_type": "execute_result"
    }
   ],
   "source": [
    "# Get top posts\n",
    "supabase.table(\"posts\").select(\"id, created_at, reddit_upvotes, categories(name)\") \\\n",
    "        .order(\"reddit_upvotes\", desc=True).gt(\"created_at\", \"2022-08-05T03:00:21\").range(0,5).execute().data"
   ]
  },
  {
   "cell_type": "code",
   "execution_count": 30,
   "id": "f6e70ffd",
   "metadata": {},
   "outputs": [
    {
     "data": {
      "text/plain": [
       "[{'id': 197,\n",
       "  'created_at': '2022-08-05T03:58:21.558577+00:00',\n",
       "  'reddit_upvotes': 33,\n",
       "  'categories': {'name': 'conspiracy'}},\n",
       " {'id': 196,\n",
       "  'created_at': '2022-08-05T03:58:17.539683+00:00',\n",
       "  'reddit_upvotes': 35,\n",
       "  'categories': {'name': 'tumblr'}},\n",
       " {'id': 195,\n",
       "  'created_at': '2022-08-05T03:58:06.270918+00:00',\n",
       "  'reddit_upvotes': 36,\n",
       "  'categories': {'name': 'memes'}},\n",
       " {'id': 194,\n",
       "  'created_at': '2022-08-05T03:57:51.471846+00:00',\n",
       "  'reddit_upvotes': 34,\n",
       "  'categories': {'name': 'spaceporn'}},\n",
       " {'id': 193,\n",
       "  'created_at': '2022-08-05T03:57:34.243619+00:00',\n",
       "  'reddit_upvotes': 35,\n",
       "  'categories': {'name': 'MadeMeSmile'}}]"
      ]
     },
     "execution_count": 30,
     "metadata": {},
     "output_type": "execute_result"
    }
   ],
   "source": [
    "# Get recent posts\n",
    "supabase.table(\"posts\").select(\"id, created_at, reddit_upvotes, categories(name)\") \\\n",
    "        .order(\"created_at\", desc=True).gt(\"created_at\", \"2022-08-05T03:00:21\").range(0,5).execute().data"
   ]
  },
  {
   "cell_type": "code",
   "execution_count": null,
   "id": "08b1cb60",
   "metadata": {},
   "outputs": [],
   "source": []
  },
  {
   "cell_type": "code",
   "execution_count": null,
   "id": "ed073a6a",
   "metadata": {},
   "outputs": [],
   "source": []
  },
  {
   "cell_type": "code",
   "execution_count": null,
   "id": "b47bb2b9",
   "metadata": {},
   "outputs": [],
   "source": []
  },
  {
   "cell_type": "code",
   "execution_count": 38,
   "id": "fae2670d",
   "metadata": {
    "scrolled": true
   },
   "outputs": [
    {
     "data": {
      "text/plain": [
       "[{'reddit_id': None},\n",
       " {'reddit_id': None},\n",
       " {'reddit_id': None},\n",
       " {'reddit_id': None},\n",
       " {'reddit_id': None},\n",
       " {'reddit_id': None}]"
      ]
     },
     "execution_count": 38,
     "metadata": {},
     "output_type": "execute_result"
    }
   ],
   "source": [
    "data = supabase.table(\"post\").select(\"reddit_id\").execute()\n",
    "# Assert we pulled real data.\n",
    "data.data"
   ]
  },
  {
   "cell_type": "code",
   "execution_count": 35,
   "id": "8e483fb0",
   "metadata": {
    "scrolled": true
   },
   "outputs": [],
   "source": [
    "data = supabase.table(\"post\").insert({\"body\":\"test\"}).execute()"
   ]
  },
  {
   "cell_type": "code",
   "execution_count": 37,
   "id": "2b136178",
   "metadata": {},
   "outputs": [
    {
     "data": {
      "text/plain": [
       "[{'id': 14,\n",
       "  'created_at': '2022-08-04T21:39:15.459057+00:00',\n",
       "  'title': None,\n",
       "  'body': 'test',\n",
       "  'image': None,\n",
       "  'user_id': None,\n",
       "  'category_id': None}]"
      ]
     },
     "execution_count": 37,
     "metadata": {},
     "output_type": "execute_result"
    }
   ],
   "source": [
    "data.data"
   ]
  },
  {
   "cell_type": "code",
   "execution_count": 32,
   "id": "1ca6cc92",
   "metadata": {},
   "outputs": [
    {
     "name": "stderr",
     "output_type": "stream",
     "text": [
      "ERROR: Could not find a version that satisfies the requirement pip3 (from versions: none)\n",
      "ERROR: No matching distribution found for pip3\n",
      "WARNING: There was an error checking the latest version of pip.\n"
     ]
    }
   ],
   "source": [
    "!pip install pip3 install realtime==0.1.1a0"
   ]
  },
  {
   "cell_type": "code",
   "execution_count": 38,
   "id": "0485a50c",
   "metadata": {
    "scrolled": true
   },
   "outputs": [
    {
     "ename": "RuntimeError",
     "evalue": "This event loop is already running",
     "output_type": "error",
     "traceback": [
      "\u001b[1;31m---------------------------------------------------------------------------\u001b[0m",
      "\u001b[1;31mRuntimeError\u001b[0m                              Traceback (most recent call last)",
      "Input \u001b[1;32mIn [38]\u001b[0m, in \u001b[0;36m<cell line: 11>\u001b[1;34m()\u001b[0m\n\u001b[0;32m      9\u001b[0m URL \u001b[38;5;241m=\u001b[39m \u001b[38;5;124mf\u001b[39m\u001b[38;5;124m\"\u001b[39m\u001b[38;5;124mwss://\u001b[39m\u001b[38;5;132;01m{\u001b[39;00mSUPABASE_ID\u001b[38;5;132;01m}\u001b[39;00m\u001b[38;5;124m.supabase.co/realtime/v1/websocket?apikey=\u001b[39m\u001b[38;5;132;01m{\u001b[39;00mkey\u001b[38;5;132;01m}\u001b[39;00m\u001b[38;5;124m&vsn=1.0.0\u001b[39m\u001b[38;5;124m\"\u001b[39m\n\u001b[0;32m     10\u001b[0m s \u001b[38;5;241m=\u001b[39m Socket(URL)\n\u001b[1;32m---> 11\u001b[0m \u001b[43ms\u001b[49m\u001b[38;5;241;43m.\u001b[39;49m\u001b[43mconnect\u001b[49m\u001b[43m(\u001b[49m\u001b[43m)\u001b[49m\n\u001b[0;32m     13\u001b[0m channel_1 \u001b[38;5;241m=\u001b[39m s\u001b[38;5;241m.\u001b[39mset_channel(\u001b[38;5;124m\"\u001b[39m\u001b[38;5;124mrealtime:*\u001b[39m\u001b[38;5;124m\"\u001b[39m)\n\u001b[0;32m     14\u001b[0m channel_1\u001b[38;5;241m.\u001b[39mjoin()\u001b[38;5;241m.\u001b[39mon(\u001b[38;5;124m\"\u001b[39m\u001b[38;5;124mUPDATE\u001b[39m\u001b[38;5;124m\"\u001b[39m, callback1)\n",
      "File \u001b[1;32m~\\AppData\\Local\\Programs\\Python\\Python39\\lib\\site-packages\\realtime\\connection.py:83\u001b[0m, in \u001b[0;36mSocket.connect\u001b[1;34m(self)\u001b[0m\n\u001b[0;32m     79\u001b[0m \u001b[38;5;124;03m\"\"\"\u001b[39;00m\n\u001b[0;32m     80\u001b[0m \u001b[38;5;124;03mWrapper for async def _connect() to expose a non-async interface\u001b[39;00m\n\u001b[0;32m     81\u001b[0m \u001b[38;5;124;03m\"\"\"\u001b[39;00m\n\u001b[0;32m     82\u001b[0m loop \u001b[38;5;241m=\u001b[39m asyncio\u001b[38;5;241m.\u001b[39mget_event_loop()  \u001b[38;5;66;03m# TODO: replace with get_running\u001b[39;00m\n\u001b[1;32m---> 83\u001b[0m \u001b[43mloop\u001b[49m\u001b[38;5;241;43m.\u001b[39;49m\u001b[43mrun_until_complete\u001b[49m\u001b[43m(\u001b[49m\u001b[38;5;28;43mself\u001b[39;49m\u001b[38;5;241;43m.\u001b[39;49m\u001b[43m_connect\u001b[49m\u001b[43m(\u001b[49m\u001b[43m)\u001b[49m\u001b[43m)\u001b[49m\n\u001b[0;32m     84\u001b[0m \u001b[38;5;28mself\u001b[39m\u001b[38;5;241m.\u001b[39mconnected \u001b[38;5;241m=\u001b[39m \u001b[38;5;28;01mTrue\u001b[39;00m\n",
      "File \u001b[1;32m~\\AppData\\Local\\Programs\\Python\\Python39\\lib\\asyncio\\base_events.py:623\u001b[0m, in \u001b[0;36mBaseEventLoop.run_until_complete\u001b[1;34m(self, future)\u001b[0m\n\u001b[0;32m    612\u001b[0m \u001b[38;5;124;03m\"\"\"Run until the Future is done.\u001b[39;00m\n\u001b[0;32m    613\u001b[0m \n\u001b[0;32m    614\u001b[0m \u001b[38;5;124;03mIf the argument is a coroutine, it is wrapped in a Task.\u001b[39;00m\n\u001b[1;32m   (...)\u001b[0m\n\u001b[0;32m    620\u001b[0m \u001b[38;5;124;03mReturn the Future's result, or raise its exception.\u001b[39;00m\n\u001b[0;32m    621\u001b[0m \u001b[38;5;124;03m\"\"\"\u001b[39;00m\n\u001b[0;32m    622\u001b[0m \u001b[38;5;28mself\u001b[39m\u001b[38;5;241m.\u001b[39m_check_closed()\n\u001b[1;32m--> 623\u001b[0m \u001b[38;5;28;43mself\u001b[39;49m\u001b[38;5;241;43m.\u001b[39;49m\u001b[43m_check_running\u001b[49m\u001b[43m(\u001b[49m\u001b[43m)\u001b[49m\n\u001b[0;32m    625\u001b[0m new_task \u001b[38;5;241m=\u001b[39m \u001b[38;5;129;01mnot\u001b[39;00m futures\u001b[38;5;241m.\u001b[39misfuture(future)\n\u001b[0;32m    626\u001b[0m future \u001b[38;5;241m=\u001b[39m tasks\u001b[38;5;241m.\u001b[39mensure_future(future, loop\u001b[38;5;241m=\u001b[39m\u001b[38;5;28mself\u001b[39m)\n",
      "File \u001b[1;32m~\\AppData\\Local\\Programs\\Python\\Python39\\lib\\asyncio\\base_events.py:583\u001b[0m, in \u001b[0;36mBaseEventLoop._check_running\u001b[1;34m(self)\u001b[0m\n\u001b[0;32m    581\u001b[0m \u001b[38;5;28;01mdef\u001b[39;00m \u001b[38;5;21m_check_running\u001b[39m(\u001b[38;5;28mself\u001b[39m):\n\u001b[0;32m    582\u001b[0m     \u001b[38;5;28;01mif\u001b[39;00m \u001b[38;5;28mself\u001b[39m\u001b[38;5;241m.\u001b[39mis_running():\n\u001b[1;32m--> 583\u001b[0m         \u001b[38;5;28;01mraise\u001b[39;00m \u001b[38;5;167;01mRuntimeError\u001b[39;00m(\u001b[38;5;124m'\u001b[39m\u001b[38;5;124mThis event loop is already running\u001b[39m\u001b[38;5;124m'\u001b[39m)\n\u001b[0;32m    584\u001b[0m     \u001b[38;5;28;01mif\u001b[39;00m events\u001b[38;5;241m.\u001b[39m_get_running_loop() \u001b[38;5;129;01mis\u001b[39;00m \u001b[38;5;129;01mnot\u001b[39;00m \u001b[38;5;28;01mNone\u001b[39;00m:\n\u001b[0;32m    585\u001b[0m         \u001b[38;5;28;01mraise\u001b[39;00m \u001b[38;5;167;01mRuntimeError\u001b[39;00m(\n\u001b[0;32m    586\u001b[0m             \u001b[38;5;124m'\u001b[39m\u001b[38;5;124mCannot run the event loop while another loop is running\u001b[39m\u001b[38;5;124m'\u001b[39m)\n",
      "\u001b[1;31mRuntimeError\u001b[0m: This event loop is already running"
     ]
    }
   ],
   "source": [
    "from realtime.connection import Socket\n",
    "\n",
    "SUPABASE_ID = creds[\"SUPABASE_ID\"]\n",
    "\n",
    "\n",
    "def callback1(payload):\n",
    "    print(\"Callback 1: \", payload)\n",
    "\n",
    "URL = f\"wss://{SUPABASE_ID}.supabase.co/realtime/v1/websocket?apikey={key}&vsn=1.0.0\"\n",
    "s = Socket(URL)\n",
    "s.connect()\n",
    "\n",
    "channel_1 = s.set_channel(\"realtime:*\")\n",
    "channel_1.join().on(\"UPDATE\", callback1)\n",
    "s.listen()"
   ]
  },
  {
   "cell_type": "code",
   "execution_count": null,
   "id": "0e4b4376",
   "metadata": {},
   "outputs": [],
   "source": []
  },
  {
   "cell_type": "code",
   "execution_count": null,
   "id": "aadd7aaa",
   "metadata": {},
   "outputs": [],
   "source": []
  },
  {
   "cell_type": "code",
   "execution_count": null,
   "id": "a4780b1b",
   "metadata": {},
   "outputs": [],
   "source": []
  }
 ],
 "metadata": {
  "kernelspec": {
   "display_name": "Python 3 (ipykernel)",
   "language": "python",
   "name": "python3"
  },
  "language_info": {
   "codemirror_mode": {
    "name": "ipython",
    "version": 3
   },
   "file_extension": ".py",
   "mimetype": "text/x-python",
   "name": "python",
   "nbconvert_exporter": "python",
   "pygments_lexer": "ipython3",
   "version": "3.9.12"
  }
 },
 "nbformat": 4,
 "nbformat_minor": 5
}
