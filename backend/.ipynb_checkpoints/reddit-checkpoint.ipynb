{
 "cells": [
  {
   "cell_type": "code",
   "execution_count": 1,
   "id": "c02729b4",
   "metadata": {},
   "outputs": [],
   "source": [
    "%load_ext autoreload\n",
    "%autoreload 2"
   ]
  },
  {
   "cell_type": "code",
   "execution_count": 2,
   "id": "4298de95",
   "metadata": {},
   "outputs": [],
   "source": [
    "import os, json\n",
    "import pandas as pd\n",
    "import subprocess\n",
    "import time\n",
    "from random import sample\n",
    "from os import listdir\n",
    "from os.path import isfile, join\n",
    "import re\n",
    "import praw\n",
    "from supabase import create_client, Client\n",
    "import random"
   ]
  },
  {
   "cell_type": "code",
   "execution_count": 3,
   "id": "a025eb7f",
   "metadata": {},
   "outputs": [],
   "source": [
    "creds = json.load(open(\".db-creds.json\"))\n",
    "\n",
    "url = creds[\"SUPABASE_URL\"]\n",
    "key = creds[\"SUPABASE_KEY\"]\n",
    "supabase = create_client(url, key)"
   ]
  },
  {
   "cell_type": "code",
   "execution_count": 4,
   "id": "780ca96b",
   "metadata": {
    "scrolled": true
   },
   "outputs": [],
   "source": [
    "reddit_creds = json.load(open(\".reddit_creds.json\", \"r\"))\n",
    "reddit = praw.Reddit(\n",
    "    client_id=reddit_creds[\"client_id\"],\n",
    "    client_secret=reddit_creds[\"client_secret\"],\n",
    "    password=reddit_creds[\"password\"],\n",
    "    user_agent=reddit_creds[\"user_agent\"],\n",
    "    username=reddit_creds[\"username\"],\n",
    ")"
   ]
  },
  {
   "cell_type": "code",
   "execution_count": 5,
   "id": "32f8566f",
   "metadata": {},
   "outputs": [],
   "source": [
    "r_all = reddit.subreddit('all')"
   ]
  },
  {
   "cell_type": "code",
   "execution_count": 24,
   "id": "afdb74a4",
   "metadata": {},
   "outputs": [],
   "source": [
    "def get_comment_data(comment, usernames, posts_result):    \n",
    "    try:\n",
    "        username = str(comment.author.name)\n",
    "        if username[0:2] == '0x':\n",
    "            username = username[2:]\n",
    "        profile_pic = comment.author.icon_img\n",
    "    except:\n",
    "        username = \"removed\"\n",
    "        profile_pic = \"removed\"\n",
    "\n",
    "    if username not in usernames:\n",
    "        user_db_data = {\n",
    "            \"reddit_username\": username, \n",
    "            \"profile_pic\": profile_pic\n",
    "        }\n",
    "        user_data = supabase.table(\"users\").insert(user_db_data).execute().data\n",
    "        usernames.update({user_data[0]['reddit_username']: user_data[0]['id']})\n",
    "        user_id = user_data[0]['id']\n",
    "    else:\n",
    "        user_id = usernames[username]\n",
    "\n",
    "    comment_data = {\n",
    "        \"post_id\": posts_result[\"id\"],\n",
    "        \"user_id\": user_id,\n",
    "        \"body\": comment.body,\n",
    "        \"depth\": comment.depth,\n",
    "        \"reddit_id\": comment.name,\n",
    "        \"reddit_upvotes\": comment.ups,\n",
    "        \"reddit_downvotes\": comment.downs,\n",
    "    }\n",
    "    return comment_data"
   ]
  },
  {
   "cell_type": "code",
   "execution_count": 29,
   "id": "5a2f6100",
   "metadata": {},
   "outputs": [],
   "source": [
    "def add_comment(comment, comments, comment_reddit_ids, head_comments=None):\n",
    "    if comment.name in comment_reddit_ids:\n",
    "        return\n",
    "\n",
    "    if type(comment) == praw.models.reddit.comment.Comment:\n",
    "        if head_comments is not None:\n",
    "            head_comments.append(comment.name)\n",
    "        comment_data = get_comment_data(comment, usernames, posts_result)\n",
    "        comment_reddit_ids.append(comment_reddit_ids[0]['reddit_id'])\n",
    "        comments.append(comment_data)\n",
    "#     else:\n",
    "#         print(type(comment))\n",
    "#         comments.extend(get_comments(comment.comments(), comment_reddit_ids, usernames, posts_result))"
   ]
  },
  {
   "cell_type": "code",
   "execution_count": 30,
   "id": "bcb893b4",
   "metadata": {},
   "outputs": [],
   "source": [
    "def get_comments(comment_list, comment_reddit_ids, usernames, posts_result):\n",
    "    comments = []\n",
    "    head_comments = []\n",
    "    for comment in comment_list[:10]:\n",
    "        add_comment(comment, comments, comment_reddit_ids, head_comments)\n",
    "    for comment in comment_list[10:]:\n",
    "        if comment.name in head_comments:\n",
    "            add_comment(comment, comments)\n",
    "        \n",
    "    return comments"
   ]
  },
  {
   "cell_type": "code",
   "execution_count": 31,
   "id": "47ed8673",
   "metadata": {},
   "outputs": [],
   "source": [
    "def get_data(table_name, select, initial_len=0):\n",
    "    i = initial_len\n",
    "    prev_len = -1\n",
    "    data = []\n",
    "    while (len(data) - initial_len) % 1000 == 0 and prev_len != len(data):\n",
    "        prev_len = len(data)\n",
    "        data.extend(supabase.table(table_name).select(select).range(i, i+1000).execute().data)\n",
    "        i += 1000\n",
    "    return data"
   ]
  },
  {
   "cell_type": "markdown",
   "id": "665c2f27",
   "metadata": {},
   "source": [
    "# DB writer"
   ]
  },
  {
   "cell_type": "code",
   "execution_count": 28,
   "id": "289ad355",
   "metadata": {
    "scrolled": true
   },
   "outputs": [
    {
     "name": "stdout",
     "output_type": "stream",
     "text": [
      "added 10 comments\n",
      "[{'id': 25264, 'created_at': '2022-08-19T22:13:32.246627+00:00', 'username': None, 'profile_pic': 'https://styles.redditmedia.com/t5_3s0bx6/styles/profileIcon_snoo5436dc05-481f-4021-bfd9-c9f236e44a65-headshot-f.png?width=256&height=256&crop=256:256,smart&s=00e8d72cafd97fca981a49fd874aed4803e19ab2', 'msa_id': None, 'transaction_hash': None, 'wallet_address_personal': None, 'wallet_address_provided': None, 'exp': 0, 'level': 0, 'reddit_airdrop_value': 0, 'reddit_airdrop_claimed': 'not_claimed', 'reddit_username': 'tello8010', 'github_username': None, 'discord_username': None, 'email': None, 'daily_payout_claimed': False, 'exp_to_next_level': 83}]\n",
      "added 4 comments\n",
      "[{'id': 25267, 'created_at': '2022-08-19T22:13:39.742763+00:00', 'username': None, 'profile_pic': 'https://www.redditstatic.com/avatars/defaults/v2/avatar_default_0.png', 'msa_id': None, 'transaction_hash': None, 'wallet_address_personal': None, 'wallet_address_provided': None, 'exp': 0, 'level': 0, 'reddit_airdrop_value': 0, 'reddit_airdrop_claimed': 'not_claimed', 'reddit_username': 'ConsiderationVivid79', 'github_username': None, 'discord_username': None, 'email': None, 'daily_payout_claimed': False, 'exp_to_next_level': 83}]\n",
      "added 10 comments\n",
      "[{'id': 25276, 'created_at': '2022-08-19T22:13:49.248806+00:00', 'username': None, 'profile_pic': 'https://styles.redditmedia.com/t5_44it27/styles/profileIcon_snoo8a1042cd-0181-48ff-b3f0-57879e4eb44b-headshot-f.png?width=256&height=256&crop=256:256,smart&s=dc3bc59a214c075b52b4d16a442f523856e11687', 'msa_id': None, 'transaction_hash': None, 'wallet_address_personal': None, 'wallet_address_provided': None, 'exp': 0, 'level': 0, 'reddit_airdrop_value': 0, 'reddit_airdrop_claimed': 'not_claimed', 'reddit_username': 'FishBugMinecraft', 'github_username': None, 'discord_username': None, 'email': None, 'daily_payout_claimed': False, 'exp_to_next_level': 83}]\n",
      "added 10 comments\n",
      "[{'id': 25287, 'created_at': '2022-08-19T22:13:59.503977+00:00', 'username': None, 'profile_pic': 'https://www.redditstatic.com/avatars/defaults/v2/avatar_default_4.png', 'msa_id': None, 'transaction_hash': None, 'wallet_address_personal': None, 'wallet_address_provided': None, 'exp': 0, 'level': 0, 'reddit_airdrop_value': 0, 'reddit_airdrop_claimed': 'not_claimed', 'reddit_username': 'jonplackett', 'github_username': None, 'discord_username': None, 'email': None, 'daily_payout_claimed': False, 'exp_to_next_level': 83}]\n",
      "added 5 comments\n",
      "[{'id': 25293, 'created_at': '2022-08-19T22:14:07.467878+00:00', 'username': None, 'profile_pic': 'https://styles.redditmedia.com/t5_2oi4xq/styles/profileIcon_snoof3cc3ea1-32aa-4044-bf46-73067a6ad0ee-headshot.png?width=256&height=256&crop=256:256,smart&s=9649653b97ddd3e8cfe7f9c67dfb7cb76591e269', 'msa_id': None, 'transaction_hash': None, 'wallet_address_personal': None, 'wallet_address_provided': None, 'exp': 0, 'level': 0, 'reddit_airdrop_value': 0, 'reddit_airdrop_claimed': 'not_claimed', 'reddit_username': 'TinyStrawberry23', 'github_username': None, 'discord_username': None, 'email': None, 'daily_payout_claimed': False, 'exp_to_next_level': 83}]\n",
      "added 4 comments\n",
      "[{'id': 25296, 'created_at': '2022-08-19T22:14:14.478604+00:00', 'username': None, 'profile_pic': 'https://styles.redditmedia.com/t5_25hif4/styles/profileIcon_snooca4ac999-54a8-415a-a859-d9f78338dcb2-headshot.png?width=256&height=256&crop=256:256,smart&s=e3e803395826811851019597eb4984bc34c67390', 'msa_id': None, 'transaction_hash': None, 'wallet_address_personal': None, 'wallet_address_provided': None, 'exp': 0, 'level': 0, 'reddit_airdrop_value': 0, 'reddit_airdrop_claimed': 'not_claimed', 'reddit_username': 'Froogle-apollo', 'github_username': None, 'discord_username': None, 'email': None, 'daily_payout_claimed': False, 'exp_to_next_level': 83}]\n",
      "added 10 comments\n",
      "[{'id': 25306, 'created_at': '2022-08-19T22:14:25.268285+00:00', 'username': None, 'profile_pic': 'https://styles.redditmedia.com/t5_vv8fr/styles/profileIcon_snoo-nftv2_bmZ0X2VpcDE1NToxMzdfODA4ZWQzZTIzYWFjNjg1MTI2NTI0YWE0NDE2ZDhlYWViMmU3NjdiOV8zMzE_rare_dca72298-3181-4930-aeee-37a48f4cb109-headshot.png?width=256&height=256&crop=256:256,smart&s=e399dc6f846b52c1d7f7ae6b011a8321a595c912', 'msa_id': None, 'transaction_hash': None, 'wallet_address_personal': None, 'wallet_address_provided': None, 'exp': 0, 'level': 0, 'reddit_airdrop_value': 0, 'reddit_airdrop_claimed': 'not_claimed', 'reddit_username': 'mEHple_bEHcon', 'github_username': None, 'discord_username': None, 'email': None, 'daily_payout_claimed': False, 'exp_to_next_level': 83}]\n",
      "added 10 comments\n",
      "[{'id': 25316, 'created_at': '2022-08-19T22:14:36.808527+00:00', 'username': None, 'profile_pic': 'https://www.redditstatic.com/avatars/defaults/v2/avatar_default_7.png', 'msa_id': None, 'transaction_hash': None, 'wallet_address_personal': None, 'wallet_address_provided': None, 'exp': 0, 'level': 0, 'reddit_airdrop_value': 0, 'reddit_airdrop_claimed': 'not_claimed', 'reddit_username': 'Currymvp2', 'github_username': None, 'discord_username': None, 'email': None, 'daily_payout_claimed': False, 'exp_to_next_level': 83}]\n",
      "added 10 comments\n",
      "[{'id': 25325, 'created_at': '2022-08-19T22:14:46.991236+00:00', 'username': None, 'profile_pic': 'https://styles.redditmedia.com/t5_am68p/styles/profileIcon_snoo0ef75ca3-55ac-4a41-a6d4-c08056e583a3-headshot.png?width=256&height=256&crop=256:256,smart&s=6657c73c1fc2cc4dfc94799d4d38f4167913d208', 'msa_id': None, 'transaction_hash': None, 'wallet_address_personal': None, 'wallet_address_provided': None, 'exp': 0, 'level': 0, 'reddit_airdrop_value': 0, 'reddit_airdrop_claimed': 'not_claimed', 'reddit_username': 'RubyTuesday123', 'github_username': None, 'discord_username': None, 'email': None, 'daily_payout_claimed': False, 'exp_to_next_level': 83}]\n",
      "added 2 comments\n",
      "added 10 posts\n",
      "\n",
      "[{'id': 25328, 'created_at': '2022-08-19T22:44:56.73843+00:00', 'username': None, 'profile_pic': 'https://styles.redditmedia.com/t5_5qx1jv/styles/profileIcon_snoo5a3ef0bf-d245-41ed-a39e-d2f61b6db728-headshot.png?width=256&height=256&crop=256:256,smart&s=a148b555bafcc0c8745622f6597a5490e8b5d48f', 'msa_id': None, 'transaction_hash': None, 'wallet_address_personal': None, 'wallet_address_provided': None, 'exp': 0, 'level': 0, 'reddit_airdrop_value': 0, 'reddit_airdrop_claimed': 'not_claimed', 'reddit_username': 'butterfly0848', 'github_username': None, 'discord_username': None, 'email': None, 'daily_payout_claimed': False, 'exp_to_next_level': 83}]\n",
      "added 10 comments\n",
      "[{'id': 25338, 'created_at': '2022-08-19T22:45:10.963621+00:00', 'username': None, 'profile_pic': 'https://styles.redditmedia.com/t5_30m3j9/styles/profileIcon_snoo1c050b71-3832-4f69-bf41-af110932e9f0-headshot.png?width=256&height=256&crop=256:256,smart&s=e99bac0fec4e97e5fecdb1b542d1e28128c26256', 'msa_id': None, 'transaction_hash': None, 'wallet_address_personal': None, 'wallet_address_provided': None, 'exp': 0, 'level': 0, 'reddit_airdrop_value': 0, 'reddit_airdrop_claimed': 'not_claimed', 'reddit_username': 'DrinnoTTV', 'github_username': None, 'discord_username': None, 'email': None, 'daily_payout_claimed': False, 'exp_to_next_level': 83}]\n",
      "added 10 comments\n",
      "[{'id': 25342, 'created_at': '2022-08-19T22:45:20.206188+00:00', 'username': None, 'profile_pic': 'https://styles.redditmedia.com/t5_55hy5n/styles/profileIcon_snoob8d54cbd-5079-4b43-a601-609eddfc8bf2-headshot.png?width=256&height=256&crop=256:256,smart&s=3d1087f0067c94cba2c59dd6b0eb5a762351b2eb', 'msa_id': None, 'transaction_hash': None, 'wallet_address_personal': None, 'wallet_address_provided': None, 'exp': 0, 'level': 0, 'reddit_airdrop_value': 0, 'reddit_airdrop_claimed': 'not_claimed', 'reddit_username': 'Mignonsg5', 'github_username': None, 'discord_username': None, 'email': None, 'daily_payout_claimed': False, 'exp_to_next_level': 83}]\n",
      "added 10 comments\n",
      "[{'id': 25353, 'created_at': '2022-08-19T22:45:31.323529+00:00', 'username': None, 'profile_pic': 'https://styles.redditmedia.com/t5_3xrmoi/styles/profileIcon_snoo4a512c52-f14e-4a69-8f21-27276f3dd48a-headshot.png?width=256&height=256&crop=256:256,smart&s=e2b7508cff24e78333c84dba1fead2814923b4aa', 'msa_id': None, 'transaction_hash': None, 'wallet_address_personal': None, 'wallet_address_provided': None, 'exp': 0, 'level': 0, 'reddit_airdrop_value': 0, 'reddit_airdrop_claimed': 'not_claimed', 'reddit_username': 'itsfucklechuck', 'github_username': None, 'discord_username': None, 'email': None, 'daily_payout_claimed': False, 'exp_to_next_level': 83}]\n"
     ]
    },
    {
     "name": "stdout",
     "output_type": "stream",
     "text": [
      "added 10 comments\n",
      "[{'id': 25363, 'created_at': '2022-08-19T22:45:41.765608+00:00', 'username': None, 'profile_pic': 'https://styles.redditmedia.com/t5_560x63/styles/profileIcon_snoob5a8529a-2f32-417d-a210-1f7e94e7f79e-headshot.png?width=256&height=256&crop=256:256,smart&s=40ee36c98bf216e1032d9b3d003b546ad0375030', 'msa_id': None, 'transaction_hash': None, 'wallet_address_personal': None, 'wallet_address_provided': None, 'exp': 0, 'level': 0, 'reddit_airdrop_value': 0, 'reddit_airdrop_claimed': 'not_claimed', 'reddit_username': 'RareDestroyer8', 'github_username': None, 'discord_username': None, 'email': None, 'daily_payout_claimed': False, 'exp_to_next_level': 83}]\n",
      "added 10 comments\n",
      "[{'id': 25373, 'created_at': '2022-08-19T22:45:52.369822+00:00', 'username': None, 'profile_pic': 'https://www.redditstatic.com/avatars/defaults/v2/avatar_default_2.png', 'msa_id': None, 'transaction_hash': None, 'wallet_address_personal': None, 'wallet_address_provided': None, 'exp': 0, 'level': 0, 'reddit_airdrop_value': 0, 'reddit_airdrop_claimed': 'not_claimed', 'reddit_username': 'grey9802', 'github_username': None, 'discord_username': None, 'email': None, 'daily_payout_claimed': False, 'exp_to_next_level': 83}]\n",
      "added 10 comments\n",
      "[{'id': 25383, 'created_at': '2022-08-19T22:46:03.08988+00:00', 'username': None, 'profile_pic': 'https://www.redditstatic.com/avatars/defaults/v2/avatar_default_6.png', 'msa_id': None, 'transaction_hash': None, 'wallet_address_personal': None, 'wallet_address_provided': None, 'exp': 0, 'level': 0, 'reddit_airdrop_value': 0, 'reddit_airdrop_claimed': 'not_claimed', 'reddit_username': 'Bishopward', 'github_username': None, 'discord_username': None, 'email': None, 'daily_payout_claimed': False, 'exp_to_next_level': 83}]\n",
      "added 8 comments\n",
      "[{'id': 25392, 'created_at': '2022-08-19T22:46:12.662938+00:00', 'username': None, 'profile_pic': 'https://styles.redditmedia.com/t5_dt98u/styles/profileIcon_snoo-nftv2_bmZ0X2VpcDE1NToxMzdfNDY2YTMzMDg4N2JkZjYyZDUzZjk2OGVhODI0NzkzMTUwZjA3NzYyZV83NTE_rare_feb5c17a-d892-49a0-bb63-603cb603987e-headshot.png?width=256&height=256&crop=256:256,smart&s=1dcb85ffdf1e62d743e56b2182a8a5154e3018b3', 'msa_id': None, 'transaction_hash': None, 'wallet_address_personal': None, 'wallet_address_provided': None, 'exp': 0, 'level': 0, 'reddit_airdrop_value': 0, 'reddit_airdrop_claimed': 'not_claimed', 'reddit_username': 'Jufloz', 'github_username': None, 'discord_username': None, 'email': None, 'daily_payout_claimed': False, 'exp_to_next_level': 83}]\n",
      "added 10 comments\n",
      "[{'id': 25402, 'created_at': '2022-08-19T22:46:23.113031+00:00', 'username': None, 'profile_pic': 'https://styles.redditmedia.com/t5_c915d/styles/profileIcon_snooab20c513-2882-4c00-9ae6-c72a2fb04fb4-headshot-f.png?width=256&height=256&crop=256:256,smart&s=bfed2977ba6679d431bf6ce60ec84285200e68ed', 'msa_id': None, 'transaction_hash': None, 'wallet_address_personal': None, 'wallet_address_provided': None, 'exp': 0, 'level': 0, 'reddit_airdrop_value': 0, 'reddit_airdrop_claimed': 'not_claimed', 'reddit_username': 'wolfully', 'github_username': None, 'discord_username': None, 'email': None, 'daily_payout_claimed': False, 'exp_to_next_level': 83}]\n",
      "added 5 comments\n",
      "[{'id': 25403, 'created_at': '2022-08-19T22:46:30.563888+00:00', 'username': None, 'profile_pic': 'https://www.redditstatic.com/avatars/defaults/v2/avatar_default_0.png', 'msa_id': None, 'transaction_hash': None, 'wallet_address_personal': None, 'wallet_address_provided': None, 'exp': 0, 'level': 0, 'reddit_airdrop_value': 0, 'reddit_airdrop_claimed': 'not_claimed', 'reddit_username': 'UWCG', 'github_username': None, 'discord_username': None, 'email': None, 'daily_payout_claimed': False, 'exp_to_next_level': 83}]\n",
      "added 10 comments\n",
      "[{'id': 25413, 'created_at': '2022-08-19T22:46:40.56717+00:00', 'username': None, 'profile_pic': 'https://styles.redditmedia.com/t5_gpk7f/styles/profileIcon_snooca4a091f-ebd3-4f58-9659-97508caa9779-headshot-f.png?width=256&height=256&crop=256:256,smart&s=a5c5e3a72b517f3291a572673685c36ec0b7f6bc', 'msa_id': None, 'transaction_hash': None, 'wallet_address_personal': None, 'wallet_address_provided': None, 'exp': 0, 'level': 0, 'reddit_airdrop_value': 0, 'reddit_airdrop_claimed': 'not_claimed', 'reddit_username': 'GreenLeafWest', 'github_username': None, 'discord_username': None, 'email': None, 'daily_payout_claimed': False, 'exp_to_next_level': 83}]\n",
      "added 5 comments\n",
      "added 11 posts\n",
      "\n",
      "[{'id': 25417, 'created_at': '2022-08-19T23:16:51.240943+00:00', 'username': None, 'profile_pic': 'https://styles.redditmedia.com/t5_2kd3jh/styles/profileIcon_snoo6784a041-5306-472a-b99e-f499276ff21a-headshot.png?width=256&height=256&crop=256:256,smart&s=4c63b1d2e46feea8b1dcc197d3137a414977d667', 'msa_id': None, 'transaction_hash': None, 'wallet_address_personal': None, 'wallet_address_provided': None, 'exp': 0, 'level': 0, 'reddit_airdrop_value': 0, 'reddit_airdrop_claimed': 'not_claimed', 'reddit_username': 'Unfair-Swing', 'github_username': None, 'discord_username': None, 'email': None, 'daily_payout_claimed': False, 'exp_to_next_level': 83}]\n",
      "added 10 comments\n",
      "[{'id': 25426, 'created_at': '2022-08-19T23:17:01.807259+00:00', 'username': None, 'profile_pic': 'https://styles.redditmedia.com/t5_3lsfo/styles/profileIcon_snoo8d78f6ba-f565-4444-9a00-3c290cb92a97-headshot-f.png?width=256&height=256&crop=256:256,smart&s=a206075a5c39d4be5af60e727828f1fd7dd7650d', 'msa_id': None, 'transaction_hash': None, 'wallet_address_personal': None, 'wallet_address_provided': None, 'exp': 0, 'level': 0, 'reddit_airdrop_value': 0, 'reddit_airdrop_claimed': 'not_claimed', 'reddit_username': 'solateor', 'github_username': None, 'discord_username': None, 'email': None, 'daily_payout_claimed': False, 'exp_to_next_level': 83}]\n",
      "added 7 comments\n",
      "[{'id': 25434, 'created_at': '2022-08-19T23:17:10.784405+00:00', 'username': None, 'profile_pic': 'https://styles.redditmedia.com/t5_1ucoi6/styles/profileIcon_gs1kqoyr0qn71.png?width=256&height=256&crop=256:256,smart&s=7bde5f4449466e8dbd3c45d24a3216d47d7af119', 'msa_id': None, 'transaction_hash': None, 'wallet_address_personal': None, 'wallet_address_provided': None, 'exp': 0, 'level': 0, 'reddit_airdrop_value': 0, 'reddit_airdrop_claimed': 'not_claimed', 'reddit_username': '5_Frog_Margin', 'github_username': None, 'discord_username': None, 'email': None, 'daily_payout_claimed': False, 'exp_to_next_level': 83}]\n",
      "added 10 comments\n",
      "[{'id': 25444, 'created_at': '2022-08-19T23:17:20.738105+00:00', 'username': None, 'profile_pic': 'https://styles.redditmedia.com/t5_1zqeua/styles/profileIcon_snoob9a61bc7-a7d3-4421-b2c2-50b13b10c0c9-headshot.png?width=256&height=256&crop=256:256,smart&s=7e69408210feb59bc7e1ed2c15aaee7a193326ce', 'msa_id': None, 'transaction_hash': None, 'wallet_address_personal': None, 'wallet_address_provided': None, 'exp': 0, 'level': 0, 'reddit_airdrop_value': 0, 'reddit_airdrop_claimed': 'not_claimed', 'reddit_username': 'Roflkopt3r', 'github_username': None, 'discord_username': None, 'email': None, 'daily_payout_claimed': False, 'exp_to_next_level': 83}]\n",
      "added 7 comments\n",
      "[{'id': 25450, 'created_at': '2022-08-19T23:17:28.910605+00:00', 'username': None, 'profile_pic': 'https://styles.redditmedia.com/t5_3y2w1j/styles/profileIcon_snoo0930a09b-5124-4e5c-a6c6-37c3477ed6ef-headshot.png?width=256&height=256&crop=256:256,smart&s=a066160d6ed6f13da23d864fd610cc5226d125e1', 'msa_id': None, 'transaction_hash': None, 'wallet_address_personal': None, 'wallet_address_provided': None, 'exp': 0, 'level': 0, 'reddit_airdrop_value': 0, 'reddit_airdrop_claimed': 'not_claimed', 'reddit_username': '4GIVEANFORGET', 'github_username': None, 'discord_username': None, 'email': None, 'daily_payout_claimed': False, 'exp_to_next_level': 83}]\n",
      "added 4 comments\n",
      "[{'id': 25451, 'created_at': '2022-08-19T23:17:35.696662+00:00', 'username': None, 'profile_pic': 'https://www.redditstatic.com/avatars/defaults/v2/avatar_default_7.png', 'msa_id': None, 'transaction_hash': None, 'wallet_address_personal': None, 'wallet_address_provided': None, 'exp': 0, 'level': 0, 'reddit_airdrop_value': 0, 'reddit_airdrop_claimed': 'not_claimed', 'reddit_username': 'Angelkrista', 'github_username': None, 'discord_username': None, 'email': None, 'daily_payout_claimed': False, 'exp_to_next_level': 83}]\n"
     ]
    },
    {
     "name": "stdout",
     "output_type": "stream",
     "text": [
      "added 10 comments\n",
      "[{'id': 25462, 'created_at': '2022-08-19T23:17:46.529759+00:00', 'username': None, 'profile_pic': 'https://styles.redditmedia.com/t5_2hpjwi/styles/profileIcon_snoo90a4df14-5a60-473e-ac08-6606bd36fe4b-headshot.png?width=256&height=256&crop=256:256,smart&s=0106cd415591949f091862e7c2464d7453495270', 'msa_id': None, 'transaction_hash': None, 'wallet_address_personal': None, 'wallet_address_provided': None, 'exp': 0, 'level': 0, 'reddit_airdrop_value': 0, 'reddit_airdrop_claimed': 'not_claimed', 'reddit_username': 'Jingles013', 'github_username': None, 'discord_username': None, 'email': None, 'daily_payout_claimed': False, 'exp_to_next_level': 83}]\n",
      "added 8 comments\n",
      "[{'id': 25471, 'created_at': '2022-08-19T23:17:56.19798+00:00', 'username': None, 'profile_pic': 'https://www.redditstatic.com/avatars/defaults/v2/avatar_default_1.png', 'msa_id': None, 'transaction_hash': None, 'wallet_address_personal': None, 'wallet_address_provided': None, 'exp': 0, 'level': 0, 'reddit_airdrop_value': 0, 'reddit_airdrop_claimed': 'not_claimed', 'reddit_username': 'Queenqueg', 'github_username': None, 'discord_username': None, 'email': None, 'daily_payout_claimed': False, 'exp_to_next_level': 83}]\n",
      "added 6 comments\n",
      "[{'id': 25478, 'created_at': '2022-08-19T23:18:04.627778+00:00', 'username': None, 'profile_pic': 'https://styles.redditmedia.com/t5_6cbi34/styles/profileIcon_snoo5bed9177-bb05-401c-9d85-4dad50c72dee-headshot.png?width=256&height=256&crop=256:256,smart&s=8985931ab543fb5bba4aacf0bd467cbfc65cb44b', 'msa_id': None, 'transaction_hash': None, 'wallet_address_personal': None, 'wallet_address_provided': None, 'exp': 0, 'level': 0, 'reddit_airdrop_value': 0, 'reddit_airdrop_claimed': 'not_claimed', 'reddit_username': 'gilligan888', 'github_username': None, 'discord_username': None, 'email': None, 'daily_payout_claimed': False, 'exp_to_next_level': 83}]\n",
      "added 8 comments\n",
      "[{'id': 25486, 'created_at': '2022-08-19T23:18:13.950504+00:00', 'username': None, 'profile_pic': 'https://www.redditstatic.com/avatars/defaults/v2/avatar_default_1.png', 'msa_id': None, 'transaction_hash': None, 'wallet_address_personal': None, 'wallet_address_provided': None, 'exp': 0, 'level': 0, 'reddit_airdrop_value': 0, 'reddit_airdrop_claimed': 'not_claimed', 'reddit_username': 'voodoomvgic', 'github_username': None, 'discord_username': None, 'email': None, 'daily_payout_claimed': False, 'exp_to_next_level': 83}]\n",
      "added 10 comments\n",
      "[{'id': 25497, 'created_at': '2022-08-19T23:18:24.569154+00:00', 'username': None, 'profile_pic': 'https://styles.redditmedia.com/t5_r6tdc/styles/profileIcon_snoo62f8cd3c-ec44-4e46-8b31-f6e8d46abb25-headshot.png?width=256&height=256&crop=256:256,smart&s=873ba407e9237c1fecf7b08373517e3fd748879b', 'msa_id': None, 'transaction_hash': None, 'wallet_address_personal': None, 'wallet_address_provided': None, 'exp': 0, 'level': 0, 'reddit_airdrop_value': 0, 'reddit_airdrop_claimed': 'not_claimed', 'reddit_username': 'melinda2020', 'github_username': None, 'discord_username': None, 'email': None, 'daily_payout_claimed': False, 'exp_to_next_level': 83}]\n",
      "added 10 comments\n",
      "added 11 posts\n",
      "\n"
     ]
    },
    {
     "ename": "APIError",
     "evalue": "{'code': '23505', 'details': 'Key (reddit_id)=(t3_wsrdil) already exists.', 'hint': None, 'message': 'duplicate key value violates unique constraint \"post_reddit_id_key\"'}",
     "output_type": "error",
     "traceback": [
      "\u001b[1;31m---------------------------------------------------------------------------\u001b[0m",
      "\u001b[1;31mValidationError\u001b[0m                           Traceback (most recent call last)",
      "File \u001b[1;32m~\\AppData\\Local\\Programs\\Python\\Python39\\lib\\site-packages\\postgrest\\_sync\\request_builder.py:62\u001b[0m, in \u001b[0;36mSyncQueryRequestBuilder.execute\u001b[1;34m(self)\u001b[0m\n\u001b[0;32m     61\u001b[0m \u001b[38;5;28;01mtry\u001b[39;00m:\n\u001b[1;32m---> 62\u001b[0m     \u001b[38;5;28;01mreturn\u001b[39;00m \u001b[43mAPIResponse\u001b[49m\u001b[38;5;241;43m.\u001b[39;49m\u001b[43mfrom_http_request_response\u001b[49m\u001b[43m(\u001b[49m\u001b[43mr\u001b[49m\u001b[43m)\u001b[49m\n\u001b[0;32m     63\u001b[0m \u001b[38;5;28;01mexcept\u001b[39;00m ValidationError \u001b[38;5;28;01mas\u001b[39;00m e:\n",
      "File \u001b[1;32m~\\AppData\\Local\\Programs\\Python\\Python39\\lib\\site-packages\\postgrest\\base_request_builder.py:156\u001b[0m, in \u001b[0;36mAPIResponse.from_http_request_response\u001b[1;34m(cls, request_response)\u001b[0m\n\u001b[0;32m    155\u001b[0m count \u001b[38;5;241m=\u001b[39m \u001b[38;5;28mcls\u001b[39m\u001b[38;5;241m.\u001b[39m_get_count_from_http_request_response(request_response)\n\u001b[1;32m--> 156\u001b[0m \u001b[38;5;28;01mreturn\u001b[39;00m \u001b[38;5;28;43mcls\u001b[39;49m\u001b[43m(\u001b[49m\u001b[43mdata\u001b[49m\u001b[38;5;241;43m=\u001b[39;49m\u001b[43mdata\u001b[49m\u001b[43m,\u001b[49m\u001b[43m \u001b[49m\u001b[43mcount\u001b[49m\u001b[38;5;241;43m=\u001b[39;49m\u001b[43mcount\u001b[49m\u001b[43m)\u001b[49m\n",
      "File \u001b[1;32m~\\AppData\\Local\\Programs\\Python\\Python39\\lib\\site-packages\\pydantic\\main.py:341\u001b[0m, in \u001b[0;36mpydantic.main.BaseModel.__init__\u001b[1;34m()\u001b[0m\n",
      "\u001b[1;31mValidationError\u001b[0m: 1 validation error for APIResponse\ndata\n  You are passing an API error to the data field. (type=value_error)",
      "\nThe above exception was the direct cause of the following exception:\n",
      "\u001b[1;31mAPIError\u001b[0m                                  Traceback (most recent call last)",
      "Input \u001b[1;32mIn [28]\u001b[0m, in \u001b[0;36m<cell line: 12>\u001b[1;34m()\u001b[0m\n\u001b[0;32m     54\u001b[0m post_data \u001b[38;5;241m=\u001b[39m {\n\u001b[0;32m     55\u001b[0m     \u001b[38;5;124m\"\u001b[39m\u001b[38;5;124mcategory_id\u001b[39m\u001b[38;5;124m\"\u001b[39m: category_id,\n\u001b[0;32m     56\u001b[0m     \u001b[38;5;124m\"\u001b[39m\u001b[38;5;124muser_id\u001b[39m\u001b[38;5;124m\"\u001b[39m: user_id,\n\u001b[1;32m   (...)\u001b[0m\n\u001b[0;32m     63\u001b[0m     \u001b[38;5;124m\"\u001b[39m\u001b[38;5;124mreddit_downvotes\u001b[39m\u001b[38;5;124m\"\u001b[39m: post\u001b[38;5;241m.\u001b[39mdowns,\n\u001b[0;32m     64\u001b[0m }\n\u001b[0;32m     65\u001b[0m posts\u001b[38;5;241m.\u001b[39mappend(post_data)\n\u001b[1;32m---> 66\u001b[0m posts_result \u001b[38;5;241m=\u001b[39m \u001b[43msupabase\u001b[49m\u001b[38;5;241;43m.\u001b[39;49m\u001b[43mtable\u001b[49m\u001b[43m(\u001b[49m\u001b[38;5;124;43m\"\u001b[39;49m\u001b[38;5;124;43mposts\u001b[39;49m\u001b[38;5;124;43m\"\u001b[39;49m\u001b[43m)\u001b[49m\u001b[38;5;241;43m.\u001b[39;49m\u001b[43minsert\u001b[49m\u001b[43m(\u001b[49m\u001b[43mpost_data\u001b[49m\u001b[43m)\u001b[49m\u001b[38;5;241;43m.\u001b[39;49m\u001b[43mexecute\u001b[49m\u001b[43m(\u001b[49m\u001b[43m)\u001b[49m\u001b[38;5;241m.\u001b[39mdata[\u001b[38;5;241m0\u001b[39m]\n\u001b[0;32m     68\u001b[0m comments \u001b[38;5;241m=\u001b[39m get_comments(post\u001b[38;5;241m.\u001b[39mcomments\u001b[38;5;241m.\u001b[39mlist(), comment_reddit_ids, usernames, posts_result)\n\u001b[0;32m     70\u001b[0m supabase\u001b[38;5;241m.\u001b[39mtable(\u001b[38;5;124m\"\u001b[39m\u001b[38;5;124mcomments\u001b[39m\u001b[38;5;124m\"\u001b[39m)\u001b[38;5;241m.\u001b[39minsert(comments)\u001b[38;5;241m.\u001b[39mexecute()\u001b[38;5;241m.\u001b[39mdata\n",
      "File \u001b[1;32m~\\AppData\\Local\\Programs\\Python\\Python39\\lib\\site-packages\\postgrest\\_sync\\request_builder.py:64\u001b[0m, in \u001b[0;36mSyncQueryRequestBuilder.execute\u001b[1;34m(self)\u001b[0m\n\u001b[0;32m     62\u001b[0m     \u001b[38;5;28;01mreturn\u001b[39;00m APIResponse\u001b[38;5;241m.\u001b[39mfrom_http_request_response(r)\n\u001b[0;32m     63\u001b[0m \u001b[38;5;28;01mexcept\u001b[39;00m ValidationError \u001b[38;5;28;01mas\u001b[39;00m e:\n\u001b[1;32m---> 64\u001b[0m     \u001b[38;5;28;01mraise\u001b[39;00m APIError(r\u001b[38;5;241m.\u001b[39mjson()) \u001b[38;5;28;01mfrom\u001b[39;00m \u001b[38;5;21;01me\u001b[39;00m\n",
      "\u001b[1;31mAPIError\u001b[0m: {'code': '23505', 'details': 'Key (reddit_id)=(t3_wsrdil) already exists.', 'hint': None, 'message': 'duplicate key value violates unique constraint \"post_reddit_id_key\"'}"
     ]
    }
   ],
   "source": [
    "minted_time = 0\n",
    "last_block = 0\n",
    "\n",
    "\n",
    "post_reddit_ids = [row['reddit_id'] for row in get_data(\"posts\", 'reddit_id')]\n",
    "comment_reddit_ids = [row['reddit_id'] for row in get_data(\"comments\", \"reddit_id\")]\n",
    "categories = {row['name']: row['id'] for row in get_data(\"categories\", \"id, name\")}\n",
    "usernames = {row['reddit_username']: row['id'] for row in get_data(\"users\", \"id, reddit_username\")}\n",
    "\n",
    "while True:\n",
    "    # Mint reddit posts every hour\n",
    "    if (time.time() - minted_time) / 60 > 30:\n",
    "        post_reddit_ids.extend([row['reddit_id'] for row in get_data(\"posts\", 'reddit_id', len(post_reddit_ids))])\n",
    "        comment_reddit_ids.extend([row['reddit_id'] for row in get_data(\"comments\", \"reddit_id\", len(comment_reddit_ids))])\n",
    "        categories.update({row['name']: row['id'] for row in get_data(\"categories\", \"id, name\", len(categories))})\n",
    "        usernames.update({row['reddit_username']: row['id'] for row in get_data(\"users\", \"id, reddit_username\", len(usernames))})\n",
    "        \n",
    "        posts = []\n",
    "        for i, post in enumerate(r_all.top(time_filter='hour')):\n",
    "            if post.name in post_reddit_ids:\n",
    "                continue\n",
    "                \n",
    "            if i > 10:\n",
    "                continue\n",
    "                     \n",
    "            category = post.subreddit.display_name\n",
    "            if category not in categories:\n",
    "                category_data = supabase.table(\"categories\").insert({\"name\": category}).execute().data\n",
    "                category_id = category_data[0]['id']\n",
    "                categories.update({category_data[0]['name']: category_id})\n",
    "            else:\n",
    "                category_id = categories[category]\n",
    "\n",
    "            try:\n",
    "                username = str(post.author.name)\n",
    "                if username[0:2] == '0x':\n",
    "                    username = username[2:]\n",
    "                profile_pic = post.author.icon_img\n",
    "            except:\n",
    "                username = \"removed\"\n",
    "                profile_pic = \"removed\"\n",
    "\n",
    "            if username not in usernames:\n",
    "                user_db_data = {\n",
    "                    \"reddit_username\": username, \n",
    "                    \"profile_pic\": profile_pic\n",
    "                }\n",
    "                user_data = supabase.table(\"users\").insert(user_db_data).execute().data\n",
    "                usernames.update({user_data[0]['reddit_username']: user_data[0]['id']})\n",
    "                user_id = user_data[0]['id']\n",
    "            else:\n",
    "                user_id = usernames[username]\n",
    "\n",
    "            post_data = {\n",
    "                \"category_id\": category_id,\n",
    "                \"user_id\": user_id,\n",
    "                \"title\": post.title,\n",
    "                \"body\": post.selftext,\n",
    "                \"url\": post.url,\n",
    "                \"is_nsfw\": post.over_18,\n",
    "                \"reddit_id\": post.name,\n",
    "                \"reddit_upvotes\": post.ups,\n",
    "                \"reddit_downvotes\": post.downs,\n",
    "            }\n",
    "            posts.append(post_data)\n",
    "            posts_result = supabase.table(\"posts\").insert(post_data).execute().data[0]\n",
    "            post_reddit_ids.append(user_data[0]['reddit_id'])\n",
    "\n",
    "            comments = get_comments(post.comments.list(), comment_reddit_ids, usernames, posts_result)\n",
    "                \n",
    "            supabase.table(\"comments\").insert(comments).execute().data\n",
    "            print(f\"added {len(comments)} comments\")\n",
    "            \n",
    "            user_ids = list(usernames.values())\n",
    "            follow_ids = random.choices(user_ids, k=min(len(user_ids), 10))\n",
    "            follower_ids = random.choices(user_ids, k=min(len(user_ids), 10))\n",
    "            \n",
    "            for i in follow_ids:\n",
    "                supabase.table(\"follows\").insert({\"follower_id\": user_id, \"following_id\": i}).execute()\n",
    "            for i in follower_ids:\n",
    "                supabase.table(\"follows\").insert({\"follower_id\": i, \"following_id\": user_id}).execute()\n",
    "        \n",
    "        print(f\"added {len(posts)} posts\")\n",
    "        print('')\n",
    "        minted_time = time.time()\n",
    "    \n",
    "    time.sleep(1)"
   ]
  },
  {
   "cell_type": "code",
   "execution_count": null,
   "id": "00f2fe7f",
   "metadata": {},
   "outputs": [],
   "source": []
  },
  {
   "cell_type": "code",
   "execution_count": 22,
   "id": "91b30ef8",
   "metadata": {},
   "outputs": [
    {
     "data": {
      "text/plain": [
       "{'id': 1430,\n",
       " 'created_at': '2022-08-19T00:41:49.490235+00:00',\n",
       " 'title': \"I'm going to have to rethink my idea of decorating a cake as a side gig and stick with my day job.\",\n",
       " 'body': '',\n",
       " 'url': 'https://i.redd.it/mf9lvnfe9ki91.jpg',\n",
       " 'user_id': 24488,\n",
       " 'category_id': 568,\n",
       " 'reddit_id': 't3_wryyxd',\n",
       " 'reddit_upvotes': 144,\n",
       " 'reddit_downvotes': 0,\n",
       " 'is_nsfw': False,\n",
       " 'ipfs_hash': None,\n",
       " 'transaction_hash': None}"
      ]
     },
     "execution_count": 22,
     "metadata": {},
     "output_type": "execute_result"
    }
   ],
   "source": [
    "posts_result"
   ]
  },
  {
   "cell_type": "code",
   "execution_count": 11,
   "id": "35c3b1a5",
   "metadata": {},
   "outputs": [],
   "source": [
    "t = get_data(\"posts\", 'reddit_id', post_reddit_ids)"
   ]
  },
  {
   "cell_type": "code",
   "execution_count": 12,
   "id": "37528e24",
   "metadata": {},
   "outputs": [
    {
     "data": {
      "text/plain": [
       "'t3_wgg1ov'"
      ]
     },
     "execution_count": 12,
     "metadata": {},
     "output_type": "execute_result"
    }
   ],
   "source": [
    "t[0]"
   ]
  },
  {
   "cell_type": "code",
   "execution_count": null,
   "id": "3487d523",
   "metadata": {},
   "outputs": [],
   "source": []
  }
 ],
 "metadata": {
  "kernelspec": {
   "display_name": "Python 3 (ipykernel)",
   "language": "python",
   "name": "python3"
  },
  "language_info": {
   "codemirror_mode": {
    "name": "ipython",
    "version": 3
   },
   "file_extension": ".py",
   "mimetype": "text/x-python",
   "name": "python",
   "nbconvert_exporter": "python",
   "pygments_lexer": "ipython3",
   "version": "3.9.12"
  },
  "vscode": {
   "interpreter": {
    "hash": "f90a51316803318f0b952c570a4fe32d53aa73ff3300e1da5777ab9e91b8249c"
   }
  }
 },
 "nbformat": 4,
 "nbformat_minor": 5
}
