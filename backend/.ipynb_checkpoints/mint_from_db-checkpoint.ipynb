{
 "cells": [
  {
   "cell_type": "code",
   "execution_count": 1,
   "id": "e9db8e63",
   "metadata": {},
   "outputs": [],
   "source": [
    "%load_ext autoreload\n",
    "%autoreload 2"
   ]
  },
  {
   "cell_type": "code",
   "execution_count": 2,
   "id": "63ee0dee",
   "metadata": {},
   "outputs": [
    {
     "name": "stderr",
     "output_type": "stream",
     "text": [
      "C:\\Users\\Mcian\\AppData\\Local\\Programs\\Python\\Python39\\lib\\site-packages\\ipfshttpclient\\client\\__init__.py:75: VersionMismatch: Unsupported daemon version '0.12.2' (not in range: 0.5.0 ≤ … < 0.9.0)\n",
      "  warnings.warn(exceptions.VersionMismatch(version, minimum, maximum))\n"
     ]
    },
    {
     "ename": "AttributeError",
     "evalue": "'Contract' object has no attribute 'createMsaId'",
     "output_type": "error",
     "traceback": [
      "\u001b[1;31m---------------------------------------------------------------------------\u001b[0m",
      "\u001b[1;31mAttributeError\u001b[0m                            Traceback (most recent call last)",
      "Input \u001b[1;32mIn [2]\u001b[0m, in \u001b[0;36m<cell line: 1>\u001b[1;34m()\u001b[0m\n\u001b[1;32m----> 1\u001b[0m \u001b[38;5;28;01mfrom\u001b[39;00m \u001b[38;5;21;01mscripts\u001b[39;00m\u001b[38;5;21;01m.\u001b[39;00m\u001b[38;5;21;01mweb3_helpers\u001b[39;00m \u001b[38;5;28;01mimport\u001b[39;00m \u001b[38;5;241m*\u001b[39m\n",
      "File \u001b[1;32mF:\\web3_messing_around\\PostThread-Polygon\\backend\\scripts\\web3_helpers.py:77\u001b[0m, in \u001b[0;36m<module>\u001b[1;34m\u001b[0m\n\u001b[0;32m     73\u001b[0m             \u001b[38;5;28;01mreturn\u001b[39;00m \u001b[38;5;28;01mNone\u001b[39;00m\n\u001b[0;32m     75\u001b[0m     \u001b[38;5;28;01mreturn\u001b[39;00m msa_id\n\u001b[1;32m---> 77\u001b[0m delegate_msa_id \u001b[38;5;241m=\u001b[39m \u001b[43mget_msa_id\u001b[49m\u001b[43m(\u001b[49m\u001b[43mdelegate\u001b[49m\u001b[43m,\u001b[49m\u001b[43m \u001b[49m\u001b[43mcreate\u001b[49m\u001b[38;5;241;43m=\u001b[39;49m\u001b[38;5;28;43;01mTrue\u001b[39;49;00m\u001b[43m)\u001b[49m\n\u001b[0;32m     78\u001b[0m \u001b[38;5;28mprint\u001b[39m(delegate_msa_id)\n\u001b[0;32m     80\u001b[0m \u001b[38;5;28;01mdef\u001b[39;00m \u001b[38;5;21mcreate_msa_with_delegator\u001b[39m(delegator_wallet, wait_for_inclusion\u001b[38;5;241m=\u001b[39m\u001b[38;5;28;01mTrue\u001b[39;00m, wait_for_finalization\u001b[38;5;241m=\u001b[39m\u001b[38;5;28;01mFalse\u001b[39;00m):\n",
      "File \u001b[1;32mF:\\web3_messing_around\\PostThread-Polygon\\backend\\scripts\\web3_helpers.py:68\u001b[0m, in \u001b[0;36mget_msa_id\u001b[1;34m(wallet, create, wait_for_inclusion, wait_for_finalization)\u001b[0m\n\u001b[0;32m     66\u001b[0m \u001b[38;5;28;01mif\u001b[39;00m msa_id \u001b[38;5;129;01mis\u001b[39;00m \u001b[38;5;28;01mNone\u001b[39;00m:        \n\u001b[0;32m     67\u001b[0m     \u001b[38;5;28;01mif\u001b[39;00m wait_for_inclusion \u001b[38;5;129;01mor\u001b[39;00m wait_for_finalization:\n\u001b[1;32m---> 68\u001b[0m         tx_hash \u001b[38;5;241m=\u001b[39m \u001b[43mpostthread_contract\u001b[49m\u001b[38;5;241;43m.\u001b[39;49m\u001b[43mcreateMsaId\u001b[49m(wallet\u001b[38;5;241m.\u001b[39maddress, from_dict1)\n\u001b[0;32m     69\u001b[0m         tx_hash\u001b[38;5;241m.\u001b[39mwait(\u001b[38;5;241m10\u001b[39m)\n\u001b[0;32m     70\u001b[0m         \u001b[38;5;28;01mreturn\u001b[39;00m postthread_contract\u001b[38;5;241m.\u001b[39mgetMsaId(wallet\u001b[38;5;241m.\u001b[39maddress, from_dict1)\n",
      "\u001b[1;31mAttributeError\u001b[0m: 'Contract' object has no attribute 'createMsaId'"
     ]
    }
   ],
   "source": [
    "from scripts.web3_helpers import *"
   ]
  },
  {
   "cell_type": "code",
   "execution_count": 19,
   "id": "ae9a732b",
   "metadata": {},
   "outputs": [],
   "source": [
    "from web3 import Web3\n",
    "w3 = Web3(Web3.HTTPProvider('HTTP://0.0.0.0:8545'))"
   ]
  },
  {
   "cell_type": "code",
   "execution_count": 4,
   "id": "0a09f8d0",
   "metadata": {},
   "outputs": [],
   "source": [
    "import os, json\n",
    "from supabase import create_client, Client\n",
    "\n",
    "creds = json.load(open(\".db-creds.json\"))\n",
    "\n",
    "url = creds[\"SUPABASE_URL\"]\n",
    "key = creds[\"SUPABASE_KEY\"]\n",
    "supabase = create_client(url, key)"
   ]
  },
  {
   "cell_type": "code",
   "execution_count": 15,
   "id": "b6850414",
   "metadata": {},
   "outputs": [],
   "source": [
    "def get_data(table_name, select, data):\n",
    "    initial_len = len(data)\n",
    "    prev_len = -1\n",
    "    i = 0\n",
    "    while (len(data) - initial_len) % 1000 == 0 and prev_len != len(data):\n",
    "        prev_len = len(data)\n",
    "        data.extend(supabase.table(table_name).select(select).range(i*1000, i*1000 + 1000).execute().data)\n",
    "        i += 1\n",
    "    return data"
   ]
  },
  {
   "cell_type": "code",
   "execution_count": 16,
   "id": "3971855b",
   "metadata": {},
   "outputs": [
    {
     "name": "stdout",
     "output_type": "stream",
     "text": [
      "follows 0 -1\n",
      "votes 0 -1\n"
     ]
    }
   ],
   "source": [
    "post_reddit_ids = get_data(\"posts\", 'reddit_id, ipfs_hash', [])\n",
    "comment_reddit_ids = get_data(\"comments\", \"reddit_id, ipfs_hash\", [])\n",
    "categories = get_data(\"categories\", \"*\", [])\n",
    "users = get_data(\"users\", \"*\", [])\n",
    "follows = get_data(\"follows\", \"*\", [])\n",
    "votes = get_data(\"votes\", \"*\", [])"
   ]
  },
  {
   "cell_type": "code",
   "execution_count": 18,
   "id": "6b0ce427",
   "metadata": {},
   "outputs": [
    {
     "data": {
      "text/plain": [
       "{'reddit_id': 't3_wgg1ov', 'ipfs_hash': None}"
      ]
     },
     "execution_count": 18,
     "metadata": {},
     "output_type": "execute_result"
    }
   ],
   "source": [
    "post_reddit_ids[0]"
   ]
  },
  {
   "cell_type": "code",
   "execution_count": 22,
   "id": "ca38cf50",
   "metadata": {},
   "outputs": [
    {
     "ename": "AttributeError",
     "evalue": "'Web3' object has no attribute 'create_batch'",
     "output_type": "error",
     "traceback": [
      "\u001b[1;31m---------------------------------------------------------------------------\u001b[0m",
      "\u001b[1;31mAttributeError\u001b[0m                            Traceback (most recent call last)",
      "Input \u001b[1;32mIn [22]\u001b[0m, in \u001b[0;36m<cell line: 1>\u001b[1;34m()\u001b[0m\n\u001b[1;32m----> 1\u001b[0m batch \u001b[38;5;241m=\u001b[39m \u001b[43mw3\u001b[49m\u001b[38;5;241;43m.\u001b[39;49m\u001b[43mcreate_batch\u001b[49m()\n",
      "\u001b[1;31mAttributeError\u001b[0m: 'Web3' object has no attribute 'create_batch'"
     ]
    }
   ],
   "source": [
    "batch = w3.create_batch()"
   ]
  },
  {
   "cell_type": "code",
   "execution_count": null,
   "id": "b3dfb0bd",
   "metadata": {},
   "outputs": [],
   "source": [
    "w3."
   ]
  }
 ],
 "metadata": {
  "kernelspec": {
   "display_name": "Python 3 (ipykernel)",
   "language": "python",
   "name": "python3"
  },
  "language_info": {
   "codemirror_mode": {
    "name": "ipython",
    "version": 3
   },
   "file_extension": ".py",
   "mimetype": "text/x-python",
   "name": "python",
   "nbconvert_exporter": "python",
   "pygments_lexer": "ipython3",
   "version": "3.9.12"
  }
 },
 "nbformat": 4,
 "nbformat_minor": 5
}
