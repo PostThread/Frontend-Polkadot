{
 "cells": [
  {
   "cell_type": "code",
   "execution_count": 7,
   "id": "6c7daaf8",
   "metadata": {},
   "outputs": [
    {
     "ename": "ImportError",
     "evalue": "cannot import name 'PostThread' from 'brownie' (C:\\Users\\Mcian\\AppData\\Local\\Programs\\Python\\Python39\\lib\\site-packages\\brownie\\__init__.py)",
     "output_type": "error",
     "traceback": [
      "\u001b[1;31m---------------------------------------------------------------------------\u001b[0m",
      "\u001b[1;31mImportError\u001b[0m                               Traceback (most recent call last)",
      "Input \u001b[1;32mIn [7]\u001b[0m, in \u001b[0;36m<cell line: 2>\u001b[1;34m()\u001b[0m\n\u001b[0;32m      1\u001b[0m \u001b[38;5;28;01mimport\u001b[39;00m \u001b[38;5;21;01mjson\u001b[39;00m\u001b[38;5;241m,\u001b[39m \u001b[38;5;21;01mshutil\u001b[39;00m\n\u001b[1;32m----> 2\u001b[0m \u001b[38;5;28;01mfrom\u001b[39;00m \u001b[38;5;21;01mscripts\u001b[39;00m\u001b[38;5;21;01m.\u001b[39;00m\u001b[38;5;21;01mweb3_helpers\u001b[39;00m \u001b[38;5;28;01mimport\u001b[39;00m \u001b[38;5;241m*\u001b[39m\n\u001b[0;32m      3\u001b[0m \u001b[38;5;28;01mfrom\u001b[39;00m \u001b[38;5;21;01mscripts\u001b[39;00m\u001b[38;5;21;01m.\u001b[39;00m\u001b[38;5;21;01mdatabase_queries\u001b[39;00m \u001b[38;5;28;01mimport\u001b[39;00m update_db\n",
      "File \u001b[1;32mF:\\web3_messing_around\\PostThread-Tron\\backend\\scripts\\web3_helpers.py:10\u001b[0m, in \u001b[0;36m<module>\u001b[1;34m\u001b[0m\n\u001b[0;32m      8\u001b[0m \u001b[38;5;28;01mfrom\u001b[39;00m \u001b[38;5;21;01meth_abi\u001b[39;00m\u001b[38;5;21;01m.\u001b[39;00m\u001b[38;5;21;01mpacked\u001b[39;00m \u001b[38;5;28;01mimport\u001b[39;00m encode_abi_packed\n\u001b[0;32m      9\u001b[0m \u001b[38;5;28;01mfrom\u001b[39;00m \u001b[38;5;21;01meth_utils\u001b[39;00m \u001b[38;5;28;01mimport\u001b[39;00m keccak\n\u001b[1;32m---> 10\u001b[0m \u001b[38;5;28;01mfrom\u001b[39;00m \u001b[38;5;21;01mbrownie\u001b[39;00m \u001b[38;5;28;01mimport\u001b[39;00m network, config, PostThread, accounts\n\u001b[0;32m     12\u001b[0m \u001b[38;5;28;01mfrom\u001b[39;00m \u001b[38;5;21;01mweb3\u001b[39;00m \u001b[38;5;28;01mimport\u001b[39;00m Web3\n\u001b[0;32m     13\u001b[0m w3 \u001b[38;5;241m=\u001b[39m Web3(Web3\u001b[38;5;241m.\u001b[39mHTTPProvider(\u001b[38;5;124m'\u001b[39m\u001b[38;5;124mhttps://bttc.trongrid.io\u001b[39m\u001b[38;5;124m'\u001b[39m))\n",
      "\u001b[1;31mImportError\u001b[0m: cannot import name 'PostThread' from 'brownie' (C:\\Users\\Mcian\\AppData\\Local\\Programs\\Python\\Python39\\lib\\site-packages\\brownie\\__init__.py)"
     ]
    }
   ],
   "source": [
    "import json, shutil\n",
    "from scripts.web3_helpers import *\n",
    "from scripts.database_queries import update_db"
   ]
  },
  {
   "cell_type": "code",
   "execution_count": null,
   "id": "70c6c10e",
   "metadata": {},
   "outputs": [],
   "source": [
    "        shutil.copyfile(\"new_announcements.txt\", \"new_announcements_copy.txt\")\n",
    "        json.dump({}, open(\"new_announcements.txt\", \"w\"))\n",
    "\n",
    "        with open(\"new_announcements_copy.txt\", \"r\") as f:\n",
    "            lines = f.readlines()\n",
    "            for l in lines:\n",
    "                l = json.loads(l)\n",
    "                print(l)\n",
    "#                 if l['type'] == \"follow\":\n",
    "#                     follow_user(l[\"user_msa_id\"], l[\"user_msa_id_to_interact_with\"], is_follow=l[\"is_follow\"])\n",
    "#                 elif l['type'] == \"create_msa_and_mint_user\":\n",
    "#                     create_msa_and_mint_user(l[\"wallet\"], l[\"username\"], l[\"password\"], l[\"profile_pic\"])\n",
    "#                 elif l['type'] == \"mint_data\":\n",
    "#                     if \"path\" in l:\n",
    "#                         mint_data(json.loads(l[\"data\"]), l[\"user_msa_id\"], l[\"schema\"], l[\"path\"])\n",
    "#                     else:\n",
    "#                         mint_data(json.loads(l[\"data\"]), l[\"user_msa_id\"], l[\"schema\"])\n",
    "#                 elif l['type'] == \"transfer\":\n",
    "#                     postthread_contract.functions.transfer(l['wallet'], l[\"value\"]).transact({'from': bob})"
   ]
  },
  {
   "cell_type": "code",
   "execution_count": 5,
   "id": "e5d39231",
   "metadata": {},
   "outputs": [
    {
     "data": {
      "text/plain": [
       "'{\"type\": \"mint_data\", \"data\": {\"post_hash\": QmbG2dxLWHKvdgsTqDzLjhD96BXrLQUeJkrLuasmPZKgn9,\"parent_hash\": QmbG2dxLWHKvdgsTqDzLjhD96BXrLQUeJkrLuasmPZKgn9,\"parent_type\": post,\"num_votes\": 1}, \"user_msa_id\": 3, \"schema\": 3}'"
      ]
     },
     "execution_count": 5,
     "metadata": {},
     "output_type": "execute_result"
    }
   ],
   "source": [
    "l"
   ]
  },
  {
   "cell_type": "code",
   "execution_count": 2,
   "id": "be271e5f",
   "metadata": {},
   "outputs": [],
   "source": [
    "k = {'type': 'mint_data', 'data': {'category': 'string', 'title': 'string', 'body': 'string', 'url': 'http://www.google.com', 'is_nsfw': True}, 'user_msa_id': 3, 'schema': 1, 'path': 'posts/'}"
   ]
  },
  {
   "cell_type": "code",
   "execution_count": 3,
   "id": "776f2c30",
   "metadata": {},
   "outputs": [
    {
     "data": {
      "text/plain": [
       "{'type': 'mint_data',\n",
       " 'data': {'category': 'string',\n",
       "  'title': 'string',\n",
       "  'body': 'string',\n",
       "  'url': 'http://www.google.com',\n",
       "  'is_nsfw': True},\n",
       " 'user_msa_id': 3,\n",
       " 'schema': 1,\n",
       " 'path': 'posts/'}"
      ]
     },
     "execution_count": 3,
     "metadata": {},
     "output_type": "execute_result"
    }
   ],
   "source": [
    "k"
   ]
  },
  {
   "cell_type": "code",
   "execution_count": null,
   "id": "c83e4559",
   "metadata": {},
   "outputs": [],
   "source": []
  }
 ],
 "metadata": {
  "kernelspec": {
   "display_name": "Python 3 (ipykernel)",
   "language": "python",
   "name": "python3"
  },
  "language_info": {
   "codemirror_mode": {
    "name": "ipython",
    "version": 3
   },
   "file_extension": ".py",
   "mimetype": "text/x-python",
   "name": "python",
   "nbconvert_exporter": "python",
   "pygments_lexer": "ipython3",
   "version": "3.9.12"
  }
 },
 "nbformat": 4,
 "nbformat_minor": 5
}
