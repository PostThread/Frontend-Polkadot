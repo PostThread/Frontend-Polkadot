{
 "cells": [
  {
   "cell_type": "code",
   "execution_count": 1,
   "id": "a666a6e9",
   "metadata": {},
   "outputs": [],
   "source": [
    "import json"
   ]
  },
  {
   "cell_type": "code",
   "execution_count": 2,
   "id": "e41d2bf8",
   "metadata": {},
   "outputs": [
    {
     "name": "stderr",
     "output_type": "stream",
     "text": [
      "C:\\Users\\Mcian\\AppData\\Local\\Programs\\Python\\Python39\\lib\\site-packages\\eth_tester\\backends\\__init__.py:30: UserWarning: Ethereum Tester: No backend was explicitly set, and no *full* backends were available.  Falling back to the `MockBackend` which does not support all EVM functionality.  Please refer to the `eth-tester` documentation for information on what backends are available and how to set them.  Your py-evm package may need to be updated.\n",
      "  warnings.warn(UserWarning(\n"
     ]
    },
    {
     "data": {
      "text/plain": [
       "True"
      ]
     },
     "execution_count": 2,
     "metadata": {},
     "output_type": "execute_result"
    }
   ],
   "source": [
    "from web3 import Web3, EthereumTesterProvider"
   ]
  },
  {
   "cell_type": "code",
   "execution_count": 8,
   "id": "a0a70dba",
   "metadata": {},
   "outputs": [
    {
     "name": "stderr",
     "output_type": "stream",
     "text": [
      "C:\\Users\\Mcian\\AppData\\Local\\Programs\\Python\\Python39\\lib\\site-packages\\eth_tester\\backends\\__init__.py:30: UserWarning: Ethereum Tester: No backend was explicitly set, and no *full* backends were available.  Falling back to the `MockBackend` which does not support all EVM functionality.  Please refer to the `eth-tester` documentation for information on what backends are available and how to set them.  Your py-evm package may need to be updated.\n",
      "  warnings.warn(UserWarning(\n",
      "F:\\web3_messing_around\\PostThread-Tron\\rest-api\\substrate_helpers.py:15: ResourceWarning: unclosed file <_io.TextIOWrapper name='.MNEMONIC.json' mode='r' encoding='cp1252'>\n",
      "  MNEMONIC = json.load(open('.MNEMONIC.json'))\n",
      "ResourceWarning: Enable tracemalloc to get the object allocation traceback\n",
      "F:\\web3_messing_around\\PostThread-Tron\\rest-api\\substrate_helpers.py:18: ResourceWarning: unclosed file <_io.TextIOWrapper name='../backend/build/contracts/User.json' mode='r' encoding='cp1252'>\n",
      "  build_user = json.load(open(\"../backend/build/contracts/User.json\"))\n",
      "ResourceWarning: Enable tracemalloc to get the object allocation traceback\n",
      "F:\\web3_messing_around\\PostThread-Tron\\rest-api\\substrate_helpers.py:19: ResourceWarning: unclosed file <_io.TextIOWrapper name='../backend/build/contracts/Messages.json' mode='r' encoding='cp1252'>\n",
      "  build_messages = json.load(open(\"../backend/build/contracts/Messages.json\"))\n",
      "ResourceWarning: Enable tracemalloc to get the object allocation traceback\n",
      "F:\\web3_messing_around\\PostThread-Tron\\rest-api\\substrate_helpers.py:20: ResourceWarning: unclosed file <_io.TextIOWrapper name='../backend/previous.json' mode='r' encoding='cp1252'>\n",
      "  prev = json.load(open(\"../backend/previous.json\"))\n",
      "ResourceWarning: Enable tracemalloc to get the object allocation traceback\n",
      "C:\\Users\\Mcian\\AppData\\Local\\Programs\\Python\\Python39\\lib\\site-packages\\ipfshttpclient\\client\\__init__.py:75: VersionMismatch: Unsupported daemon version '0.12.2' (not in range: 0.5.0 ≤ … < 0.9.0)\n",
      "  warnings.warn(exceptions.VersionMismatch(version, minimum, maximum))\n",
      "F:\\web3_messing_around\\PostThread-Tron\\rest-api\\substrate_helpers.py:33: ResourceWarning: unclosed file <_io.TextIOWrapper name='schemas.json' mode='r' encoding='cp1252'>\n",
      "  schemas = json.load(open(\"schemas.json\"))\n",
      "ResourceWarning: Enable tracemalloc to get the object allocation traceback\n"
     ]
    }
   ],
   "source": [
    "from substrate_helpers import *"
   ]
  },
  {
   "cell_type": "code",
   "execution_count": 7,
   "id": "49f1aaa3",
   "metadata": {},
   "outputs": [
    {
     "data": {
      "text/plain": [
       "True"
      ]
     },
     "execution_count": 7,
     "metadata": {},
     "output_type": "execute_result"
    }
   ],
   "source": [
    "w3 = Web3(Web3.HTTPProvider('http://127.0.0.1:8545'))\n",
    "w3.isConnected()"
   ]
  },
  {
   "cell_type": "code",
   "execution_count": 4,
   "id": "f7c392d4",
   "metadata": {},
   "outputs": [],
   "source": [
    "w3.eth.account.enable_unaudited_hdwallet_features()"
   ]
  },
  {
   "cell_type": "code",
   "execution_count": 5,
   "id": "f65a29e4",
   "metadata": {
    "scrolled": true
   },
   "outputs": [
    {
     "name": "stderr",
     "output_type": "stream",
     "text": [
      "C:\\Users\\Mcian\\AppData\\Local\\Temp\\ipykernel_33808\\2496349233.py:1: ResourceWarning: unclosed file <_io.TextIOWrapper name='.MNEMONIC.json' mode='r' encoding='cp1252'>\n",
      "  MNEMONIC = json.load(open('.MNEMONIC.json'))\n",
      "ResourceWarning: Enable tracemalloc to get the object allocation traceback\n"
     ]
    }
   ],
   "source": [
    "MNEMONIC = json.load(open('.MNEMONIC.json'))\n",
    "main_accounts = w3.eth.account.from_mnemonic(MNEMONIC['KEY'])"
   ]
  },
  {
   "cell_type": "code",
   "execution_count": 6,
   "id": "3338eeff",
   "metadata": {},
   "outputs": [
    {
     "name": "stderr",
     "output_type": "stream",
     "text": [
      "C:\\Users\\Mcian\\AppData\\Local\\Temp\\ipykernel_33808\\1454143813.py:1: ResourceWarning: unclosed file <_io.TextIOWrapper name='../backend/build/contracts/User.json' mode='r' encoding='cp1252'>\n",
      "  build = json.load(open(\"../backend/build/contracts/User.json\"))\n",
      "ResourceWarning: Enable tracemalloc to get the object allocation traceback\n",
      "C:\\Users\\Mcian\\AppData\\Local\\Temp\\ipykernel_33808\\1454143813.py:2: ResourceWarning: unclosed file <_io.TextIOWrapper name='../backend/previous.json' mode='r' encoding='cp1252'>\n",
      "  prev = json.load(open(\"../backend/previous.json\"))\n",
      "ResourceWarning: Enable tracemalloc to get the object allocation traceback\n"
     ]
    }
   ],
   "source": [
    "build = json.load(open(\"../backend/build/contracts/User.json\"))\n",
    "prev = json.load(open(\"../backend/previous.json\"))"
   ]
  },
  {
   "cell_type": "code",
   "execution_count": null,
   "id": "0a2ed48c",
   "metadata": {},
   "outputs": [],
   "source": []
  },
  {
   "cell_type": "code",
   "execution_count": 30,
   "id": "1dbb25ec",
   "metadata": {},
   "outputs": [],
   "source": [
    "abi = build['abi']\n",
    "contractAddress = prev['local']['user']\n",
    "\n",
    "user = w3.eth.contract(\n",
    "    address=contractAddress,\n",
    "    abi=abi\n",
    ")"
   ]
  },
  {
   "cell_type": "code",
   "execution_count": 32,
   "id": "9060b9cc",
   "metadata": {},
   "outputs": [
    {
     "data": {
      "text/plain": [
       "1"
      ]
     },
     "execution_count": 32,
     "metadata": {},
     "output_type": "execute_result"
    }
   ],
   "source": [
    "user.functions.getMsaId(\"0x907a86721628bed9B5976D4B44ecd3EBe1E6CB46\").call()"
   ]
  },
  {
   "cell_type": "code",
   "execution_count": 45,
   "id": "d3ea25d8",
   "metadata": {},
   "outputs": [
    {
     "name": "stderr",
     "output_type": "stream",
     "text": [
      "C:\\Users\\Mcian\\AppData\\Local\\Temp\\ipykernel_3148\\353275374.py:1: ResourceWarning: unclosed file <_io.TextIOWrapper name='.MNEMONIC.json' mode='r' encoding='cp1252'>\n",
      "  MNEMONIC = json.load(open('.MNEMONIC.json'))\n",
      "ResourceWarning: Enable tracemalloc to get the object allocation traceback\n",
      "C:\\Users\\Mcian\\AppData\\Local\\Temp\\ipykernel_3148\\353275374.py:4: ResourceWarning: unclosed file <_io.TextIOWrapper name='../backend/build/contracts/User.json' mode='r' encoding='cp1252'>\n",
      "  build_user = json.load(open(\"../backend/build/contracts/User.json\"))\n",
      "ResourceWarning: Enable tracemalloc to get the object allocation traceback\n",
      "C:\\Users\\Mcian\\AppData\\Local\\Temp\\ipykernel_3148\\353275374.py:5: ResourceWarning: unclosed file <_io.TextIOWrapper name='../backend/build/contracts/Messages.json' mode='r' encoding='cp1252'>\n",
      "  build_messages = json.load(open(\"../backend/build/contracts/Messages.json\"))\n",
      "ResourceWarning: Enable tracemalloc to get the object allocation traceback\n",
      "C:\\Users\\Mcian\\AppData\\Local\\Temp\\ipykernel_3148\\353275374.py:6: ResourceWarning: unclosed file <_io.TextIOWrapper name='../backend/previous.json' mode='r' encoding='cp1252'>\n",
      "  prev = json.load(open(\"../backend/previous.json\"))\n",
      "ResourceWarning: Enable tracemalloc to get the object allocation traceback\n"
     ]
    }
   ],
   "source": [
    "MNEMONIC = json.load(open('.MNEMONIC.json'))\n",
    "delegate = w3.eth.account.from_mnemonic(MNEMONIC['KEY'])\n",
    "\n",
    "build_user = json.load(open(\"../backend/build/contracts/User.json\"))\n",
    "build_messages = json.load(open(\"../backend/build/contracts/Messages.json\"))\n",
    "prev = json.load(open(\"../backend/previous.json\"))\n",
    "\n",
    "user_contract = w3.eth.contract(\n",
    "    address=prev['local']['user'],\n",
    "    abi=build_user['abi']\n",
    ")\n",
    "messages_contract = w3.eth.contract(\n",
    "    address=prev['local']['messages'],\n",
    "    abi=build_messages['abi']\n",
    ")"
   ]
  },
  {
   "cell_type": "code",
   "execution_count": 68,
   "id": "5e12e5f3",
   "metadata": {},
   "outputs": [
    {
     "data": {
      "text/plain": [
       "5"
      ]
     },
     "execution_count": 68,
     "metadata": {},
     "output_type": "execute_result"
    }
   ],
   "source": [
    "schema = \"this is a schema5\"\n",
    "tx_hash = messages_contract.functions.registerSchema(schema).transact({'from': delegate.address})\n",
    "receipt = w3.eth.wait_for_transaction_receipt(tx_hash)\n",
    "messages_contract.functions.getSchemaCount().call()"
   ]
  },
  {
   "cell_type": "code",
   "execution_count": 70,
   "id": "4ded610a",
   "metadata": {},
   "outputs": [
    {
     "data": {
      "text/plain": [
       "'this is a schema5'"
      ]
     },
     "execution_count": 70,
     "metadata": {},
     "output_type": "execute_result"
    }
   ],
   "source": [
    "messages_contract.functions.getSchema(5).call()"
   ]
  },
  {
   "cell_type": "code",
   "execution_count": 74,
   "id": "5cb67087",
   "metadata": {},
   "outputs": [
    {
     "data": {
      "text/plain": [
       "'0x907a86721628bed9B5976D4B44ecd3EBe1E6CB46'"
      ]
     },
     "execution_count": 74,
     "metadata": {},
     "output_type": "execute_result"
    }
   ],
   "source": [
    "delegate.address"
   ]
  },
  {
   "cell_type": "code",
   "execution_count": 80,
   "id": "11ed10c5",
   "metadata": {},
   "outputs": [
    {
     "name": "stderr",
     "output_type": "stream",
     "text": [
      "C:\\Users\\Mcian\\AppData\\Local\\Programs\\Python\\Python39\\lib\\site-packages\\eth_account\\signers\\local.py:54: DeprecationWarning: privateKey is deprecated in favor of key\n",
      "  warnings.warn(\n"
     ]
    },
    {
     "data": {
      "text/plain": [
       "'0x55ac414705b3644e13812c2883570a13a41d8fe9d4495f883a67428f5b95ef14'"
      ]
     },
     "execution_count": 80,
     "metadata": {},
     "output_type": "execute_result"
    }
   ],
   "source": [
    "delegate.privateKey.hex()"
   ]
  },
  {
   "cell_type": "code",
   "execution_count": 77,
   "id": "650b1aee",
   "metadata": {
    "scrolled": true
   },
   "outputs": [
    {
     "data": {
      "text/plain": [
       "1"
      ]
     },
     "execution_count": 77,
     "metadata": {},
     "output_type": "execute_result"
    }
   ],
   "source": [
    "user_contract.functions.getMsaId(delegate.address).call()"
   ]
  },
  {
   "cell_type": "code",
   "execution_count": 55,
   "id": "e54003bd",
   "metadata": {},
   "outputs": [
    {
     "data": {
      "text/plain": [
       "HexBytes('0x9eebef3145785cc6230b9acd933716e7f348105935a0433d5d01925fc3ebb597')"
      ]
     },
     "execution_count": 55,
     "metadata": {},
     "output_type": "execute_result"
    }
   ],
   "source": [
    "tx_hash"
   ]
  },
  {
   "cell_type": "code",
   "execution_count": 63,
   "id": "c23a98ba",
   "metadata": {},
   "outputs": [],
   "source": [
    "receipt_old = receipt"
   ]
  },
  {
   "cell_type": "code",
   "execution_count": 65,
   "id": "b11dc45e",
   "metadata": {},
   "outputs": [
    {
     "data": {
      "text/plain": [
       "ValuesView(AttributeDict({'transactionHash': HexBytes('0x7e9bfd311fe8c08866f1aa26ccc2fb62b5bd18292fe9e3ef0a4506d325c0a18c'), 'transactionIndex': 0, 'blockHash': HexBytes('0xd2a6f2ca29041b5de08ca2df11197c5d05ebf4188703284fdbbd460192e76c92'), 'blockNumber': 185, 'from': '0x907a86721628bed9B5976D4B44ecd3EBe1E6CB46', 'to': '0x089eAa1F808E66E9ee0703B974A9DACfD0163657', 'gasUsed': 49478, 'cumulativeGasUsed': 49478, 'contractAddress': None, 'logs': [], 'status': 1, 'logsBloom': HexBytes('0x00000000000000000000000000000000000000000000000000000000000000000000000000000000000000000000000000000000000000000000000000000000000000000000000000000000000000000000000000000000000000000000000000000000000000000000000000000000000000000000000000000000000000000000000000000000000000000000000000000000000000000000000000000000000000000000000000000000000000000000000000000000000000000000000000000000000000000000000000000000000000000000000000000000000000000000000000000000000000000000000000000000000000000000000000000000')}))"
      ]
     },
     "execution_count": 65,
     "metadata": {},
     "output_type": "execute_result"
    }
   ],
   "source": [
    "receipt.values()"
   ]
  },
  {
   "cell_type": "code",
   "execution_count": 66,
   "id": "795d5f58",
   "metadata": {},
   "outputs": [
    {
     "data": {
      "text/plain": [
       "3"
      ]
     },
     "execution_count": 66,
     "metadata": {},
     "output_type": "execute_result"
    }
   ],
   "source": [
    "messages_contract.functions.getSchemaCount().call()"
   ]
  },
  {
   "cell_type": "code",
   "execution_count": 9,
   "id": "2b0478a4",
   "metadata": {},
   "outputs": [
    {
     "data": {
      "text/plain": [
       "(2,\n",
       " 1,\n",
       " '{\"category\": \"test\", \"title\": \"test\", \"body\": \"test\", \"url\": \"test\", \"is_nsfw\": 0}',\n",
       " 296,\n",
       " 1657680902)"
      ]
     },
     "execution_count": 9,
     "metadata": {},
     "output_type": "execute_result"
    }
   ],
   "source": [
    "messages_contract.functions.getMessages(schemas['post']).call()[0]"
   ]
  },
  {
   "cell_type": "code",
   "execution_count": 86,
   "id": "d1c60640",
   "metadata": {},
   "outputs": [
    {
     "data": {
      "text/plain": [
       "287"
      ]
     },
     "execution_count": 86,
     "metadata": {},
     "output_type": "execute_result"
    }
   ],
   "source": [
    "w3.eth.get_block_number()"
   ]
  },
  {
   "cell_type": "code",
   "execution_count": 13,
   "id": "a7289e0e",
   "metadata": {},
   "outputs": [],
   "source": [
    "w3 = Web3(Web3.HTTPProvider('https://bttc.trongrid.io'))"
   ]
  },
  {
   "cell_type": "code",
   "execution_count": 14,
   "id": "5458a327",
   "metadata": {},
   "outputs": [
    {
     "data": {
      "text/plain": [
       "True"
      ]
     },
     "execution_count": 14,
     "metadata": {},
     "output_type": "execute_result"
    }
   ],
   "source": [
    "w3.isConnected()"
   ]
  },
  {
   "cell_type": "code",
   "execution_count": 17,
   "id": "d3baa6da",
   "metadata": {},
   "outputs": [
    {
     "ename": "ImportError",
     "evalue": "cannot import name 'network' from 'brownie' (C:\\Users\\Mcian\\AppData\\Local\\Programs\\Python\\Python39\\lib\\site-packages\\brownie\\__init__.py)",
     "output_type": "error",
     "traceback": [
      "\u001b[1;31m---------------------------------------------------------------------------\u001b[0m",
      "\u001b[1;31mImportError\u001b[0m                               Traceback (most recent call last)",
      "Input \u001b[1;32mIn [17]\u001b[0m, in \u001b[0;36m<cell line: 1>\u001b[1;34m()\u001b[0m\n\u001b[1;32m----> 1\u001b[0m \u001b[38;5;28;01mfrom\u001b[39;00m \u001b[38;5;21;01mbrownie\u001b[39;00m \u001b[38;5;28;01mimport\u001b[39;00m network, accounts,project, config\n",
      "\u001b[1;31mImportError\u001b[0m: cannot import name 'network' from 'brownie' (C:\\Users\\Mcian\\AppData\\Local\\Programs\\Python\\Python39\\lib\\site-packages\\brownie\\__init__.py)"
     ]
    }
   ],
   "source": [
    "from brownie import network, accounts,project, config"
   ]
  },
  {
   "cell_type": "code",
   "execution_count": 22,
   "id": "0622902b",
   "metadata": {},
   "outputs": [
    {
     "name": "stdout",
     "output_type": "stream",
     "text": [
      "^C\n"
     ]
    }
   ],
   "source": [
    "!pip uninstall brownie"
   ]
  },
  {
   "cell_type": "code",
   "execution_count": 20,
   "id": "7ee3a2fe",
   "metadata": {},
   "outputs": [
    {
     "name": "stdout",
     "output_type": "stream",
     "text": [
      "Collecting eth-brownie\n",
      "  Downloading eth_brownie-1.19.0-py3-none-any.whl (232 kB)\n",
      "     ------------------------------------- 232.3/232.3 kB 14.8 MB/s eta 0:00:00\n",
      "Requirement already satisfied: prompt-toolkit==3.0.29 in c:\\users\\mcian\\appdata\\local\\programs\\python\\python39\\lib\\site-packages (from eth-brownie) (3.0.29)\n",
      "Requirement already satisfied: yarl==1.7.2 in c:\\users\\mcian\\appdata\\local\\programs\\python\\python39\\lib\\site-packages (from eth-brownie) (1.7.2)\n",
      "Requirement already satisfied: multiaddr==0.0.9 in c:\\users\\mcian\\appdata\\local\\programs\\python\\python39\\lib\\site-packages (from eth-brownie) (0.0.9)\n",
      "Collecting pytest==6.2.5\n",
      "  Using cached pytest-6.2.5-py3-none-any.whl (280 kB)\n",
      "Collecting web3==5.29.1\n",
      "  Downloading web3-5.29.1-py3-none-any.whl (500 kB)\n",
      "     ------------------------------------- 500.8/500.8 kB 30.7 MB/s eta 0:00:00\n",
      "Requirement already satisfied: async-timeout==4.0.2 in c:\\users\\mcian\\appdata\\local\\programs\\python\\python39\\lib\\site-packages (from eth-brownie) (4.0.2)\n",
      "Requirement already satisfied: pyrsistent==0.18.1 in c:\\users\\mcian\\appdata\\local\\programs\\python\\python39\\lib\\site-packages (from eth-brownie) (0.18.1)\n",
      "Collecting hypothesis==6.27.3\n",
      "  Using cached hypothesis-6.27.3-py3-none-any.whl (384 kB)\n",
      "Requirement already satisfied: eth-abi==2.1.1 in c:\\users\\mcian\\appdata\\local\\programs\\python\\python39\\lib\\site-packages (from eth-brownie) (2.1.1)\n",
      "Collecting lazy-object-proxy==1.7.1\n",
      "  Using cached lazy_object_proxy-1.7.1-cp39-cp39-win_amd64.whl (22 kB)\n",
      "Collecting pytest-forked==1.4.0\n",
      "  Using cached pytest_forked-1.4.0-py3-none-any.whl (4.9 kB)\n",
      "Requirement already satisfied: jsonschema==3.2.0 in c:\\users\\mcian\\appdata\\local\\programs\\python\\python39\\lib\\site-packages (from eth-brownie) (3.2.0)\n",
      "Requirement already satisfied: eth-hash[pycryptodome]==0.3.2 in c:\\users\\mcian\\appdata\\local\\programs\\python\\python39\\lib\\site-packages (from eth-brownie) (0.3.2)\n",
      "Requirement already satisfied: charset-normalizer==2.0.12 in c:\\users\\mcian\\appdata\\local\\programs\\python\\python39\\lib\\site-packages (from eth-brownie) (2.0.12)\n",
      "Requirement already satisfied: black==22.3.0 in c:\\users\\mcian\\appdata\\local\\programs\\python\\python39\\lib\\site-packages (from eth-brownie) (22.3.0)\n",
      "Requirement already satisfied: iniconfig==1.1.1 in c:\\users\\mcian\\appdata\\local\\programs\\python\\python39\\lib\\site-packages (from eth-brownie) (1.1.1)\n",
      "Requirement already satisfied: requests==2.27.1 in c:\\users\\mcian\\appdata\\local\\programs\\python\\python39\\lib\\site-packages (from eth-brownie) (2.27.1)\n",
      "Collecting eth-event==1.2.3\n",
      "  Using cached eth_event-1.2.3-py3-none-any.whl (7.3 kB)\n",
      "Collecting mythx-models==1.9.1\n",
      "  Using cached mythx_models-1.9.1-py2.py3-none-any.whl (82 kB)\n",
      "Requirement already satisfied: toolz==0.11.2 in c:\\users\\mcian\\appdata\\local\\programs\\python\\python39\\lib\\site-packages (from eth-brownie) (0.11.2)\n",
      "Collecting python-dateutil==2.8.1\n",
      "  Using cached python_dateutil-2.8.1-py2.py3-none-any.whl (227 kB)\n",
      "Collecting pygments-lexer-solidity==0.7.0\n",
      "  Using cached pygments_lexer_solidity-0.7.0-py3-none-any.whl\n",
      "Collecting pythx==1.6.1\n",
      "  Using cached pythx-1.6.1-py2.py3-none-any.whl (39 kB)\n",
      "Collecting pygments==2.12.0\n",
      "  Downloading Pygments-2.12.0-py3-none-any.whl (1.1 MB)\n",
      "     ---------------------------------------- 1.1/1.1 MB 17.5 MB/s eta 0:00:00\n",
      "Collecting psutil==5.9.1\n",
      "  Downloading psutil-5.9.1-cp39-cp39-win_amd64.whl (245 kB)\n",
      "     ------------------------------------- 245.9/245.9 kB 14.7 MB/s eta 0:00:00\n",
      "Requirement already satisfied: varint==1.0.2 in c:\\users\\mcian\\appdata\\local\\programs\\python\\python39\\lib\\site-packages (from eth-brownie) (1.0.2)\n",
      "Requirement already satisfied: lru-dict==1.1.7 in c:\\users\\mcian\\appdata\\local\\programs\\python\\python39\\lib\\site-packages (from eth-brownie) (1.1.7)\n",
      "Requirement already satisfied: packaging==21.3 in c:\\users\\mcian\\appdata\\roaming\\python\\python39\\site-packages (from eth-brownie) (21.3)\n",
      "Requirement already satisfied: netaddr==0.8.0 in c:\\users\\mcian\\appdata\\local\\programs\\python\\python39\\lib\\site-packages (from eth-brownie) (0.8.0)\n",
      "Requirement already satisfied: eth-typing==2.3.0 in c:\\users\\mcian\\appdata\\local\\programs\\python\\python39\\lib\\site-packages (from eth-brownie) (2.3.0)\n",
      "Collecting pyjwt==1.7.1\n",
      "  Using cached PyJWT-1.7.1-py2.py3-none-any.whl (18 kB)\n",
      "Collecting protobuf==3.20.1\n",
      "  Downloading protobuf-3.20.1-cp39-cp39-win_amd64.whl (904 kB)\n",
      "     ------------------------------------- 904.1/904.1 kB 14.4 MB/s eta 0:00:00\n",
      "Collecting tqdm==4.64.0\n",
      "  Downloading tqdm-4.64.0-py2.py3-none-any.whl (78 kB)\n",
      "     ---------------------------------------- 78.4/78.4 kB 4.5 MB/s eta 0:00:00\n",
      "Requirement already satisfied: hexbytes==0.2.2 in c:\\users\\mcian\\appdata\\local\\programs\\python\\python39\\lib\\site-packages (from eth-brownie) (0.2.2)\n",
      "Requirement already satisfied: parsimonious==0.8.1 in c:\\users\\mcian\\appdata\\local\\programs\\python\\python39\\lib\\site-packages (from eth-brownie) (0.8.1)\n",
      "Collecting sortedcontainers==2.4.0\n",
      "  Using cached sortedcontainers-2.4.0-py2.py3-none-any.whl (29 kB)\n",
      "Collecting platformdirs==2.5.2\n",
      "  Downloading platformdirs-2.5.2-py3-none-any.whl (14 kB)\n",
      "Collecting python-dotenv==0.16.0\n",
      "  Using cached python_dotenv-0.16.0-py2.py3-none-any.whl (18 kB)\n",
      "Requirement already satisfied: aiosignal==1.2.0 in c:\\users\\mcian\\appdata\\local\\programs\\python\\python39\\lib\\site-packages (from eth-brownie) (1.2.0)\n",
      "Collecting py-solc-ast==1.2.9\n",
      "  Using cached py_solc_ast-1.2.9-py3-none-any.whl (10 kB)\n",
      "Requirement already satisfied: eth-keys==0.3.4 in c:\\users\\mcian\\appdata\\local\\programs\\python\\python39\\lib\\site-packages (from eth-brownie) (0.3.4)\n",
      "Collecting inflection==0.5.0\n",
      "  Using cached inflection-0.5.0-py2.py3-none-any.whl (5.8 kB)\n",
      "Requirement already satisfied: bitarray==1.2.2 in c:\\users\\mcian\\appdata\\local\\programs\\python\\python39\\lib\\site-packages (from eth-brownie) (1.2.2)\n",
      "Collecting certifi==2022.5.18.1\n",
      "  Downloading certifi-2022.5.18.1-py3-none-any.whl (155 kB)\n",
      "     ---------------------------------------- 155.2/155.2 kB ? eta 0:00:00\n",
      "Requirement already satisfied: websockets==9.1 in c:\\users\\mcian\\appdata\\local\\programs\\python\\python39\\lib\\site-packages (from eth-brownie) (9.1)\n",
      "Requirement already satisfied: py==1.11.0 in c:\\users\\mcian\\appdata\\local\\programs\\python\\python39\\lib\\site-packages (from eth-brownie) (1.11.0)\n",
      "Collecting pyparsing==3.0.9\n",
      "  Downloading pyparsing-3.0.9-py3-none-any.whl (98 kB)\n",
      "     ---------------------------------------- 98.3/98.3 kB ? eta 0:00:00\n",
      "Requirement already satisfied: wheel==0.37.1 in c:\\users\\mcian\\appdata\\local\\programs\\python\\python39\\lib\\site-packages (from eth-brownie) (0.37.1)\n",
      "Requirement already satisfied: multidict==6.0.2 in c:\\users\\mcian\\appdata\\local\\programs\\python\\python39\\lib\\site-packages (from eth-brownie) (6.0.2)\n",
      "Requirement already satisfied: wcwidth==0.2.5 in c:\\users\\mcian\\appdata\\local\\programs\\python\\python39\\lib\\site-packages (from eth-brownie) (0.2.5)\n",
      "Requirement already satisfied: cytoolz==0.11.2 in c:\\users\\mcian\\appdata\\local\\programs\\python\\python39\\lib\\site-packages (from eth-brownie) (0.11.2)\n",
      "Collecting vvm==0.1.0\n",
      "  Using cached vvm-0.1.0-py3-none-any.whl (11 kB)\n",
      "Requirement already satisfied: attrs==21.4.0 in c:\\users\\mcian\\appdata\\local\\programs\\python\\python39\\lib\\site-packages (from eth-brownie) (21.4.0)\n",
      "Collecting wrapt==1.14.1\n",
      "  Downloading wrapt-1.14.1-cp39-cp39-win_amd64.whl (35 kB)\n",
      "Collecting eip712==0.1.0\n",
      "  Using cached eip712-0.1.0-py3-none-any.whl (13 kB)\n",
      "Collecting pytest-xdist==1.34.0\n",
      "  Using cached pytest_xdist-1.34.0-py2.py3-none-any.whl (36 kB)\n",
      "Requirement already satisfied: ipfshttpclient==0.8.0a2 in c:\\users\\mcian\\appdata\\local\\programs\\python\\python39\\lib\\site-packages (from eth-brownie) (0.8.0a2)\n",
      "Requirement already satisfied: aiohttp==3.8.1 in c:\\users\\mcian\\appdata\\local\\programs\\python\\python39\\lib\\site-packages (from eth-brownie) (3.8.1)\n",
      "Requirement already satisfied: eth-rlp==0.2.1 in c:\\users\\mcian\\appdata\\local\\programs\\python\\python39\\lib\\site-packages (from eth-brownie) (0.2.1)\n",
      "Requirement already satisfied: tomli==2.0.1 in c:\\users\\mcian\\appdata\\local\\programs\\python\\python39\\lib\\site-packages (from eth-brownie) (2.0.1)\n",
      "Requirement already satisfied: py-solc-x==1.1.1 in c:\\users\\mcian\\appdata\\local\\programs\\python\\python39\\lib\\site-packages (from eth-brownie) (1.1.1)\n",
      "Requirement already satisfied: base58==2.1.1 in c:\\users\\mcian\\appdata\\local\\programs\\python\\python39\\lib\\site-packages (from eth-brownie) (2.1.1)\n",
      "Collecting click==8.1.3\n",
      "  Downloading click-8.1.3-py3-none-any.whl (96 kB)\n",
      "     ---------------------------------------- 96.6/96.6 kB ? eta 0:00:00\n",
      "Requirement already satisfied: eth-utils==1.10.0 in c:\\users\\mcian\\appdata\\local\\programs\\python\\python39\\lib\\site-packages (from eth-brownie) (1.10.0)\n",
      "Requirement already satisfied: frozenlist==1.3.0 in c:\\users\\mcian\\appdata\\local\\programs\\python\\python39\\lib\\site-packages (from eth-brownie) (1.3.0)\n",
      "Requirement already satisfied: mypy-extensions==0.4.3 in c:\\users\\mcian\\appdata\\local\\programs\\python\\python39\\lib\\site-packages (from eth-brownie) (0.4.3)\n",
      "Collecting execnet==1.9.0\n",
      "  Using cached execnet-1.9.0-py2.py3-none-any.whl (39 kB)\n",
      "Requirement already satisfied: eth-account==0.5.7 in c:\\users\\mcian\\appdata\\local\\programs\\python\\python39\\lib\\site-packages (from eth-brownie) (0.5.7)\n",
      "Requirement already satisfied: rlp==2.0.1 in c:\\users\\mcian\\appdata\\local\\programs\\python\\python39\\lib\\site-packages (from eth-brownie) (2.0.1)\n",
      "Requirement already satisfied: eth-keyfile==0.5.1 in c:\\users\\mcian\\appdata\\local\\programs\\python\\python39\\lib\\site-packages (from eth-brownie) (0.5.1)\n",
      "Requirement already satisfied: six==1.16.0 in c:\\users\\mcian\\appdata\\local\\programs\\python\\python39\\lib\\site-packages (from eth-brownie) (1.16.0)\n",
      "Collecting semantic-version==2.8.5\n",
      "  Using cached semantic_version-2.8.5-py2.py3-none-any.whl (15 kB)\n",
      "Collecting vyper==0.3.3\n",
      "  Downloading vyper-0.3.3-py3-none-any.whl (261 kB)\n",
      "     ---------------------------------------- 261.3/261.3 kB ? eta 0:00:00\n",
      "Requirement already satisfied: pathspec==0.9.0 in c:\\users\\mcian\\appdata\\local\\programs\\python\\python39\\lib\\site-packages (from eth-brownie) (0.9.0)\n",
      "Requirement already satisfied: toml==0.10.2 in c:\\users\\mcian\\appdata\\local\\programs\\python\\python39\\lib\\site-packages (from eth-brownie) (0.10.2)\n",
      "Requirement already satisfied: urllib3==1.26.9 in c:\\users\\mcian\\appdata\\local\\programs\\python\\python39\\lib\\site-packages (from eth-brownie) (1.26.9)\n",
      "Requirement already satisfied: asttokens==2.0.5 in c:\\users\\mcian\\appdata\\local\\programs\\python\\python39\\lib\\site-packages (from eth-brownie) (2.0.5)\n",
      "Collecting pyyaml==5.4.1\n",
      "  Using cached PyYAML-5.4.1-cp39-cp39-win_amd64.whl (213 kB)\n",
      "Collecting dataclassy==0.11.1\n",
      "  Using cached dataclassy-0.11.1-py3-none-any.whl (23 kB)\n",
      "Requirement already satisfied: idna==3.3 in c:\\users\\mcian\\appdata\\local\\programs\\python\\python39\\lib\\site-packages (from eth-brownie) (3.3)\n",
      "Requirement already satisfied: pycryptodome==3.14.1 in c:\\users\\mcian\\appdata\\local\\programs\\python\\python39\\lib\\site-packages (from eth-brownie) (3.14.1)\n",
      "Requirement already satisfied: pluggy==1.0.0 in c:\\users\\mcian\\appdata\\local\\programs\\python\\python39\\lib\\site-packages (from eth-brownie) (1.0.0)\n",
      "Requirement already satisfied: typing-extensions>=3.10.0.0 in c:\\users\\mcian\\appdata\\local\\programs\\python\\python39\\lib\\site-packages (from black==22.3.0->eth-brownie) (4.1.1)\n",
      "Requirement already satisfied: colorama in c:\\users\\mcian\\appdata\\local\\programs\\python\\python39\\lib\\site-packages (from click==8.1.3->eth-brownie) (0.4.4)\n",
      "Requirement already satisfied: setuptools in c:\\users\\mcian\\appdata\\local\\programs\\python\\python39\\lib\\site-packages (from jsonschema==3.2.0->eth-brownie) (62.0.0)\n",
      "Requirement already satisfied: atomicwrites>=1.0 in c:\\users\\mcian\\appdata\\local\\programs\\python\\python39\\lib\\site-packages (from pytest==6.2.5->eth-brownie) (1.4.0)\n",
      "Requirement already satisfied: pywin32>=223 in c:\\users\\mcian\\appdata\\local\\programs\\python\\python39\\lib\\site-packages (from web3==5.29.1->eth-brownie) (303)\n",
      "Installing collected packages: sortedcontainers, python-dotenv, pyjwt, wrapt, tqdm, semantic-version, pyyaml, python-dateutil, pyparsing, pygments, py-solc-ast, psutil, protobuf, platformdirs, lazy-object-proxy, inflection, hypothesis, execnet, dataclassy, click, certifi, vyper, pygments-lexer-solidity, mythx-models, vvm, pythx, pytest, pytest-forked, eth-event, eip712, pytest-xdist, web3, eth-brownie\n",
      "  Attempting uninstall: semantic-version\n",
      "    Found existing installation: semantic-version 2.9.0\n",
      "    Uninstalling semantic-version-2.9.0:\n",
      "      Successfully uninstalled semantic-version-2.9.0\n",
      "  Attempting uninstall: python-dateutil\n",
      "    Found existing installation: python-dateutil 2.8.2\n",
      "    Uninstalling python-dateutil-2.8.2:\n",
      "      Successfully uninstalled python-dateutil-2.8.2\n",
      "  Attempting uninstall: pyparsing\n",
      "    Found existing installation: pyparsing 3.0.7\n",
      "    Uninstalling pyparsing-3.0.7:\n",
      "      Successfully uninstalled pyparsing-3.0.7\n",
      "  Attempting uninstall: pygments\n",
      "    Found existing installation: Pygments 2.11.2\n",
      "    Uninstalling Pygments-2.11.2:\n",
      "      Successfully uninstalled Pygments-2.11.2\n",
      "  Attempting uninstall: psutil\n",
      "    Found existing installation: psutil 5.9.0\n",
      "    Uninstalling psutil-5.9.0:\n",
      "      Successfully uninstalled psutil-5.9.0\n"
     ]
    },
    {
     "name": "stderr",
     "output_type": "stream",
     "text": [
      "ERROR: Could not install packages due to an OSError: [WinError 5] Access is denied: 'C:\\\\Users\\\\Mcian\\\\AppData\\\\Local\\\\Programs\\\\Python\\\\Python39\\\\Lib\\\\site-packages\\\\~sutil\\\\_psutil_windows.cp39-win_amd64.pyd'\n",
      "Consider using the `--user` option or check the permissions.\n",
      "\n",
      "WARNING: There was an error checking the latest version of pip.\n",
      "sys:1: ResourceWarning: unclosed socket <zmq.Socket(zmq.PUSH) at 0x1d24495f6a0>\n",
      "ResourceWarning: Enable tracemalloc to get the object allocation traceback\n",
      "sys:1: ResourceWarning: unclosed socket <zmq.Socket(zmq.PUSH) at 0x1d24495f7c0>\n",
      "ResourceWarning: Enable tracemalloc to get the object allocation traceback\n",
      "C:\\Users\\Mcian\\AppData\\Local\\Programs\\Python\\Python39\\lib\\site-packages\\IPython\\utils\\_process_win32.py:124: ResourceWarning: unclosed file <_io.BufferedWriter name=4>\n",
      "  return process_handler(cmd, _system_body)\n",
      "ResourceWarning: Enable tracemalloc to get the object allocation traceback\n",
      "C:\\Users\\Mcian\\AppData\\Local\\Programs\\Python\\Python39\\lib\\site-packages\\IPython\\utils\\_process_win32.py:124: ResourceWarning: unclosed file <_io.BufferedReader name=5>\n",
      "  return process_handler(cmd, _system_body)\n",
      "ResourceWarning: Enable tracemalloc to get the object allocation traceback\n",
      "C:\\Users\\Mcian\\AppData\\Local\\Programs\\Python\\Python39\\lib\\site-packages\\IPython\\utils\\_process_win32.py:124: ResourceWarning: unclosed file <_io.BufferedReader name=6>\n",
      "  return process_handler(cmd, _system_body)\n",
      "ResourceWarning: Enable tracemalloc to get the object allocation traceback\n"
     ]
    }
   ],
   "source": [
    "!pip install eth-brownie"
   ]
  },
  {
   "cell_type": "code",
   "execution_count": 1,
   "id": "90b20725",
   "metadata": {},
   "outputs": [],
   "source": [
    "import brownie"
   ]
  },
  {
   "cell_type": "code",
   "execution_count": 2,
   "id": "9614db1f",
   "metadata": {},
   "outputs": [
    {
     "name": "stdout",
     "output_type": "stream",
     "text": [
      "Object `brownie` not found.\n"
     ]
    }
   ],
   "source": [
    "brownie.accounts."
   ]
  },
  {
   "cell_type": "code",
   "execution_count": 2,
   "id": "938362e8",
   "metadata": {},
   "outputs": [
    {
     "ename": "NameError",
     "evalue": "name 'delegator_wallet' is not defined",
     "output_type": "error",
     "traceback": [
      "\u001b[1;31m---------------------------------------------------------------------------\u001b[0m",
      "\u001b[1;31mNameError\u001b[0m                                 Traceback (most recent call last)",
      "Input \u001b[1;32mIn [2]\u001b[0m, in \u001b[0;36m<cell line: 1>\u001b[1;34m()\u001b[0m\n\u001b[1;32m----> 1\u001b[0m private_key \u001b[38;5;241m=\u001b[39m \u001b[43mdelegator_wallet\u001b[49m\u001b[38;5;241m.\u001b[39mprivateKey\u001b[38;5;241m.\u001b[39mhex()\n\u001b[0;32m      2\u001b[0m \u001b[38;5;28mhash\u001b[39m \u001b[38;5;241m=\u001b[39m keccak(encode_abi_packed([\u001b[38;5;124m'\u001b[39m\u001b[38;5;124muint256\u001b[39m\u001b[38;5;124m'\u001b[39m],[delegate_msa_id]))\n\u001b[0;32m      3\u001b[0m message \u001b[38;5;241m=\u001b[39m encode_defunct(hexstr\u001b[38;5;241m=\u001b[39m\u001b[38;5;28mhash\u001b[39m\u001b[38;5;241m.\u001b[39mhex())\n",
      "\u001b[1;31mNameError\u001b[0m: name 'delegator_wallet' is not defined"
     ]
    }
   ],
   "source": [
    "    private_key = delegator_wallet.privateKey.hex()\n",
    "    hash = keccak(encode_abi_packed(['uint256'],[delegate_msa_id]))\n",
    "    message = encode_defunct(hexstr=hash.hex())\n",
    "    signed_message =  w3.eth.account.sign_message(message, private_key=private_key)"
   ]
  },
  {
   "cell_type": "code",
   "execution_count": null,
   "id": "6b2a233c",
   "metadata": {},
   "outputs": [],
   "source": []
  }
 ],
 "metadata": {
  "kernelspec": {
   "display_name": "Python 3 (ipykernel)",
   "language": "python",
   "name": "python3"
  },
  "language_info": {
   "codemirror_mode": {
    "name": "ipython",
    "version": 3
   },
   "file_extension": ".py",
   "mimetype": "text/x-python",
   "name": "python",
   "nbconvert_exporter": "python",
   "pygments_lexer": "ipython3",
   "version": "3.9.12"
  }
 },
 "nbformat": 4,
 "nbformat_minor": 5
}
