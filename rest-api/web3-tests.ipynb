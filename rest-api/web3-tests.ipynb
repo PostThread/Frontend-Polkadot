{
 "cells": [
  {
   "cell_type": "code",
   "execution_count": 1,
   "id": "9f37d17c",
   "metadata": {},
   "outputs": [],
   "source": [
    "import json"
   ]
  },
  {
   "cell_type": "code",
   "execution_count": 2,
   "id": "fcc09d00",
   "metadata": {},
   "outputs": [
    {
     "name": "stderr",
     "output_type": "stream",
     "text": [
      "C:\\Users\\Mcian\\AppData\\Local\\Programs\\Python\\Python39\\lib\\site-packages\\eth_tester\\backends\\__init__.py:30: UserWarning: Ethereum Tester: No backend was explicitly set, and no *full* backends were available.  Falling back to the `MockBackend` which does not support all EVM functionality.  Please refer to the `eth-tester` documentation for information on what backends are available and how to set them.  Your py-evm package may need to be updated.\n",
      "  warnings.warn(UserWarning(\n"
     ]
    },
    {
     "data": {
      "text/plain": [
       "True"
      ]
     },
     "execution_count": 2,
     "metadata": {},
     "output_type": "execute_result"
    }
   ],
   "source": [
    "from web3 import Web3, EthereumTesterProvider"
   ]
  },
  {
   "cell_type": "code",
   "execution_count": 8,
   "id": "d066f1a5",
   "metadata": {},
   "outputs": [
    {
     "name": "stderr",
     "output_type": "stream",
     "text": [
      "C:\\Users\\Mcian\\AppData\\Local\\Programs\\Python\\Python39\\lib\\site-packages\\eth_tester\\backends\\__init__.py:30: UserWarning: Ethereum Tester: No backend was explicitly set, and no *full* backends were available.  Falling back to the `MockBackend` which does not support all EVM functionality.  Please refer to the `eth-tester` documentation for information on what backends are available and how to set them.  Your py-evm package may need to be updated.\n",
      "  warnings.warn(UserWarning(\n",
      "F:\\web3_messing_around\\PostThread-Tron\\rest-api\\substrate_helpers.py:15: ResourceWarning: unclosed file <_io.TextIOWrapper name='.MNEMONIC.json' mode='r' encoding='cp1252'>\n",
      "  MNEMONIC = json.load(open('.MNEMONIC.json'))\n",
      "ResourceWarning: Enable tracemalloc to get the object allocation traceback\n",
      "F:\\web3_messing_around\\PostThread-Tron\\rest-api\\substrate_helpers.py:18: ResourceWarning: unclosed file <_io.TextIOWrapper name='../backend/build/contracts/User.json' mode='r' encoding='cp1252'>\n",
      "  build_user = json.load(open(\"../backend/build/contracts/User.json\"))\n",
      "ResourceWarning: Enable tracemalloc to get the object allocation traceback\n",
      "F:\\web3_messing_around\\PostThread-Tron\\rest-api\\substrate_helpers.py:19: ResourceWarning: unclosed file <_io.TextIOWrapper name='../backend/build/contracts/Messages.json' mode='r' encoding='cp1252'>\n",
      "  build_messages = json.load(open(\"../backend/build/contracts/Messages.json\"))\n",
      "ResourceWarning: Enable tracemalloc to get the object allocation traceback\n",
      "F:\\web3_messing_around\\PostThread-Tron\\rest-api\\substrate_helpers.py:20: ResourceWarning: unclosed file <_io.TextIOWrapper name='../backend/previous.json' mode='r' encoding='cp1252'>\n",
      "  prev = json.load(open(\"../backend/previous.json\"))\n",
      "ResourceWarning: Enable tracemalloc to get the object allocation traceback\n",
      "C:\\Users\\Mcian\\AppData\\Local\\Programs\\Python\\Python39\\lib\\site-packages\\ipfshttpclient\\client\\__init__.py:75: VersionMismatch: Unsupported daemon version '0.12.2' (not in range: 0.5.0 ≤ … < 0.9.0)\n",
      "  warnings.warn(exceptions.VersionMismatch(version, minimum, maximum))\n",
      "F:\\web3_messing_around\\PostThread-Tron\\rest-api\\substrate_helpers.py:33: ResourceWarning: unclosed file <_io.TextIOWrapper name='schemas.json' mode='r' encoding='cp1252'>\n",
      "  schemas = json.load(open(\"schemas.json\"))\n",
      "ResourceWarning: Enable tracemalloc to get the object allocation traceback\n"
     ]
    }
   ],
   "source": [
    "from substrate_helpers import *"
   ]
  },
  {
   "cell_type": "code",
   "execution_count": 7,
   "id": "ae1db52c",
   "metadata": {},
   "outputs": [
    {
     "data": {
      "text/plain": [
       "True"
      ]
     },
     "execution_count": 7,
     "metadata": {},
     "output_type": "execute_result"
    }
   ],
   "source": [
    "w3 = Web3(Web3.HTTPProvider('http://127.0.0.1:8545'))\n",
    "w3.isConnected()"
   ]
  },
  {
   "cell_type": "code",
   "execution_count": 4,
   "id": "ad4321b5",
   "metadata": {},
   "outputs": [],
   "source": [
    "w3.eth.account.enable_unaudited_hdwallet_features()"
   ]
  },
  {
   "cell_type": "code",
   "execution_count": 5,
   "id": "d0a1fdf8",
   "metadata": {
    "scrolled": true
   },
   "outputs": [
    {
     "name": "stderr",
     "output_type": "stream",
     "text": [
      "C:\\Users\\Mcian\\AppData\\Local\\Temp\\ipykernel_33808\\2496349233.py:1: ResourceWarning: unclosed file <_io.TextIOWrapper name='.MNEMONIC.json' mode='r' encoding='cp1252'>\n",
      "  MNEMONIC = json.load(open('.MNEMONIC.json'))\n",
      "ResourceWarning: Enable tracemalloc to get the object allocation traceback\n"
     ]
    }
   ],
   "source": [
    "MNEMONIC = json.load(open('.MNEMONIC.json'))\n",
    "main_accounts = w3.eth.account.from_mnemonic(MNEMONIC['KEY'])"
   ]
  },
  {
   "cell_type": "code",
   "execution_count": 6,
   "id": "5f491b7b",
   "metadata": {},
   "outputs": [
    {
     "name": "stderr",
     "output_type": "stream",
     "text": [
      "C:\\Users\\Mcian\\AppData\\Local\\Temp\\ipykernel_33808\\1454143813.py:1: ResourceWarning: unclosed file <_io.TextIOWrapper name='../backend/build/contracts/User.json' mode='r' encoding='cp1252'>\n",
      "  build = json.load(open(\"../backend/build/contracts/User.json\"))\n",
      "ResourceWarning: Enable tracemalloc to get the object allocation traceback\n",
      "C:\\Users\\Mcian\\AppData\\Local\\Temp\\ipykernel_33808\\1454143813.py:2: ResourceWarning: unclosed file <_io.TextIOWrapper name='../backend/previous.json' mode='r' encoding='cp1252'>\n",
      "  prev = json.load(open(\"../backend/previous.json\"))\n",
      "ResourceWarning: Enable tracemalloc to get the object allocation traceback\n"
     ]
    }
   ],
   "source": [
    "build = json.load(open(\"../backend/build/contracts/User.json\"))\n",
    "prev = json.load(open(\"../backend/previous.json\"))"
   ]
  },
  {
   "cell_type": "code",
   "execution_count": null,
   "id": "221e31ff",
   "metadata": {},
   "outputs": [],
   "source": []
  },
  {
   "cell_type": "code",
   "execution_count": 30,
   "id": "69efff25",
   "metadata": {},
   "outputs": [],
   "source": [
    "abi = build['abi']\n",
    "contractAddress = prev['local']['user']\n",
    "\n",
    "user = w3.eth.contract(\n",
    "    address=contractAddress,\n",
    "    abi=abi\n",
    ")"
   ]
  },
  {
   "cell_type": "code",
   "execution_count": 32,
   "id": "31d6680e",
   "metadata": {},
   "outputs": [
    {
     "data": {
      "text/plain": [
       "1"
      ]
     },
     "execution_count": 32,
     "metadata": {},
     "output_type": "execute_result"
    }
   ],
   "source": [
    "user.functions.getMsaId(\"0x907a86721628bed9B5976D4B44ecd3EBe1E6CB46\").call()"
   ]
  },
  {
   "cell_type": "code",
   "execution_count": 45,
   "id": "a4dad56c",
   "metadata": {},
   "outputs": [
    {
     "name": "stderr",
     "output_type": "stream",
     "text": [
      "C:\\Users\\Mcian\\AppData\\Local\\Temp\\ipykernel_3148\\353275374.py:1: ResourceWarning: unclosed file <_io.TextIOWrapper name='.MNEMONIC.json' mode='r' encoding='cp1252'>\n",
      "  MNEMONIC = json.load(open('.MNEMONIC.json'))\n",
      "ResourceWarning: Enable tracemalloc to get the object allocation traceback\n",
      "C:\\Users\\Mcian\\AppData\\Local\\Temp\\ipykernel_3148\\353275374.py:4: ResourceWarning: unclosed file <_io.TextIOWrapper name='../backend/build/contracts/User.json' mode='r' encoding='cp1252'>\n",
      "  build_user = json.load(open(\"../backend/build/contracts/User.json\"))\n",
      "ResourceWarning: Enable tracemalloc to get the object allocation traceback\n",
      "C:\\Users\\Mcian\\AppData\\Local\\Temp\\ipykernel_3148\\353275374.py:5: ResourceWarning: unclosed file <_io.TextIOWrapper name='../backend/build/contracts/Messages.json' mode='r' encoding='cp1252'>\n",
      "  build_messages = json.load(open(\"../backend/build/contracts/Messages.json\"))\n",
      "ResourceWarning: Enable tracemalloc to get the object allocation traceback\n",
      "C:\\Users\\Mcian\\AppData\\Local\\Temp\\ipykernel_3148\\353275374.py:6: ResourceWarning: unclosed file <_io.TextIOWrapper name='../backend/previous.json' mode='r' encoding='cp1252'>\n",
      "  prev = json.load(open(\"../backend/previous.json\"))\n",
      "ResourceWarning: Enable tracemalloc to get the object allocation traceback\n"
     ]
    }
   ],
   "source": [
    "MNEMONIC = json.load(open('.MNEMONIC.json'))\n",
    "delegate = w3.eth.account.from_mnemonic(MNEMONIC['KEY'])\n",
    "\n",
    "build_user = json.load(open(\"../backend/build/contracts/User.json\"))\n",
    "build_messages = json.load(open(\"../backend/build/contracts/Messages.json\"))\n",
    "prev = json.load(open(\"../backend/previous.json\"))\n",
    "\n",
    "user_contract = w3.eth.contract(\n",
    "    address=prev['local']['user'],\n",
    "    abi=build_user['abi']\n",
    ")\n",
    "messages_contract = w3.eth.contract(\n",
    "    address=prev['local']['messages'],\n",
    "    abi=build_messages['abi']\n",
    ")"
   ]
  },
  {
   "cell_type": "code",
   "execution_count": 68,
   "id": "db792121",
   "metadata": {},
   "outputs": [
    {
     "data": {
      "text/plain": [
       "5"
      ]
     },
     "execution_count": 68,
     "metadata": {},
     "output_type": "execute_result"
    }
   ],
   "source": [
    "schema = \"this is a schema5\"\n",
    "tx_hash = messages_contract.functions.registerSchema(schema).transact({'from': delegate.address})\n",
    "receipt = w3.eth.wait_for_transaction_receipt(tx_hash)\n",
    "messages_contract.functions.getSchemaCount().call()"
   ]
  },
  {
   "cell_type": "code",
   "execution_count": 70,
   "id": "c043b2bd",
   "metadata": {},
   "outputs": [
    {
     "data": {
      "text/plain": [
       "'this is a schema5'"
      ]
     },
     "execution_count": 70,
     "metadata": {},
     "output_type": "execute_result"
    }
   ],
   "source": [
    "messages_contract.functions.getSchema(5).call()"
   ]
  },
  {
   "cell_type": "code",
   "execution_count": 74,
   "id": "7e4626b4",
   "metadata": {},
   "outputs": [
    {
     "data": {
      "text/plain": [
       "'0x907a86721628bed9B5976D4B44ecd3EBe1E6CB46'"
      ]
     },
     "execution_count": 74,
     "metadata": {},
     "output_type": "execute_result"
    }
   ],
   "source": [
    "delegate.address"
   ]
  },
  {
   "cell_type": "code",
   "execution_count": 80,
   "id": "ef17db5a",
   "metadata": {},
   "outputs": [
    {
     "name": "stderr",
     "output_type": "stream",
     "text": [
      "C:\\Users\\Mcian\\AppData\\Local\\Programs\\Python\\Python39\\lib\\site-packages\\eth_account\\signers\\local.py:54: DeprecationWarning: privateKey is deprecated in favor of key\n",
      "  warnings.warn(\n"
     ]
    },
    {
     "data": {
      "text/plain": [
       "'0x55ac414705b3644e13812c2883570a13a41d8fe9d4495f883a67428f5b95ef14'"
      ]
     },
     "execution_count": 80,
     "metadata": {},
     "output_type": "execute_result"
    }
   ],
   "source": [
    "delegate.privateKey.hex()"
   ]
  },
  {
   "cell_type": "code",
   "execution_count": 77,
   "id": "d169119c",
   "metadata": {
    "scrolled": true
   },
   "outputs": [
    {
     "data": {
      "text/plain": [
       "1"
      ]
     },
     "execution_count": 77,
     "metadata": {},
     "output_type": "execute_result"
    }
   ],
   "source": [
    "user_contract.functions.getMsaId(delegate.address).call()"
   ]
  },
  {
   "cell_type": "code",
   "execution_count": 55,
   "id": "37f1fc7c",
   "metadata": {},
   "outputs": [
    {
     "data": {
      "text/plain": [
       "HexBytes('0x9eebef3145785cc6230b9acd933716e7f348105935a0433d5d01925fc3ebb597')"
      ]
     },
     "execution_count": 55,
     "metadata": {},
     "output_type": "execute_result"
    }
   ],
   "source": [
    "tx_hash"
   ]
  },
  {
   "cell_type": "code",
   "execution_count": 63,
   "id": "78308eea",
   "metadata": {},
   "outputs": [],
   "source": [
    "receipt_old = receipt"
   ]
  },
  {
   "cell_type": "code",
   "execution_count": 65,
   "id": "fec31298",
   "metadata": {},
   "outputs": [
    {
     "data": {
      "text/plain": [
       "ValuesView(AttributeDict({'transactionHash': HexBytes('0x7e9bfd311fe8c08866f1aa26ccc2fb62b5bd18292fe9e3ef0a4506d325c0a18c'), 'transactionIndex': 0, 'blockHash': HexBytes('0xd2a6f2ca29041b5de08ca2df11197c5d05ebf4188703284fdbbd460192e76c92'), 'blockNumber': 185, 'from': '0x907a86721628bed9B5976D4B44ecd3EBe1E6CB46', 'to': '0x089eAa1F808E66E9ee0703B974A9DACfD0163657', 'gasUsed': 49478, 'cumulativeGasUsed': 49478, 'contractAddress': None, 'logs': [], 'status': 1, 'logsBloom': HexBytes('0x00000000000000000000000000000000000000000000000000000000000000000000000000000000000000000000000000000000000000000000000000000000000000000000000000000000000000000000000000000000000000000000000000000000000000000000000000000000000000000000000000000000000000000000000000000000000000000000000000000000000000000000000000000000000000000000000000000000000000000000000000000000000000000000000000000000000000000000000000000000000000000000000000000000000000000000000000000000000000000000000000000000000000000000000000000000')}))"
      ]
     },
     "execution_count": 65,
     "metadata": {},
     "output_type": "execute_result"
    }
   ],
   "source": [
    "receipt.values()"
   ]
  },
  {
   "cell_type": "code",
   "execution_count": 66,
   "id": "d07813e4",
   "metadata": {},
   "outputs": [
    {
     "data": {
      "text/plain": [
       "3"
      ]
     },
     "execution_count": 66,
     "metadata": {},
     "output_type": "execute_result"
    }
   ],
   "source": [
    "messages_contract.functions.getSchemaCount().call()"
   ]
  },
  {
   "cell_type": "code",
   "execution_count": 9,
   "id": "1bafacdc",
   "metadata": {},
   "outputs": [
    {
     "data": {
      "text/plain": [
       "(2,\n",
       " 1,\n",
       " '{\"category\": \"test\", \"title\": \"test\", \"body\": \"test\", \"url\": \"test\", \"is_nsfw\": 0}',\n",
       " 296,\n",
       " 1657680902)"
      ]
     },
     "execution_count": 9,
     "metadata": {},
     "output_type": "execute_result"
    }
   ],
   "source": [
    "messages_contract.functions.getMessages(schemas['post']).call()[0]"
   ]
  },
  {
   "cell_type": "code",
   "execution_count": 86,
   "id": "97eeef73",
   "metadata": {},
   "outputs": [
    {
     "data": {
      "text/plain": [
       "287"
      ]
     },
     "execution_count": 86,
     "metadata": {},
     "output_type": "execute_result"
    }
   ],
   "source": [
    "w3.eth.get_block_number()"
   ]
  },
  {
   "cell_type": "code",
   "execution_count": null,
   "id": "df5e71fa",
   "metadata": {},
   "outputs": [],
   "source": []
  }
 ],
 "metadata": {
  "kernelspec": {
   "display_name": "Python 3 (ipykernel)",
   "language": "python",
   "name": "python3"
  },
  "language_info": {
   "codemirror_mode": {
    "name": "ipython",
    "version": 3
   },
   "file_extension": ".py",
   "mimetype": "text/x-python",
   "name": "python",
   "nbconvert_exporter": "python",
   "pygments_lexer": "ipython3",
   "version": "3.9.12"
  }
 },
 "nbformat": 4,
 "nbformat_minor": 5
}
