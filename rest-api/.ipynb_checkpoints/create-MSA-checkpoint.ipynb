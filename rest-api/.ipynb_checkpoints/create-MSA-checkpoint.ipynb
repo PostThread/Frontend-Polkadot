{
 "cells": [
  {
   "cell_type": "code",
   "execution_count": null,
   "id": "92f4e5b4",
   "metadata": {
    "scrolled": true
   },
   "outputs": [],
   "source": [
    "!pip install substrate-interface"
   ]
  },
  {
   "cell_type": "code",
   "execution_count": 1,
   "id": "d92f9d5b",
   "metadata": {},
   "outputs": [],
   "source": [
    "import os\n",
    "import contextlib"
   ]
  },
  {
   "cell_type": "code",
   "execution_count": 2,
   "id": "5c549a79",
   "metadata": {},
   "outputs": [],
   "source": [
    "import substrateinterface\n",
    "from substrateinterface import SubstrateInterface, Keypair\n",
    "from substrateinterface.exceptions import SubstrateRequestException\n",
    "\n",
    "substrate = SubstrateInterface(\n",
    "    url=\"ws://44.232.208.211:11946\",\n",
    "    ss58_format=42,\n",
    "    type_registry_preset='kusama'\n",
    ")"
   ]
  },
  {
   "cell_type": "code",
   "execution_count": 7,
   "id": "b87aceb5",
   "metadata": {},
   "outputs": [],
   "source": [
    "# Function to make extrinsic calls\n",
    "def make_call(call_module, call_function, call_params, keypair):\n",
    "    call = substrate.compose_call(\n",
    "        call_module=call_module,\n",
    "        call_function=call_function,\n",
    "        call_params=call_params\n",
    "    )\n",
    "\n",
    "    extrinsic = substrate.create_signed_extrinsic(call=call, keypair=keypair)\n",
    "\n",
    "    try:\n",
    "        receipt = substrate.submit_extrinsic(extrinsic, wait_for_inclusion=True)\n",
    "        print(\"Extrinsic '{}' sent and included in block '{}'\".format(receipt.extrinsic_hash, receipt.block_hash))\n",
    "\n",
    "    except Exception as e:\n",
    "        print(\"Failed to send: {}\".format(e))\n",
    "    return receipt"
   ]
  },
  {
   "cell_type": "code",
   "execution_count": 5,
   "id": "1f9f2899",
   "metadata": {},
   "outputs": [],
   "source": [
    "alice = Keypair.create_from_uri('//Alice')\n",
    "bob = Keypair.create_from_uri('//Bob')"
   ]
  },
  {
   "cell_type": "code",
   "execution_count": 12,
   "id": "aadf8beb",
   "metadata": {
    "scrolled": true
   },
   "outputs": [
    {
     "name": "stdout",
     "output_type": "stream",
     "text": [
      "Extrinsic '0x51e4e64d7fac5e142122ac954887412a16c9c4ebf8954ca8c6aa34bb187efdcf' sent and included in block '0x255f99ae4d92419ba8cb11e5d51a5020f2149638b42c7e5de0310b5711c6980d'\n"
     ]
    },
    {
     "data": {
      "text/plain": [
       "<substrateinterface.base.ExtrinsicReceipt at 0x7f590bf57fd0>"
      ]
     },
     "execution_count": 12,
     "metadata": {},
     "output_type": "execute_result"
    }
   ],
   "source": [
    "make_call(\"Msa\", \"create\", {}, alice)\n",
    "make_call(\"Msa\", \"create\", {}, bob)"
   ]
  },
  {
   "cell_type": "code",
   "execution_count": 9,
   "id": "c3d031b3",
   "metadata": {},
   "outputs": [],
   "source": [
    "# Create never before used wallet\n",
    "new_wallet = Keypair.create_from_uri('//BrandNewWallet4', crypto_type=substrateinterface.KeypairType.SR25519)"
   ]
  },
  {
   "cell_type": "code",
   "execution_count": 11,
   "id": "0f0f38b4",
   "metadata": {
    "scrolled": true
   },
   "outputs": [
    {
     "name": "stdout",
     "output_type": "stream",
     "text": [
      "Extrinsic '0x2cce1a28560126715146315eed28fc3aa63d2a87f99f1456bd0575dde9f1ca19' sent and included in block '0x073a88c284e047c1abd1ecc407f9cbfc2883f15b36b7b8e8061541235f820c5e'\n"
     ]
    }
   ],
   "source": [
    "# Give wallet some tokens to it can make MSA\n",
    "# Must be at least 1 unit\n",
    "one_unit = 1000000000000\n",
    "receipt = make_call(\"Balances\", \"transfer\", {\"dest\": new_wallet.ss58_address, \"value\": 10 * one_unit}, alice)\n",
    "receipt.error_message"
   ]
  },
  {
   "cell_type": "code",
   "execution_count": 76,
   "id": "c9086210",
   "metadata": {
    "scrolled": true
   },
   "outputs": [
    {
     "data": {
      "text/plain": [
       "<scale_info::245(value={'msa_id': 2, 'nonce': 0, 'expired': 0})>"
      ]
     },
     "execution_count": 76,
     "metadata": {},
     "output_type": "execute_result"
    }
   ],
   "source": [
    "msa_key = substrate.query(\n",
    "    module='Msa',\n",
    "    storage_function='KeyInfoOf',\n",
    "    params=[new_wallet.ss58_address]\n",
    ")\n",
    "\n",
    "if msa_key == None:\n",
    "    make_call(\"Msa\", \"create\", {}, new_wallet)\n",
    "    msa_key = substrate.query(\n",
    "        module='Msa',\n",
    "        storage_function='KeyInfoOf',\n",
    "        params=[new_wallet.ss58_address]\n",
    "    )\n",
    "    \n",
    "msa_id = msa_key['msa_id'].decode()\n",
    "msa_id"
   ]
  },
  {
   "cell_type": "code",
   "execution_count": 56,
   "id": "1156543a",
   "metadata": {
    "scrolled": true
   },
   "outputs": [],
   "source": [
    "# encode payload with \n",
    "payload_raw = { \"msa_id\": msa_id, \"nonce\": substrate.get_account_nonce(new_wallet.ss58_address) + 1 }\n",
    "add_provider_payload = substrate.encode_scale(type_string='scale_info::8', value=payload_raw['msa_id']) + substrate.encode_scale(type_string='scale_info::4', value=payload_raw['nonce'])\n",
    "add_provider_payload1 = \"\".encode() + add_provider_payload.data\n",
    "add_provider_payload2 = substrate.encode_scale(type_string='str', value=\"<Bytes>\") + add_provider_payload + substrate.encode_scale(type_string='str', value=\"</Bytes>\")\n",
    "add_provider_payload3 = \"<Bytes>\".encode() + add_provider_payload.data + \"</Bytes>\".encode()"
   ]
  },
  {
   "cell_type": "code",
   "execution_count": 96,
   "id": "a5777308",
   "metadata": {},
   "outputs": [],
   "source": [
    "# This helps find what scale_info to use for parameters\n",
    "# substrate.metadata_decoder"
   ]
  },
  {
   "cell_type": "code",
   "execution_count": 57,
   "id": "6109b579",
   "metadata": {},
   "outputs": [],
   "source": [
    "signature = new_wallet.sign(add_provider_payload)\n",
    "signature1 = new_wallet.sign(add_provider_payload1)\n",
    "signature2 = new_wallet.sign(add_provider_payload2)\n",
    "signature3 = new_wallet.sign(add_provider_payload3)"
   ]
  },
  {
   "cell_type": "code",
   "execution_count": 90,
   "id": "3f6e1563",
   "metadata": {},
   "outputs": [],
   "source": [
    "# signature = new_wallet.sign(blake2b(add_provider_payload.data, digest_size=32).digest())"
   ]
  },
  {
   "cell_type": "code",
   "execution_count": 16,
   "id": "77af8b73",
   "metadata": {
    "scrolled": true
   },
   "outputs": [
    {
     "name": "stdout",
     "output_type": "stream",
     "text": [
      "0 0\n",
      "{'type': 'Module', 'name': 'AddKeySignatureVerificationFailed', 'docs': ['Cryptographic signature verification failed for adding a key to MSA']}\n",
      "\n",
      "0 1\n",
      "{'type': 'Module', 'name': 'AddKeySignatureVerificationFailed', 'docs': ['Cryptographic signature verification failed for adding a key to MSA']}\n",
      "\n",
      "0 2\n",
      "{'type': 'Module', 'name': 'AddKeySignatureVerificationFailed', 'docs': ['Cryptographic signature verification failed for adding a key to MSA']}\n",
      "\n",
      "0 3\n",
      "{'type': 'Module', 'name': 'DuplicatedKey', 'docs': ['tried to add a key that was already registered']}\n",
      "\n",
      "1 0\n",
      "{'type': 'Module', 'name': 'AddKeySignatureVerificationFailed', 'docs': ['Cryptographic signature verification failed for adding a key to MSA']}\n",
      "\n",
      "1 1\n",
      "{'type': 'Module', 'name': 'AddKeySignatureVerificationFailed', 'docs': ['Cryptographic signature verification failed for adding a key to MSA']}\n",
      "\n",
      "1 2\n",
      "{'type': 'Module', 'name': 'AddKeySignatureVerificationFailed', 'docs': ['Cryptographic signature verification failed for adding a key to MSA']}\n",
      "\n",
      "1 3\n",
      "{'type': 'Module', 'name': 'DuplicatedKey', 'docs': ['tried to add a key that was already registered']}\n",
      "\n"
     ]
    }
   ],
   "source": [
    "for i, key in enumerate([\"0x\" + new_wallet.public_key.hex(), new_wallet.ss58_address]):\n",
    "    for j, s in enumerate([signature, signature1, signature2, signature3]):\n",
    "        print(i, j)\n",
    "        call_params = {\n",
    "            \"key\": key,\n",
    "            \"proof\": {\"Sr25519\": \"0x\" + s.hex()},\n",
    "            \"add_key_payload\": payload_raw\n",
    "        }\n",
    "\n",
    "        # mute function as I made it output a lot of info\n",
    "        with open(os.devnull, \"w\") as f, contextlib.redirect_stdout(f):\n",
    "            receipt = make_call(\"Msa\", \"add_key_to_msa\", call_params, new_wallet)\n",
    "        print(receipt.error_message)\n",
    "        print()"
   ]
  },
  {
   "cell_type": "code",
   "execution_count": 58,
   "id": "a5f1e38b",
   "metadata": {
    "scrolled": true
   },
   "outputs": [
    {
     "name": "stdout",
     "output_type": "stream",
     "text": [
      "{'type': 'Module', 'name': 'DuplicatedKey', 'docs': ['tried to add a key that was already registered']}\n",
      "\n"
     ]
    }
   ],
   "source": [
    "add_provider_payload3 = \"<Bytes>\".encode() + add_provider_payload.data + \"</Bytes>\".encode()\n",
    "signature3 = new_wallet.sign(add_provider_payload3)\n",
    "\n",
    "key = \"0x\" + new_wallet.public_key.hex()\n",
    "s = signature3\n",
    "\n",
    "call_params = {\n",
    "    \"key\": key,\n",
    "    \"proof\": {\"Sr25519\": \"0x\" + s.hex()},\n",
    "    \"add_key_payload\": payload_raw\n",
    "}\n",
    "\n",
    "# mute function as I made it output a lot of info\n",
    "with open(os.devnull, \"w\") as f, contextlib.redirect_stdout(f):\n",
    "    receipt = make_call(\"Msa\", \"add_key_to_msa\", call_params, new_wallet)\n",
    "print(receipt.error_message)\n",
    "print()"
   ]
  },
  {
   "cell_type": "markdown",
   "id": "b9e9953c",
   "metadata": {},
   "source": [
    "# Attempt to delegate"
   ]
  },
  {
   "cell_type": "code",
   "execution_count": 79,
   "id": "177b6617",
   "metadata": {},
   "outputs": [
    {
     "name": "stdout",
     "output_type": "stream",
     "text": [
      "None\n",
      "\n"
     ]
    }
   ],
   "source": [
    "payload_raw = { \"authorized_msa_id\": msa_id, \"permission\": 0 }\n",
    "add_provider_payload = substrate.encode_scale(type_string='scale_info::8', value=payload_raw['authorized_msa_id']) + substrate.encode_scale(type_string='scale_info::2', value=payload_raw['permission'])\n",
    "add_provider_payload3 = \"<Bytes>\".encode() + add_provider_payload.data + \"</Bytes>\".encode()\n",
    "signature3 = alice.sign(add_provider_payload3)\n",
    "\n",
    "\n",
    "key = \"0x\" + alice.public_key.hex()\n",
    "s = signature3\n",
    "\n",
    "call_params = {\n",
    "    \"provider_key\": key,\n",
    "    \"proof\": {\"Sr25519\": \"0x\" + s.hex()},\n",
    "    \"add_provider_payload\": payload_raw\n",
    "}\n",
    "\n",
    "# mute function as I made it output a lot of info\n",
    "with open(os.devnull, \"w\") as f, contextlib.redirect_stdout(f):\n",
    "    receipt = make_call(\"Msa\", \"add_provider_to_msa\", call_params, new_wallet)\n",
    "print(receipt.error_message)\n",
    "print()"
   ]
  },
  {
   "cell_type": "markdown",
   "id": "6e418b61",
   "metadata": {},
   "source": [
    "# Attempt to create with delegation"
   ]
  },
  {
   "cell_type": "code",
   "execution_count": 92,
   "id": "38674e6f",
   "metadata": {},
   "outputs": [],
   "source": [
    "msa_key = substrate.query(\n",
    "    module='Msa',\n",
    "    storage_function='KeyInfoOf',\n",
    "    params=[new_wallet.ss58_address]\n",
    ")"
   ]
  },
  {
   "cell_type": "code",
   "execution_count": 93,
   "id": "5b70cda1",
   "metadata": {},
   "outputs": [
    {
     "data": {
      "text/plain": [
       "<Option<scale_info::245>(value=None)>"
      ]
     },
     "execution_count": 93,
     "metadata": {},
     "output_type": "execute_result"
    }
   ],
   "source": [
    "msa_key"
   ]
  },
  {
   "cell_type": "code",
   "execution_count": 94,
   "id": "dfcdefbc",
   "metadata": {
    "scrolled": true
   },
   "outputs": [
    {
     "name": "stdout",
     "output_type": "stream",
     "text": [
      "None\n",
      "\n"
     ]
    }
   ],
   "source": [
    "msa_key = substrate.query(\n",
    "    module='Msa',\n",
    "    storage_function='KeyInfoOf',\n",
    "    params=[alice.ss58_address]\n",
    ")\n",
    "\n",
    "if msa_key == None:\n",
    "    make_call(\"Msa\", \"create\", {}, new_wallet)\n",
    "    msa_key = substrate.query(\n",
    "        module='Msa',\n",
    "        storage_function='KeyInfoOf',\n",
    "        params=[alice.ss58_address]\n",
    "    )\n",
    "    \n",
    "provider_msa_id = msa_key['msa_id'].decode()\n",
    "\n",
    "nex_msa_id = substrate.query(\n",
    "    module='Msa',\n",
    "    storage_function='MsaIdentifier',\n",
    "    params=[]\n",
    ").value + 1\n",
    "\n",
    "payload_raw = { \"authorized_msa_id\": provider_msa_id, \"permission\": 0 }\n",
    "add_provider_payload = substrate.(type_string='scale_info::8', value=payload_raw['authorized_msa_id']) + \\\n",
    "    substrate.encode_scale(type_string='scale_info::2', value=paylencode_scaleoad_raw['permission'])\n",
    "add_provider_payload3 = \"<Bytes>\".encode() + add_provider_payload.data + \"</Bytes>\".encode()\n",
    "signature3 = new_wallet.sign(add_provider_payload3)\n",
    "\n",
    "\n",
    "key = \"0x\" + new_wallet.public_key.hex()\n",
    "s = signature3\n",
    "\n",
    "call_params = {\n",
    "    \"delegator_key\": key,\n",
    "    \"proof\": {\"Sr25519\": \"0x\" + s.hex()},\n",
    "    \"add_provider_payload\": payload_raw\n",
    "}\n",
    "\n",
    "# mute function as I made it output a lot of info\n",
    "with open(os.devnull, \"w\") as f, contextlib.redirect_stdout(f):\n",
    "    receipt = make_call(\"Msa\", \"create_sponsored_account_with_delegation\", call_params, alice)\n",
    "print(receipt.error_message)\n",
    "print()"
   ]
  },
  {
   "cell_type": "code",
   "execution_count": null,
   "id": "20719697",
   "metadata": {},
   "outputs": [],
   "source": []
  }
 ],
 "metadata": {
  "kernelspec": {
   "display_name": "Python 3",
   "language": "python",
   "name": "python3"
  },
  "language_info": {
   "codemirror_mode": {
    "name": "ipython",
    "version": 3
   },
   "file_extension": ".py",
   "mimetype": "text/x-python",
   "name": "python",
   "nbconvert_exporter": "python",
   "pygments_lexer": "ipython3",
   "version": "3.6.9"
  }
 },
 "nbformat": 4,
 "nbformat_minor": 5
}
