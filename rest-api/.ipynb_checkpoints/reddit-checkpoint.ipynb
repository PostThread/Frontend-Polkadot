{
 "cells": [
  {
   "cell_type": "code",
   "execution_count": 1,
   "id": "c02729b4",
   "metadata": {},
   "outputs": [],
   "source": [
    "%load_ext autoreload\n",
    "%autoreload 2"
   ]
  },
  {
   "cell_type": "code",
   "execution_count": 2,
   "id": "4298de95",
   "metadata": {},
   "outputs": [
    {
     "name": "stderr",
     "output_type": "stream",
     "text": [
      "C:\\Users\\Mcian\\AppData\\Local\\Programs\\Python\\Python39\\lib\\site-packages\\eth_tester\\backends\\__init__.py:30: UserWarning: Ethereum Tester: No backend was explicitly set, and no *full* backends were available.  Falling back to the `MockBackend` which does not support all EVM functionality.  Please refer to the `eth-tester` documentation for information on what backends are available and how to set them.  Your py-evm package may need to be updated.\n",
      "  warnings.warn(UserWarning(\n",
      "F:\\web3_messing_around\\PostThread-Tron\\rest-api\\web3_helpers.py:15: ResourceWarning: unclosed file <_io.TextIOWrapper name='.MNEMONIC.json' mode='r' encoding='cp1252'>\n",
      "  MNEMONIC = json.load(open('.MNEMONIC.json'))\n",
      "ResourceWarning: Enable tracemalloc to get the object allocation traceback\n",
      "F:\\web3_messing_around\\PostThread-Tron\\rest-api\\web3_helpers.py:18: ResourceWarning: unclosed file <_io.TextIOWrapper name='../backend/build/contracts/PostThread.json' mode='r' encoding='cp1252'>\n",
      "  build = json.load(open(\"../backend/build/contracts/PostThread.json\"))\n",
      "ResourceWarning: Enable tracemalloc to get the object allocation traceback\n",
      "F:\\web3_messing_around\\PostThread-Tron\\rest-api\\web3_helpers.py:19: ResourceWarning: unclosed file <_io.TextIOWrapper name='../backend/previous.json' mode='r' encoding='cp1252'>\n",
      "  prev = json.load(open(\"../backend/previous.json\"))\n",
      "ResourceWarning: Enable tracemalloc to get the object allocation traceback\n",
      "C:\\Users\\Mcian\\AppData\\Local\\Programs\\Python\\Python39\\lib\\site-packages\\ipfshttpclient\\client\\__init__.py:75: VersionMismatch: Unsupported daemon version '0.12.2' (not in range: 0.5.0 ≤ … < 0.9.0)\n",
      "  warnings.warn(exceptions.VersionMismatch(version, minimum, maximum))\n",
      "F:\\web3_messing_around\\PostThread-Tron\\rest-api\\web3_helpers.py:28: ResourceWarning: unclosed file <_io.TextIOWrapper name='schemas.json' mode='r' encoding='cp1252'>\n",
      "  schemas = json.load(open(\"schemas.json\"))\n",
      "ResourceWarning: Enable tracemalloc to get the object allocation traceback\n",
      "F:\\web3_messing_around\\PostThread-Tron\\rest-api\\database_queries.py:9: ResourceWarning: unclosed file <_io.TextIOWrapper name='schemas.json' mode='r' encoding='cp1252'>\n",
      "  schemas = json.load(open(\"schemas.json\", \"r\"))\n",
      "ResourceWarning: Enable tracemalloc to get the object allocation traceback\n"
     ]
    }
   ],
   "source": [
    "import json\n",
    "import pandas as pd\n",
    "import subprocess\n",
    "import time\n",
    "from random import sample\n",
    "import ipfshttpclient\n",
    "from os import listdir\n",
    "from os.path import isfile, join\n",
    "import re\n",
    "import praw\n",
    "\n",
    "from web3_helpers import *\n",
    "from database_queries import update_db\n",
    "import sqlite3"
   ]
  },
  {
   "cell_type": "code",
   "execution_count": 3,
   "id": "54cc1d2a",
   "metadata": {},
   "outputs": [
    {
     "name": "stderr",
     "output_type": "stream",
     "text": [
      "C:\\Users\\Mcian\\AppData\\Local\\Temp\\ipykernel_32920\\3896879100.py:1: ResourceWarning: unclosed file <_io.TextIOWrapper name='accounts.json' mode='r' encoding='cp1252'>\n",
      "  accounts = json.load(open(\"accounts.json\", \"r\"))\n",
      "ResourceWarning: Enable tracemalloc to get the object allocation traceback\n",
      "C:\\Users\\Mcian\\AppData\\Local\\Temp\\ipykernel_32920\\3896879100.py:2: ResourceWarning: unclosed file <_io.TextIOWrapper name='schemas.json' mode='r' encoding='cp1252'>\n",
      "  schemas = json.load(open(\"schemas.json\", \"r\"))\n",
      "ResourceWarning: Enable tracemalloc to get the object allocation traceback\n"
     ]
    }
   ],
   "source": [
    "accounts = json.load(open(\"accounts.json\", \"r\"))\n",
    "schemas = json.load(open(\"schemas.json\", \"r\"))"
   ]
  },
  {
   "cell_type": "code",
   "execution_count": 20,
   "id": "05519d11",
   "metadata": {},
   "outputs": [],
   "source": [
    "bob = delegate\n",
    "bob_msa_id = get_msa_id(delegate)"
   ]
  },
  {
   "cell_type": "code",
   "execution_count": 4,
   "id": "780ca96b",
   "metadata": {
    "scrolled": true
   },
   "outputs": [
    {
     "name": "stderr",
     "output_type": "stream",
     "text": [
      "C:\\Users\\Mcian\\AppData\\Local\\Temp\\ipykernel_32920\\1802042602.py:1: ResourceWarning: unclosed file <_io.TextIOWrapper name='.reddit_creds.json' mode='r' encoding='cp1252'>\n",
      "  reddit_creds = json.load(open(\".reddit_creds.json\", \"r\"))\n",
      "ResourceWarning: Enable tracemalloc to get the object allocation traceback\n"
     ]
    }
   ],
   "source": [
    "reddit_creds = json.load(open(\".reddit_creds.json\", \"r\"))\n",
    "reddit = praw.Reddit(\n",
    "    client_id=reddit_creds[\"client_id\"],\n",
    "    client_secret=reddit_creds[\"client_secret\"],\n",
    "    password=reddit_creds[\"password\"],\n",
    "    user_agent=reddit_creds[\"user_agent\"],\n",
    "    username=reddit_creds[\"username\"],\n",
    ")"
   ]
  },
  {
   "cell_type": "code",
   "execution_count": 5,
   "id": "127601be",
   "metadata": {},
   "outputs": [],
   "source": [
    "con = sqlite3.connect('postthreadV1_write.db')\n",
    "cur = con.cursor()"
   ]
  },
  {
   "cell_type": "code",
   "execution_count": 6,
   "id": "32f8566f",
   "metadata": {},
   "outputs": [],
   "source": [
    "r_all = reddit.subreddit('all')"
   ]
  },
  {
   "cell_type": "code",
   "execution_count": 7,
   "id": "2aaa501c",
   "metadata": {},
   "outputs": [],
   "source": [
    "client = ipfshttpclient.connect()"
   ]
  },
  {
   "cell_type": "code",
   "execution_count": 8,
   "id": "8e1eb535",
   "metadata": {},
   "outputs": [],
   "source": [
    "path = \"/tmp/\""
   ]
  },
  {
   "cell_type": "code",
   "execution_count": 22,
   "id": "260fbd76",
   "metadata": {},
   "outputs": [
    {
     "data": {
      "text/plain": [
       "<eth_account.signers.local.LocalAccount at 0x24a822125e0>"
      ]
     },
     "execution_count": 22,
     "metadata": {},
     "output_type": "execute_result"
    }
   ],
   "source": [
    "delegate"
   ]
  },
  {
   "cell_type": "code",
   "execution_count": 14,
   "id": "c6cf6970",
   "metadata": {},
   "outputs": [],
   "source": [
    "def mint_reddit_users_msa_ids(post, delegate, wait_for_inclusion=False, wait_for_finalization=False):\n",
    "    print(wait_for_inclusion)\n",
    "    ## USER ##\n",
    "    try:\n",
    "        username = str(post.author.name)\n",
    "        if username[0:2] == '0x':\n",
    "            username = username[2:]\n",
    "        profile_pic = post.author.icon_img\n",
    "    except:\n",
    "        username = \"removed\"\n",
    "        profile_pic = \"removed\"\n",
    "\n",
    "    password = 'password'\n",
    "    user_wallet = w3.eth.account.from_key(keccak(encode_abi_packed(['string'],[f\"{username}{password}\"])))\n",
    "    msa_id = create_msa_with_delegator(delegate, user_wallet, \n",
    "                                       wait_for_inclusion=wait_for_inclusion, wait_for_finalization=wait_for_finalization)\n",
    "    \n",
    "    return {\"username\": username, \"password\": password, \"profile_pic\": profile_pic, \"user_wallet\": user_wallet, \"msa_id\": msa_id}"
   ]
  },
  {
   "cell_type": "code",
   "execution_count": 15,
   "id": "a9682ef6",
   "metadata": {
    "scrolled": true
   },
   "outputs": [],
   "source": [
    "def mint_reddit_users_msa_ids_for_posts(posts, delegate):\n",
    "    users = {}\n",
    "    posts_and_comments = posts\n",
    "    for i, (post_name, post) in enumerate(posts.items()):\n",
    "        if i != len(posts):\n",
    "            users[post_name] = {post_name: mint_reddit_users_msa_ids(post, delegate)}\n",
    "        \n",
    "        top_comments = []\n",
    "        for comment in post.comments.list()[:10]:\n",
    "            if comment.parent_id == post.name:\n",
    "                top_comments.append(comment.name)\n",
    "                users[post_name][comment.name] = mint_reddit_users_msa_ids(comment, delegate)\n",
    "    \n",
    "    # last one wait for finalization\n",
    "    users[post_name] = {post_name: mint_reddit_users_msa_ids(post, delegate, True, True)}\n",
    "        \n",
    "    return users"
   ]
  },
  {
   "cell_type": "code",
   "execution_count": 16,
   "id": "fa35169b",
   "metadata": {},
   "outputs": [],
   "source": [
    "def mint_comment(post_data_hash, parent_hash, user, comment):  \n",
    "    user_wallet = w3.eth.account.from_key(keccak(encode_abi_packed(['string'],[f\"{user['username']}{user['password']}\"])))  \n",
    "    user_msa_id = get_msa_id(user_wallet)\n",
    "\n",
    "    comment_data = {\n",
    "        \"post_hash\": post_data_hash,\n",
    "        \"parent_hash\": parent_hash,\n",
    "        \"depth\": comment.depth,\n",
    "        \"body\": comment.body,\n",
    "    }\n",
    "\n",
    "    comment_data_hash, receipt_comment = mint_data(comment_data, user_msa_id, schemas['comment'], path+'comments/', wait_for_inclusion=False, wait_for_finalization=False)\n",
    "\n",
    "    ## comment votes ##\n",
    "    receipt_ups = mint_votes(user_msa_id, comment.ups, comment_data_hash, post_data_hash, 'comment')\n",
    "    receipt_downs = mint_votes(user_msa_id, comment.downs, comment_data_hash, post_data_hash, 'comment')\n",
    "    \n",
    "    return comment_data_hash, user_msa_id"
   ]
  },
  {
   "cell_type": "code",
   "execution_count": 17,
   "id": "00b67df1",
   "metadata": {},
   "outputs": [],
   "source": [
    "def mint_reddit_posts_and_users(posts, users, user_msa_ids, delegate):\n",
    "    for i, (post_name, post) in enumerate(posts.items()):\n",
    "        try:\n",
    "            user = users[post.name][post.name]\n",
    "        except:\n",
    "            print('Could not find user for post:', post.author)\n",
    "            continue\n",
    "        ## POST ##\n",
    "        post_data = {\n",
    "            \"category\": post.subreddit.display_name,\n",
    "            \"title\": post.title,\n",
    "            \"body\": post.selftext,\n",
    "            \"url\": post.url,\n",
    "            \"is_nsfw\": post.over_18\n",
    "        }\n",
    "        user_wallet = Keypair.create_from_uri('//' + user['username'] + user['password'])\n",
    "        user_msa_id = user['msa_id']\n",
    "        if user_msa_id is None:\n",
    "            print('no user_msa_id')\n",
    "            continue\n",
    "        \n",
    "        receipt_user = mint_user(user_msa_id, user['username'], user['password'], user['profile_pic'], user_wallet)\n",
    "\n",
    "        post_data_hash, receipt_post = mint_data(post_data, user_msa_id, schemas['post'], path+'posts/', \n",
    "                                                 wait_for_inclusion=False, wait_for_finalization=False)\n",
    "\n",
    "        ## post votes ##\n",
    "        receipt_ups = mint_votes(user_msa_id, post.ups, post_data_hash, post_data_hash, 'post', \n",
    "                                                 wait_for_inclusion=False, wait_for_finalization=False)\n",
    "        receipt_downs = mint_votes(user_msa_id, post.downs, post_data_hash, post_data_hash, 'post', \n",
    "                                                 wait_for_inclusion=False, wait_for_finalization=False)\n",
    "        \n",
    "        comment_list = post.comments.list()\n",
    "        top_comments = {}\n",
    "        for comment in comment_list[:10]:\n",
    "            if comment.parent_id == post.name:  \n",
    "                try:\n",
    "                    user = users[post_name][comment.name] \n",
    "                except:\n",
    "                    print('Could not find user for comment:', comment.author)\n",
    "                    continue\n",
    "                comment_data_hash, comment_user_msa_id = mint_comment(post_data_hash, post_data_hash, user, comment)\n",
    "                top_comments[comment.name] = {\"hash\": comment_data_hash, \"comment_count\": 0}\n",
    "                \n",
    "        ## for comments on comments\n",
    "#         if len(comment_list) > 10:\n",
    "#             for comment in comment_list[10:]:\n",
    "#                 if type(comment) != praw.models.reddit.more.MoreComments and comment.parent_id in top_comments and top_comments[comment.parent_id]['comment_count'] < 10:\n",
    "#                     try:    \n",
    "#                         user = data[data[] == post.name[comment.name]    \n",
    "#                     except:\n",
    "#                         continue\n",
    "                        \n",
    "#                     comment_data_hash = mint_comment(post_data_hash, top_comments[comment.parent_id][\"hash\"], user, comment)\n",
    "#                     top_comments[comment.name] = {\"hash\": comment_data_hash, \"comment_count\": 0}\n",
    "#                     top_comments[comment.parent_id][\"comment_count\"] += 1\n",
    "        \n",
    "        ## FOLLOWS ##\n",
    "        for other_user_msa_id in sample(user_msa_ids, min(10, len(user_msa_ids))):\n",
    "            if user_msa_id != other_user_msa_id:\n",
    "                follow_user(user_msa_id, other_user_msa_id)\n",
    "        \n",
    "    return True"
   ]
  },
  {
   "cell_type": "markdown",
   "id": "665c2f27",
   "metadata": {},
   "source": [
    "# DB writer"
   ]
  },
  {
   "cell_type": "code",
   "execution_count": 18,
   "id": "2a71f011",
   "metadata": {},
   "outputs": [],
   "source": [
    "post_query = \"\"\"\n",
    "SELECT category, title, post.msa_id_from_query, username\n",
    "FROM post \n",
    "JOIN user ON user.msa_id_from_query = post.msa_id_from_query\n",
    "\"\"\"\n",
    "user_query = \"\"\"SELECT msa_id_from_query FROM user\"\"\""
   ]
  },
  {
   "cell_type": "code",
   "execution_count": 21,
   "id": "289ad355",
   "metadata": {
    "scrolled": true
   },
   "outputs": [
    {
     "name": "stdout",
     "output_type": "stream",
     "text": [
      "# new posts: 100\n"
     ]
    },
    {
     "ename": "TypeError",
     "evalue": "create_msa_with_delegator() got multiple values for argument 'wait_for_inclusion'",
     "output_type": "error",
     "traceback": [
      "\u001b[1;31m-----------------------------------------------------\u001b[0m",
      "\u001b[1;31mTypeError\u001b[0m           Traceback (most recent call last)",
      "Input \u001b[1;32mIn [21]\u001b[0m, in \u001b[0;36m<cell line: 8>\u001b[1;34m()\u001b[0m\n\u001b[0;32m     13\u001b[0m \u001b[38;5;28mprint\u001b[39m(\u001b[38;5;124m\"\u001b[39m\u001b[38;5;124m# new posts:\u001b[39m\u001b[38;5;124m\"\u001b[39m, \u001b[38;5;28mlen\u001b[39m(posts))\n\u001b[0;32m     14\u001b[0m \u001b[38;5;66;03m# run twice since first time it waits for finalization\u001b[39;00m\n\u001b[1;32m---> 15\u001b[0m all_users \u001b[38;5;241m=\u001b[39m \u001b[43mmint_reddit_users_msa_ids_for_posts\u001b[49m\u001b[43m(\u001b[49m\u001b[43mposts\u001b[49m\u001b[43m,\u001b[49m\u001b[43m \u001b[49m\u001b[43mbob\u001b[49m\u001b[43m)\u001b[49m\n\u001b[0;32m     16\u001b[0m \u001b[38;5;28mprint\u001b[39m(\u001b[38;5;124m'\u001b[39m\u001b[38;5;124mmsa done posting\u001b[39m\u001b[38;5;124m'\u001b[39m)\n\u001b[0;32m     17\u001b[0m all_users \u001b[38;5;241m=\u001b[39m mint_reddit_users_msa_ids_for_posts(posts, bob)\n",
      "Input \u001b[1;32mIn [15]\u001b[0m, in \u001b[0;36mmint_reddit_users_msa_ids_for_posts\u001b[1;34m(posts, delegate)\u001b[0m\n\u001b[0;32m      4\u001b[0m \u001b[38;5;28;01mfor\u001b[39;00m i, (post_name, post) \u001b[38;5;129;01min\u001b[39;00m \u001b[38;5;28menumerate\u001b[39m(posts\u001b[38;5;241m.\u001b[39mitems()):\n\u001b[0;32m      5\u001b[0m     \u001b[38;5;28;01mif\u001b[39;00m i \u001b[38;5;241m!=\u001b[39m \u001b[38;5;28mlen\u001b[39m(posts):\n\u001b[1;32m----> 6\u001b[0m         users[post_name] \u001b[38;5;241m=\u001b[39m {post_name: \u001b[43mmint_reddit_users_msa_ids\u001b[49m\u001b[43m(\u001b[49m\u001b[43mpost\u001b[49m\u001b[43m,\u001b[49m\u001b[43m \u001b[49m\u001b[43mdelegate\u001b[49m\u001b[43m)\u001b[49m}\n\u001b[0;32m      8\u001b[0m     top_comments \u001b[38;5;241m=\u001b[39m []\n\u001b[0;32m      9\u001b[0m     \u001b[38;5;28;01mfor\u001b[39;00m comment \u001b[38;5;129;01min\u001b[39;00m post\u001b[38;5;241m.\u001b[39mcomments\u001b[38;5;241m.\u001b[39mlist()[:\u001b[38;5;241m10\u001b[39m]:\n",
      "Input \u001b[1;32mIn [14]\u001b[0m, in \u001b[0;36mmint_reddit_users_msa_ids\u001b[1;34m(post, delegate, wait_for_inclusion, wait_for_finalization)\u001b[0m\n\u001b[0;32m     12\u001b[0m password \u001b[38;5;241m=\u001b[39m \u001b[38;5;124m'\u001b[39m\u001b[38;5;124mpassword\u001b[39m\u001b[38;5;124m'\u001b[39m\n\u001b[0;32m     13\u001b[0m user_wallet \u001b[38;5;241m=\u001b[39m w3\u001b[38;5;241m.\u001b[39meth\u001b[38;5;241m.\u001b[39maccount\u001b[38;5;241m.\u001b[39mfrom_key(keccak(encode_abi_packed([\u001b[38;5;124m'\u001b[39m\u001b[38;5;124mstring\u001b[39m\u001b[38;5;124m'\u001b[39m],[\u001b[38;5;124mf\u001b[39m\u001b[38;5;124m\"\u001b[39m\u001b[38;5;132;01m{\u001b[39;00musername\u001b[38;5;132;01m}\u001b[39;00m\u001b[38;5;132;01m{\u001b[39;00mpassword\u001b[38;5;132;01m}\u001b[39;00m\u001b[38;5;124m\"\u001b[39m])))\n\u001b[1;32m---> 14\u001b[0m msa_id \u001b[38;5;241m=\u001b[39m \u001b[43mcreate_msa_with_delegator\u001b[49m\u001b[43m(\u001b[49m\u001b[43mdelegate\u001b[49m\u001b[43m,\u001b[49m\u001b[43m \u001b[49m\u001b[43muser_wallet\u001b[49m\u001b[43m,\u001b[49m\u001b[43m \u001b[49m\n\u001b[0;32m     15\u001b[0m \u001b[43m                                   \u001b[49m\u001b[43mwait_for_inclusion\u001b[49m\u001b[38;5;241;43m=\u001b[39;49m\u001b[43mwait_for_inclusion\u001b[49m\u001b[43m,\u001b[49m\u001b[43m \u001b[49m\u001b[43mwait_for_finalization\u001b[49m\u001b[38;5;241;43m=\u001b[39;49m\u001b[43mwait_for_finalization\u001b[49m\u001b[43m)\u001b[49m\n\u001b[0;32m     17\u001b[0m \u001b[38;5;28;01mreturn\u001b[39;00m {\u001b[38;5;124m\"\u001b[39m\u001b[38;5;124musername\u001b[39m\u001b[38;5;124m\"\u001b[39m: username, \u001b[38;5;124m\"\u001b[39m\u001b[38;5;124mpassword\u001b[39m\u001b[38;5;124m\"\u001b[39m: password, \u001b[38;5;124m\"\u001b[39m\u001b[38;5;124mprofile_pic\u001b[39m\u001b[38;5;124m\"\u001b[39m: profile_pic, \u001b[38;5;124m\"\u001b[39m\u001b[38;5;124muser_wallet\u001b[39m\u001b[38;5;124m\"\u001b[39m: user_wallet, \u001b[38;5;124m\"\u001b[39m\u001b[38;5;124mmsa_id\u001b[39m\u001b[38;5;124m\"\u001b[39m: msa_id}\n",
      "\u001b[1;31mTypeError\u001b[0m: create_msa_with_delegator() got multiple values for argument 'wait_for_inclusion'"
     ]
    }
   ],
   "source": [
    "all_posts = pd.read_sql_query(post_query, con)\n",
    "user_msa_ids = pd.read_sql_query(user_query, con)['msa_id_from_query'].unique().tolist()\n",
    "\n",
    "minted_time = 0\n",
    "last_block = 0\n",
    "while True:\n",
    "    # Mint reddit posts every hour\n",
    "    if (time.time() - minted_time) / 60 > 30:\n",
    "        all_posts = pd.read_sql_query(post_query, con)\n",
    "        user_msa_ids = pd.read_sql_query(user_query, con)['msa_id_from_query'].unique().tolist()\n",
    "        \n",
    "        posts = {p.name: p for p in r_all.top(time_filter='hour') if all_posts[(all_posts['username'] == p.author) & (all_posts['title'] == p.title) & (all_posts['category'] == p.subreddit)].size == 0}\n",
    "        print(\"# new posts:\", len(posts))\n",
    "        # run twice since first time it waits for finalization\n",
    "        all_users = mint_reddit_users_msa_ids_for_posts(posts, bob)\n",
    "        print('msa done posting')\n",
    "        all_users = mint_reddit_users_msa_ids_for_posts(posts, bob)\n",
    "        it_worked = mint_reddit_posts_and_users(posts, all_users, user_msa_ids, bob)\n",
    "        if not it_worked:\n",
    "            print(\"Minting Posts failed\")\n",
    "\n",
    "        minted_time = time.time()\n",
    "        print('Done minting')\n",
    "    \n",
    "    time.sleep(1)"
   ]
  },
  {
   "cell_type": "code",
   "execution_count": null,
   "id": "f98ec176",
   "metadata": {},
   "outputs": [],
   "source": []
  },
  {
   "cell_type": "code",
   "execution_count": null,
   "id": "cf1072a0",
   "metadata": {},
   "outputs": [],
   "source": []
  },
  {
   "cell_type": "code",
   "execution_count": null,
   "id": "48bc334b",
   "metadata": {},
   "outputs": [],
   "source": []
  },
  {
   "cell_type": "markdown",
   "id": "0b7868a5",
   "metadata": {},
   "source": [
    "# test"
   ]
  },
  {
   "cell_type": "code",
   "execution_count": 19,
   "id": "8b9e764c",
   "metadata": {},
   "outputs": [],
   "source": [
    "posts = {p.name: p for p in r_all.top(time_filter='hour') if all_posts[(all_posts['username'] == p.author) & (all_posts['title'] == p.title) & (all_posts['category'] == p.subreddit)].size == 0}"
   ]
  },
  {
   "cell_type": "code",
   "execution_count": 118,
   "id": "6faf0b18",
   "metadata": {},
   "outputs": [
    {
     "name": "stdout",
     "output_type": "stream",
     "text": [
      "post 14048\n",
      "comment 106827\n",
      "Failed to get data from row  {'post_hash': 'Qmb1kobqprptgdgHQkJcrMGNuXbcJZERKXjbHLLLRXuzsd', 'parent_comment_hash': 'Qmb1kobqprptgdgHQkJcrMGNuXbcJZERKXjbHLLLRXuzsd', 'depth': 0, 'body': 'Nice Post!', 'is_nsfw': False}\n",
      "Failed to get data from row  {'post_hash': 'QmbG2dxLWHKvdgsTqDzLjhD96BXrLQUeJkrLuasmPZKgn9', 'parent_comment_hash': 'QmbG2dxLWHKvdgsTqDzLjhD96BXrLQUeJkrLuasmPZKgn9', 'depth': 0, 'body': 'string', 'is_nsfw': True}\n",
      "Failed to get data from row  {'post_hash': 'QmaPVDDt24iqiSBuPAvPYY86LmyZrfKEw33ceLP81mFXY9', 'parent_comment_hash': 'QmaPVDDt24iqiSBuPAvPYY86LmyZrfKEw33ceLP81mFXY9', 'depth': 0, 'body': 'Nice post', 'is_nsfw': False}\n",
      "Failed to get data from row  {'post_hash': 'QmaPVDDt24iqiSBuPAvPYY86LmyZrfKEw33ceLP81mFXY9', 'parent_comment_hash': 'QmaPVDDt24iqiSBuPAvPYY86LmyZrfKEw33ceLP81mFXY9', 'depth': 0, 'body': 'Nice Post!', 'is_nsfw': False}\n",
      "Failed to get data from row  {'post_hash': 'QmcM1M1tDFPtBY1EfEFXXGms6uuiMPq8nbJsg7smi4GNGX', 'parent_comment_hash': 'QmcM1M1tDFPtBY1EfEFXXGms6uuiMPq8nbJsg7smi4GNGX', 'depth': 0, 'body': 'That looks awesome', 'is_nsfw': False}\n",
      "vote 243806\n",
      "Failed to parse json {\"post_hash\": QmbG2dxLWHKvdgsTqDzLjhD96BXrLQUeJkrLuasmPZKgn9,\"parent_hash\": QmbG2dxLWHKvdgsTqDzLjhD96BXrLQUeJkrLuasmPZKgn9,\"parent_type\": post,\"num_votes\": 1}\n",
      "Failed to parse json {\"post_hash\": QmZPkfXdDPR9TcX5fxTkeV2MRVJX4u2ePvhs25KjnjQxZr,\"parent_hash\": QmZPkfXdDPR9TcX5fxTkeV2MRVJX4u2ePvhs25KjnjQxZr,\"parent_type\": post,\"num_votes\": 1}\n",
      "Failed to parse json {\"post_hash\": QmajLVH6vAdcReDaDU8XvJ1GCYPpfFw5SbpU2anKvJpw5A,\"parent_hash\": QmajLVH6vAdcReDaDU8XvJ1GCYPpfFw5SbpU2anKvJpw5A,\"parent_type\": post,\"num_votes\": 1}\n",
      "Failed to parse json {\"post_hash\": QmajLVH6vAdcReDaDU8XvJ1GCYPpfFw5SbpU2anKvJpw5A,\"parent_hash\": QmajLVH6vAdcReDaDU8XvJ1GCYPpfFw5SbpU2anKvJpw5A,\"parent_type\": post,\"num_votes\": -1}\n",
      "Failed to parse json {\"post_hash\": QmajLVH6vAdcReDaDU8XvJ1GCYPpfFw5SbpU2anKvJpw5A,\"parent_hash\": QmajLVH6vAdcReDaDU8XvJ1GCYPpfFw5SbpU2anKvJpw5A,\"parent_type\": post,\"num_votes\": 1}\n",
      "Failed to parse json {\"post_hash\": Qmf36mBv47aENzYXHv6yUWwEaZ2zr7ZJnttHMgkRdDnaVf,\"parent_hash\": Qmf36mBv47aENzYXHv6yUWwEaZ2zr7ZJnttHMgkRdDnaVf,\"parent_type\": post,\"num_votes\": 1}\n",
      "Failed to parse json {\"post_hash\": QmZKTi9c1yBFTBDALAYscfrjR7LkaAATtu9vkNS8MQGNhF,\"parent_hash\": QmZKTi9c1yBFTBDALAYscfrjR7LkaAATtu9vkNS8MQGNhF,\"parent_type\": post,\"num_votes\": 1}\n",
      "Failed to parse json {\"post_hash\": QmZKTi9c1yBFTBDALAYscfrjR7LkaAATtu9vkNS8MQGNhF,\"parent_hash\": QmZKTi9c1yBFTBDALAYscfrjR7LkaAATtu9vkNS8MQGNhF,\"parent_type\": post,\"num_votes\": 1}\n",
      "user 14068\n",
      "follow 186095\n",
      "link 6\n",
      "payout 9\n"
     ]
    },
    {
     "data": {
      "text/plain": [
       "(23668, True)"
      ]
     },
     "execution_count": 118,
     "metadata": {},
     "output_type": "execute_result"
    }
   ],
   "source": [
    "update_db(backfill=True, schemaToUpdate=None)"
   ]
  },
  {
   "cell_type": "code",
   "execution_count": null,
   "id": "1f79136c",
   "metadata": {
    "scrolled": true
   },
   "outputs": [],
   "source": [
    "pd.read_sql_query(\"\"\"SELECT user.date_minted FROM user, post, comment, vote, follow limit 1\"\"\", con)"
   ]
  },
  {
   "cell_type": "code",
   "execution_count": null,
   "id": "ffd7da2a",
   "metadata": {},
   "outputs": [],
   "source": []
  }
 ],
 "metadata": {
  "kernelspec": {
   "display_name": "Python 3 (ipykernel)",
   "language": "python",
   "name": "python3"
  },
  "language_info": {
   "codemirror_mode": {
    "name": "ipython",
    "version": 3
   },
   "file_extension": ".py",
   "mimetype": "text/x-python",
   "name": "python",
   "nbconvert_exporter": "python",
   "pygments_lexer": "ipython3",
   "version": "3.9.12"
  },
  "vscode": {
   "interpreter": {
    "hash": "f90a51316803318f0b952c570a4fe32d53aa73ff3300e1da5777ab9e91b8249c"
   }
  }
 },
 "nbformat": 4,
 "nbformat_minor": 5
}
