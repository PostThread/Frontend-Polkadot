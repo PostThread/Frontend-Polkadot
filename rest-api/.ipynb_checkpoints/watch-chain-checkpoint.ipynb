{
 "cells": [
  {
   "cell_type": "code",
   "execution_count": 1,
   "id": "c02729b4",
   "metadata": {},
   "outputs": [],
   "source": [
    "%load_ext autoreload\n",
    "%autoreload 2"
   ]
  },
  {
   "cell_type": "code",
   "execution_count": 4,
   "id": "4298de95",
   "metadata": {},
   "outputs": [],
   "source": [
    "import json\n",
    "import time\n",
    "\n",
    "from database_queries import update_db\n",
    "import sqlite3\n",
    "from web3_helpers import *"
   ]
  },
  {
   "cell_type": "code",
   "execution_count": 5,
   "id": "127601be",
   "metadata": {},
   "outputs": [],
   "source": [
    "con = sqlite3.connect('postthreadV1_write.db')\n",
    "cur = con.cursor()"
   ]
  },
  {
   "cell_type": "code",
   "execution_count": 6,
   "id": "289ad355",
   "metadata": {
    "scrolled": true
   },
   "outputs": [
    {
     "name": "stdout",
     "output_type": "stream",
     "text": [
      "post 5\n",
      "Failed to get ipfs hash  {\"category\": \"test\", \"title\": \"test\", \"body\": \"test\", \"url\": \"test\", \"is_nsfw\": 0}\n",
      "comment 1\n",
      "vote 1\n",
      "user 1\n",
      "link 1\n",
      "payout 1\n"
     ]
    },
    {
     "ename": "TypeError",
     "evalue": "cannot unpack non-iterable int object",
     "output_type": "error",
     "traceback": [
      "\u001b[1;31m-----------------------------------------------------\u001b[0m",
      "\u001b[1;31mTypeError\u001b[0m           Traceback (most recent call last)",
      "Input \u001b[1;32mIn [6]\u001b[0m, in \u001b[0;36m<cell line: 4>\u001b[1;34m()\u001b[0m\n\u001b[0;32m      4\u001b[0m current_block \u001b[38;5;241m=\u001b[39m w3\u001b[38;5;241m.\u001b[39meth\u001b[38;5;241m.\u001b[39mget_block_number()\n\u001b[0;32m      5\u001b[0m \u001b[38;5;28;01mif\u001b[39;00m current_block \u001b[38;5;241m!=\u001b[39m last_block:\n\u001b[1;32m----> 6\u001b[0m     last_block, was_updated \u001b[38;5;241m=\u001b[39m update_db(\n\u001b[0;32m      7\u001b[0m         query_start\u001b[38;5;241m=\u001b[39m\u001b[38;5;28;01mTrue\u001b[39;00m, \n\u001b[0;32m      8\u001b[0m         backfill\u001b[38;5;241m=\u001b[39m\u001b[38;5;28;01mFalse\u001b[39;00m, schemaToUpdate\u001b[38;5;241m=\u001b[39m\u001b[38;5;28;01mNone\u001b[39;00m\n\u001b[0;32m      9\u001b[0m     )\n\u001b[0;32m     10\u001b[0m     \u001b[38;5;28mprint\u001b[39m(\u001b[38;5;124m\"\u001b[39m\u001b[38;5;124mBlock: \u001b[39m\u001b[38;5;124m\"\u001b[39m, current_block)\n\u001b[0;32m     12\u001b[0m time\u001b[38;5;241m.\u001b[39msleep(\u001b[38;5;241m1\u001b[39m)\n",
      "\u001b[1;31mTypeError\u001b[0m: cannot unpack non-iterable int object"
     ]
    }
   ],
   "source": [
    "minted_time = 0\n",
    "last_block = 0\n",
    "while True:    \n",
    "    current_block = w3.eth.get_block_number()\n",
    "    if current_block != last_block:\n",
    "        last_block, was_updated = update_db(\n",
    "            query_start=True, \n",
    "            backfill=False, schemaToUpdate=None\n",
    "        )\n",
    "        print(\"Block: \", current_block)\n",
    "    \n",
    "    time.sleep(1)"
   ]
  },
  {
   "cell_type": "code",
   "execution_count": null,
   "id": "f14a49e0",
   "metadata": {},
   "outputs": [],
   "source": []
  },
  {
   "cell_type": "code",
   "execution_count": 7,
   "id": "d1dea720",
   "metadata": {},
   "outputs": [
    {
     "data": {
      "text/plain": [
       "(35, False)"
      ]
     },
     "execution_count": 7,
     "metadata": {},
     "output_type": "execute_result"
    }
   ],
   "source": [
    "update_db(backfill=True, schemaToUpdate=None)"
   ]
  },
  {
   "cell_type": "code",
   "execution_count": null,
   "id": "dcddc6ee",
   "metadata": {},
   "outputs": [],
   "source": []
  }
 ],
 "metadata": {
  "kernelspec": {
   "display_name": "Python 3 (ipykernel)",
   "language": "python",
   "name": "python3"
  },
  "language_info": {
   "codemirror_mode": {
    "name": "ipython",
    "version": 3
   },
   "file_extension": ".py",
   "mimetype": "text/x-python",
   "name": "python",
   "nbconvert_exporter": "python",
   "pygments_lexer": "ipython3",
   "version": "3.9.12"
  },
  "vscode": {
   "interpreter": {
    "hash": "f90a51316803318f0b952c570a4fe32d53aa73ff3300e1da5777ab9e91b8249c"
   }
  }
 },
 "nbformat": 4,
 "nbformat_minor": 5
}
