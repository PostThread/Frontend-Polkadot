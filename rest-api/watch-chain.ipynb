{
 "cells": [
  {
   "cell_type": "code",
   "execution_count": 1,
   "id": "c02729b4",
   "metadata": {},
   "outputs": [],
   "source": [
    "%load_ext autoreload\n",
    "%autoreload 2"
   ]
  },
  {
   "cell_type": "code",
   "execution_count": 2,
   "id": "4298de95",
   "metadata": {},
   "outputs": [
    {
     "name": "stderr",
     "output_type": "stream",
     "text": [
      "C:\\Users\\Mcian\\AppData\\Local\\Programs\\Python\\Python39\\lib\\site-packages\\eth_tester\\backends\\__init__.py:30: UserWarning: Ethereum Tester: No backend was explicitly set, and no *full* backends were available.  Falling back to the `MockBackend` which does not support all EVM functionality.  Please refer to the `eth-tester` documentation for information on what backends are available and how to set them.  Your py-evm package may need to be updated.\n",
      "  warnings.warn(UserWarning(\n",
      "F:\\web3_messing_around\\PostThread-Tron\\rest-api\\web3_helpers.py:15: ResourceWarning: unclosed file <_io.TextIOWrapper name='.MNEMONIC.json' mode='r' encoding='cp1252'>\n",
      "  MNEMONIC = json.load(open('.MNEMONIC.json'))\n",
      "ResourceWarning: Enable tracemalloc to get the object allocation traceback\n",
      "F:\\web3_messing_around\\PostThread-Tron\\rest-api\\web3_helpers.py:18: ResourceWarning: unclosed file <_io.TextIOWrapper name='../backend/build/contracts/PostThread.json' mode='r' encoding='cp1252'>\n",
      "  build = json.load(open(\"../backend/build/contracts/PostThread.json\"))\n",
      "ResourceWarning: Enable tracemalloc to get the object allocation traceback\n",
      "F:\\web3_messing_around\\PostThread-Tron\\rest-api\\web3_helpers.py:19: ResourceWarning: unclosed file <_io.TextIOWrapper name='../backend/previous.json' mode='r' encoding='cp1252'>\n",
      "  prev = json.load(open(\"../backend/previous.json\"))\n",
      "ResourceWarning: Enable tracemalloc to get the object allocation traceback\n",
      "C:\\Users\\Mcian\\AppData\\Local\\Programs\\Python\\Python39\\lib\\site-packages\\ipfshttpclient\\client\\__init__.py:75: VersionMismatch: Unsupported daemon version '0.12.2' (not in range: 0.5.0 ≤ … < 0.9.0)\n",
      "  warnings.warn(exceptions.VersionMismatch(version, minimum, maximum))\n",
      "F:\\web3_messing_around\\PostThread-Tron\\rest-api\\web3_helpers.py:28: ResourceWarning: unclosed file <_io.TextIOWrapper name='schemas.json' mode='r' encoding='cp1252'>\n",
      "  schemas = json.load(open(\"schemas.json\"))\n",
      "ResourceWarning: Enable tracemalloc to get the object allocation traceback\n",
      "F:\\web3_messing_around\\PostThread-Tron\\rest-api\\database_queries.py:9: ResourceWarning: unclosed file <_io.TextIOWrapper name='schemas.json' mode='r' encoding='cp1252'>\n",
      "  schemas = json.load(open(\"schemas.json\", \"r\"))\n",
      "ResourceWarning: Enable tracemalloc to get the object allocation traceback\n"
     ]
    }
   ],
   "source": [
    "import json\n",
    "import time\n",
    "\n",
    "from database_queries import update_db\n",
    "import sqlite3\n",
    "from web3_helpers import *"
   ]
  },
  {
   "cell_type": "code",
   "execution_count": 3,
   "id": "127601be",
   "metadata": {},
   "outputs": [],
   "source": [
    "con = sqlite3.connect('postthreadV1_write.db')\n",
    "cur = con.cursor()"
   ]
  },
  {
   "cell_type": "code",
   "execution_count": null,
   "id": "289ad355",
   "metadata": {
    "scrolled": true
   },
   "outputs": [
    {
     "name": "stdout",
     "output_type": "stream",
     "text": [
      "post 2\n"
     ]
    }
   ],
   "source": [
    "minted_time = 0\n",
    "last_block = 0\n",
    "while True:    \n",
    "    current_block = w3.eth.get_block_number()\n",
    "    if current_block != last_block:\n",
    "        last_block = update_db(\n",
    "            query_start=True, \n",
    "            backfill=False, schemaToUpdate=None\n",
    "        )\n",
    "        print(\"Block: \", current_block)\n",
    "    \n",
    "    time.sleep(1)"
   ]
  },
  {
   "cell_type": "code",
   "execution_count": null,
   "id": "f14a49e0",
   "metadata": {},
   "outputs": [],
   "source": []
  },
  {
   "cell_type": "code",
   "execution_count": 4,
   "id": "d1dea720",
   "metadata": {},
   "outputs": [
    {
     "name": "stdout",
     "output_type": "stream",
     "text": [
      "Failed to get ipfs hash  {\"category\": \"test\", \"title\": \"test\", \"body\": \"test\", \"url\": \"test\", \"is_nsfw\": 0}\n",
      "post 10\n",
      "comment 25\n",
      "Failed to parse json {\"post_hash\": QmbG2dxLWHKvdgsTqDzLjhD96BXrLQUeJkrLuasmPZKgn9,\"parent_hash\": QmbG2dxLWHKvdgsTqDzLjhD96BXrLQUeJkrLuasmPZKgn9,\"parent_type\": post,\"num_votes\": 1}\n",
      "vote 68\n",
      "user 10\n",
      "follow 23\n",
      "link 1\n",
      "payout 1\n"
     ]
    },
    {
     "data": {
      "text/plain": [
       "1791"
      ]
     },
     "execution_count": 4,
     "metadata": {},
     "output_type": "execute_result"
    }
   ],
   "source": [
    "update_db(backfill=True, schemaToUpdate=None)"
   ]
  },
  {
   "cell_type": "code",
   "execution_count": null,
   "id": "dcddc6ee",
   "metadata": {},
   "outputs": [],
   "source": []
  }
 ],
 "metadata": {
  "kernelspec": {
   "display_name": "Python 3 (ipykernel)",
   "language": "python",
   "name": "python3"
  },
  "language_info": {
   "codemirror_mode": {
    "name": "ipython",
    "version": 3
   },
   "file_extension": ".py",
   "mimetype": "text/x-python",
   "name": "python",
   "nbconvert_exporter": "python",
   "pygments_lexer": "ipython3",
   "version": "3.9.12"
  },
  "vscode": {
   "interpreter": {
    "hash": "f90a51316803318f0b952c570a4fe32d53aa73ff3300e1da5777ab9e91b8249c"
   }
  }
 },
 "nbformat": 4,
 "nbformat_minor": 5
}
