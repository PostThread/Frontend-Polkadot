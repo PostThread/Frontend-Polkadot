{
 "cells": [
  {
   "cell_type": "code",
   "execution_count": 4,
   "id": "95d71b79",
   "metadata": {},
   "outputs": [
    {
     "name": "stderr",
     "output_type": "stream",
     "text": [
      "C:\\Users\\Mcian\\AppData\\Local\\Programs\\Python\\Python39\\lib\\site-packages\\eth_tester\\backends\\__init__.py:30: UserWarning: Ethereum Tester: No backend was explicitly set, and no *full* backends were available.  Falling back to the `MockBackend` which does not support all EVM functionality.  Please refer to the `eth-tester` documentation for information on what backends are available and how to set them.  Your py-evm package may need to be updated.\n",
      "  warnings.warn(UserWarning(\n"
     ]
    },
    {
     "data": {
      "text/plain": [
       "True"
      ]
     },
     "execution_count": 4,
     "metadata": {},
     "output_type": "execute_result"
    }
   ],
   "source": [
    "from web3 import Web3, EthereumTesterProvider\n",
    "w3 = Web3(EthereumTesterProvider())\n",
    "w3.isConnected()"
   ]
  },
  {
   "cell_type": "code",
   "execution_count": 6,
   "id": "7f07b58b",
   "metadata": {},
   "outputs": [
    {
     "data": {
      "text/plain": [
       "True"
      ]
     },
     "execution_count": 6,
     "metadata": {},
     "output_type": "execute_result"
    }
   ],
   "source": [
    "# w3 = Web3(Web3.IPCProvider('./path/to/geth.ipc'))\n",
    "w3 = Web3(Web3.HTTPProvider('http://127.0.0.1:8545'))\n",
    "# w3 = Web3(Web3.WebsocketProvider('wss://127.0.0.1:8546'))\n",
    "w3.isConnected()"
   ]
  },
  {
   "cell_type": "code",
   "execution_count": 12,
   "id": "4d7bb528",
   "metadata": {},
   "outputs": [],
   "source": [
    "w3.eth.account.me?"
   ]
  },
  {
   "cell_type": "code",
   "execution_count": 10,
   "id": "a384f96b",
   "metadata": {},
   "outputs": [],
   "source": [
    "w3.eth.sign_munger?"
   ]
  },
  {
   "cell_type": "code",
   "execution_count": null,
   "id": "49a2806c",
   "metadata": {},
   "outputs": [],
   "source": [
    "message = \"hello\";\n",
    "hashedMessage = Web3.utils.sha3(message);\n",
    "\n",
    "signature = ethereum.request({\n",
    "  method: \"personal_sign\",\n",
    "  params: [hashedMessage, accounts[0]],\n",
    "});\n",
    "\n",
    "r = signature.slice(0, 66);\n",
    "s = \"0x\" + signature.slice(66, 130);\n",
    "v = parseInt(signature.slice(130, 132), 16);"
   ]
  }
 ],
 "metadata": {
  "kernelspec": {
   "display_name": "Python 3 (ipykernel)",
   "language": "python",
   "name": "python3"
  },
  "language_info": {
   "codemirror_mode": {
    "name": "ipython",
    "version": 3
   },
   "file_extension": ".py",
   "mimetype": "text/x-python",
   "name": "python",
   "nbconvert_exporter": "python",
   "pygments_lexer": "ipython3",
   "version": "3.9.12"
  }
 },
 "nbformat": 4,
 "nbformat_minor": 5
}
