{
 "cells": [
  {
   "cell_type": "code",
   "execution_count": 1,
   "id": "bc60b8a7",
   "metadata": {
    "scrolled": true
   },
   "outputs": [],
   "source": [
    "import os, json\n",
    "from supabase import create_client, Client\n",
    "\n",
    "creds = json.load(open(\".db-creds.json\"))\n",
    "\n",
    "url = creds[\"SUPABASE_URL\"]\n",
    "key = creds[\"SUPABASE_KEY\"]\n",
    "supabase = create_client(url, key)"
   ]
  },
  {
   "cell_type": "code",
   "execution_count": 10,
   "id": "d9db561d",
   "metadata": {},
   "outputs": [],
   "source": [
    "t = supabase.table(\"posts\").select(\"id, categories(name)\")."
   ]
  },
  {
   "cell_type": "code",
   "execution_count": 29,
   "id": "ed75b174",
   "metadata": {
    "scrolled": true
   },
   "outputs": [
    {
     "data": {
      "text/plain": [
       "[{'id': 119,\n",
       "  'created_at': '2022-08-05T03:00:45.655687+00:00',\n",
       "  'reddit_upvotes': 90,\n",
       "  'categories': {'name': 'ukraine'}},\n",
       " {'id': 118,\n",
       "  'created_at': '2022-08-05T03:00:37.551744+00:00',\n",
       "  'reddit_upvotes': 89,\n",
       "  'categories': {'name': 'BeforeNAfterAdoption'}},\n",
       " {'id': 121,\n",
       "  'created_at': '2022-08-05T03:01:52.379035+00:00',\n",
       "  'reddit_upvotes': 87,\n",
       "  'categories': {'name': 'AvatarMemes'}},\n",
       " {'id': 122,\n",
       "  'created_at': '2022-08-05T03:01:58.580631+00:00',\n",
       "  'reddit_upvotes': 85,\n",
       "  'categories': {'name': 'Superstonk'}},\n",
       " {'id': 120,\n",
       "  'created_at': '2022-08-05T03:00:55.496331+00:00',\n",
       "  'reddit_upvotes': 85,\n",
       "  'categories': {'name': 'baseball'}}]"
      ]
     },
     "execution_count": 29,
     "metadata": {},
     "output_type": "execute_result"
    }
   ],
   "source": [
    "# Get top posts\n",
    "supabase.table(\"posts\").select(\"id, created_at, reddit_upvotes, categories(name)\") \\\n",
    "        .order(\"reddit_upvotes\", desc=True).gt(\"created_at\", \"2022-08-05T03:00:21\").range(0,5).execute().data"
   ]
  },
  {
   "cell_type": "code",
   "execution_count": 30,
   "id": "2a950bf7",
   "metadata": {},
   "outputs": [
    {
     "data": {
      "text/plain": [
       "[{'id': 197,\n",
       "  'created_at': '2022-08-05T03:58:21.558577+00:00',\n",
       "  'reddit_upvotes': 33,\n",
       "  'categories': {'name': 'conspiracy'}},\n",
       " {'id': 196,\n",
       "  'created_at': '2022-08-05T03:58:17.539683+00:00',\n",
       "  'reddit_upvotes': 35,\n",
       "  'categories': {'name': 'tumblr'}},\n",
       " {'id': 195,\n",
       "  'created_at': '2022-08-05T03:58:06.270918+00:00',\n",
       "  'reddit_upvotes': 36,\n",
       "  'categories': {'name': 'memes'}},\n",
       " {'id': 194,\n",
       "  'created_at': '2022-08-05T03:57:51.471846+00:00',\n",
       "  'reddit_upvotes': 34,\n",
       "  'categories': {'name': 'spaceporn'}},\n",
       " {'id': 193,\n",
       "  'created_at': '2022-08-05T03:57:34.243619+00:00',\n",
       "  'reddit_upvotes': 35,\n",
       "  'categories': {'name': 'MadeMeSmile'}}]"
      ]
     },
     "execution_count": 30,
     "metadata": {},
     "output_type": "execute_result"
    }
   ],
   "source": [
    "# Get recent posts\n",
    "supabase.table(\"posts\").select(\"id, created_at, reddit_upvotes, categories(name)\") \\\n",
    "        .order(\"created_at\", desc=True).gt(\"created_at\", \"2022-08-05T03:00:21\").range(0,5).execute().data"
   ]
  },
  {
   "cell_type": "code",
   "execution_count": null,
   "id": "b9593882",
   "metadata": {},
   "outputs": [],
   "source": []
  },
  {
   "cell_type": "code",
   "execution_count": null,
   "id": "ed8c74b4",
   "metadata": {},
   "outputs": [],
   "source": []
  },
  {
   "cell_type": "code",
   "execution_count": null,
   "id": "0e29cecc",
   "metadata": {},
   "outputs": [],
   "source": []
  },
  {
   "cell_type": "code",
   "execution_count": 45,
   "id": "374a96d3",
   "metadata": {},
   "outputs": [],
   "source": [
    "posts = supabase.table('post')"
   ]
  },
  {
   "cell_type": "code",
   "execution_count": 19,
   "id": "c3874e38",
   "metadata": {},
   "outputs": [],
   "source": [
    "t = posts.insert({'test': \"test\"})"
   ]
  },
  {
   "cell_type": "code",
   "execution_count": 81,
   "id": "af46d0ab",
   "metadata": {},
   "outputs": [],
   "source": [
    "s.in_?"
   ]
  },
  {
   "cell_type": "code",
   "execution_count": 88,
   "id": "fa19068f",
   "metadata": {
    "scrolled": true
   },
   "outputs": [
    {
     "ename": "APIError",
     "evalue": "{'code': 'PGRST200', 'details': None, 'hint': \"Verify that 'post' and 'UNIQUE' exist in the schema 'public' and that there is a foreign key relationship between them. If a new relationship was created, try reloading the schema cache.\", 'message': \"Could not find a relationship between 'post' and 'UNIQUE' in the schema cache\"}",
     "output_type": "error",
     "traceback": [
      "\u001b[1;31m---------------------------------------------------------------------------\u001b[0m",
      "\u001b[1;31mValidationError\u001b[0m                           Traceback (most recent call last)",
      "File \u001b[1;32m~\\AppData\\Local\\Programs\\Python\\Python39\\lib\\site-packages\\postgrest\\_sync\\request_builder.py:62\u001b[0m, in \u001b[0;36mSyncQueryRequestBuilder.execute\u001b[1;34m(self)\u001b[0m\n\u001b[0;32m     61\u001b[0m \u001b[38;5;28;01mtry\u001b[39;00m:\n\u001b[1;32m---> 62\u001b[0m     \u001b[38;5;28;01mreturn\u001b[39;00m \u001b[43mAPIResponse\u001b[49m\u001b[38;5;241;43m.\u001b[39;49m\u001b[43mfrom_http_request_response\u001b[49m\u001b[43m(\u001b[49m\u001b[43mr\u001b[49m\u001b[43m)\u001b[49m\n\u001b[0;32m     63\u001b[0m \u001b[38;5;28;01mexcept\u001b[39;00m ValidationError \u001b[38;5;28;01mas\u001b[39;00m e:\n",
      "File \u001b[1;32m~\\AppData\\Local\\Programs\\Python\\Python39\\lib\\site-packages\\postgrest\\base_request_builder.py:156\u001b[0m, in \u001b[0;36mAPIResponse.from_http_request_response\u001b[1;34m(cls, request_response)\u001b[0m\n\u001b[0;32m    155\u001b[0m count \u001b[38;5;241m=\u001b[39m \u001b[38;5;28mcls\u001b[39m\u001b[38;5;241m.\u001b[39m_get_count_from_http_request_response(request_response)\n\u001b[1;32m--> 156\u001b[0m \u001b[38;5;28;01mreturn\u001b[39;00m \u001b[38;5;28;43mcls\u001b[39;49m\u001b[43m(\u001b[49m\u001b[43mdata\u001b[49m\u001b[38;5;241;43m=\u001b[39;49m\u001b[43mdata\u001b[49m\u001b[43m,\u001b[49m\u001b[43m \u001b[49m\u001b[43mcount\u001b[49m\u001b[38;5;241;43m=\u001b[39;49m\u001b[43mcount\u001b[49m\u001b[43m)\u001b[49m\n",
      "File \u001b[1;32m~\\AppData\\Local\\Programs\\Python\\Python39\\lib\\site-packages\\pydantic\\main.py:341\u001b[0m, in \u001b[0;36mpydantic.main.BaseModel.__init__\u001b[1;34m()\u001b[0m\n",
      "\u001b[1;31mValidationError\u001b[0m: 1 validation error for APIResponse\ndata\n  You are passing an API error to the data field. (type=value_error)",
      "\nThe above exception was the direct cause of the following exception:\n",
      "\u001b[1;31mAPIError\u001b[0m                                  Traceback (most recent call last)",
      "Input \u001b[1;32mIn [88]\u001b[0m, in \u001b[0;36m<cell line: 1>\u001b[1;34m()\u001b[0m\n\u001b[1;32m----> 1\u001b[0m \u001b[43mposts\u001b[49m\u001b[38;5;241;43m.\u001b[39;49m\u001b[43mselect\u001b[49m\u001b[43m(\u001b[49m\u001b[38;5;124;43m\"\u001b[39;49m\u001b[38;5;124;43mUNIQUE(reddit_id)\u001b[39;49m\u001b[38;5;124;43m\"\u001b[39;49m\u001b[43m)\u001b[49m\u001b[38;5;241;43m.\u001b[39;49m\u001b[43mexecute\u001b[49m\u001b[43m(\u001b[49m\u001b[43m)\u001b[49m\n",
      "File \u001b[1;32m~\\AppData\\Local\\Programs\\Python\\Python39\\lib\\site-packages\\postgrest\\_sync\\request_builder.py:64\u001b[0m, in \u001b[0;36mSyncQueryRequestBuilder.execute\u001b[1;34m(self)\u001b[0m\n\u001b[0;32m     62\u001b[0m     \u001b[38;5;28;01mreturn\u001b[39;00m APIResponse\u001b[38;5;241m.\u001b[39mfrom_http_request_response(r)\n\u001b[0;32m     63\u001b[0m \u001b[38;5;28;01mexcept\u001b[39;00m ValidationError \u001b[38;5;28;01mas\u001b[39;00m e:\n\u001b[1;32m---> 64\u001b[0m     \u001b[38;5;28;01mraise\u001b[39;00m APIError(r\u001b[38;5;241m.\u001b[39mjson()) \u001b[38;5;28;01mfrom\u001b[39;00m \u001b[38;5;21;01me\u001b[39;00m\n",
      "\u001b[1;31mAPIError\u001b[0m: {'code': 'PGRST200', 'details': None, 'hint': \"Verify that 'post' and 'UNIQUE' exist in the schema 'public' and that there is a foreign key relationship between them. If a new relationship was created, try reloading the schema cache.\", 'message': \"Could not find a relationship between 'post' and 'UNIQUE' in the schema cache\"}"
     ]
    }
   ],
   "source": [
    "posts.select(\"reddit_id\").execute()"
   ]
  },
  {
   "cell_type": "code",
   "execution_count": 83,
   "id": "4a96e7a8",
   "metadata": {
    "scrolled": true
   },
   "outputs": [
    {
     "data": {
      "text/plain": [
       "APIResponse(data=[{'id': 2, 'created_at': '2022-08-04T11:06:26.129925+00:00', 'title': 'Hello World', 'body': 'Have a good day!', 'image': '', 'user_id': 1, 'category_id': 8, 'reddit_id': None}, {'id': 11, 'created_at': '2022-08-04T11:23:45.517648+00:00', 'title': 'title', 'body': 'text', 'image': '', 'user_id': 1, 'category_id': 1, 'reddit_id': None}], count=None)"
      ]
     },
     "execution_count": 83,
     "metadata": {},
     "output_type": "execute_result"
    }
   ],
   "source": [
    "posts.select(\"*\").in_('id', [2, 11]).execute()"
   ]
  },
  {
   "cell_type": "code",
   "execution_count": 38,
   "id": "fae2670d",
   "metadata": {
    "scrolled": true
   },
   "outputs": [
    {
     "data": {
      "text/plain": [
       "[{'reddit_id': None},\n",
       " {'reddit_id': None},\n",
       " {'reddit_id': None},\n",
       " {'reddit_id': None},\n",
       " {'reddit_id': None},\n",
       " {'reddit_id': None}]"
      ]
     },
     "execution_count": 38,
     "metadata": {},
     "output_type": "execute_result"
    }
   ],
   "source": [
    "data = supabase.table(\"post\").select(\"reddit_id\").execute()\n",
    "# Assert we pulled real data.\n",
    "data.data"
   ]
  },
  {
   "cell_type": "code",
   "execution_count": 35,
   "id": "8e483fb0",
   "metadata": {
    "scrolled": true
   },
   "outputs": [],
   "source": [
    "data = supabase.table(\"post\").insert({\"body\":\"test\"}).execute()"
   ]
  },
  {
   "cell_type": "code",
   "execution_count": 37,
   "id": "2b136178",
   "metadata": {},
   "outputs": [
    {
     "data": {
      "text/plain": [
       "[{'id': 14,\n",
       "  'created_at': '2022-08-04T21:39:15.459057+00:00',\n",
       "  'title': None,\n",
       "  'body': 'test',\n",
       "  'image': None,\n",
       "  'user_id': None,\n",
       "  'category_id': None}]"
      ]
     },
     "execution_count": 37,
     "metadata": {},
     "output_type": "execute_result"
    }
   ],
   "source": [
    "data.data"
   ]
  },
  {
   "cell_type": "code",
   "execution_count": null,
   "id": "0485a50c",
   "metadata": {},
   "outputs": [],
   "source": []
  }
 ],
 "metadata": {
  "kernelspec": {
   "display_name": "Python 3 (ipykernel)",
   "language": "python",
   "name": "python3"
  },
  "language_info": {
   "codemirror_mode": {
    "name": "ipython",
    "version": 3
   },
   "file_extension": ".py",
   "mimetype": "text/x-python",
   "name": "python",
   "nbconvert_exporter": "python",
   "pygments_lexer": "ipython3",
   "version": "3.9.12"
  }
 },
 "nbformat": 4,
 "nbformat_minor": 5
}
