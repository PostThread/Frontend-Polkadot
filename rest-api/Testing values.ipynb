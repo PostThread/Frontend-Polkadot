{
 "cells": [
  {
   "cell_type": "code",
   "execution_count": 4,
   "id": "44fb498b",
   "metadata": {},
   "outputs": [
    {
     "name": "stderr",
     "output_type": "stream",
     "text": [
      "A subdirectory or file C:\\tmp\\posts already exists.\n",
      "A subdirectory or file C:\\tmp\\comments already exists.\n",
      "A subdirectory or file C:\\tmp\\ipfs already exists.\n"
     ]
    }
   ],
   "source": [
    "!mkdir C:\\tmp\\posts\n",
    "!mkdir C:\\tmp\\comments\n",
    "!mkdir C:\\tmp\\ipfs\n",
    "!mkdir C:\\tmp\\ipfs_stage"
   ]
  },
  {
   "cell_type": "code",
   "execution_count": 5,
   "id": "28571582",
   "metadata": {},
   "outputs": [],
   "source": [
    "!set ipfs_staging=C:\\tmp\\ipfs_stage\n",
    "!set ipfs_data=C:\\tmp\\ipfs"
   ]
  },
  {
   "cell_type": "code",
   "execution_count": 10,
   "id": "f429211c",
   "metadata": {},
   "outputs": [
    {
     "name": "stdout",
     "output_type": "stream",
     "text": [
      "\u001b[31mERROR\u001b[0m: The Compose file './docker-compose.yml' is invalid because:\n",
      "Unsupported config option for services.networks: 'backend'\n"
     ]
    }
   ],
   "source": [
    "!docker stop ipfs_host"
   ]
  },
  {
   "cell_type": "code",
   "execution_count": 11,
   "id": "0221dfe1",
   "metadata": {},
   "outputs": [
    {
     "name": "stdout",
     "output_type": "stream",
     "text": [
      "\u001b[31mERROR\u001b[0m: The Compose file './docker-compose.yml' is invalid because:\n",
      "Unsupported config option for services.networks: 'backend'\n"
     ]
    }
   ],
   "source": [
    "!docker rm ipf_host"
   ]
  },
  {
   "cell_type": "code",
   "execution_count": 7,
   "id": "c6b8e975",
   "metadata": {},
   "outputs": [
    {
     "name": "stderr",
     "output_type": "stream",
     "text": [
      "docker: error during connect: This error may indicate that the docker daemon is not running.: Post \"http://%2F%2F.%2Fpipe%2Fdocker_engine/v1.24/containers/create?name=ipfs_host2\": open //./pipe/docker_engine: The system cannot find the file specified.\n",
      "See 'docker run --help'.\n"
     ]
    }
   ],
   "source": [
    "!docker run -d --name ipfs_host2 -v C:\\tmp\\ipfs_stage:/export -v C:\\tmp\\ipfs:/data/ipfs -p 4001:4001 -p 4001:4001/udp -p 127.0.0.1:8080:8080 -p 127.0.0.1:5001:5001 ipfs/go-ipfs:latest"
   ]
  },
  {
   "cell_type": "code",
   "execution_count": 1,
   "id": "6f6314c3",
   "metadata": {},
   "outputs": [],
   "source": [
    "%load_ext autoreload\n",
    "%autoreload 2"
   ]
  },
  {
   "cell_type": "code",
   "execution_count": 2,
   "id": "9f865ce4",
   "metadata": {
    "scrolled": true
   },
   "outputs": [
    {
     "name": "stderr",
     "output_type": "stream",
     "text": [
      "C:\\Users\\Mcian\\AppData\\Local\\Programs\\Python\\Python39\\lib\\site-packages\\ipfshttpclient\\client\\__init__.py:75: VersionMismatch: Unsupported daemon version '0.12.2' (not in range: 0.5.0 ≤ … < 0.9.0)\n",
      "  warnings.warn(exceptions.VersionMismatch(version, minimum, maximum))\n"
     ]
    }
   ],
   "source": [
    "import json\n",
    "import sqlite3\n",
    "import pandas as pd\n",
    "\n",
    "\n",
    "from web3_helpers import *"
   ]
  },
  {
   "cell_type": "code",
   "execution_count": 3,
   "id": "5cc0951b",
   "metadata": {
    "scrolled": true
   },
   "outputs": [],
   "source": [
    "path = 'C:/tmp/'"
   ]
  },
  {
   "cell_type": "code",
   "execution_count": 4,
   "id": "ee9d6b7f",
   "metadata": {},
   "outputs": [],
   "source": [
    "bob = delegate\n",
    "bob_msa_id = get_msa_id(delegate)"
   ]
  },
  {
   "cell_type": "code",
   "execution_count": 5,
   "id": "decf803f",
   "metadata": {},
   "outputs": [
    {
     "data": {
      "text/plain": [
       "1"
      ]
     },
     "execution_count": 5,
     "metadata": {},
     "output_type": "execute_result"
    }
   ],
   "source": [
    "bob_msa_id"
   ]
  },
  {
   "cell_type": "code",
   "execution_count": 46,
   "id": "a8bb6a00",
   "metadata": {},
   "outputs": [
    {
     "data": {
      "text/plain": [
       "HexBytes('0x2205892e4c959905b3d4b2a55698f966cd42a0adad57178acf3d95609d5621fb')"
      ]
     },
     "execution_count": 46,
     "metadata": {},
     "output_type": "execute_result"
    }
   ],
   "source": [
    "delegate.privateKey"
   ]
  },
  {
   "cell_type": "code",
   "execution_count": 48,
   "id": "918cefc3",
   "metadata": {
    "scrolled": true
   },
   "outputs": [],
   "source": [
    "    private_key = delegate.privateKey.hex()\n",
    "    hash = keccak(encode_abi_packed(['uint256'],[delegate_msa_id]))\n",
    "    message = encode_defunct(hexstr=hash.hex())\n",
    "    signed_message =  w3.eth.account.sign_message(message, private_key=private_key)"
   ]
  },
  {
   "cell_type": "code",
   "execution_count": 49,
   "id": "a9d21fbd",
   "metadata": {},
   "outputs": [
    {
     "data": {
      "text/plain": [
       "'0x2205892e4c959905b3d4b2a55698f966cd42a0adad57178acf3d95609d5621fb'"
      ]
     },
     "execution_count": 49,
     "metadata": {},
     "output_type": "execute_result"
    }
   ],
   "source": [
    "private_key"
   ]
  },
  {
   "cell_type": "code",
   "execution_count": 6,
   "id": "bed70c86",
   "metadata": {},
   "outputs": [
    {
     "data": {
      "text/plain": [
       "14118627463001417262020186"
      ]
     },
     "execution_count": 6,
     "metadata": {},
     "output_type": "execute_result"
    }
   ],
   "source": [
    "w3.eth.getBalance(bob.address)"
   ]
  },
  {
   "cell_type": "code",
   "execution_count": 7,
   "id": "d95dc9af",
   "metadata": {},
   "outputs": [],
   "source": [
    "con = sqlite3.connect('postthreadV1_write.db')\n",
    "cur = con.cursor()"
   ]
  },
  {
   "cell_type": "markdown",
   "id": "410236c4",
   "metadata": {},
   "source": [
    "# Make schemas"
   ]
  },
  {
   "cell_type": "code",
   "execution_count": 8,
   "id": "0dd80bf7",
   "metadata": {
    "scrolled": true
   },
   "outputs": [
    {
     "ename": "ValueError",
     "evalue": "{'code': -32000, 'message': 'invalid sender'}",
     "output_type": "error",
     "traceback": [
      "\u001b[1;31m---------------------------------------------------------------------------\u001b[0m",
      "\u001b[1;31mValueError\u001b[0m                                Traceback (most recent call last)",
      "Input \u001b[1;32mIn [8]\u001b[0m, in \u001b[0;36m<cell line: 2>\u001b[1;34m()\u001b[0m\n\u001b[0;32m      1\u001b[0m post_schema \u001b[38;5;241m=\u001b[39m \u001b[38;5;124m\"\u001b[39m\u001b[38;5;124mcategory STRING,title STRING,body STRING,url STRING,is_nsfw NUMERIC\u001b[39m\u001b[38;5;124m\"\u001b[39m\n\u001b[1;32m----> 2\u001b[0m post_schemaId \u001b[38;5;241m=\u001b[39m \u001b[43maddSchema\u001b[49m\u001b[43m(\u001b[49m\u001b[43mpost_schema\u001b[49m\u001b[43m,\u001b[49m\u001b[43m \u001b[49m\u001b[43mwait_for_inclusion\u001b[49m\u001b[38;5;241;43m=\u001b[39;49m\u001b[38;5;28;43;01mTrue\u001b[39;49;00m\u001b[43m,\u001b[49m\u001b[43m \u001b[49m\u001b[43mwait_for_finalization\u001b[49m\u001b[38;5;241;43m=\u001b[39;49m\u001b[38;5;28;43;01mFalse\u001b[39;49;00m\u001b[43m)\u001b[49m\n\u001b[0;32m      4\u001b[0m comment_schema \u001b[38;5;241m=\u001b[39m \u001b[38;5;124m\"\u001b[39m\u001b[38;5;124mpost_hash STRING,parent_hash STRING,depth NUMERIC,body STRING\u001b[39m\u001b[38;5;124m\"\u001b[39m\n\u001b[0;32m      5\u001b[0m comment_schemaId \u001b[38;5;241m=\u001b[39m addSchema(comment_schema, wait_for_inclusion\u001b[38;5;241m=\u001b[39m\u001b[38;5;28;01mTrue\u001b[39;00m, wait_for_finalization\u001b[38;5;241m=\u001b[39m\u001b[38;5;28;01mFalse\u001b[39;00m)\n",
      "File \u001b[1;32mF:\\web3_messing_around\\PostThread-Tron\\rest-api\\web3_helpers.py:66\u001b[0m, in \u001b[0;36maddSchema\u001b[1;34m(schema, check, create, wait_for_inclusion, wait_for_finalization)\u001b[0m\n\u001b[0;32m     63\u001b[0m             \u001b[38;5;28;01mreturn\u001b[39;00m schemaId\n\u001b[0;32m     65\u001b[0m \u001b[38;5;28;01mif\u001b[39;00m create:\n\u001b[1;32m---> 66\u001b[0m     tx_hash \u001b[38;5;241m=\u001b[39m \u001b[43mpostthread_contract\u001b[49m\u001b[38;5;241;43m.\u001b[39;49m\u001b[43mfunctions\u001b[49m\u001b[38;5;241;43m.\u001b[39;49m\u001b[43mregisterSchema\u001b[49m\u001b[43m(\u001b[49m\u001b[43mschema\u001b[49m\u001b[43m)\u001b[49m\u001b[38;5;241;43m.\u001b[39;49m\u001b[43mtransact\u001b[49m\u001b[43m(\u001b[49m\u001b[43mdynamic_fee_transaction\u001b[49m\u001b[43m)\u001b[49m\n\u001b[0;32m     67\u001b[0m     \u001b[38;5;28;01mif\u001b[39;00m wait_for_inclusion \u001b[38;5;129;01mor\u001b[39;00m wait_for_finalization:\n\u001b[0;32m     68\u001b[0m         \u001b[38;5;28;01mtry\u001b[39;00m:\n",
      "File \u001b[1;32m~\\AppData\\Local\\Programs\\Python\\Python39\\lib\\site-packages\\web3\\contract.py:997\u001b[0m, in \u001b[0;36mContractFunction.transact\u001b[1;34m(self, transaction)\u001b[0m\n\u001b[0;32m    992\u001b[0m     \u001b[38;5;28;01melse\u001b[39;00m:\n\u001b[0;32m    993\u001b[0m         \u001b[38;5;28;01mraise\u001b[39;00m \u001b[38;5;167;01mValueError\u001b[39;00m(\n\u001b[0;32m    994\u001b[0m             \u001b[38;5;124m\"\u001b[39m\u001b[38;5;124mPlease ensure that this contract instance has an address.\u001b[39m\u001b[38;5;124m\"\u001b[39m\n\u001b[0;32m    995\u001b[0m         )\n\u001b[1;32m--> 997\u001b[0m \u001b[38;5;28;01mreturn\u001b[39;00m transact_with_contract_function(\n\u001b[0;32m    998\u001b[0m     \u001b[38;5;28mself\u001b[39m\u001b[38;5;241m.\u001b[39maddress,\n\u001b[0;32m    999\u001b[0m     \u001b[38;5;28mself\u001b[39m\u001b[38;5;241m.\u001b[39mweb3,\n\u001b[0;32m   1000\u001b[0m     \u001b[38;5;28mself\u001b[39m\u001b[38;5;241m.\u001b[39mfunction_identifier,\n\u001b[0;32m   1001\u001b[0m     transact_transaction,\n\u001b[0;32m   1002\u001b[0m     \u001b[38;5;28mself\u001b[39m\u001b[38;5;241m.\u001b[39mcontract_abi,\n\u001b[0;32m   1003\u001b[0m     \u001b[38;5;28mself\u001b[39m\u001b[38;5;241m.\u001b[39mabi,\n\u001b[0;32m   1004\u001b[0m     \u001b[38;5;241m*\u001b[39m\u001b[38;5;28mself\u001b[39m\u001b[38;5;241m.\u001b[39margs,\n\u001b[0;32m   1005\u001b[0m     \u001b[38;5;241m*\u001b[39m\u001b[38;5;241m*\u001b[39m\u001b[38;5;28mself\u001b[39m\u001b[38;5;241m.\u001b[39mkwargs\n\u001b[0;32m   1006\u001b[0m )\n",
      "File \u001b[1;32m~\\AppData\\Local\\Programs\\Python\\Python39\\lib\\site-packages\\web3\\contract.py:1590\u001b[0m, in \u001b[0;36mtransact_with_contract_function\u001b[1;34m(address, web3, function_name, transaction, contract_abi, fn_abi, *args, **kwargs)\u001b[0m\n\u001b[0;32m   1575\u001b[0m \u001b[38;5;124;03m\"\"\"\u001b[39;00m\n\u001b[0;32m   1576\u001b[0m \u001b[38;5;124;03mHelper function for interacting with a contract function by sending a\u001b[39;00m\n\u001b[0;32m   1577\u001b[0m \u001b[38;5;124;03mtransaction.\u001b[39;00m\n\u001b[0;32m   1578\u001b[0m \u001b[38;5;124;03m\"\"\"\u001b[39;00m\n\u001b[0;32m   1579\u001b[0m transact_transaction \u001b[38;5;241m=\u001b[39m prepare_transaction(\n\u001b[0;32m   1580\u001b[0m     address,\n\u001b[0;32m   1581\u001b[0m     web3,\n\u001b[1;32m   (...)\u001b[0m\n\u001b[0;32m   1587\u001b[0m     fn_kwargs\u001b[38;5;241m=\u001b[39mkwargs,\n\u001b[0;32m   1588\u001b[0m )\n\u001b[1;32m-> 1590\u001b[0m txn_hash \u001b[38;5;241m=\u001b[39m \u001b[43mweb3\u001b[49m\u001b[38;5;241;43m.\u001b[39;49m\u001b[43meth\u001b[49m\u001b[38;5;241;43m.\u001b[39;49m\u001b[43msend_transaction\u001b[49m\u001b[43m(\u001b[49m\u001b[43mtransact_transaction\u001b[49m\u001b[43m)\u001b[49m\n\u001b[0;32m   1591\u001b[0m \u001b[38;5;28;01mreturn\u001b[39;00m txn_hash\n",
      "File \u001b[1;32m~\\AppData\\Local\\Programs\\Python\\Python39\\lib\\site-packages\\web3\\eth.py:815\u001b[0m, in \u001b[0;36mEth.send_transaction\u001b[1;34m(self, transaction)\u001b[0m\n\u001b[0;32m    814\u001b[0m \u001b[38;5;28;01mdef\u001b[39;00m \u001b[38;5;21msend_transaction\u001b[39m(\u001b[38;5;28mself\u001b[39m, transaction: TxParams) \u001b[38;5;241m-\u001b[39m\u001b[38;5;241m>\u001b[39m HexBytes:\n\u001b[1;32m--> 815\u001b[0m     \u001b[38;5;28;01mreturn\u001b[39;00m \u001b[38;5;28;43mself\u001b[39;49m\u001b[38;5;241;43m.\u001b[39;49m\u001b[43m_send_transaction\u001b[49m\u001b[43m(\u001b[49m\u001b[43mtransaction\u001b[49m\u001b[43m)\u001b[49m\n",
      "File \u001b[1;32m~\\AppData\\Local\\Programs\\Python\\Python39\\lib\\site-packages\\web3\\module.py:57\u001b[0m, in \u001b[0;36mretrieve_blocking_method_call_fn.<locals>.caller\u001b[1;34m(*args, **kwargs)\u001b[0m\n\u001b[0;32m     55\u001b[0m     \u001b[38;5;28;01mreturn\u001b[39;00m LogFilter(eth_module\u001b[38;5;241m=\u001b[39mmodule, filter_id\u001b[38;5;241m=\u001b[39merr\u001b[38;5;241m.\u001b[39mfilter_id)\n\u001b[0;32m     56\u001b[0m result_formatters, error_formatters, null_result_formatters \u001b[38;5;241m=\u001b[39m response_formatters\n\u001b[1;32m---> 57\u001b[0m result \u001b[38;5;241m=\u001b[39m \u001b[43mw3\u001b[49m\u001b[38;5;241;43m.\u001b[39;49m\u001b[43mmanager\u001b[49m\u001b[38;5;241;43m.\u001b[39;49m\u001b[43mrequest_blocking\u001b[49m\u001b[43m(\u001b[49m\u001b[43mmethod_str\u001b[49m\u001b[43m,\u001b[49m\n\u001b[0;32m     58\u001b[0m \u001b[43m                                     \u001b[49m\u001b[43mparams\u001b[49m\u001b[43m,\u001b[49m\n\u001b[0;32m     59\u001b[0m \u001b[43m                                     \u001b[49m\u001b[43merror_formatters\u001b[49m\u001b[43m,\u001b[49m\n\u001b[0;32m     60\u001b[0m \u001b[43m                                     \u001b[49m\u001b[43mnull_result_formatters\u001b[49m\u001b[43m)\u001b[49m\n\u001b[0;32m     61\u001b[0m \u001b[38;5;28;01mreturn\u001b[39;00m apply_result_formatters(result_formatters, result)\n",
      "File \u001b[1;32m~\\AppData\\Local\\Programs\\Python\\Python39\\lib\\site-packages\\web3\\manager.py:198\u001b[0m, in \u001b[0;36mRequestManager.request_blocking\u001b[1;34m(self, method, params, error_formatters, null_result_formatters)\u001b[0m\n\u001b[0;32m    194\u001b[0m \u001b[38;5;124;03m\"\"\"\u001b[39;00m\n\u001b[0;32m    195\u001b[0m \u001b[38;5;124;03mMake a synchronous request using the provider\u001b[39;00m\n\u001b[0;32m    196\u001b[0m \u001b[38;5;124;03m\"\"\"\u001b[39;00m\n\u001b[0;32m    197\u001b[0m response \u001b[38;5;241m=\u001b[39m \u001b[38;5;28mself\u001b[39m\u001b[38;5;241m.\u001b[39m_make_request(method, params)\n\u001b[1;32m--> 198\u001b[0m \u001b[38;5;28;01mreturn\u001b[39;00m \u001b[38;5;28;43mself\u001b[39;49m\u001b[38;5;241;43m.\u001b[39;49m\u001b[43mformatted_response\u001b[49m\u001b[43m(\u001b[49m\u001b[43mresponse\u001b[49m\u001b[43m,\u001b[49m\n\u001b[0;32m    199\u001b[0m \u001b[43m                               \u001b[49m\u001b[43mparams\u001b[49m\u001b[43m,\u001b[49m\n\u001b[0;32m    200\u001b[0m \u001b[43m                               \u001b[49m\u001b[43merror_formatters\u001b[49m\u001b[43m,\u001b[49m\n\u001b[0;32m    201\u001b[0m \u001b[43m                               \u001b[49m\u001b[43mnull_result_formatters\u001b[49m\u001b[43m)\u001b[49m\n",
      "File \u001b[1;32m~\\AppData\\Local\\Programs\\Python\\Python39\\lib\\site-packages\\web3\\manager.py:171\u001b[0m, in \u001b[0;36mRequestManager.formatted_response\u001b[1;34m(response, params, error_formatters, null_result_formatters)\u001b[0m\n\u001b[0;32m    169\u001b[0m \u001b[38;5;28;01mif\u001b[39;00m \u001b[38;5;124m\"\u001b[39m\u001b[38;5;124merror\u001b[39m\u001b[38;5;124m\"\u001b[39m \u001b[38;5;129;01min\u001b[39;00m response:\n\u001b[0;32m    170\u001b[0m     apply_error_formatters(error_formatters, response)\n\u001b[1;32m--> 171\u001b[0m     \u001b[38;5;28;01mraise\u001b[39;00m \u001b[38;5;167;01mValueError\u001b[39;00m(response[\u001b[38;5;124m\"\u001b[39m\u001b[38;5;124merror\u001b[39m\u001b[38;5;124m\"\u001b[39m])\n\u001b[0;32m    172\u001b[0m \u001b[38;5;66;03m# NULL_RESPONSES includes None, so return False here as the default\u001b[39;00m\n\u001b[0;32m    173\u001b[0m \u001b[38;5;66;03m# so we don't apply the null_result_formatters if there is no 'result' key\u001b[39;00m\n\u001b[0;32m    174\u001b[0m \u001b[38;5;28;01melif\u001b[39;00m response\u001b[38;5;241m.\u001b[39mget(\u001b[38;5;124m'\u001b[39m\u001b[38;5;124mresult\u001b[39m\u001b[38;5;124m'\u001b[39m, \u001b[38;5;28;01mFalse\u001b[39;00m) \u001b[38;5;129;01min\u001b[39;00m NULL_RESPONSES:\n\u001b[0;32m    175\u001b[0m     \u001b[38;5;66;03m# null_result_formatters raise either a BlockNotFound\u001b[39;00m\n\u001b[0;32m    176\u001b[0m     \u001b[38;5;66;03m# or a TransactionNotFound error, depending on the method called\u001b[39;00m\n",
      "\u001b[1;31mValueError\u001b[0m: {'code': -32000, 'message': 'invalid sender'}"
     ]
    }
   ],
   "source": [
    "post_schema = \"category STRING,title STRING,body STRING,url STRING,is_nsfw NUMERIC\"\n",
    "post_schemaId = addSchema(post_schema, wait_for_inclusion=True, wait_for_finalization=False)\n",
    "\n",
    "comment_schema = \"post_hash STRING,parent_hash STRING,depth NUMERIC,body STRING\"\n",
    "comment_schemaId = addSchema(comment_schema, wait_for_inclusion=True, wait_for_finalization=False)\n",
    "\n",
    "vote_schema = \"post_hash STRING,parent_hash STRING,parent_type STRING,num_votes NUMERIC\"\n",
    "vote_schemaId = addSchema(vote_schema, wait_for_inclusion=True, wait_for_finalization=False)\n",
    "\n",
    "user_schema = \"msa_id NUMERIC,username STRING,password STRING,profile_pic STRING,wallet_address STRING\"\n",
    "user_schemaId = addSchema(user_schema, wait_for_inclusion=True, wait_for_finalization=False)\n",
    "\n",
    "follow_schema = \"protagonist_msa_id NUMERIC,antagonist_msa_id NUMERIC,event STRING\"\n",
    "follow_schemaId = addSchema(follow_schema, wait_for_inclusion=True, wait_for_finalization=False)\n",
    "\n",
    "link_schema = \"account_type STRING,account_value STRING\"\n",
    "link_schemaId = addSchema(link_schema, wait_for_inclusion=True, wait_for_finalization=False)\n",
    "\n",
    "payout_schema = \"payout_amount NUMERIC\"\n",
    "payout_schemaId = addSchema(payout_schema, wait_for_inclusion=True, wait_for_finalization=False)"
   ]
  },
  {
   "cell_type": "code",
   "execution_count": 106,
   "id": "b81081be",
   "metadata": {},
   "outputs": [
    {
     "name": "stderr",
     "output_type": "stream",
     "text": [
      "C:\\Users\\Mcian\\AppData\\Local\\Temp\\ipykernel_43288\\3946618650.py:6: ResourceWarning: unclosed file <_io.TextIOWrapper name='schemas.json' mode='w' encoding='cp1252'>\n",
      "  json.dump(schemas, open(\"schemas.json\", \"w\"))\n",
      "ResourceWarning: Enable tracemalloc to get the object allocation traceback\n"
     ]
    }
   ],
   "source": [
    "schemas = {\n",
    "    \"post\": post_schemaId, \"comment\": comment_schemaId, \n",
    "    \"vote\": vote_schemaId, \"user\": user_schemaId, \"follow\": follow_schemaId, \n",
    "    \"link\": link_schemaId, \"payout\": payout_schemaId,\n",
    "}\n",
    "json.dump(schemas, open(\"schemas.json\", \"w\"))"
   ]
  },
  {
   "cell_type": "code",
   "execution_count": 107,
   "id": "5672a0ef",
   "metadata": {},
   "outputs": [
    {
     "data": {
      "text/plain": [
       "{'post': 1,\n",
       " 'comment': 2,\n",
       " 'vote': 3,\n",
       " 'user': 4,\n",
       " 'follow': 5,\n",
       " 'link': 6,\n",
       " 'payout': 7}"
      ]
     },
     "execution_count": 107,
     "metadata": {},
     "output_type": "execute_result"
    }
   ],
   "source": [
    "schemas"
   ]
  },
  {
   "cell_type": "markdown",
   "id": "7d979bcb",
   "metadata": {},
   "source": [
    "# Mint accounts "
   ]
  },
  {
   "cell_type": "code",
   "execution_count": 117,
   "id": "73af93ae",
   "metadata": {
    "scrolled": true
   },
   "outputs": [
    {
     "name": "stderr",
     "output_type": "stream",
     "text": [
      "C:\\Users\\Mcian\\AppData\\Local\\Programs\\Python\\Python39\\lib\\site-packages\\eth_tester\\backends\\__init__.py:30: UserWarning: Ethereum Tester: No backend was explicitly set, and no *full* backends were available.  Falling back to the `MockBackend` which does not support all EVM functionality.  Please refer to the `eth-tester` documentation for information on what backends are available and how to set them.  Your py-evm package may need to be updated.\n",
      "  warnings.warn(UserWarning(\n",
      "F:\\web3_messing_around\\PostThread-Tron\\rest-api\\web3_helpers.py:18: ResourceWarning: unclosed file <_io.TextIOWrapper name='.PRIVATE.json' mode='r' encoding='cp1252'>\n",
      "  PRIVATE = json.load(open('.PRIVATE.json'))\n",
      "ResourceWarning: Enable tracemalloc to get the object allocation traceback\n",
      "F:\\web3_messing_around\\PostThread-Tron\\rest-api\\web3_helpers.py:32: ResourceWarning: unclosed file <_io.TextIOWrapper name='../backend/build/contracts/PostThread.json' mode='r' encoding='cp1252'>\n",
      "  build = json.load(open(\"../backend/build/contracts/PostThread.json\"))\n",
      "ResourceWarning: Enable tracemalloc to get the object allocation traceback\n",
      "F:\\web3_messing_around\\PostThread-Tron\\rest-api\\web3_helpers.py:33: ResourceWarning: unclosed file <_io.TextIOWrapper name='../backend/previous.json' mode='r' encoding='cp1252'>\n",
      "  prev = json.load(open(\"../backend/previous.json\"))\n",
      "ResourceWarning: Enable tracemalloc to get the object allocation traceback\n",
      "C:\\Users\\Mcian\\AppData\\Local\\Programs\\Python\\Python39\\lib\\site-packages\\ipfshttpclient\\client\\__init__.py:75: VersionMismatch: Unsupported daemon version '0.12.2' (not in range: 0.5.0 ≤ … < 0.9.0)\n",
      "  warnings.warn(exceptions.VersionMismatch(version, minimum, maximum))\n",
      "F:\\web3_messing_around\\PostThread-Tron\\rest-api\\web3_helpers.py:42: ResourceWarning: unclosed file <_io.TextIOWrapper name='schemas.json' mode='r' encoding='cp1252'>\n",
      "  schemas = json.load(open(\"schemas.json\"))\n",
      "ResourceWarning: Enable tracemalloc to get the object allocation traceback\n",
      "C:\\Users\\Mcian\\AppData\\Local\\Programs\\Python\\Python39\\lib\\site-packages\\eth_account\\signers\\local.py:54: DeprecationWarning: privateKey is deprecated in favor of key\n",
      "  warnings.warn(\n"
     ]
    },
    {
     "name": "stdout",
     "output_type": "stream",
     "text": [
      "-1 0x1C99Aed06cd7fc7F70e9836D33FA126e4613a775\n",
      "1 -1 4 {\"msa_id\": -1,\"username\": \"Alice\",\"password\": \"password\",\"profile_pic\": \"profile_pic\",\"wallet_address\": \"0x1C99Aed06cd7fc7F70e9836D33FA126e4613a775\"}\n",
      "\n",
      "Could not identify the intended function with name `addMessage`, positional argument(s) of type `(<class 'int'>, <class 'int'>, <class 'int'>, <class 'str'>)` and keyword argument(s) of type `{}`.\n",
      "Found 1 function(s) with the name `addMessage`: ['addMessage(uint256,uint256,uint256,string)']\n",
      "Function invocation failed due to no matching argument types.\n",
      "-1 0x32e112899ae7A59a85065144B4F40e0A77cBbf6B\n",
      "1 -1 4 {\"msa_id\": -1,\"username\": \"Charlie\",\"password\": \"password\",\"profile_pic\": \"profile_pic\",\"wallet_address\": \"0x32e112899ae7A59a85065144B4F40e0A77cBbf6B\"}\n",
      "\n",
      "Could not identify the intended function with name `addMessage`, positional argument(s) of type `(<class 'int'>, <class 'int'>, <class 'int'>, <class 'str'>)` and keyword argument(s) of type `{}`.\n",
      "Found 1 function(s) with the name `addMessage`: ['addMessage(uint256,uint256,uint256,string)']\n",
      "Function invocation failed due to no matching argument types.\n",
      "-1 0xA9df654e451F373c6d8fF5d9a84F58106Aaa362e\n",
      "1 -1 4 {\"msa_id\": -1,\"username\": \"Dave\",\"password\": \"password\",\"profile_pic\": \"profile_pic\",\"wallet_address\": \"0xA9df654e451F373c6d8fF5d9a84F58106Aaa362e\"}\n",
      "\n",
      "Could not identify the intended function with name `addMessage`, positional argument(s) of type `(<class 'int'>, <class 'int'>, <class 'int'>, <class 'str'>)` and keyword argument(s) of type `{}`.\n",
      "Found 1 function(s) with the name `addMessage`: ['addMessage(uint256,uint256,uint256,string)']\n",
      "Function invocation failed due to no matching argument types.\n",
      "-1 0xC14eB23C3045AdF7965C225c957735B372550947\n",
      "1 -1 4 {\"msa_id\": -1,\"username\": \"Eve\",\"password\": \"password\",\"profile_pic\": \"profile_pic\",\"wallet_address\": \"0xC14eB23C3045AdF7965C225c957735B372550947\"}\n",
      "\n",
      "Could not identify the intended function with name `addMessage`, positional argument(s) of type `(<class 'int'>, <class 'int'>, <class 'int'>, <class 'str'>)` and keyword argument(s) of type `{}`.\n",
      "Found 1 function(s) with the name `addMessage`: ['addMessage(uint256,uint256,uint256,string)']\n",
      "Function invocation failed due to no matching argument types.\n",
      "-1 0xdBBe1Fd79a3933F13239467A6B1E10C8DdB794f1\n",
      "1 -1 4 {\"msa_id\": -1,\"username\": \"Ferdie\",\"password\": \"password\",\"profile_pic\": \"profile_pic\",\"wallet_address\": \"0xdBBe1Fd79a3933F13239467A6B1E10C8DdB794f1\"}\n",
      "\n",
      "Could not identify the intended function with name `addMessage`, positional argument(s) of type `(<class 'int'>, <class 'int'>, <class 'int'>, <class 'str'>)` and keyword argument(s) of type `{}`.\n",
      "Found 1 function(s) with the name `addMessage`: ['addMessage(uint256,uint256,uint256,string)']\n",
      "Function invocation failed due to no matching argument types.\n"
     ]
    }
   ],
   "source": [
    "accounts = {}\n",
    "for account in ['Alice', 'Charlie', 'Dave', 'Eve', 'Ferdie']:\n",
    "    wallet = w3.eth.account.from_key(keccak(encode_abi_packed(['string'],[f\"{account}password\"])))\n",
    "    user_msa_id = create_msa_with_delegator(wallet)\n",
    "    print(user_msa_id, wallet.address)\n",
    "    receipt_user = mint_user(user_msa_id, account, \"password\", \"profile_pic\", wallet, wait_for_inclusion=True)\n",
    "    accounts[account] = user_msa_id"
   ]
  },
  {
   "cell_type": "code",
   "execution_count": 60,
   "id": "935fe0cd",
   "metadata": {},
   "outputs": [
    {
     "name": "stderr",
     "output_type": "stream",
     "text": [
      "C:\\Users\\Mcian\\AppData\\Local\\Temp\\ipykernel_43288\\3537983566.py:1: ResourceWarning: unclosed file <_io.TextIOWrapper name='accounts.json' mode='w' encoding='cp1252'>\n",
      "  json.dump(accounts, open(\"accounts.json\", \"w\"))\n",
      "ResourceWarning: Enable tracemalloc to get the object allocation traceback\n"
     ]
    }
   ],
   "source": [
    "json.dump(accounts, open(\"accounts.json\", \"w\"))"
   ]
  },
  {
   "cell_type": "code",
   "execution_count": 61,
   "id": "d1e47bf8",
   "metadata": {},
   "outputs": [
    {
     "data": {
      "text/plain": [
       "{'Alice': 3, 'Charlie': 4, 'Dave': 5, 'Eve': 6, 'Ferdie': 7}"
      ]
     },
     "execution_count": 61,
     "metadata": {},
     "output_type": "execute_result"
    }
   ],
   "source": [
    "accounts"
   ]
  },
  {
   "cell_type": "markdown",
   "id": "17943ed7",
   "metadata": {},
   "source": [
    "# Have accounts follow each other"
   ]
  },
  {
   "cell_type": "code",
   "execution_count": 62,
   "id": "0e81330b",
   "metadata": {
    "scrolled": true
   },
   "outputs": [
    {
     "name": "stdout",
     "output_type": "stream",
     "text": [
      "Alice Charlie\n",
      "Alice Dave\n",
      "Alice Eve\n",
      "Alice Ferdie\n",
      "Charlie Alice\n",
      "Charlie Dave\n",
      "Charlie Eve\n",
      "Charlie Ferdie\n",
      "Dave Alice\n",
      "Dave Charlie\n",
      "Dave Eve\n",
      "Dave Ferdie\n",
      "Eve Alice\n",
      "Eve Charlie\n",
      "Eve Dave\n",
      "Eve Ferdie\n",
      "Ferdie Alice\n",
      "Ferdie Charlie\n",
      "Ferdie Dave\n",
      "Ferdie Eve\n"
     ]
    }
   ],
   "source": [
    "for name1, k1 in accounts.items():\n",
    "    for name2, k2 in accounts.items():\n",
    "        if k1 != k2:\n",
    "            print(name1, name2)\n",
    "            receipt = follow_user(k1, k2, True, wait_for_inclusion=True, wait_for_finalization=False)"
   ]
  },
  {
   "cell_type": "code",
   "execution_count": 63,
   "id": "754e8fd0",
   "metadata": {
    "scrolled": true
   },
   "outputs": [],
   "source": [
    "receipt = follow_user(accounts['Dave'], accounts['Eve'], False, wait_for_inclusion=False, wait_for_finalization=False)\n",
    "receipt = follow_user(accounts['Eve'], accounts['Dave'], False, wait_for_inclusion=False, wait_for_finalization=False)\n",
    "receipt = follow_user(accounts['Dave'], accounts['Eve'], True, wait_for_inclusion=False, wait_for_finalization=False)"
   ]
  },
  {
   "cell_type": "markdown",
   "id": "fa6e1713",
   "metadata": {},
   "source": [
    "# Test post"
   ]
  },
  {
   "cell_type": "code",
   "execution_count": 64,
   "id": "d0b4f3b6",
   "metadata": {},
   "outputs": [
    {
     "name": "stderr",
     "output_type": "stream",
     "text": [
      "F:\\web3_messing_around\\PostThread-Tron\\rest-api\\web3_helpers.py:110: ResourceWarning: unclosed file <_io.TextIOWrapper name='temp.json' mode='w' encoding='cp1252'>\n",
      "  # write to temp file first to get hash from ipfs\n",
      "ResourceWarning: Enable tracemalloc to get the object allocation traceback\n",
      "F:\\web3_messing_around\\PostThread-Tron\\rest-api\\web3_helpers.py:120: ResourceWarning: unclosed file <_io.TextIOWrapper name='C:/tmp/posts/QmbG2dxLWHKvdgsTqDzLjhD96BXrLQUeJkrLuasmPZKgn9.json' mode='w' encoding='cp1252'>\n",
      "  \n",
      "ResourceWarning: Enable tracemalloc to get the object allocation traceback\n"
     ]
    }
   ],
   "source": [
    "post_data = {\n",
    "    \"category\": \"test\",\n",
    "    \"title\": \"test title\",\n",
    "    \"body\": \"test post\",\n",
    "    \"url\": \"\",\n",
    "    \"is_nsfw\": False\n",
    "}\n",
    "\n",
    "username = 'Charlie'\n",
    "password = 'password'\n",
    "\n",
    "user_wallet = w3.eth.account.from_key(keccak(encode_abi_packed(['string'],[f\"{username}password\"])))\n",
    "user_msa_id = get_msa_id(user_wallet)\n",
    "\n",
    "post_data_hash, receipt_post = mint_data(post_data, user_msa_id, schemas['post'], path+'posts/', \n",
    "                                         wait_for_inclusion=True, wait_for_finalization=False)"
   ]
  },
  {
   "cell_type": "code",
   "execution_count": 65,
   "id": "d408217f",
   "metadata": {
    "scrolled": true
   },
   "outputs": [
    {
     "data": {
      "text/plain": [
       "'QmbG2dxLWHKvdgsTqDzLjhD96BXrLQUeJkrLuasmPZKgn9'"
      ]
     },
     "execution_count": 65,
     "metadata": {},
     "output_type": "execute_result"
    }
   ],
   "source": [
    "example_post = pd.read_sql_query(f\"SELECT ipfs_hash FROM post WHERE msa_id_from_query = {accounts['Charlie']} LIMIT 1\", con)['ipfs_hash'].iloc[0]\n",
    "example_post"
   ]
  },
  {
   "cell_type": "code",
   "execution_count": 54,
   "id": "ad265ade",
   "metadata": {
    "scrolled": true
   },
   "outputs": [
    {
     "name": "stderr",
     "output_type": "stream",
     "text": [
      "F:\\web3_messing_around\\PostThread-Tron\\rest-api\\web3_helpers.py:110: ResourceWarning: unclosed file <_io.TextIOWrapper name='temp.json' mode='w' encoding='cp1252'>\n",
      "  # write to temp file first to get hash from ipfs\n",
      "ResourceWarning: Enable tracemalloc to get the object allocation traceback\n",
      "F:\\web3_messing_around\\PostThread-Tron\\rest-api\\web3_helpers.py:120: ResourceWarning: unclosed file <_io.TextIOWrapper name='C:/tmp/comments/Qmd9sFS6teTACsrxyHKmZZyjTj5C1mVzoVbYrFHXLunuJF.json' mode='w' encoding='cp1252'>\n",
      "  \n",
      "ResourceWarning: Enable tracemalloc to get the object allocation traceback\n"
     ]
    },
    {
     "name": "stdout",
     "output_type": "stream",
     "text": [
      "1 4 2 Qmd9sFS6teTACsrxyHKmZZyjTj5C1mVzoVbYrFHXLunuJF\n"
     ]
    }
   ],
   "source": [
    "comment_data = {\n",
    "    \"post_hash\": example_post,\n",
    "    \"parent_hash\": example_post,\n",
    "    \"depth\": 0,\n",
    "    \"body\": \"example comment 2\",\n",
    "}\n",
    "username = 'Charlie'\n",
    "password = 'password'\n",
    "\n",
    "user_wallet = w3.eth.account.from_key(keccak(encode_abi_packed(['string'],[f\"{username}password\"])))\n",
    "user_msa_id = get_msa_id(user_wallet)\n",
    "\n",
    "comment_data_hash, receipt_comment = mint_data(comment_data, user_msa_id, schemas['comment'], path+'comments/', \n",
    "                                               wait_for_inclusion=True, wait_for_finalization=False)\n"
   ]
  },
  {
   "cell_type": "code",
   "execution_count": 55,
   "id": "f040398c",
   "metadata": {},
   "outputs": [
    {
     "name": "stdout",
     "output_type": "stream",
     "text": [
      "1 4 6 {\"account_type\": \"gmail\",\"account_value\": \"example@gmail.com\"}\n"
     ]
    }
   ],
   "source": [
    "account_type = \"gmail\"\n",
    "account_value = \"example@gmail.com\"\n",
    "link_data = '{' + f'\"account_type\": \"{account_type}\",\"account_value\": \"{account_value}\"' + '}'\n",
    "\n",
    "username = 'Charlie'\n",
    "password = 'password'\n",
    "\n",
    "user_wallet = w3.eth.account.from_key(keccak(encode_abi_packed(['string'],[f\"{username}password\"])))\n",
    "user_msa_id = get_msa_id(user_wallet)\n",
    "\n",
    "link_data_hash, receipt_link = mint_data(link_data, user_msa_id, schemas['link'], \n",
    "                                               wait_for_inclusion=True, wait_for_finalization=False)"
   ]
  },
  {
   "cell_type": "code",
   "execution_count": 56,
   "id": "bf1552f7",
   "metadata": {},
   "outputs": [
    {
     "name": "stdout",
     "output_type": "stream",
     "text": [
      "1 4 3 {\"post_hash\": \"QmbG2dxLWHKvdgsTqDzLjhD96BXrLQUeJkrLuasmPZKgn9\",\"parent_hash\": \"QmbG2dxLWHKvdgsTqDzLjhD96BXrLQUeJkrLuasmPZKgn9\",\"parent_type\": \"post\",\"num_votes\": 1}\n"
     ]
    }
   ],
   "source": [
    "    data = '{' + f'\"post_hash\": \"{example_post}\",\"parent_hash\": \"{example_post}\",\"parent_type\": \"post\",\"num_votes\": 1' + '}'\n",
    "    _, receipt = mint_data(data, user_msa_id, schemas['vote'], \n",
    "                        wait_for_inclusion=True, wait_for_finalization=False)\n",
    "    "
   ]
  },
  {
   "cell_type": "code",
   "execution_count": 58,
   "id": "42402e59",
   "metadata": {},
   "outputs": [
    {
     "name": "stdout",
     "output_type": "stream",
     "text": [
      "1 4 7 {\"payout_amount\": 1000}\n"
     ]
    },
    {
     "data": {
      "text/plain": [
       "('{\"payout_amount\": 1000}',\n",
       " AttributeDict({'transactionHash': HexBytes('0xbe4d39fa46d405e17d8e4b8ca80d4731fc3660b8d42b3c8b19f39c3cc89430e5'),\n",
       "  'transactionIndex': 0,\n",
       "  'blockHash': HexBytes('0x546b32270005afafc22e3a8f2a1c0764c07837fa04d3b92e7d8fb17277fb20b1'),\n",
       "  'blockNumber': 353,\n",
       "  'from': '0x907a86721628bed9B5976D4B44ecd3EBe1E6CB46',\n",
       "  'to': '0x093a92b12648A65AB1e7c21c21Ee3F9142B745a3',\n",
       "  'gasUsed': 168201,\n",
       "  'cumulativeGasUsed': 168201,\n",
       "  'contractAddress': None,\n",
       "  'logs': [],\n",
       "  'status': 1,\n",
       "  'logsBloom': HexBytes('0x00000000000000000000000000000000000000000000000000000000000000000000000000000000000000000000000000000000000000000000000000000000000000000000000000000000000000000000000000000000000000000000000000000000000000000000000000000000000000000000000000000000000000000000000000000000000000000000000000000000000000000000000000000000000000000000000000000000000000000000000000000000000000000000000000000000000000000000000000000000000000000000000000000000000000000000000000000000000000000000000000000000000000000000000000000000')}))"
      ]
     },
     "execution_count": 58,
     "metadata": {},
     "output_type": "execute_result"
    }
   ],
   "source": [
    "\n",
    "    payout_amount = 1000\n",
    "    data = '{' + f'\"payout_amount\": {payout_amount}' + '}'\n",
    "    mint_data(data, user_msa_id, schemas['payout'], wait_for_inclusion=True, wait_for_finalization=False)"
   ]
  },
  {
   "cell_type": "code",
   "execution_count": null,
   "id": "fc639a8a",
   "metadata": {},
   "outputs": [],
   "source": []
  }
 ],
 "metadata": {
  "kernelspec": {
   "display_name": "Python 3 (ipykernel)",
   "language": "python",
   "name": "python3"
  },
  "language_info": {
   "codemirror_mode": {
    "name": "ipython",
    "version": 3
   },
   "file_extension": ".py",
   "mimetype": "text/x-python",
   "name": "python",
   "nbconvert_exporter": "python",
   "pygments_lexer": "ipython3",
   "version": "3.9.12"
  },
  "vscode": {
   "interpreter": {
    "hash": "f90a51316803318f0b952c570a4fe32d53aa73ff3300e1da5777ab9e91b8249c"
   }
  }
 },
 "nbformat": 4,
 "nbformat_minor": 5
}
