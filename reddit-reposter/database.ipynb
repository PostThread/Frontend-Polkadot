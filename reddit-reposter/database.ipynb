{
 "cells": [
  {
   "cell_type": "code",
   "execution_count": 1,
   "id": "f407b90a",
   "metadata": {},
   "outputs": [],
   "source": [
    "%load_ext autoreload\n",
    "%autoreload 2"
   ]
  },
  {
   "cell_type": "code",
   "execution_count": 2,
   "id": "8aea1773",
   "metadata": {},
   "outputs": [
    {
     "name": "stderr",
     "output_type": "stream",
     "text": [
      "/home/chia/miniconda3/lib/python3.8/site-packages/ipfshttpclient/client/__init__.py:73: VersionMismatch: Unsupported daemon version '0.13.0' (not in range: 0.5.0 ≤ … < 0.9.0)\n",
      "  warnings.warn(exceptions.VersionMismatch(version, minimum, maximum))\n"
     ]
    }
   ],
   "source": [
    "from substrate_helpers import *"
   ]
  },
  {
   "cell_type": "code",
   "execution_count": 73,
   "id": "b318db55",
   "metadata": {},
   "outputs": [],
   "source": [
    "import sqlite3\n",
    "import re\n",
    "import datetime\n",
    "import pandas as pd"
   ]
  },
  {
   "cell_type": "code",
   "execution_count": 4,
   "id": "e8704869",
   "metadata": {
    "scrolled": true
   },
   "outputs": [],
   "source": [
    "from substrateinterface import SubstrateInterface, Keypair\n",
    "from substrateinterface.exceptions import SubstrateRequestException\n",
    "\n",
    "substrate = SubstrateInterface(\n",
    "    url=\"ws://127.0.0.1:11946\",\n",
    "    ss58_format=42,\n",
    "    type_registry_preset='kusama'\n",
    ")"
   ]
  },
  {
   "cell_type": "code",
   "execution_count": 138,
   "id": "1569e31f",
   "metadata": {},
   "outputs": [],
   "source": [
    "con = sqlite3.connect('test1.db')\n",
    "cur = con.cursor()"
   ]
  },
  {
   "cell_type": "code",
   "execution_count": 137,
   "id": "7ba44d8c",
   "metadata": {},
   "outputs": [],
   "source": [
    "con.close()"
   ]
  },
  {
   "cell_type": "code",
   "execution_count": null,
   "id": "5b7afee0",
   "metadata": {},
   "outputs": [],
   "source": []
  },
  {
   "cell_type": "code",
   "execution_count": 32,
   "id": "2de37223",
   "metadata": {},
   "outputs": [
    {
     "name": "stdout",
     "output_type": "stream",
     "text": [
      "category STRING,username STRING,profile_pic STRING,title STRING,body STRING,url STRING,is_nsfw NUMERIC\n",
      "post_hash STRING,parent_hash STRING,parent_type STRING,username STRING,profile_pic STRING,body STRING\n",
      "post_hash STRING,parent_hash STRING,parent_type STRING,num_votes NUMERIC\n",
      "msa_id NUMERIC,username STRING,password STRING,profile_pic STRING,wallet_ss58_address STRING\n"
     ]
    }
   ],
   "source": [
    "post_schemas = {}\n",
    "for i in [post_schemaId, comment_schemaId, vote_schemaId, user_schemaId]:\n",
    "    schemaTemp = substrate.query(\n",
    "        module='Schemas',\n",
    "        storage_function='Schemas',\n",
    "        params=[i]\n",
    "    )\n",
    "    print(schemaTemp.value)\n",
    "    post_schemas[schemaTemp.value] = i"
   ]
  },
  {
   "cell_type": "code",
   "execution_count": 196,
   "id": "26ce6293",
   "metadata": {
    "scrolled": true
   },
   "outputs": [],
   "source": [
    "def update_db(start_block=0, backfill=True):\n",
    "    current_block = substrate.get_block()['header']['number']\n",
    "    schemas = {\"post\": post_schemaId, \"comment\": comment_schemaId, \"vote\": vote_schemaId, \"user\": user_schemaId}\n",
    "    date_format = \"%m-%d-%Y %H:%M:%S\"\n",
    "\n",
    "    for schemaName, schemaId in schemas.items():\n",
    "        print(schemaName)\n",
    "        schemaValue = substrate.query(\n",
    "            module='Schemas',\n",
    "            storage_function='Schemas',\n",
    "            params=[schemaId]\n",
    "        ).value\n",
    "\n",
    "        extraValues = \"block_number INTEGER,msa_id_from_query INTEGER,signer STRING,date_minted DATE\"\n",
    "        is_ipfs_hash = schemaName not in ['vote', 'user']\n",
    "        if is_ipfs_hash:\n",
    "            extraValues += \",ipfs_hash STRING\"\n",
    "\n",
    "        if backfill:\n",
    "            # Delete table if exists and then create it\n",
    "            cur.execute(f\"DROP TABLE IF EXISTS {schemaName}\")\n",
    "            \n",
    "            names = ','.join([v.split(' ')[0] for v in schemaValue.split(',') + extraValues.split(',')])\n",
    "            create_table = f\"CREATE TABLE {schemaName} ({schemaValue}, {extraValues}, UNIQUE({names}))\"\n",
    "            print(create_table)\n",
    "            cur.execute(create_table)\n",
    "\n",
    "        params = [\n",
    "            schemaId,\n",
    "            {\n",
    "                \"page_size\": 1000,\n",
    "                \"from_block\": start_block,\n",
    "                \"to_block\": current_block,\n",
    "                \"from_index\": 0,\n",
    "            }\n",
    "        ]\n",
    "\n",
    "        request = substrate.rpc_request(\n",
    "            method='messages_getBySchema',\n",
    "            params=params,\n",
    "        )\n",
    "\n",
    "        for content in request['result']['content']:\n",
    "            date_str = \"null\"\n",
    "            for extrinsic in substrate.get_block(substrate.get_block_hash(content['block_number']))['extrinsics']:\n",
    "                if \"Timestamp\" == extrinsic.value['call']['call_module']:\n",
    "                    timestamp = extrinsic.value['call']['call_args'][0]['value']\n",
    "                    date_time = datetime.datetime.fromtimestamp(timestamp/1000)\n",
    "                    date_str = \"'\" + date_time.strftime(date_format) + \"'\"\n",
    "                    break\n",
    "            if date_str is None:\n",
    "                print('Failed to get timestamp from block ', )\n",
    "\n",
    "            row_raw = bytes.fromhex(content['data'][2:]).decode()\n",
    "            ipfs_hash = None\n",
    "            if is_ipfs_hash:\n",
    "                ipfs_hash = row_raw\n",
    "                try:\n",
    "                    row_raw = client.cat(ipfs_hash).decode()\n",
    "                except:\n",
    "                    print(ipfs_hash)\n",
    "                    continue\n",
    "            try:\n",
    "                row = json.loads(row_raw)\n",
    "            except:\n",
    "                continue\n",
    "\n",
    "            inp = \"\"\n",
    "            for scheme in schemaValue.split(','):\n",
    "                scheme_list = scheme.split(' ')\n",
    "                data = row[scheme_list[0]]\n",
    "                data_type = scheme_list[1]\n",
    "                if 'string' in data_type.lower():\n",
    "                    data = data.replace(\"'\", \"❜\")\n",
    "                    inp += f\"'{data}',\"\n",
    "                else:\n",
    "                    inp += f\"{data},\"\n",
    "\n",
    "            inp += f\"{content['block_number']},{content['msa_id']},'{content['signer']}',{date_str}\"\n",
    "            if is_ipfs_hash:\n",
    "                inp += f\",'{ipfs_hash}'\"\n",
    "\n",
    "            cur.execute(f\"INSERT OR IGNORE INTO {schemaName} VALUES ({inp})\")\n",
    "    return current_block"
   ]
  },
  {
   "cell_type": "code",
   "execution_count": 197,
   "id": "6fc4467b",
   "metadata": {},
   "outputs": [
    {
     "name": "stdout",
     "output_type": "stream",
     "text": [
      "post\n",
      "CREATE TABLE post (category STRING,username STRING,profile_pic STRING,title STRING,body STRING,url STRING,is_nsfw NUMERIC, block_number INTEGER,msa_id_from_query INTEGER,signer STRING,date_minted DATE,ipfs_hash STRING, UNIQUE(category,username,profile_pic,title,body,url,is_nsfw,block_number,msa_id_from_query,signer,date_minted,ipfs_hash))\n",
      ",,post,,QmfGhEYRYZoC3Vm6ijmdPdjAU6ZXMJmuhrAhpChvDBcH6p\n",
      "comment\n",
      "CREATE TABLE comment (post_hash STRING,parent_hash STRING,parent_type STRING,username STRING,profile_pic STRING,body STRING, block_number INTEGER,msa_id_from_query INTEGER,signer STRING,date_minted DATE,ipfs_hash STRING, UNIQUE(post_hash,parent_hash,parent_type,username,profile_pic,body,block_number,msa_id_from_query,signer,date_minted,ipfs_hash))\n",
      "vote\n",
      "CREATE TABLE vote (post_hash STRING,parent_hash STRING,parent_type STRING,num_votes NUMERIC, block_number INTEGER,msa_id_from_query INTEGER,signer STRING,date_minted DATE, UNIQUE(post_hash,parent_hash,parent_type,num_votes,block_number,msa_id_from_query,signer,date_minted))\n",
      "user\n",
      "CREATE TABLE user (msa_id NUMERIC,username STRING,password STRING,profile_pic STRING,wallet_ss58_address STRING, block_number INTEGER,msa_id_from_query INTEGER,signer STRING,date_minted DATE, UNIQUE(msa_id,username,password,profile_pic,wallet_ss58_address,block_number,msa_id_from_query,signer,date_minted))\n"
     ]
    }
   ],
   "source": [
    "last_block_updated = update_db(start_block=0, backfill=True)\n",
    "con.commit()"
   ]
  },
  {
   "cell_type": "code",
   "execution_count": 152,
   "id": "de8a3d36",
   "metadata": {
    "scrolled": true
   },
   "outputs": [
    {
     "data": {
      "text/html": [
       "<div>\n",
       "<style scoped>\n",
       "    .dataframe tbody tr th:only-of-type {\n",
       "        vertical-align: middle;\n",
       "    }\n",
       "\n",
       "    .dataframe tbody tr th {\n",
       "        vertical-align: top;\n",
       "    }\n",
       "\n",
       "    .dataframe thead th {\n",
       "        text-align: right;\n",
       "    }\n",
       "</style>\n",
       "<table border=\"1\" class=\"dataframe\">\n",
       "  <thead>\n",
       "    <tr style=\"text-align: right;\">\n",
       "      <th></th>\n",
       "      <th>msa_id</th>\n",
       "      <th>username</th>\n",
       "      <th>password</th>\n",
       "      <th>profile_pic</th>\n",
       "      <th>wallet_ss58_address</th>\n",
       "      <th>block_number</th>\n",
       "      <th>msa_id_from_query</th>\n",
       "      <th>signer</th>\n",
       "      <th>date_minted</th>\n",
       "    </tr>\n",
       "  </thead>\n",
       "  <tbody>\n",
       "    <tr>\n",
       "      <th>0</th>\n",
       "      <td>438</td>\n",
       "      <td>Mental_Shelter</td>\n",
       "      <td>password</td>\n",
       "      <td>https://www.redditstatic.com/avatars/defaults/...</td>\n",
       "      <td>5DUemZiN3jQKfaedGo1bEQKRnercMrgAHianX21hkrcChEuC</td>\n",
       "      <td>7397</td>\n",
       "      <td>438</td>\n",
       "      <td>5FHneW46xGXgs5mUiveU4sbTyGBzmstUspZC92UhjJM694ty</td>\n",
       "      <td>06-21-2022 19:36:24</td>\n",
       "    </tr>\n",
       "    <tr>\n",
       "      <th>1</th>\n",
       "      <td>439</td>\n",
       "      <td>dimechimes</td>\n",
       "      <td>password</td>\n",
       "      <td>https://www.redditstatic.com/avatars/defaults/...</td>\n",
       "      <td>5E741P4DGM94ozrLjrLpNJe9HGPgT5TCAQs1yPbYvbALRDMZ</td>\n",
       "      <td>7398</td>\n",
       "      <td>439</td>\n",
       "      <td>5FHneW46xGXgs5mUiveU4sbTyGBzmstUspZC92UhjJM694ty</td>\n",
       "      <td>06-21-2022 19:36:54</td>\n",
       "    </tr>\n",
       "    <tr>\n",
       "      <th>2</th>\n",
       "      <td>440</td>\n",
       "      <td>Sl0ppy0tter</td>\n",
       "      <td>password</td>\n",
       "      <td>https://styles.redditmedia.com/t5_52wkdg/style...</td>\n",
       "      <td>5EFK76PX3ho6qGVYax1z3mEyHYxYKJxpAE4M1mV12NgSPAXn</td>\n",
       "      <td>7399</td>\n",
       "      <td>440</td>\n",
       "      <td>5FHneW46xGXgs5mUiveU4sbTyGBzmstUspZC92UhjJM694ty</td>\n",
       "      <td>06-21-2022 19:37:12</td>\n",
       "    </tr>\n",
       "    <tr>\n",
       "      <th>3</th>\n",
       "      <td>441</td>\n",
       "      <td>mightylordredbeard</td>\n",
       "      <td>password</td>\n",
       "      <td>https://www.redditstatic.com/avatars/defaults/...</td>\n",
       "      <td>5GKV2pAsjGJUKJ9wEW4tF4yxL2ogtUvox8Gyejdd4wHa5VAi</td>\n",
       "      <td>7400</td>\n",
       "      <td>441</td>\n",
       "      <td>5FHneW46xGXgs5mUiveU4sbTyGBzmstUspZC92UhjJM694ty</td>\n",
       "      <td>06-21-2022 19:37:36</td>\n",
       "    </tr>\n",
       "    <tr>\n",
       "      <th>4</th>\n",
       "      <td>442</td>\n",
       "      <td>human_male_123</td>\n",
       "      <td>password</td>\n",
       "      <td>https://www.redditstatic.com/avatars/defaults/...</td>\n",
       "      <td>5GBg27doAGAJasPjcbNvrbGrMDvkYBxM2CY2CFQACye7UGr7</td>\n",
       "      <td>7401</td>\n",
       "      <td>442</td>\n",
       "      <td>5FHneW46xGXgs5mUiveU4sbTyGBzmstUspZC92UhjJM694ty</td>\n",
       "      <td>06-21-2022 19:38:00</td>\n",
       "    </tr>\n",
       "    <tr>\n",
       "      <th>...</th>\n",
       "      <td>...</td>\n",
       "      <td>...</td>\n",
       "      <td>...</td>\n",
       "      <td>...</td>\n",
       "      <td>...</td>\n",
       "      <td>...</td>\n",
       "      <td>...</td>\n",
       "      <td>...</td>\n",
       "      <td>...</td>\n",
       "    </tr>\n",
       "    <tr>\n",
       "      <th>302</th>\n",
       "      <td>740</td>\n",
       "      <td>brigrrrl</td>\n",
       "      <td>password</td>\n",
       "      <td>https://styles.redditmedia.com/t5_28rzsh/style...</td>\n",
       "      <td>5CotCQUjesc6BnWt6x7YyersypyaCuswKoVPqXsjDXtc3wH3</td>\n",
       "      <td>7722</td>\n",
       "      <td>740</td>\n",
       "      <td>5FHneW46xGXgs5mUiveU4sbTyGBzmstUspZC92UhjJM694ty</td>\n",
       "      <td>06-21-2022 21:46:24</td>\n",
       "    </tr>\n",
       "    <tr>\n",
       "      <th>303</th>\n",
       "      <td>741</td>\n",
       "      <td>eduardtee</td>\n",
       "      <td>password</td>\n",
       "      <td>https://styles.redditmedia.com/t5_6msk8/styles...</td>\n",
       "      <td>5CLxfPDYkXFUnGYzJFPkQiKdXVetR81UcxqnfygmwpwtFJuG</td>\n",
       "      <td>7723</td>\n",
       "      <td>741</td>\n",
       "      <td>5FHneW46xGXgs5mUiveU4sbTyGBzmstUspZC92UhjJM694ty</td>\n",
       "      <td>06-21-2022 21:46:54</td>\n",
       "    </tr>\n",
       "    <tr>\n",
       "      <th>304</th>\n",
       "      <td>742</td>\n",
       "      <td>Victory1871</td>\n",
       "      <td>password</td>\n",
       "      <td>https://www.redditstatic.com/avatars/defaults/...</td>\n",
       "      <td>5EFmBd3PDykbXC1YfQXxGbndgR9nJubokV3BENTB6TXva4Hx</td>\n",
       "      <td>7725</td>\n",
       "      <td>742</td>\n",
       "      <td>5FHneW46xGXgs5mUiveU4sbTyGBzmstUspZC92UhjJM694ty</td>\n",
       "      <td>06-21-2022 21:47:36</td>\n",
       "    </tr>\n",
       "    <tr>\n",
       "      <th>305</th>\n",
       "      <td>743</td>\n",
       "      <td>Stringbean1109</td>\n",
       "      <td>password</td>\n",
       "      <td>https://styles.redditmedia.com/t5_5uhgku/style...</td>\n",
       "      <td>5GmuriRZFWdMhQhU1mN8t1nzMvcKcvWd5B9bKzTVFz1zLooi</td>\n",
       "      <td>7726</td>\n",
       "      <td>743</td>\n",
       "      <td>5FHneW46xGXgs5mUiveU4sbTyGBzmstUspZC92UhjJM694ty</td>\n",
       "      <td>06-21-2022 21:48:00</td>\n",
       "    </tr>\n",
       "    <tr>\n",
       "      <th>306</th>\n",
       "      <td>744</td>\n",
       "      <td>GossipGirl515</td>\n",
       "      <td>password</td>\n",
       "      <td>https://styles.redditmedia.com/t5_2yz4ax/style...</td>\n",
       "      <td>5Hh4hvr4f4escwXrQtJ43c75uyZni4KSnQCMfPYc75AaYVs3</td>\n",
       "      <td>7727</td>\n",
       "      <td>744</td>\n",
       "      <td>5FHneW46xGXgs5mUiveU4sbTyGBzmstUspZC92UhjJM694ty</td>\n",
       "      <td>06-21-2022 21:48:24</td>\n",
       "    </tr>\n",
       "  </tbody>\n",
       "</table>\n",
       "<p>307 rows × 9 columns</p>\n",
       "</div>"
      ],
      "text/plain": [
       "     msa_id            username  password  \\\n",
       "0       438      Mental_Shelter  password   \n",
       "1       439          dimechimes  password   \n",
       "2       440         Sl0ppy0tter  password   \n",
       "3       441  mightylordredbeard  password   \n",
       "4       442      human_male_123  password   \n",
       "..      ...                 ...       ...   \n",
       "302     740            brigrrrl  password   \n",
       "303     741           eduardtee  password   \n",
       "304     742         Victory1871  password   \n",
       "305     743      Stringbean1109  password   \n",
       "306     744       GossipGirl515  password   \n",
       "\n",
       "                                           profile_pic  \\\n",
       "0    https://www.redditstatic.com/avatars/defaults/...   \n",
       "1    https://www.redditstatic.com/avatars/defaults/...   \n",
       "2    https://styles.redditmedia.com/t5_52wkdg/style...   \n",
       "3    https://www.redditstatic.com/avatars/defaults/...   \n",
       "4    https://www.redditstatic.com/avatars/defaults/...   \n",
       "..                                                 ...   \n",
       "302  https://styles.redditmedia.com/t5_28rzsh/style...   \n",
       "303  https://styles.redditmedia.com/t5_6msk8/styles...   \n",
       "304  https://www.redditstatic.com/avatars/defaults/...   \n",
       "305  https://styles.redditmedia.com/t5_5uhgku/style...   \n",
       "306  https://styles.redditmedia.com/t5_2yz4ax/style...   \n",
       "\n",
       "                                  wallet_ss58_address  block_number  \\\n",
       "0    5DUemZiN3jQKfaedGo1bEQKRnercMrgAHianX21hkrcChEuC          7397   \n",
       "1    5E741P4DGM94ozrLjrLpNJe9HGPgT5TCAQs1yPbYvbALRDMZ          7398   \n",
       "2    5EFK76PX3ho6qGVYax1z3mEyHYxYKJxpAE4M1mV12NgSPAXn          7399   \n",
       "3    5GKV2pAsjGJUKJ9wEW4tF4yxL2ogtUvox8Gyejdd4wHa5VAi          7400   \n",
       "4    5GBg27doAGAJasPjcbNvrbGrMDvkYBxM2CY2CFQACye7UGr7          7401   \n",
       "..                                                ...           ...   \n",
       "302  5CotCQUjesc6BnWt6x7YyersypyaCuswKoVPqXsjDXtc3wH3          7722   \n",
       "303  5CLxfPDYkXFUnGYzJFPkQiKdXVetR81UcxqnfygmwpwtFJuG          7723   \n",
       "304  5EFmBd3PDykbXC1YfQXxGbndgR9nJubokV3BENTB6TXva4Hx          7725   \n",
       "305  5GmuriRZFWdMhQhU1mN8t1nzMvcKcvWd5B9bKzTVFz1zLooi          7726   \n",
       "306  5Hh4hvr4f4escwXrQtJ43c75uyZni4KSnQCMfPYc75AaYVs3          7727   \n",
       "\n",
       "     msa_id_from_query                                            signer  \\\n",
       "0                  438  5FHneW46xGXgs5mUiveU4sbTyGBzmstUspZC92UhjJM694ty   \n",
       "1                  439  5FHneW46xGXgs5mUiveU4sbTyGBzmstUspZC92UhjJM694ty   \n",
       "2                  440  5FHneW46xGXgs5mUiveU4sbTyGBzmstUspZC92UhjJM694ty   \n",
       "3                  441  5FHneW46xGXgs5mUiveU4sbTyGBzmstUspZC92UhjJM694ty   \n",
       "4                  442  5FHneW46xGXgs5mUiveU4sbTyGBzmstUspZC92UhjJM694ty   \n",
       "..                 ...                                               ...   \n",
       "302                740  5FHneW46xGXgs5mUiveU4sbTyGBzmstUspZC92UhjJM694ty   \n",
       "303                741  5FHneW46xGXgs5mUiveU4sbTyGBzmstUspZC92UhjJM694ty   \n",
       "304                742  5FHneW46xGXgs5mUiveU4sbTyGBzmstUspZC92UhjJM694ty   \n",
       "305                743  5FHneW46xGXgs5mUiveU4sbTyGBzmstUspZC92UhjJM694ty   \n",
       "306                744  5FHneW46xGXgs5mUiveU4sbTyGBzmstUspZC92UhjJM694ty   \n",
       "\n",
       "             date_minted  \n",
       "0    06-21-2022 19:36:24  \n",
       "1    06-21-2022 19:36:54  \n",
       "2    06-21-2022 19:37:12  \n",
       "3    06-21-2022 19:37:36  \n",
       "4    06-21-2022 19:38:00  \n",
       "..                   ...  \n",
       "302  06-21-2022 21:46:24  \n",
       "303  06-21-2022 21:46:54  \n",
       "304  06-21-2022 21:47:36  \n",
       "305  06-21-2022 21:48:00  \n",
       "306  06-21-2022 21:48:24  \n",
       "\n",
       "[307 rows x 9 columns]"
      ]
     },
     "execution_count": 152,
     "metadata": {},
     "output_type": "execute_result"
    }
   ],
   "source": [
    "query = '''\n",
    "SELECT * FROM user\n",
    "'''\n",
    "df = pd.read_sql_query(query, con)\n",
    "df"
   ]
  },
  {
   "cell_type": "code",
   "execution_count": 156,
   "id": "0dec8a66",
   "metadata": {},
   "outputs": [],
   "source": [
    "import uvicorn\n",
    "uvicorn.server.Config?"
   ]
  },
  {
   "cell_type": "code",
   "execution_count": 153,
   "id": "a7680302",
   "metadata": {
    "scrolled": true
   },
   "outputs": [
    {
     "data": {
      "text/html": [
       "<div>\n",
       "<style scoped>\n",
       "    .dataframe tbody tr th:only-of-type {\n",
       "        vertical-align: middle;\n",
       "    }\n",
       "\n",
       "    .dataframe tbody tr th {\n",
       "        vertical-align: top;\n",
       "    }\n",
       "\n",
       "    .dataframe thead th {\n",
       "        text-align: right;\n",
       "    }\n",
       "</style>\n",
       "<table border=\"1\" class=\"dataframe\">\n",
       "  <thead>\n",
       "    <tr style=\"text-align: right;\">\n",
       "      <th></th>\n",
       "      <th>post_hash</th>\n",
       "      <th>parent_hash</th>\n",
       "      <th>parent_type</th>\n",
       "      <th>username</th>\n",
       "      <th>profile_pic</th>\n",
       "      <th>body</th>\n",
       "      <th>block_number</th>\n",
       "      <th>msa_id_from_query</th>\n",
       "      <th>signer</th>\n",
       "      <th>date_minted</th>\n",
       "      <th>ipfs_hash</th>\n",
       "    </tr>\n",
       "  </thead>\n",
       "  <tbody>\n",
       "    <tr>\n",
       "      <th>0</th>\n",
       "      <td>QmX2Ny3mMA4pLZiW2XnrNTFda7iHgQtgq46TbaPmpXF25G</td>\n",
       "      <td>QmX2Ny3mMA4pLZiW2XnrNTFda7iHgQtgq46TbaPmpXF25G</td>\n",
       "      <td>post</td>\n",
       "      <td>MedicatedAxeBot</td>\n",
       "      <td>https://www.redditstatic.com/avatars/defaults/...</td>\n",
       "      <td>Dank[.](https://i.imgur.com/3bQtuMO.png)\\n\\n--...</td>\n",
       "      <td>7118</td>\n",
       "      <td>189</td>\n",
       "      <td>5FHneW46xGXgs5mUiveU4sbTyGBzmstUspZC92UhjJM694ty</td>\n",
       "      <td>06-21-2022 17:44:54</td>\n",
       "      <td>QmSUp3SQeLvojwNfxYFj6DUDZCo44iKDfwJT3xyHGEzkFh</td>\n",
       "    </tr>\n",
       "    <tr>\n",
       "      <th>1</th>\n",
       "      <td>QmX2Ny3mMA4pLZiW2XnrNTFda7iHgQtgq46TbaPmpXF25G</td>\n",
       "      <td>QmX2Ny3mMA4pLZiW2XnrNTFda7iHgQtgq46TbaPmpXF25G</td>\n",
       "      <td>post</td>\n",
       "      <td>Vendis123</td>\n",
       "      <td>https://styles.redditmedia.com/t5_qr7mm/styles...</td>\n",
       "      <td>Well, he doesn❜t write his own speeches</td>\n",
       "      <td>7119</td>\n",
       "      <td>190</td>\n",
       "      <td>5FHneW46xGXgs5mUiveU4sbTyGBzmstUspZC92UhjJM694ty</td>\n",
       "      <td>06-21-2022 17:45:12</td>\n",
       "      <td>QmdGPH6RK7Pj31NEtkrECKzMvQBksYyEiv9XQGc7K2dFHX</td>\n",
       "    </tr>\n",
       "    <tr>\n",
       "      <th>2</th>\n",
       "      <td>QmX2Ny3mMA4pLZiW2XnrNTFda7iHgQtgq46TbaPmpXF25G</td>\n",
       "      <td>QmX2Ny3mMA4pLZiW2XnrNTFda7iHgQtgq46TbaPmpXF25G</td>\n",
       "      <td>post</td>\n",
       "      <td>Dubr1s</td>\n",
       "      <td>https://styles.redditmedia.com/t5_1nasz1/style...</td>\n",
       "      <td>And it❜s most upvoted comment with a lot of aw...</td>\n",
       "      <td>7120</td>\n",
       "      <td>191</td>\n",
       "      <td>5FHneW46xGXgs5mUiveU4sbTyGBzmstUspZC92UhjJM694ty</td>\n",
       "      <td>06-21-2022 17:45:36</td>\n",
       "      <td>QmfDvg9i9RqbPCPemgnDdPR6HsG2YFeY4dZinR9QVQ3iky</td>\n",
       "    </tr>\n",
       "    <tr>\n",
       "      <th>3</th>\n",
       "      <td>QmX2Ny3mMA4pLZiW2XnrNTFda7iHgQtgq46TbaPmpXF25G</td>\n",
       "      <td>QmX2Ny3mMA4pLZiW2XnrNTFda7iHgQtgq46TbaPmpXF25G</td>\n",
       "      <td>post</td>\n",
       "      <td>iron_fan_man</td>\n",
       "      <td>https://styles.redditmedia.com/t5_38wc0r/style...</td>\n",
       "      <td>YES he’s like bob the banana</td>\n",
       "      <td>7121</td>\n",
       "      <td>192</td>\n",
       "      <td>5FHneW46xGXgs5mUiveU4sbTyGBzmstUspZC92UhjJM694ty</td>\n",
       "      <td>06-21-2022 17:46:00</td>\n",
       "      <td>QmeJxRNR92e7DVpEpZKfstRnkDCkjywGsfrPvuZPcBKe9D</td>\n",
       "    </tr>\n",
       "    <tr>\n",
       "      <th>4</th>\n",
       "      <td>QmX2Ny3mMA4pLZiW2XnrNTFda7iHgQtgq46TbaPmpXF25G</td>\n",
       "      <td>QmX2Ny3mMA4pLZiW2XnrNTFda7iHgQtgq46TbaPmpXF25G</td>\n",
       "      <td>post</td>\n",
       "      <td>Probablyaretweetbot</td>\n",
       "      <td>https://styles.redditmedia.com/t5_4rw7la/style...</td>\n",
       "      <td>u/deleted yo</td>\n",
       "      <td>7122</td>\n",
       "      <td>193</td>\n",
       "      <td>5FHneW46xGXgs5mUiveU4sbTyGBzmstUspZC92UhjJM694ty</td>\n",
       "      <td>06-21-2022 17:46:24</td>\n",
       "      <td>QmZTmoZSaCypPbXkfDYdHfSA2UAnVPBhzx2VAYD5e3cAFB</td>\n",
       "    </tr>\n",
       "    <tr>\n",
       "      <th>...</th>\n",
       "      <td>...</td>\n",
       "      <td>...</td>\n",
       "      <td>...</td>\n",
       "      <td>...</td>\n",
       "      <td>...</td>\n",
       "      <td>...</td>\n",
       "      <td>...</td>\n",
       "      <td>...</td>\n",
       "      <td>...</td>\n",
       "      <td>...</td>\n",
       "      <td>...</td>\n",
       "    </tr>\n",
       "    <tr>\n",
       "      <th>527</th>\n",
       "      <td>QmfGyt1GNdPBy5b1WbXGi6PBtsSmtDwtGiNjXg6BEXXXGh</td>\n",
       "      <td>QmfGyt1GNdPBy5b1WbXGi6PBtsSmtDwtGiNjXg6BEXXXGh</td>\n",
       "      <td>post</td>\n",
       "      <td>brigrrrl</td>\n",
       "      <td>https://styles.redditmedia.com/t5_28rzsh/style...</td>\n",
       "      <td>I love this. Reminds me of my childhood a bit....</td>\n",
       "      <td>7722</td>\n",
       "      <td>740</td>\n",
       "      <td>5FHneW46xGXgs5mUiveU4sbTyGBzmstUspZC92UhjJM694ty</td>\n",
       "      <td>06-21-2022 21:46:24</td>\n",
       "      <td>QmNWqPDQ58GuazdSLyuaCV7E3w7hDgvrcBUXunKUytt154</td>\n",
       "    </tr>\n",
       "    <tr>\n",
       "      <th>528</th>\n",
       "      <td>QmfGyt1GNdPBy5b1WbXGi6PBtsSmtDwtGiNjXg6BEXXXGh</td>\n",
       "      <td>QmfGyt1GNdPBy5b1WbXGi6PBtsSmtDwtGiNjXg6BEXXXGh</td>\n",
       "      <td>post</td>\n",
       "      <td>eduardtee</td>\n",
       "      <td>https://styles.redditmedia.com/t5_6msk8/styles...</td>\n",
       "      <td>So sweet. Your parents deserve a hug for this ...</td>\n",
       "      <td>7723</td>\n",
       "      <td>741</td>\n",
       "      <td>5FHneW46xGXgs5mUiveU4sbTyGBzmstUspZC92UhjJM694ty</td>\n",
       "      <td>06-21-2022 21:46:54</td>\n",
       "      <td>QmdV5r1NDRwGe5ZieEEtSVhJtDETXwQ22ZD3pAxEafvVYz</td>\n",
       "    </tr>\n",
       "    <tr>\n",
       "      <th>529</th>\n",
       "      <td>QmfGyt1GNdPBy5b1WbXGi6PBtsSmtDwtGiNjXg6BEXXXGh</td>\n",
       "      <td>QmfGyt1GNdPBy5b1WbXGi6PBtsSmtDwtGiNjXg6BEXXXGh</td>\n",
       "      <td>post</td>\n",
       "      <td>unclejarjarbinks</td>\n",
       "      <td>https://styles.redditmedia.com/t5_180224/style...</td>\n",
       "      <td>Best part was you didn❜t have to deal with the...</td>\n",
       "      <td>7724</td>\n",
       "      <td>1</td>\n",
       "      <td>5FHneW46xGXgs5mUiveU4sbTyGBzmstUspZC92UhjJM694ty</td>\n",
       "      <td>06-21-2022 21:47:12</td>\n",
       "      <td>QmW8Zg4cqFGH9XjLYTL3er6W4VCBw2RRxmCaRP8SFsU49n</td>\n",
       "    </tr>\n",
       "    <tr>\n",
       "      <th>530</th>\n",
       "      <td>QmfGyt1GNdPBy5b1WbXGi6PBtsSmtDwtGiNjXg6BEXXXGh</td>\n",
       "      <td>QmfGyt1GNdPBy5b1WbXGi6PBtsSmtDwtGiNjXg6BEXXXGh</td>\n",
       "      <td>post</td>\n",
       "      <td>Victory1871</td>\n",
       "      <td>https://www.redditstatic.com/avatars/defaults/...</td>\n",
       "      <td>Wow that’s wholesome. This just made my day.</td>\n",
       "      <td>7725</td>\n",
       "      <td>742</td>\n",
       "      <td>5FHneW46xGXgs5mUiveU4sbTyGBzmstUspZC92UhjJM694ty</td>\n",
       "      <td>06-21-2022 21:47:36</td>\n",
       "      <td>QmX9XL7kS92WfgV9AjYDX11BaWakLpqr8FGqpazRQyL6s8</td>\n",
       "    </tr>\n",
       "    <tr>\n",
       "      <th>531</th>\n",
       "      <td>QmfGyt1GNdPBy5b1WbXGi6PBtsSmtDwtGiNjXg6BEXXXGh</td>\n",
       "      <td>QmfGyt1GNdPBy5b1WbXGi6PBtsSmtDwtGiNjXg6BEXXXGh</td>\n",
       "      <td>post</td>\n",
       "      <td>Stringbean1109</td>\n",
       "      <td>https://styles.redditmedia.com/t5_5uhgku/style...</td>\n",
       "      <td>Come on....you got me giving a water works sho...</td>\n",
       "      <td>7726</td>\n",
       "      <td>743</td>\n",
       "      <td>5FHneW46xGXgs5mUiveU4sbTyGBzmstUspZC92UhjJM694ty</td>\n",
       "      <td>06-21-2022 21:48:00</td>\n",
       "      <td>QmP7xFWWBNXQ6SG2iuChXP5gEEEWEqozo8oC1yuLowSper</td>\n",
       "    </tr>\n",
       "  </tbody>\n",
       "</table>\n",
       "<p>532 rows × 11 columns</p>\n",
       "</div>"
      ],
      "text/plain": [
       "                                          post_hash  \\\n",
       "0    QmX2Ny3mMA4pLZiW2XnrNTFda7iHgQtgq46TbaPmpXF25G   \n",
       "1    QmX2Ny3mMA4pLZiW2XnrNTFda7iHgQtgq46TbaPmpXF25G   \n",
       "2    QmX2Ny3mMA4pLZiW2XnrNTFda7iHgQtgq46TbaPmpXF25G   \n",
       "3    QmX2Ny3mMA4pLZiW2XnrNTFda7iHgQtgq46TbaPmpXF25G   \n",
       "4    QmX2Ny3mMA4pLZiW2XnrNTFda7iHgQtgq46TbaPmpXF25G   \n",
       "..                                              ...   \n",
       "527  QmfGyt1GNdPBy5b1WbXGi6PBtsSmtDwtGiNjXg6BEXXXGh   \n",
       "528  QmfGyt1GNdPBy5b1WbXGi6PBtsSmtDwtGiNjXg6BEXXXGh   \n",
       "529  QmfGyt1GNdPBy5b1WbXGi6PBtsSmtDwtGiNjXg6BEXXXGh   \n",
       "530  QmfGyt1GNdPBy5b1WbXGi6PBtsSmtDwtGiNjXg6BEXXXGh   \n",
       "531  QmfGyt1GNdPBy5b1WbXGi6PBtsSmtDwtGiNjXg6BEXXXGh   \n",
       "\n",
       "                                        parent_hash parent_type  \\\n",
       "0    QmX2Ny3mMA4pLZiW2XnrNTFda7iHgQtgq46TbaPmpXF25G        post   \n",
       "1    QmX2Ny3mMA4pLZiW2XnrNTFda7iHgQtgq46TbaPmpXF25G        post   \n",
       "2    QmX2Ny3mMA4pLZiW2XnrNTFda7iHgQtgq46TbaPmpXF25G        post   \n",
       "3    QmX2Ny3mMA4pLZiW2XnrNTFda7iHgQtgq46TbaPmpXF25G        post   \n",
       "4    QmX2Ny3mMA4pLZiW2XnrNTFda7iHgQtgq46TbaPmpXF25G        post   \n",
       "..                                              ...         ...   \n",
       "527  QmfGyt1GNdPBy5b1WbXGi6PBtsSmtDwtGiNjXg6BEXXXGh        post   \n",
       "528  QmfGyt1GNdPBy5b1WbXGi6PBtsSmtDwtGiNjXg6BEXXXGh        post   \n",
       "529  QmfGyt1GNdPBy5b1WbXGi6PBtsSmtDwtGiNjXg6BEXXXGh        post   \n",
       "530  QmfGyt1GNdPBy5b1WbXGi6PBtsSmtDwtGiNjXg6BEXXXGh        post   \n",
       "531  QmfGyt1GNdPBy5b1WbXGi6PBtsSmtDwtGiNjXg6BEXXXGh        post   \n",
       "\n",
       "                username                                        profile_pic  \\\n",
       "0        MedicatedAxeBot  https://www.redditstatic.com/avatars/defaults/...   \n",
       "1              Vendis123  https://styles.redditmedia.com/t5_qr7mm/styles...   \n",
       "2                 Dubr1s  https://styles.redditmedia.com/t5_1nasz1/style...   \n",
       "3           iron_fan_man  https://styles.redditmedia.com/t5_38wc0r/style...   \n",
       "4    Probablyaretweetbot  https://styles.redditmedia.com/t5_4rw7la/style...   \n",
       "..                   ...                                                ...   \n",
       "527             brigrrrl  https://styles.redditmedia.com/t5_28rzsh/style...   \n",
       "528            eduardtee  https://styles.redditmedia.com/t5_6msk8/styles...   \n",
       "529     unclejarjarbinks  https://styles.redditmedia.com/t5_180224/style...   \n",
       "530          Victory1871  https://www.redditstatic.com/avatars/defaults/...   \n",
       "531       Stringbean1109  https://styles.redditmedia.com/t5_5uhgku/style...   \n",
       "\n",
       "                                                  body  block_number  \\\n",
       "0    Dank[.](https://i.imgur.com/3bQtuMO.png)\\n\\n--...          7118   \n",
       "1              Well, he doesn❜t write his own speeches          7119   \n",
       "2    And it❜s most upvoted comment with a lot of aw...          7120   \n",
       "3                         YES he’s like bob the banana          7121   \n",
       "4                                         u/deleted yo          7122   \n",
       "..                                                 ...           ...   \n",
       "527  I love this. Reminds me of my childhood a bit....          7722   \n",
       "528  So sweet. Your parents deserve a hug for this ...          7723   \n",
       "529  Best part was you didn❜t have to deal with the...          7724   \n",
       "530       Wow that’s wholesome. This just made my day.          7725   \n",
       "531  Come on....you got me giving a water works sho...          7726   \n",
       "\n",
       "     msa_id_from_query                                            signer  \\\n",
       "0                  189  5FHneW46xGXgs5mUiveU4sbTyGBzmstUspZC92UhjJM694ty   \n",
       "1                  190  5FHneW46xGXgs5mUiveU4sbTyGBzmstUspZC92UhjJM694ty   \n",
       "2                  191  5FHneW46xGXgs5mUiveU4sbTyGBzmstUspZC92UhjJM694ty   \n",
       "3                  192  5FHneW46xGXgs5mUiveU4sbTyGBzmstUspZC92UhjJM694ty   \n",
       "4                  193  5FHneW46xGXgs5mUiveU4sbTyGBzmstUspZC92UhjJM694ty   \n",
       "..                 ...                                               ...   \n",
       "527                740  5FHneW46xGXgs5mUiveU4sbTyGBzmstUspZC92UhjJM694ty   \n",
       "528                741  5FHneW46xGXgs5mUiveU4sbTyGBzmstUspZC92UhjJM694ty   \n",
       "529                  1  5FHneW46xGXgs5mUiveU4sbTyGBzmstUspZC92UhjJM694ty   \n",
       "530                742  5FHneW46xGXgs5mUiveU4sbTyGBzmstUspZC92UhjJM694ty   \n",
       "531                743  5FHneW46xGXgs5mUiveU4sbTyGBzmstUspZC92UhjJM694ty   \n",
       "\n",
       "             date_minted                                       ipfs_hash  \n",
       "0    06-21-2022 17:44:54  QmSUp3SQeLvojwNfxYFj6DUDZCo44iKDfwJT3xyHGEzkFh  \n",
       "1    06-21-2022 17:45:12  QmdGPH6RK7Pj31NEtkrECKzMvQBksYyEiv9XQGc7K2dFHX  \n",
       "2    06-21-2022 17:45:36  QmfDvg9i9RqbPCPemgnDdPR6HsG2YFeY4dZinR9QVQ3iky  \n",
       "3    06-21-2022 17:46:00  QmeJxRNR92e7DVpEpZKfstRnkDCkjywGsfrPvuZPcBKe9D  \n",
       "4    06-21-2022 17:46:24  QmZTmoZSaCypPbXkfDYdHfSA2UAnVPBhzx2VAYD5e3cAFB  \n",
       "..                   ...                                             ...  \n",
       "527  06-21-2022 21:46:24  QmNWqPDQ58GuazdSLyuaCV7E3w7hDgvrcBUXunKUytt154  \n",
       "528  06-21-2022 21:46:54  QmdV5r1NDRwGe5ZieEEtSVhJtDETXwQ22ZD3pAxEafvVYz  \n",
       "529  06-21-2022 21:47:12  QmW8Zg4cqFGH9XjLYTL3er6W4VCBw2RRxmCaRP8SFsU49n  \n",
       "530  06-21-2022 21:47:36  QmX9XL7kS92WfgV9AjYDX11BaWakLpqr8FGqpazRQyL6s8  \n",
       "531  06-21-2022 21:48:00  QmP7xFWWBNXQ6SG2iuChXP5gEEEWEqozo8oC1yuLowSper  \n",
       "\n",
       "[532 rows x 11 columns]"
      ]
     },
     "execution_count": 153,
     "metadata": {},
     "output_type": "execute_result"
    }
   ],
   "source": [
    "query = '''\n",
    "SELECT * FROM comment\n",
    "'''\n",
    "df = pd.read_sql_query(query, con)\n",
    "df"
   ]
  },
  {
   "cell_type": "code",
   "execution_count": 87,
   "id": "5727367a",
   "metadata": {},
   "outputs": [
    {
     "data": {
      "text/plain": [
       "\"'06-21-2022 17:55:21'\""
      ]
     },
     "execution_count": 87,
     "metadata": {},
     "output_type": "execute_result"
    }
   ],
   "source": [
    "date_time = datetime.datetime.now() - datetime.timedelta(minutes=22)\n",
    "date_str = \"'\" + date_time.strftime(date_format) + \"'\"\n",
    "date_str"
   ]
  },
  {
   "cell_type": "code",
   "execution_count": 88,
   "id": "dda3eb42",
   "metadata": {},
   "outputs": [
    {
     "name": "stdout",
     "output_type": "stream",
     "text": [
      "'06-21-2022 17:55:21'\n"
     ]
    }
   ],
   "source": [
    "print(date_str)"
   ]
  },
  {
   "cell_type": "code",
   "execution_count": 98,
   "id": "47485fec",
   "metadata": {
    "scrolled": true
   },
   "outputs": [
    {
     "data": {
      "text/html": [
       "<div>\n",
       "<style scoped>\n",
       "    .dataframe tbody tr th:only-of-type {\n",
       "        vertical-align: middle;\n",
       "    }\n",
       "\n",
       "    .dataframe tbody tr th {\n",
       "        vertical-align: top;\n",
       "    }\n",
       "\n",
       "    .dataframe thead th {\n",
       "        text-align: right;\n",
       "    }\n",
       "</style>\n",
       "<table border=\"1\" class=\"dataframe\">\n",
       "  <thead>\n",
       "    <tr style=\"text-align: right;\">\n",
       "      <th></th>\n",
       "      <th>category</th>\n",
       "      <th>username</th>\n",
       "      <th>profile_pic</th>\n",
       "      <th>title</th>\n",
       "      <th>body</th>\n",
       "      <th>url</th>\n",
       "      <th>is_nsfw</th>\n",
       "      <th>block_number</th>\n",
       "      <th>msa_id_from_query</th>\n",
       "      <th>signer</th>\n",
       "      <th>date_minted</th>\n",
       "      <th>ipfs_hash</th>\n",
       "      <th>parent_hash</th>\n",
       "      <th>total_votes</th>\n",
       "    </tr>\n",
       "  </thead>\n",
       "  <tbody>\n",
       "    <tr>\n",
       "      <th>0</th>\n",
       "      <td>interestingasfuck</td>\n",
       "      <td>Real_Prophet01</td>\n",
       "      <td>https://styles.redditmedia.com/t5_6dmhau/style...</td>\n",
       "      <td>Zero to hero before &amp; after animation</td>\n",
       "      <td></td>\n",
       "      <td>https://v.redd.it/jlmw0wvqsw691</td>\n",
       "      <td>0</td>\n",
       "      <td>7183</td>\n",
       "      <td>1</td>\n",
       "      <td>5FHneW46xGXgs5mUiveU4sbTyGBzmstUspZC92UhjJM694ty</td>\n",
       "      <td>06-21-2022 18:10:54</td>\n",
       "      <td>QmWJWbHKkKBfPSbuTWXbNQFojSRUuSRojwnPpKJzaCYrqM</td>\n",
       "      <td>QmWJWbHKkKBfPSbuTWXbNQFojSRUuSRojwnPpKJzaCYrqM</td>\n",
       "      <td>61074</td>\n",
       "    </tr>\n",
       "    <tr>\n",
       "      <th>1</th>\n",
       "      <td>interestingasfuck</td>\n",
       "      <td>a7kilr</td>\n",
       "      <td>https://styles.redditmedia.com/t5_2d6p3a/style...</td>\n",
       "      <td>Cloudflare has a wall full of lava lamps they ...</td>\n",
       "      <td></td>\n",
       "      <td>https://i.redd.it/is89fqceu0791.jpg</td>\n",
       "      <td>0</td>\n",
       "      <td>7194</td>\n",
       "      <td>262</td>\n",
       "      <td>5FHneW46xGXgs5mUiveU4sbTyGBzmstUspZC92UhjJM694ty</td>\n",
       "      <td>06-21-2022 18:15:12</td>\n",
       "      <td>QmfGoFEXq1Meqpz3uE17qwCsGdHQKyeoW4RS3rHsEJTqMh</td>\n",
       "      <td>QmfGoFEXq1Meqpz3uE17qwCsGdHQKyeoW4RS3rHsEJTqMh</td>\n",
       "      <td>60767</td>\n",
       "    </tr>\n",
       "  </tbody>\n",
       "</table>\n",
       "</div>"
      ],
      "text/plain": [
       "            category        username  \\\n",
       "0  interestingasfuck  Real_Prophet01   \n",
       "1  interestingasfuck          a7kilr   \n",
       "\n",
       "                                         profile_pic  \\\n",
       "0  https://styles.redditmedia.com/t5_6dmhau/style...   \n",
       "1  https://styles.redditmedia.com/t5_2d6p3a/style...   \n",
       "\n",
       "                                               title body  \\\n",
       "0              Zero to hero before & after animation        \n",
       "1  Cloudflare has a wall full of lava lamps they ...        \n",
       "\n",
       "                                   url  is_nsfw  block_number  \\\n",
       "0      https://v.redd.it/jlmw0wvqsw691        0          7183   \n",
       "1  https://i.redd.it/is89fqceu0791.jpg        0          7194   \n",
       "\n",
       "   msa_id_from_query                                            signer  \\\n",
       "0                  1  5FHneW46xGXgs5mUiveU4sbTyGBzmstUspZC92UhjJM694ty   \n",
       "1                262  5FHneW46xGXgs5mUiveU4sbTyGBzmstUspZC92UhjJM694ty   \n",
       "\n",
       "           date_minted                                       ipfs_hash  \\\n",
       "0  06-21-2022 18:10:54  QmWJWbHKkKBfPSbuTWXbNQFojSRUuSRojwnPpKJzaCYrqM   \n",
       "1  06-21-2022 18:15:12  QmfGoFEXq1Meqpz3uE17qwCsGdHQKyeoW4RS3rHsEJTqMh   \n",
       "\n",
       "                                      parent_hash  total_votes  \n",
       "0  QmWJWbHKkKBfPSbuTWXbNQFojSRUuSRojwnPpKJzaCYrqM        61074  \n",
       "1  QmfGoFEXq1Meqpz3uE17qwCsGdHQKyeoW4RS3rHsEJTqMh        60767  "
      ]
     },
     "execution_count": 98,
     "metadata": {},
     "output_type": "execute_result"
    }
   ],
   "source": [
    "lower_bound = 1\n",
    "upper_bound = 11\n",
    "time_filter = {'minutes_15': 15, 'hour': 60, 'day': 60*24, 'week':60*24*7, 'month':60*24*30}\n",
    "date_time = datetime.datetime.now() - datetime.timedelta(minutes=time_filter['minutes_15'])\n",
    "date_str = \"'\" + date_time.strftime(date_format) + \"'\"\n",
    "\n",
    "query = f'''\n",
    "SELECT * FROM post \n",
    "JOIN (\n",
    "    SELECT parent_hash, SUM(num_votes) AS total_votes \n",
    "    FROM vote GROUP BY parent_hash\n",
    ") votes ON votes.parent_hash = post.ipfs_hash\n",
    "WHERE post.date_minted >= {date_str}\n",
    "ORDER BY total_votes DESC\n",
    "LIMIT {lower_bound}, {upper_bound}\n",
    "'''\n",
    "df = pd.read_sql_query(query, con)\n",
    "df"
   ]
  },
  {
   "cell_type": "code",
   "execution_count": 99,
   "id": "5db13b39",
   "metadata": {},
   "outputs": [
    {
     "data": {
      "text/plain": [
       "'{\"category\":{\"0\":\"interestingasfuck\",\"1\":\"interestingasfuck\"},\"username\":{\"0\":\"Real_Prophet01\",\"1\":\"a7kilr\"},\"profile_pic\":{\"0\":\"https:\\\\/\\\\/styles.redditmedia.com\\\\/t5_6dmhau\\\\/styles\\\\/profileIcon_snooc3085ebd-caa2-4922-ac5a-7e7ab0e39c43-headshot.png?width=256&height=256&crop=256:256,smart&s=0e768c793c8b5721e7f1a0fd0b5714f11ca001f9\",\"1\":\"https:\\\\/\\\\/styles.redditmedia.com\\\\/t5_2d6p3a\\\\/styles\\\\/profileIcon_pgoq4kgdlza81.jpg?width=256&height=256&crop=256:256,smart&s=de9ddb02fbfedc1850f6fb41585b40629412759c\"},\"title\":{\"0\":\"Zero to hero before & after animation\",\"1\":\"Cloudflare has a wall full of lava lamps they feed into a camera as a way to generate randomness to create cryptographic keys\"},\"body\":{\"0\":\"\",\"1\":\"\"},\"url\":{\"0\":\"https:\\\\/\\\\/v.redd.it\\\\/jlmw0wvqsw691\",\"1\":\"https:\\\\/\\\\/i.redd.it\\\\/is89fqceu0791.jpg\"},\"is_nsfw\":{\"0\":0,\"1\":0},\"block_number\":{\"0\":7183,\"1\":7194},\"msa_id_from_query\":{\"0\":1,\"1\":262},\"signer\":{\"0\":\"5FHneW46xGXgs5mUiveU4sbTyGBzmstUspZC92UhjJM694ty\",\"1\":\"5FHneW46xGXgs5mUiveU4sbTyGBzmstUspZC92UhjJM694ty\"},\"date_minted\":{\"0\":\"06-21-2022 18:10:54\",\"1\":\"06-21-2022 18:15:12\"},\"ipfs_hash\":{\"0\":\"QmWJWbHKkKBfPSbuTWXbNQFojSRUuSRojwnPpKJzaCYrqM\",\"1\":\"QmfGoFEXq1Meqpz3uE17qwCsGdHQKyeoW4RS3rHsEJTqMh\"},\"parent_hash\":{\"0\":\"QmWJWbHKkKBfPSbuTWXbNQFojSRUuSRojwnPpKJzaCYrqM\",\"1\":\"QmfGoFEXq1Meqpz3uE17qwCsGdHQKyeoW4RS3rHsEJTqMh\"},\"total_votes\":{\"0\":61074,\"1\":60767}}'"
      ]
     },
     "execution_count": 99,
     "metadata": {},
     "output_type": "execute_result"
    }
   ],
   "source": [
    "df.to_json()"
   ]
  },
  {
   "cell_type": "code",
   "execution_count": 129,
   "id": "a9f1d60b",
   "metadata": {
    "scrolled": true
   },
   "outputs": [],
   "source": [
    "        post_hash = \"QmaEKD9igfwiDNMVufvXTSQ3SDorSna1fXBzhpquYGdZwT\"\n",
    "        query = f'''\n",
    "        SELECT * FROM post \n",
    "        JOIN (\n",
    "            SELECT parent_hash, SUM(num_votes) AS total_votes \n",
    "            FROM vote GROUP BY parent_hash\n",
    "        ) votes ON votes.parent_hash = post.ipfs_hash\n",
    "        WHERE post.ipfs_hash = '{post_hash}'\n",
    "        ORDER BY post.date_minted DESC\n",
    "        '''\n",
    "        df = pd.read_sql_query(query, con)"
   ]
  },
  {
   "cell_type": "code",
   "execution_count": 142,
   "id": "7123d9df",
   "metadata": {},
   "outputs": [
    {
     "data": {
      "text/html": [
       "<div>\n",
       "<style scoped>\n",
       "    .dataframe tbody tr th:only-of-type {\n",
       "        vertical-align: middle;\n",
       "    }\n",
       "\n",
       "    .dataframe tbody tr th {\n",
       "        vertical-align: top;\n",
       "    }\n",
       "\n",
       "    .dataframe thead th {\n",
       "        text-align: right;\n",
       "    }\n",
       "</style>\n",
       "<table border=\"1\" class=\"dataframe\">\n",
       "  <thead>\n",
       "    <tr style=\"text-align: right;\">\n",
       "      <th></th>\n",
       "      <th>msa_id</th>\n",
       "      <th>username</th>\n",
       "      <th>password</th>\n",
       "      <th>profile_pic</th>\n",
       "      <th>wallet_ss58_address</th>\n",
       "      <th>block_number</th>\n",
       "      <th>msa_id_from_query</th>\n",
       "      <th>signer</th>\n",
       "      <th>date_minted</th>\n",
       "    </tr>\n",
       "  </thead>\n",
       "  <tbody>\n",
       "  </tbody>\n",
       "</table>\n",
       "</div>"
      ],
      "text/plain": [
       "Empty DataFrame\n",
       "Columns: [msa_id, username, password, profile_pic, wallet_ss58_address, block_number, msa_id_from_query, signer, date_minted]\n",
       "Index: []"
      ]
     },
     "execution_count": 142,
     "metadata": {},
     "output_type": "execute_result"
    }
   ],
   "source": [
    "        post_hash = \"QmaEKD9igfwiDNMVufvXTSQ3SDorSna1fXBzhpquYGdZwT\"\n",
    "        query = f'''\n",
    "        SELECT * FROM user\n",
    "        '''\n",
    "        df = pd.read_sql_query(query, con)\n",
    "        df"
   ]
  },
  {
   "cell_type": "code",
   "execution_count": 131,
   "id": "30769ee8",
   "metadata": {},
   "outputs": [
    {
     "name": "stdout",
     "output_type": "stream",
     "text": [
      "(0, 'category', 'STRING', 0, None, 0)\n",
      "(1, 'username', 'STRING', 0, None, 0)\n",
      "(2, 'profile_pic', 'STRING', 0, None, 0)\n",
      "(3, 'title', 'STRING', 0, None, 0)\n",
      "(4, 'body', 'STRING', 0, None, 0)\n",
      "(5, 'url', 'STRING', 0, None, 0)\n",
      "(6, 'is_nsfw', 'NUMERIC', 0, None, 0)\n",
      "(7, 'block_number', 'INTEGER', 0, None, 0)\n",
      "(8, 'msa_id_from_query', 'INTEGER', 0, None, 0)\n",
      "(9, 'signer', 'STRING', 0, None, 0)\n",
      "(10, 'date_minted', 'DATE', 0, None, 0)\n",
      "(11, 'ipfs_hash', 'STRING', 0, None, 0)\n"
     ]
    }
   ],
   "source": [
    "for row in cur.execute(\"PRAGMA table_info('post')\"):\n",
    "    print(row)"
   ]
  },
  {
   "cell_type": "code",
   "execution_count": null,
   "id": "50cd8907",
   "metadata": {},
   "outputs": [],
   "source": []
  },
  {
   "cell_type": "code",
   "execution_count": null,
   "id": "9ed01102",
   "metadata": {},
   "outputs": [],
   "source": [
    "for schema, contents in content_jsons.items():\n",
    "    schema_items = schema.split(',')\n",
    "    \n",
    "    for content in contents:\n",
    "        ipfs_hash = bytes.fromhex(content['data'][2:]).decode()\n",
    "            \n",
    "        data = json.loads(client.cat(ipfs_hash).decode())"
   ]
  },
  {
   "cell_type": "code",
   "execution_count": null,
   "id": "1f0da195",
   "metadata": {},
   "outputs": [],
   "source": []
  },
  {
   "cell_type": "code",
   "execution_count": 198,
   "id": "c64f2b14",
   "metadata": {
    "scrolled": true
   },
   "outputs": [
    {
     "name": "stdout",
     "output_type": "stream",
     "text": [
      "post\n"
     ]
    },
    {
     "ename": "SubstrateRequestException",
     "evalue": "{'code': 100, 'message': 'Dispatch Error Module:35 error:2', 'data': ''}",
     "output_type": "error",
     "traceback": [
      "\u001b[0;31m---------------------------------------------------------------------------\u001b[0m",
      "\u001b[0;31mSubstrateRequestException\u001b[0m                 Traceback (most recent call last)",
      "Input \u001b[0;32mIn [198]\u001b[0m, in \u001b[0;36m<cell line: 6>\u001b[0;34m()\u001b[0m\n\u001b[1;32m      2\u001b[0m     last_block_updated \u001b[38;5;241m=\u001b[39m update_db(start_block\u001b[38;5;241m=\u001b[39mobj[\u001b[38;5;124m'\u001b[39m\u001b[38;5;124mheader\u001b[39m\u001b[38;5;124m'\u001b[39m][\u001b[38;5;124m'\u001b[39m\u001b[38;5;124mnumber\u001b[39m\u001b[38;5;124m'\u001b[39m], backfill\u001b[38;5;241m=\u001b[39m\u001b[38;5;28;01mFalse\u001b[39;00m)\n\u001b[1;32m      3\u001b[0m     con\u001b[38;5;241m.\u001b[39mcommit()\n\u001b[0;32m----> 6\u001b[0m result \u001b[38;5;241m=\u001b[39m \u001b[43msubstrate\u001b[49m\u001b[38;5;241;43m.\u001b[39;49m\u001b[43msubscribe_block_headers\u001b[49m\u001b[43m(\u001b[49m\u001b[43msubscription_handler\u001b[49m\u001b[43m,\u001b[49m\u001b[43m \u001b[49m\u001b[43minclude_author\u001b[49m\u001b[38;5;241;43m=\u001b[39;49m\u001b[38;5;28;43;01mFalse\u001b[39;49;00m\u001b[43m)\u001b[49m\n",
      "File \u001b[0;32m~/miniconda3/lib/python3.8/site-packages/substrateinterface/base.py:2733\u001b[0m, in \u001b[0;36mSubstrateInterface.subscribe_block_headers\u001b[0;34m(self, subscription_handler, ignore_decoding_errors, include_author, finalized_only)\u001b[0m\n\u001b[1;32m   2730\u001b[0m \u001b[38;5;28;01melse\u001b[39;00m:\n\u001b[1;32m   2731\u001b[0m     block_hash \u001b[38;5;241m=\u001b[39m \u001b[38;5;28mself\u001b[39m\u001b[38;5;241m.\u001b[39mget_chain_head()\n\u001b[0;32m-> 2733\u001b[0m \u001b[38;5;28;01mreturn\u001b[39;00m \u001b[38;5;28;43mself\u001b[39;49m\u001b[38;5;241;43m.\u001b[39;49m\u001b[43m__get_block_handler\u001b[49m\u001b[43m(\u001b[49m\n\u001b[1;32m   2734\u001b[0m \u001b[43m    \u001b[49m\u001b[43mblock_hash\u001b[49m\u001b[43m,\u001b[49m\u001b[43m \u001b[49m\u001b[43msubscription_handler\u001b[49m\u001b[38;5;241;43m=\u001b[39;49m\u001b[43msubscription_handler\u001b[49m\u001b[43m,\u001b[49m\u001b[43m \u001b[49m\u001b[43mignore_decoding_errors\u001b[49m\u001b[38;5;241;43m=\u001b[39;49m\u001b[43mignore_decoding_errors\u001b[49m\u001b[43m,\u001b[49m\n\u001b[1;32m   2735\u001b[0m \u001b[43m    \u001b[49m\u001b[43minclude_author\u001b[49m\u001b[38;5;241;43m=\u001b[39;49m\u001b[43minclude_author\u001b[49m\u001b[43m,\u001b[49m\u001b[43m \u001b[49m\u001b[43mfinalized_only\u001b[49m\u001b[38;5;241;43m=\u001b[39;49m\u001b[43mfinalized_only\u001b[49m\n\u001b[1;32m   2736\u001b[0m \u001b[43m\u001b[49m\u001b[43m)\u001b[49m\n",
      "File \u001b[0;32m~/miniconda3/lib/python3.8/site-packages/substrateinterface/base.py:2586\u001b[0m, in \u001b[0;36mSubstrateInterface.__get_block_handler\u001b[0;34m(self, block_hash, ignore_decoding_errors, include_author, header_only, finalized_only, subscription_handler)\u001b[0m\n\u001b[1;32m   2582\u001b[0m             \u001b[38;5;28mself\u001b[39m\u001b[38;5;241m.\u001b[39mrpc_request(\u001b[38;5;124mf\u001b[39m\u001b[38;5;124m\"\u001b[39m\u001b[38;5;124mchain_unsubscribe\u001b[39m\u001b[38;5;132;01m{\u001b[39;00mrpc_method_prefix\u001b[38;5;132;01m}\u001b[39;00m\u001b[38;5;124mHeads\u001b[39m\u001b[38;5;124m\"\u001b[39m, [subscription_id])\n\u001b[1;32m   2584\u001b[0m         \u001b[38;5;28;01mreturn\u001b[39;00m subscription_result\n\u001b[0;32m-> 2586\u001b[0m     result \u001b[38;5;241m=\u001b[39m \u001b[38;5;28;43mself\u001b[39;49m\u001b[38;5;241;43m.\u001b[39;49m\u001b[43mrpc_request\u001b[49m\u001b[43m(\u001b[49m\u001b[38;5;124;43mf\u001b[39;49m\u001b[38;5;124;43m\"\u001b[39;49m\u001b[38;5;124;43mchain_subscribe\u001b[39;49m\u001b[38;5;132;43;01m{\u001b[39;49;00m\u001b[43mrpc_method_prefix\u001b[49m\u001b[38;5;132;43;01m}\u001b[39;49;00m\u001b[38;5;124;43mHeads\u001b[39;49m\u001b[38;5;124;43m\"\u001b[39;49m\u001b[43m,\u001b[49m\u001b[43m \u001b[49m\u001b[43m[\u001b[49m\u001b[43m]\u001b[49m\u001b[43m,\u001b[49m\u001b[43m \u001b[49m\u001b[43mresult_handler\u001b[49m\u001b[38;5;241;43m=\u001b[39;49m\u001b[43mresult_handler\u001b[49m\u001b[43m)\u001b[49m\n\u001b[1;32m   2588\u001b[0m     \u001b[38;5;28;01mreturn\u001b[39;00m result\n\u001b[1;32m   2590\u001b[0m \u001b[38;5;28;01melse\u001b[39;00m:\n",
      "File \u001b[0;32m~/miniconda3/lib/python3.8/site-packages/substrateinterface/base.py:689\u001b[0m, in \u001b[0;36mSubstrateInterface.rpc_request\u001b[0;34m(self, method, params, result_handler)\u001b[0m\n\u001b[1;32m    686\u001b[0m \u001b[38;5;28mself\u001b[39m\u001b[38;5;241m.\u001b[39mdebug_message(\u001b[38;5;124mf\u001b[39m\u001b[38;5;124m\"\u001b[39m\u001b[38;5;124mWebsocket result [\u001b[39m\u001b[38;5;132;01m{\u001b[39;00msubscription_id\u001b[38;5;132;01m}\u001b[39;00m\u001b[38;5;124m #\u001b[39m\u001b[38;5;132;01m{\u001b[39;00mupdate_nr\u001b[38;5;132;01m}\u001b[39;00m\u001b[38;5;124m]: \u001b[39m\u001b[38;5;132;01m{\u001b[39;00mmessage\u001b[38;5;132;01m}\u001b[39;00m\u001b[38;5;124m\"\u001b[39m)\n\u001b[1;32m    688\u001b[0m \u001b[38;5;66;03m# Call result_handler with message for processing\u001b[39;00m\n\u001b[0;32m--> 689\u001b[0m callback_result \u001b[38;5;241m=\u001b[39m \u001b[43mresult_handler\u001b[49m\u001b[43m(\u001b[49m\u001b[43mmessage\u001b[49m\u001b[43m,\u001b[49m\u001b[43m \u001b[49m\u001b[43mupdate_nr\u001b[49m\u001b[43m,\u001b[49m\u001b[43m \u001b[49m\u001b[43msubscription_id\u001b[49m\u001b[43m)\u001b[49m\n\u001b[1;32m    690\u001b[0m \u001b[38;5;28;01mif\u001b[39;00m callback_result \u001b[38;5;129;01mis\u001b[39;00m \u001b[38;5;129;01mnot\u001b[39;00m \u001b[38;5;28;01mNone\u001b[39;00m:\n\u001b[1;32m    691\u001b[0m     json_body \u001b[38;5;241m=\u001b[39m callback_result\n",
      "File \u001b[0;32m~/miniconda3/lib/python3.8/site-packages/substrateinterface/base.py:2578\u001b[0m, in \u001b[0;36mSubstrateInterface.__get_block_handler.<locals>.result_handler\u001b[0;34m(message, update_nr, subscription_id)\u001b[0m\n\u001b[1;32m   2574\u001b[0m \u001b[38;5;28;01mdef\u001b[39;00m \u001b[38;5;21mresult_handler\u001b[39m(message, update_nr, subscription_id):\n\u001b[1;32m   2576\u001b[0m     new_block \u001b[38;5;241m=\u001b[39m decode_block({\u001b[38;5;124m'\u001b[39m\u001b[38;5;124mheader\u001b[39m\u001b[38;5;124m'\u001b[39m: message[\u001b[38;5;124m'\u001b[39m\u001b[38;5;124mparams\u001b[39m\u001b[38;5;124m'\u001b[39m][\u001b[38;5;124m'\u001b[39m\u001b[38;5;124mresult\u001b[39m\u001b[38;5;124m'\u001b[39m]})\n\u001b[0;32m-> 2578\u001b[0m     subscription_result \u001b[38;5;241m=\u001b[39m \u001b[43msubscription_handler\u001b[49m\u001b[43m(\u001b[49m\u001b[43mnew_block\u001b[49m\u001b[43m,\u001b[49m\u001b[43m \u001b[49m\u001b[43mupdate_nr\u001b[49m\u001b[43m,\u001b[49m\u001b[43m \u001b[49m\u001b[43msubscription_id\u001b[49m\u001b[43m)\u001b[49m\n\u001b[1;32m   2580\u001b[0m     \u001b[38;5;28;01mif\u001b[39;00m subscription_result \u001b[38;5;129;01mis\u001b[39;00m \u001b[38;5;129;01mnot\u001b[39;00m \u001b[38;5;28;01mNone\u001b[39;00m:\n\u001b[1;32m   2581\u001b[0m         \u001b[38;5;66;03m# Handler returned end result: unsubscribe from further updates\u001b[39;00m\n\u001b[1;32m   2582\u001b[0m         \u001b[38;5;28mself\u001b[39m\u001b[38;5;241m.\u001b[39mrpc_request(\u001b[38;5;124mf\u001b[39m\u001b[38;5;124m\"\u001b[39m\u001b[38;5;124mchain_unsubscribe\u001b[39m\u001b[38;5;132;01m{\u001b[39;00mrpc_method_prefix\u001b[38;5;132;01m}\u001b[39;00m\u001b[38;5;124mHeads\u001b[39m\u001b[38;5;124m\"\u001b[39m, [subscription_id])\n",
      "Input \u001b[0;32mIn [198]\u001b[0m, in \u001b[0;36msubscription_handler\u001b[0;34m(obj, update_nr, subscription_id)\u001b[0m\n\u001b[1;32m      1\u001b[0m \u001b[38;5;28;01mdef\u001b[39;00m \u001b[38;5;21msubscription_handler\u001b[39m(obj, update_nr, subscription_id):\n\u001b[0;32m----> 2\u001b[0m     last_block_updated \u001b[38;5;241m=\u001b[39m \u001b[43mupdate_db\u001b[49m\u001b[43m(\u001b[49m\u001b[43mstart_block\u001b[49m\u001b[38;5;241;43m=\u001b[39;49m\u001b[43mobj\u001b[49m\u001b[43m[\u001b[49m\u001b[38;5;124;43m'\u001b[39;49m\u001b[38;5;124;43mheader\u001b[39;49m\u001b[38;5;124;43m'\u001b[39;49m\u001b[43m]\u001b[49m\u001b[43m[\u001b[49m\u001b[38;5;124;43m'\u001b[39;49m\u001b[38;5;124;43mnumber\u001b[39;49m\u001b[38;5;124;43m'\u001b[39;49m\u001b[43m]\u001b[49m\u001b[43m,\u001b[49m\u001b[43m \u001b[49m\u001b[43mbackfill\u001b[49m\u001b[38;5;241;43m=\u001b[39;49m\u001b[38;5;28;43;01mFalse\u001b[39;49;00m\u001b[43m)\u001b[49m\n\u001b[1;32m      3\u001b[0m     con\u001b[38;5;241m.\u001b[39mcommit()\n",
      "Input \u001b[0;32mIn [196]\u001b[0m, in \u001b[0;36mupdate_db\u001b[0;34m(start_block, backfill)\u001b[0m\n\u001b[1;32m     26\u001b[0m     cur\u001b[38;5;241m.\u001b[39mexecute(create_table)\n\u001b[1;32m     28\u001b[0m params \u001b[38;5;241m=\u001b[39m [\n\u001b[1;32m     29\u001b[0m     schemaId,\n\u001b[1;32m     30\u001b[0m     {\n\u001b[0;32m   (...)\u001b[0m\n\u001b[1;32m     35\u001b[0m     }\n\u001b[1;32m     36\u001b[0m ]\n\u001b[0;32m---> 38\u001b[0m request \u001b[38;5;241m=\u001b[39m \u001b[43msubstrate\u001b[49m\u001b[38;5;241;43m.\u001b[39;49m\u001b[43mrpc_request\u001b[49m\u001b[43m(\u001b[49m\n\u001b[1;32m     39\u001b[0m \u001b[43m    \u001b[49m\u001b[43mmethod\u001b[49m\u001b[38;5;241;43m=\u001b[39;49m\u001b[38;5;124;43m'\u001b[39;49m\u001b[38;5;124;43mmessages_getBySchema\u001b[39;49m\u001b[38;5;124;43m'\u001b[39;49m\u001b[43m,\u001b[49m\n\u001b[1;32m     40\u001b[0m \u001b[43m    \u001b[49m\u001b[43mparams\u001b[49m\u001b[38;5;241;43m=\u001b[39;49m\u001b[43mparams\u001b[49m\u001b[43m,\u001b[49m\n\u001b[1;32m     41\u001b[0m \u001b[43m\u001b[49m\u001b[43m)\u001b[49m\n\u001b[1;32m     43\u001b[0m \u001b[38;5;28;01mfor\u001b[39;00m content \u001b[38;5;129;01min\u001b[39;00m request[\u001b[38;5;124m'\u001b[39m\u001b[38;5;124mresult\u001b[39m\u001b[38;5;124m'\u001b[39m][\u001b[38;5;124m'\u001b[39m\u001b[38;5;124mcontent\u001b[39m\u001b[38;5;124m'\u001b[39m]:\n\u001b[1;32m     44\u001b[0m     date_str \u001b[38;5;241m=\u001b[39m \u001b[38;5;124m\"\u001b[39m\u001b[38;5;124mnull\u001b[39m\u001b[38;5;124m\"\u001b[39m\n",
      "File \u001b[0;32m~/miniconda3/lib/python3.8/site-packages/substrateinterface/base.py:667\u001b[0m, in \u001b[0;36mSubstrateInterface.rpc_request\u001b[0;34m(self, method, params, result_handler)\u001b[0m\n\u001b[1;32m    665\u001b[0m \u001b[38;5;66;03m# Check if response has error\u001b[39;00m\n\u001b[1;32m    666\u001b[0m \u001b[38;5;28;01mif\u001b[39;00m \u001b[38;5;124m'\u001b[39m\u001b[38;5;124merror\u001b[39m\u001b[38;5;124m'\u001b[39m \u001b[38;5;129;01min\u001b[39;00m message:\n\u001b[0;32m--> 667\u001b[0m     \u001b[38;5;28;01mraise\u001b[39;00m SubstrateRequestException(message[\u001b[38;5;124m'\u001b[39m\u001b[38;5;124merror\u001b[39m\u001b[38;5;124m'\u001b[39m])\n\u001b[1;32m    669\u001b[0m \u001b[38;5;66;03m# If result handler is set, pass result through and loop until handler return value is set\u001b[39;00m\n\u001b[1;32m    670\u001b[0m \u001b[38;5;28;01mif\u001b[39;00m callable(result_handler):\n\u001b[1;32m    671\u001b[0m \n\u001b[1;32m    672\u001b[0m     \u001b[38;5;66;03m# Set subscription ID and only listen to messages containing this ID\u001b[39;00m\n",
      "\u001b[0;31mSubstrateRequestException\u001b[0m: {'code': 100, 'message': 'Dispatch Error Module:35 error:2', 'data': ''}"
     ]
    }
   ],
   "source": [
    "def subscription_handler(obj, update_nr, subscription_id):\n",
    "    last_block_updated = update_db(start_block=obj['header']['number'], backfill=False)\n",
    "    con.commit()\n",
    "    print(last_block_updated)\n",
    "\n",
    "\n",
    "result = substrate.subscribe_block_headers(subscription_handler, include_author=False)"
   ]
  },
  {
   "cell_type": "code",
   "execution_count": 164,
   "id": "136ac930",
   "metadata": {},
   "outputs": [],
   "source": [
    "def subscription_handler(obj, update_nr, subscription_id):\n",
    "    return obj, update_nr, subscription_id\n",
    "result = substrate.subscribe_block_headers(subscription_handler, include_author=False)"
   ]
  },
  {
   "cell_type": "code",
   "execution_count": 211,
   "id": "fe71b99b",
   "metadata": {
    "scrolled": true
   },
   "outputs": [],
   "source": [
    "e = substrate.get_events(substrate.get_block_hash(result[0]['header']['number']))"
   ]
  },
  {
   "cell_type": "code",
   "execution_count": 218,
   "id": "830b806d",
   "metadata": {},
   "outputs": [
    {
     "data": {
      "text/plain": [
       "'0x36fa31a08a929dd9f08cd57a678cbb877f9d55280db90a727a6d56a14971796f'"
      ]
     },
     "execution_count": 218,
     "metadata": {},
     "output_type": "execute_result"
    }
   ],
   "source": [
    "substrate."
   ]
  },
  {
   "cell_type": "code",
   "execution_count": 214,
   "id": "8103b432",
   "metadata": {},
   "outputs": [
    {
     "data": {
      "text/plain": [
       "{'phase': 'Initialization',\n",
       " 'extrinsic_idx': None,\n",
       " 'event': {'event_index': '2300',\n",
       "  'module_id': 'Messages',\n",
       "  'event_id': 'MessagesStored',\n",
       "  'attributes': (159, 8033, 2)},\n",
       " 'event_index': 35,\n",
       " 'module_id': 'Messages',\n",
       " 'event_id': 'MessagesStored',\n",
       " 'attributes': (159, 8033, 2),\n",
       " 'topics': []}"
      ]
     },
     "execution_count": 214,
     "metadata": {},
     "output_type": "execute_result"
    }
   ],
   "source": [
    "e[1].value"
   ]
  },
  {
   "cell_type": "code",
   "execution_count": 199,
   "id": "0234e55f",
   "metadata": {},
   "outputs": [
    {
     "data": {
      "text/plain": [
       "{'header': {'digest': {'logs': [<scale_info::13(value={'PreRuntime': ('0x61757261', '0xaa8f390800000000')})>,\n",
       "    <scale_info::13(value={'Seal': ('0x61757261', '0x306ac3ca56ae8e2d4db203c1ae908045547dc039946de605a83d62495ad39f7d6e1eb228029d05b6bccc85d2889fa93b7d2185bb7ffa2dda1f23fe64000a1583')})>]},\n",
       "  'extrinsicsRoot': '0xe8fec3d67c271817e646e4aab48625c363d84a28317a5a1c5fb432f6e70d541b',\n",
       "  'number': 8034,\n",
       "  'parentHash': '0x6f5ac10fd71100e7aadbc3900569a04b9027554370837e130dad29e1bd825751',\n",
       "  'stateRoot': '0xa8ea03e6d61a4584345f2c12236b4a001f2e7cdc59fb70761fb6f5eb2c659de6'}}"
      ]
     },
     "execution_count": 199,
     "metadata": {},
     "output_type": "execute_result"
    }
   ],
   "source": [
    "result[0]"
   ]
  },
  {
   "cell_type": "code",
   "execution_count": 203,
   "id": "02afb164",
   "metadata": {},
   "outputs": [
    {
     "data": {
      "text/plain": [
       "<scale_info::13(value={'PreRuntime': ('0x61757261', '0xaa8f390800000000')})>"
      ]
     },
     "execution_count": 203,
     "metadata": {},
     "output_type": "execute_result"
    }
   ],
   "source": [
    "result[0]['header']['digest']['logs'][0]"
   ]
  },
  {
   "cell_type": "code",
   "execution_count": 31,
   "id": "3f3d10f5",
   "metadata": {
    "scrolled": true
   },
   "outputs": [
    {
     "data": {
      "text/plain": [
       "'06/19/2022, 18:16:24'"
      ]
     },
     "execution_count": 31,
     "metadata": {},
     "output_type": "execute_result"
    }
   ],
   "source": [
    "date_str = None\n",
    "for extrinsic in substrate.get_block(substrate.get_block_hash(2))['extrinsics']:\n",
    "    if \"Timestamp\" == extrinsic.value['call']['call_module']:\n",
    "        timestamp = extrinsic.value['call']['call_args'][0]['value']\n",
    "        date_time = datetime.fromtimestamp(timestamp/1000)\n",
    "        date_str = date_time.strftime(\"%m/%d/%Y, %H:%M:%S\")\n",
    "        break\n",
    "if date_str is None:\n",
    "    print('Fail')\n",
    "date_str"
   ]
  },
  {
   "cell_type": "code",
   "execution_count": null,
   "id": "c4e18333",
   "metadata": {},
   "outputs": [],
   "source": []
  },
  {
   "cell_type": "code",
   "execution_count": 24,
   "id": "f110307e",
   "metadata": {},
   "outputs": [],
   "source": [
    "extrinsic = substrate.get_block(substrate.get_block_hash(2))['extrinsics'][1]"
   ]
  },
  {
   "cell_type": "code",
   "execution_count": 26,
   "id": "053846ab",
   "metadata": {},
   "outputs": [
    {
     "data": {
      "text/plain": [
       "{'call_index': '0x0200',\n",
       " 'call_function': 'set',\n",
       " 'call_module': 'Timestamp',\n",
       " 'call_args': [{'name': 'now', 'type': 'Moment', 'value': 1655687784009}],\n",
       " 'call_hash': '0x9741ab6b11f8e857f9473af31ea267db7e325a03b44840aafff335b68b787b96'}"
      ]
     },
     "execution_count": 26,
     "metadata": {},
     "output_type": "execute_result"
    }
   ],
   "source": [
    "extrinsic.value['call']"
   ]
  },
  {
   "cell_type": "code",
   "execution_count": null,
   "id": "d90cfbc2",
   "metadata": {},
   "outputs": [],
   "source": []
  }
 ],
 "metadata": {
  "kernelspec": {
   "display_name": "Python 3 (ipykernel)",
   "language": "python",
   "name": "python3"
  },
  "language_info": {
   "codemirror_mode": {
    "name": "ipython",
    "version": 3
   },
   "file_extension": ".py",
   "mimetype": "text/x-python",
   "name": "python",
   "nbconvert_exporter": "python",
   "pygments_lexer": "ipython3",
   "version": "3.8.5"
  }
 },
 "nbformat": 4,
 "nbformat_minor": 5
}
