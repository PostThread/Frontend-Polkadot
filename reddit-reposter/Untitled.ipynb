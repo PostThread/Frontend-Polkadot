{
 "cells": [
  {
   "cell_type": "code",
   "execution_count": 1,
   "id": "462a55e1",
   "metadata": {
    "scrolled": true
   },
   "outputs": [
    {
     "name": "stdout",
     "output_type": "stream",
     "text": [
      "Collecting ipfscluster\n",
      "  Downloading ipfscluster-0.2.0-py2.py3-none-any.whl (23 kB)\n",
      "Requirement already satisfied: requests in /home/chia/miniconda3/lib/python3.8/site-packages (from ipfscluster) (2.24.0)\n",
      "Collecting pyyaml\n",
      "  Downloading PyYAML-6.0-cp38-cp38-manylinux_2_5_x86_64.manylinux1_x86_64.manylinux_2_12_x86_64.manylinux2010_x86_64.whl (701 kB)\n",
      "\u001b[K     |████████████████████████████████| 701 kB 8.1 MB/s eta 0:00:01\n",
      "\u001b[?25hCollecting argparse\n",
      "  Downloading argparse-1.4.0-py2.py3-none-any.whl (23 kB)\n",
      "Collecting termcolor\n",
      "  Downloading termcolor-1.1.0.tar.gz (3.9 kB)\n",
      "Requirement already satisfied: pyparsing in /home/chia/miniconda3/lib/python3.8/site-packages (from ipfscluster) (3.0.9)\n",
      "Collecting ipfshttpclient\n",
      "  Downloading ipfshttpclient-0.7.0-py3-none-any.whl (82 kB)\n",
      "\u001b[K     |████████████████████████████████| 82 kB 3.8 MB/s  eta 0:00:01\n",
      "\u001b[?25hRequirement already satisfied: certifi>=2017.4.17 in /home/chia/miniconda3/lib/python3.8/site-packages (from requests->ipfscluster) (2020.6.20)\n",
      "Requirement already satisfied: chardet<4,>=3.0.2 in /home/chia/miniconda3/lib/python3.8/site-packages (from requests->ipfscluster) (3.0.4)\n",
      "Requirement already satisfied: idna<3,>=2.5 in /home/chia/miniconda3/lib/python3.8/site-packages (from requests->ipfscluster) (2.10)\n",
      "Requirement already satisfied: urllib3!=1.25.0,!=1.25.1,<1.26,>=1.21.1 in /home/chia/miniconda3/lib/python3.8/site-packages (from requests->ipfscluster) (1.25.11)\n",
      "Collecting multiaddr>=0.0.7\n",
      "  Using cached multiaddr-0.0.9-py2.py3-none-any.whl (16 kB)\n",
      "Requirement already satisfied: six in /home/chia/miniconda3/lib/python3.8/site-packages (from multiaddr>=0.0.7->ipfshttpclient->ipfscluster) (1.15.0)\n",
      "Processing /home/chia/.cache/pip/wheels/cc/a8/a4/4d9e9807c27585dc974fc0e86a3e4345649d71f8a35906d1a8/varint-1.0.2-py3-none-any.whl\n",
      "Collecting netaddr\n",
      "  Downloading netaddr-0.8.0-py2.py3-none-any.whl (1.9 MB)\n",
      "\u001b[K     |████████████████████████████████| 1.9 MB 33.0 MB/s eta 0:00:01\n",
      "\u001b[?25hRequirement already satisfied: base58 in /home/chia/miniconda3/lib/python3.8/site-packages (from multiaddr>=0.0.7->ipfshttpclient->ipfscluster) (2.1.1)\n",
      "Building wheels for collected packages: termcolor\n",
      "  Building wheel for termcolor (setup.py) ... \u001b[?25ldone\n",
      "\u001b[?25h  Created wheel for termcolor: filename=termcolor-1.1.0-py3-none-any.whl size=4830 sha256=be66a0901ddab058d5df30b03d152970525236164df985da96d7bd977f1a555c\n",
      "  Stored in directory: /home/chia/.cache/pip/wheels/a0/16/9c/5473df82468f958445479c59e784896fa24f4a5fc024b0f501\n",
      "Successfully built termcolor\n",
      "Installing collected packages: pyyaml, argparse, termcolor, varint, netaddr, multiaddr, ipfshttpclient, ipfscluster\n",
      "Successfully installed argparse-1.4.0 ipfscluster-0.2.0 ipfshttpclient-0.7.0 multiaddr-0.0.9 netaddr-0.8.0 pyyaml-6.0 termcolor-1.1.0 varint-1.0.2\n",
      "Note: you may need to restart the kernel to use updated packages.\n"
     ]
    }
   ],
   "source": [
    "pip install ipfscluster"
   ]
  },
  {
   "cell_type": "code",
   "execution_count": 2,
   "id": "aab434fe",
   "metadata": {},
   "outputs": [
    {
     "name": "stdout",
     "output_type": "stream",
     "text": [
      "Found existing installation: ipfshttpclient 0.7.0\n",
      "Uninstalling ipfshttpclient-0.7.0:\n",
      "  Successfully uninstalled ipfshttpclient-0.7.0\n",
      "Note: you may need to restart the kernel to use updated packages.\n"
     ]
    }
   ],
   "source": [
    "pip uninstall ipfshttpclient -y"
   ]
  },
  {
   "cell_type": "code",
   "execution_count": 3,
   "id": "81aa20f7",
   "metadata": {
    "scrolled": true
   },
   "outputs": [
    {
     "name": "stdout",
     "output_type": "stream",
     "text": [
      "Collecting ipfshttpclient==0.8.0a1\n",
      "  Downloading ipfshttpclient-0.8.0a1-py3-none-any.whl (82 kB)\n",
      "\u001b[K     |████████████████████████████████| 82 kB 1.4 MB/s eta 0:00:011\n",
      "\u001b[?25hRequirement already satisfied: multiaddr>=0.0.7 in /home/chia/miniconda3/lib/python3.8/site-packages (from ipfshttpclient==0.8.0a1) (0.0.9)\n",
      "Requirement already satisfied: requests>=2.11 in /home/chia/miniconda3/lib/python3.8/site-packages (from ipfshttpclient==0.8.0a1) (2.24.0)\n",
      "Requirement already satisfied: base58 in /home/chia/miniconda3/lib/python3.8/site-packages (from multiaddr>=0.0.7->ipfshttpclient==0.8.0a1) (2.1.1)\n",
      "Requirement already satisfied: varint in /home/chia/miniconda3/lib/python3.8/site-packages (from multiaddr>=0.0.7->ipfshttpclient==0.8.0a1) (1.0.2)\n",
      "Requirement already satisfied: netaddr in /home/chia/miniconda3/lib/python3.8/site-packages (from multiaddr>=0.0.7->ipfshttpclient==0.8.0a1) (0.8.0)\n",
      "Requirement already satisfied: six in /home/chia/miniconda3/lib/python3.8/site-packages (from multiaddr>=0.0.7->ipfshttpclient==0.8.0a1) (1.15.0)\n",
      "Requirement already satisfied: urllib3!=1.25.0,!=1.25.1,<1.26,>=1.21.1 in /home/chia/miniconda3/lib/python3.8/site-packages (from requests>=2.11->ipfshttpclient==0.8.0a1) (1.25.11)\n",
      "Requirement already satisfied: certifi>=2017.4.17 in /home/chia/miniconda3/lib/python3.8/site-packages (from requests>=2.11->ipfshttpclient==0.8.0a1) (2020.6.20)\n",
      "Requirement already satisfied: chardet<4,>=3.0.2 in /home/chia/miniconda3/lib/python3.8/site-packages (from requests>=2.11->ipfshttpclient==0.8.0a1) (3.0.4)\n",
      "Requirement already satisfied: idna<3,>=2.5 in /home/chia/miniconda3/lib/python3.8/site-packages (from requests>=2.11->ipfshttpclient==0.8.0a1) (2.10)\n",
      "Installing collected packages: ipfshttpclient\n",
      "Successfully installed ipfshttpclient-0.8.0a1\n",
      "Note: you may need to restart the kernel to use updated packages.\n"
     ]
    }
   ],
   "source": [
    "pip install ipfshttpclient==0.8.0a1"
   ]
  },
  {
   "cell_type": "code",
   "execution_count": 7,
   "id": "5d9145b9",
   "metadata": {},
   "outputs": [],
   "source": [
    "client.add?"
   ]
  },
  {
   "cell_type": "code",
   "execution_count": 21,
   "id": "92d7843f",
   "metadata": {},
   "outputs": [],
   "source": [
    "import json"
   ]
  },
  {
   "cell_type": "code",
   "execution_count": 2,
   "id": "90a64a3f",
   "metadata": {
    "scrolled": true
   },
   "outputs": [
    {
     "data": {
      "text/plain": [
       "'fdsafkljdskafjaksdjf\\n'"
      ]
     },
     "execution_count": 2,
     "metadata": {},
     "output_type": "execute_result"
    }
   ],
   "source": [
    ">>> import ipfshttpclient\n",
    ">>> client = ipfshttpclient.connect()  # Connects to: /dns/localhost/tcp/5001/http\n",
    ">>> res = client.add('package.json')\n",
    ">>> res\n",
    "{'Hash': 'QmWxS5aNTFEc9XbMX1ASvLET1zrqEaTssqt33rVZQCQb22', 'Name': 'test.txt'}\n",
    ">>> client.cat(res['Hash'])\n",
    "'fdsafkljdskafjaksdjf\\n'"
   ]
  },
  {
   "cell_type": "code",
   "execution_count": 22,
   "id": "b75dec8e",
   "metadata": {
    "scrolled": true
   },
   "outputs": [
    {
     "data": {
      "text/plain": [
       "{'name': 'mint-reddit-posts',\n",
       " 'type': 'module',\n",
       " 'version': 'monthly-2022-01',\n",
       " 'private': True,\n",
       " 'author': 'Parity Technologies <admin@parity.io>',\n",
       " 'license': 'Unlicense',\n",
       " 'homepage': 'https://substrate-developer-hub.github.io/substrate-front-end-template',\n",
       " 'bugs': {'url': 'https://github.com/substrate-developer-hub/substrate-front-end-template/issues'},\n",
       " 'keywords': ['substrate', 'substrate-ui', 'polkadot-js'],\n",
       " 'scripts': {'start': 'react-app-rewired start',\n",
       "  'build': 'react-app-rewired build',\n",
       "  'test': 'CI=true react-app-rewired test',\n",
       "  'eject': 'react-scripts eject',\n",
       "  'eslint:check': 'eslint --ext .jsx,.js src/',\n",
       "  'eslint:write': 'eslint --fix --ext .jsx,.js src/',\n",
       "  'prettier:check': 'prettier -c src/*',\n",
       "  'prettier:write': 'prettier -w src/*',\n",
       "  'deploy': \"gh-pages -d build -m '[ci skip] Updates'\"},\n",
       " 'dependencies': {'@polkadot/api': '^7.10.1',\n",
       "  '@polkadot/extension-dapp': '^0.42.7',\n",
       "  '@polkadot/keyring': '^8.4.1',\n",
       "  '@polkadot/networks': '^8.4.1',\n",
       "  '@polkadot/types': '^7.10.1',\n",
       "  '@polkadot/ui-keyring': '^1.1.1',\n",
       "  '@polkadot/ui-settings': '^1.1.1',\n",
       "  '@polkadot/util': '^8.4.1',\n",
       "  '@polkadot/util-crypto': '^8.4.1',\n",
       "  'node-polyfill-webpack-plugin': '^1.1.4',\n",
       "  'prop-types': '^15.8.1',\n",
       "  'react': '^17.0.2',\n",
       "  'react-copy-to-clipboard': '^5.0.4',\n",
       "  'react-dom': '^17.0.2',\n",
       "  'react-scripts': '^5.0.0',\n",
       "  'semantic-ui-css': 'Semantic-Org/Semantic-UI-CSS#master',\n",
       "  'semantic-ui-react': '^2.1.2',\n",
       "  'stream-browserify': '^3.0.0'},\n",
       " 'devDependencies': {'eslint': '^8.10.0',\n",
       "  'eslint-config-prettier': '^8.4.0',\n",
       "  'eslint-config-react-app': '^7.0.0',\n",
       "  'gh-pages': '^3.2.3',\n",
       "  'prettier': '2.5.1',\n",
       "  'react-app-rewired': '^2.2.1',\n",
       "  'semistandard': '^16.0.1'},\n",
       " 'resolutions': {'eslint-plugin-jsx-a11y': '6.5.1'},\n",
       " 'eslintConfig': {'extends': ['react-app', 'eslint:recommended', 'prettier']},\n",
       " 'engines': {'node': '>=16', 'npm': '>=8'},\n",
       " 'browserslist': {'production': ['>0.2%',\n",
       "   'not ie <= 99',\n",
       "   'not android <= 4.4.4',\n",
       "   'not dead',\n",
       "   'not op_mini all'],\n",
       "  'development': ['last 1 chrome version',\n",
       "   'last 1 firefox version',\n",
       "   'last 1 safari version']},\n",
       " 'packageManager': 'yarn@3.1.1'}"
      ]
     },
     "execution_count": 22,
     "metadata": {},
     "output_type": "execute_result"
    }
   ],
   "source": [
    "json.loads(client.cat(res['Hash']).decode())"
   ]
  },
  {
   "cell_type": "code",
   "execution_count": 14,
   "id": "9e7c20e0",
   "metadata": {},
   "outputs": [
    {
     "data": {
      "text/plain": [
       "<ipfshttpclient.client.base.ResponseBase: {'Name': 'package.json', 'Hash': 'QmVU8KJtHSETz1PUWFbKHpEm7o1XLYptFwaM4oAgUrFrWo', 'Size': '2378'}>"
      ]
     },
     "execution_count": 14,
     "metadata": {},
     "output_type": "execute_result"
    }
   ],
   "source": [
    "client.add('package.json', only_hash=True)"
   ]
  },
  {
   "cell_type": "code",
   "execution_count": 18,
   "id": "e63872e0",
   "metadata": {},
   "outputs": [],
   "source": [
    "client.cat?"
   ]
  },
  {
   "cell_type": "code",
   "execution_count": 15,
   "id": "8d67d4f2",
   "metadata": {},
   "outputs": [],
   "source": [
    "client.(res['Hash'])"
   ]
  },
  {
   "cell_type": "code",
   "execution_count": 16,
   "id": "c8ecef7a",
   "metadata": {},
   "outputs": [
    {
     "data": {
      "text/plain": [
       "<ipfshttpclient.client.base.ResponseBase: {'Name': 'package.json', 'Hash': 'QmVU8KJtHSETz1PUWFbKHpEm7o1XLYptFwaM4oAgUrFrWo', 'Size': '2378'}>"
      ]
     },
     "execution_count": 16,
     "metadata": {},
     "output_type": "execute_result"
    }
   ],
   "source": [
    "res"
   ]
  },
  {
   "cell_type": "code",
   "execution_count": 8,
   "id": "c0786e05",
   "metadata": {},
   "outputs": [],
   "source": [
    "import substrateinterface\n",
    "import json"
   ]
  },
  {
   "cell_type": "code",
   "execution_count": 9,
   "id": "c3251113",
   "metadata": {},
   "outputs": [],
   "source": [
    "t = json.load(open('package.json'))"
   ]
  },
  {
   "cell_type": "code",
   "execution_count": 11,
   "id": "b8cf8c3e",
   "metadata": {
    "scrolled": true
   },
   "outputs": [
    {
     "ename": "TypeError",
     "evalue": "a bytes-like object is required, not 'dict'",
     "output_type": "error",
     "traceback": [
      "\u001b[0;31m---------------------------------------------------------------------------\u001b[0m",
      "\u001b[0;31mTypeError\u001b[0m                                 Traceback (most recent call last)",
      "Input \u001b[0;32mIn [11]\u001b[0m, in \u001b[0;36m<cell line: 1>\u001b[0;34m()\u001b[0m\n\u001b[0;32m----> 1\u001b[0m \u001b[43msubstrateinterface\u001b[49m\u001b[38;5;241;43m.\u001b[39;49m\u001b[43mutils\u001b[49m\u001b[38;5;241;43m.\u001b[39;49m\u001b[43mhasher\u001b[49m\u001b[38;5;241;43m.\u001b[39;49m\u001b[43mxxh128\u001b[49m\u001b[43m(\u001b[49m\u001b[43mt\u001b[49m\u001b[43m)\u001b[49m\n",
      "File \u001b[0;32m~/miniconda3/lib/python3.8/site-packages/substrateinterface/utils/hasher.py:82\u001b[0m, in \u001b[0;36mxxh128\u001b[0;34m(data)\u001b[0m\n\u001b[1;32m     70\u001b[0m \u001b[38;5;28;01mdef\u001b[39;00m \u001b[38;5;21mxxh128\u001b[39m(data):\n\u001b[1;32m     71\u001b[0m     \u001b[38;5;124;03m\"\"\"\u001b[39;00m\n\u001b[1;32m     72\u001b[0m \u001b[38;5;124;03m    Helper function to calculate a 2 concatenated xxh64 hash for provided data, used as key for several Substrate\u001b[39;00m\n\u001b[1;32m     73\u001b[0m \n\u001b[0;32m   (...)\u001b[0m\n\u001b[1;32m     80\u001b[0m \n\u001b[1;32m     81\u001b[0m \u001b[38;5;124;03m    \"\"\"\u001b[39;00m\n\u001b[0;32m---> 82\u001b[0m     storage_key1 \u001b[38;5;241m=\u001b[39m \u001b[38;5;28mbytearray\u001b[39m(\u001b[43mxxhash\u001b[49m\u001b[38;5;241;43m.\u001b[39;49m\u001b[43mxxh64\u001b[49m\u001b[43m(\u001b[49m\u001b[43mdata\u001b[49m\u001b[43m,\u001b[49m\u001b[43m \u001b[49m\u001b[43mseed\u001b[49m\u001b[38;5;241;43m=\u001b[39;49m\u001b[38;5;241;43m0\u001b[39;49m\u001b[43m)\u001b[49m\u001b[38;5;241m.\u001b[39mdigest())\n\u001b[1;32m     83\u001b[0m     storage_key1\u001b[38;5;241m.\u001b[39mreverse()\n\u001b[1;32m     85\u001b[0m     storage_key2 \u001b[38;5;241m=\u001b[39m \u001b[38;5;28mbytearray\u001b[39m(xxhash\u001b[38;5;241m.\u001b[39mxxh64(data, seed\u001b[38;5;241m=\u001b[39m\u001b[38;5;241m1\u001b[39m)\u001b[38;5;241m.\u001b[39mdigest())\n",
      "\u001b[0;31mTypeError\u001b[0m: a bytes-like object is required, not 'dict'"
     ]
    }
   ],
   "source": [
    "substrateinterface.utils.hasher.xxh128(t)"
   ]
  },
  {
   "cell_type": "code",
   "execution_count": 4,
   "id": "1dffcc68",
   "metadata": {},
   "outputs": [],
   "source": [
    "client.cat?"
   ]
  },
  {
   "cell_type": "code",
   "execution_count": null,
   "id": "66cefa14",
   "metadata": {},
   "outputs": [],
   "source": []
  },
  {
   "cell_type": "code",
   "execution_count": null,
   "id": "50827c9d",
   "metadata": {},
   "outputs": [],
   "source": []
  },
  {
   "cell_type": "code",
   "execution_count": 13,
   "id": "6f6314c3",
   "metadata": {},
   "outputs": [
    {
     "name": "stdout",
     "output_type": "stream",
     "text": [
      "The autoreload extension is already loaded. To reload it, use:\n",
      "  %reload_ext autoreload\n"
     ]
    }
   ],
   "source": [
    "%load_ext autoreload\n",
    "%autoreload 2"
   ]
  },
  {
   "cell_type": "code",
   "execution_count": 14,
   "id": "9f865ce4",
   "metadata": {},
   "outputs": [],
   "source": [
    "import substrateinterface\n",
    "from substrateinterface import SubstrateInterface, Keypair\n",
    "from substrateinterface.exceptions import SubstrateRequestException\n",
    "from substrate_helpers import set_substrate, set_delegate, make_call, addSchema, get_msa_id, \\\n",
    "            get_signature, create_msa_with_delegator, mint_votes, mint_user, get_schemas_from_pattern, \\\n",
    "            get_content_from_schemas, get_user"
   ]
  },
  {
   "cell_type": "code",
   "execution_count": 18,
   "id": "5cc0951b",
   "metadata": {},
   "outputs": [],
   "source": [
    "bob = Keypair.create_from_uri('//Bob')\n",
    "substrate = SubstrateInterface(\n",
    "    url=\"ws://127.0.0.1:11946\",\n",
    "    ss58_format=42,\n",
    "    type_registry_preset='kusama'\n",
    ")\n",
    "set_substrate(substrate)\n",
    "set_delegate(bob)"
   ]
  },
  {
   "cell_type": "code",
   "execution_count": 19,
   "id": "5df16bb6",
   "metadata": {},
   "outputs": [
    {
     "name": "stdout",
     "output_type": "stream",
     "text": [
      "Extrinsic '0x40c0f91dd5e84c67221451e3460057739a58152b070ce406fb812002ae034270' sent and included in block '0x8541829799aa234f913ee7f0324762155aed7600bce7e99ba30ac696a25d8193'\n",
      "Extrinsic '0xae6e714354513211422a275dddd8cd4324efd84225aa7b569b2cc2de75016c5d' sent and included in block 'None'\n"
     ]
    }
   ],
   "source": [
    "a, b = mint_user('test', 'password', '')"
   ]
  },
  {
   "cell_type": "code",
   "execution_count": 8,
   "id": "28cfdc70",
   "metadata": {},
   "outputs": [
    {
     "name": "stdout",
     "output_type": "stream",
     "text": [
      "Extrinsic '0xcecc0d0d894a1631c0ff43b319ef5826d90070e15e9efcd34a6117c2de3d1adc' sent and included in block '0xc4d18029d88a27f7318c0c5e044a70d71a0a57dd37469943b3a44946247362bb'\n",
      "Extrinsic '0xd63cb6a4a5db1385cb9c11018949db8ff481f2dcdb617a6cb4b4edfd0f7273b7' sent and included in block '0xd4f1c56404ea8feee15ae01f7690047ee9520d181836ec9903d04f35c6802edd'\n"
     ]
    }
   ],
   "source": [
    "username, password, profile_pic = 'test3', 'password', ''\n",
    "delegate = bob\n",
    "user_wallet = Keypair.create_from_uri('//' + username + password)\n",
    "user_msa_id = create_msa_with_delegator(delegate, user_wallet)\n",
    "user_data = f\"{username},{password},{profile_pic}\"\n",
    "schema = f\"username,password,profile_pic\"\n",
    "schemaId = addSchema(schema)\n",
    "\n",
    "call_params = {\n",
    "    \"on_behalf_of\": user_msa_id,\n",
    "    \"schema_id\": schemaId,\n",
    "    \"message\": user_data,\n",
    "    \"payload\": user_data\n",
    "}\n",
    "receipt_user = make_call(\"Messages\", \"add\", call_params, delegate, wait_for_inclusion=True, wait_for_finalization=False)"
   ]
  },
  {
   "cell_type": "code",
   "execution_count": 9,
   "id": "49ce2791",
   "metadata": {},
   "outputs": [
    {
     "data": {
      "text/plain": [
       "<GenericExtrinsic(value={'extrinsic_hash': '0xd63cb6a4a5db1385cb9c11018949db8ff481f2dcdb617a6cb4b4edfd0f7273b7', 'extrinsic_length': 126, 'address': '5FHneW46xGXgs5mUiveU4sbTyGBzmstUspZC92UhjJM694ty', 'signature': {'Sr25519': '0x9e33438d9ca2f4e780bbba63bb40d372cec053e501088d8a8fa83d9fe383163c1cf8ca4488803b772b08cc6a77de13c42dccbb30ac83fa5ee4d98989867b308e'}, 'era': '00', 'nonce': 229843, 'tip': 0, 'call': {'call_index': '0x2300', 'call_function': 'add', 'call_module': 'Messages', 'call_args': [{'name': 'on_behalf_of', 'type': 'Option<MessageSenderId>', 'value': None}, {'name': 'schema_id', 'type': 'SchemaId', 'value': 485}, {'name': 'message', 'type': 'Bytes', 'value': 'test3,password,'}], 'call_hash': '0xd2a5db6392a2814022c10819a3e990ef14b53d2acf59caa417e3c4b62c36ac47'}})>"
      ]
     },
     "execution_count": 9,
     "metadata": {},
     "output_type": "execute_result"
    }
   ],
   "source": [
    "receipt_user.extrinsic"
   ]
  },
  {
   "cell_type": "code",
   "execution_count": 10,
   "id": "16a127ca",
   "metadata": {},
   "outputs": [
    {
     "data": {
      "text/plain": [
       "[<scale_info::16(value={'phase': 'ApplyExtrinsic', 'extrinsic_idx': 2, 'event': {'event_index': '0a08', 'module_id': 'Balances', 'event_id': 'Withdraw', 'attributes': ('5FHneW46xGXgs5mUiveU4sbTyGBzmstUspZC92UhjJM694ty', 1284064000)}, 'event_index': 10, 'module_id': 'Balances', 'event_id': 'Withdraw', 'attributes': ('5FHneW46xGXgs5mUiveU4sbTyGBzmstUspZC92UhjJM694ty', 1284064000), 'topics': []})>,\n",
       " <scale_info::16(value={'phase': 'ApplyExtrinsic', 'extrinsic_idx': 2, 'event': {'event_index': '0a07', 'module_id': 'Balances', 'event_id': 'Deposit', 'attributes': ('5FHneW46xGXgs5mUiveU4sbTyGBzmstUspZC92UhjJM694ty', 2201313)}, 'event_index': 10, 'module_id': 'Balances', 'event_id': 'Deposit', 'attributes': ('5FHneW46xGXgs5mUiveU4sbTyGBzmstUspZC92UhjJM694ty', 2201313), 'topics': []})>,\n",
       " <scale_info::16(value={'phase': 'ApplyExtrinsic', 'extrinsic_idx': 2, 'event': {'event_index': '0000', 'module_id': 'System', 'event_id': 'ExtrinsicSuccess', 'attributes': {'weight': 125015000, 'class': 'Normal', 'pays_fee': 'Yes'}}, 'event_index': 0, 'module_id': 'System', 'event_id': 'ExtrinsicSuccess', 'attributes': {'weight': 125015000, 'class': 'Normal', 'pays_fee': 'Yes'}, 'topics': []})>]"
      ]
     },
     "execution_count": 10,
     "metadata": {},
     "output_type": "execute_result"
    }
   ],
   "source": [
    "receipt_user.triggered_events"
   ]
  },
  {
   "cell_type": "code",
   "execution_count": 11,
   "id": "35e10d40",
   "metadata": {},
   "outputs": [
    {
     "data": {
      "text/plain": [
       "2"
      ]
     },
     "execution_count": 11,
     "metadata": {},
     "output_type": "execute_result"
    }
   ],
   "source": [
    "receipt_user.extrinsic_idx"
   ]
  },
  {
   "cell_type": "code",
   "execution_count": 29,
   "id": "6f6fb0dc",
   "metadata": {},
   "outputs": [],
   "source": [
    "receipt_user.error_message"
   ]
  },
  {
   "cell_type": "code",
   "execution_count": null,
   "id": "602858ec",
   "metadata": {},
   "outputs": [],
   "source": []
  },
  {
   "cell_type": "code",
   "execution_count": null,
   "id": "91e88caf",
   "metadata": {},
   "outputs": [],
   "source": [
    "!curl -X POST http://localhost:5000/user -d '{\"username\": \"test1\", \"password\": \"password\"}' -H 'Content-Type: application/json'"
   ]
  },
  {
   "cell_type": "code",
   "execution_count": 31,
   "id": "f7cb243a",
   "metadata": {},
   "outputs": [
    {
     "name": "stderr",
     "output_type": "stream",
     "text": [
      "/home/chia/miniconda3/lib/python3.8/site-packages/ipfshttpclient/client/__init__.py:73: VersionMismatch: Unsupported daemon version '0.13.0' (not in range: 0.5.0 ≤ … < 0.9.0)\n",
      "  warnings.warn(exceptions.VersionMismatch(version, minimum, maximum))\n"
     ]
    },
    {
     "name": "stdout",
     "output_type": "stream",
     "text": [
      "{\r\n",
      "  \"Success\": \"Post was created and will finalize on the blockchain soon.\"\r\n",
      "}\r\n"
     ]
    }
   ],
   "source": [
    "!curl -X POST http://localhost:5000/post -d '{\"category\": \"test_cat\", \"username\": \"test\", \"profile_pic\": \"test_pic\", \"title\": \"test_title\", \"body\": \"test_body\", \"url\": \"test_url\", \"is_nsfw\": \"test_nsfw\"}' -H 'Content-Type: application/json'"
   ]
  },
  {
   "cell_type": "code",
   "execution_count": null,
   "id": "cf4e8fdb",
   "metadata": {},
   "outputs": [],
   "source": []
  },
  {
   "cell_type": "code",
   "execution_count": 33,
   "id": "85346263",
   "metadata": {
    "scrolled": true
   },
   "outputs": [],
   "source": [
    "import sqlite3;con = sqlite3.connect('test1.db');cur = con.cursor(); cur.execute('SELECT * FROM post');"
   ]
  },
  {
   "cell_type": "code",
   "execution_count": 35,
   "id": "b105d0ab",
   "metadata": {},
   "outputs": [
    {
     "name": "stdout",
     "output_type": "stream",
     "text": [
      "/home/chia/miniconda3/bin/python\n"
     ]
    }
   ],
   "source": [
    "import sys;print(sys.executable);"
   ]
  },
  {
   "cell_type": "code",
   "execution_count": 37,
   "id": "6c7b2a8b",
   "metadata": {},
   "outputs": [],
   "source": [
    "con.close()"
   ]
  },
  {
   "cell_type": "code",
   "execution_count": null,
   "id": "dce048b0",
   "metadata": {},
   "outputs": [],
   "source": []
  }
 ],
 "metadata": {
  "kernelspec": {
   "display_name": "Python 3 (ipykernel)",
   "language": "python",
   "name": "python3"
  },
  "language_info": {
   "codemirror_mode": {
    "name": "ipython",
    "version": 3
   },
   "file_extension": ".py",
   "mimetype": "text/x-python",
   "name": "python",
   "nbconvert_exporter": "python",
   "pygments_lexer": "ipython3",
   "version": "3.8.5"
  }
 },
 "nbformat": 4,
 "nbformat_minor": 5
}
