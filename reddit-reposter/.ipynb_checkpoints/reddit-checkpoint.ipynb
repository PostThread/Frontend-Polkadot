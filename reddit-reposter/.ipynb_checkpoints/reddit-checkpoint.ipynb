{
 "cells": [
  {
   "cell_type": "code",
   "execution_count": 1,
   "id": "c02729b4",
   "metadata": {},
   "outputs": [],
   "source": [
    "%load_ext autoreload\n",
    "%autoreload 2"
   ]
  },
  {
   "cell_type": "code",
   "execution_count": 48,
   "id": "4298de95",
   "metadata": {},
   "outputs": [],
   "source": [
    "import json\n",
    "import time\n",
    "from random import sample\n",
    "import ipfshttpclient\n",
    "from os import listdir\n",
    "from os.path import isfile, join\n",
    "import re\n",
    "import praw\n",
    "\n",
    "import substrateinterface\n",
    "from substrateinterface import SubstrateInterface, Keypair\n",
    "from substrateinterface.exceptions import SubstrateRequestException\n",
    "\n",
    "from substrate_helpers import *"
   ]
  },
  {
   "cell_type": "code",
   "execution_count": 3,
   "id": "780ca96b",
   "metadata": {
    "scrolled": true
   },
   "outputs": [],
   "source": [
    "reddit_creds = json.load(open(\".reddit_creds.json\", \"r\"))\n",
    "reddit = praw.Reddit(\n",
    "    client_id=reddit_creds[\"client_id\"],\n",
    "    client_secret=reddit_creds[\"client_secret\"],\n",
    "    password=reddit_creds[\"password\"],\n",
    "    user_agent=reddit_creds[\"user_agent\"],\n",
    "    username=reddit_creds[\"username\"],\n",
    ")"
   ]
  },
  {
   "cell_type": "code",
   "execution_count": 15,
   "id": "c80d80b8",
   "metadata": {
    "scrolled": true
   },
   "outputs": [],
   "source": [
    "substrate = SubstrateInterface(\n",
    "    url=\"ws://127.0.0.1:9944\",\n",
    "    ss58_format=42,\n",
    "    type_registry_preset='kusama'\n",
    ")\n",
    "bob = Keypair.create_from_uri('//Bob')\n",
    "bob_msa_id = get_msa_id(bob)"
   ]
  },
  {
   "cell_type": "code",
   "execution_count": 7,
   "id": "32f8566f",
   "metadata": {},
   "outputs": [],
   "source": [
    "r_all = reddit.subreddit('all')"
   ]
  },
  {
   "cell_type": "code",
   "execution_count": 8,
   "id": "2aaa501c",
   "metadata": {},
   "outputs": [],
   "source": [
    "client = ipfshttpclient.connect()"
   ]
  },
  {
   "cell_type": "code",
   "execution_count": 11,
   "id": "8e1eb535",
   "metadata": {},
   "outputs": [],
   "source": [
    "path = \"/tmp/\""
   ]
  },
  {
   "cell_type": "code",
   "execution_count": 20,
   "id": "31fedc04",
   "metadata": {},
   "outputs": [],
   "source": [
    "def mint_comments(comments, post, post_data_hash):\n",
    "    id_to_hash = {}\n",
    "    for comment in comments:\n",
    "        try:\n",
    "            username = comment.author.name\n",
    "            profile_pic = comment.author.icon_img\n",
    "        except:\n",
    "            username = \"removed\"\n",
    "            profile_pic = \"removed\"\n",
    "            \n",
    "        password = 'password'\n",
    "        user_wallet = Keypair.create_from_uri('//' + username + password)\n",
    "        comment_user_msa_id, receipt_comment_user = mint_user(username, password, profile_pic, user_wallet)\n",
    "            \n",
    "        if comment.parent_id == post.name:\n",
    "            parent_hash = post_data_hash\n",
    "        else:\n",
    "            parent_hash = id_to_hash[comment.parent_id]\n",
    "            \n",
    "        comment_data = {\n",
    "            \"post_hash\": post_data_hash,\n",
    "            \"parent_hash\": parent_hash,\n",
    "            \"depth\": comment.depth,\n",
    "            \"body\": comment.body,\n",
    "        }\n",
    "        \n",
    "        comment_data_hash, receipt_comment = mint_data(comment_data, user_msa_id, path+'comments/' wait_for_inclusion=False, wait_for_finalization=False)\n",
    "        \n",
    "        receipt_comment = make_call(\"Messages\", \"add\", call_params, bob, wait_for_inclusion=False, wait_for_finalization=False)\n",
    "        print(comment_data_hash)\n",
    "        \n",
    "        ## comment votes ##\n",
    "        receipt_ups = mint_votes(comment_user_msa_id, comment.ups, comment_data_hash, post_data_hash, 'comment')\n",
    "        receipt_downs = mint_votes(comment_user_msa_id, comment.downs, comment_data_hash, post_data_hash, 'comment')\n",
    "        print(comment.ups, comment.downs)\n",
    "        \n",
    "        ## FOLLOWS ##\n",
    "        for follow_msa_id in sample(users, min(10, len(users))):\n",
    "            follow_user(comment_user_msa_id, follow_msa_id)\n",
    "            \n",
    "        users.append(comment_user_msa_id)"
   ]
  },
  {
   "cell_type": "code",
   "execution_count": 96,
   "id": "1018a43e",
   "metadata": {},
   "outputs": [],
   "source": [
    "def mint_reddit_users_msa_ids(post, delegate):\n",
    "    ## USER ##\n",
    "    try:\n",
    "        username = post.author.name\n",
    "        profile_pic = post.author.icon_img\n",
    "    except:\n",
    "        username = \"removed\"\n",
    "        profile_pic = \"removed\"\n",
    "\n",
    "    password = 'password'\n",
    "    user_wallet = Keypair.create_from_uri('//' + username + password)\n",
    "    create_msa_with_delegator(delegate, user_wallet, wait_for_inclusion=False, wait_for_finalization=False)\n",
    "    \n",
    "    return {\"username\": username, \"password\": password, \"profile_pic\": profile_pic, \"user_wallet\": user_wallet}"
   ]
  },
  {
   "cell_type": "code",
   "execution_count": 90,
   "id": "d961c2df",
   "metadata": {
    "scrolled": true
   },
   "outputs": [],
   "source": [
    "def mint_reddit_users_msa_ids_for_posts(posts, delegate):\n",
    "    users = {}\n",
    "    posts_and_comments = posts\n",
    "    for i, (post_name, post) in enumerate(posts.items()):\n",
    "        users[post_name][post_name] = mint_reddit_users_msa_ids(post, post_name, delegate)\n",
    "        \n",
    "        top_comments = []\n",
    "        for comment in post.comments.list()[:10]:\n",
    "            if comment.parent_id == post.name:\n",
    "                top_comments.append(comment.name)\n",
    "                users[post_name][comment.name] = mint_reddit_users_msa_ids(post, delegate)\n",
    "        for comment in post.comments.list():\n",
    "            if type(c) != praw.models.reddit.more.MoreComments and c.parent_id in top_comments:\n",
    "                users[post_name][comment.name] = mint_reddit_users_msa_ids(post, delegate)\n",
    "        \n",
    "    return users"
   ]
  },
  {
   "cell_type": "code",
   "execution_count": 53,
   "id": "5e47baad",
   "metadata": {},
   "outputs": [],
   "source": [
    "def mint_reddit_posts_and_users(posts, users, delegate):\n",
    "    for i, (post_name, post) in enumerate(posts.items()):\n",
    "        user = users[post.name][post.name]\n",
    "        ## POST ##\n",
    "        post_data = {\n",
    "            \"category\": post.subreddit.display_name,\n",
    "            \"title\": post.title,\n",
    "            \"body\": post.selftext,\n",
    "            \"url\": post.url,\n",
    "            \"is_nsfw\": post.over_18\n",
    "        }\n",
    "        user_wallet = Keypair.create_from_uri('//' + user['username'] + user['password'])\n",
    "        user_msa_id = get_msa_id(user_wallet)\n",
    "        users[post.name]['user_msa_id'] = user_msa_id\n",
    "        if user_msa_id is None:\n",
    "            return False\n",
    "        \n",
    "        receipt_user = mint_user(user_msa_id, user['username'], user['password'], user['profile_pic'], user_wallet)\n",
    "\n",
    "        post_data_hash, receipt_post = mint_data(post_data, user_msa_id, post_schemaId, path+'posts/', \n",
    "                                                 wait_for_inclusion=False, wait_for_finalization=False)\n",
    "\n",
    "        ## post votes ##\n",
    "        receipt_ups = mint_votes(user_msa_id, post.ups, post_data_hash, post_data_hash, 'post', \n",
    "                                                 wait_for_inclusion=False, wait_for_finalization=False)\n",
    "        receipt_downs = mint_votes(user_msa_id, post.downs, post_data_hash, post_data_hash, 'post', \n",
    "                                                 wait_for_inclusion=False, wait_for_finalization=False)\n",
    "        \n",
    "        top_comments = []\n",
    "        for comment in post.comments.list()[:10]:\n",
    "            if comment.parent_id == post.name:\n",
    "                top_comments.append(comment.name)\n",
    "                if comment.parent_id == post.name:\n",
    "                    parent_hash = post_data_hash\n",
    "                else:\n",
    "                    parent_hash = id_to_hash[comment.parent_id]\n",
    "\n",
    "                comment_data = {\n",
    "                    \"post_hash\": post_data_hash,\n",
    "                    \"parent_hash\": parent_hash,\n",
    "                    \"depth\": comment.depth,\n",
    "                    \"body\": comment.body,\n",
    "                }\n",
    "\n",
    "                comment_data_hash, receipt_comment = mint_data(comment_data, user_msa_id, path+'comments/' wait_for_inclusion=False, wait_for_finalization=False)\n",
    "\n",
    "                receipt_comment = make_call(\"Messages\", \"add\", call_params, bob, wait_for_inclusion=False, wait_for_finalization=False)\n",
    "\n",
    "                ## comment votes ##\n",
    "                receipt_ups = mint_votes(comment_user_msa_id, comment.ups, comment_data_hash, post_data_hash, 'comment')\n",
    "                receipt_downs = mint_votes(comment_user_msa_id, comment.downs, comment_data_hash, post_data_hash, 'comment')\n",
    "                \n",
    "        for comment in post.comments.list():\n",
    "            if type(c) != praw.models.reddit.more.MoreComments and c.parent_id in top_comments:\n",
    "                users[post_name][comment.name] = mint_reddit_users_msa_ids(post, delegate)\n",
    "        \n",
    "    return True\n",
    "\n",
    "#         ## FOLLOWS ##\n",
    "#         users_list = list(users.keys())\n",
    "#         for follow_user in sample(users_list, min(10, len(users_list))):\n",
    "#             follow_user(user_msa_id, follow_msa_id)\n",
    "\n",
    "#         users.append(user_msa_id)"
   ]
  },
  {
   "cell_type": "code",
   "execution_count": 88,
   "id": "70ed9c13",
   "metadata": {},
   "outputs": [],
   "source": [
    "top_comments = {p.name: p for p in post.comments.list()[:10]}\n",
    "top_comments_comments = {p.name: c for c in post.comments.list() if type(c) != praw.models.reddit.more.MoreComments and c.parent_id in top_comments}"
   ]
  },
  {
   "cell_type": "code",
   "execution_count": 28,
   "id": "7e070cf9",
   "metadata": {},
   "outputs": [],
   "source": [
    "all_users = {}\n",
    "all_posts = {}\n",
    "all_comments = {}"
   ]
  },
  {
   "cell_type": "code",
   "execution_count": 92,
   "id": "1e9a8cb0",
   "metadata": {},
   "outputs": [],
   "source": [
    "posts = {p.name: p for p in r_all.top(time_filter='day') if p.name not in all_posts}\n",
    "comments = {p.name: p for p in post.comments.list()[:10] for post in posts.values()}\n",
    "all_posts.update(posts)\n",
    "all_comments.update(comments)"
   ]
  },
  {
   "cell_type": "code",
   "execution_count": 93,
   "id": "9857e5ab",
   "metadata": {},
   "outputs": [
    {
     "name": "stdout",
     "output_type": "stream",
     "text": [
      "Extrinsic '0x5daebcf972024a9e1a1d0a257b3e847c18181537a66f35462ed03a1577bbd8fb' sent and included in block 'None'\n",
      "Extrinsic '0x8ea5aac6b6298cf147f61a25eb5631cc62e89a148b1f6ae86032b1f09fddc089' sent and included in block 'None'\n",
      "Extrinsic '0xfcea0279a97c05747311865c04232e06388178f91595f9c2fc104276b99c0066' sent and included in block 'None'\n",
      "Extrinsic '0x58e262794f43a15769a3bd107a49e1d06b6c118f9d91dd36e2fd4d96ca946f4d' sent and included in block 'None'\n",
      "Extrinsic '0xc02bb6418e6f3eff0a387b21ec521915b992e9aff669757c61c1aa19c5c7ac7d' sent and included in block 'None'\n",
      "Extrinsic '0x8c259e913d76fdb94f5be5f2b29203499ef5bf08e69e644e5e59dfa7b1afea95' sent and included in block 'None'\n",
      "Extrinsic '0xa9f00dd28f6a76f79eef3775f14716502b57d85f13294d12a0f8833aa26c2da8' sent and included in block 'None'\n",
      "Extrinsic '0xce200a7dabfd19d5943311775f998d824ac5fd4c2a85312f61f9fa9f2007e458' sent and included in block 'None'\n",
      "Extrinsic '0xc8902778a9c61014e7a378c9c34fbcc998b6fbb31fc72a8267cf2f7d08014247' sent and included in block 'None'\n",
      "Extrinsic '0xfbf3bf2fc64c5afcb710db258862139c0106d6b4a0f0ea61de354c826671f9f3' sent and included in block 'None'\n",
      "Extrinsic '0x98e224bd824fdb9546c0b7ecca3c89260a0ee30534a81cb0eb7bc38b337665a8' sent and included in block 'None'\n",
      "Extrinsic '0x11e53b8de2153b864e12881449629c894c56decb83a3988e8468797e37d6e372' sent and included in block 'None'\n",
      "Extrinsic '0x2e31c9dededee14ca586314b7d83409bead4480ad3eed13f867a4369a6376f8c' sent and included in block 'None'\n",
      "Extrinsic '0x431a4017742e63caa7987149ed43324d4cc15ae6a3c7f9ddfefeb37b1d04c6cd' sent and included in block 'None'\n",
      "Extrinsic '0xa9bb3899f3e66aac8f544a9fbf551f6674a13212c239843845ea431cead7449d' sent and included in block 'None'\n",
      "Extrinsic '0xf8a5eb5103db50451074da79feb356c14ec5e99b7ae21a0c950365baebf7e30c' sent and included in block 'None'\n",
      "Extrinsic '0xda9ef29d852272572a652163fa4db15a5a4563af4aad541882b604530b95a6a2' sent and included in block 'None'\n"
     ]
    }
   ],
   "source": [
    "all_users.update(mint_reddit_users_msa_ids(posts, comments, bob))"
   ]
  },
  {
   "cell_type": "code",
   "execution_count": 54,
   "id": "2d5773e4",
   "metadata": {
    "scrolled": true
   },
   "outputs": [
    {
     "name": "stdout",
     "output_type": "stream",
     "text": [
      "Extrinsic '0x2dfafd72794941935c21b5b5038acee491abef1b14e05c3e31b555498e3efcaa' sent and included in block 'None'\n",
      "Extrinsic '0xf3f496c1c73092b07e05b45639e4fdf45fc6a94af08fcf36cba8b420b67e8a8a' sent and included in block 'None'\n",
      "Extrinsic '0x6f3750377c105f12b25a2963ad4c8d46dfd5dd591e822dc6403cce58b0527aca' sent and included in block 'None'\n",
      "Extrinsic '0xa478060964e0d83355ed2c71569ce4e5bcb12c119ccaa9955c0b051517e2939b' sent and included in block 'None'\n",
      "Extrinsic '0x18e0fb5cea6354d7a17a87d0700db4107c2513bf6ed9e8a573967cb73e06d335' sent and included in block 'None'\n",
      "Extrinsic '0xc65ba248d61c59ff152dfd45eb440cc509e046cec7b36213baaecbbf8c0b1899' sent and included in block 'None'\n",
      "Extrinsic '0xfb795303ecb24782116b316a2f1a15767e19405522da87aaff5dfccd91bb1b77' sent and included in block 'None'\n",
      "Extrinsic '0x77ea191045e7afdb834e2c84f2463e568796578f82d38e0bdfae4dda8783bad7' sent and included in block 'None'\n",
      "Extrinsic '0x5313f387fb6e9e52da0452ddccefa16feef81a0e133cff8e709315448841d0e0' sent and included in block 'None'\n",
      "Extrinsic '0x7c568506e1493c7ce5c2653f5aa7a01092751de3b65f2e664858db529b42e75f' sent and included in block 'None'\n",
      "Extrinsic '0x1d805077c802f25a6d08960cced18019f9b70cd022d9036e9ef81f653b668180' sent and included in block 'None'\n",
      "Extrinsic '0xf3e692fc13b181213dc99d2b8e935d24ed45276fc66ea5831373dfb776db3c92' sent and included in block 'None'\n",
      "Extrinsic '0x444f3ed349b9b8cf8943cb1a464bcbd427033da354ddbc677edd067cdfd96df4' sent and included in block 'None'\n",
      "Extrinsic '0xadbe65bee452eb7ee0fc128e06d9d56452a60b3d8f855f77145d1d851593469b' sent and included in block 'None'\n",
      "Extrinsic '0xfb50507acad06661dbea809797d84189997129e86e73db0066dc77b97918976b' sent and included in block 'None'\n",
      "Extrinsic '0x1cf14b067e10fa92b61fe14ddf47b07aa0cd7ba82731369297902f42e0589b3d' sent and included in block 'None'\n",
      "Extrinsic '0x934e871ebcdb15abaa66340b2aec50cdbb29e8b32585e4eecd31e0d11c2f0381' sent and included in block 'None'\n",
      "Extrinsic '0x5c0c743cfed9aa2c0400bd4f647267338e44942155cdda314e34dab8a648c388' sent and included in block 'None'\n",
      "Extrinsic '0xe65e227114e12ac50f1d79d2e35a9622936f2378b122709b4c966e24c2170321' sent and included in block 'None'\n",
      "Extrinsic '0x6540e05a61864ddc3e7e64d9d1e2fdb3ee619ad96a91fe871c780452cad9cd60' sent and included in block 'None'\n",
      "Extrinsic '0x310bc37113687b521f19747a83baf49fe46aacd9a813a846c400825399dd59ac' sent and included in block 'None'\n",
      "Extrinsic '0xb097daf54cfd87149c034da41e70d3d6a7783a42bced3b48a95c8b8b695b4f2c' sent and included in block 'None'\n",
      "Extrinsic '0x560b62360ada6002cb8c5d4fd2e2c82b77e0b148414b55fcc8f59639f7128018' sent and included in block 'None'\n",
      "Extrinsic '0x658c26474886674b981f3b3019c4a64e024abe883b6b61169fd1fd939e9b685a' sent and included in block 'None'\n",
      "Extrinsic '0x5915fe546bb8b62dbd62e203001961052999e1124f5187a81d9b7b80776d9ef4' sent and included in block 'None'\n",
      "Extrinsic '0x1828ba38903b1e0c5b31d68b44d69a8faf4e0305ec01629f6763c980f11ffd9f' sent and included in block 'None'\n",
      "Extrinsic '0x0ccee38960ad0d8710df5a3a292ba425e8d3cb4bd270117de22955069bd323ce' sent and included in block 'None'\n",
      "Extrinsic '0x23ee3c7b60d4ab01dc5ba36a6eca94b0eb9f57f7569cbdce68a6b38b5c205753' sent and included in block 'None'\n",
      "Extrinsic '0xa30feaca46c34576f11753a57811745c28eddb9dc0589da1c8729e1251792ffa' sent and included in block 'None'\n",
      "Extrinsic '0xde6cc644c475067b6381ebcc071345773d2932ea53c4bf8eddb6cb7166afc7e6' sent and included in block 'None'\n",
      "Extrinsic '0x1abce2bc5b3bed08168211ae2a7bb2d3d708858a04c266d4a2e0f6fcdb9ae1a2' sent and included in block 'None'\n",
      "Extrinsic '0x6d77f82782a6de4591cbd68cff7970c74d2c4bbe5c44347b68963e9922e5a219' sent and included in block 'None'\n",
      "Extrinsic '0xfd8be5248623ac021fdb09517888dea1dfaead1d2f0301fb762842d770898617' sent and included in block 'None'\n",
      "Extrinsic '0x6bc2e947edd2bd1f89b12c8dbdc1d28311761fc837930dc6b98c512bafd9542b' sent and included in block 'None'\n",
      "Extrinsic '0xe263ea1f6c5b62b2dfc9e7c7f3e8ab620f247c44440b4b39a530cb5038b18f44' sent and included in block 'None'\n",
      "Extrinsic '0xf615be4816d096b24b3bea2083d14b0768bb3691c1e27a98c576f4b1293fba3a' sent and included in block 'None'\n",
      "Extrinsic '0x9c82c2d0bbe35d890371e18b088c9b4ba5f9a4cf879de7ee11db6e3f867bc653' sent and included in block 'None'\n",
      "Extrinsic '0x0914e66ee8e15c4d2508b9f1d5b500dc33feb5bcbe3696111e1fb0c66ae4f931' sent and included in block 'None'\n",
      "Extrinsic '0xa7b49d229cfdef1ab2086884d61c6b88d656e4132ab633450c9562fa3ae6d1c5' sent and included in block 'None'\n",
      "Extrinsic '0x1dec769e92f198fab00dc5a6e2c91efbfcae273fca38c2ac787aa058bda14c0d' sent and included in block 'None'\n",
      "Extrinsic '0x8340230392d36c4173f25ee0dd5e3e2f2a48c26f718b74b427142244d8ff3ad4' sent and included in block 'None'\n",
      "Extrinsic '0x03c349a800e9e861e3e5f6ca031afffe4c9cbd075535d9b0bc7b15b99133c38d' sent and included in block 'None'\n",
      "Extrinsic '0xcfa15b361fd793f8a0374e0039cba5c0c268875ad9e9370838c834ea912feecb' sent and included in block 'None'\n",
      "Extrinsic '0xef1398697a807c97c36778a9b7ddbc78c95710cb173c8a30c38ada749177c3aa' sent and included in block 'None'\n",
      "Extrinsic '0x3266eb4005b6a2970b5326187310748d2d3d0d4779957c8d2a3f671d06602167' sent and included in block 'None'\n",
      "Extrinsic '0xfd25a20fd2dfcfb201007413d83bf897f3762fffaa7d966946700e408555ad49' sent and included in block 'None'\n",
      "Extrinsic '0x9072185dbb3c1416fe616180b8b496ef9025d5e3767a51e99614d644f42d5d7a' sent and included in block 'None'\n",
      "Extrinsic '0x61fd01517b08dad6eb1aa876600e187c2c45a16c4018d1dcb7d3f0f1efaeadcb' sent and included in block 'None'\n",
      "Extrinsic '0x4924c3d53773a36536102aa3e72a50647202324cdd1ab35a9b020e2cb7ca5df7' sent and included in block 'None'\n",
      "Extrinsic '0x382db1a612d8ea337b4700a28a8a801a76cad710cd2e78152321fc59ee2c32cb' sent and included in block 'None'\n",
      "Extrinsic '0x4f0bd9d8d44c3fd42ca591cf10c9b3a713ea4e6d7695e123b62b237ab074c5ed' sent and included in block 'None'\n",
      "Extrinsic '0x318e7a419fb40942c245c6a9144f733da75992fa4884a2a873d833a62ebf339d' sent and included in block 'None'\n",
      "Extrinsic '0xa2b0b2668ba0ca093c22636bf8ebbc455c92fe095615c8b9b082fb6db6f8f7a0' sent and included in block 'None'\n",
      "Extrinsic '0x327e05db703f33bd4ce9596e54e77ae8f4e2c2478179e6a4d18afaa315918f69' sent and included in block 'None'\n",
      "Extrinsic '0x341a3931eb881ece1ee8458b770eeec93aa7e3973a067c8a360d41d47641a536' sent and included in block 'None'\n",
      "Extrinsic '0xe649f593884807a401e75aad50bd9c2bc87213849363981cec0a2d269a3a566b' sent and included in block 'None'\n",
      "Extrinsic '0xd8523f31d324f9e5b4e0f3f35eeb3ad12d699e03c0617907dd65acaa71b642b8' sent and included in block 'None'\n",
      "Extrinsic '0x508cc427e092eaccf44eb120917541b3a56f43dbef1c559fa1085dbfc8e54bc6' sent and included in block 'None'\n",
      "Extrinsic '0x6f813d0c62727499cd0419ef9d8b867e75c5eaa645764a1e9ff2eee8ec192cac' sent and included in block 'None'\n",
      "Extrinsic '0x5e9a1a697f1d489a71134dcf4171d7194ce4e0803ee0f634965aa854814160be' sent and included in block 'None'\n",
      "Extrinsic '0xf05c60b83af76afbcaa41a0d8ab7a8b9f268f809c114f971834a9391247b87dd' sent and included in block 'None'\n",
      "Extrinsic '0xe10252bedbb14acb62ecd248c9c2a2f02f6a5ba33e24b017eec61537ae63663a' sent and included in block 'None'\n",
      "Extrinsic '0x0a3783a2d8132d924b16c3bc044edf97e0d839eafa25d0335923f92462d77bb2' sent and included in block 'None'\n",
      "Extrinsic '0x6cc74c5a3682e82131338c6d82f1427a23cc392d1f71cc303af63737997c0730' sent and included in block 'None'\n",
      "Extrinsic '0xf38f3f89753b179a844ed59853f2125dec231aa665718a6782527219425956e5' sent and included in block 'None'\n",
      "Extrinsic '0xb691b9eda4921ed224eeedc2f99ebde8497621c0a0fec3814a1d0b08cbf77fdd' sent and included in block 'None'\n",
      "Extrinsic '0x8ec442267e2a53ea7feec1fe66eb5803aa100d6a7cd76c7a6f1b8164e9a33c0d' sent and included in block 'None'\n",
      "Extrinsic '0xa1dee1c279187de6286d869543547794a49e2f63f42dcd64ee147191cb31b2ba' sent and included in block 'None'\n",
      "Extrinsic '0xb0de8dddac353f3f5d5e875c4cacbcb421889db10a0eff6f9c607e83d04d5627' sent and included in block 'None'\n",
      "Extrinsic '0x9707001740ff9e68afce348ece23e7e3ca4cd0f2cbfefaf088675e8f404ad6f5' sent and included in block 'None'\n",
      "Extrinsic '0x88306bfde700fa484574a49de9606484c7362fb5f65dd425f37bae12fbfc56d2' sent and included in block 'None'\n",
      "Extrinsic '0xe80f88a3f472343384e2ae03e065c329d0ac42f93c5c4e5229be866c7e39bd18' sent and included in block 'None'\n",
      "Extrinsic '0x07da4072cb23918b12127434fd7769339730ce1dad68fa5a6050562021e7143a' sent and included in block 'None'\n",
      "Extrinsic '0x0b16a170a85f6c632e66efedef34b2fab8b205905ca64571faa5111d3362538e' sent and included in block 'None'\n",
      "Extrinsic '0x42a0f5b4f0cc2a626a2ddab0e61645aca5f388168572754a9ab6068157e22a90' sent and included in block 'None'\n",
      "Extrinsic '0x30ee728991caab0683cb90cf27ed2926da76fbd836aa6d6188407b31f6ea6357' sent and included in block 'None'\n",
      "Extrinsic '0xf1f652e4f2f534a6424b775d2afcf792c73139e4a48bc2fb7e0bd7fda19914ee' sent and included in block 'None'\n",
      "Extrinsic '0x80ff637f9182f339f07a6bba4f52cbaa40897f3c0a0ffe46ac8f5a7659cb0008' sent and included in block 'None'\n",
      "Extrinsic '0xe87a807a842f6058033067616774645b9cd72b90a88ca9777adcdc592bbb8645' sent and included in block 'None'\n",
      "Extrinsic '0xeb87b10edf1015a9d92237463011bf64df0b9e060888d37f67624bbba63f5270' sent and included in block 'None'\n",
      "Extrinsic '0x21fb9e67358cf6d6b022244c6b2d79f1cbed22a61d3757b67bd82890f7b88c82' sent and included in block 'None'\n",
      "Extrinsic '0xd609b02090650f15863e75a28c3d8f19472548ff1c254dc0907dddf9e7324854' sent and included in block 'None'\n",
      "Extrinsic '0x9914b4fca5ed7151fd7ff046a5225d9ffc0e7bedff13dd53d3a90f6f7f79720d' sent and included in block 'None'\n",
      "Extrinsic '0x6067ab526ec4d21ed83a694ae069f4ddaa61b7ae3ed5a655f54d8d5a0b9c13c8' sent and included in block 'None'\n",
      "Extrinsic '0xf7c9c5b256d052aee8b1f12771ea28a1267c13772be3f61bbf1d46deb15ce043' sent and included in block 'None'\n",
      "Extrinsic '0x4f10357dc1de3076861aed210e68aa079b7494e9ff228c47b912760ad2b7813a' sent and included in block 'None'\n",
      "Extrinsic '0x3f9b1d9726ddb9c83c2edbc243665b7b80f2b4d77c24de222002ef8ae553be15' sent and included in block 'None'\n",
      "Extrinsic '0x05024c8076abf96751d485b6dd9483721b1325220d07f9c49558c5acc5fdc05a' sent and included in block 'None'\n",
      "Extrinsic '0x1aab79ab24be90be535b26f5fcc88f087eafdbea01de7d69d7cf2fc313a4de37' sent and included in block 'None'\n",
      "Extrinsic '0xdc4025c0b56e8cd64bdfa20a38d3fc75099ef063b94229460f5c13af3770f8ce' sent and included in block 'None'\n",
      "Extrinsic '0x6e43fb5700d077106357699a817e50a4c0a47ce96c5ae4ea52eac3c7d880bb2f' sent and included in block 'None'\n",
      "Extrinsic '0xf2c5fa95eeeb98e36c08d1b0a8880d82e20afdc472641859785b625f1d5fa83c' sent and included in block 'None'\n",
      "Extrinsic '0x055abdfc07e1fd7efd83e396e214c31f42e39bcc73998f276141019240af2db8' sent and included in block 'None'\n"
     ]
    },
    {
     "name": "stdout",
     "output_type": "stream",
     "text": [
      "Extrinsic '0xedba7932a41eb255a1c148768c2a73dca7a31320eb27b5cd23a3550d386a9d90' sent and included in block 'None'\n",
      "Extrinsic '0xc4581c619871aa0fd63a07c85676868680cb706fad26d3de816b54cf150ac4fc' sent and included in block 'None'\n",
      "Extrinsic '0x767c529623adbf841b931df4bd1bec7d95082dc60e88a9a47e3baed1322010bb' sent and included in block 'None'\n",
      "Extrinsic '0x50114cb132d1abb932d38bcba98f8a16d93049a8a1318d2d1d4d72b4235b931b' sent and included in block 'None'\n",
      "Extrinsic '0xe1ecc3e4dfb6998c5a980f8b6d107625bc3f9fb06c1845a1f3a658e5155b6d7e' sent and included in block 'None'\n",
      "Extrinsic '0x58af74fbe129a1bdb4c26602f0e4f55114ec2785ec7b61da7264df729d59057d' sent and included in block 'None'\n",
      "Extrinsic '0x709915e71acdbda2ea5c6a04be012f542a63f5d07232054fa6dc1e1220b3e2ef' sent and included in block 'None'\n",
      "Extrinsic '0xee8c59fbb42d676b46e8413d3ddb24436a5560535b2da520a18d631625d95f0a' sent and included in block 'None'\n",
      "Extrinsic '0x918b3d07306d0e2425aa5a5df0c2b960aa60a4545981844a72c2419f89110169' sent and included in block 'None'\n",
      "Extrinsic '0x7c208bbadb67c1a0607b68208a190244235e7a9d7cd1c754312c26655e0916d4' sent and included in block 'None'\n",
      "Extrinsic '0x5d4236a2a2e4079e29ac4f3444a3ac1dee2eddda6a081b4a6f7441fdc4f00557' sent and included in block 'None'\n",
      "Extrinsic '0x3d046465435df5ad9b91dab65cc20d6c00bd2b2a1c56cd654266853ea856293c' sent and included in block 'None'\n",
      "Extrinsic '0xb9ce8791e40913384a421f9c202ebbeb27ef96cacbf047bca77e6bfc399a7d03' sent and included in block 'None'\n",
      "Extrinsic '0x4b0e33034ea6434062885833856252f821e04145a69b8207adc4814f81d8b78c' sent and included in block 'None'\n",
      "Extrinsic '0x472d3c16402d5e8637947b375ce468d1775a63ccbd3bef82a1531b348d25be7e' sent and included in block 'None'\n",
      "Extrinsic '0x3e71ba40caceb625ce5f5f3cd94853504f883ee244f2fa1b421acadc2244c0fb' sent and included in block 'None'\n",
      "Extrinsic '0xdb6e93125a7de47294f9510c2d74ad32c79d0adf9f64c801966006b3780e6ff1' sent and included in block 'None'\n",
      "Extrinsic '0x4e1425a9c95a5b070e221b06a54cc294430e826d651fae2610990036db2889b0' sent and included in block 'None'\n",
      "Extrinsic '0x66fb4d8bf588f818851aad9a2bb770eab1841e300d0a11b357122c461a457521' sent and included in block 'None'\n",
      "Extrinsic '0x580c334b3c687fc40a9f2c7b76cf753b69e6a938bbbe9cb3284af0d1d168cee8' sent and included in block 'None'\n",
      "Extrinsic '0xf72e58f4ab6996dd768867b176e3fb15883e0697a01463d7385848cb14c2bef6' sent and included in block 'None'\n",
      "Extrinsic '0x0e8ce6aecf64d8bfa8029d03180c8366ba9cb443dc45e32d18da65df4d7f2894' sent and included in block 'None'\n",
      "Extrinsic '0x023068cd2a5201d894d1905f1acd7515441fa34d5a62d3240ae95d0057107ea4' sent and included in block 'None'\n",
      "Extrinsic '0x32b314cc156181ce1078f32046f000bab1bb1a03f5b0b2e05c1331cf48dbe0ef' sent and included in block 'None'\n",
      "Extrinsic '0x7e9bd33137d6d8899dd89bc66d196dd04773f3a834cc5110e7f801eaa87bd17a' sent and included in block 'None'\n",
      "Extrinsic '0x607da5f042aba54f2432317bf84c0bd40d3778701c3e92859ad5964bac6dfb03' sent and included in block 'None'\n",
      "Extrinsic '0xb93718873149a4a08b080d77bb99c54906fbe36c0ceac70cd1a67e8cd4615419' sent and included in block 'None'\n",
      "Extrinsic '0x8998fcdaa3682cebd0eff115c50fb7e17eef9b2c081ae1a598bb2aec7488e458' sent and included in block 'None'\n",
      "Extrinsic '0x9e085435382247459bad5a9333d8fe809887e59c3b8fa34786b2b5f8721e79ee' sent and included in block 'None'\n",
      "Extrinsic '0x53a44374a11709ff7ccb678db409161fe1a2d19fdb160afb1ef41c87e843c4ce' sent and included in block 'None'\n",
      "Extrinsic '0x072ad4657a7f3c182f57c67f088a5b35fd0037c37cbc46e5dbbc45ef00fc7dd0' sent and included in block 'None'\n",
      "Extrinsic '0x777f66a89e9690bd55f1d206624913d3c469570b941b44bdc135709fb0d16791' sent and included in block 'None'\n",
      "Extrinsic '0xc9f4280cf32c9a16c47bdda698f55b3568f7945a6857aed513a4130c7ac41323' sent and included in block 'None'\n",
      "Extrinsic '0x10296fabac9591304e478c619061219746d975ae08ce806898189e23531977ee' sent and included in block 'None'\n",
      "Extrinsic '0x72fc1aa04f22374adad7be9197756ac07db82df1554af5fb569f5d7880b3581d' sent and included in block 'None'\n",
      "Extrinsic '0xa57459a3372cee0a601c561e3940a704ff2c163326b3ac83ab843af46835ede3' sent and included in block 'None'\n",
      "Extrinsic '0xc1bed72578baeff308d46dad42b3482d15d8b8f16bc9006fbbee1b9908785b00' sent and included in block 'None'\n",
      "Extrinsic '0x095e07182f56d2b309ee74fc89a9bf82ad9b994b497ac3a2d97a117e08d68d85' sent and included in block 'None'\n",
      "Extrinsic '0xa521a6b9a4447f7e010615e1b95ea5eb9ed306277369008af928f61d9b295032' sent and included in block 'None'\n",
      "Extrinsic '0x7f35fcc3876f17a09ec1aea68f0ba46663db797956564ea886248e444ac3fc8b' sent and included in block 'None'\n",
      "Extrinsic '0x4b4c3ddeccdfb9e1e780d7a2d0a101affefefe780c0ca663f01ecaed148396ed' sent and included in block 'None'\n",
      "Extrinsic '0x336e3fcc29d93fc30e32683df3b9b91a6e1b0df47e568fb2fdf95f23920d0c05' sent and included in block 'None'\n",
      "Extrinsic '0x438c62850862cd351d7d10af664f0a51dbaf7823b50c0d5538f08a931328ee6e' sent and included in block 'None'\n",
      "Extrinsic '0x614e464c9e442da634574ca67235640ab6761a7cbc9d9052c2f2747a84f93ad0' sent and included in block 'None'\n",
      "Extrinsic '0xe6a41e6233e8b178709f63006ca0380c018bf121e700a4972cd7b0ab5e4933e6' sent and included in block 'None'\n",
      "Extrinsic '0xc6349abb52fd151b1ab50820bd01e9b17bc74258eae3b733f9b3a0d18b69488d' sent and included in block 'None'\n",
      "Extrinsic '0xd0c3312e7f9e7a70c510e28a92efc5beb9b14749c6d68a12f6b2c649c3797215' sent and included in block 'None'\n",
      "Extrinsic '0x4e5144d0631db63d4e85e561e12fa81f4d20fceb48d64c0f18e673884b7a163f' sent and included in block 'None'\n",
      "Extrinsic '0xcdaf29ee49726226a56f3cb7ecc666bc54fe119c8ad985b5d37f6da2ade6f9cc' sent and included in block 'None'\n",
      "Extrinsic '0x481377bc35b074ca8bdd41343b1c6600ccca246cbde8c866bb73095bffce5926' sent and included in block 'None'\n",
      "Extrinsic '0xd783c9af7b10f8f235091d7f465e72e8e0ee453532515476265192d2915e6cf4' sent and included in block 'None'\n",
      "Extrinsic '0xae39b7167126db45bebbf25309196dba59439a7d8649eeb5a51080da1b1b92b8' sent and included in block 'None'\n",
      "Extrinsic '0xa9d03024a509e556292ffbacbd2f7d757fa7a1441aa1cdd8711a8f72df4e79c5' sent and included in block 'None'\n",
      "Extrinsic '0xeb59e8cd3bfa405d8f5afcb3016bdec1efdc2877c27c46c447e5f0628774e3e6' sent and included in block 'None'\n",
      "Extrinsic '0xe553923f55828b4b0b5561f06ced4d0e7b074259ec59547093faf14b9623967c' sent and included in block 'None'\n",
      "Extrinsic '0xf4d6f146c93ccbd00803efdc4ae2b357418a992ad88eade62145c797f3ac3016' sent and included in block 'None'\n",
      "Extrinsic '0x0162275308207d6b69fc9d492bdbc28808b037bdb777bb54b40be541a2f38ca9' sent and included in block 'None'\n",
      "Extrinsic '0xa827a07bbe892d683f12b8e8a714685a8e17e13bb863bfe7f171651fed77dec2' sent and included in block 'None'\n",
      "Extrinsic '0x745cecbb614623ee2e4e57a020920b658ce4d6ab096172a11b657eaadb274d7d' sent and included in block 'None'\n",
      "Extrinsic '0x33e732af4036096978ebbaf0b6dc2ffd4ba80d6446e221d107ab4fd91b16d390' sent and included in block 'None'\n",
      "Extrinsic '0xb995ce513d23247e44d692b2dea3d842c7ab6532c0f96dc360b516640a0a68f5' sent and included in block 'None'\n",
      "Extrinsic '0xa4817e25ac5b06ac8936a48e15bf11a1e85ba1b6564a71c3b6995f2002523778' sent and included in block 'None'\n",
      "Extrinsic '0x06650861a06665140c94558568cce5f0c5a98bce1eef3413157ca63b6ab01a67' sent and included in block 'None'\n",
      "Extrinsic '0x47cc17c6e6566b83b251fbc319bb7bd98460984772fb959f10abeb4c7f1caa5f' sent and included in block 'None'\n",
      "Extrinsic '0xf76496ba65ece9460aa2f15a22c619fcd6147e136de71cf08b3d3c08e164165c' sent and included in block 'None'\n",
      "Extrinsic '0x076af0b070ff1971b327ac9434dbd6f5c3f7ec1799325ad3c7c2bdc5491138d1' sent and included in block 'None'\n",
      "Extrinsic '0x2453867faf962e1dba5a43da2a94f5ca53131f32ee916e5ba3e0c67291751b91' sent and included in block 'None'\n",
      "Extrinsic '0xc1396df6c50a4cce747f95f1337cc9e0f50db66edf5d2045cc2f7b88543ed4e1' sent and included in block 'None'\n",
      "Extrinsic '0xf33d0f98cf66908d3100d178bccbb91ef1ee2490ba4e0684431a69a0f360fe15' sent and included in block 'None'\n",
      "Extrinsic '0x6ea233c88e7e7c7fabc7b1f5a1870d93854b2fb6c927b3ebd2c94d97887c34e4' sent and included in block 'None'\n",
      "Extrinsic '0x4a9ea21491a7d4a10f458367dab0baa8ee83f93bd3719bd5f718b5bbe6024f78' sent and included in block 'None'\n",
      "Extrinsic '0x0b17c1e13a9457b6780668f089e4b32120021a7aea2eadff4fb1edcc60507185' sent and included in block 'None'\n",
      "Extrinsic '0xbba005a7276c726c69c4565d5f8ed7aeeb333e35fd41e1c0254a94401194796e' sent and included in block 'None'\n",
      "Extrinsic '0x5399af0176419f76d55dd82e521832575b9bb3d8ab18399a430170df6435b0c6' sent and included in block 'None'\n",
      "Extrinsic '0x543794e518f12bfbb9106ed13663226da33d34a70d71a0c9e8fdc9675a6b1e1c' sent and included in block 'None'\n",
      "Extrinsic '0xd920b198e8f9c7ed14c1cdadfeccc2a8b1b76d2daf09824bc78da71c562dfbdc' sent and included in block 'None'\n",
      "Extrinsic '0x42b117831b34763cc8f47aac212440acf161bd05f130dcacdf327e911e6c1afb' sent and included in block 'None'\n",
      "Extrinsic '0xe7ae420aca9b0d2b732bfb1a45aba40f96eb0ccf51160eb1ca90b2e0403db749' sent and included in block 'None'\n",
      "Extrinsic '0xd66bb16af609affca7c8789bb07fa0a0a108262314ce4a0f9ecd6ab19054058d' sent and included in block 'None'\n",
      "Extrinsic '0x6e540b8a5360519c949ad242095db2fa6a09937ca86f89744d21297a7b3aea66' sent and included in block 'None'\n",
      "Extrinsic '0x4c5350b071e114d1287796143d4761f45988836a04bb9c161f8bc59aa6b285c3' sent and included in block 'None'\n",
      "Extrinsic '0x51c4276bd7b9c661410e99ca0ad327b98f39042216ffc4e0afa9f7214eb83b4e' sent and included in block 'None'\n",
      "Extrinsic '0x20b379042eeb4f30a5dfae9d9404d2eb87863cc084783b00d1eec798863352da' sent and included in block 'None'\n",
      "Extrinsic '0xe60f6321b001012025872b1a57fee36afc05708a504cd2e1bea764fde3bd109a' sent and included in block 'None'\n",
      "Extrinsic '0x198664e7e9136aa283ecd48644cdbd5a4c16533fa1c1ae1960cb1141197bf579' sent and included in block 'None'\n",
      "Extrinsic '0x62621c2481ffb1f9f1a579b585423e3a9a2813da6d3a7964531f71ef02acac86' sent and included in block 'None'\n",
      "Extrinsic '0x62bb98919efc2c9bb871baafe29e209773bd71d25069495fe9344d3dbfff4b46' sent and included in block 'None'\n",
      "Extrinsic '0xf2a5b89be731b705c9ebb9a16b5cc2d9be4b49de0993d410a137455064b63045' sent and included in block 'None'\n",
      "Extrinsic '0x2544180b5e7f5050b0732a1aa7a08259997b0dfd21522cec3f3340214c90dcfd' sent and included in block 'None'\n",
      "Extrinsic '0x70c614d6747b15c1d0b6d18f3410470774f066a65c5fd87c7acc859c00403ea8' sent and included in block 'None'\n",
      "Extrinsic '0xa36bb24f0ea7ecfd31c0694ab5776d33416554856661f8d40fd7151b7dd54b48' sent and included in block 'None'\n"
     ]
    },
    {
     "name": "stdout",
     "output_type": "stream",
     "text": [
      "Extrinsic '0x21c9ae05f7bbed4eb196a18fbac732d1bb80b77d20b655f10af80580b213996d' sent and included in block 'None'\n",
      "Extrinsic '0x4890ee5f20ade2ee944c98beb42e9481ed9779d662f59cbb4efd31ed9db3d1ec' sent and included in block 'None'\n",
      "Extrinsic '0xad8f092bb694f500c8c5b247d875a6922a83e2986a8f876f19d28440d2efe93f' sent and included in block 'None'\n",
      "Extrinsic '0x28cbd5553a36755a25a5c33587d4f37667b6f1e25faa1d46e819b660c12a7fc4' sent and included in block 'None'\n",
      "Extrinsic '0xf2707f3141d8b6b90a565f82eb96880eb7b194bccf408fb93f60a08c033587d9' sent and included in block 'None'\n",
      "Extrinsic '0x6ff7f40bacccf2548f0d05c45568e85fb12ddfc0d35531593522145877ad699a' sent and included in block 'None'\n",
      "Extrinsic '0xea3071ec52016b4ae1941c62b39dc7b7a3594f7f4d05f0e59708bad8130452b5' sent and included in block 'None'\n",
      "Extrinsic '0xca4828c653b432269c520add13ed46afbb9789e80d66e2dd1d1c08d3c65d56ad' sent and included in block 'None'\n",
      "Extrinsic '0xe2bfa7c30ba972c8b10a6bc2f0f65f77d500ea9da0ebc79a81eb29c046ea5b66' sent and included in block 'None'\n",
      "Extrinsic '0x3a24365cdef1b1514b2ffbe5a2e4b406040df65470a836776d64096b88d9037e' sent and included in block 'None'\n",
      "Extrinsic '0x8617652db97fc6f8bf57ea5105eba3a8ff4ac504ad9b2a0118644a043f8bdde0' sent and included in block 'None'\n",
      "Extrinsic '0xb27f2741ba18a84f407586b5f86b06bd1f741eb4f0ca6f05fccc80ed4062e871' sent and included in block 'None'\n",
      "Extrinsic '0xc6324c3c84d928865506d987f96d8c437e6e9e0b9f7482cdee41b6cc7326c5e2' sent and included in block 'None'\n",
      "Extrinsic '0x982f7b976f3d5b7df2b938303d3a4d1ed35e5e2985ab0e1937322d76764b9bbf' sent and included in block 'None'\n",
      "Extrinsic '0xaafdd4baccaee7618e8d54ae0e4f9617776408c4493faa698fdb8e7f33ca0b16' sent and included in block 'None'\n",
      "Extrinsic '0x0653609f85c3c8d6e70b5c9e331b272240e8658eb468729417ba6559f549933b' sent and included in block 'None'\n",
      "Extrinsic '0xbdb20b2bc92f82a43dee1e97933d8b09e339af5763ccc41925d3fb2b2f26df21' sent and included in block 'None'\n",
      "Extrinsic '0x83b208fc80b73bd12e819a337fc035867aae13b0d3a43ed89d55c87c0b62c173' sent and included in block 'None'\n",
      "Extrinsic '0x098262469c2f19b981b89e2a0eeb4f32f08856d140030b14d35f8c9c1b9b2f0e' sent and included in block 'None'\n",
      "Extrinsic '0xa343260bed837b6f2723305295c64d92fb530068637d0dbbd53e7d6194c40584' sent and included in block 'None'\n",
      "Extrinsic '0xf0cc917df0126215737e65bd1a8218acbc4bf3234f4f11fc23ff8af7e3874563' sent and included in block 'None'\n",
      "Extrinsic '0x0446fd7f539775f542163708fd138eb817633fdf175ada4cd1edad59985a5bbb' sent and included in block 'None'\n",
      "Extrinsic '0x554591ab79b0ae324cf340e3c53622d780279feb3a78a2c084ee361cbd403486' sent and included in block 'None'\n",
      "Extrinsic '0x4d66291d6e8ca9ba1d975fc4b9cddacdec656ac507d5692720ed283789c7d954' sent and included in block 'None'\n",
      "Extrinsic '0x1394e179794118fb52f26446321f8aa9cb3379df9b358b0b18420368006399e2' sent and included in block 'None'\n",
      "Extrinsic '0xf62eaa6d9964e0912f0cc4c6ed2947b0ea3a74da83c538e3b0de3a024e0c3151' sent and included in block 'None'\n",
      "Extrinsic '0x14d72f849198965ca435c5e9af75d4c5bc0b82d5cf66050da907c659341cf714' sent and included in block 'None'\n",
      "Extrinsic '0x35fcb443822de819294b1cda10f170a9e5bd3601d0d4d9715903b052574db50d' sent and included in block 'None'\n",
      "Extrinsic '0x30119d43fb01316966b04006d25dafdfa40f417b27ad389d248a8d3b48cbded1' sent and included in block 'None'\n",
      "Extrinsic '0x325f78f18fcfecbef8405e045ac0a68425c4edef97ec477cbf232970e76135e8' sent and included in block 'None'\n",
      "Extrinsic '0x335672df78481953c4ad2c8f13b852a9b1e86c6ca920c6803e7bb24249310d2f' sent and included in block 'None'\n",
      "Extrinsic '0x9c5163ea336e8052c39e43f79b64b2e9fa1269da8e8e34f0d955897b636dc1d5' sent and included in block 'None'\n",
      "Extrinsic '0x6dabb857eb8ae48b048c701ee7ab49ac8f7e8e6effd41cd70fce0b368c94413b' sent and included in block 'None'\n",
      "Extrinsic '0x9417d97c43ab5af3c7014d6343da264d7341879899fe4b651d7b97fcb5a4308a' sent and included in block 'None'\n",
      "Extrinsic '0x5f0fa84a8c9f3f0f3c744bc425d1ba95cced22a06e9896f0ee49c1c3f9587e45' sent and included in block 'None'\n",
      "Extrinsic '0xbcce877ba2cd55114e5680da64423cc64fc901828ade14862298c3f8050a4277' sent and included in block 'None'\n",
      "Extrinsic '0x82a9351c0b2e3e8d3a63927c25913bfd5aa490e054d2278064edd19c9a9b5178' sent and included in block 'None'\n",
      "Extrinsic '0xc0adac69686c6e62edd4fb8917b5e955a3d94afcaecf5f9411bfb3d18e27adae' sent and included in block 'None'\n",
      "Extrinsic '0x2e0a5187630dbf7f8c6f81cb9537a3c1ca9a34e097bc069315efc0c1fc524ca6' sent and included in block 'None'\n",
      "Extrinsic '0x1f7f614b119bdcbc3daf4ecc8e37076c1fec047fe79ab08feb484b462239eb2d' sent and included in block 'None'\n",
      "Extrinsic '0x80b01ae6d46c686563714f7f11d9e082fa39f2e62b778bcbda67f5504ad96690' sent and included in block 'None'\n",
      "Extrinsic '0x72cb5ef83cc918bc1489052fcd0f5def2410c963170168f6298d25cc3e84be3b' sent and included in block 'None'\n",
      "Extrinsic '0x3e1628d59ab3f45f0ff4ded6dfbd2f7f29422cbc277e3e9b697659db1d05ed12' sent and included in block 'None'\n",
      "Extrinsic '0x6006fce7d7586879c937f485738b2c842e41f9db6cad839af82e98c132c27694' sent and included in block 'None'\n",
      "Extrinsic '0x2560add577b98e3d08c85b06399d51f809d3b1252005f03b82ebf134886a295a' sent and included in block 'None'\n",
      "Extrinsic '0x3a850ee92a587d31c71bd39e92a201128a5f33ad829b36f147a8cef6b5e073e9' sent and included in block 'None'\n",
      "Extrinsic '0x31e59ce545733cf60a03e26c4d1481aa1b620cb564fdcc47cb1aa029b83f4df5' sent and included in block 'None'\n",
      "Extrinsic '0x74f5f5723e31d65647debdb8aca40c5013f044e597c8837bd3c66dc3dc2dbce4' sent and included in block 'None'\n",
      "Extrinsic '0xb8ea2f76acbd949b62525525085859f2f572dc7a4e4129a31c0a210067ef4ffc' sent and included in block 'None'\n",
      "Extrinsic '0x5c285e6399ab4f590bef60dcf027ead62f9bb5b64418cc7f104f63f233f08f7d' sent and included in block 'None'\n",
      "Extrinsic '0x68e823281762db171a8ee6b2664e9b8d3922b557036b8b6a66e8b8103e2d384c' sent and included in block 'None'\n",
      "Extrinsic '0xf268c56e0245898136cad569f5bf7768d6de18fa236cd55e07a09e35842f3c1a' sent and included in block 'None'\n",
      "Extrinsic '0x84f38abfae64775f5aec914744fd2a30cfe26fcbb4c2b5cd4729ca419ce9eacc' sent and included in block 'None'\n",
      "Extrinsic '0x88952859ef62ccca354786f5ef41430f7fd8edd3a4f26e8291b66f3522296e18' sent and included in block 'None'\n",
      "Extrinsic '0xa8f28b98790a60598c593bcd87af1087ec8a1d58c72ff6a364462d4b1a4dc059' sent and included in block 'None'\n",
      "Extrinsic '0x17fa4b27a021ea6ed3684b18fe50c8f69306a184f1b01ce84c6d8db34c7487c7' sent and included in block 'None'\n",
      "Extrinsic '0xdf57cbc58334e9434a15ac18b1367bb3d3e7fbda6ebf4ac8af96dbd2ddc7bd0c' sent and included in block 'None'\n",
      "Extrinsic '0x2fafc4f9f92e01aa751b381ae5be8f891f3fa36e7545fcb14a6bc9b2e732aaff' sent and included in block 'None'\n",
      "Extrinsic '0x12c61d36c0ace2a03ddc776a7034c33ea6efca7afbb3551112ca183fffa5294e' sent and included in block 'None'\n",
      "Extrinsic '0xf8ca7c6ab3be6a416492d4e014f2c90e2c7e34fff6e882452fbfb84b6777988f' sent and included in block 'None'\n",
      "Extrinsic '0xf1e85f49445e114c8975a1f54503f61f50b8d97ce93efa3a301d1079ea963e4a' sent and included in block 'None'\n",
      "Extrinsic '0x6edd31eb403c73b59c35057d0571f39ad3f0ba7a67b704b53103510375fda7d7' sent and included in block 'None'\n",
      "Extrinsic '0xd379f3645c2a7e9a35b9d8e0ea9a2c9a212ee15ce69315425f67a9179365744c' sent and included in block 'None'\n",
      "Extrinsic '0x4b5cc879f1834b210666e325d4345b18bcae5d55659a02909c9942b437969ea7' sent and included in block 'None'\n",
      "Extrinsic '0x709c2ef0350fd9499516616ec5f8db9f8f2639936fd76515abfcb67320bb7229' sent and included in block 'None'\n",
      "Extrinsic '0x1ff180a86d8c3c397c08f3b50a0bd8626cf0b190e197a83bde8320161635c653' sent and included in block 'None'\n",
      "Extrinsic '0x12a699a70c2a070e96c1a9bad2eed44d64fc593a537ab4d2458b04ba449433be' sent and included in block 'None'\n",
      "Extrinsic '0x930d84779a46880c819ff92fb6392b58146918eecf719775715457522d053960' sent and included in block 'None'\n",
      "Extrinsic '0x92831cd4ad84e94e7617340174f357c80feef5c945633a65feb988c96d9e66c6' sent and included in block 'None'\n",
      "Extrinsic '0xe2eecddf1f6ad2a86a614ec62f2195c346a5d3fa8b3959aa8090bf601da6bc52' sent and included in block 'None'\n",
      "Extrinsic '0xcb307052ede09cad018aac4a48bdb52f3379e7a99e70356459cc3305f9187b71' sent and included in block 'None'\n",
      "Extrinsic '0xf3feb817e7a54b8872023fd8d45a81709cffa955b279594f9325e556833a08fe' sent and included in block 'None'\n",
      "Extrinsic '0x3e2b91b10519a10a37e6cbfc823b93330cb1c10022e36724e832d853e29de264' sent and included in block 'None'\n",
      "Extrinsic '0x01e42850e83f1d277de5f95be50a818ba1995e97fdaf5a902f1771c8f32a0239' sent and included in block 'None'\n",
      "Extrinsic '0x9e4e600a343702890218352ecfe57a1eecaad37a063ff45eda98536ffff7bf7c' sent and included in block 'None'\n",
      "Extrinsic '0x3b57086d367040875d93d02b4240b133aca82c7e0e20ebf7af1b4ee21b536db0' sent and included in block 'None'\n",
      "Extrinsic '0xf06f8749f9567c3604ce4f892076fc59bea8fc4f3f34f119e8c65ea43a99f425' sent and included in block 'None'\n"
     ]
    },
    {
     "name": "stdout",
     "output_type": "stream",
     "text": [
      "Extrinsic '0x7547dd2cd3392706a136d65a112241144023d4db99ad7baae86bad2ce2a3284b' sent and included in block 'None'\n",
      "Extrinsic '0xc6e9d361fbc4e980b961265e8b3d0bf71b8b8152ff3f3387456102f5412c68d7' sent and included in block 'None'\n",
      "Extrinsic '0xbf26dda559422b34d875e18b6efa19de8e29c8ee0ff76252319e7598fa1d5873' sent and included in block 'None'\n",
      "Extrinsic '0xa9e154e064017ec1641ca9e645376c9900f047304808894217f4113081983caf' sent and included in block 'None'\n",
      "Extrinsic '0xafedac80d3581fa2d7db64fb3f867fed726e726c949abb8fa12d8d5664120ede' sent and included in block 'None'\n",
      "Extrinsic '0x439f31bce2334934afa3fa1a99b3e6085c72ec4b1efe036f6daceb589b850dd1' sent and included in block 'None'\n",
      "Extrinsic '0x2556a4f06921b8ef50ca343618e8ee9d8d509e8b74c7a170fa3368141399fd51' sent and included in block 'None'\n",
      "Extrinsic '0xbea1e2d06ae1fa98b4f6cfdd7abbd72f039772a75d089675281af2740c62e72a' sent and included in block 'None'\n",
      "Extrinsic '0x2723278e4cc2e8b43d272b232c64081bfd155e3e9101aba6c241a6ee872922de' sent and included in block 'None'\n",
      "Extrinsic '0x7ca9e9eb45d5143d8f8dcfa84cb0d25f7a18b02816a0e4ac3d5ae3d3f1a8ade2' sent and included in block 'None'\n",
      "Extrinsic '0xf529dfbe1048713c6cb63481d6666b874742f6211c019b2e7982f9a28794d392' sent and included in block 'None'\n",
      "Extrinsic '0x75a36b11784fe38f07f5bc41f191baae4ed53b5705826f7f1d7efd2d4672fe4b' sent and included in block 'None'\n",
      "Extrinsic '0x34362b41dd881fc6c41606da14e8756e7cb6a049fc0e5a79d6e7648c8b152f58' sent and included in block 'None'\n",
      "Extrinsic '0xe08bb6912f07b183fcad0d25dbfad99135eb4f29b435d26b34681d445b3e0151' sent and included in block 'None'\n",
      "Extrinsic '0x59cbad1b7db5929898efc72abf9a87e2d3201eed890f4406bae7c39dc765a191' sent and included in block 'None'\n",
      "Extrinsic '0x88314359d83d2c5331e9ca44cb9862da9ff6040f7647e1dd882e3ca4b6bd4348' sent and included in block 'None'\n",
      "Extrinsic '0x4d94cee7dcd742831d00b60a900b52452a5dd9172d252881d1632148dfd33417' sent and included in block 'None'\n",
      "Extrinsic '0x72c4297cbd4bd1408eb26b462bcf73c2c35c424a1852aed17254df275cb2e2cf' sent and included in block 'None'\n",
      "Extrinsic '0xf0a17b7e686fc871387a484f4d9d58273e5631963a134b9c216cae8f37541742' sent and included in block 'None'\n",
      "Extrinsic '0x9cbe1d1ce49f6977b3d5e56b2bbb08f12569b7cf4724ed01a342dfb245f3ee01' sent and included in block 'None'\n",
      "Extrinsic '0xbd324934e94813f8620abdcb10a7c31a81d455d3da5d3874744f9a0f2af15c14' sent and included in block 'None'\n",
      "Extrinsic '0x2be7c6bdbb4622fcb640729203b238401192694dae57f0be91b395d207ff512a' sent and included in block 'None'\n",
      "Extrinsic '0x1af673fd9222a40d1dc97f462e332d2992fcc42b289dbcd2eab642266b73738c' sent and included in block 'None'\n",
      "Extrinsic '0x2e23b0a4afd1a7a18bd47014b22eee1538845d5bb9e3cc068a9303bf10f43814' sent and included in block 'None'\n",
      "Extrinsic '0x7fd17a97a31c9fa65c0d115a00c8580064733235ef1d64577a13cfb3691b6d73' sent and included in block 'None'\n",
      "Extrinsic '0xd6d06e338e93373b4818c3a2cc27d079412bb29371c6778182663832bc930fde' sent and included in block 'None'\n",
      "Extrinsic '0x9b7f108b9ccb343ab063a2ed835258e8db5b80c49a9b4c284d31d861f6eca037' sent and included in block 'None'\n",
      "Extrinsic '0xe6dff01b606a8d9477e2aa8ad8337df6dfbb2ef7b5209d8db44cd09d30a6c48a' sent and included in block 'None'\n",
      "Extrinsic '0x9924e6648209c81f4d914b8f80371aeb2a8a69ee06e1da29fc2e34f574e88d12' sent and included in block 'None'\n",
      "Extrinsic '0xf2faf9685bba7871615bf79be5de2dc5683d53e074efb9dce9f154c726eafc85' sent and included in block 'None'\n",
      "Extrinsic '0x54887a22b61dc5e6efbf6f9be9071d95ce8379f76dcd2e50d985026c2eb34d1e' sent and included in block 'None'\n",
      "Extrinsic '0x9df19858adc73ca496b7d38ce0a4c30b71d51fddbd62aa78028655db65af97e0' sent and included in block 'None'\n",
      "Extrinsic '0x811baa7158007b5b3cb65b5f96a28b2aa6cc09d7c752a7647a900044b1c0e991' sent and included in block 'None'\n",
      "Extrinsic '0xac94221b78879ebc87de7ab24f61d2ba5215bf5240632e51ff0392aee9a5b504' sent and included in block 'None'\n",
      "Extrinsic '0xf36820526fc2456f66bdb3fc4f63c044dde634cce609f839da5ade21ae14bdb9' sent and included in block 'None'\n",
      "Extrinsic '0xa5a2e0d92beccfb9b04ccdc00b4d41998cad7d291913482da5794ae7e752fce0' sent and included in block 'None'\n",
      "Extrinsic '0x6c7d6e5bc503073f7c332c6c27db8bab378b41a564ff56969bfff4480d8e25dd' sent and included in block 'None'\n",
      "Extrinsic '0xd943a3d0ef4a31bac5bb3dbf2b0ddff8e840e9194ce851ee00b2919e55ce9909' sent and included in block 'None'\n",
      "Extrinsic '0x89c0ebffd0ed02e2fa359586ad29722ccf39abd95f4b6bae6c317f2471ed665f' sent and included in block 'None'\n",
      "Extrinsic '0x9b1c2a1f3fb28bd828873ceb18ddcc628797e5f5321dd2cdfb52f43cb416574f' sent and included in block 'None'\n",
      "Extrinsic '0x013bac30f3b87befdca7a48bb37c7e31bec4b440038d3e01e2012cb0b1422211' sent and included in block 'None'\n",
      "Extrinsic '0x95aaa19248e24be3e9ee5765485819aced6fd88dd0d4c9ccef835108eb34dcb8' sent and included in block 'None'\n",
      "Extrinsic '0x97085d5d97fe942056389acb12a20ef71ede568179225a6c5681c5d57ad0d715' sent and included in block 'None'\n",
      "Extrinsic '0x585c3bbf56f3137e4830d871b21096a2ea39dafc8cfb3c0c9e395e58ec95c573' sent and included in block 'None'\n",
      "Extrinsic '0x3e037505dd69f0bd5bf7e758a898d30f8651c79ed67d9a843b195af11aa15e08' sent and included in block 'None'\n",
      "Extrinsic '0x46ddd9a1d9e11c1209fdc0df0c34ce372c3520381a40f66b58c11cf8fd13c91d' sent and included in block 'None'\n",
      "Extrinsic '0xc56fb086e39e5b819c3a3a60b407524fc23b841ad06b8d7dda1b99a3a1e1e993' sent and included in block 'None'\n",
      "Extrinsic '0x1642a341b040aa42ce5a4a62c5adac113809886c897bfc7ebf8c660f130f77ab' sent and included in block 'None'\n",
      "Extrinsic '0x1d74ff0d85e3be0b7fa22839206545aca5a0392c91485fcaee7eb9995064c99b' sent and included in block 'None'\n",
      "Extrinsic '0x800403fb57c8f4d1d37ed675648dc20853ffc319922d18ba0a1329ed3fa9524e' sent and included in block 'None'\n",
      "Extrinsic '0xc03266d39f87ecb0caf74b310cde91f3eb5403a247580bb618f2cbca8035d142' sent and included in block 'None'\n",
      "Extrinsic '0x3f10ec2d0f7f1d1a4153fd341a148d618eadb24c5b9249feeba8427c753a6e5b' sent and included in block 'None'\n",
      "Extrinsic '0x30a1be04d72ed64198e4e268d8bb2a6b7b890f9df5fe08a7b1313d1f4c0b315e' sent and included in block 'None'\n",
      "Extrinsic '0xf717e8f526c58998df6cce7293af1ee0da277f476fa65a1a3231705e3a6bda88' sent and included in block 'None'\n",
      "Extrinsic '0x72fabb2158fc815996b1e32df543cce89e698c55436c3ec8a5bd99c7ac5960b2' sent and included in block 'None'\n",
      "Extrinsic '0x220aedddd46e679bb0afac50b63899f0ef4b0940f437abc644b1bba9df390e5c' sent and included in block 'None'\n",
      "Extrinsic '0x1dba7a88163b5bfeaa05550010d3fa6a59f4291271d81e22e9f7681eb2faea00' sent and included in block 'None'\n",
      "Extrinsic '0xfdacd9a53445fa68c6d67a94f90f92cc159055852c3887a7eceecbdcccdd8708' sent and included in block 'None'\n",
      "Extrinsic '0x4920407399389e84a774ab092f1cd32a00346ce9359fdc30d11118b8e396262d' sent and included in block 'None'\n",
      "Extrinsic '0x94d3c60b429c39d305a167fb433396ea75fc7bc937013694adea6296ecd83c05' sent and included in block 'None'\n",
      "Extrinsic '0x6990ae5d1d6932cff17b8864218509d738237003e8ec9a5be7d51505921ecb10' sent and included in block 'None'\n",
      "Extrinsic '0x348e82926810b2ff9f0ccf25904f01681e0eda3b45020dbc1fb91003c73d24b7' sent and included in block 'None'\n",
      "Extrinsic '0xdff193f0bcec76bc14855fe0e9c8c2c73b891f8852f1e51064bf8753a7f2a366' sent and included in block 'None'\n",
      "Extrinsic '0xb5253ba43cb3ff3a3c207c92231a600105b797325386cea603952aadc5715dd9' sent and included in block 'None'\n",
      "Extrinsic '0xc3fde21964a44a2cf4c004ea35668b2ef3bdced684510bc5024d3ac5208c1850' sent and included in block 'None'\n",
      "Extrinsic '0x39a41b7f0acb8bda903b06404ad52f8b87f1178ee39721bed3304fea33e221ca' sent and included in block 'None'\n",
      "Extrinsic '0xe7823eb7ab968497fc855034d19799ac3670fa7b5cf69eca2e74fe60fafc1767' sent and included in block 'None'\n",
      "Extrinsic '0xc759986c6664a1f3b687941561777d310ac11e266f99388dae293e2e11b57221' sent and included in block 'None'\n",
      "Extrinsic '0x153a634d121e4543510814fc495230f2642b0b79627054d7e0780e9063be1bae' sent and included in block 'None'\n",
      "Extrinsic '0x88a23694814df3e67c1184377807deef2203b5fce15491aa613695a3761fa5be' sent and included in block 'None'\n",
      "Extrinsic '0x7a8bd5cf26a3a124ce5ee92ced138bd25a594bac306b8288b9e2022f487c4051' sent and included in block 'None'\n",
      "Extrinsic '0x1d1fcd3622846790e1378ef21a78ea48f2d1615bece93099815e3d2faa4658ad' sent and included in block 'None'\n",
      "Extrinsic '0x4466df7b930d0d7f4a96f6d336a7e58e45907426069c1cf156751f189b8f05b1' sent and included in block 'None'\n",
      "Extrinsic '0x8181b11c514233dfe0329687c07dd2860f624ff321760dadd9ffd1e516bc2dcc' sent and included in block 'None'\n",
      "Extrinsic '0xe8ded55453f24b0873b8dd43a15d7897925bab6064f2f5f4c209773d920aaabf' sent and included in block 'None'\n",
      "Extrinsic '0xd3e2540149f2583e97df9f9a7399988d71ec622cec9b50c4036490756ba32b26' sent and included in block 'None'\n",
      "Extrinsic '0x2890d9915e5946f5f6d8c71cbe5f2541baa485ab47154444bc47ce3234c66f83' sent and included in block 'None'\n",
      "Extrinsic '0x3f2cba406f89edc3fe31426bf790a137e7e691801331d08a69b1c0e4c87ff6d4' sent and included in block 'None'\n",
      "Extrinsic '0xacf33d157e785a12224b34ed1bf1aed8f0490440e1f9c26b2ce63dd5932eff50' sent and included in block 'None'\n",
      "Extrinsic '0x8af7eda9ea337fb6c51777f8f932e76fdf724f04c8ec732376df842636ae35b4' sent and included in block 'None'\n",
      "Extrinsic '0x8f884131fa3854facde30bbffdceb2b24cae2a19c5ab87f41bf24551b484f261' sent and included in block 'None'\n",
      "Extrinsic '0xb7ced2f98877e5dd052e2575570041fb0d078d282983a5d94a330201428ed37a' sent and included in block 'None'\n",
      "Extrinsic '0x7f4170cb16c660c940e39ebabeaf06605e1e795cbd411b79bb65408c88e19808' sent and included in block 'None'\n",
      "Extrinsic '0xfcbb3a2a39db3ae4641f316aa530f885a3f54eb81c7eeed9bf5f45846f02f567' sent and included in block 'None'\n",
      "Extrinsic '0x563e5ff74a7b24a1ead7827981335b05b92ef2fa6777459243e57943d7e104e2' sent and included in block 'None'\n",
      "Extrinsic '0x8c10abf3c6757ee1dd3770d54efa6f80aa0103e8e4836bd98fe1a7a714d05dba' sent and included in block 'None'\n",
      "Extrinsic '0x98a43b05c77c3d5a740741a5e62954276ee80f013bc4b6f52b38502064399aa3' sent and included in block 'None'\n",
      "Extrinsic '0x960d5e3b9b0e0d29c5e59bcc6b43ae39352d71566253aac463702a0473728136' sent and included in block 'None'\n",
      "Extrinsic '0x5ab1af8ada0f0f5701ab8fb82aad4b1d6ca06496716d3dfd2d4cc653f8cde827' sent and included in block 'None'\n",
      "Extrinsic '0x4291e13e008d5753d578b873d97c1b7310f38e5b9fcde8ad287406b236310980' sent and included in block 'None'\n",
      "Extrinsic '0x967a1cc1dd7e90cc1ef9689f2d63107e0df24b5bacdaebf78b1dbc45d99380b6' sent and included in block 'None'\n",
      "Extrinsic '0x46009185b4254e919a68dbc5d964e192a0bc3362001e051529fa7ca4100f0392' sent and included in block 'None'\n",
      "Extrinsic '0xa0c7e41dba9ffa627c67b19f3363807fcc3413e2c69db32ca40e58efbea013d0' sent and included in block 'None'\n",
      "Extrinsic '0x31a5eb80f8d1a8082d0dd7b85204424c5947f11c41c984867c56676f02ef20d5' sent and included in block 'None'\n",
      "Extrinsic '0x78a84fa8e84d448eeefd0837ef692259edb603f82efe7f246d9f76075b19dfe8' sent and included in block 'None'\n",
      "Extrinsic '0xcfa532f4019a0afd6dccda71759a1462c4f4d7793400a627d7d54be843b86db0' sent and included in block 'None'\n"
     ]
    },
    {
     "name": "stdout",
     "output_type": "stream",
     "text": [
      "Extrinsic '0x9e4a7c2dc1fbcc950ba51fc89950fb869d628722189262dfe2d5278138cf4c57' sent and included in block 'None'\n",
      "Extrinsic '0xa13e8d1a98d9debc35c15ddc3097c441cc75fc770f698cf206d302fd4431bb4c' sent and included in block 'None'\n",
      "Extrinsic '0x7f7131bcc8072375884c90a6f7aac67fbacbb21fa43ba8c5f43d3af7ecc3ae4b' sent and included in block 'None'\n",
      "Extrinsic '0x4982fc1178761ca5f0b0a9d668b7fc387cb9251ead807bc67ee1df95c4a70928' sent and included in block 'None'\n",
      "Extrinsic '0x4d6cbf9782b44fd31cde4bf92be412de56fd75549bf92c81cd167461e5f713b9' sent and included in block 'None'\n",
      "Extrinsic '0xdf7582bce589ac8029a7a96160b49f3b1b04b1233f0c82fc0db8639f01a43cda' sent and included in block 'None'\n",
      "Extrinsic '0xb64fecab024db6c2fd69d3d0217a8226c317d6a44f67f62d80b0c3898c018c8b' sent and included in block 'None'\n",
      "Extrinsic '0x3a0ed1420f384ed8ac8124572eb2de229bb79489c1187c05c4cee28204560fc5' sent and included in block 'None'\n",
      "Extrinsic '0xe320b19d119cc3b3a377d93028a818e9aeb795826221ef08818480b86bead86b' sent and included in block 'None'\n",
      "Extrinsic '0x592866ca2d7566f2944fd6f640468e08175b0384d4a9993ef0c5c654c4abe11f' sent and included in block 'None'\n",
      "Extrinsic '0x455b9e4f609e2203f016f77384fa5322a76f7f744a4233285e9c70c72648a55b' sent and included in block 'None'\n",
      "Extrinsic '0xf0dfd2594dd669c6a7f0825abf946060ecfb048df046ea8dfd88e6c32761f920' sent and included in block 'None'\n",
      "Extrinsic '0xc3bf226405feededcf804e7ff728feb146f5388d8ac6f503fc54761f4c36db54' sent and included in block 'None'\n",
      "Extrinsic '0x26553c449dcc70c3cbfc4ed229dc2979470086919d104bc95a4c0dc618ce3ed4' sent and included in block 'None'\n",
      "Extrinsic '0x92b16097616491fd492a46241af8768c169be467add918fade3e4b33aa71fff3' sent and included in block 'None'\n",
      "Extrinsic '0xfd937c35d81c80a81a6f6b706f9fffbc72716405091eeec90da7224e265faed1' sent and included in block 'None'\n",
      "Extrinsic '0x49c8b802387e228784c4823666af1cc6ea4328049a478d2fd28c6f510cb7d421' sent and included in block 'None'\n",
      "Extrinsic '0x6bda228bfc4093c15f4505281c617037dcbbbb060fddab91c35b72413c14ca67' sent and included in block 'None'\n",
      "Extrinsic '0xa4cd626f4bd125bb2bf0eaa6aac7def335ac6431135a11703787cfe3a03388a2' sent and included in block 'None'\n",
      "Extrinsic '0xf2bb4da453ee884b782ff41e842f2cb0836706d3e5bc93fa45e54c8ade55a821' sent and included in block 'None'\n",
      "Extrinsic '0x32412dc28c889d046d3a2e36209d1f65bb740aabb656cfa1033134e003ab0d1f' sent and included in block 'None'\n",
      "Extrinsic '0xd23775b656082b30ce335acc57cd9e98ea0b3769aaada1432e32e3d78c1e3064' sent and included in block 'None'\n",
      "Extrinsic '0x851f7c75b1b43f8fcc4347683233993cd7a976da3603ed3577336faf82b91c50' sent and included in block 'None'\n",
      "Extrinsic '0x3511a3f2e9718bec7e795ec48f64ca7ce45747807da774c38847613a349c23d6' sent and included in block 'None'\n",
      "Extrinsic '0xd66a316039aff8ee9e65dbb6b3c66e282ac55bdc0c71babfc6a15daac4e66364' sent and included in block 'None'\n",
      "Extrinsic '0xa0531d73f832064f479b95a17236904eb31d4890bd88564bcfd870ae07d9ebb7' sent and included in block 'None'\n",
      "Extrinsic '0x7ef842d13c9bf84b68e60acadce1b01b99a73b84079be40ce0562cc8ae0bc60f' sent and included in block 'None'\n",
      "Extrinsic '0x25e22567200ed55b0f9c5605a009dc511f3dc2c60c58886262d966bd69f2ef03' sent and included in block 'None'\n",
      "Extrinsic '0xa43b5538fa3b661221dabdb61ff7ad100f5cc758eb3dbea1bc04ebd4129bd416' sent and included in block 'None'\n",
      "Extrinsic '0x3678d4911486d2472245cdcf6afed0d5ca2c5d9efc7f01d912c1435feb926572' sent and included in block 'None'\n",
      "Extrinsic '0xff10b35d6b26793d99d308eaf165fce2c985291cfb625de74646b7b7b85aafce' sent and included in block 'None'\n",
      "Extrinsic '0x1f50a0608fb58cc1add3965972ccaa97fc953268225a5af9dc0df120fb9d8b23' sent and included in block 'None'\n",
      "Extrinsic '0xca40cfa031c913401d511a264553472cedf1cafde80b6b1faa4228880cbdd0ec' sent and included in block 'None'\n",
      "Extrinsic '0x0686a619fe28d6bec2c242a9d2f8f84a5f9fba2d774d7c5b3000cba8fd9277a3' sent and included in block 'None'\n",
      "Extrinsic '0x0156198f6264959354db76140da2bc96a67d70763d731981481bf3f2fa75c1fc' sent and included in block 'None'\n",
      "Extrinsic '0x7255ce56adc8771600a363776e8c61dbb3d9885c84225c5e93d4c95b2859c5d1' sent and included in block 'None'\n",
      "Extrinsic '0xfc7827f304ff260418b252b9692064c0bf8031ea37631914c828d1716df96b13' sent and included in block 'None'\n",
      "Extrinsic '0xc06ec2f70c760a0c4cea6391e25165d45a4fe69dd53c4ff32d5f1d8b3e32e865' sent and included in block 'None'\n",
      "Extrinsic '0x005c69e6561e256222d78d61b0d4d94f298d336eb58cc9434d684432e09581c4' sent and included in block 'None'\n",
      "Extrinsic '0x312c7b7646e187f15a8604f967518943400085422a2f333598bffa4608d78f9d' sent and included in block 'None'\n",
      "Extrinsic '0x8a3ceb12802606c4c37c1554717411a9e6184cff825d729478cd5652a9aecba3' sent and included in block 'None'\n",
      "Extrinsic '0x4d6fa5f5411e10cb5e1e95616a8a48fb0044fe81250034a5a62be7442e15dda2' sent and included in block 'None'\n",
      "Extrinsic '0x1aa5a2ca2672357274d86094b2ff2f8e565b6f90913d6751c2bb73873df7f857' sent and included in block 'None'\n"
     ]
    }
   ],
   "source": [
    "result = mint_reddit_posts_and_users(posts, all_users, bob)"
   ]
  },
  {
   "cell_type": "code",
   "execution_count": 55,
   "id": "8a447e4d",
   "metadata": {},
   "outputs": [
    {
     "data": {
      "text/plain": [
       "True"
      ]
     },
     "execution_count": 55,
     "metadata": {},
     "output_type": "execute_result"
    }
   ],
   "source": [
    "result"
   ]
  },
  {
   "cell_type": "code",
   "execution_count": null,
   "id": "94c540a2",
   "metadata": {},
   "outputs": [],
   "source": []
  },
  {
   "cell_type": "code",
   "execution_count": 23,
   "id": "3f21250f",
   "metadata": {
    "scrolled": true
   },
   "outputs": [
    {
     "name": "stdout",
     "output_type": "stream",
     "text": [
      "Extrinsic '0xb5cafbb6c313f9261676610e390287c69a7b5739da89ae3b9b74386b113f3b62' sent and included in block 'None'\n",
      "Extrinsic '0xd002df048664209bfd609f391cb13630d6e06006e77df33c439828fa94cc6db0' sent and included in block 'None'\n",
      "Extrinsic '0x81bbb6952a69cc25cd539f35c975d31e026e3967e272587811bd9080eaab3ddc' sent and included in block 'None'\n",
      "Extrinsic '0x68a1a0f067c6c36b3436a3db68774160c18392c5e29dcbfacdccde8fb72bbf20' sent and included in block 'None'\n",
      "Extrinsic '0xb2f171be69c428488f4f4cad95adca69e2e3c5d822099675be711574e3e2d492' sent and included in block 'None'\n",
      "Extrinsic '0xb3005c43b597882b171a7f5002a1bdf25a0ac11f111b28e14d3a419859cfd72c' sent and included in block 'None'\n",
      "Extrinsic '0x65152b49fea7e38f6d34395618bffd635521d17f7bd5a46cdff1ad7c3111db1a' sent and included in block 'None'\n",
      "Extrinsic '0x45f43a311919562d99b43feee8b6262edc6624fc97145e68168220b77b58a8f8' sent and included in block 'None'\n",
      "Extrinsic '0x239052065565e66de58466c9b57cee27683e3c98fbf70220e41b0a4e1d94f1f8' sent and included in block 'None'\n",
      "Extrinsic '0xf347950c5242bdc7ef2358c61dc02bbde2d92683fea6b5fc7c404829b0b4ef17' sent and included in block 'None'\n",
      "Extrinsic '0x3859588f6e66373a5ca33ab0065024b8e8be34f30481b5aac23dc63565978747' sent and included in block 'None'\n",
      "Extrinsic '0x9b1dad0c2ff873ec4e6ef97dce00107dda630630c90a25332f9d9e3b71c1ed8d' sent and included in block 'None'\n",
      "Extrinsic '0xd95f7221a1e75d7c2c3d2e8ab22dcf95d15353f3aaf07ddf7a0f3ff3e9f8ea7a' sent and included in block 'None'\n",
      "Extrinsic '0x2e8999a52a067145f38615965bc53e2b719051eb27b35b231dfb207095d35b63' sent and included in block 'None'\n",
      "Extrinsic '0xfb67af629461bd802f68db5ae293c31085d4d5a0d425e58405131108eb08f202' sent and included in block 'None'\n",
      "Extrinsic '0x5ddeff27728a8d94c1f63229f4091472ae8062cf4533580f98ba25f67f0f2add' sent and included in block 'None'\n",
      "Extrinsic '0xcf716dc13ab55564a2a844f9254913e9d7e2ff2ce9983ce2b9615059d1854d55' sent and included in block 'None'\n",
      "Extrinsic '0xa9f4a7de00f73235fed2aae5e9402b88b41a1afd5fdb27151e028c7386da3ee7' sent and included in block 'None'\n",
      "Extrinsic '0x0a53e9e1eba3e9ff8026d039dadfb95152708d77197d665d1613ed8924d20e10' sent and included in block 'None'\n",
      "Extrinsic '0x8833529c849af5f7a0e5d3f05dcaa5a93d6d1f3b95afcc2cb74203d66e5a4ce7' sent and included in block 'None'\n"
     ]
    },
    {
     "ename": "TypeError",
     "evalue": "'NoneType' object is not subscriptable",
     "output_type": "error",
     "traceback": [
      "\u001b[0;31m---------------------------------------------------------------------------\u001b[0m",
      "\u001b[0;31mTypeError\u001b[0m                                 Traceback (most recent call last)",
      "Input \u001b[0;32mIn [23]\u001b[0m, in \u001b[0;36m<cell line: 9>\u001b[0;34m()\u001b[0m\n\u001b[1;32m     18\u001b[0m password \u001b[38;5;241m=\u001b[39m \u001b[38;5;124m'\u001b[39m\u001b[38;5;124mpassword\u001b[39m\u001b[38;5;124m'\u001b[39m\n\u001b[1;32m     19\u001b[0m user_wallet \u001b[38;5;241m=\u001b[39m Keypair\u001b[38;5;241m.\u001b[39mcreate_from_uri(\u001b[38;5;124m'\u001b[39m\u001b[38;5;124m//\u001b[39m\u001b[38;5;124m'\u001b[39m \u001b[38;5;241m+\u001b[39m username \u001b[38;5;241m+\u001b[39m password)\n\u001b[0;32m---> 20\u001b[0m user_msa_id, receipt_user \u001b[38;5;241m=\u001b[39m \u001b[43mmint_user\u001b[49m\u001b[43m(\u001b[49m\u001b[43musername\u001b[49m\u001b[43m,\u001b[49m\u001b[43m \u001b[49m\u001b[43mpassword\u001b[49m\u001b[43m,\u001b[49m\u001b[43m \u001b[49m\u001b[43mprofile_pic\u001b[49m\u001b[43m,\u001b[49m\u001b[43m \u001b[49m\u001b[43muser_wallet\u001b[49m\u001b[43m)\u001b[49m\n\u001b[1;32m     22\u001b[0m \u001b[38;5;66;03m## POST ##\u001b[39;00m\n\u001b[1;32m     23\u001b[0m post_data \u001b[38;5;241m=\u001b[39m {\n\u001b[1;32m     24\u001b[0m     \u001b[38;5;124m\"\u001b[39m\u001b[38;5;124mcategory\u001b[39m\u001b[38;5;124m\"\u001b[39m: post\u001b[38;5;241m.\u001b[39msubreddit\u001b[38;5;241m.\u001b[39mdisplay_name,\n\u001b[1;32m     25\u001b[0m     \u001b[38;5;124m\"\u001b[39m\u001b[38;5;124musername\u001b[39m\u001b[38;5;124m\"\u001b[39m: username,\n\u001b[0;32m   (...)\u001b[0m\n\u001b[1;32m     30\u001b[0m     \u001b[38;5;124m\"\u001b[39m\u001b[38;5;124mis_nsfw\u001b[39m\u001b[38;5;124m\"\u001b[39m: post\u001b[38;5;241m.\u001b[39mover_18\n\u001b[1;32m     31\u001b[0m }\n",
      "File \u001b[0;32m~/polkadot_projects/PostThread-Polkadot/reddit-reposter/substrate_helpers.py:220\u001b[0m, in \u001b[0;36mmint_user\u001b[0;34m(username, password, profile_pic, user_wallet, wait_for_inclusion, wait_for_finalization)\u001b[0m\n\u001b[1;32m    219\u001b[0m \u001b[38;5;28;01mdef\u001b[39;00m \u001b[38;5;21mmint_user\u001b[39m(username, password, profile_pic, user_wallet, wait_for_inclusion\u001b[38;5;241m=\u001b[39m\u001b[38;5;28;01mFalse\u001b[39;00m, wait_for_finalization\u001b[38;5;241m=\u001b[39m\u001b[38;5;28;01mFalse\u001b[39;00m):      \n\u001b[0;32m--> 220\u001b[0m     user_msa_id \u001b[38;5;241m=\u001b[39m \u001b[43mcreate_msa_with_delegator\u001b[49m\u001b[43m(\u001b[49m\u001b[43mdelegate\u001b[49m\u001b[43m,\u001b[49m\u001b[43m \u001b[49m\u001b[43muser_wallet\u001b[49m\u001b[43m)\u001b[49m\n\u001b[1;32m    221\u001b[0m     user_data \u001b[38;5;241m=\u001b[39m \u001b[38;5;124m'\u001b[39m\u001b[38;5;124m{\u001b[39m\u001b[38;5;124m'\u001b[39m \u001b[38;5;241m+\u001b[39m \u001b[38;5;124mf\u001b[39m\u001b[38;5;124m'\u001b[39m\u001b[38;5;124m\"\u001b[39m\u001b[38;5;124mmsa_id\u001b[39m\u001b[38;5;124m\"\u001b[39m\u001b[38;5;124m: \u001b[39m\u001b[38;5;132;01m{\u001b[39;00muser_msa_id\u001b[38;5;132;01m}\u001b[39;00m\u001b[38;5;124m,\u001b[39m\u001b[38;5;124m\"\u001b[39m\u001b[38;5;124musername\u001b[39m\u001b[38;5;124m\"\u001b[39m\u001b[38;5;124m: \u001b[39m\u001b[38;5;124m\"\u001b[39m\u001b[38;5;132;01m{\u001b[39;00musername\u001b[38;5;132;01m}\u001b[39;00m\u001b[38;5;124m\"\u001b[39m\u001b[38;5;124m,\u001b[39m\u001b[38;5;124m\"\u001b[39m\u001b[38;5;124mpassword\u001b[39m\u001b[38;5;124m\"\u001b[39m\u001b[38;5;124m: \u001b[39m\u001b[38;5;124m\"\u001b[39m\u001b[38;5;132;01m{\u001b[39;00mpassword\u001b[38;5;132;01m}\u001b[39;00m\u001b[38;5;124m\"\u001b[39m\u001b[38;5;124m,\u001b[39m\u001b[38;5;124m\"\u001b[39m\u001b[38;5;124mprofile_pic\u001b[39m\u001b[38;5;124m\"\u001b[39m\u001b[38;5;124m: \u001b[39m\u001b[38;5;124m\"\u001b[39m\u001b[38;5;132;01m{\u001b[39;00mprofile_pic\u001b[38;5;132;01m}\u001b[39;00m\u001b[38;5;124m\"\u001b[39m\u001b[38;5;124m,\u001b[39m\u001b[38;5;124m\"\u001b[39m\u001b[38;5;124mwallet_ss58_address\u001b[39m\u001b[38;5;124m\"\u001b[39m\u001b[38;5;124m: \u001b[39m\u001b[38;5;124m\"\u001b[39m\u001b[38;5;132;01m{\u001b[39;00muser_wallet\u001b[38;5;241m.\u001b[39mss58_address\u001b[38;5;132;01m}\u001b[39;00m\u001b[38;5;124m\"\u001b[39m\u001b[38;5;124m'\u001b[39m \u001b[38;5;241m+\u001b[39m \u001b[38;5;124m'\u001b[39m\u001b[38;5;124m}\u001b[39m\u001b[38;5;124m'\u001b[39m\n\u001b[1;32m    223\u001b[0m     call_params \u001b[38;5;241m=\u001b[39m {\n\u001b[1;32m    224\u001b[0m         \u001b[38;5;124m\"\u001b[39m\u001b[38;5;124mon_behalf_of\u001b[39m\u001b[38;5;124m\"\u001b[39m: user_msa_id,\n\u001b[1;32m    225\u001b[0m         \u001b[38;5;124m\"\u001b[39m\u001b[38;5;124mschema_id\u001b[39m\u001b[38;5;124m\"\u001b[39m: user_schemaId,\n\u001b[1;32m    226\u001b[0m         \u001b[38;5;124m\"\u001b[39m\u001b[38;5;124mmessage\u001b[39m\u001b[38;5;124m\"\u001b[39m: user_data,\n\u001b[1;32m    227\u001b[0m         \u001b[38;5;124m\"\u001b[39m\u001b[38;5;124mpayload\u001b[39m\u001b[38;5;124m\"\u001b[39m: user_data\n\u001b[1;32m    228\u001b[0m     }\n",
      "File \u001b[0;32m~/polkadot_projects/PostThread-Polkadot/reddit-reposter/substrate_helpers.py:130\u001b[0m, in \u001b[0;36mcreate_msa_with_delegator\u001b[0;34m(provider_wallet, delegator_wallet)\u001b[0m\n\u001b[1;32m    129\u001b[0m \u001b[38;5;28;01mdef\u001b[39;00m \u001b[38;5;21mcreate_msa_with_delegator\u001b[39m(provider_wallet, delegator_wallet):\n\u001b[0;32m--> 130\u001b[0m     msa_id \u001b[38;5;241m=\u001b[39m \u001b[43mget_msa_id\u001b[49m\u001b[43m(\u001b[49m\u001b[43mdelegator_wallet\u001b[49m\u001b[43m,\u001b[49m\u001b[43m \u001b[49m\u001b[43mcreate\u001b[49m\u001b[38;5;241;43m=\u001b[39;49m\u001b[38;5;28;43;01mFalse\u001b[39;49;00m\u001b[43m)\u001b[49m\n\u001b[1;32m    131\u001b[0m     \u001b[38;5;28;01mif\u001b[39;00m msa_id \u001b[38;5;129;01mis\u001b[39;00m \u001b[38;5;129;01mnot\u001b[39;00m \u001b[38;5;28;01mNone\u001b[39;00m:\n\u001b[1;32m    132\u001b[0m         \u001b[38;5;28;01mreturn\u001b[39;00m msa_id\n",
      "File \u001b[0;32m~/polkadot_projects/PostThread-Polkadot/reddit-reposter/substrate_helpers.py:87\u001b[0m, in \u001b[0;36mget_msa_id\u001b[0;34m(wallet, create)\u001b[0m\n\u001b[1;32m     85\u001b[0m         \u001b[38;5;28;01mreturn\u001b[39;00m \u001b[38;5;28;01mNone\u001b[39;00m\n\u001b[1;32m     86\u001b[0m     \u001b[38;5;28;01melse\u001b[39;00m:\n\u001b[0;32m---> 87\u001b[0m         \u001b[38;5;28;01mreturn\u001b[39;00m \u001b[43mmsa_key\u001b[49m\u001b[38;5;241;43m.\u001b[39;49m\u001b[43mvalue\u001b[49m\u001b[43m[\u001b[49m\u001b[38;5;124;43m'\u001b[39;49m\u001b[38;5;124;43mmsa_id\u001b[39;49m\u001b[38;5;124;43m'\u001b[39;49m\u001b[43m]\u001b[49m\n\u001b[1;32m     89\u001b[0m \u001b[38;5;28;01mif\u001b[39;00m msa_key \u001b[38;5;241m==\u001b[39m \u001b[38;5;28;01mNone\u001b[39;00m:\n\u001b[1;32m     90\u001b[0m     receipt \u001b[38;5;241m=\u001b[39m make_call(\u001b[38;5;124m\"\u001b[39m\u001b[38;5;124mMsa\u001b[39m\u001b[38;5;124m\"\u001b[39m, \u001b[38;5;124m\"\u001b[39m\u001b[38;5;124mcreate\u001b[39m\u001b[38;5;124m\"\u001b[39m, {}, wallet)\n",
      "\u001b[0;31mTypeError\u001b[0m: 'NoneType' object is not subscriptable"
     ]
    }
   ],
   "source": [
    "while (True):\n",
    "    posts = [p for p in r_all.top(time_filter='day')]\n",
    "    for i, post in enumerate(posts):\n",
    "        ## USER ##\n",
    "        try:\n",
    "            username = post.author.name\n",
    "            profile_pic = post.author.icon_img\n",
    "        except:\n",
    "            username = \"removed\"\n",
    "            profile_pic = \"removed\"\n",
    "            \n",
    "        password = 'password'\n",
    "        user_wallet = Keypair.create_from_uri('//' + username + password)\n",
    "        user_msa_id, receipt_user = mint_user(username, password, profile_pic, user_wallet)\n",
    "\n",
    "        ## POST ##\n",
    "        post_data = {\n",
    "            \"category\": post.subreddit.display_name,\n",
    "            \"username\": username,\n",
    "            \"profile_pic\": profile_pic,\n",
    "            \"title\": post.title,\n",
    "            \"body\": post.selftext,\n",
    "            \"url\": post.url,\n",
    "            \"is_nsfw\": post.over_18\n",
    "        }\n",
    "\n",
    "        post_data_hash, receipt_post = make_post(post_data, user_msa_id, path+'posts/', wait_for_inclusion=False, wait_for_finalization=False)\n",
    "        print(post_data_hash)\n",
    "\n",
    "        ## post votes ##\n",
    "        receipt_ups = mint_votes(user_msa_id, post.ups, post_data_hash, post_data_hash, 'post')\n",
    "        receipt_downs = mint_votes(user_msa_id, post.downs, post_data_hash, post_data_hash, 'post')\n",
    "        print(post.ups, post.downs)\n",
    "\n",
    "        ## COMMENT ##\n",
    "        mint_comments(post.comments.list()[:10], post, post_data_hash)\n",
    "        \n",
    "        ## FOLLOWS ##\n",
    "        for follow_msa_id in sample(users, min(10, len(users))):\n",
    "            follow_user(user_msa_id, follow_msa_id)\n",
    "            \n",
    "        users.append(user_msa_id)\n",
    "        \n",
    "    print(\"waiting...\")\n",
    "    print()\n",
    "    # sleep for a bit and then check again\n",
    "    time.sleep(60*10)"
   ]
  },
  {
   "cell_type": "code",
   "execution_count": 39,
   "id": "d3feed06",
   "metadata": {},
   "outputs": [],
   "source": [
    "b = reddit.redditor('abowlofspaghetti')"
   ]
  },
  {
   "cell_type": "code",
   "execution_count": 40,
   "id": "0e9ed430",
   "metadata": {},
   "outputs": [
    {
     "data": {
      "text/plain": [
       "(7003, 737, 0, 0)"
      ]
     },
     "execution_count": 40,
     "metadata": {},
     "output_type": "execute_result"
    }
   ],
   "source": [
    "b.link_karma, b.comment_karma"
   ]
  },
  {
   "cell_type": "code",
   "execution_count": 47,
   "id": "5bff244e",
   "metadata": {},
   "outputs": [
    {
     "data": {
      "text/plain": [
       "<praw.models.listing.generator.ListingGenerator at 0x7f6355f90df0>"
      ]
     },
     "execution_count": 47,
     "metadata": {},
     "output_type": "execute_result"
    }
   ],
   "source": [
    "b.submissions.new()"
   ]
  },
  {
   "cell_type": "code",
   "execution_count": 49,
   "id": "857df083",
   "metadata": {
    "scrolled": true
   },
   "outputs": [],
   "source": [
    "for t in b.submissions.new():\n",
    "    break"
   ]
  },
  {
   "cell_type": "code",
   "execution_count": 52,
   "id": "e3b49e3d",
   "metadata": {},
   "outputs": [
    {
     "data": {
      "text/plain": [
       "\"I'm not a huge fan of GBTC for Bitcoin but it's the only way to get exposure to crypto in my 401k. So I will be dumping all my GBTC whenever an ETF comes available. However, I feel like many people could do that and it'll tank the stock. Is that a possibility? I know it's supposed to represent btc value but it's constantly off by huge percentages.\""
      ]
     },
     "execution_count": 52,
     "metadata": {},
     "output_type": "execute_result"
    }
   ],
   "source": [
    "t.selftext"
   ]
  },
  {
   "cell_type": "code",
   "execution_count": 32,
   "id": "7fffb063",
   "metadata": {},
   "outputs": [
    {
     "data": {
      "text/plain": [
       "[]"
      ]
     },
     "execution_count": 32,
     "metadata": {},
     "output_type": "execute_result"
    }
   ],
   "source": [
    "[t for t in b.awardee_karma.top()]"
   ]
  },
  {
   "cell_type": "code",
   "execution_count": null,
   "id": "aa8b5350",
   "metadata": {},
   "outputs": [],
   "source": []
  },
  {
   "cell_type": "code",
   "execution_count": null,
   "id": "4ccacb78",
   "metadata": {},
   "outputs": [],
   "source": []
  },
  {
   "cell_type": "code",
   "execution_count": 543,
   "id": "28220666",
   "metadata": {},
   "outputs": [
    {
     "data": {
      "text/plain": [
       "9694"
      ]
     },
     "execution_count": 543,
     "metadata": {},
     "output_type": "execute_result"
    }
   ],
   "source": [
    "substrate.get_block()['header']['number']"
   ]
  },
  {
   "cell_type": "code",
   "execution_count": 489,
   "id": "f1175441",
   "metadata": {},
   "outputs": [],
   "source": [
    "start_block = 5490"
   ]
  },
  {
   "cell_type": "code",
   "execution_count": 42,
   "id": "92e6d160",
   "metadata": {},
   "outputs": [],
   "source": [
    "post_pattern = re.compile(f\".*,.*,type,parent,data\")"
   ]
  },
  {
   "cell_type": "code",
   "execution_count": 43,
   "id": "2f852fd5",
   "metadata": {
    "scrolled": true
   },
   "outputs": [
    {
     "name": "stdout",
     "output_type": "stream",
     "text": [
      "QmQzgLfEczTXa3rWFC4y7vJMECV7yFqbByhFPzUR9woUWs,interestingasfuck,type,parent,data\n"
     ]
    }
   ],
   "source": [
    "schema_count = substrate.query(\n",
    "    module='Schemas',\n",
    "    storage_function='SchemaCount',\n",
    "    params=[]\n",
    ").value\n",
    "\n",
    "post_schemas = {}\n",
    "for i in range(1, schema_count+1):\n",
    "    schemaTemp = substrate.query(\n",
    "        module='Schemas',\n",
    "        storage_function='Schemas',\n",
    "        params=[i]\n",
    "    )\n",
    "    if post_pattern.match(schemaTemp.value):\n",
    "        print(schemaTemp.value)\n",
    "        post_schemas[schemaTemp.value] = i"
   ]
  },
  {
   "cell_type": "code",
   "execution_count": 48,
   "id": "a1ee26be",
   "metadata": {
    "scrolled": true
   },
   "outputs": [
    {
     "name": "stdout",
     "output_type": "stream",
     "text": [
      "QmQzgLfEczTXa3rWFC4y7vJMECV7yFqbByhFPzUR9woUWs,interestingasfuck,type,parent,data {'jsonrpc': '2.0', 'result': {'content': [{'block_number': 34, 'data': '0x2c2c706f73742c2c516d517a674c6645637a5458613372574643347937764a4d454356377946716242796846507a555239776f555773', 'index': 0, 'msa_id': 1, 'signer': '5FHneW46xGXgs5mUiveU4sbTyGBzmstUspZC92UhjJM694ty'}, {'block_number': 43, 'data': '0x2c2c706f73742c2c516d517a674c6645637a5458613372574643347937764a4d454356377946716242796846507a555239776f555773', 'index': 0, 'msa_id': 1, 'signer': '5FHneW46xGXgs5mUiveU4sbTyGBzmstUspZC92UhjJM694ty'}], 'has_next': False}, 'id': 139}\n",
      "CPU times: user 2.16 ms, sys: 0 ns, total: 2.16 ms\n",
      "Wall time: 41.8 ms\n"
     ]
    }
   ],
   "source": [
    "%%time\n",
    "content_jsons = {}\n",
    "for schema, schemaId in post_schemas.items():\n",
    "    params = [\n",
    "        schemaId,\n",
    "        {\n",
    "            \"page_size\": 10000,\n",
    "            \"from_block\": 0,\n",
    "            \"to_block\": 10000,\n",
    "            \"from_index\": 0,\n",
    "        }\n",
    "    ]\n",
    "\n",
    "    content = substrate.rpc_request(\n",
    "        method='messages_getBySchema',\n",
    "        params=params,\n",
    "    )\n",
    "    print(schema, content)\n",
    "    if len(content['result']['content']) > 0:\n",
    "        content_jsons[schema] = content['result']['content']"
   ]
  },
  {
   "cell_type": "code",
   "execution_count": 45,
   "id": "d15cc63e",
   "metadata": {},
   "outputs": [
    {
     "data": {
      "text/plain": [
       "{}"
      ]
     },
     "execution_count": 45,
     "metadata": {},
     "output_type": "execute_result"
    }
   ],
   "source": [
    "content_jsons"
   ]
  },
  {
   "cell_type": "code",
   "execution_count": 353,
   "id": "51fc69d4",
   "metadata": {},
   "outputs": [],
   "source": [
    "def add_comment(_data, _dict, _is_vote):\n",
    "    for hsh in _dict.keys():\n",
    "        if hsh == data[2]:\n",
    "            if is_vote:\n",
    "                if '-' in data[3]:\n",
    "                    # downvote\n",
    "                    _dict['data']['downvotes'] += data[3]\n",
    "                else:\n",
    "                    # upvote\n",
    "                    _dict['data']['upvotes'] += data[3]\n",
    "            else:\n",
    "                _dict[data[3]] = {\n",
    "                    'data': json.loads(client.cat(_data).decode()), \n",
    "                    'comments': {}\n",
    "                }\n",
    "                \n",
    "                _dict['data'].update({\"upvotes\": 0, \"downvotes\": 0})\n",
    "            return True\n",
    "        result = add_comment(_data, _dict['comments'], _is_vote)\n",
    "        if result:\n",
    "            return True\n",
    "    return False"
   ]
  },
  {
   "cell_type": "code",
   "execution_count": 354,
   "id": "c81d698c",
   "metadata": {
    "scrolled": true
   },
   "outputs": [],
   "source": [
    "posts = {}\n",
    "for schema, contents in content_jsons.items():\n",
    "    schema_items = schema.split(',')\n",
    "    category = schema_items[0]\n",
    "    post_hash = schema_items[1]\n",
    "    posts[post_hash] = {'data': {\"upvotes\": 0, \"downvotes\": 0}, 'comments': {}}\n",
    "    \n",
    "    for content in contents:\n",
    "        data = bytes.fromhex(content['data'][2:]).decode().split(',')\n",
    "        # votes had numeric numbers instead of hashes\n",
    "        is_vote = data[3].strip('-').isnumeric() \n",
    "        if is_vote:\n",
    "            data[3] = int(data[3])\n",
    "            \n",
    "        if data[2] == '': \n",
    "            # empty means its post data\n",
    "            posts[post_hash]['data'].update(json.loads(client.cat(data[3]).decode()))\n",
    "        elif data[2] == post_hash: \n",
    "            # post_hash means its comment\n",
    "            if is_vote:\n",
    "                if data[3] < 0:\n",
    "                    # downvote\n",
    "                    posts[post_hash]['data']['downvotes'] += data[3]\n",
    "                else:\n",
    "                    # upvote\n",
    "                    posts[post_hash]['data']['upvotes'] += data[3]\n",
    "            else:\n",
    "                posts[post_hash]['comments'][data[3]] = {\n",
    "                    'data': json.loads(client.cat(data[3]).decode()), \n",
    "                    'comments': {}\n",
    "                }\n",
    "                posts[post_hash]['comments'][data[3]]['data'].update({\"upvotes\": 0, \"downvotes\": 0})\n",
    "        else: \n",
    "            # neither means its comment of comment\n",
    "            result = add_comment(data[3], posts[post_hash]['comments'], is_vote)\n",
    "            if not result:\n",
    "                print('couldnt find', data[2], json.loads(client.cat(data[3]).decode()))"
   ]
  },
  {
   "cell_type": "code",
   "execution_count": 355,
   "id": "510f0c3e",
   "metadata": {},
   "outputs": [],
   "source": [
    "from collections import OrderedDict\n",
    "o = OrderedDict(sorted(posts.items(), key=lambda t: t[1]['data']['upvotes'], reverse=True))"
   ]
  },
  {
   "cell_type": "code",
   "execution_count": 357,
   "id": "4a5e49b8",
   "metadata": {},
   "outputs": [],
   "source": [
    "posts_list = []\n",
    "for k, v in OrderedDict(sorted(posts.items(), key=lambda t: t[1]['data']['upvotes'], reverse=True)).items():\n",
    "    posts_list.append({k:v})"
   ]
  },
  {
   "cell_type": "code",
   "execution_count": null,
   "id": "f9f4b300",
   "metadata": {},
   "outputs": [],
   "source": []
  }
 ],
 "metadata": {
  "kernelspec": {
   "display_name": "Python 3 (ipykernel)",
   "language": "python",
   "name": "python3"
  },
  "language_info": {
   "codemirror_mode": {
    "name": "ipython",
    "version": 3
   },
   "file_extension": ".py",
   "mimetype": "text/x-python",
   "name": "python",
   "nbconvert_exporter": "python",
   "pygments_lexer": "ipython3",
   "version": "3.8.5"
  },
  "vscode": {
   "interpreter": {
    "hash": "f90a51316803318f0b952c570a4fe32d53aa73ff3300e1da5777ab9e91b8249c"
   }
  }
 },
 "nbformat": 4,
 "nbformat_minor": 5
}
