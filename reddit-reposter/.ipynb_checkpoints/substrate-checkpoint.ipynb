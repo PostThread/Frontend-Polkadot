{
 "cells": [
  {
   "cell_type": "code",
   "execution_count": 1,
   "id": "92f4e5b4",
   "metadata": {
    "scrolled": true
   },
   "outputs": [
    {
     "name": "stdout",
     "output_type": "stream",
     "text": [
      "Defaulting to user installation because normal site-packages is not writeable\n",
      "Collecting substrate-interface\n",
      "  Downloading substrate_interface-1.2.5-py3-none-any.whl (182 kB)\n",
      "     |████████████████████████████████| 182 kB 6.3 MB/s            \n",
      "\u001b[?25hRequirement already satisfied: requests<3,>=2.21.0 in ./.local/lib/python3.6/site-packages (from substrate-interface) (2.27.1)\n",
      "Collecting py-sr25519-bindings<1,>=0.1.4\n",
      "  Downloading py_sr25519_bindings-0.1.4.tar.gz (13 kB)\n",
      "  Installing build dependencies ... \u001b[?25ldone\n",
      "\u001b[?25h  Getting requirements to build wheel ... \u001b[?25ldone\n",
      "\u001b[?25h  Preparing metadata (pyproject.toml) ... \u001b[?25ldone\n",
      "\u001b[?25hRequirement already satisfied: idna<4,>=2.1.0 in ./.local/lib/python3.6/site-packages (from substrate-interface) (3.3)\n",
      "Collecting pycryptodome<4,>=3.11.0\n",
      "  Downloading pycryptodome-3.14.1-cp35-abi3-manylinux2010_x86_64.whl (2.0 MB)\n",
      "     |████████████████████████████████| 2.0 MB 50.1 MB/s            \n",
      "\u001b[?25hRequirement already satisfied: websocket-client<2,>=0.57.0 in ./.local/lib/python3.6/site-packages (from substrate-interface) (1.3.1)\n",
      "Collecting eth-utils<3,>=1.3.0\n",
      "  Downloading eth_utils-2.0.0-py3-none-any.whl (24 kB)\n",
      "Collecting py-bip39-bindings<1,>=0.1.9\n",
      "  Downloading py_bip39_bindings-0.1.9.tar.gz (9.8 kB)\n",
      "  Installing build dependencies ... \u001b[?25ldone\n",
      "\u001b[?25h  Getting requirements to build wheel ... \u001b[?25ldone\n",
      "\u001b[?25h  Preparing metadata (pyproject.toml) ... \u001b[?25ldone\n",
      "\u001b[?25hCollecting py-ed25519-bindings<2,>=1.0\n",
      "  Downloading py_ed25519_bindings-1.0.1.tar.gz (9.2 kB)\n",
      "  Installing build dependencies ... \u001b[?25ldone\n",
      "\u001b[?25h  Getting requirements to build wheel ... \u001b[?25ldone\n",
      "\u001b[?25h  Preparing metadata (pyproject.toml) ... \u001b[?25ldone\n",
      "\u001b[?25hCollecting xxhash<3,>=1.3.0\n",
      "  Downloading xxhash-2.0.2-cp36-cp36m-manylinux2010_x86_64.whl (243 kB)\n",
      "     |████████████████████████████████| 243 kB 66.5 MB/s            \n",
      "\u001b[?25hRequirement already satisfied: certifi>=2019.3.9 in ./.local/lib/python3.6/site-packages (from substrate-interface) (2022.5.18.1)\n",
      "Collecting ecdsa<1,>=0.17.0\n",
      "  Downloading ecdsa-0.17.0-py2.py3-none-any.whl (119 kB)\n",
      "     |████████████████████████████████| 119 kB 68.2 MB/s            \n",
      "\u001b[?25hCollecting scalecodec<2,>=1.0.35\n",
      "  Downloading scalecodec-1.0.35-py3-none-any.whl (75 kB)\n",
      "     |████████████████████████████████| 75 kB 6.8 MB/s             \n",
      "\u001b[?25hCollecting PyNaCl<2,>=1.0.1\n",
      "  Downloading PyNaCl-1.5.0-cp36-abi3-manylinux_2_17_x86_64.manylinux2014_x86_64.manylinux_2_24_x86_64.whl (856 kB)\n",
      "     |████████████████████████████████| 856 kB 75.7 MB/s            \n",
      "\u001b[?25hCollecting base58<3,>=1.0.3\n",
      "  Downloading base58-2.1.1-py3-none-any.whl (5.6 kB)\n",
      "Collecting eth-keys<1,>=0.2.1\n",
      "  Downloading eth_keys-0.4.0-py3-none-any.whl (21 kB)\n",
      "Requirement already satisfied: six>=1.9.0 in /usr/lib/python3/dist-packages (from ecdsa<1,>=0.17.0->substrate-interface) (1.11.0)\n",
      "Collecting eth-typing<4,>=3.0.0\n",
      "  Downloading eth_typing-3.0.0-py3-none-any.whl (6.2 kB)\n",
      "Collecting eth-hash<0.4.0,>=0.3.1\n",
      "  Downloading eth_hash-0.3.2-py3-none-any.whl (8.8 kB)\n",
      "Collecting cytoolz<1.0.0,>=0.10.1\n",
      "  Downloading cytoolz-0.11.2.tar.gz (481 kB)\n",
      "     |████████████████████████████████| 481 kB 74.2 MB/s            \n",
      "\u001b[?25h  Preparing metadata (setup.py) ... \u001b[?25ldone\n",
      "\u001b[?25hRequirement already satisfied: cffi>=1.4.1 in ./.local/lib/python3.6/site-packages (from PyNaCl<2,>=1.0.1->substrate-interface) (1.15.0)\n",
      "Requirement already satisfied: charset-normalizer~=2.0.0 in ./.local/lib/python3.6/site-packages (from requests<3,>=2.21.0->substrate-interface) (2.0.12)\n",
      "Requirement already satisfied: urllib3<1.27,>=1.21.1 in ./.local/lib/python3.6/site-packages (from requests<3,>=2.21.0->substrate-interface) (1.26.9)\n",
      "Collecting more-itertools\n",
      "  Downloading more_itertools-8.13.0-py3-none-any.whl (51 kB)\n",
      "     |████████████████████████████████| 51 kB 746 kB/s             \n",
      "\u001b[?25hRequirement already satisfied: pycparser in ./.local/lib/python3.6/site-packages (from cffi>=1.4.1->PyNaCl<2,>=1.0.1->substrate-interface) (2.21)\n",
      "Collecting toolz>=0.8.0\n",
      "  Downloading toolz-0.11.2-py3-none-any.whl (55 kB)\n",
      "     |████████████████████████████████| 55 kB 6.9 MB/s             \n",
      "\u001b[?25hBuilding wheels for collected packages: py-bip39-bindings, py-ed25519-bindings, py-sr25519-bindings, cytoolz\n",
      "  Building wheel for py-bip39-bindings (pyproject.toml) ... \u001b[?25ldone\n",
      "\u001b[?25h  Created wheel for py-bip39-bindings: filename=py_bip39_bindings-0.1.9-cp36-cp36m-manylinux_2_24_x86_64.whl size=1248416 sha256=cc3fd69d2fd1a77a8167f97ee511ad89dfc40a7a76c3ae125d07e77ecde3c891\n",
      "  Stored in directory: /home/ubuntu/.cache/pip/wheels/5f/a7/b3/ebbe410df375173ebf172c1ad79e2f757afeb809c2c6bf61da\n",
      "  Building wheel for py-ed25519-bindings (pyproject.toml) ... \u001b[?25ldone\n",
      "\u001b[?25h  Created wheel for py-ed25519-bindings: filename=py_ed25519_bindings-1.0.1-cp36-cp36m-linux_x86_64.whl size=1046940 sha256=99f679b788b045d8d8127a1298ebde929d6c6cd1a6824f4a62c01dd79bcec72a\n",
      "  Stored in directory: /home/ubuntu/.cache/pip/wheels/5a/ca/0e/de1ce641b038b27fe25c1294ab0d9e8e36d3f7a38150a3e6ae\n",
      "  Building wheel for py-sr25519-bindings (pyproject.toml) ... \u001b[?25ldone\n",
      "\u001b[?25h  Created wheel for py-sr25519-bindings: filename=py_sr25519_bindings-0.1.4-cp36-cp36m-linux_x86_64.whl size=1085761 sha256=08d37f8433a5982d4e304317eb98f8b9d3e8457f5eaeee2db888f19f09f121ca\n",
      "  Stored in directory: /home/ubuntu/.cache/pip/wheels/67/f9/7a/2ca604b20a95bdaacea2f051b4112e3cbc2b7ae4865e940b63\n",
      "  Building wheel for cytoolz (setup.py) ... \u001b[?25ldone\n",
      "\u001b[?25h  Created wheel for cytoolz: filename=cytoolz-0.11.2-cp36-cp36m-linux_x86_64.whl size=1234267 sha256=ca97d1657853a2923a5dc4e7b0951aecb2777e190f73ab44a8408aeef67bb9c0\n",
      "  Stored in directory: /home/ubuntu/.cache/pip/wheels/83/c8/80/3663b26cb65ea0add681ebbf422874089a085bd2bff6d97b25\n",
      "Successfully built py-bip39-bindings py-ed25519-bindings py-sr25519-bindings cytoolz\n",
      "Installing collected packages: toolz, eth-typing, eth-hash, cytoolz, more-itertools, eth-utils, base58, xxhash, scalecodec, PyNaCl, pycryptodome, py-sr25519-bindings, py-ed25519-bindings, py-bip39-bindings, eth-keys, ecdsa, substrate-interface\n",
      "Successfully installed PyNaCl-1.5.0 base58-2.1.1 cytoolz-0.11.2 ecdsa-0.17.0 eth-hash-0.3.2 eth-keys-0.4.0 eth-typing-3.0.0 eth-utils-2.0.0 more-itertools-8.13.0 py-bip39-bindings-0.1.9 py-ed25519-bindings-1.0.1 py-sr25519-bindings-0.1.4 pycryptodome-3.14.1 scalecodec-1.0.35 substrate-interface-1.2.5 toolz-0.11.2 xxhash-2.0.2\n"
     ]
    }
   ],
   "source": [
    "!pip install substrate-interface"
   ]
  },
  {
   "cell_type": "code",
   "execution_count": 1,
   "id": "5c549a79",
   "metadata": {},
   "outputs": [],
   "source": [
    "import substrateinterface\n",
    "from substrateinterface import SubstrateInterface, Keypair\n",
    "from substrateinterface.exceptions import SubstrateRequestException\n",
    "\n",
    "substrate = SubstrateInterface(\n",
    "    url=\"ws://44.232.208.211:11946\",\n",
    "    ss58_format=42,\n",
    "    type_registry_preset='kusama'\n",
    ")"
   ]
  },
  {
   "cell_type": "code",
   "execution_count": 253,
   "id": "b87aceb5",
   "metadata": {},
   "outputs": [],
   "source": [
    "# Function to make extrinsic calls\n",
    "def make_call(call_module, call_function, call_params, keypair, wait_for_inclusion = True, wait_for_finalization = False):\n",
    "    call = substrate.compose_call(\n",
    "        call_module=call_module,\n",
    "        call_function=call_function,\n",
    "        call_params=call_params\n",
    "    )\n",
    "\n",
    "    extrinsic = substrate.create_signed_extrinsic(call=call, keypair=keypair)\n",
    "\n",
    "    try:\n",
    "        receipt = substrate.submit_extrinsic(extrinsic, wait_for_inclusion=wait_for_inclusion, wait_for_finalization=wait_for_finalization)\n",
    "        print(\"Extrinsic '{}' sent and included in block '{}'\".format(receipt.extrinsic_hash, receipt.block_hash))\n",
    "\n",
    "    except SubstrateRequestException as e:\n",
    "        print(\"Failed to send: {}\".format(e))\n",
    "    return receipt"
   ]
  },
  {
   "cell_type": "code",
   "execution_count": 3,
   "id": "1f9f2899",
   "metadata": {},
   "outputs": [],
   "source": [
    "alice = Keypair.create_from_uri('//Alice')\n",
    "bob = Keypair.create_from_uri('//Bob')"
   ]
  },
  {
   "cell_type": "code",
   "execution_count": 4,
   "id": "3b1d0f10",
   "metadata": {
    "scrolled": true
   },
   "outputs": [
    {
     "name": "stdout",
     "output_type": "stream",
     "text": [
      "Extrinsic '0xcd0f71e1c6d28e3efde9c3d5bbd477ca568a2e35521ae54ea44f09a8a71cf7e3' sent and included in block '0x888a56d247a12d41fd2a02dbd38f8de1acc23c6bd2b5ef9d6790044169d3eece'\n",
      "Extrinsic '0xec0ab0bbc5a5318613642a5caef5ba29f1f48cb3bf599aa1f8e92bc574199a02' sent and included in block '0x7a9a7f1f67c901e444ff80ae6e6ffecc7e443a806899ba69f58813ceacb6e13c'\n"
     ]
    },
    {
     "data": {
      "text/plain": [
       "<substrateinterface.base.ExtrinsicReceipt at 0x7f66330e4b38>"
      ]
     },
     "execution_count": 4,
     "metadata": {},
     "output_type": "execute_result"
    }
   ],
   "source": [
    "make_call(\"Msa\", \"create\", {}, alice)\n",
    "make_call(\"Msa\", \"create\", {}, bob)"
   ]
  },
  {
   "cell_type": "markdown",
   "id": "d4519586",
   "metadata": {},
   "source": [
    "# Create MSA for brand new account\n",
    "Use this when user wants control of thier keys and will pay for their own transactions"
   ]
  },
  {
   "cell_type": "code",
   "execution_count": 99,
   "id": "de72ec2b",
   "metadata": {},
   "outputs": [],
   "source": [
    "# Create never before used wallet\n",
    "new_wallet = Keypair.create_from_uri('//ChangeThisNamefgnf', crypto_type=substrateinterface.KeypairType.SR25519)"
   ]
  },
  {
   "cell_type": "code",
   "execution_count": 100,
   "id": "f8a833ef",
   "metadata": {},
   "outputs": [
    {
     "name": "stdout",
     "output_type": "stream",
     "text": [
      "Extrinsic '0xb4d3acbb4975924348ad43ba38a80bd76d125f7c17227ab7157f06549b289cf5' sent and included in block '0xf930e84162801f7aaf1f5e4557c7327acf873690945fc77ada1e00f2859ef6b8'\n"
     ]
    }
   ],
   "source": [
    "# Give wallet some tokens to it can make MSA\n",
    "# Must be at least 1 unit\n",
    "one_unit = 1000000000000\n",
    "receipt = make_call(\"Balances\", \"transfer\", {\"dest\": new_wallet.ss58_address, \"value\": 10 * one_unit}, alice)\n",
    "receipt.error_message"
   ]
  },
  {
   "cell_type": "code",
   "execution_count": 101,
   "id": "b62af09a",
   "metadata": {},
   "outputs": [],
   "source": [
    "def get_msa_id(wallet):\n",
    "    msa_key = substrate.query(\n",
    "        module='Msa',\n",
    "        storage_function='KeyInfoOf',\n",
    "        params=[wallet.ss58_address]\n",
    "    )\n",
    "\n",
    "    if msa_key == None:\n",
    "        make_call(\"Msa\", \"create\", {}, wallet)\n",
    "        msa_key = substrate.query(\n",
    "            module='Msa',\n",
    "            storage_function='KeyInfoOf',\n",
    "            params=[wallet.ss58_address]\n",
    "        )\n",
    "\n",
    "    msa_id = msa_key['msa_id'].decode()\n",
    "    return msa_id"
   ]
  },
  {
   "cell_type": "code",
   "execution_count": 102,
   "id": "4ef7c3ad",
   "metadata": {},
   "outputs": [
    {
     "name": "stdout",
     "output_type": "stream",
     "text": [
      "Extrinsic '0x98638cd01df7dac5ae069a7bbea6b0caf8c699b06982aaa98fdd33997ebe3e28' sent and included in block '0xa802b805b9fe722337f46cab0c389780f6a09ddc4472a9a9ff2b616556fa5b40'\n"
     ]
    }
   ],
   "source": [
    "msa_id = get_msa_id(new_wallet)"
   ]
  },
  {
   "cell_type": "markdown",
   "id": "d9b30b6f",
   "metadata": {},
   "source": [
    "## Delegate MSA to a provider"
   ]
  },
  {
   "cell_type": "code",
   "execution_count": 15,
   "id": "8be029a8",
   "metadata": {},
   "outputs": [],
   "source": [
    "payload_raw = { \"authorized_msa_id\": msa_id, \"permission\": 0 }"
   ]
  },
  {
   "cell_type": "code",
   "execution_count": 16,
   "id": "8fd1a0bd",
   "metadata": {},
   "outputs": [],
   "source": [
    "def get_signature(payload, signer):\n",
    "    # encode payload using SCALE\n",
    "    # I found scale_info from \"substrate.metadata_decoder\"\n",
    "    payload_encoded = substrate.encode_scale(type_string='scale_info::8', value=payload['authorized_msa_id']) + \\\n",
    "                            substrate.encode_scale(type_string='scale_info::2', value=payload['permission'])\n",
    "\n",
    "    # Payload must be wrapped in theses Bytes objects\n",
    "    payload_encoded = \"<Bytes>\".encode() + payload_encoded.data + \"</Bytes>\".encode()\n",
    "\n",
    "    # The provider address signs the payload, so in this case alice\n",
    "    return signer.sign(payload_encoded)"
   ]
  },
  {
   "cell_type": "code",
   "execution_count": 17,
   "id": "982ac3ca",
   "metadata": {},
   "outputs": [],
   "source": [
    "signature = get_signature(payload_raw, alice)"
   ]
  },
  {
   "cell_type": "code",
   "execution_count": 18,
   "id": "81571b05",
   "metadata": {},
   "outputs": [
    {
     "name": "stdout",
     "output_type": "stream",
     "text": [
      "Extrinsic '0x019867e422833607d782f8c5bc3057414e0d94b478878e0e233cc1cff3a15f41' sent and included in block '0x21672a9cbcb03f452d92d5481d421b95e74b4f147b05bf34c419c708e804f13f'\n",
      "{'type': 'Module', 'name': 'DuplicateProvider', 'docs': ['The delegation relationship already exists for the given MSA Ids']}\n"
     ]
    }
   ],
   "source": [
    "# parameters for call function\n",
    "call_params = {\n",
    "    \"provider_key\": alice.ss58_address,\n",
    "    \"proof\": {\"Sr25519\": \"0x\" + signature.hex()},\n",
    "    \"add_provider_payload\": payload_raw\n",
    "}\n",
    "\n",
    "receipt = make_call(\"Msa\", \"add_provider_to_msa\", call_params, new_wallet)\n",
    "print(receipt.error_message)"
   ]
  },
  {
   "cell_type": "markdown",
   "id": "92594f7d",
   "metadata": {},
   "source": [
    "# Following code is run instead of above if user doesn't want control of keys and allows provider to pay for transactions"
   ]
  },
  {
   "cell_type": "code",
   "execution_count": 181,
   "id": "c1f6ee00",
   "metadata": {},
   "outputs": [],
   "source": [
    "# Create never before used wallet\n",
    "new_wallet = Keypair.create_from_uri('//sdvsbsdfghdfdvsvs', crypto_type=substrateinterface.KeypairType.SR25519)"
   ]
  },
  {
   "cell_type": "code",
   "execution_count": 326,
   "id": "83f36894",
   "metadata": {},
   "outputs": [],
   "source": [
    "# get provider msa id, so alice in this case\n",
    "provider_msa_id = get_msa_id(alice)"
   ]
  },
  {
   "cell_type": "code",
   "execution_count": 184,
   "id": "a50e6bfc",
   "metadata": {},
   "outputs": [],
   "source": [
    "payload_raw = { \"authorized_msa_id\": provider_msa_id, \"permission\": 0 }\n",
    "\n",
    "# This time new_wallet signs payload and therefore doesn't need to pay any gas\n",
    "signature = get_signature(payload_raw, new_wallet)"
   ]
  },
  {
   "cell_type": "code",
   "execution_count": 185,
   "id": "dcf58ffc",
   "metadata": {},
   "outputs": [
    {
     "name": "stdout",
     "output_type": "stream",
     "text": [
      "Extrinsic '0xa8022a2efe8af146f89bd37099b65cd9e51d1cc79d4e57bceb2f6fd9a8e253d8' sent and included in block '0x11dc49139e33357f6ae280174cf8779211a08acda607da0597740cf4b5d5be12'\n",
      "None\n"
     ]
    }
   ],
   "source": [
    "call_params = {\n",
    "    \"delegator_key\": new_wallet.ss58_address,\n",
    "    \"proof\": {\"Sr25519\": \"0x\" + signature.hex()},\n",
    "    \"add_provider_payload\": payload_raw\n",
    "}\n",
    "\n",
    "# provider signs this\n",
    "receipt = make_call(\"Msa\", \"create_sponsored_account_with_delegation\", call_params, alice)\n",
    "print(receipt.error_message)"
   ]
  },
  {
   "cell_type": "markdown",
   "id": "333383dd",
   "metadata": {},
   "source": [
    "# Create Schema and add Messages"
   ]
  },
  {
   "cell_type": "code",
   "execution_count": 62,
   "id": "4c6cb89c",
   "metadata": {
    "scrolled": true
   },
   "outputs": [
    {
     "name": "stdout",
     "output_type": "stream",
     "text": [
      "Extrinsic '0x4697e1f5d5a3c5403fb7470b068d67e28e02e97db41a4791bf48eb429ee8f09d' sent and included in block '0x8f0867cbee9d4443d4652565ffae49a65ce77b5761d39e3c6c037df9c0783a02'\n",
      "-1\n"
     ]
    }
   ],
   "source": [
    "# define schema and then check if it exists already, if not, then mint it\n",
    "# We will probably turn schema check into api call to save time\n",
    "\n",
    "schema = \"subreddit,author,title,selftext,url,is_nsfw,dsvs\"\n",
    "\n",
    "schema_count = substrate.query(\n",
    "    module='Schemas',\n",
    "    storage_function='SchemaCount',\n",
    "    params=[]\n",
    ").value\n",
    "\n",
    "schemaId = -1\n",
    "for i in range(1, schema_count+1):\n",
    "    schemaTemp = substrate.query(\n",
    "        module='Schemas',\n",
    "        storage_function='Schemas',\n",
    "        params=[i]\n",
    "    )\n",
    "    if schemaTemp == schema:\n",
    "        schemaId = i\n",
    "        print(schemaTemp.value)\n",
    "        break\n",
    "    \n",
    "if schemaId == -1:\n",
    "    receipt = make_call(\"Schemas\", \"register_schema\", {\"schema\": schema}, alice)\n",
    "    for event in receipt.triggered_events:\n",
    "        event = event.decode()\n",
    "        if event['event']['event_id'] == 'SchemaRegistered':\n",
    "            schemaId = event['event']['attributes'][1]\n",
    "\n",
    "print(schemaId)"
   ]
  },
  {
   "cell_type": "code",
   "execution_count": 103,
   "id": "a807e618",
   "metadata": {
    "scrolled": true
   },
   "outputs": [
    {
     "data": {
      "text/plain": [
       "<scale_info::5(value={'free': 0, 'reserved': 0, 'misc_frozen': 0, 'fee_frozen': 0})>"
      ]
     },
     "execution_count": 103,
     "metadata": {},
     "output_type": "execute_result"
    }
   ],
   "source": [
    "substrate.query(\n",
    "    module='Balances',\n",
    "    storage_function='Account',\n",
    "    params=[new_wallet.ss58_address]\n",
    ")"
   ]
  },
  {
   "cell_type": "code",
   "execution_count": 294,
   "id": "7c783db1",
   "metadata": {
    "scrolled": true
   },
   "outputs": [
    {
     "name": "stdout",
     "output_type": "stream",
     "text": [
      "Extrinsic '0xaa1d7a84a67864b511fa8bc47626973b09a7628e70713acafacb2e1f8fabd5e4' sent and included in block '0xcd46a4cd78126bd47f100fd324bfe83e47d93f05d8b5b5900d7a4ebefd89632a'\n"
     ]
    }
   ],
   "source": [
    "message = \"AskReddit,LazarShockX,What are some good ice breaker questions?,,https://www.reddit.com/r/AskReddit/comments/v5ihpk/what_are_some_good_ice_breaker_questions/,False\"\n",
    "\n",
    "call_params = {\n",
    "    \"schema_id\": schemaId,\n",
    "    \"message\": message\n",
    "}\n",
    "receipt = make_call(\"Messages\", \"add\", call_params, alice, wait_for_inclusion=True)\n",
    "\n",
    "# result = substrate.subscribe_block_headers(subscription_handler)"
   ]
  },
  {
   "cell_type": "code",
   "execution_count": 295,
   "id": "587b0a51",
   "metadata": {
    "scrolled": true
   },
   "outputs": [
    {
     "data": {
      "text/plain": [
       "[<scale_info::16(value={'phase': 'ApplyExtrinsic', 'extrinsic_idx': 2, 'event': {'event_index': '0a08', 'module_id': 'Balances', 'event_id': 'Withdraw', 'attributes': ('5GrwvaEF5zXb26Fz9rcQpDWS57CtERHpNehXCPcNoHGKutQY', 2734482631)}, 'event_index': 10, 'module_id': 'Balances', 'event_id': 'Withdraw', 'attributes': ('5GrwvaEF5zXb26Fz9rcQpDWS57CtERHpNehXCPcNoHGKutQY', 2734482631), 'topics': []})>,\n",
       " <scale_info::16(value={'phase': 'ApplyExtrinsic', 'extrinsic_idx': 2, 'event': {'event_index': '0a07', 'module_id': 'Balances', 'event_id': 'Deposit', 'attributes': ('5GrwvaEF5zXb26Fz9rcQpDWS57CtERHpNehXCPcNoHGKutQY', 2501243)}, 'event_index': 10, 'module_id': 'Balances', 'event_id': 'Deposit', 'attributes': ('5GrwvaEF5zXb26Fz9rcQpDWS57CtERHpNehXCPcNoHGKutQY', 2501243), 'topics': []})>,\n",
       " <scale_info::16(value={'phase': 'ApplyExtrinsic', 'extrinsic_idx': 2, 'event': {'event_index': '0000', 'module_id': 'System', 'event_id': 'ExtrinsicSuccess', 'attributes': {'weight': 125163000, 'class': 'Normal', 'pays_fee': 'Yes'}}, 'event_index': 0, 'module_id': 'System', 'event_id': 'ExtrinsicSuccess', 'attributes': {'weight': 125163000, 'class': 'Normal', 'pays_fee': 'Yes'}, 'topics': []})>]"
      ]
     },
     "execution_count": 295,
     "metadata": {},
     "output_type": "execute_result"
    }
   ],
   "source": [
    "receipt.triggered_events"
   ]
  },
  {
   "cell_type": "markdown",
   "id": "0bcccacd",
   "metadata": {},
   "source": [
    "# Query data"
   ]
  },
  {
   "cell_type": "code",
   "execution_count": 339,
   "id": "6c098e9d",
   "metadata": {
    "scrolled": true
   },
   "outputs": [
    {
     "data": {
      "text/plain": [
       "{'jsonrpc': '2.0',\n",
       " 'result': {'content': [{'block_number': 2366,\n",
       "    'data': '0x41736b5265646469742c4c617a617253686f636b582c576861742061726520736f6d6520676f6f642069636520627265616b6572207175657374696f6e733f2c2c68747470733a2f2f7777772e7265646469742e636f6d2f722f41736b5265646469742f636f6d6d656e74732f76356968706b2f776861745f6172655f736f6d655f676f6f645f6963655f627265616b65725f7175657374696f6e732f2c46616c7365',\n",
       "    'index': 0,\n",
       "    'msa_id': 9,\n",
       "    'signer': '5DJhKK6JJzZHcF5V1C4e9noRHcid3C73SRW7xRCnSvNNJa3v'},\n",
       "   {'block_number': 2374,\n",
       "    'data': '0x41736b5265646469742c4c617a617253686f636b582c576861742061726520736f6d6520676f6f642069636520627265616b6572207175657374696f6e733f2c2c68747470733a2f2f7777772e7265646469742e636f6d2f722f41736b5265646469742f636f6d6d656e74732f76356968706b2f776861745f6172655f736f6d655f676f6f645f6963655f627265616b65725f7175657374696f6e732f2c46616c7365',\n",
       "    'index': 0,\n",
       "    'msa_id': 9,\n",
       "    'signer': '5DJhKK6JJzZHcF5V1C4e9noRHcid3C73SRW7xRCnSvNNJa3v'},\n",
       "   {'block_number': 2468,\n",
       "    'data': '0x41736b5265646469742c4c617a617253686f636b582c576861742061726520736f6d6520676f6f642069636520627265616b6572207175657374696f6e733f2c2c68747470733a2f2f7777772e7265646469742e636f6d2f722f41736b5265646469742f636f6d6d656e74732f76356968706b2f776861745f6172655f736f6d655f676f6f645f6963655f627265616b65725f7175657374696f6e732f2c46616c7365',\n",
       "    'index': 0,\n",
       "    'msa_id': 10,\n",
       "    'signer': '5E4ZNsV3jXbcjbZLytjFnQtgrjqej7RDNZNuEppp9BBdDVeX'},\n",
       "   {'block_number': 2479,\n",
       "    'data': '0x41736b5265646469742c4c617a617253686f636b582c576861742061726520736f6d6520676f6f642069636520627265616b6572207175657374696f6e733f2c2c68747470733a2f2f7777772e7265646469742e636f6d2f722f41736b5265646469742f636f6d6d656e74732f76356968706b2f776861745f6172655f736f6d655f676f6f645f6963655f627265616b65725f7175657374696f6e732f2c46616c7365',\n",
       "    'index': 0,\n",
       "    'msa_id': 10,\n",
       "    'signer': '5E4ZNsV3jXbcjbZLytjFnQtgrjqej7RDNZNuEppp9BBdDVeX'},\n",
       "   {'block_number': 2517,\n",
       "    'data': '0x41736b5265646469742c4c617a617253686f636b582c576861742061726520736f6d6520676f6f642069636520627265616b6572207175657374696f6e733f2c2c68747470733a2f2f7777772e7265646469742e636f6d2f722f41736b5265646469742f636f6d6d656e74732f76356968706b2f776861745f6172655f736f6d655f676f6f645f6963655f627265616b65725f7175657374696f6e732f2c46616c7365',\n",
       "    'index': 0,\n",
       "    'msa_id': 3,\n",
       "    'signer': '5GrwvaEF5zXb26Fz9rcQpDWS57CtERHpNehXCPcNoHGKutQY'},\n",
       "   {'block_number': 2550,\n",
       "    'data': '0x41736b5265646469742c4c617a617253686f636b582c576861742061726520736f6d6520676f6f642069636520627265616b6572207175657374696f6e733f2c2c68747470733a2f2f7777772e7265646469742e636f6d2f722f41736b5265646469742f636f6d6d656e74732f76356968706b2f776861745f6172655f736f6d655f676f6f645f6963655f627265616b65725f7175657374696f6e732f2c46616c7365',\n",
       "    'index': 0,\n",
       "    'msa_id': 3,\n",
       "    'signer': '5GrwvaEF5zXb26Fz9rcQpDWS57CtERHpNehXCPcNoHGKutQY'},\n",
       "   {'block_number': 2557,\n",
       "    'data': '0x41736b5265646469742c4c617a617253686f636b582c576861742061726520736f6d6520676f6f642069636520627265616b6572207175657374696f6e733f2c2c68747470733a2f2f7777772e7265646469742e636f6d2f722f41736b5265646469742f636f6d6d656e74732f76356968706b2f776861745f6172655f736f6d655f676f6f645f6963655f627265616b65725f7175657374696f6e732f2c46616c7365',\n",
       "    'index': 0,\n",
       "    'msa_id': 3,\n",
       "    'signer': '5GrwvaEF5zXb26Fz9rcQpDWS57CtERHpNehXCPcNoHGKutQY'},\n",
       "   {'block_number': 2634,\n",
       "    'data': '0x41736b5265646469742c4c617a617253686f636b582c576861742061726520736f6d6520676f6f642069636520627265616b6572207175657374696f6e733f2c2c68747470733a2f2f7777772e7265646469742e636f6d2f722f41736b5265646469742f636f6d6d656e74732f76356968706b2f776861745f6172655f736f6d655f676f6f645f6963655f627265616b65725f7175657374696f6e732f2c46616c7365',\n",
       "    'index': 0,\n",
       "    'msa_id': 3,\n",
       "    'signer': '5GrwvaEF5zXb26Fz9rcQpDWS57CtERHpNehXCPcNoHGKutQY'},\n",
       "   {'block_number': 2661,\n",
       "    'data': '0x41736b5265646469742c4c617a617253686f636b582c576861742061726520736f6d6520676f6f642069636520627265616b6572207175657374696f6e733f2c2c68747470733a2f2f7777772e7265646469742e636f6d2f722f41736b5265646469742f636f6d6d656e74732f76356968706b2f776861745f6172655f736f6d655f676f6f645f6963655f627265616b65725f7175657374696f6e732f2c46616c7365',\n",
       "    'index': 0,\n",
       "    'msa_id': 3,\n",
       "    'signer': '5GrwvaEF5zXb26Fz9rcQpDWS57CtERHpNehXCPcNoHGKutQY'},\n",
       "   {'block_number': 2661,\n",
       "    'data': '0x41736b5265646469742c4c617a617253686f636b582c576861742061726520736f6d6520676f6f642069636520627265616b6572207175657374696f6e733f2c2c68747470733a2f2f7777772e7265646469742e636f6d2f722f41736b5265646469742f636f6d6d656e74732f76356968706b2f776861745f6172655f736f6d655f676f6f645f6963655f627265616b65725f7175657374696f6e732f2c46616c7365',\n",
       "    'index': 1,\n",
       "    'msa_id': 4,\n",
       "    'signer': '5FHneW46xGXgs5mUiveU4sbTyGBzmstUspZC92UhjJM694ty'},\n",
       "   {'block_number': 2661,\n",
       "    'data': '0x41736b5265646469742c4c617a617253686f636b582c576861742061726520736f6d6520676f6f642069636520627265616b6572207175657374696f6e733f2c2c68747470733a2f2f7777772e7265646469742e636f6d2f722f41736b5265646469742f636f6d6d656e74732f76356968706b2f776861745f6172655f736f6d655f676f6f645f6963655f627265616b65725f7175657374696f6e732f2c46616c7365',\n",
       "    'index': 2,\n",
       "    'msa_id': 3,\n",
       "    'signer': '5GrwvaEF5zXb26Fz9rcQpDWS57CtERHpNehXCPcNoHGKutQY'},\n",
       "   {'block_number': 2661,\n",
       "    'data': '0x41736b5265646469742c4c617a617253686f636b582c576861742061726520736f6d6520676f6f642069636520627265616b6572207175657374696f6e733f2c2c68747470733a2f2f7777772e7265646469742e636f6d2f722f41736b5265646469742f636f6d6d656e74732f76356968706b2f776861745f6172655f736f6d655f676f6f645f6963655f627265616b65725f7175657374696f6e732f2c46616c7365',\n",
       "    'index': 3,\n",
       "    'msa_id': 4,\n",
       "    'signer': '5FHneW46xGXgs5mUiveU4sbTyGBzmstUspZC92UhjJM694ty'},\n",
       "   {'block_number': 2680,\n",
       "    'data': '0x41736b5265646469742c4c617a617253686f636b582c576861742061726520736f6d6520676f6f642069636520627265616b6572207175657374696f6e733f2c2c68747470733a2f2f7777772e7265646469742e636f6d2f722f41736b5265646469742f636f6d6d656e74732f76356968706b2f776861745f6172655f736f6d655f676f6f645f6963655f627265616b65725f7175657374696f6e732f2c46616c7365',\n",
       "    'index': 0,\n",
       "    'msa_id': 3,\n",
       "    'signer': '5GrwvaEF5zXb26Fz9rcQpDWS57CtERHpNehXCPcNoHGKutQY'}],\n",
       "  'has_next': False},\n",
       " 'id': 836}"
      ]
     },
     "execution_count": 339,
     "metadata": {},
     "output_type": "execute_result"
    }
   ],
   "source": [
    "params = [\n",
    "    schemaId,\n",
    "    {\n",
    "        \"page_size\": 10000,\n",
    "        \"from_block\": 0,\n",
    "        \"to_block\": 10000,\n",
    "        \"from_index\": 1,\n",
    "    }\n",
    "]\n",
    "\n",
    "data = substrate.rpc_request(\n",
    "    method='messages_getBySchema',\n",
    "    params=params,\n",
    ")\n",
    "data"
   ]
  },
  {
   "cell_type": "code",
   "execution_count": 357,
   "id": "ead313b9",
   "metadata": {},
   "outputs": [
    {
     "data": {
      "text/plain": [
       "'AskReddit,LazarShockX,What are some good ice breaker questions?,,https://www.reddit.com/r/AskReddit/comments/v5ihpk/what_are_some_good_ice_breaker_questions/,False'"
      ]
     },
     "execution_count": 357,
     "metadata": {},
     "output_type": "execute_result"
    }
   ],
   "source": [
    "# data can be converted back to original string\n",
    "bytes.fromhex(data['result']['content'][0]['data'][2:]).decode()"
   ]
  },
  {
   "cell_type": "code",
   "execution_count": null,
   "id": "131a1b5c",
   "metadata": {},
   "outputs": [],
   "source": []
  },
  {
   "cell_type": "code",
   "execution_count": 327,
   "id": "f4b14115",
   "metadata": {},
   "outputs": [
    {
     "data": {
      "text/plain": [
       "3"
      ]
     },
     "execution_count": 327,
     "metadata": {},
     "output_type": "execute_result"
    }
   ],
   "source": [
    "provider_msa_id"
   ]
  },
  {
   "cell_type": "code",
   "execution_count": 325,
   "id": "d3bae5e4",
   "metadata": {},
   "outputs": [
    {
     "data": {
      "text/plain": [
       "'5GrwvaEF5zXb26Fz9rcQpDWS57CtERHpNehXCPcNoHGKutQY'"
      ]
     },
     "execution_count": 325,
     "metadata": {},
     "output_type": "execute_result"
    }
   ],
   "source": [
    "alice.ss58_address"
   ]
  },
  {
   "cell_type": "code",
   "execution_count": 324,
   "id": "6041fbae",
   "metadata": {},
   "outputs": [
    {
     "data": {
      "text/plain": [
       "{'jsonrpc': '2.0',\n",
       " 'result': [{'expired': 0,\n",
       "   'key': '5GrwvaEF5zXb26Fz9rcQpDWS57CtERHpNehXCPcNoHGKutQY',\n",
       "   'msa_id': 3,\n",
       "   'nonce': 0}],\n",
       " 'id': 824}"
      ]
     },
     "execution_count": 324,
     "metadata": {},
     "output_type": "execute_result"
    }
   ],
   "source": [
    "params = [3]\n",
    "\n",
    "substrate.rpc_request(\n",
    "    method='msa_getMsaKeys',\n",
    "    params=params,\n",
    ")"
   ]
  },
  {
   "cell_type": "code",
   "execution_count": 322,
   "id": "56b448b9",
   "metadata": {},
   "outputs": [
    {
     "data": {
      "text/plain": [
       "{'jsonrpc': '2.0', 'result': 3, 'id': 822}"
      ]
     },
     "execution_count": 322,
     "metadata": {},
     "output_type": "execute_result"
    }
   ],
   "source": [
    "params = [alice.ss58_address]\n",
    "\n",
    "substrate.rpc_request(\n",
    "    method='msa_getMsaId',\n",
    "    params=params,\n",
    ")"
   ]
  },
  {
   "cell_type": "code",
   "execution_count": 330,
   "id": "d8b8e88f",
   "metadata": {},
   "outputs": [
    {
     "data": {
      "text/plain": [
       "{'jsonrpc': '2.0',\n",
       " 'result': {'0': False,\n",
       "  '1': False,\n",
       "  '10': False,\n",
       "  '11': True,\n",
       "  '2': True,\n",
       "  '3': False,\n",
       "  '4': False,\n",
       "  '5': False,\n",
       "  '6': True,\n",
       "  '7': True,\n",
       "  '8': True,\n",
       "  '9': False},\n",
       " 'id': 830}"
      ]
     },
     "execution_count": 330,
     "metadata": {},
     "output_type": "execute_result"
    }
   ],
   "source": [
    "params = [list(range(12)), 3]\n",
    "\n",
    "substrate.rpc_request(\n",
    "    method='msa_checkDelegations',\n",
    "    params=params,\n",
    ")"
   ]
  },
  {
   "cell_type": "code",
   "execution_count": 332,
   "id": "12a2681e",
   "metadata": {},
   "outputs": [
    {
     "data": {
      "text/plain": [
       "{'jsonrpc': '2.0',\n",
       " 'result': {'data': 'subreddit,author,title,selftext,url,is_nsfw,dsvs',\n",
       "  'schema_id': 2},\n",
       " 'id': 831}"
      ]
     },
     "execution_count": 332,
     "metadata": {},
     "output_type": "execute_result"
    }
   ],
   "source": [
    "params = [2]\n",
    "\n",
    "substrate.rpc_request(\n",
    "    method='schemas_getBySchemaId',\n",
    "    params=params,\n",
    ")"
   ]
  },
  {
   "cell_type": "code",
   "execution_count": 338,
   "id": "0822e96d",
   "metadata": {
    "scrolled": true
   },
   "outputs": [],
   "source": [
    "# params = [_,'subreddit,author,title,selftext,url,is_nsfw,dsvs'.encode().hex()]\n",
    "\n",
    "# substrate.rpc_request(\n",
    "#     method='schemas_checkSchemaValidity',\n",
    "#     params=params,\n",
    "# )"
   ]
  },
  {
   "cell_type": "code",
   "execution_count": null,
   "id": "3e3a48ff",
   "metadata": {},
   "outputs": [],
   "source": []
  },
  {
   "cell_type": "code",
   "execution_count": null,
   "id": "f4f17b20",
   "metadata": {},
   "outputs": [],
   "source": []
  },
  {
   "cell_type": "code",
   "execution_count": null,
   "id": "3ecb62a4",
   "metadata": {},
   "outputs": [],
   "source": []
  },
  {
   "cell_type": "code",
   "execution_count": null,
   "id": "e5c10fa0",
   "metadata": {},
   "outputs": [],
   "source": []
  },
  {
   "cell_type": "markdown",
   "id": "40051904",
   "metadata": {},
   "source": [
    "# Below is test code"
   ]
  },
  {
   "cell_type": "code",
   "execution_count": 215,
   "id": "e6771d6f",
   "metadata": {
    "scrolled": true
   },
   "outputs": [],
   "source": [
    "def subscription_handler(obj, update_nr, subscription_id):\n",
    "\n",
    "    print(f\"New block #{obj['header']['number']} produced b\")\n",
    "    print(obj)\n",
    "\n",
    "    if update_nr > 10:\n",
    "        return {'message': 'Subscription will cancel when a value is returned', 'updates_processed': update_nr}\n",
    "\n",
    "\n",
    "# result = substrate.subscribe_block_headers?"
   ]
  },
  {
   "cell_type": "code",
   "execution_count": 281,
   "id": "964f5951",
   "metadata": {
    "scrolled": true
   },
   "outputs": [],
   "source": [
    "t = substrate.get_block(substrate.get_block_hash(2662))"
   ]
  },
  {
   "cell_type": "code",
   "execution_count": 291,
   "id": "05445ec0",
   "metadata": {},
   "outputs": [],
   "source": [
    "t = substrate.get_runtime_events(substrate.get_block_hash(2662))"
   ]
  },
  {
   "cell_type": "code",
   "execution_count": 292,
   "id": "1a1a130a",
   "metadata": {},
   "outputs": [
    {
     "data": {
      "text/plain": [
       "{'phase': 'Initialization',\n",
       " 'extrinsic_idx': None,\n",
       " 'event': {'event_index': '2300',\n",
       "  'module_id': 'Messages',\n",
       "  'event_id': 'MessagesStored',\n",
       "  'attributes': (2, 2661, 4)},\n",
       " 'event_index': 35,\n",
       " 'module_id': 'Messages',\n",
       " 'event_id': 'MessagesStored',\n",
       " 'attributes': (2, 2661, 4),\n",
       " 'topics': []}"
      ]
     },
     "execution_count": 292,
     "metadata": {},
     "output_type": "execute_result"
    }
   ],
   "source": [
    "t['result'][0]"
   ]
  },
  {
   "cell_type": "code",
   "execution_count": 293,
   "id": "31a54b4a",
   "metadata": {},
   "outputs": [
    {
     "data": {
      "text/plain": [
       "[{'phase': 'Initialization',\n",
       "  'extrinsic_idx': None,\n",
       "  'event': {'event_index': '2300',\n",
       "   'module_id': 'Messages',\n",
       "   'event_id': 'MessagesStored',\n",
       "   'attributes': (2, 2661, 4)},\n",
       "  'event_index': 35,\n",
       "  'module_id': 'Messages',\n",
       "  'event_id': 'MessagesStored',\n",
       "  'attributes': (2, 2661, 4),\n",
       "  'topics': []},\n",
       " {'phase': 'ApplyExtrinsic',\n",
       "  'extrinsic_idx': 0,\n",
       "  'event': {'event_index': '0000',\n",
       "   'module_id': 'System',\n",
       "   'event_id': 'ExtrinsicSuccess',\n",
       "   'attributes': {'weight': 0, 'class': 'Mandatory', 'pays_fee': 'Yes'}},\n",
       "  'event_index': 0,\n",
       "  'module_id': 'System',\n",
       "  'event_id': 'ExtrinsicSuccess',\n",
       "  'attributes': {'weight': 0, 'class': 'Mandatory', 'pays_fee': 'Yes'},\n",
       "  'topics': []},\n",
       " {'phase': 'ApplyExtrinsic',\n",
       "  'extrinsic_idx': 1,\n",
       "  'event': {'event_index': '0000',\n",
       "   'module_id': 'System',\n",
       "   'event_id': 'ExtrinsicSuccess',\n",
       "   'attributes': {'weight': 155247000,\n",
       "    'class': 'Mandatory',\n",
       "    'pays_fee': 'Yes'}},\n",
       "  'event_index': 0,\n",
       "  'module_id': 'System',\n",
       "  'event_id': 'ExtrinsicSuccess',\n",
       "  'attributes': {'weight': 155247000, 'class': 'Mandatory', 'pays_fee': 'Yes'},\n",
       "  'topics': []}]"
      ]
     },
     "execution_count": 293,
     "metadata": {},
     "output_type": "execute_result"
    }
   ],
   "source": [
    "t['result']"
   ]
  },
  {
   "cell_type": "code",
   "execution_count": 267,
   "id": "e765c31a",
   "metadata": {},
   "outputs": [
    {
     "data": {
      "text/plain": [
       "'0x0dcab630b48836b3eef826e03d2e62cc29ed8b719abb25a25a28d4398a234be3'"
      ]
     },
     "execution_count": 267,
     "metadata": {},
     "output_type": "execute_result"
    }
   ],
   "source": [
    "i = 0\n",
    "block_hash = substrate.get_block_hash(i)\n",
    "while (substrate.block_hash != block_hash):\n",
    "    for event in substrate.get_runtime_events(block_hash)['results']:\n",
    "        if event['event_id'] == 'MessagesStored':\n",
    "            \n",
    "    block_hash = substrate.get_block_hash(i)"
   ]
  },
  {
   "cell_type": "code",
   "execution_count": null,
   "id": "1f586ec1",
   "metadata": {},
   "outputs": [],
   "source": []
  },
  {
   "cell_type": "code",
   "execution_count": 113,
   "id": "6feb4450",
   "metadata": {},
   "outputs": [
    {
     "ename": "ValueError",
     "evalue": "Given storage function is not a map",
     "output_type": "error",
     "traceback": [
      "\u001b[0;31m---------------------------------------------------------------------------\u001b[0m",
      "\u001b[0;31mValueError\u001b[0m                                Traceback (most recent call last)",
      "\u001b[0;32m<ipython-input-113-03f111604d3d>\u001b[0m in \u001b[0;36m<module>\u001b[0;34m\u001b[0m\n\u001b[0;32m----> 1\u001b[0;31m \u001b[0msubstrate\u001b[0m\u001b[0;34m.\u001b[0m\u001b[0mquery_map\u001b[0m\u001b[0;34m(\u001b[0m\u001b[0;34m'System'\u001b[0m\u001b[0;34m,\u001b[0m \u001b[0;34m'Events'\u001b[0m\u001b[0;34m,\u001b[0m \u001b[0mpage_size\u001b[0m\u001b[0;34m=\u001b[0m\u001b[0;36m200\u001b[0m\u001b[0;34m,\u001b[0m \u001b[0mmax_results\u001b[0m\u001b[0;34m=\u001b[0m\u001b[0;36m400\u001b[0m\u001b[0;34m)\u001b[0m\u001b[0;34m\u001b[0m\u001b[0;34m\u001b[0m\u001b[0m\n\u001b[0m",
      "\u001b[0;32m~/.local/lib/python3.6/site-packages/substrateinterface/base.py\u001b[0m in \u001b[0;36mquery_map\u001b[0;34m(self, module, storage_function, params, block_hash, max_results, start_key, page_size, ignore_decoding_errors)\u001b[0m\n\u001b[1;32m   1218\u001b[0m         \u001b[0;31m# Check MapType condititions\u001b[0m\u001b[0;34m\u001b[0m\u001b[0;34m\u001b[0m\u001b[0;34m\u001b[0m\u001b[0m\n\u001b[1;32m   1219\u001b[0m         \u001b[0;32mif\u001b[0m \u001b[0mlen\u001b[0m\u001b[0;34m(\u001b[0m\u001b[0mparam_types\u001b[0m\u001b[0;34m)\u001b[0m \u001b[0;34m==\u001b[0m \u001b[0;36m0\u001b[0m\u001b[0;34m:\u001b[0m\u001b[0;34m\u001b[0m\u001b[0;34m\u001b[0m\u001b[0m\n\u001b[0;32m-> 1220\u001b[0;31m             \u001b[0;32mraise\u001b[0m \u001b[0mValueError\u001b[0m\u001b[0;34m(\u001b[0m\u001b[0;34m'Given storage function is not a map'\u001b[0m\u001b[0;34m)\u001b[0m\u001b[0;34m\u001b[0m\u001b[0;34m\u001b[0m\u001b[0m\n\u001b[0m\u001b[1;32m   1221\u001b[0m \u001b[0;34m\u001b[0m\u001b[0m\n\u001b[1;32m   1222\u001b[0m         \u001b[0;32mif\u001b[0m \u001b[0mlen\u001b[0m\u001b[0;34m(\u001b[0m\u001b[0mparams\u001b[0m\u001b[0;34m)\u001b[0m \u001b[0;34m!=\u001b[0m \u001b[0mlen\u001b[0m\u001b[0;34m(\u001b[0m\u001b[0mparam_types\u001b[0m\u001b[0;34m)\u001b[0m \u001b[0;34m-\u001b[0m \u001b[0;36m1\u001b[0m\u001b[0;34m:\u001b[0m\u001b[0;34m\u001b[0m\u001b[0;34m\u001b[0m\u001b[0m\n",
      "\u001b[0;31mValueError\u001b[0m: Given storage function is not a map"
     ]
    }
   ],
   "source": [
    "substrate.query_map('System', 'Events', page_size=200, max_results=400)"
   ]
  },
  {
   "cell_type": "code",
   "execution_count": null,
   "id": "3b8caad2",
   "metadata": {},
   "outputs": [],
   "source": [
    "substrate.query(\n",
    "    module='System',\n",
    "    storage_function='Events',\n",
    "    params=[],\n",
    "    block_hash=substrate.get_block_hash(2)\n",
    ")"
   ]
  },
  {
   "cell_type": "code",
   "execution_count": 216,
   "id": "9453a7bb",
   "metadata": {
    "scrolled": true
   },
   "outputs": [
    {
     "data": {
      "text/plain": [
       "{'extrinsics': [<GenericExtrinsic(value={'extrinsic_hash': None, 'extrinsic_length': 2560, 'call': {'call_index': '0x0100', 'call_function': 'set_validation_data', 'call_module': 'ParachainSystem', 'call_args': [{'name': 'data', 'type': 'ParachainInherentData', 'value': {'validation_data': {'parent_head': '0xae7cfd3c0434d0d0a0e5ba03386e391c975b374dd842205f5dd4edaf021b5d8db926bfd04ad63c044b701e546364e122ea639eac1eeec0a70c553d3caba776627ca15e05f28d6d12e352af47f309e14ac70c49f80646203e9ded482da5dc499fa49e0806617572612020ff370800000000056175726101013e1df712b08c5f084b57ace48456addcc1778c7e031be0300f4db20c0eba402fd16d4c53a522c30fa3086fe7e67836f736ec3a55b4d092cbb48f3bf569cc1686', 'relay_parent_number': 10003, 'relay_parent_storage_root': '0x3355ce1a81be66eb6e6ff400dab59b33ac78d865002c10db1eafe211c193fa33', 'max_pov_size': 5242880}, 'relay_chain_state': {'trie_nodes': ['0x5f04b49d95320d9021994c850f25b8e3851d03000030000080000008000000000010000000100005000000050000000200000002000000000050000000100000e8764817000000040000000400000000000000000000000000000000000000000000000000000000000000000000000800000000200000040000000400000000001000b0040000000000000000000014000000040000000400000000000000010100000000060000006400000002000000c8000000020000001900000000000000020000000200000000c817a804000000000200000005000000', '0x80011080946943ae000a3f4730e43a3b734d76e6d4ea8f9f43a6e92c52147686d39f786780114a7bc19738090504cd50c321014cd7acf21a0e742e68e76584b9f5e63850af', '0x8004648086a9239b72237f5bf119e2a880c32f5866460632700509cb874c60f67fe815ea80f6f6801e4b41e2e6d8ec194dba122bfb9eb33feb2545ef5144cea79551f7cc52805dd078f8b2fc71a053f5bc85188d3226170fd1fc5e006ceaba06af096c2e6b9680aa5f88c2815c25296a62e693f8a0634976389183f688447821171ea1032c4649', '0x800814809f3ada68c357b5e0a3ebb39ef181acfa9943af4725c244330a4b2c60837612e880d3badecface059b11c5be06e1af8790657e9fdc7c88d8856a793e9cfd623e49480517736f059379ae47402cf9b5d9306d732b3a57362f23690da174c9ace2d1684', '0x801017806ad8bda250a43737b26933c1b7bebe6f4fe689b2888ff5ab4833d7394853350f8038f5c136db5bdb74d6a62722e6ea23af4fe820eb7fe28dee3a5f76d637dd3376800ba4f391b14ca69cea3c77ea82309abf3e622afad596b24c12cbf7a5b951a8fa8065a1214a991ac85d93f38385d6f52af7b4ddcf56e589fcb92c8d9e8f27291c9280fad7869bc2e2fc0f1f4605d0c353530ef4af466a85f6455f3354e151f9d715b1', '0x80210280cac5e0bd1a24d6821111ba936695ccb0db7635ff0965b715f3bb429a353d1fca801a2ff24096295cfccf1adda80b8dfffe380b9f3b54d7a3cdb67864a4655e62968022a699b2cc90a6654c84163d2a498506b192afe7cd9777227e5288e8ff069c0f', '0x804001801b70e624a01121aa1aa386f14a355a9567e9ec145cbdecfe1ce5a3fef53abb6c807f67bb40ce9b93cb702f4e492c4de26a3dec02548ef95e11f316e7ffdb1cca39', '0x80fffe80ffa654bfc1584564a6f4dbdcbeffdd70115bee206489a363e8d0e8621a12e4de8038af9011f112b9a090f9a881fd44c970746d57fdee31c0f1c135ca3b68f9b392802d16434c240e883dafb48a31820d7ebb802fff3e31fdaefc037288c2105ac4d980d8906b0c1790324215d9e483eec65534cee901e0d596646627437bda937d61f280d655ccc56720427684881982cd9f83a8d48f161d3a4beb7b0e5ab7c3c4c0a9a080d8531489c42bc44482164bac3348e1d28ab70ef41d6a504659fe4c27e3c1faf6807fb5ded2ba14d5162c2e78bccb6458eea5d94835a68870076c86ee44607ef0298051aa3b2e1aee3bc08a579f37d2573e0fd7b5d190acee0e778fe020c230b9fa2c800f572897c432600012256305cb9496d4398b20b53bb190ae71726b0e637448d08081788e759c382f1fae0eae1a6c016691e5f4928f000fc0b1a3157c374759d9c2800739cfa647eef28a0f527c80c6b4b9d8a480ac6c02ee493dfed78b074c8a1f79802590718a172793b3e6ecb442a016876086000762ce2169e4d4fd61ce354ccf22804d35e7c5fa1ba32bd1389c3f4daa77f6bec6f93ec98fb8eadc7b96ed68a93f3e8031a31eeb0bce5a8dcd32bcb7d3d881316c2c3b23cbd085238d7519eee630929d806af6a01ad789cebb6f8c032624dd8c75b65eef6c3bcd1295c372cab1d8b15be8', '0x9d0da05ca59913bc38a8630590f2627c154080546aea1a34f23406464a0c0765287451dcdc9e5c81b652912449d4ce044faf134c5f0a351b6a99a5b21324516e668bb86a570400505f0e7b9012096b41c4eb3aaf947f6ea4290800007c7700e67da63472835bb0b737093a19ad4c63f5a4efb16ffa83d00700000400', '0x9e207f03cfdce586301014700e2c25931040505f0e7b9012096b41c4eb3aaf947f6ea4290800004c5f0ec2d17a76153ff51817f12d9cfc3c7f0400', '0x9e710b30bd2eab0352ddcc26417aa1945fc380699a53b51a9709a3a86039c49b5ef278e9fc244dae27e1a0380c91bff5b048858003ed568d35853ffedc33e0bfec2abc46a78ff8917d0b9d88790e9207e8118ede7c77081e0bfde17b36573208a06cb5cfba6b63f5a4efb16ffa83d00700000402809892e572dd7de882418979c2548a718bef9b5cb00efd607a1e36bb573ae87718505f0e7b9012096b41c4eb3aaf947f6ea4290800004c5f03c716fb8fff3de61a883bb76adb34a20400804b2b8b686243ba59b0fa7a9effeffcf1e5137fe72bcbebaee90bc6d9bbc3849c4c5f0f4993f016e2d2f8e5f43be7bb259486040080241a9df7cb91c6ef496a21aa1b989573a6f37fbda32d985a48abe037d5ef89f04c5f0dad6eef5c4b1c68eaa71ea17a02d9de0400', '0x9eb6f36e027abb2091cfb5110ab5087ff96c685f06155b3cd9a8c9e5e9a23fd5dc13a5ed2044fe6f1000000000685f08316cbf8fa0da822a20ac1c55bf1be320e803000000000000505f0e7b9012096b41c4eb3aaf947f6ea42908000080b91b4c3190c3c118f75aeba80be97cd9bb57cb46b2ac89d5e147466f71b506a580085ea6df3a692bb155730b91873a88d6276bea6f769bbe4bb751f90d4bb6830a803c7976b604717862117914d017bc4bf5fd9251e5e9e0fd3debea9494c00c4a0580b10bc2087a1a925318d66168effcd0100f1104d353039ae5e89c42a287fe741e8029e5dcb3341f6837b13617cb071de651ae2c8f19005c5b808867a34cc8fab89380526ad52f437cdf8d3c62c4c3256ea658cb6d91cf289b41f41d253b1f0d2e493a685f090e2fbf2d792cb324bffa9427fe1f0e200727000011270000', '0x9ede3d8a54d27e44a9d5ce189618f22d1008505f0e7b9012096b41c4eb3aaf947f6ea429080200804661925741afdeb52d12ad6c36d745f82559d6b0825f047e52d5b8e932e801b7', '0x9ef78c98723ddc9073523ef3beefda0c1004505f0e7b9012096b41c4eb3aaf947f6ea4290800007c77095dac46c07a40d91506e7637ec4ba5763f5a4efb16ffa83d00700000400']}, 'downward_messages': [], 'horizontal_messages': []}}], 'call_hash': '0x0764817dc567b0eb53ac41ed362317caded81ba8704e06f53606f9a1998982f9'}})>,\n",
       "  <GenericExtrinsic(value={'extrinsic_hash': None, 'extrinsic_length': 10, 'call': {'call_index': '0x0200', 'call_function': 'set', 'call_module': 'Timestamp', 'call_args': [{'name': 'now', 'type': 'Moment', 'value': 1654650264031}], 'call_hash': '0x90f3665354f57fc772f2aec49d2a13ca95e8d13139ed98c061d78a529f94d354'}})>,\n",
       "  <GenericExtrinsic(value={'extrinsic_hash': '0x78c32a2d1ab1f01b06403a2494bb62bffbd9932d9006f70ddc9b088aabacaf14', 'extrinsic_length': 271, 'address': '5E4ZNsV3jXbcjbZLytjFnQtgrjqej7RDNZNuEppp9BBdDVeX', 'signature': {'Sr25519': '0x369564245c318e2a026484c19f701808f004f8daa843a8c75e9d7b6ba217914baa811a36bd5ffc5fc30fb64d07eaf5e9b4aa932ba66acc78d30b7b6adf78848c'}, 'era': '00', 'nonce': 2, 'tip': 0, 'call': {'call_index': '0x2300', 'call_function': 'add', 'call_module': 'Messages', 'call_args': [{'name': 'schema_id', 'type': 'SchemaId', 'value': 2}, {'name': 'message', 'type': 'Bytes', 'value': 'AskReddit,LazarShockX,What are some good ice breaker questions?,,https://www.reddit.com/r/AskReddit/comments/v5ihpk/what_are_some_good_ice_breaker_questions/,False'}], 'call_hash': '0x5e9c016cd9c57057eb672c4e23f93934d7b6311f1e04e704cb55bb21cb48c165'}})>],\n",
       " 'header': {'digest': {'logs': [<scale_info::13(value={'PreRuntime': ('0x61757261', '0x22ff370800000000')})>,\n",
       "    <scale_info::13(value={'Seal': ('0x61757261', '0x2ae14e1ee47896da81e4f32e5dfcd4e56450c4df0ee1886b3e14917187a9a10d384b99469bb7a546aed0e4a2643eb2554463c4d602b07c8952fe0541cbb00787')})>]},\n",
       "  'extrinsicsRoot': '0x20e100eb889fef40b8b502813ec732bf4e738ac7ed3f7a1e084e8914838bf3bd',\n",
       "  'number': 2479,\n",
       "  'parentHash': '0x770e126ca03002fa0a6a2eef665ba0536a88b8abdb370fc38ada6bdac3899fa7',\n",
       "  'stateRoot': '0x4e5f80c8d2b79f1ffab5d36d14651539b8f65ed823a519df67192d383cbc0ea4',\n",
       "  'hash': '0x361cdbd8abbf1e9d0e10f51050872f70fe4253cb55078e6be88935dac2995938'}}"
      ]
     },
     "execution_count": 216,
     "metadata": {},
     "output_type": "execute_result"
    }
   ],
   "source": [
    "substrate.get_block(\"0x361cdbd8abbf1e9d0e10f51050872f70fe4253cb55078e6be88935dac2995938\")"
   ]
  },
  {
   "cell_type": "code",
   "execution_count": 244,
   "id": "3c51998b",
   "metadata": {},
   "outputs": [
    {
     "data": {
      "text/plain": [
       "('5c0d1176a568c1f92944340dbfed9e9c530ebca703c85910e7164cb7d1c9e47b',\n",
       " '50a63a871aced22e88ee6466fe5aa5d9')"
      ]
     },
     "execution_count": 244,
     "metadata": {},
     "output_type": "execute_result"
    }
   ],
   "source": [
    "substrateinterface.utils.hasher.xxh128(\"Sudo\".encode()) + substrateinterface.utils.hasher.xxh128(\"Key\".encode())"
   ]
  },
  {
   "cell_type": "code",
   "execution_count": 237,
   "id": "f12cb511",
   "metadata": {},
   "outputs": [],
   "source": [
    "substrate.rpc_request?"
   ]
  },
  {
   "cell_type": "code",
   "execution_count": 302,
   "id": "82613a61",
   "metadata": {},
   "outputs": [
    {
     "data": {
      "text/plain": [
       "4"
      ]
     },
     "execution_count": 302,
     "metadata": {},
     "output_type": "execute_result"
    }
   ],
   "source": [
    "provider_msa_id"
   ]
  },
  {
   "cell_type": "code",
   "execution_count": 308,
   "id": "4d600e85",
   "metadata": {},
   "outputs": [
    {
     "data": {
      "text/plain": [
       "2"
      ]
     },
     "execution_count": 308,
     "metadata": {},
     "output_type": "execute_result"
    }
   ],
   "source": [
    "schemaId"
   ]
  },
  {
   "cell_type": "code",
   "execution_count": 310,
   "id": "d1e614b8",
   "metadata": {
    "scrolled": true
   },
   "outputs": [
    {
     "data": {
      "text/plain": [
       "{'jsonrpc': '2.0',\n",
       " 'result': {'content': [{'block_number': 2366,\n",
       "    'data': '0x41736b5265646469742c4c617a617253686f636b582c576861742061726520736f6d6520676f6f642069636520627265616b6572207175657374696f6e733f2c2c68747470733a2f2f7777772e7265646469742e636f6d2f722f41736b5265646469742f636f6d6d656e74732f76356968706b2f776861745f6172655f736f6d655f676f6f645f6963655f627265616b65725f7175657374696f6e732f2c46616c7365',\n",
       "    'index': 0,\n",
       "    'msa_id': 9,\n",
       "    'signer': '5DJhKK6JJzZHcF5V1C4e9noRHcid3C73SRW7xRCnSvNNJa3v'},\n",
       "   {'block_number': 2374,\n",
       "    'data': '0x41736b5265646469742c4c617a617253686f636b582c576861742061726520736f6d6520676f6f642069636520627265616b6572207175657374696f6e733f2c2c68747470733a2f2f7777772e7265646469742e636f6d2f722f41736b5265646469742f636f6d6d656e74732f76356968706b2f776861745f6172655f736f6d655f676f6f645f6963655f627265616b65725f7175657374696f6e732f2c46616c7365',\n",
       "    'index': 0,\n",
       "    'msa_id': 9,\n",
       "    'signer': '5DJhKK6JJzZHcF5V1C4e9noRHcid3C73SRW7xRCnSvNNJa3v'},\n",
       "   {'block_number': 2468,\n",
       "    'data': '0x41736b5265646469742c4c617a617253686f636b582c576861742061726520736f6d6520676f6f642069636520627265616b6572207175657374696f6e733f2c2c68747470733a2f2f7777772e7265646469742e636f6d2f722f41736b5265646469742f636f6d6d656e74732f76356968706b2f776861745f6172655f736f6d655f676f6f645f6963655f627265616b65725f7175657374696f6e732f2c46616c7365',\n",
       "    'index': 0,\n",
       "    'msa_id': 10,\n",
       "    'signer': '5E4ZNsV3jXbcjbZLytjFnQtgrjqej7RDNZNuEppp9BBdDVeX'},\n",
       "   {'block_number': 2479,\n",
       "    'data': '0x41736b5265646469742c4c617a617253686f636b582c576861742061726520736f6d6520676f6f642069636520627265616b6572207175657374696f6e733f2c2c68747470733a2f2f7777772e7265646469742e636f6d2f722f41736b5265646469742f636f6d6d656e74732f76356968706b2f776861745f6172655f736f6d655f676f6f645f6963655f627265616b65725f7175657374696f6e732f2c46616c7365',\n",
       "    'index': 0,\n",
       "    'msa_id': 10,\n",
       "    'signer': '5E4ZNsV3jXbcjbZLytjFnQtgrjqej7RDNZNuEppp9BBdDVeX'},\n",
       "   {'block_number': 2517,\n",
       "    'data': '0x41736b5265646469742c4c617a617253686f636b582c576861742061726520736f6d6520676f6f642069636520627265616b6572207175657374696f6e733f2c2c68747470733a2f2f7777772e7265646469742e636f6d2f722f41736b5265646469742f636f6d6d656e74732f76356968706b2f776861745f6172655f736f6d655f676f6f645f6963655f627265616b65725f7175657374696f6e732f2c46616c7365',\n",
       "    'index': 0,\n",
       "    'msa_id': 3,\n",
       "    'signer': '5GrwvaEF5zXb26Fz9rcQpDWS57CtERHpNehXCPcNoHGKutQY'},\n",
       "   {'block_number': 2550,\n",
       "    'data': '0x41736b5265646469742c4c617a617253686f636b582c576861742061726520736f6d6520676f6f642069636520627265616b6572207175657374696f6e733f2c2c68747470733a2f2f7777772e7265646469742e636f6d2f722f41736b5265646469742f636f6d6d656e74732f76356968706b2f776861745f6172655f736f6d655f676f6f645f6963655f627265616b65725f7175657374696f6e732f2c46616c7365',\n",
       "    'index': 0,\n",
       "    'msa_id': 3,\n",
       "    'signer': '5GrwvaEF5zXb26Fz9rcQpDWS57CtERHpNehXCPcNoHGKutQY'},\n",
       "   {'block_number': 2557,\n",
       "    'data': '0x41736b5265646469742c4c617a617253686f636b582c576861742061726520736f6d6520676f6f642069636520627265616b6572207175657374696f6e733f2c2c68747470733a2f2f7777772e7265646469742e636f6d2f722f41736b5265646469742f636f6d6d656e74732f76356968706b2f776861745f6172655f736f6d655f676f6f645f6963655f627265616b65725f7175657374696f6e732f2c46616c7365',\n",
       "    'index': 0,\n",
       "    'msa_id': 3,\n",
       "    'signer': '5GrwvaEF5zXb26Fz9rcQpDWS57CtERHpNehXCPcNoHGKutQY'},\n",
       "   {'block_number': 2634,\n",
       "    'data': '0x41736b5265646469742c4c617a617253686f636b582c576861742061726520736f6d6520676f6f642069636520627265616b6572207175657374696f6e733f2c2c68747470733a2f2f7777772e7265646469742e636f6d2f722f41736b5265646469742f636f6d6d656e74732f76356968706b2f776861745f6172655f736f6d655f676f6f645f6963655f627265616b65725f7175657374696f6e732f2c46616c7365',\n",
       "    'index': 0,\n",
       "    'msa_id': 3,\n",
       "    'signer': '5GrwvaEF5zXb26Fz9rcQpDWS57CtERHpNehXCPcNoHGKutQY'},\n",
       "   {'block_number': 2661,\n",
       "    'data': '0x41736b5265646469742c4c617a617253686f636b582c576861742061726520736f6d6520676f6f642069636520627265616b6572207175657374696f6e733f2c2c68747470733a2f2f7777772e7265646469742e636f6d2f722f41736b5265646469742f636f6d6d656e74732f76356968706b2f776861745f6172655f736f6d655f676f6f645f6963655f627265616b65725f7175657374696f6e732f2c46616c7365',\n",
       "    'index': 0,\n",
       "    'msa_id': 3,\n",
       "    'signer': '5GrwvaEF5zXb26Fz9rcQpDWS57CtERHpNehXCPcNoHGKutQY'},\n",
       "   {'block_number': 2661,\n",
       "    'data': '0x41736b5265646469742c4c617a617253686f636b582c576861742061726520736f6d6520676f6f642069636520627265616b6572207175657374696f6e733f2c2c68747470733a2f2f7777772e7265646469742e636f6d2f722f41736b5265646469742f636f6d6d656e74732f76356968706b2f776861745f6172655f736f6d655f676f6f645f6963655f627265616b65725f7175657374696f6e732f2c46616c7365',\n",
       "    'index': 1,\n",
       "    'msa_id': 4,\n",
       "    'signer': '5FHneW46xGXgs5mUiveU4sbTyGBzmstUspZC92UhjJM694ty'},\n",
       "   {'block_number': 2661,\n",
       "    'data': '0x41736b5265646469742c4c617a617253686f636b582c576861742061726520736f6d6520676f6f642069636520627265616b6572207175657374696f6e733f2c2c68747470733a2f2f7777772e7265646469742e636f6d2f722f41736b5265646469742f636f6d6d656e74732f76356968706b2f776861745f6172655f736f6d655f676f6f645f6963655f627265616b65725f7175657374696f6e732f2c46616c7365',\n",
       "    'index': 2,\n",
       "    'msa_id': 3,\n",
       "    'signer': '5GrwvaEF5zXb26Fz9rcQpDWS57CtERHpNehXCPcNoHGKutQY'},\n",
       "   {'block_number': 2661,\n",
       "    'data': '0x41736b5265646469742c4c617a617253686f636b582c576861742061726520736f6d6520676f6f642069636520627265616b6572207175657374696f6e733f2c2c68747470733a2f2f7777772e7265646469742e636f6d2f722f41736b5265646469742f636f6d6d656e74732f76356968706b2f776861745f6172655f736f6d655f676f6f645f6963655f627265616b65725f7175657374696f6e732f2c46616c7365',\n",
       "    'index': 3,\n",
       "    'msa_id': 4,\n",
       "    'signer': '5FHneW46xGXgs5mUiveU4sbTyGBzmstUspZC92UhjJM694ty'},\n",
       "   {'block_number': 2680,\n",
       "    'data': '0x41736b5265646469742c4c617a617253686f636b582c576861742061726520736f6d6520676f6f642069636520627265616b6572207175657374696f6e733f2c2c68747470733a2f2f7777772e7265646469742e636f6d2f722f41736b5265646469742f636f6d6d656e74732f76356968706b2f776861745f6172655f736f6d655f676f6f645f6963655f627265616b65725f7175657374696f6e732f2c46616c7365',\n",
       "    'index': 0,\n",
       "    'msa_id': 3,\n",
       "    'signer': '5GrwvaEF5zXb26Fz9rcQpDWS57CtERHpNehXCPcNoHGKutQY'}],\n",
       "  'has_next': False},\n",
       " 'id': 812}"
      ]
     },
     "execution_count": 310,
     "metadata": {},
     "output_type": "execute_result"
    }
   ],
   "source": [
    "params = [\n",
    "    2,\n",
    "    {\n",
    "        \"page_size\": 10000,\n",
    "        \"from_block\": 0,\n",
    "        \"to_block\": 10000,\n",
    "        \"from_index\": 1,\n",
    "    }\n",
    "#     substrateinterface.utils.hasher.xxh128(\"Messages\".encode()) + substrateinterface.utils.hasher.xxh128(\"BlockMessages\".encode()),\n",
    "#     substrate.get_block_hash(2)\n",
    "]\n",
    "\n",
    "substrate.rpc_request(\n",
    "    method='messages_getBySchema',\n",
    "    params=params,\n",
    ")"
   ]
  },
  {
   "cell_type": "code",
   "execution_count": 224,
   "id": "43b59131",
   "metadata": {},
   "outputs": [
    {
     "data": {
      "text/plain": [
       "<xxhash.xxh3_128 at 0x7f6626692890>"
      ]
     },
     "execution_count": 224,
     "metadata": {},
     "output_type": "execute_result"
    }
   ],
   "source": [
    "s"
   ]
  },
  {
   "cell_type": "code",
   "execution_count": 351,
   "id": "22c9a7fe",
   "metadata": {},
   "outputs": [],
   "source": [
    "t = data['result']['content'][0]['data']"
   ]
  },
  {
   "cell_type": "code",
   "execution_count": 356,
   "id": "0da4fab0",
   "metadata": {},
   "outputs": [
    {
     "data": {
      "text/plain": [
       "'AskReddit,LazarShockX,What are some good ice breaker questions?,,https://www.reddit.com/r/AskReddit/comments/v5ihpk/what_are_some_good_ice_breaker_questions/,False'"
      ]
     },
     "execution_count": 356,
     "metadata": {},
     "output_type": "execute_result"
    }
   ],
   "source": [
    "bytes.fromhex(data['result']['content'][0]['data'][2:]).decode()"
   ]
  },
  {
   "cell_type": "code",
   "execution_count": 354,
   "id": "b5559b2b",
   "metadata": {},
   "outputs": [
    {
     "data": {
      "text/plain": [
       "'AskReddit,LazarShockX,What are some good ice breaker questions?,,https://www.reddit.com/r/AskReddit/comments/v5ihpk/what_are_some_good_ice_breaker_questions/,False'"
      ]
     },
     "execution_count": 354,
     "metadata": {},
     "output_type": "execute_result"
    }
   ],
   "source": [
    "bytes.fromhex(message.encode().hex()).decode()"
   ]
  },
  {
   "cell_type": "code",
   "execution_count": 348,
   "id": "3f7213d8",
   "metadata": {},
   "outputs": [
    {
     "data": {
      "text/plain": [
       "'41736b5265646469742c4c617a617253686f636b582c576861742061726520736f6d6520676f6f642069636520627265616b6572207175657374696f6e733f2c2c68747470733a2f2f7777772e7265646469742e636f6d2f722f41736b5265646469742f636f6d6d656e74732f76356968706b2f776861745f6172655f736f6d655f676f6f645f6963655f627265616b65725f7175657374696f6e732f2c46616c7365'"
      ]
     },
     "execution_count": 348,
     "metadata": {},
     "output_type": "execute_result"
    }
   ],
   "source": [
    "message.encode().hex()"
   ]
  },
  {
   "cell_type": "code",
   "execution_count": null,
   "id": "dc52fd74",
   "metadata": {},
   "outputs": [],
   "source": []
  },
  {
   "cell_type": "code",
   "execution_count": null,
   "id": "adf1fe5f",
   "metadata": {},
   "outputs": [],
   "source": []
  },
  {
   "cell_type": "code",
   "execution_count": null,
   "id": "02aa8bbf",
   "metadata": {},
   "outputs": [],
   "source": []
  },
  {
   "cell_type": "code",
   "execution_count": null,
   "id": "a4a57aa7",
   "metadata": {},
   "outputs": [],
   "source": []
  },
  {
   "cell_type": "code",
   "execution_count": null,
   "id": "f4c3b446",
   "metadata": {},
   "outputs": [],
   "source": []
  }
 ],
 "metadata": {
  "kernelspec": {
   "display_name": "Python 3",
   "language": "python",
   "name": "python3"
  },
  "language_info": {
   "codemirror_mode": {
    "name": "ipython",
    "version": 3
   },
   "file_extension": ".py",
   "mimetype": "text/x-python",
   "name": "python",
   "nbconvert_exporter": "python",
   "pygments_lexer": "ipython3",
   "version": "3.6.9"
  }
 },
 "nbformat": 4,
 "nbformat_minor": 5
}
