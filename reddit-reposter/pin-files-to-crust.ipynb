{
 "cells": [
  {
   "cell_type": "code",
   "execution_count": 2,
   "id": "f407b90a",
   "metadata": {},
   "outputs": [],
   "source": [
    "%load_ext autoreload\n",
    "%autoreload 2"
   ]
  },
  {
   "cell_type": "code",
   "execution_count": 3,
   "id": "8aea1773",
   "metadata": {},
   "outputs": [],
   "source": [
    "from substrate_helpers import *"
   ]
  },
  {
   "cell_type": "code",
   "execution_count": 14,
   "id": "b318db55",
   "metadata": {},
   "outputs": [],
   "source": [
    "import sqlite3\n",
    "import re\n",
    "import datetime\n",
    "import pandas as pd\n",
    "import os"
   ]
  },
  {
   "cell_type": "code",
   "execution_count": 8,
   "id": "e998bc93",
   "metadata": {},
   "outputs": [],
   "source": [
    "from database_queries import update_db"
   ]
  },
  {
   "cell_type": "code",
   "execution_count": 9,
   "id": "e8704869",
   "metadata": {
    "scrolled": true
   },
   "outputs": [],
   "source": [
    "from substrateinterface import SubstrateInterface, Keypair\n",
    "from substrateinterface.exceptions import SubstrateRequestException\n",
    "\n",
    "substrate = SubstrateInterface(\n",
    "    url=\"ws://127.0.0.1:9944\",\n",
    "    ss58_format=42,\n",
    "    type_registry_preset='kusama'\n",
    ")"
   ]
  },
  {
   "cell_type": "code",
   "execution_count": 10,
   "id": "1569e31f",
   "metadata": {},
   "outputs": [],
   "source": [
    "con = sqlite3.connect('postthreadV1_write.db')\n",
    "# con = sqlite3.connect('test1.db')\n",
    "cur = con.cursor()"
   ]
  },
  {
   "cell_type": "code",
   "execution_count": 25,
   "id": "e73e886c",
   "metadata": {
    "scrolled": true
   },
   "outputs": [],
   "source": [
    "df = pd.read_sql_query(\"\"\"SELECT * FROM post\"\"\", con)"
   ]
  },
  {
   "cell_type": "code",
   "execution_count": 26,
   "id": "5e18c218",
   "metadata": {},
   "outputs": [
    {
     "name": "stdout",
     "output_type": "stream",
     "text": [
      "<class 'pandas.core.frame.DataFrame'>\n",
      "RangeIndex: 12874 entries, 0 to 12873\n",
      "Data columns (total 10 columns):\n",
      " #   Column             Non-Null Count  Dtype \n",
      "---  ------             --------------  ----- \n",
      " 0   category           12874 non-null  object\n",
      " 1   title              12874 non-null  object\n",
      " 2   body               12874 non-null  object\n",
      " 3   url                12874 non-null  object\n",
      " 4   is_nsfw            12874 non-null  int64 \n",
      " 5   block_number       12874 non-null  int64 \n",
      " 6   msa_id_from_query  12874 non-null  int64 \n",
      " 7   provider_key       12874 non-null  object\n",
      " 8   date_minted        12874 non-null  object\n",
      " 9   ipfs_hash          12874 non-null  object\n",
      "dtypes: int64(3), object(7)\n",
      "memory usage: 1005.9+ KB\n"
     ]
    }
   ],
   "source": [
    "df.info()"
   ]
  },
  {
   "cell_type": "code",
   "execution_count": null,
   "id": "aa9ae744",
   "metadata": {},
   "outputs": [],
   "source": [
    "for post_hash in df['ipfs_hash']:\n",
    "    os.system(f\"npx crust-cli publish /tmp/posts/{post_hash}\""
   ]
  },
  {
   "cell_type": "code",
   "execution_count": null,
   "id": "d90cfbc2",
   "metadata": {},
   "outputs": [],
   "source": []
  }
 ],
 "metadata": {
  "kernelspec": {
   "display_name": "Python 3 (ipykernel)",
   "language": "python",
   "name": "python3"
  },
  "language_info": {
   "codemirror_mode": {
    "name": "ipython",
    "version": 3
   },
   "file_extension": ".py",
   "mimetype": "text/x-python",
   "name": "python",
   "nbconvert_exporter": "python",
   "pygments_lexer": "ipython3",
   "version": "3.8.5"
  },
  "vscode": {
   "interpreter": {
    "hash": "f90a51316803318f0b952c570a4fe32d53aa73ff3300e1da5777ab9e91b8249c"
   }
  }
 },
 "nbformat": 4,
 "nbformat_minor": 5
}
