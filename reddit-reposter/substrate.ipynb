{
 "cells": [
  {
   "cell_type": "code",
   "execution_count": 1,
   "id": "92f4e5b4",
   "metadata": {
    "scrolled": true
   },
   "outputs": [
    {
     "name": "stdout",
     "output_type": "stream",
     "text": [
      "Defaulting to user installation because normal site-packages is not writeable\n",
      "Collecting substrate-interface\n",
      "  Downloading substrate_interface-1.2.5-py3-none-any.whl (182 kB)\n",
      "     |████████████████████████████████| 182 kB 6.3 MB/s            \n",
      "\u001b[?25hRequirement already satisfied: requests<3,>=2.21.0 in ./.local/lib/python3.6/site-packages (from substrate-interface) (2.27.1)\n",
      "Collecting py-sr25519-bindings<1,>=0.1.4\n",
      "  Downloading py_sr25519_bindings-0.1.4.tar.gz (13 kB)\n",
      "  Installing build dependencies ... \u001b[?25ldone\n",
      "\u001b[?25h  Getting requirements to build wheel ... \u001b[?25ldone\n",
      "\u001b[?25h  Preparing metadata (pyproject.toml) ... \u001b[?25ldone\n",
      "\u001b[?25hRequirement already satisfied: idna<4,>=2.1.0 in ./.local/lib/python3.6/site-packages (from substrate-interface) (3.3)\n",
      "Collecting pycryptodome<4,>=3.11.0\n",
      "  Downloading pycryptodome-3.14.1-cp35-abi3-manylinux2010_x86_64.whl (2.0 MB)\n",
      "     |████████████████████████████████| 2.0 MB 50.1 MB/s            \n",
      "\u001b[?25hRequirement already satisfied: websocket-client<2,>=0.57.0 in ./.local/lib/python3.6/site-packages (from substrate-interface) (1.3.1)\n",
      "Collecting eth-utils<3,>=1.3.0\n",
      "  Downloading eth_utils-2.0.0-py3-none-any.whl (24 kB)\n",
      "Collecting py-bip39-bindings<1,>=0.1.9\n",
      "  Downloading py_bip39_bindings-0.1.9.tar.gz (9.8 kB)\n",
      "  Installing build dependencies ... \u001b[?25ldone\n",
      "\u001b[?25h  Getting requirements to build wheel ... \u001b[?25ldone\n",
      "\u001b[?25h  Preparing metadata (pyproject.toml) ... \u001b[?25ldone\n",
      "\u001b[?25hCollecting py-ed25519-bindings<2,>=1.0\n",
      "  Downloading py_ed25519_bindings-1.0.1.tar.gz (9.2 kB)\n",
      "  Installing build dependencies ... \u001b[?25ldone\n",
      "\u001b[?25h  Getting requirements to build wheel ... \u001b[?25ldone\n",
      "\u001b[?25h  Preparing metadata (pyproject.toml) ... \u001b[?25ldone\n",
      "\u001b[?25hCollecting xxhash<3,>=1.3.0\n",
      "  Downloading xxhash-2.0.2-cp36-cp36m-manylinux2010_x86_64.whl (243 kB)\n",
      "     |████████████████████████████████| 243 kB 66.5 MB/s            \n",
      "\u001b[?25hRequirement already satisfied: certifi>=2019.3.9 in ./.local/lib/python3.6/site-packages (from substrate-interface) (2022.5.18.1)\n",
      "Collecting ecdsa<1,>=0.17.0\n",
      "  Downloading ecdsa-0.17.0-py2.py3-none-any.whl (119 kB)\n",
      "     |████████████████████████████████| 119 kB 68.2 MB/s            \n",
      "\u001b[?25hCollecting scalecodec<2,>=1.0.35\n",
      "  Downloading scalecodec-1.0.35-py3-none-any.whl (75 kB)\n",
      "     |████████████████████████████████| 75 kB 6.8 MB/s             \n",
      "\u001b[?25hCollecting PyNaCl<2,>=1.0.1\n",
      "  Downloading PyNaCl-1.5.0-cp36-abi3-manylinux_2_17_x86_64.manylinux2014_x86_64.manylinux_2_24_x86_64.whl (856 kB)\n",
      "     |████████████████████████████████| 856 kB 75.7 MB/s            \n",
      "\u001b[?25hCollecting base58<3,>=1.0.3\n",
      "  Downloading base58-2.1.1-py3-none-any.whl (5.6 kB)\n",
      "Collecting eth-keys<1,>=0.2.1\n",
      "  Downloading eth_keys-0.4.0-py3-none-any.whl (21 kB)\n",
      "Requirement already satisfied: six>=1.9.0 in /usr/lib/python3/dist-packages (from ecdsa<1,>=0.17.0->substrate-interface) (1.11.0)\n",
      "Collecting eth-typing<4,>=3.0.0\n",
      "  Downloading eth_typing-3.0.0-py3-none-any.whl (6.2 kB)\n",
      "Collecting eth-hash<0.4.0,>=0.3.1\n",
      "  Downloading eth_hash-0.3.2-py3-none-any.whl (8.8 kB)\n",
      "Collecting cytoolz<1.0.0,>=0.10.1\n",
      "  Downloading cytoolz-0.11.2.tar.gz (481 kB)\n",
      "     |████████████████████████████████| 481 kB 74.2 MB/s            \n",
      "\u001b[?25h  Preparing metadata (setup.py) ... \u001b[?25ldone\n",
      "\u001b[?25hRequirement already satisfied: cffi>=1.4.1 in ./.local/lib/python3.6/site-packages (from PyNaCl<2,>=1.0.1->substrate-interface) (1.15.0)\n",
      "Requirement already satisfied: charset-normalizer~=2.0.0 in ./.local/lib/python3.6/site-packages (from requests<3,>=2.21.0->substrate-interface) (2.0.12)\n",
      "Requirement already satisfied: urllib3<1.27,>=1.21.1 in ./.local/lib/python3.6/site-packages (from requests<3,>=2.21.0->substrate-interface) (1.26.9)\n",
      "Collecting more-itertools\n",
      "  Downloading more_itertools-8.13.0-py3-none-any.whl (51 kB)\n",
      "     |████████████████████████████████| 51 kB 746 kB/s             \n",
      "\u001b[?25hRequirement already satisfied: pycparser in ./.local/lib/python3.6/site-packages (from cffi>=1.4.1->PyNaCl<2,>=1.0.1->substrate-interface) (2.21)\n",
      "Collecting toolz>=0.8.0\n",
      "  Downloading toolz-0.11.2-py3-none-any.whl (55 kB)\n",
      "     |████████████████████████████████| 55 kB 6.9 MB/s             \n",
      "\u001b[?25hBuilding wheels for collected packages: py-bip39-bindings, py-ed25519-bindings, py-sr25519-bindings, cytoolz\n",
      "  Building wheel for py-bip39-bindings (pyproject.toml) ... \u001b[?25ldone\n",
      "\u001b[?25h  Created wheel for py-bip39-bindings: filename=py_bip39_bindings-0.1.9-cp36-cp36m-manylinux_2_24_x86_64.whl size=1248416 sha256=cc3fd69d2fd1a77a8167f97ee511ad89dfc40a7a76c3ae125d07e77ecde3c891\n",
      "  Stored in directory: /home/ubuntu/.cache/pip/wheels/5f/a7/b3/ebbe410df375173ebf172c1ad79e2f757afeb809c2c6bf61da\n",
      "  Building wheel for py-ed25519-bindings (pyproject.toml) ... \u001b[?25ldone\n",
      "\u001b[?25h  Created wheel for py-ed25519-bindings: filename=py_ed25519_bindings-1.0.1-cp36-cp36m-linux_x86_64.whl size=1046940 sha256=99f679b788b045d8d8127a1298ebde929d6c6cd1a6824f4a62c01dd79bcec72a\n",
      "  Stored in directory: /home/ubuntu/.cache/pip/wheels/5a/ca/0e/de1ce641b038b27fe25c1294ab0d9e8e36d3f7a38150a3e6ae\n",
      "  Building wheel for py-sr25519-bindings (pyproject.toml) ... \u001b[?25ldone\n",
      "\u001b[?25h  Created wheel for py-sr25519-bindings: filename=py_sr25519_bindings-0.1.4-cp36-cp36m-linux_x86_64.whl size=1085761 sha256=08d37f8433a5982d4e304317eb98f8b9d3e8457f5eaeee2db888f19f09f121ca\n",
      "  Stored in directory: /home/ubuntu/.cache/pip/wheels/67/f9/7a/2ca604b20a95bdaacea2f051b4112e3cbc2b7ae4865e940b63\n",
      "  Building wheel for cytoolz (setup.py) ... \u001b[?25ldone\n",
      "\u001b[?25h  Created wheel for cytoolz: filename=cytoolz-0.11.2-cp36-cp36m-linux_x86_64.whl size=1234267 sha256=ca97d1657853a2923a5dc4e7b0951aecb2777e190f73ab44a8408aeef67bb9c0\n",
      "  Stored in directory: /home/ubuntu/.cache/pip/wheels/83/c8/80/3663b26cb65ea0add681ebbf422874089a085bd2bff6d97b25\n",
      "Successfully built py-bip39-bindings py-ed25519-bindings py-sr25519-bindings cytoolz\n",
      "Installing collected packages: toolz, eth-typing, eth-hash, cytoolz, more-itertools, eth-utils, base58, xxhash, scalecodec, PyNaCl, pycryptodome, py-sr25519-bindings, py-ed25519-bindings, py-bip39-bindings, eth-keys, ecdsa, substrate-interface\n",
      "Successfully installed PyNaCl-1.5.0 base58-2.1.1 cytoolz-0.11.2 ecdsa-0.17.0 eth-hash-0.3.2 eth-keys-0.4.0 eth-typing-3.0.0 eth-utils-2.0.0 more-itertools-8.13.0 py-bip39-bindings-0.1.9 py-ed25519-bindings-1.0.1 py-sr25519-bindings-0.1.4 pycryptodome-3.14.1 scalecodec-1.0.35 substrate-interface-1.2.5 toolz-0.11.2 xxhash-2.0.2\n"
     ]
    }
   ],
   "source": [
    "!pip install substrate-interface"
   ]
  },
  {
   "cell_type": "code",
   "execution_count": 1,
   "id": "acccfa50",
   "metadata": {},
   "outputs": [],
   "source": [
    "import substrateinterface"
   ]
  },
  {
   "cell_type": "code",
   "execution_count": 2,
   "id": "5fa606cd",
   "metadata": {},
   "outputs": [],
   "source": [
    "from substrateinterface import SubstrateInterface"
   ]
  },
  {
   "cell_type": "code",
   "execution_count": 3,
   "id": "5c549a79",
   "metadata": {},
   "outputs": [],
   "source": [
    "from substrateinterface import SubstrateInterface, Keypair\n",
    "from substrateinterface.exceptions import SubstrateRequestException\n",
    "\n",
    "substrate = SubstrateInterface(\n",
    "    url=\"ws://35.80.10.26:11946\",\n",
    "    ss58_format=42,\n",
    "    type_registry_preset='kusama'\n",
    ")"
   ]
  },
  {
   "cell_type": "code",
   "execution_count": 4,
   "id": "b87aceb5",
   "metadata": {},
   "outputs": [],
   "source": [
    "# Function to make extrinsic calls\n",
    "def make_call(call_module, call_function, call_params, keypair):\n",
    "    call = substrate.compose_call(\n",
    "        call_module=call_module,\n",
    "        call_function=call_function,\n",
    "        call_params=call_params\n",
    "    )\n",
    "\n",
    "    extrinsic = substrate.create_signed_extrinsic(call=call, keypair=keypair)\n",
    "\n",
    "    try:\n",
    "        receipt = substrate.submit_extrinsic(extrinsic, wait_for_inclusion=True)\n",
    "        print(\"Extrinsic '{}' sent and included in block '{}'\".format(receipt.extrinsic_hash, receipt.block_hash))\n",
    "\n",
    "    except SubstrateRequestException as e:\n",
    "        print(\"Failed to send: {}\".format(e))\n",
    "    return receipt"
   ]
  },
  {
   "cell_type": "code",
   "execution_count": 5,
   "id": "1f9f2899",
   "metadata": {},
   "outputs": [],
   "source": [
    "alice = Keypair.create_from_uri('//Alice')\n",
    "bob = Keypair.create_from_uri('//Bob')"
   ]
  },
  {
   "cell_type": "code",
   "execution_count": 57,
   "id": "3b1d0f10",
   "metadata": {
    "scrolled": true
   },
   "outputs": [
    {
     "name": "stdout",
     "output_type": "stream",
     "text": [
      "Extrinsic '0x767ab4bafa20545e94e0980cf73ac6ce8b57d442ca46f7308fc5ea479781fc51' sent and included in block '0xcc64497e3f0ab68ebdd522eed1a5568f7a3056e99ffa3a84115c511b2bd190a0'\n"
     ]
    }
   ],
   "source": [
    "# Every wallet that creates messages needs a msa\n",
    "make_call(\"Msa\", \"create\", {}, alice)"
   ]
  },
  {
   "cell_type": "code",
   "execution_count": null,
   "id": "809d81ff",
   "metadata": {},
   "outputs": [],
   "source": [
    "# A wallet can create an MSA and delegate it to another wallet, which will submit and pay for transactions on their behave\n",
    "make_call(\"Msa\", \"create\", {}, bob)"
   ]
  },
  {
   "cell_type": "code",
   "execution_count": 5,
   "id": "4c6cb89c",
   "metadata": {},
   "outputs": [
    {
     "name": "stdout",
     "output_type": "stream",
     "text": [
      "subreddit,author,title,selftext,url,is_nsfw\n",
      "1\n"
     ]
    }
   ],
   "source": [
    "schema = \"subreddit,author,title,selftext,url,is_nsfw\"\n",
    "\n",
    "schema_count = substrate.query(\n",
    "    module='Schemas',\n",
    "    storage_function='SchemaCount',\n",
    "    params=[]\n",
    ").value\n",
    "\n",
    "schemaId = -1\n",
    "for i in range(1, schema_count+1):\n",
    "    schemaTemp = substrate.query(\n",
    "        module='Schemas',\n",
    "        storage_function='Schemas',\n",
    "        params=[i]\n",
    "    )\n",
    "    if schemaTemp == schema:\n",
    "        schemaId = i\n",
    "        print(schemaTemp.value)\n",
    "        break\n",
    "    \n",
    "if schemaId == -1:\n",
    "    make_call(\"Schemas\", \"register_schema\", {schema}, alice)\n",
    "\n",
    "print(schemaId)"
   ]
  },
  {
   "cell_type": "code",
   "execution_count": 9,
   "id": "7c783db1",
   "metadata": {
    "scrolled": true
   },
   "outputs": [
    {
     "name": "stdout",
     "output_type": "stream",
     "text": [
      "Extrinsic '0x9e92cb7b10ed9f683b2f7a3fb3b3b95a0b70c97950be8e61154e4bde12b8767e' sent and included in block '0xb9ab002011ef2db72da23f2f08fbe9570b39292a6120be32127d9763d6fbe96a'\n"
     ]
    }
   ],
   "source": [
    "message = \"AskReddit,LazarShockX,What are some good ice breaker questions?,,https://www.reddit.com/r/AskReddit/comments/v5ihpk/what_are_some_good_ice_breaker_questions/,False\"\n",
    "\n",
    "call_params = {\n",
    "    \"schema_id\": schemaId,\n",
    "    \"message\": message\n",
    "}\n",
    "receipt = make_call(\"Messages\", \"add\", call_params, alice)"
   ]
  },
  {
   "cell_type": "code",
   "execution_count": 10,
   "id": "66d85740",
   "metadata": {},
   "outputs": [
    {
     "data": {
      "text/plain": [
       "[<scale_info::16(value={'phase': 'ApplyExtrinsic', 'extrinsic_idx': 2, 'event': {'event_index': '0a08', 'module_id': 'Balances', 'event_id': 'Withdraw', 'attributes': ('5GrwvaEF5zXb26Fz9rcQpDWS57CtERHpNehXCPcNoHGKutQY', 2734463659)}, 'event_index': 10, 'module_id': 'Balances', 'event_id': 'Withdraw', 'attributes': ('5GrwvaEF5zXb26Fz9rcQpDWS57CtERHpNehXCPcNoHGKutQY', 2734463659), 'topics': []})>,\n",
       " <scale_info::16(value={'phase': 'ApplyExtrinsic', 'extrinsic_idx': 2, 'event': {'event_index': '0a07', 'module_id': 'Balances', 'event_id': 'Deposit', 'attributes': ('5GrwvaEF5zXb26Fz9rcQpDWS57CtERHpNehXCPcNoHGKutQY', 2487617)}, 'event_index': 10, 'module_id': 'Balances', 'event_id': 'Deposit', 'attributes': ('5GrwvaEF5zXb26Fz9rcQpDWS57CtERHpNehXCPcNoHGKutQY', 2487617), 'topics': []})>,\n",
       " <scale_info::16(value={'phase': 'ApplyExtrinsic', 'extrinsic_idx': 2, 'event': {'event_index': '0000', 'module_id': 'System', 'event_id': 'ExtrinsicSuccess', 'attributes': {'weight': 125163000, 'class': 'Normal', 'pays_fee': 'Yes'}}, 'event_index': 0, 'module_id': 'System', 'event_id': 'ExtrinsicSuccess', 'attributes': {'weight': 125163000, 'class': 'Normal', 'pays_fee': 'Yes'}, 'topics': []})>]"
      ]
     },
     "execution_count": 10,
     "metadata": {},
     "output_type": "execute_result"
    }
   ],
   "source": [
    "receipt.triggered_events"
   ]
  },
  {
   "cell_type": "code",
   "execution_count": 11,
   "id": "1b4382d1",
   "metadata": {},
   "outputs": [
    {
     "data": {
      "text/plain": [
       "<GenericExtrinsic(value={'extrinsic_hash': '0x9e92cb7b10ed9f683b2f7a3fb3b3b95a0b70c97950be8e61154e4bde12b8767e', 'extrinsic_length': 271, 'address': '5GrwvaEF5zXb26Fz9rcQpDWS57CtERHpNehXCPcNoHGKutQY', 'signature': {'Sr25519': '0xec8bf60cfc44863edaff635cf598a7f695b2243e06cc251be978af5c952ef4104e24597b4e3fa24b050171d38fbf9a6f23d9556f5d071fbbd61ed4f508ca3987'}, 'era': '00', 'nonce': 10, 'tip': 0, 'call': {'call_index': '0x2300', 'call_function': 'add', 'call_module': 'Messages', 'call_args': [{'name': 'schema_id', 'type': 'SchemaId', 'value': 1}, {'name': 'message', 'type': 'Bytes', 'value': 'AskReddit,LazarShockX,What are some good ice breaker questions?,,https://www.reddit.com/r/AskReddit/comments/v5ihpk/what_are_some_good_ice_breaker_questions/,False'}], 'call_hash': '0x03864c06b4716443830a7d7622cb3f82c67a15eb9010b5a8fa3d491e6af5d696'}})>"
      ]
     },
     "execution_count": 11,
     "metadata": {},
     "output_type": "execute_result"
    }
   ],
   "source": [
    "receipt.extrinsic"
   ]
  },
  {
   "cell_type": "code",
   "execution_count": 12,
   "id": "256f3c4c",
   "metadata": {},
   "outputs": [
    {
     "data": {
      "text/plain": [
       "2"
      ]
     },
     "execution_count": 12,
     "metadata": {},
     "output_type": "execute_result"
    }
   ],
   "source": [
    "receipt.extrinsic_idx"
   ]
  },
  {
   "cell_type": "code",
   "execution_count": 26,
   "id": "7cf3ad43",
   "metadata": {},
   "outputs": [
    {
     "name": "stdout",
     "output_type": "stream",
     "text": [
      "Extrinsic '0x9e55f536ad8044e79742a295a2bea09bfa530f626a7181bc32062da8f0d931b9' sent and included in block '0xf8a47797a09062afbae1dcad96be4152a320cc41200b4a1b7e8b55b040952bc7'\n"
     ]
    }
   ],
   "source": [
    "\n",
    "ferdie = Keypair.create_from_uri('//Ferdie')\n",
    "receipt = make_call(\"Messages\", \"add\", call_params, ferdie)"
   ]
  },
  {
   "cell_type": "code",
   "execution_count": 35,
   "id": "f6424698",
   "metadata": {},
   "outputs": [
    {
     "data": {
      "text/plain": [
       "{'type': 'Module',\n",
       " 'name': 'InvalidMessageSourceAccount',\n",
       " 'docs': ['Invalid Message Source Account']}"
      ]
     },
     "execution_count": 35,
     "metadata": {},
     "output_type": "execute_result"
    }
   ],
   "source": [
    "receipt.error_message"
   ]
  },
  {
   "cell_type": "code",
   "execution_count": 36,
   "id": "4a6f8685",
   "metadata": {},
   "outputs": [],
   "source": [
    "alice.sign?"
   ]
  },
  {
   "cell_type": "code",
   "execution_count": 42,
   "id": "d09bce9a",
   "metadata": {},
   "outputs": [
    {
     "ename": "TypeError",
     "evalue": "encrypt_message() missing 1 required positional argument: 'recipient_public_key'",
     "output_type": "error",
     "traceback": [
      "\u001b[0;31m---------------------------------------------------------------------------\u001b[0m",
      "\u001b[0;31mTypeError\u001b[0m                                 Traceback (most recent call last)",
      "\u001b[0;32m<ipython-input-42-2e08a4e3b4ab>\u001b[0m in \u001b[0;36m<module>\u001b[0;34m\u001b[0m\n\u001b[0;32m----> 1\u001b[0;31m \u001b[0malice\u001b[0m\u001b[0;34m.\u001b[0m\u001b[0mencrypt_message\u001b[0m\u001b[0;34m(\u001b[0m\u001b[0;34m{\u001b[0m \u001b[0;34m\"authorized_msa_id\"\u001b[0m\u001b[0;34m:\u001b[0m \u001b[0;36m1\u001b[0m\u001b[0;34m,\u001b[0m \u001b[0;34m\"permission\"\u001b[0m\u001b[0;34m:\u001b[0m \u001b[0;36m0\u001b[0m \u001b[0;34m}\u001b[0m\u001b[0;34m)\u001b[0m\u001b[0;34m\u001b[0m\u001b[0;34m\u001b[0m\u001b[0m\n\u001b[0m",
      "\u001b[0;31mTypeError\u001b[0m: encrypt_message() missing 1 required positional argument: 'recipient_public_key'"
     ]
    }
   ],
   "source": [
    "alice.encrypt_message({ \"authorized_msa_id\": 1, \"permission\": 0 })"
   ]
  },
  {
   "cell_type": "markdown",
   "id": "10878b24",
   "metadata": {},
   "source": [
    "# Make MSA for new wallet and delegate to bob"
   ]
  },
  {
   "cell_type": "code",
   "execution_count": 132,
   "id": "0b717d8c",
   "metadata": {},
   "outputs": [
    {
     "name": "stdout",
     "output_type": "stream",
     "text": [
      "Defaulting to user installation because normal site-packages is not writeable\n",
      "Requirement already satisfied: scalecodec in ./.local/lib/python3.6/site-packages (1.0.35)\n",
      "Requirement already satisfied: base58>=2.0.1 in ./.local/lib/python3.6/site-packages (from scalecodec) (2.1.1)\n",
      "Requirement already satisfied: requests>=2.24.0 in ./.local/lib/python3.6/site-packages (from scalecodec) (2.27.1)\n",
      "Requirement already satisfied: more-itertools in ./.local/lib/python3.6/site-packages (from scalecodec) (8.13.0)\n",
      "Requirement already satisfied: certifi>=2017.4.17 in ./.local/lib/python3.6/site-packages (from requests>=2.24.0->scalecodec) (2022.5.18.1)\n",
      "Requirement already satisfied: urllib3<1.27,>=1.21.1 in ./.local/lib/python3.6/site-packages (from requests>=2.24.0->scalecodec) (1.26.9)\n",
      "Requirement already satisfied: idna<4,>=2.5 in ./.local/lib/python3.6/site-packages (from requests>=2.24.0->scalecodec) (3.3)\n",
      "Requirement already satisfied: charset-normalizer~=2.0.0 in ./.local/lib/python3.6/site-packages (from requests>=2.24.0->scalecodec) (2.0.12)\n"
     ]
    }
   ],
   "source": [
    "!pip install scalecodec"
   ]
  },
  {
   "cell_type": "code",
   "execution_count": 6,
   "id": "17d2a6bc",
   "metadata": {},
   "outputs": [],
   "source": [
    "import scalecodec"
   ]
  },
  {
   "cell_type": "code",
   "execution_count": 7,
   "id": "fac1807c",
   "metadata": {},
   "outputs": [],
   "source": [
    "from scalecodec import ScaleBytes\n",
    "from scalecodec.base import RuntimeConfigurationObject"
   ]
  },
  {
   "cell_type": "code",
   "execution_count": 8,
   "id": "c3d031b3",
   "metadata": {},
   "outputs": [],
   "source": [
    "# Create never before used wallet\n",
    "new_wallet = Keypair.create_from_uri('/NewWallet', crypto_type=substrateinterface.KeypairType.SR25519)"
   ]
  },
  {
   "cell_type": "code",
   "execution_count": 53,
   "id": "0f0f38b4",
   "metadata": {
    "scrolled": true
   },
   "outputs": [
    {
     "name": "stdout",
     "output_type": "stream",
     "text": [
      "Extrinsic '0xbe6844e97cd09cffc88a0bbf737388f129b18e70d4757280ab4e9ac561a389a5' sent and included in block '0x7b5df921a3a39d25bdd92a46400eab3e81672ae4f936c15a28d3c26bd72dcb1b'\n"
     ]
    }
   ],
   "source": [
    "# Give wallet some tokens to it can make MSA\n",
    "# Must be at least 1 unit\n",
    "one_unit = 1000000000000\n",
    "receipt = make_call(\"Balances\", \"transfer\", {\"dest\": new_wallet.ss58_address, \"value\": 10 * one_unit}, alice)\n",
    "receipt.error_message"
   ]
  },
  {
   "cell_type": "code",
   "execution_count": 56,
   "id": "4c7640d8",
   "metadata": {
    "scrolled": true
   },
   "outputs": [
    {
     "name": "stdout",
     "output_type": "stream",
     "text": [
      "{'call': '0x2200', 'era': '00', 'nonce': 11, 'tip': 0, 'spec_version': 1, 'genesis_hash': '0xe2ba7ea2c82e4de81244f86c84d4f3f267103104ce5103535f3f1bd2c834f3b6', 'block_hash': '0xe2ba7ea2c82e4de81244f86c84d4f3f267103104ce5103535f3f1bd2c834f3b6', 'transaction_version': 1, 'asset_id': {'tip': 0, 'asset_id': None}} call CallBytes b'\"\\x00' 0x2200\n",
      "\n",
      "{'call': '0x2200', 'era': '00', 'nonce': 11, 'tip': 0, 'spec_version': 1, 'genesis_hash': '0xe2ba7ea2c82e4de81244f86c84d4f3f267103104ce5103535f3f1bd2c834f3b6', 'block_hash': '0xe2ba7ea2c82e4de81244f86c84d4f3f267103104ce5103535f3f1bd2c834f3b6', 'transaction_version': 1, 'asset_id': {'tip': 0, 'asset_id': None}} era scale_info::265 0x00 0x220000\n",
      "\n",
      "{'call': '0x2200', 'era': '00', 'nonce': 11, 'tip': 0, 'spec_version': 1, 'genesis_hash': '0xe2ba7ea2c82e4de81244f86c84d4f3f267103104ce5103535f3f1bd2c834f3b6', 'block_hash': '0xe2ba7ea2c82e4de81244f86c84d4f3f267103104ce5103535f3f1bd2c834f3b6', 'transaction_version': 1, 'asset_id': {'tip': 0, 'asset_id': None}} nonce scale_info::267 0x2c 0x2200002c\n",
      "\n",
      "{'call': '0x2200', 'era': '00', 'nonce': 11, 'tip': 0, 'spec_version': 1, 'genesis_hash': '0xe2ba7ea2c82e4de81244f86c84d4f3f267103104ce5103535f3f1bd2c834f3b6', 'block_hash': '0xe2ba7ea2c82e4de81244f86c84d4f3f267103104ce5103535f3f1bd2c834f3b6', 'transaction_version': 1, 'asset_id': {'tip': 0, 'asset_id': None}} tip scale_info::269 0x00 0x2200002c00\n",
      "\n",
      "{'call': '0x2200', 'era': '00', 'nonce': 11, 'tip': 0, 'spec_version': 1, 'genesis_hash': '0xe2ba7ea2c82e4de81244f86c84d4f3f267103104ce5103535f3f1bd2c834f3b6', 'block_hash': '0xe2ba7ea2c82e4de81244f86c84d4f3f267103104ce5103535f3f1bd2c834f3b6', 'transaction_version': 1, 'asset_id': {'tip': 0, 'asset_id': None}} spec_version scale_info::4 0x01000000 0x2200002c0001000000\n",
      "\n",
      "{'call': '0x2200', 'era': '00', 'nonce': 11, 'tip': 0, 'spec_version': 1, 'genesis_hash': '0xe2ba7ea2c82e4de81244f86c84d4f3f267103104ce5103535f3f1bd2c834f3b6', 'block_hash': '0xe2ba7ea2c82e4de81244f86c84d4f3f267103104ce5103535f3f1bd2c834f3b6', 'transaction_version': 1, 'asset_id': {'tip': 0, 'asset_id': None}} transaction_version scale_info::4 0x01000000 0x2200002c000100000001000000\n",
      "\n",
      "{'call': '0x2200', 'era': '00', 'nonce': 11, 'tip': 0, 'spec_version': 1, 'genesis_hash': '0xe2ba7ea2c82e4de81244f86c84d4f3f267103104ce5103535f3f1bd2c834f3b6', 'block_hash': '0xe2ba7ea2c82e4de81244f86c84d4f3f267103104ce5103535f3f1bd2c834f3b6', 'transaction_version': 1, 'asset_id': {'tip': 0, 'asset_id': None}} genesis_hash scale_info::9 0xe2ba7ea2c82e4de81244f86c84d4f3f267103104ce5103535f3f1bd2c834f3b6 0x2200002c000100000001000000e2ba7ea2c82e4de81244f86c84d4f3f267103104ce5103535f3f1bd2c834f3b6\n",
      "\n",
      "{'call': '0x2200', 'era': '00', 'nonce': 11, 'tip': 0, 'spec_version': 1, 'genesis_hash': '0xe2ba7ea2c82e4de81244f86c84d4f3f267103104ce5103535f3f1bd2c834f3b6', 'block_hash': '0xe2ba7ea2c82e4de81244f86c84d4f3f267103104ce5103535f3f1bd2c834f3b6', 'transaction_version': 1, 'asset_id': {'tip': 0, 'asset_id': None}} block_hash scale_info::9 0xe2ba7ea2c82e4de81244f86c84d4f3f267103104ce5103535f3f1bd2c834f3b6 0x2200002c000100000001000000e2ba7ea2c82e4de81244f86c84d4f3f267103104ce5103535f3f1bd2c834f3b6e2ba7ea2c82e4de81244f86c84d4f3f267103104ce5103535f3f1bd2c834f3b6\n",
      "\n",
      "{'Id': '0xcc58ca91355d26d9fe826cc0ded719e219f4e798c698c01f407844a5f8682c4f'} Id AccountId 0xcc58ca91355d26d9fe826cc0ded719e219f4e798c698c01f407844a5f8682c4f 0xcc58ca91355d26d9fe826cc0ded719e219f4e798c698c01f407844a5f8682c4f\n",
      "\n",
      "{'Id': '0xcc58ca91355d26d9fe826cc0ded719e219f4e798c698c01f407844a5f8682c4f'} Id AccountId 0xcc58ca91355d26d9fe826cc0ded719e219f4e798c698c01f407844a5f8682c4f 0xcc58ca91355d26d9fe826cc0ded719e219f4e798c698c01f407844a5f8682c4f\n",
      "\n",
      "{'account_id': '0xcc58ca91355d26d9fe826cc0ded719e219f4e798c698c01f407844a5f8682c4f', 'signature': {'Sr25519': '0x08520f61b2cdce6987f1cec79d001b5a55a1c24f1779862c6a4830b73efcfa7e118701583264ee6a03a0bb52ec1c95b38b931b0c058a6683afecde1d55770f8b'}, 'call_function': 'create', 'call_module': 'Msa', 'call_args': {}, 'nonce': 11, 'era': '00', 'tip': 0, 'asset_id': {'tip': 0, 'asset_id': None}, 'signature_version': 1, 'address': '0xcc58ca91355d26d9fe826cc0ded719e219f4e798c698c01f407844a5f8682c4f', 'call': {'call_function': 'create', 'call_module': 'Msa', 'call_args': {}}} address Address 0x00cc58ca91355d26d9fe826cc0ded719e219f4e798c698c01f407844a5f8682c4f 0x00cc58ca91355d26d9fe826cc0ded719e219f4e798c698c01f407844a5f8682c4f\n",
      "\n",
      "{'Sr25519': '0x08520f61b2cdce6987f1cec79d001b5a55a1c24f1779862c6a4830b73efcfa7e118701583264ee6a03a0bb52ec1c95b38b931b0c058a6683afecde1d55770f8b'} Sr25519 Sr25519Signature 0x08520f61b2cdce6987f1cec79d001b5a55a1c24f1779862c6a4830b73efcfa7e118701583264ee6a03a0bb52ec1c95b38b931b0c058a6683afecde1d55770f8b 0x08520f61b2cdce6987f1cec79d001b5a55a1c24f1779862c6a4830b73efcfa7e118701583264ee6a03a0bb52ec1c95b38b931b0c058a6683afecde1d55770f8b\n",
      "\n",
      "{'Sr25519': '0x08520f61b2cdce6987f1cec79d001b5a55a1c24f1779862c6a4830b73efcfa7e118701583264ee6a03a0bb52ec1c95b38b931b0c058a6683afecde1d55770f8b'} Sr25519 Sr25519Signature 0x08520f61b2cdce6987f1cec79d001b5a55a1c24f1779862c6a4830b73efcfa7e118701583264ee6a03a0bb52ec1c95b38b931b0c058a6683afecde1d55770f8b 0x08520f61b2cdce6987f1cec79d001b5a55a1c24f1779862c6a4830b73efcfa7e118701583264ee6a03a0bb52ec1c95b38b931b0c058a6683afecde1d55770f8b\n",
      "\n",
      "{'account_id': '0xcc58ca91355d26d9fe826cc0ded719e219f4e798c698c01f407844a5f8682c4f', 'signature': {'Sr25519': '0x08520f61b2cdce6987f1cec79d001b5a55a1c24f1779862c6a4830b73efcfa7e118701583264ee6a03a0bb52ec1c95b38b931b0c058a6683afecde1d55770f8b'}, 'call_function': 'create', 'call_module': 'Msa', 'call_args': {}, 'nonce': 11, 'era': '00', 'tip': 0, 'asset_id': {'tip': 0, 'asset_id': None}, 'signature_version': 1, 'address': '0xcc58ca91355d26d9fe826cc0ded719e219f4e798c698c01f407844a5f8682c4f', 'call': {'call_function': 'create', 'call_module': 'Msa', 'call_args': {}}} signature ExtrinsicSignature 0x0108520f61b2cdce6987f1cec79d001b5a55a1c24f1779862c6a4830b73efcfa7e118701583264ee6a03a0bb52ec1c95b38b931b0c058a6683afecde1d55770f8b 0x00cc58ca91355d26d9fe826cc0ded719e219f4e798c698c01f407844a5f8682c4f0108520f61b2cdce6987f1cec79d001b5a55a1c24f1779862c6a4830b73efcfa7e118701583264ee6a03a0bb52ec1c95b38b931b0c058a6683afecde1d55770f8b\n",
      "\n",
      "{'account_id': '0xcc58ca91355d26d9fe826cc0ded719e219f4e798c698c01f407844a5f8682c4f', 'signature': {'Sr25519': '0x08520f61b2cdce6987f1cec79d001b5a55a1c24f1779862c6a4830b73efcfa7e118701583264ee6a03a0bb52ec1c95b38b931b0c058a6683afecde1d55770f8b'}, 'call_function': 'create', 'call_module': 'Msa', 'call_args': {}, 'nonce': 11, 'era': '00', 'tip': 0, 'asset_id': {'tip': 0, 'asset_id': None}, 'signature_version': 1, 'address': '0xcc58ca91355d26d9fe826cc0ded719e219f4e798c698c01f407844a5f8682c4f', 'call': {'call_function': 'create', 'call_module': 'Msa', 'call_args': {}}} era scale_info::265 0x00 0x00cc58ca91355d26d9fe826cc0ded719e219f4e798c698c01f407844a5f8682c4f0108520f61b2cdce6987f1cec79d001b5a55a1c24f1779862c6a4830b73efcfa7e118701583264ee6a03a0bb52ec1c95b38b931b0c058a6683afecde1d55770f8b00\n",
      "\n",
      "{'account_id': '0xcc58ca91355d26d9fe826cc0ded719e219f4e798c698c01f407844a5f8682c4f', 'signature': {'Sr25519': '0x08520f61b2cdce6987f1cec79d001b5a55a1c24f1779862c6a4830b73efcfa7e118701583264ee6a03a0bb52ec1c95b38b931b0c058a6683afecde1d55770f8b'}, 'call_function': 'create', 'call_module': 'Msa', 'call_args': {}, 'nonce': 11, 'era': '00', 'tip': 0, 'asset_id': {'tip': 0, 'asset_id': None}, 'signature_version': 1, 'address': '0xcc58ca91355d26d9fe826cc0ded719e219f4e798c698c01f407844a5f8682c4f', 'call': {'call_function': 'create', 'call_module': 'Msa', 'call_args': {}}} nonce scale_info::267 0x2c 0x00cc58ca91355d26d9fe826cc0ded719e219f4e798c698c01f407844a5f8682c4f0108520f61b2cdce6987f1cec79d001b5a55a1c24f1779862c6a4830b73efcfa7e118701583264ee6a03a0bb52ec1c95b38b931b0c058a6683afecde1d55770f8b002c\n",
      "\n",
      "{'account_id': '0xcc58ca91355d26d9fe826cc0ded719e219f4e798c698c01f407844a5f8682c4f', 'signature': {'Sr25519': '0x08520f61b2cdce6987f1cec79d001b5a55a1c24f1779862c6a4830b73efcfa7e118701583264ee6a03a0bb52ec1c95b38b931b0c058a6683afecde1d55770f8b'}, 'call_function': 'create', 'call_module': 'Msa', 'call_args': {}, 'nonce': 11, 'era': '00', 'tip': 0, 'asset_id': {'tip': 0, 'asset_id': None}, 'signature_version': 1, 'address': '0xcc58ca91355d26d9fe826cc0ded719e219f4e798c698c01f407844a5f8682c4f', 'call': {'call_function': 'create', 'call_module': 'Msa', 'call_args': {}}} tip scale_info::269 0x00 0x00cc58ca91355d26d9fe826cc0ded719e219f4e798c698c01f407844a5f8682c4f0108520f61b2cdce6987f1cec79d001b5a55a1c24f1779862c6a4830b73efcfa7e118701583264ee6a03a0bb52ec1c95b38b931b0c058a6683afecde1d55770f8b002c00\n",
      "\n",
      "{'account_id': '0xcc58ca91355d26d9fe826cc0ded719e219f4e798c698c01f407844a5f8682c4f', 'signature': {'Sr25519': '0x08520f61b2cdce6987f1cec79d001b5a55a1c24f1779862c6a4830b73efcfa7e118701583264ee6a03a0bb52ec1c95b38b931b0c058a6683afecde1d55770f8b'}, 'call_function': 'create', 'call_module': 'Msa', 'call_args': {}, 'nonce': 11, 'era': '00', 'tip': 0, 'asset_id': {'tip': 0, 'asset_id': None}, 'signature_version': 1, 'address': '0xcc58ca91355d26d9fe826cc0ded719e219f4e798c698c01f407844a5f8682c4f', 'call': {'call_function': 'create', 'call_module': 'Msa', 'call_args': {}}} call Call 0x2200 0x00cc58ca91355d26d9fe826cc0ded719e219f4e798c698c01f407844a5f8682c4f0108520f61b2cdce6987f1cec79d001b5a55a1c24f1779862c6a4830b73efcfa7e118701583264ee6a03a0bb52ec1c95b38b931b0c058a6683afecde1d55770f8b002c002200\n",
      "\n"
     ]
    },
    {
     "name": "stdout",
     "output_type": "stream",
     "text": [
      "Extrinsic '0xceb65d0968eac3b93e577049f7242fc0f93fb5759eb670a7f161f62335e283a5' sent and included in block '0xc73931357324ff63708de8521fed64a07c66fe4136f5bf827f3e2ceac8a64991'\n"
     ]
    }
   ],
   "source": [
    "receipt = make_call(\"Msa\", \"create\", {}, new_wallet)\n",
    "receipt.error_message"
   ]
  },
  {
   "cell_type": "code",
   "execution_count": 61,
   "id": "42eb3ad9",
   "metadata": {},
   "outputs": [
    {
     "data": {
      "text/plain": [
       "[<scale_info::16(value={'phase': 'ApplyExtrinsic', 'extrinsic_idx': 2, 'event': {'event_index': '0a08', 'module_id': 'Balances', 'event_id': 'Withdraw', 'attributes': ('5Gge15WwoSeyPiGy9FzJRipLFGma3RkaX7G1gez6pbGAGnNC', 1065060100)}, 'event_index': 10, 'module_id': 'Balances', 'event_id': 'Withdraw', 'attributes': ('5Gge15WwoSeyPiGy9FzJRipLFGma3RkaX7G1gez6pbGAGnNC', 1065060100), 'topics': []})>,\n",
       " <scale_info::16(value={'phase': 'ApplyExtrinsic', 'extrinsic_idx': 2, 'event': {'event_index': '2200', 'module_id': 'Msa', 'event_id': 'MsaCreated', 'attributes': (3, '5Gge15WwoSeyPiGy9FzJRipLFGma3RkaX7G1gez6pbGAGnNC')}, 'event_index': 34, 'module_id': 'Msa', 'event_id': 'MsaCreated', 'attributes': (3, '5Gge15WwoSeyPiGy9FzJRipLFGma3RkaX7G1gez6pbGAGnNC'), 'topics': []})>,\n",
       " <scale_info::16(value={'phase': 'ApplyExtrinsic', 'extrinsic_idx': 2, 'event': {'event_index': '0000', 'module_id': 'System', 'event_id': 'ExtrinsicSuccess', 'attributes': {'weight': 524028000, 'class': 'Normal', 'pays_fee': 'Yes'}}, 'event_index': 0, 'module_id': 'System', 'event_id': 'ExtrinsicSuccess', 'attributes': {'weight': 524028000, 'class': 'Normal', 'pays_fee': 'Yes'}, 'topics': []})>]"
      ]
     },
     "execution_count": 61,
     "metadata": {},
     "output_type": "execute_result"
    }
   ],
   "source": [
    "receipt.triggered_events"
   ]
  },
  {
   "cell_type": "code",
   "execution_count": 105,
   "id": "1156543a",
   "metadata": {
    "scrolled": true
   },
   "outputs": [],
   "source": [
    "# encode payload with \n",
    "payload_raw = { \"msa_id\": 3, \"nonce\": 0 }\n",
    "# add_provider_payload = substrate.encode_scale('str', substrateinterface.utils.ecdsa_helpers.struct.pack(\"bb\", 1, 0))\n",
    "add_provider_payload = substrate.encode_scale(type_string='scale_info::8', value=payload_raw['msa_id']) + substrate.encode_scale(type_string='scale_info::4', value=payload_raw['nonce'])"
   ]
  },
  {
   "cell_type": "code",
   "execution_count": 109,
   "id": "b078583e",
   "metadata": {},
   "outputs": [
    {
     "data": {
      "text/plain": [
       "b'<Bytes>'"
      ]
     },
     "execution_count": 109,
     "metadata": {},
     "output_type": "execute_result"
    }
   ],
   "source": [
    "\"<Bytes>\".encode()"
   ]
  },
  {
   "cell_type": "code",
   "execution_count": 111,
   "id": "ff738398",
   "metadata": {},
   "outputs": [
    {
     "ename": "TypeError",
     "evalue": "can't concat ScaleBytes to bytes",
     "output_type": "error",
     "traceback": [
      "\u001b[0;31m---------------------------------------------------------------------------\u001b[0m",
      "\u001b[0;31mTypeError\u001b[0m                                 Traceback (most recent call last)",
      "\u001b[0;32m<ipython-input-111-24e607e56aa2>\u001b[0m in \u001b[0;36m<module>\u001b[0;34m\u001b[0m\n\u001b[0;32m----> 1\u001b[0;31m \u001b[0;34m\"<Bytes>\"\u001b[0m\u001b[0;34m.\u001b[0m\u001b[0mencode\u001b[0m\u001b[0;34m(\u001b[0m\u001b[0;34m)\u001b[0m\u001b[0;34m+\u001b[0m\u001b[0madd_provider_payload\u001b[0m\u001b[0;34m\u001b[0m\u001b[0;34m\u001b[0m\u001b[0m\n\u001b[0m",
      "\u001b[0;31mTypeError\u001b[0m: can't concat ScaleBytes to bytes"
     ]
    }
   ],
   "source": [
    "\"<Bytes>\".encode()+add_provider_payload"
   ]
  },
  {
   "cell_type": "code",
   "execution_count": 106,
   "id": "c791d54f",
   "metadata": {},
   "outputs": [],
   "source": [
    "signature = new_wallet.sign(add_provider_payload)"
   ]
  },
  {
   "cell_type": "code",
   "execution_count": 90,
   "id": "3f6e1563",
   "metadata": {},
   "outputs": [],
   "source": [
    "signature = new_wallet.sign(blake2b(add_provider_payload.data, digest_size=32).digest())"
   ]
  },
  {
   "cell_type": "code",
   "execution_count": 107,
   "id": "77af8b73",
   "metadata": {
    "scrolled": true
   },
   "outputs": [
    {
     "name": "stdout",
     "output_type": "stream",
     "text": [
      "{'Sr25519': '0x80dd089bfe4d60dc2a63ddccfe3b6b1aa284b0b6d4bc3a46bf59b38f72e70b5b329cc9016658361d91a0484b05a527747d43c17ae9f34000cacbe465b643048a'} Sr25519 scale_info::185 0x80dd089bfe4d60dc2a63ddccfe3b6b1aa284b0b6d4bc3a46bf59b38f72e70b5b329cc9016658361d91a0484b05a527747d43c17ae9f34000cacbe465b643048a 0x80dd089bfe4d60dc2a63ddccfe3b6b1aa284b0b6d4bc3a46bf59b38f72e70b5b329cc9016658361d91a0484b05a527747d43c17ae9f34000cacbe465b643048a\n",
      "\n",
      "{'msa_id': 3, 'nonce': 0} msa_id scale_info::8 0x0300000000000000 0x0300000000000000\n",
      "\n",
      "{'msa_id': 3, 'nonce': 0} nonce scale_info::4 0x00000000 0x030000000000000000000000\n",
      "\n",
      "{'call': '0x2204cc58ca91355d26d9fe826cc0ded719e219f4e798c698c01f407844a5f8682c4f0180dd089bfe4d60dc2a63ddccfe3b6b1aa284b0b6d4bc3a46bf59b38f72e70b5b329cc9016658361d91a0484b05a527747d43c17ae9f34000cacbe465b643048a030000000000000000000000', 'era': '00', 'nonce': 17, 'tip': 0, 'spec_version': 1, 'genesis_hash': '0xe2ba7ea2c82e4de81244f86c84d4f3f267103104ce5103535f3f1bd2c834f3b6', 'block_hash': '0xe2ba7ea2c82e4de81244f86c84d4f3f267103104ce5103535f3f1bd2c834f3b6', 'transaction_version': 1, 'asset_id': {'tip': 0, 'asset_id': None}} call CallBytes b'\"\\x04\\xccX\\xca\\x915]&\\xd9\\xfe\\x82l\\xc0\\xde\\xd7\\x19\\xe2\\x19\\xf4\\xe7\\x98\\xc6\\x98\\xc0\\x1f@xD\\xa5\\xf8h,O\\x01\\x80\\xdd\\x08\\x9b\\xfeM`\\xdc*c\\xdd\\xcc\\xfe;k\\x1a\\xa2\\x84\\xb0\\xb6\\xd4\\xbc:F\\xbfY\\xb3\\x8fr\\xe7\\x0b[2\\x9c\\xc9\\x01fX6\\x1d\\x91\\xa0HK\\x05\\xa5\\'t}C\\xc1z\\xe9\\xf3@\\x00\\xca\\xcb\\xe4e\\xb6C\\x04\\x8a\\x03\\x00\\x00\\x00\\x00\\x00\\x00\\x00\\x00\\x00\\x00\\x00' 0x2204cc58ca91355d26d9fe826cc0ded719e219f4e798c698c01f407844a5f8682c4f0180dd089bfe4d60dc2a63ddccfe3b6b1aa284b0b6d4bc3a46bf59b38f72e70b5b329cc9016658361d91a0484b05a527747d43c17ae9f34000cacbe465b643048a030000000000000000000000\n",
      "\n",
      "{'call': '0x2204cc58ca91355d26d9fe826cc0ded719e219f4e798c698c01f407844a5f8682c4f0180dd089bfe4d60dc2a63ddccfe3b6b1aa284b0b6d4bc3a46bf59b38f72e70b5b329cc9016658361d91a0484b05a527747d43c17ae9f34000cacbe465b643048a030000000000000000000000', 'era': '00', 'nonce': 17, 'tip': 0, 'spec_version': 1, 'genesis_hash': '0xe2ba7ea2c82e4de81244f86c84d4f3f267103104ce5103535f3f1bd2c834f3b6', 'block_hash': '0xe2ba7ea2c82e4de81244f86c84d4f3f267103104ce5103535f3f1bd2c834f3b6', 'transaction_version': 1, 'asset_id': {'tip': 0, 'asset_id': None}} era scale_info::265 0x00 0x2204cc58ca91355d26d9fe826cc0ded719e219f4e798c698c01f407844a5f8682c4f0180dd089bfe4d60dc2a63ddccfe3b6b1aa284b0b6d4bc3a46bf59b38f72e70b5b329cc9016658361d91a0484b05a527747d43c17ae9f34000cacbe465b643048a03000000000000000000000000\n",
      "\n",
      "{'call': '0x2204cc58ca91355d26d9fe826cc0ded719e219f4e798c698c01f407844a5f8682c4f0180dd089bfe4d60dc2a63ddccfe3b6b1aa284b0b6d4bc3a46bf59b38f72e70b5b329cc9016658361d91a0484b05a527747d43c17ae9f34000cacbe465b643048a030000000000000000000000', 'era': '00', 'nonce': 17, 'tip': 0, 'spec_version': 1, 'genesis_hash': '0xe2ba7ea2c82e4de81244f86c84d4f3f267103104ce5103535f3f1bd2c834f3b6', 'block_hash': '0xe2ba7ea2c82e4de81244f86c84d4f3f267103104ce5103535f3f1bd2c834f3b6', 'transaction_version': 1, 'asset_id': {'tip': 0, 'asset_id': None}} nonce scale_info::267 0x44 0x2204cc58ca91355d26d9fe826cc0ded719e219f4e798c698c01f407844a5f8682c4f0180dd089bfe4d60dc2a63ddccfe3b6b1aa284b0b6d4bc3a46bf59b38f72e70b5b329cc9016658361d91a0484b05a527747d43c17ae9f34000cacbe465b643048a0300000000000000000000000044\n",
      "\n",
      "{'call': '0x2204cc58ca91355d26d9fe826cc0ded719e219f4e798c698c01f407844a5f8682c4f0180dd089bfe4d60dc2a63ddccfe3b6b1aa284b0b6d4bc3a46bf59b38f72e70b5b329cc9016658361d91a0484b05a527747d43c17ae9f34000cacbe465b643048a030000000000000000000000', 'era': '00', 'nonce': 17, 'tip': 0, 'spec_version': 1, 'genesis_hash': '0xe2ba7ea2c82e4de81244f86c84d4f3f267103104ce5103535f3f1bd2c834f3b6', 'block_hash': '0xe2ba7ea2c82e4de81244f86c84d4f3f267103104ce5103535f3f1bd2c834f3b6', 'transaction_version': 1, 'asset_id': {'tip': 0, 'asset_id': None}} tip scale_info::269 0x00 0x2204cc58ca91355d26d9fe826cc0ded719e219f4e798c698c01f407844a5f8682c4f0180dd089bfe4d60dc2a63ddccfe3b6b1aa284b0b6d4bc3a46bf59b38f72e70b5b329cc9016658361d91a0484b05a527747d43c17ae9f34000cacbe465b643048a030000000000000000000000004400\n",
      "\n",
      "{'call': '0x2204cc58ca91355d26d9fe826cc0ded719e219f4e798c698c01f407844a5f8682c4f0180dd089bfe4d60dc2a63ddccfe3b6b1aa284b0b6d4bc3a46bf59b38f72e70b5b329cc9016658361d91a0484b05a527747d43c17ae9f34000cacbe465b643048a030000000000000000000000', 'era': '00', 'nonce': 17, 'tip': 0, 'spec_version': 1, 'genesis_hash': '0xe2ba7ea2c82e4de81244f86c84d4f3f267103104ce5103535f3f1bd2c834f3b6', 'block_hash': '0xe2ba7ea2c82e4de81244f86c84d4f3f267103104ce5103535f3f1bd2c834f3b6', 'transaction_version': 1, 'asset_id': {'tip': 0, 'asset_id': None}} spec_version scale_info::4 0x01000000 0x2204cc58ca91355d26d9fe826cc0ded719e219f4e798c698c01f407844a5f8682c4f0180dd089bfe4d60dc2a63ddccfe3b6b1aa284b0b6d4bc3a46bf59b38f72e70b5b329cc9016658361d91a0484b05a527747d43c17ae9f34000cacbe465b643048a03000000000000000000000000440001000000\n",
      "\n",
      "{'call': '0x2204cc58ca91355d26d9fe826cc0ded719e219f4e798c698c01f407844a5f8682c4f0180dd089bfe4d60dc2a63ddccfe3b6b1aa284b0b6d4bc3a46bf59b38f72e70b5b329cc9016658361d91a0484b05a527747d43c17ae9f34000cacbe465b643048a030000000000000000000000', 'era': '00', 'nonce': 17, 'tip': 0, 'spec_version': 1, 'genesis_hash': '0xe2ba7ea2c82e4de81244f86c84d4f3f267103104ce5103535f3f1bd2c834f3b6', 'block_hash': '0xe2ba7ea2c82e4de81244f86c84d4f3f267103104ce5103535f3f1bd2c834f3b6', 'transaction_version': 1, 'asset_id': {'tip': 0, 'asset_id': None}} transaction_version scale_info::4 0x01000000 0x2204cc58ca91355d26d9fe826cc0ded719e219f4e798c698c01f407844a5f8682c4f0180dd089bfe4d60dc2a63ddccfe3b6b1aa284b0b6d4bc3a46bf59b38f72e70b5b329cc9016658361d91a0484b05a527747d43c17ae9f34000cacbe465b643048a0300000000000000000000000044000100000001000000\n",
      "\n",
      "{'call': '0x2204cc58ca91355d26d9fe826cc0ded719e219f4e798c698c01f407844a5f8682c4f0180dd089bfe4d60dc2a63ddccfe3b6b1aa284b0b6d4bc3a46bf59b38f72e70b5b329cc9016658361d91a0484b05a527747d43c17ae9f34000cacbe465b643048a030000000000000000000000', 'era': '00', 'nonce': 17, 'tip': 0, 'spec_version': 1, 'genesis_hash': '0xe2ba7ea2c82e4de81244f86c84d4f3f267103104ce5103535f3f1bd2c834f3b6', 'block_hash': '0xe2ba7ea2c82e4de81244f86c84d4f3f267103104ce5103535f3f1bd2c834f3b6', 'transaction_version': 1, 'asset_id': {'tip': 0, 'asset_id': None}} genesis_hash scale_info::9 0xe2ba7ea2c82e4de81244f86c84d4f3f267103104ce5103535f3f1bd2c834f3b6 0x2204cc58ca91355d26d9fe826cc0ded719e219f4e798c698c01f407844a5f8682c4f0180dd089bfe4d60dc2a63ddccfe3b6b1aa284b0b6d4bc3a46bf59b38f72e70b5b329cc9016658361d91a0484b05a527747d43c17ae9f34000cacbe465b643048a0300000000000000000000000044000100000001000000e2ba7ea2c82e4de81244f86c84d4f3f267103104ce5103535f3f1bd2c834f3b6\n",
      "\n",
      "{'call': '0x2204cc58ca91355d26d9fe826cc0ded719e219f4e798c698c01f407844a5f8682c4f0180dd089bfe4d60dc2a63ddccfe3b6b1aa284b0b6d4bc3a46bf59b38f72e70b5b329cc9016658361d91a0484b05a527747d43c17ae9f34000cacbe465b643048a030000000000000000000000', 'era': '00', 'nonce': 17, 'tip': 0, 'spec_version': 1, 'genesis_hash': '0xe2ba7ea2c82e4de81244f86c84d4f3f267103104ce5103535f3f1bd2c834f3b6', 'block_hash': '0xe2ba7ea2c82e4de81244f86c84d4f3f267103104ce5103535f3f1bd2c834f3b6', 'transaction_version': 1, 'asset_id': {'tip': 0, 'asset_id': None}} block_hash scale_info::9 0xe2ba7ea2c82e4de81244f86c84d4f3f267103104ce5103535f3f1bd2c834f3b6 0x2204cc58ca91355d26d9fe826cc0ded719e219f4e798c698c01f407844a5f8682c4f0180dd089bfe4d60dc2a63ddccfe3b6b1aa284b0b6d4bc3a46bf59b38f72e70b5b329cc9016658361d91a0484b05a527747d43c17ae9f34000cacbe465b643048a0300000000000000000000000044000100000001000000e2ba7ea2c82e4de81244f86c84d4f3f267103104ce5103535f3f1bd2c834f3b6e2ba7ea2c82e4de81244f86c84d4f3f267103104ce5103535f3f1bd2c834f3b6\n",
      "\n",
      "{'Id': '0xcc58ca91355d26d9fe826cc0ded719e219f4e798c698c01f407844a5f8682c4f'} Id AccountId 0xcc58ca91355d26d9fe826cc0ded719e219f4e798c698c01f407844a5f8682c4f 0xcc58ca91355d26d9fe826cc0ded719e219f4e798c698c01f407844a5f8682c4f\n",
      "\n",
      "{'Id': '0xcc58ca91355d26d9fe826cc0ded719e219f4e798c698c01f407844a5f8682c4f'} Id AccountId 0xcc58ca91355d26d9fe826cc0ded719e219f4e798c698c01f407844a5f8682c4f 0xcc58ca91355d26d9fe826cc0ded719e219f4e798c698c01f407844a5f8682c4f\n",
      "\n",
      "{'account_id': '0xcc58ca91355d26d9fe826cc0ded719e219f4e798c698c01f407844a5f8682c4f', 'signature': {'Sr25519': '0xe0648890a4954003519ca60247c90d897ed68c0ec1576d724cffc0989381764cb5f724be940e102ed85043f52ffb79dbfca3336695cbb09236cce336dd66998d'}, 'call_function': 'add_key_to_msa', 'call_module': 'Msa', 'call_args': {'key': '5Gge15WwoSeyPiGy9FzJRipLFGma3RkaX7G1gez6pbGAGnNC', 'proof': {'Sr25519': '0x80dd089bfe4d60dc2a63ddccfe3b6b1aa284b0b6d4bc3a46bf59b38f72e70b5b329cc9016658361d91a0484b05a527747d43c17ae9f34000cacbe465b643048a'}, 'add_key_payload': {'msa_id': 3, 'nonce': 0}}, 'nonce': 17, 'era': '00', 'tip': 0, 'asset_id': {'tip': 0, 'asset_id': None}, 'signature_version': 1, 'address': '0xcc58ca91355d26d9fe826cc0ded719e219f4e798c698c01f407844a5f8682c4f', 'call': {'call_function': 'add_key_to_msa', 'call_module': 'Msa', 'call_args': {'key': '5Gge15WwoSeyPiGy9FzJRipLFGma3RkaX7G1gez6pbGAGnNC', 'proof': {'Sr25519': '0x80dd089bfe4d60dc2a63ddccfe3b6b1aa284b0b6d4bc3a46bf59b38f72e70b5b329cc9016658361d91a0484b05a527747d43c17ae9f34000cacbe465b643048a'}, 'add_key_payload': {'msa_id': 3, 'nonce': 0}}}} address Address 0x00cc58ca91355d26d9fe826cc0ded719e219f4e798c698c01f407844a5f8682c4f 0x00cc58ca91355d26d9fe826cc0ded719e219f4e798c698c01f407844a5f8682c4f\n",
      "\n",
      "{'Sr25519': '0xe0648890a4954003519ca60247c90d897ed68c0ec1576d724cffc0989381764cb5f724be940e102ed85043f52ffb79dbfca3336695cbb09236cce336dd66998d'} Sr25519 Sr25519Signature 0xe0648890a4954003519ca60247c90d897ed68c0ec1576d724cffc0989381764cb5f724be940e102ed85043f52ffb79dbfca3336695cbb09236cce336dd66998d 0xe0648890a4954003519ca60247c90d897ed68c0ec1576d724cffc0989381764cb5f724be940e102ed85043f52ffb79dbfca3336695cbb09236cce336dd66998d\n",
      "\n",
      "{'Sr25519': '0xe0648890a4954003519ca60247c90d897ed68c0ec1576d724cffc0989381764cb5f724be940e102ed85043f52ffb79dbfca3336695cbb09236cce336dd66998d'} Sr25519 Sr25519Signature 0xe0648890a4954003519ca60247c90d897ed68c0ec1576d724cffc0989381764cb5f724be940e102ed85043f52ffb79dbfca3336695cbb09236cce336dd66998d 0xe0648890a4954003519ca60247c90d897ed68c0ec1576d724cffc0989381764cb5f724be940e102ed85043f52ffb79dbfca3336695cbb09236cce336dd66998d\n",
      "\n",
      "{'account_id': '0xcc58ca91355d26d9fe826cc0ded719e219f4e798c698c01f407844a5f8682c4f', 'signature': {'Sr25519': '0xe0648890a4954003519ca60247c90d897ed68c0ec1576d724cffc0989381764cb5f724be940e102ed85043f52ffb79dbfca3336695cbb09236cce336dd66998d'}, 'call_function': 'add_key_to_msa', 'call_module': 'Msa', 'call_args': {'key': '5Gge15WwoSeyPiGy9FzJRipLFGma3RkaX7G1gez6pbGAGnNC', 'proof': {'Sr25519': '0x80dd089bfe4d60dc2a63ddccfe3b6b1aa284b0b6d4bc3a46bf59b38f72e70b5b329cc9016658361d91a0484b05a527747d43c17ae9f34000cacbe465b643048a'}, 'add_key_payload': {'msa_id': 3, 'nonce': 0}}, 'nonce': 17, 'era': '00', 'tip': 0, 'asset_id': {'tip': 0, 'asset_id': None}, 'signature_version': 1, 'address': '0xcc58ca91355d26d9fe826cc0ded719e219f4e798c698c01f407844a5f8682c4f', 'call': {'call_function': 'add_key_to_msa', 'call_module': 'Msa', 'call_args': {'key': '5Gge15WwoSeyPiGy9FzJRipLFGma3RkaX7G1gez6pbGAGnNC', 'proof': {'Sr25519': '0x80dd089bfe4d60dc2a63ddccfe3b6b1aa284b0b6d4bc3a46bf59b38f72e70b5b329cc9016658361d91a0484b05a527747d43c17ae9f34000cacbe465b643048a'}, 'add_key_payload': {'msa_id': 3, 'nonce': 0}}}} signature ExtrinsicSignature 0x01e0648890a4954003519ca60247c90d897ed68c0ec1576d724cffc0989381764cb5f724be940e102ed85043f52ffb79dbfca3336695cbb09236cce336dd66998d 0x00cc58ca91355d26d9fe826cc0ded719e219f4e798c698c01f407844a5f8682c4f01e0648890a4954003519ca60247c90d897ed68c0ec1576d724cffc0989381764cb5f724be940e102ed85043f52ffb79dbfca3336695cbb09236cce336dd66998d\n",
      "\n",
      "{'account_id': '0xcc58ca91355d26d9fe826cc0ded719e219f4e798c698c01f407844a5f8682c4f', 'signature': {'Sr25519': '0xe0648890a4954003519ca60247c90d897ed68c0ec1576d724cffc0989381764cb5f724be940e102ed85043f52ffb79dbfca3336695cbb09236cce336dd66998d'}, 'call_function': 'add_key_to_msa', 'call_module': 'Msa', 'call_args': {'key': '5Gge15WwoSeyPiGy9FzJRipLFGma3RkaX7G1gez6pbGAGnNC', 'proof': {'Sr25519': '0x80dd089bfe4d60dc2a63ddccfe3b6b1aa284b0b6d4bc3a46bf59b38f72e70b5b329cc9016658361d91a0484b05a527747d43c17ae9f34000cacbe465b643048a'}, 'add_key_payload': {'msa_id': 3, 'nonce': 0}}, 'nonce': 17, 'era': '00', 'tip': 0, 'asset_id': {'tip': 0, 'asset_id': None}, 'signature_version': 1, 'address': '0xcc58ca91355d26d9fe826cc0ded719e219f4e798c698c01f407844a5f8682c4f', 'call': {'call_function': 'add_key_to_msa', 'call_module': 'Msa', 'call_args': {'key': '5Gge15WwoSeyPiGy9FzJRipLFGma3RkaX7G1gez6pbGAGnNC', 'proof': {'Sr25519': '0x80dd089bfe4d60dc2a63ddccfe3b6b1aa284b0b6d4bc3a46bf59b38f72e70b5b329cc9016658361d91a0484b05a527747d43c17ae9f34000cacbe465b643048a'}, 'add_key_payload': {'msa_id': 3, 'nonce': 0}}}} era scale_info::265 0x00 0x00cc58ca91355d26d9fe826cc0ded719e219f4e798c698c01f407844a5f8682c4f01e0648890a4954003519ca60247c90d897ed68c0ec1576d724cffc0989381764cb5f724be940e102ed85043f52ffb79dbfca3336695cbb09236cce336dd66998d00\n",
      "\n",
      "{'account_id': '0xcc58ca91355d26d9fe826cc0ded719e219f4e798c698c01f407844a5f8682c4f', 'signature': {'Sr25519': '0xe0648890a4954003519ca60247c90d897ed68c0ec1576d724cffc0989381764cb5f724be940e102ed85043f52ffb79dbfca3336695cbb09236cce336dd66998d'}, 'call_function': 'add_key_to_msa', 'call_module': 'Msa', 'call_args': {'key': '5Gge15WwoSeyPiGy9FzJRipLFGma3RkaX7G1gez6pbGAGnNC', 'proof': {'Sr25519': '0x80dd089bfe4d60dc2a63ddccfe3b6b1aa284b0b6d4bc3a46bf59b38f72e70b5b329cc9016658361d91a0484b05a527747d43c17ae9f34000cacbe465b643048a'}, 'add_key_payload': {'msa_id': 3, 'nonce': 0}}, 'nonce': 17, 'era': '00', 'tip': 0, 'asset_id': {'tip': 0, 'asset_id': None}, 'signature_version': 1, 'address': '0xcc58ca91355d26d9fe826cc0ded719e219f4e798c698c01f407844a5f8682c4f', 'call': {'call_function': 'add_key_to_msa', 'call_module': 'Msa', 'call_args': {'key': '5Gge15WwoSeyPiGy9FzJRipLFGma3RkaX7G1gez6pbGAGnNC', 'proof': {'Sr25519': '0x80dd089bfe4d60dc2a63ddccfe3b6b1aa284b0b6d4bc3a46bf59b38f72e70b5b329cc9016658361d91a0484b05a527747d43c17ae9f34000cacbe465b643048a'}, 'add_key_payload': {'msa_id': 3, 'nonce': 0}}}} nonce scale_info::267 0x44 0x00cc58ca91355d26d9fe826cc0ded719e219f4e798c698c01f407844a5f8682c4f01e0648890a4954003519ca60247c90d897ed68c0ec1576d724cffc0989381764cb5f724be940e102ed85043f52ffb79dbfca3336695cbb09236cce336dd66998d0044\n",
      "\n",
      "{'account_id': '0xcc58ca91355d26d9fe826cc0ded719e219f4e798c698c01f407844a5f8682c4f', 'signature': {'Sr25519': '0xe0648890a4954003519ca60247c90d897ed68c0ec1576d724cffc0989381764cb5f724be940e102ed85043f52ffb79dbfca3336695cbb09236cce336dd66998d'}, 'call_function': 'add_key_to_msa', 'call_module': 'Msa', 'call_args': {'key': '5Gge15WwoSeyPiGy9FzJRipLFGma3RkaX7G1gez6pbGAGnNC', 'proof': {'Sr25519': '0x80dd089bfe4d60dc2a63ddccfe3b6b1aa284b0b6d4bc3a46bf59b38f72e70b5b329cc9016658361d91a0484b05a527747d43c17ae9f34000cacbe465b643048a'}, 'add_key_payload': {'msa_id': 3, 'nonce': 0}}, 'nonce': 17, 'era': '00', 'tip': 0, 'asset_id': {'tip': 0, 'asset_id': None}, 'signature_version': 1, 'address': '0xcc58ca91355d26d9fe826cc0ded719e219f4e798c698c01f407844a5f8682c4f', 'call': {'call_function': 'add_key_to_msa', 'call_module': 'Msa', 'call_args': {'key': '5Gge15WwoSeyPiGy9FzJRipLFGma3RkaX7G1gez6pbGAGnNC', 'proof': {'Sr25519': '0x80dd089bfe4d60dc2a63ddccfe3b6b1aa284b0b6d4bc3a46bf59b38f72e70b5b329cc9016658361d91a0484b05a527747d43c17ae9f34000cacbe465b643048a'}, 'add_key_payload': {'msa_id': 3, 'nonce': 0}}}} tip scale_info::269 0x00 0x00cc58ca91355d26d9fe826cc0ded719e219f4e798c698c01f407844a5f8682c4f01e0648890a4954003519ca60247c90d897ed68c0ec1576d724cffc0989381764cb5f724be940e102ed85043f52ffb79dbfca3336695cbb09236cce336dd66998d004400\n",
      "\n",
      "{'Sr25519': '0x80dd089bfe4d60dc2a63ddccfe3b6b1aa284b0b6d4bc3a46bf59b38f72e70b5b329cc9016658361d91a0484b05a527747d43c17ae9f34000cacbe465b643048a'} Sr25519 scale_info::185 0x80dd089bfe4d60dc2a63ddccfe3b6b1aa284b0b6d4bc3a46bf59b38f72e70b5b329cc9016658361d91a0484b05a527747d43c17ae9f34000cacbe465b643048a 0x80dd089bfe4d60dc2a63ddccfe3b6b1aa284b0b6d4bc3a46bf59b38f72e70b5b329cc9016658361d91a0484b05a527747d43c17ae9f34000cacbe465b643048a\n",
      "\n",
      "{'msa_id': 3, 'nonce': 0} msa_id scale_info::8 0x0300000000000000 0x0300000000000000\n",
      "\n",
      "{'msa_id': 3, 'nonce': 0} nonce scale_info::4 0x00000000 0x030000000000000000000000\n",
      "\n",
      "{'Sr25519': '0x80dd089bfe4d60dc2a63ddccfe3b6b1aa284b0b6d4bc3a46bf59b38f72e70b5b329cc9016658361d91a0484b05a527747d43c17ae9f34000cacbe465b643048a'} Sr25519 scale_info::185 0x80dd089bfe4d60dc2a63ddccfe3b6b1aa284b0b6d4bc3a46bf59b38f72e70b5b329cc9016658361d91a0484b05a527747d43c17ae9f34000cacbe465b643048a 0x80dd089bfe4d60dc2a63ddccfe3b6b1aa284b0b6d4bc3a46bf59b38f72e70b5b329cc9016658361d91a0484b05a527747d43c17ae9f34000cacbe465b643048a\n",
      "\n",
      "{'msa_id': 3, 'nonce': 0} msa_id scale_info::8 0x0300000000000000 0x0300000000000000\n",
      "\n",
      "{'msa_id': 3, 'nonce': 0} nonce scale_info::4 0x00000000 0x030000000000000000000000\n",
      "\n",
      "{'account_id': '0xcc58ca91355d26d9fe826cc0ded719e219f4e798c698c01f407844a5f8682c4f', 'signature': {'Sr25519': '0xe0648890a4954003519ca60247c90d897ed68c0ec1576d724cffc0989381764cb5f724be940e102ed85043f52ffb79dbfca3336695cbb09236cce336dd66998d'}, 'call_function': 'add_key_to_msa', 'call_module': 'Msa', 'call_args': {'key': '5Gge15WwoSeyPiGy9FzJRipLFGma3RkaX7G1gez6pbGAGnNC', 'proof': {'Sr25519': '0x80dd089bfe4d60dc2a63ddccfe3b6b1aa284b0b6d4bc3a46bf59b38f72e70b5b329cc9016658361d91a0484b05a527747d43c17ae9f34000cacbe465b643048a'}, 'add_key_payload': {'msa_id': 3, 'nonce': 0}}, 'nonce': 17, 'era': '00', 'tip': 0, 'asset_id': {'tip': 0, 'asset_id': None}, 'signature_version': 1, 'address': '0xcc58ca91355d26d9fe826cc0ded719e219f4e798c698c01f407844a5f8682c4f', 'call': {'call_function': 'add_key_to_msa', 'call_module': 'Msa', 'call_args': {'key': '5Gge15WwoSeyPiGy9FzJRipLFGma3RkaX7G1gez6pbGAGnNC', 'proof': {'Sr25519': '0x80dd089bfe4d60dc2a63ddccfe3b6b1aa284b0b6d4bc3a46bf59b38f72e70b5b329cc9016658361d91a0484b05a527747d43c17ae9f34000cacbe465b643048a'}, 'add_key_payload': {'msa_id': 3, 'nonce': 0}}}} call Call 0x2204cc58ca91355d26d9fe826cc0ded719e219f4e798c698c01f407844a5f8682c4f0180dd089bfe4d60dc2a63ddccfe3b6b1aa284b0b6d4bc3a46bf59b38f72e70b5b329cc9016658361d91a0484b05a527747d43c17ae9f34000cacbe465b643048a030000000000000000000000 0x00cc58ca91355d26d9fe826cc0ded719e219f4e798c698c01f407844a5f8682c4f01e0648890a4954003519ca60247c90d897ed68c0ec1576d724cffc0989381764cb5f724be940e102ed85043f52ffb79dbfca3336695cbb09236cce336dd66998d0044002204cc58ca91355d26d9fe826cc0ded719e219f4e798c698c01f407844a5f8682c4f0180dd089bfe4d60dc2a63ddccfe3b6b1aa284b0b6d4bc3a46bf59b38f72e70b5b329cc9016658361d91a0484b05a527747d43c17ae9f34000cacbe465b643048a030000000000000000000000\n",
      "\n"
     ]
    },
    {
     "name": "stdout",
     "output_type": "stream",
     "text": [
      "Extrinsic '0x64b5ae209ce0eecce290c47dc5680ad867df4f9e01dac3e024fc34d2eb2cd6a1' sent and included in block '0xfa476495051bf6d3e10de157bbfb53e0ab8481d1185e557c27f20d52b4f4678d'\n"
     ]
    }
   ],
   "source": [
    "call_params = {\n",
    "    \"key\": new_wallet.ss58_address,\n",
    "    \"proof\": {\"Sr25519\": \"0x\" + signature.hex()},\n",
    "    \"add_key_payload\": payload_raw\n",
    "}\n",
    "\n",
    "receipt = make_call(\"Msa\", \"add_key_to_msa\", call_params, new_wallet)"
   ]
  },
  {
   "cell_type": "code",
   "execution_count": 108,
   "id": "04a992cb",
   "metadata": {},
   "outputs": [
    {
     "data": {
      "text/plain": [
       "{'type': 'Module',\n",
       " 'name': 'AddKeySignatureVerificationFailed',\n",
       " 'docs': ['Cryptographic signature verification failed for adding a key to MSA']}"
      ]
     },
     "execution_count": 108,
     "metadata": {},
     "output_type": "execute_result"
    }
   ],
   "source": [
    "receipt.error_message"
   ]
  },
  {
   "cell_type": "code",
   "execution_count": 67,
   "id": "0364852d",
   "metadata": {},
   "outputs": [],
   "source": [
    "t = substrate.create_scale_object(type_string='scale_info::8', metadata=substrate.metadata_decoder)"
   ]
  },
  {
   "cell_type": "code",
   "execution_count": 69,
   "id": "a4390d05",
   "metadata": {},
   "outputs": [
    {
     "data": {
      "text/plain": [
       "True"
      ]
     },
     "execution_count": 69,
     "metadata": {},
     "output_type": "execute_result"
    }
   ],
   "source": [
    "t.encode(1) == substrate.encode_scale(type_string='scale_info::8', value=1)"
   ]
  },
  {
   "cell_type": "code",
   "execution_count": 93,
   "id": "f13e3803",
   "metadata": {},
   "outputs": [
    {
     "data": {
      "text/plain": [
       "True"
      ]
     },
     "execution_count": 93,
     "metadata": {},
     "output_type": "execute_result"
    }
   ],
   "source": [
    "add_provider_payload.to_hex() == '0x030000000000000000'"
   ]
  },
  {
   "cell_type": "code",
   "execution_count": 96,
   "id": "0533122f",
   "metadata": {},
   "outputs": [
    {
     "data": {
      "text/plain": [
       "True"
      ]
     },
     "execution_count": 96,
     "metadata": {},
     "output_type": "execute_result"
    }
   ],
   "source": [
    "new_wallet.verify(add_provider_payload, \"0x\" + signature.hex())"
   ]
  },
  {
   "cell_type": "code",
   "execution_count": null,
   "id": "587b0a51",
   "metadata": {},
   "outputs": [],
   "source": []
  }
 ],
 "metadata": {
  "kernelspec": {
   "display_name": "Python 3",
   "language": "python",
   "name": "python3"
  },
  "language_info": {
   "codemirror_mode": {
    "name": "ipython",
    "version": 3
   },
   "file_extension": ".py",
   "mimetype": "text/x-python",
   "name": "python",
   "nbconvert_exporter": "python",
   "pygments_lexer": "ipython3",
   "version": "3.6.9"
  }
 },
 "nbformat": 4,
 "nbformat_minor": 5
}
