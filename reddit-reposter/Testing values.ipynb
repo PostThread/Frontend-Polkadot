{
 "cells": [
  {
   "cell_type": "code",
   "execution_count": 10,
   "id": "f429211c",
   "metadata": {},
   "outputs": [
    {
     "name": "stdout",
     "output_type": "stream",
     "text": [
      "\u001b[31mERROR\u001b[0m: The Compose file './docker-compose.yml' is invalid because:\n",
      "Unsupported config option for services.networks: 'backend'\n"
     ]
    }
   ],
   "source": [
    "!docker stop ipfs_host"
   ]
  },
  {
   "cell_type": "code",
   "execution_count": 11,
   "id": "0221dfe1",
   "metadata": {},
   "outputs": [
    {
     "name": "stdout",
     "output_type": "stream",
     "text": [
      "\u001b[31mERROR\u001b[0m: The Compose file './docker-compose.yml' is invalid because:\n",
      "Unsupported config option for services.networks: 'backend'\n"
     ]
    }
   ],
   "source": [
    "!docker rm ipf_host"
   ]
  },
  {
   "cell_type": "code",
   "execution_count": 12,
   "id": "c6b8e975",
   "metadata": {},
   "outputs": [
    {
     "name": "stdout",
     "output_type": "stream",
     "text": [
      "539f3618e5ff0b0a85e7d61b47c4aeeb89876547f596fe3bad72779d35980a25\n"
     ]
    }
   ],
   "source": [
    "!docker run -d --name ipfs_host2 -v $ipfs_staging:/export -v $ipfs_data:/data/ipfs -p 4001:4001 -p 4001:4001/udp -p 127.0.0.1:8080:8080 -p 127.0.0.1:5001:5001 ipfs/go-ipfs:latest"
   ]
  },
  {
   "cell_type": "code",
   "execution_count": 1,
   "id": "44fb498b",
   "metadata": {},
   "outputs": [],
   "source": [
    "!mkdir /tmp/posts\n",
    "!mkdir /tmp/comments"
   ]
  },
  {
   "cell_type": "code",
   "execution_count": 2,
   "id": "6f6314c3",
   "metadata": {},
   "outputs": [],
   "source": [
    "%load_ext autoreload\n",
    "%autoreload 2"
   ]
  },
  {
   "cell_type": "code",
   "execution_count": 3,
   "id": "9f865ce4",
   "metadata": {},
   "outputs": [
    {
     "name": "stderr",
     "output_type": "stream",
     "text": [
      "/home/chia/miniconda3/lib/python3.8/site-packages/ipfshttpclient/client/__init__.py:73: VersionMismatch: Unsupported daemon version '0.13.0' (not in range: 0.5.0 ≤ … < 0.9.0)\n",
      "  warnings.warn(exceptions.VersionMismatch(version, minimum, maximum))\n"
     ]
    }
   ],
   "source": [
    "import json\n",
    "import substrateinterface\n",
    "from substrateinterface import SubstrateInterface, Keypair\n",
    "from substrateinterface.exceptions import SubstrateRequestException\n",
    "from substrate_helpers import make_call, addSchema, get_msa_id, \\\n",
    "            get_signature, create_msa_with_delegator, mint_votes, mint_user, get_schemas_from_pattern, \\\n",
    "            get_content_from_schemas, get_user, follow_user, add_delegate"
   ]
  },
  {
   "cell_type": "code",
   "execution_count": 23,
   "id": "5cc0951b",
   "metadata": {
    "scrolled": true
   },
   "outputs": [],
   "source": [
    "bob = Keypair.create_from_uri('//Bob')\n",
    "substrate = SubstrateInterface(\n",
    "    url=\"ws://127.0.0.1:9944\",\n",
    "    ss58_format=42,\n",
    "    type_registry_preset='kusama'\n",
    ")"
   ]
  },
  {
   "cell_type": "code",
   "execution_count": 42,
   "id": "3f623294",
   "metadata": {
    "scrolled": true
   },
   "outputs": [
    {
     "data": {
      "text/plain": [
       "[<GenericExtrinsic(value={'extrinsic_hash': None, 'extrinsic_length': 2539, 'call': {'call_index': '0x0100', 'call_function': 'set_validation_data', 'call_module': 'ParachainSystem', 'call_args': [{'name': 'data', 'type': 'ParachainInherentData', 'value': {'validation_data': {'parent_head': '0x2c47f5c616414b298cb5631145fbce8db6fa1f878898f71e6f18695b87a3b5e1049ce0f96de5e05c1b2bcbae51d945ced7ea85105b1bfded150417f401e4055b4a48340f90aa3ad867daed1d1a5279449b4555d8a076d6517d43214ee13e8a27340806617572612082bd39080000000005617572610101f4d7b63b71ed909dcc5451daef0f92ac9faf2009a1cf2d1c0ed7c68aac324816e0412bd70734935e6c0375c63404222838c1ba9832d38b85d5ed8ed99b7afc81', 'relay_parent_number': 116, 'relay_parent_storage_root': '0x263e8eda56c5a5b91d59d682fd33222bc2ecc7514bc473d530c72f63ac9a9211', 'max_pov_size': 5242880}, 'relay_chain_state': {'trie_nodes': ['0x5f04b49d95320d9021994c850f25b8e3851d03000030000080000008000000000010000000100005000000050000000200000002000000000050000000100000e8764817000000040000000400000000000000000000000000000000000000000000000000000000000000000000000800000000200000040000000400000000001000b0040000000000000000000014000000040000000400000000000000010100000000060000006400000002000000c8000000020000001900000000000000020000000200000000c817a804000000000200000005000000', '0x80011080daefdc82e4eef19f10c5d19f9fbc84d1f4f9f7c6ef981d252eeb7273cea0485f80114a7bc19738090504cd50c321014cd7acf21a0e742e68e76584b9f5e63850af', '0x8004648086a9239b72237f5bf119e2a880c32f5866460632700509cb874c60f67fe815ea80f6f6801e4b41e2e6d8ec194dba122bfb9eb33feb2545ef5144cea79551f7cc528002983a7b9f5f7687a05f2df5b427cb409124a73f9baf17028a543c47f239e1868017d0e6f73c77f0e5a8428caa8d00dc578cf55f3eb5d11cdbfede92ec987132af', '0x800814809f3ada68c357b5e0a3ebb39ef181acfa9943af4725c244330a4b2c60837612e8808454418ffa1c510298e245664b4a99f4e23a0be0d315920e33a30d8d0151ea1680517736f059379ae47402cf9b5d9306d732b3a57362f23690da174c9ace2d1684', '0x801017806ad8bda250a43737b26933c1b7bebe6f4fe689b2888ff5ab4833d7394853350f8038f5c136db5bdb74d6a62722e6ea23af4fe820eb7fe28dee3a5f76d637dd33768008d132cb19a7651a69c997b6aa780b80833bbbf46fb3e3e09b4cb14374e754b48065a1214a991ac85d93f38385d6f52af7b4ddcf56e589fcb92c8d9e8f27291c9280a0c34f68a39d852a245df936e3d1ebfa5363ab01a971cf8523589c17bbb8759d', '0x80210280e11f75586f1052873b37b5feee2ce42796f5bdc43dfcbff348cb2a4b41bbad4f801a2ff24096295cfccf1adda80b8dfffe380b9f3b54d7a3cdb67864a4655e62968022a699b2cc90a6654c84163d2a498506b192afe7cd9777227e5288e8ff069c0f', '0x804001801b70e624a01121aa1aa386f14a355a9567e9ec145cbdecfe1ce5a3fef53abb6c807f67bb40ce9b93cb702f4e492c4de26a3dec02548ef95e11f316e7ffdb1cca39', '0x80fffe80ffa654bfc1584564a6f4dbdcbeffdd70115bee206489a363e8d0e8621a12e4de80ee2f6ebe0f1f2fb99684cbfa58e2d98ec234d1111f1187f7c3334311e9f3bd6680d9a7e919f93c6fc63bc48ede6b146b96179847b3dd95b36b7a73ac88e9c98d1d80706e32b20c1dd33b92f493fd336ca91dee9241e51933ca7def7d1afc12b03edc80f6cff7e51df7e687c003e50f23f2bd8876b204154a63e27f1d1ac324596a3d55800f01ade36606fd3caf213f7c0cb0c14fa9944a16c623ef84006a08f225ad51658021d0f3192c73474bff803d3ef443737f95af4af9e5d1a3121fc269618fadedbb8051aa3b2e1aee3bc08a579f37d2573e0fd7b5d190acee0e778fe020c230b9fa2c80d0e1640c560369e2f47f8eb0526b1967be9280444d6f54f09bbf0e3b7ddcae528058770ec54674efc12ee975ad534cd6504f2f1b5ebcea946cdd0ffafb2b0ae44d805e5435351b8a9bd175dbf38a8c9671f92419152ec45d5e1d1171fc872db20835804957596ed24eb54e205f4a268b984826819abfe6a6a552d57f6c4b13382b140c804d35e7c5fa1ba32bd1389c3f4daa77f6bec6f93ec98fb8eadc7b96ed68a93f3e8031a31eeb0bce5a8dcd32bcb7d3d881316c2c3b23cbd085238d7519eee630929d80b9f6ed1a3b06f67f732b66d5de00c5545c3f15bf99ff4bb309f7a62deb35999d', '0x9d0da05ca59913bc38a8630590f2627c1540806b81ada8161677b2bbd29984dbfe45399e08cff8b87dbdad87e5f7c34290902d4c5f0a351b6a99a5b21324516e668bb86a570400505f0e7b9012096b41c4eb3aaf947f6ea4290800007c7700e67da63472835bb0b737093a19ad4c63f5a4efb16ffa83d00700000400', '0x9e207f03cfdce586301014700e2c25931040505f0e7b9012096b41c4eb3aaf947f6ea4290800004c5f0ec2d17a76153ff51817f12d9cfc3c7f0400', '0x9e710b30bd2eab0352ddcc26417aa1945f4380699a53b51a9709a3a86039c49b5ef278e9fc244dae27e1a0380c91bff5b0488580b246e49ee5b06ebdb9654e08caa1067eb3a66c98934b0c0ddd22483d07bbafef7c77081e0bfde17b36573208a06cb5cfba6b63f5a4efb16ffa83d0070000040280a17d88fb95453614a7fc83141cd84f494ded5de1e5db66b6043a3861a5ca0fc9505f0e7b9012096b41c4eb3aaf947f6ea4290800004c5f03c716fb8fff3de61a883bb76adb34a204008013dca051e6f9dbf832410477acd3ec8903a7da73b96952542a8d8ebff18ae0c74c5f0f4993f016e2d2f8e5f43be7bb25948604008026424cf4b6324a1897b06749f3eb2a3bb78e855bcd1cfe35d49e5e1a8f9cbe79', '0x9eb6f36e027abb2091cfb5110ab5087ff96c685f06155b3cd9a8c9e5e9a23fd5dc13a5ed20087b731000000000685f08316cbf8fa0da822a20ac1c55bf1be3200b00000000000000505f0e7b9012096b41c4eb3aaf947f6ea42908000080b91b4c3190c3c118f75aeba80be97cd9bb57cb46b2ac89d5e147466f71b506a580d95ee3741e8dffd11d0c8a64362d311abd5ca2b66a4db96ae426f9afd14d5ce080fb11b56b2e43c9b0a7ea89ffeac6269717fb9de8468ea9002a0ea7f7a95e432580b10bc2087a1a925318d66168effcd0100f1104d353039ae5e89c42a287fe741e8089ae3a5f012d4e60c4a83ee24e4ad6ac80abdde4a3bf517691ab796a31b2de148010a7853812772b42c142e59f46591f1c132b288b68f6cda1697b706a44d30537685f090e2fbf2d792cb324bffa9427fe1f0e20650000006f000000', '0x9ede3d8a54d27e44a9d5ce189618f22d1008505f0e7b9012096b41c4eb3aaf947f6ea429080200804661925741afdeb52d12ad6c36d745f82559d6b0825f047e52d5b8e932e801b7', '0x9ef78c98723ddc9073523ef3beefda0c1004505f0e7b9012096b41c4eb3aaf947f6ea4290800007c77095dac46c07a40d91506e7637ec4ba5763f5a4efb16ffa83d00700000400']}, 'downward_messages': [], 'horizontal_messages': []}}], 'call_hash': '0x224b5a8b1e7a784b4e2206f62631d26791b5e06646c8af6e8b96dc3efbf7a18f'}})>,\n",
       " <GenericExtrinsic(value={'extrinsic_hash': None, 'extrinsic_length': 10, 'call': {'call_index': '0x0200', 'call_function': 'set', 'call_module': 'Timestamp', 'call_args': [{'name': 'now', 'type': 'Moment', 'value': 1656021552012}], 'call_hash': '0xeb54605d5c16bde1624366632723c2b9148c66dea63f21e3bd5688877b134921'}})>]"
      ]
     },
     "execution_count": 42,
     "metadata": {},
     "output_type": "execute_result"
    }
   ],
   "source": [
    "substrate.get_block(substrate.get_block_hash())['extrinsics']"
   ]
  },
  {
   "cell_type": "code",
   "execution_count": 24,
   "id": "fda56af6",
   "metadata": {},
   "outputs": [],
   "source": [
    "bob_msa_id = get_msa_id(bob, create=True)"
   ]
  },
  {
   "cell_type": "code",
   "execution_count": 25,
   "id": "ee9d6b7f",
   "metadata": {},
   "outputs": [
    {
     "data": {
      "text/plain": [
       "1"
      ]
     },
     "execution_count": 25,
     "metadata": {},
     "output_type": "execute_result"
    }
   ],
   "source": [
    "bob_msa_id"
   ]
  },
  {
   "cell_type": "markdown",
   "id": "2ea0b36f",
   "metadata": {},
   "source": [
    "# Make schemas"
   ]
  },
  {
   "cell_type": "code",
   "execution_count": 57,
   "id": "5c0ff6f2",
   "metadata": {},
   "outputs": [],
   "source": [
    "post_schema = \"category STRING,title STRING,body STRING,url STRING,is_nsfw NUMERIC\"\n",
    "post_schemaId = addSchema(post_schema, wait_for_inclusion=True, wait_for_finalization=False)\n",
    "\n",
    "comment_schema = \"post_hash STRING,parent_hash STRING,depth NUMERIC,body STRING\"\n",
    "comment_schemaId = addSchema(comment_schema, wait_for_inclusion=True, wait_for_finalization=False)\n",
    "\n",
    "vote_schema = \"post_hash STRING,parent_hash STRING,parent_type STRING,num_votes NUMERIC\"\n",
    "vote_schemaId = addSchema(vote_schema, wait_for_inclusion=True, wait_for_finalization=False)\n",
    "\n",
    "user_schema = \"msa_id NUMERIC,username STRING,password STRING,profile_pic STRING,wallet_ss58_address STRING\"\n",
    "user_schemaId = addSchema(user_schema, wait_for_inclusion=True, wait_for_finalization=False)\n",
    "\n",
    "follow_schema = \"protagonist_msa_id NUMERIC,antagonist_msa_id NUMERIC,event STRING\"\n",
    "follow_schemaId = addSchema(follow_schema, wait_for_inclusion=True, wait_for_finalization=False)\n",
    "\n",
    "link_schema = \"account_type STRING,account_value STRING,event STRING\"\n",
    "link_schemaId = addSchema(link_schema, wait_for_inclusion=True, wait_for_finalization=False)"
   ]
  },
  {
   "cell_type": "code",
   "execution_count": 58,
   "id": "ce95683e",
   "metadata": {},
   "outputs": [
    {
     "data": {
      "text/plain": [
       "[7, 8, 3, 4, 5, 10]"
      ]
     },
     "execution_count": 58,
     "metadata": {},
     "output_type": "execute_result"
    }
   ],
   "source": [
    "[post_schemaId, comment_schemaId, vote_schemaId, user_schemaId, follow_schemaId, link_schemaId]"
   ]
  },
  {
   "cell_type": "markdown",
   "id": "7d979bcb",
   "metadata": {},
   "source": [
    "# Mint accounts "
   ]
  },
  {
   "cell_type": "code",
   "execution_count": 62,
   "id": "73af93ae",
   "metadata": {
    "scrolled": true
   },
   "outputs": [],
   "source": [
    "msa_keys = {}\n",
    "for account in ['Alice', 'Charlie', 'Dave', 'Eve', 'Ferdie']:\n",
    "    wallet = Keypair.create_from_uri(f'//{account}password')\n",
    "    user_msa_id = create_msa_with_delegator(bob, wallet)\n",
    "    receipt_user = mint_user(user_msa_id, account, \"password\", \"profile_pic\", wallet)\n",
    "    msa_keys[account] = user_msa_id"
   ]
  },
  {
   "cell_type": "code",
   "execution_count": 63,
   "id": "d1e47bf8",
   "metadata": {},
   "outputs": [
    {
     "data": {
      "text/plain": [
       "{'Alice': 693, 'Charlie': 382, 'Dave': 694, 'Eve': 695, 'Ferdie': 696}"
      ]
     },
     "execution_count": 63,
     "metadata": {},
     "output_type": "execute_result"
    }
   ],
   "source": [
    "msa_keys"
   ]
  },
  {
   "cell_type": "markdown",
   "id": "17943ed7",
   "metadata": {},
   "source": [
    "# Have accounts follow each other"
   ]
  },
  {
   "cell_type": "code",
   "execution_count": 64,
   "id": "0e81330b",
   "metadata": {
    "scrolled": true
   },
   "outputs": [
    {
     "name": "stdout",
     "output_type": "stream",
     "text": [
      "Alice Charlie\n",
      "Alice Dave\n",
      "Alice Eve\n",
      "Alice Ferdie\n",
      "Charlie Alice\n",
      "Charlie Dave\n",
      "Charlie Eve\n",
      "Charlie Ferdie\n",
      "Dave Alice\n",
      "Dave Charlie\n",
      "Dave Eve\n",
      "Dave Ferdie\n",
      "Eve Alice\n",
      "Eve Charlie\n",
      "Eve Dave\n",
      "Eve Ferdie\n",
      "Ferdie Alice\n",
      "Ferdie Charlie\n",
      "Ferdie Dave\n",
      "Ferdie Eve\n"
     ]
    }
   ],
   "source": [
    "for name1, k1 in msa_keys.items():\n",
    "    for name2, k2 in msa_keys.items():\n",
    "        if k1 != k2:\n",
    "            print(name1, name2)\n",
    "            receipt = follow_user(k1, k2, True, wait_for_inclusion=False, wait_for_finalization=False)"
   ]
  },
  {
   "cell_type": "code",
   "execution_count": 65,
   "id": "754e8fd0",
   "metadata": {
    "scrolled": true
   },
   "outputs": [],
   "source": [
    "receipt = follow_user(msa_keys['Dave'], msa_keys['Eve'], False, wait_for_inclusion=False, wait_for_finalization=False)\n",
    "receipt = follow_user(msa_keys['Eve'], msa_keys['Dave'], False, wait_for_inclusion=False, wait_for_finalization=False)\n",
    "receipt = follow_user(msa_keys['Dave'], msa_keys['Eve'], True, wait_for_inclusion=False, wait_for_finalization=False)"
   ]
  },
  {
   "cell_type": "markdown",
   "id": "fa6e1713",
   "metadata": {},
   "source": [
    "# Test post"
   ]
  },
  {
   "cell_type": "code",
   "execution_count": 31,
   "id": "ad265ade",
   "metadata": {
    "scrolled": true
   },
   "outputs": [
    {
     "name": "stderr",
     "output_type": "stream",
     "text": [
      "  % Total    % Received % Xferd  Average Speed   Time    Time     Time  Current\n",
      "                                 Dload  Upload   Total   Spent    Left  Speed\n",
      "  0     0    0     0    0     0      0      0 --:--:--  0:02:09 --:--:--     0\n",
      "curl: (28) Failed to connect to 67.160.97.38 port 5000: Connection timed out\n"
     ]
    },
    {
     "ename": "CalledProcessError",
     "evalue": "Command 'b'curl -X \\'POST\\' \\\\\\n  \\'http://67.160.97.38:5000/submit/post\\' \\\\\\n  -H \\'accept: application/json\\' \\\\\\n  -H \\'Content-Type: application/json\\' \\\\\\n  -d \\'{\\n  \"category\": \"string\",\\n  \"title\": \"string\",\\n  \"body\": \"string\",\\n  \"url\": \"http://www.google.com\",\\n  \"is_nsfw\": true\\n}\\'\\n'' returned non-zero exit status 28.",
     "output_type": "error",
     "traceback": [
      "\u001b[0;31m---------------------------------------------------------------------------\u001b[0m",
      "\u001b[0;31mCalledProcessError\u001b[0m                        Traceback (most recent call last)",
      "Input \u001b[0;32mIn [31]\u001b[0m, in \u001b[0;36m<cell line: 1>\u001b[0;34m()\u001b[0m\n\u001b[0;32m----> 1\u001b[0m \u001b[43mget_ipython\u001b[49m\u001b[43m(\u001b[49m\u001b[43m)\u001b[49m\u001b[38;5;241;43m.\u001b[39;49m\u001b[43mrun_cell_magic\u001b[49m\u001b[43m(\u001b[49m\u001b[38;5;124;43m'\u001b[39;49m\u001b[38;5;124;43mbash\u001b[39;49m\u001b[38;5;124;43m'\u001b[39;49m\u001b[43m,\u001b[49m\u001b[43m \u001b[49m\u001b[38;5;124;43m'\u001b[39;49m\u001b[38;5;124;43m'\u001b[39;49m\u001b[43m,\u001b[49m\u001b[43m \u001b[49m\u001b[38;5;124;43m'\u001b[39;49m\u001b[38;5;124;43mcurl -X \u001b[39;49m\u001b[38;5;130;43;01m\\'\u001b[39;49;00m\u001b[38;5;124;43mPOST\u001b[39;49m\u001b[38;5;130;43;01m\\'\u001b[39;49;00m\u001b[38;5;124;43m \u001b[39;49m\u001b[38;5;130;43;01m\\\\\u001b[39;49;00m\u001b[38;5;130;43;01m\\n\u001b[39;49;00m\u001b[38;5;124;43m  \u001b[39;49m\u001b[38;5;130;43;01m\\'\u001b[39;49;00m\u001b[38;5;124;43mhttp://67.160.97.38:5000/submit/post\u001b[39;49m\u001b[38;5;130;43;01m\\'\u001b[39;49;00m\u001b[38;5;124;43m \u001b[39;49m\u001b[38;5;130;43;01m\\\\\u001b[39;49;00m\u001b[38;5;130;43;01m\\n\u001b[39;49;00m\u001b[38;5;124;43m  -H \u001b[39;49m\u001b[38;5;130;43;01m\\'\u001b[39;49;00m\u001b[38;5;124;43maccept: application/json\u001b[39;49m\u001b[38;5;130;43;01m\\'\u001b[39;49;00m\u001b[38;5;124;43m \u001b[39;49m\u001b[38;5;130;43;01m\\\\\u001b[39;49;00m\u001b[38;5;130;43;01m\\n\u001b[39;49;00m\u001b[38;5;124;43m  -H \u001b[39;49m\u001b[38;5;130;43;01m\\'\u001b[39;49;00m\u001b[38;5;124;43mContent-Type: application/json\u001b[39;49m\u001b[38;5;130;43;01m\\'\u001b[39;49;00m\u001b[38;5;124;43m \u001b[39;49m\u001b[38;5;130;43;01m\\\\\u001b[39;49;00m\u001b[38;5;130;43;01m\\n\u001b[39;49;00m\u001b[38;5;124;43m  -d \u001b[39;49m\u001b[38;5;130;43;01m\\'\u001b[39;49;00m\u001b[38;5;124;43m{\u001b[39;49m\u001b[38;5;130;43;01m\\n\u001b[39;49;00m\u001b[38;5;124;43m  \u001b[39;49m\u001b[38;5;124;43m\"\u001b[39;49m\u001b[38;5;124;43mcategory\u001b[39;49m\u001b[38;5;124;43m\"\u001b[39;49m\u001b[38;5;124;43m: \u001b[39;49m\u001b[38;5;124;43m\"\u001b[39;49m\u001b[38;5;124;43mstring\u001b[39;49m\u001b[38;5;124;43m\"\u001b[39;49m\u001b[38;5;124;43m,\u001b[39;49m\u001b[38;5;130;43;01m\\n\u001b[39;49;00m\u001b[38;5;124;43m  \u001b[39;49m\u001b[38;5;124;43m\"\u001b[39;49m\u001b[38;5;124;43mtitle\u001b[39;49m\u001b[38;5;124;43m\"\u001b[39;49m\u001b[38;5;124;43m: \u001b[39;49m\u001b[38;5;124;43m\"\u001b[39;49m\u001b[38;5;124;43mstring\u001b[39;49m\u001b[38;5;124;43m\"\u001b[39;49m\u001b[38;5;124;43m,\u001b[39;49m\u001b[38;5;130;43;01m\\n\u001b[39;49;00m\u001b[38;5;124;43m  \u001b[39;49m\u001b[38;5;124;43m\"\u001b[39;49m\u001b[38;5;124;43mbody\u001b[39;49m\u001b[38;5;124;43m\"\u001b[39;49m\u001b[38;5;124;43m: \u001b[39;49m\u001b[38;5;124;43m\"\u001b[39;49m\u001b[38;5;124;43mstring\u001b[39;49m\u001b[38;5;124;43m\"\u001b[39;49m\u001b[38;5;124;43m,\u001b[39;49m\u001b[38;5;130;43;01m\\n\u001b[39;49;00m\u001b[38;5;124;43m  \u001b[39;49m\u001b[38;5;124;43m\"\u001b[39;49m\u001b[38;5;124;43murl\u001b[39;49m\u001b[38;5;124;43m\"\u001b[39;49m\u001b[38;5;124;43m: \u001b[39;49m\u001b[38;5;124;43m\"\u001b[39;49m\u001b[38;5;124;43mhttp://www.google.com\u001b[39;49m\u001b[38;5;124;43m\"\u001b[39;49m\u001b[38;5;124;43m,\u001b[39;49m\u001b[38;5;130;43;01m\\n\u001b[39;49;00m\u001b[38;5;124;43m  \u001b[39;49m\u001b[38;5;124;43m\"\u001b[39;49m\u001b[38;5;124;43mis_nsfw\u001b[39;49m\u001b[38;5;124;43m\"\u001b[39;49m\u001b[38;5;124;43m: true\u001b[39;49m\u001b[38;5;130;43;01m\\n\u001b[39;49;00m\u001b[38;5;124;43m}\u001b[39;49m\u001b[38;5;130;43;01m\\'\u001b[39;49;00m\u001b[38;5;130;43;01m\\n\u001b[39;49;00m\u001b[38;5;124;43m'\u001b[39;49m\u001b[43m)\u001b[49m\n",
      "File \u001b[0;32m~/miniconda3/lib/python3.8/site-packages/IPython/core/interactiveshell.py:2358\u001b[0m, in \u001b[0;36mInteractiveShell.run_cell_magic\u001b[0;34m(self, magic_name, line, cell)\u001b[0m\n\u001b[1;32m   2356\u001b[0m \u001b[38;5;28;01mwith\u001b[39;00m \u001b[38;5;28mself\u001b[39m\u001b[38;5;241m.\u001b[39mbuiltin_trap:\n\u001b[1;32m   2357\u001b[0m     args \u001b[38;5;241m=\u001b[39m (magic_arg_s, cell)\n\u001b[0;32m-> 2358\u001b[0m     result \u001b[38;5;241m=\u001b[39m \u001b[43mfn\u001b[49m\u001b[43m(\u001b[49m\u001b[38;5;241;43m*\u001b[39;49m\u001b[43margs\u001b[49m\u001b[43m,\u001b[49m\u001b[43m \u001b[49m\u001b[38;5;241;43m*\u001b[39;49m\u001b[38;5;241;43m*\u001b[39;49m\u001b[43mkwargs\u001b[49m\u001b[43m)\u001b[49m\n\u001b[1;32m   2359\u001b[0m \u001b[38;5;28;01mreturn\u001b[39;00m result\n",
      "File \u001b[0;32m~/miniconda3/lib/python3.8/site-packages/IPython/core/magics/script.py:153\u001b[0m, in \u001b[0;36mScriptMagics._make_script_magic.<locals>.named_script_magic\u001b[0;34m(line, cell)\u001b[0m\n\u001b[1;32m    151\u001b[0m \u001b[38;5;28;01melse\u001b[39;00m:\n\u001b[1;32m    152\u001b[0m     line \u001b[38;5;241m=\u001b[39m script\n\u001b[0;32m--> 153\u001b[0m \u001b[38;5;28;01mreturn\u001b[39;00m \u001b[38;5;28;43mself\u001b[39;49m\u001b[38;5;241;43m.\u001b[39;49m\u001b[43mshebang\u001b[49m\u001b[43m(\u001b[49m\u001b[43mline\u001b[49m\u001b[43m,\u001b[49m\u001b[43m \u001b[49m\u001b[43mcell\u001b[49m\u001b[43m)\u001b[49m\n",
      "File \u001b[0;32m~/miniconda3/lib/python3.8/site-packages/IPython/core/magics/script.py:305\u001b[0m, in \u001b[0;36mScriptMagics.shebang\u001b[0;34m(self, line, cell)\u001b[0m\n\u001b[1;32m    300\u001b[0m \u001b[38;5;28;01mif\u001b[39;00m args\u001b[38;5;241m.\u001b[39mraise_error \u001b[38;5;129;01mand\u001b[39;00m p\u001b[38;5;241m.\u001b[39mreturncode \u001b[38;5;241m!=\u001b[39m \u001b[38;5;241m0\u001b[39m:\n\u001b[1;32m    301\u001b[0m     \u001b[38;5;66;03m# If we get here and p.returncode is still None, we must have\u001b[39;00m\n\u001b[1;32m    302\u001b[0m     \u001b[38;5;66;03m# killed it but not yet seen its return code. We don't wait for it,\u001b[39;00m\n\u001b[1;32m    303\u001b[0m     \u001b[38;5;66;03m# in case it's stuck in uninterruptible sleep. -9 = SIGKILL\u001b[39;00m\n\u001b[1;32m    304\u001b[0m     rc \u001b[38;5;241m=\u001b[39m p\u001b[38;5;241m.\u001b[39mreturncode \u001b[38;5;129;01mor\u001b[39;00m \u001b[38;5;241m-\u001b[39m\u001b[38;5;241m9\u001b[39m\n\u001b[0;32m--> 305\u001b[0m     \u001b[38;5;28;01mraise\u001b[39;00m CalledProcessError(rc, cell)\n",
      "\u001b[0;31mCalledProcessError\u001b[0m: Command 'b'curl -X \\'POST\\' \\\\\\n  \\'http://67.160.97.38:5000/submit/post\\' \\\\\\n  -H \\'accept: application/json\\' \\\\\\n  -H \\'Content-Type: application/json\\' \\\\\\n  -d \\'{\\n  \"category\": \"string\",\\n  \"title\": \"string\",\\n  \"body\": \"string\",\\n  \"url\": \"http://www.google.com\",\\n  \"is_nsfw\": true\\n}\\'\\n'' returned non-zero exit status 28."
     ]
    }
   ],
   "source": [
    "%%bash\n",
    "curl -X 'POST' \\\n",
    "  'http://67.160.97.38:5000/submit/post' \\\n",
    "  -H 'accept: application/json' \\\n",
    "  -H 'Content-Type: application/json' \\\n",
    "  -d '{\n",
    "  \"category\": \"string\",\n",
    "  \"title\": \"string\",\n",
    "  \"body\": \"string\",\n",
    "  \"url\": \"http://www.google.com\",\n",
    "  \"is_nsfw\": true\n",
    "}'"
   ]
  },
  {
   "cell_type": "code",
   "execution_count": null,
   "id": "dbcf25d3",
   "metadata": {},
   "outputs": [],
   "source": []
  }
 ],
 "metadata": {
  "kernelspec": {
   "display_name": "Python 3 (ipykernel)",
   "language": "python",
   "name": "python3"
  },
  "language_info": {
   "codemirror_mode": {
    "name": "ipython",
    "version": 3
   },
   "file_extension": ".py",
   "mimetype": "text/x-python",
   "name": "python",
   "nbconvert_exporter": "python",
   "pygments_lexer": "ipython3",
   "version": "3.8.5"
  },
  "vscode": {
   "interpreter": {
    "hash": "f90a51316803318f0b952c570a4fe32d53aa73ff3300e1da5777ab9e91b8249c"
   }
  }
 },
 "nbformat": 4,
 "nbformat_minor": 5
}
