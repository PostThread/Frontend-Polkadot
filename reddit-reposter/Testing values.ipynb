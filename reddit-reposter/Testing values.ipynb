{
 "cells": [
  {
   "cell_type": "code",
   "execution_count": 1,
   "id": "6f6314c3",
   "metadata": {},
   "outputs": [],
   "source": [
    "%load_ext autoreload\n",
    "%autoreload 2"
   ]
  },
  {
   "cell_type": "code",
   "execution_count": 17,
   "id": "9f865ce4",
   "metadata": {},
   "outputs": [],
   "source": [
    "import json\n",
    "import substrateinterface\n",
    "from substrateinterface import SubstrateInterface, Keypair\n",
    "from substrateinterface.exceptions import SubstrateRequestException\n",
    "from substrate_helpers import set_substrate, set_delegate, make_call, addSchema, get_msa_id, \\\n",
    "            get_signature, create_msa_with_delegator, mint_votes, mint_user, get_schemas_from_pattern, \\\n",
    "            get_content_from_schemas, get_user, follow_user, add_delegate"
   ]
  },
  {
   "cell_type": "code",
   "execution_count": 86,
   "id": "5cc0951b",
   "metadata": {},
   "outputs": [],
   "source": [
    "bob = Keypair.create_from_uri('//Bob')\n",
    "bob_msa_id = get_msa_id(bob)\n",
    "substrate = SubstrateInterface(\n",
    "    url=\"ws://127.0.0.1:11946\",\n",
    "    ss58_format=42,\n",
    "    type_registry_preset='kusama'\n",
    ")\n",
    "set_substrate(substrate)\n",
    "set_delegate(bob)"
   ]
  },
  {
   "cell_type": "markdown",
   "id": "7d979bcb",
   "metadata": {},
   "source": [
    "# Mint accounts "
   ]
  },
  {
   "cell_type": "code",
   "execution_count": 87,
   "id": "73af93ae",
   "metadata": {
    "scrolled": true
   },
   "outputs": [
    {
     "name": "stdout",
     "output_type": "stream",
     "text": [
      "Extrinsic '0xdc06ea713f059dbd3c4da416528da72b5cf75cd6bdbbe7b5984b86d6ddcb5c07' sent and included in block 'None'\n",
      "Extrinsic '0x1e65bb38b89af9e53eef1f7c8b94579d22fc3b684ea50afc3c1e4f1c804a6ec5' sent and included in block 'None'\n",
      "Extrinsic '0x1e62773cc89c214114b505aab1fededa9c0cd62d781b1fe006cf98571f0a32be' sent and included in block 'None'\n",
      "Extrinsic '0xf96de1a0a99e457faf292ae9405879373a2723a9d901890bef7a7d9059941532' sent and included in block 'None'\n",
      "Extrinsic '0x8d317937ce38effe4dca048c2d9d6964f8c6ea6df3355631c59865794397da9a' sent and included in block 'None'\n"
     ]
    }
   ],
   "source": [
    "msa_keys = {}\n",
    "for account in ['Alice', 'Charlie', 'Dave', 'Eve', 'Ferdie']:\n",
    "    wallet = Keypair.create_from_uri(f'//{account}')\n",
    "    user_msa_id, receipt_user = mint_user(account, \"password\", \"profile_pic\", wallet)\n",
    "    msa_keys[account] = user_msa_id"
   ]
  },
  {
   "cell_type": "code",
   "execution_count": 88,
   "id": "d1e47bf8",
   "metadata": {},
   "outputs": [
    {
     "data": {
      "text/plain": [
       "[1335, 1337, 1339, 1341, 1343]"
      ]
     },
     "execution_count": 88,
     "metadata": {},
     "output_type": "execute_result"
    }
   ],
   "source": [
    "msa_keys"
   ]
  },
  {
   "cell_type": "markdown",
   "id": "17943ed7",
   "metadata": {},
   "source": [
    "# Have accounts follow each other"
   ]
  },
  {
   "cell_type": "code",
   "execution_count": 81,
   "id": "0e81330b",
   "metadata": {
    "scrolled": true
   },
   "outputs": [
    {
     "name": "stdout",
     "output_type": "stream",
     "text": [
      "1335 1337\n",
      "Extrinsic '0xd1b1edd4e8178c01c15d94d3cde34faa6450ef176435ce7ed84c5c23ad3da126' sent and included in block 'None'\n",
      "1335 1339\n",
      "Extrinsic '0xeecedfdf6d1d49c704f1d4d929207c1a3e80fdce41a51cbc9b31f1a1e3bcdc54' sent and included in block 'None'\n",
      "1335 1341\n",
      "Extrinsic '0xcbaecd066b0d103a3f95e4373a8ba4211e382ea60cbe206804d9c255daf24935' sent and included in block 'None'\n",
      "1335 1343\n",
      "Extrinsic '0x0a61dd388d6b70787fd2a28d3f54e7da25c22ae8f155e5eed71b96db5ba6ed99' sent and included in block 'None'\n",
      "1335 1343\n",
      "Extrinsic '0xe745de27cf9297c8fd444d71fee050f6661630708dc70c1d4d8613df49a32079' sent and included in block 'None'\n",
      "1335 1343\n",
      "Extrinsic '0x9bc68955070f5843e5afd256e108722994cf51af959af49ac508055b1c3e1a5b' sent and included in block 'None'\n",
      "1337 1335\n",
      "Extrinsic '0xe74c30c948bd0cd12a4882a32402e081652ba3218ed83ebea2832c7d5f6fa675' sent and included in block 'None'\n",
      "1337 1339\n",
      "Extrinsic '0x87ade1a8c9dcd70ad64d5a68347f3790c09cd861438e9544764c0e04f2553fe0' sent and included in block 'None'\n",
      "1337 1341\n",
      "Extrinsic '0xe216b287fa1e1ace4767529c7526100e6b79462be814c5196576fd619b76f554' sent and included in block 'None'\n",
      "1337 1343\n",
      "Extrinsic '0xf4c98a1bc72bd864d3e7af47f2db1224e32ad7d61b992c88875dd26c52b835cc' sent and included in block 'None'\n",
      "1337 1343\n",
      "Extrinsic '0xeb8193f7d7cfab82ea0440bbf6890d64aef914392cb04fc77231408c2a69e426' sent and included in block 'None'\n",
      "1337 1343\n",
      "Extrinsic '0x51c2a95dfe10ed67bcad6c54e1cb05502eebac9ffb7b5787ab9be0f8b07fa53a' sent and included in block 'None'\n",
      "1339 1335\n",
      "Extrinsic '0x495da5ed5923a89859d76d1d02c1036ad848fe2074b6a2cf0e19c53880015894' sent and included in block 'None'\n",
      "1339 1337\n",
      "Extrinsic '0x3d09e6a0b6e09427fc8298ee35b6a384ea82c95d25291c51e7835de6da573939' sent and included in block 'None'\n",
      "1339 1341\n",
      "Extrinsic '0xa12d17205ea2ff33ea0695973848d494bf0feeb7cabd22b64e23757e92c2e826' sent and included in block 'None'\n",
      "1339 1343\n",
      "Extrinsic '0xada2e68f58289fb9bf941ced05282238f171193c427b0e0ed5b5d3ff06785cde' sent and included in block 'None'\n",
      "1339 1343\n",
      "Extrinsic '0xd1d5747642d88f8609a78c3349ff484061061698499b99a88303b6b414ae93fe' sent and included in block 'None'\n",
      "1339 1343\n",
      "Extrinsic '0xb23efef6858d41251c02234323d8539e04a5aab2e6e9f2c3d54e325c5d237feb' sent and included in block 'None'\n",
      "1341 1335\n",
      "Extrinsic '0x88b586f3416bccb964c94e71d1c0784970f715df4a8f49909465482fe63e4735' sent and included in block 'None'\n",
      "1341 1337\n",
      "Extrinsic '0x0bbda34ab3ed9462273ee4ab39933118c34c206e0b2cbce7919fdcbef7d3089c' sent and included in block 'None'\n",
      "1341 1339\n",
      "Extrinsic '0x002269705de3b13d662cf998bc6d161d6a999a5c59c942f35a60a3de59964dd8' sent and included in block 'None'\n",
      "1341 1343\n",
      "Extrinsic '0xccf36bf4016789f65a6725fada00a6713c5ac7c3b6bdf91ccfa7d88efc45585a' sent and included in block 'None'\n",
      "1341 1343\n",
      "Extrinsic '0xf70433442bdcfb04bbc08ff59ab681773705a8fe08ed0d600ba5b0e800ec455f' sent and included in block 'None'\n",
      "1341 1343\n",
      "Extrinsic '0x10678969273518abc2961aa7e3c7d4c108b1ae04b76636dcc0bfa8571cb1ea94' sent and included in block 'None'\n",
      "1343 1335\n",
      "Extrinsic '0xdd0a113a89b80d3ac44825955e0ad47539daa46f13ba977857b35aaed3f60d24' sent and included in block 'None'\n",
      "1343 1337\n",
      "Extrinsic '0xa907936102d6687a05dd6ded942762ac4324be08ff873face1570d42ffd3a309' sent and included in block 'None'\n",
      "1343 1339\n",
      "Extrinsic '0x37a6f71059f95acd3dfb8a09755be03d9fcfe7fa6c17533196d2e01a0343e0bd' sent and included in block 'None'\n",
      "1343 1341\n",
      "Extrinsic '0xf65277ab7eca0a20389651bbbb156d06b77f86192206e64c02b6a715506ccd17' sent and included in block 'None'\n",
      "1343 1335\n",
      "Extrinsic '0x35d5c763aa0384e0a06b373e1f4c31c0b2c66d0b65c2dec19d4296110146169f' sent and included in block 'None'\n",
      "1343 1337\n",
      "Extrinsic '0x9363da44708dd11b82e16e91210db16ae07edc3fe6c65cc678af1c14fe00d31b' sent and included in block 'None'\n",
      "1343 1339\n",
      "Extrinsic '0x7c73cb4043493d506112377f3e506d8b4a21e942d63c12ef4aa67a6c6a366deb' sent and included in block 'None'\n",
      "1343 1341\n",
      "Extrinsic '0x34d2781076adb04dcef6d7dc35974ef27bff3ceacba1b5eb0e32df715072684d' sent and included in block 'None'\n",
      "1343 1335\n",
      "Extrinsic '0x53bb0f1ca8c4dd85010737536fc9d22236c0c8a3e8b7de9c9179943f4ac9cdb9' sent and included in block 'None'\n",
      "1343 1337\n",
      "Extrinsic '0xae78a50e246be2646f8a51b819bb2cbc6c7273bdebd67be1e7f4f3b3219c14cc' sent and included in block 'None'\n",
      "1343 1339\n",
      "Extrinsic '0xe2614e8570fdf9eba89adea156eb756d2592a0a500ec362a27f523db0dba0c70' sent and included in block 'None'\n",
      "1343 1341\n",
      "Extrinsic '0x3d3c84f4d78e8796628f5c714c5cf490a4d3c08c5e71186826af1c2b4c3f55fd' sent and included in block 'None'\n"
     ]
    }
   ],
   "source": [
    "for k1 in msa_keys:\n",
    "    for k2 in msa_keys:\n",
    "        if k1 != k2:\n",
    "            print(k1, k2)\n",
    "            receipt = follow_user(k1, k2, True, wait_for_inclusion=False, wait_for_finalization=False)"
   ]
  },
  {
   "cell_type": "code",
   "execution_count": 90,
   "id": "754e8fd0",
   "metadata": {
    "scrolled": true
   },
   "outputs": [
    {
     "ename": "AttributeError",
     "evalue": "'NoneType' object has no attribute 'compose_call'",
     "output_type": "error",
     "traceback": [
      "\u001b[0;31m---------------------------------------------------------------------------\u001b[0m",
      "\u001b[0;31mAttributeError\u001b[0m                            Traceback (most recent call last)",
      "Input \u001b[0;32mIn [90]\u001b[0m, in \u001b[0;36m<cell line: 1>\u001b[0;34m()\u001b[0m\n\u001b[0;32m----> 1\u001b[0m receipt \u001b[38;5;241m=\u001b[39m \u001b[43mfollow_user\u001b[49m\u001b[43m(\u001b[49m\u001b[43mmsa_keys\u001b[49m\u001b[43m[\u001b[49m\u001b[38;5;241;43m2\u001b[39;49m\u001b[43m]\u001b[49m\u001b[43m,\u001b[49m\u001b[43m \u001b[49m\u001b[43mmsa_keys\u001b[49m\u001b[43m[\u001b[49m\u001b[38;5;241;43m3\u001b[39;49m\u001b[43m]\u001b[49m\u001b[43m,\u001b[49m\u001b[43m \u001b[49m\u001b[38;5;28;43;01mFalse\u001b[39;49;00m\u001b[43m,\u001b[49m\u001b[43m \u001b[49m\u001b[43mwait_for_inclusion\u001b[49m\u001b[38;5;241;43m=\u001b[39;49m\u001b[38;5;28;43;01mFalse\u001b[39;49;00m\u001b[43m,\u001b[49m\u001b[43m \u001b[49m\u001b[43mwait_for_finalization\u001b[49m\u001b[38;5;241;43m=\u001b[39;49m\u001b[38;5;28;43;01mFalse\u001b[39;49;00m\u001b[43m)\u001b[49m\n\u001b[1;32m      2\u001b[0m receipt \u001b[38;5;241m=\u001b[39m follow_user(msa_keys[\u001b[38;5;241m2\u001b[39m], msa_keys[\u001b[38;5;241m3\u001b[39m], \u001b[38;5;28;01mFalse\u001b[39;00m, wait_for_inclusion\u001b[38;5;241m=\u001b[39m\u001b[38;5;28;01mFalse\u001b[39;00m, wait_for_finalization\u001b[38;5;241m=\u001b[39m\u001b[38;5;28;01mFalse\u001b[39;00m)\n\u001b[1;32m      3\u001b[0m receipt \u001b[38;5;241m=\u001b[39m follow_user(msa_keys[\u001b[38;5;241m2\u001b[39m], msa_keys[\u001b[38;5;241m3\u001b[39m], \u001b[38;5;28;01mFalse\u001b[39;00m, wait_for_inclusion\u001b[38;5;241m=\u001b[39m\u001b[38;5;28;01mFalse\u001b[39;00m, wait_for_finalization\u001b[38;5;241m=\u001b[39m\u001b[38;5;28;01mFalse\u001b[39;00m)\n",
      "File \u001b[0;32m~/polkadot_projects/PostThread-Polkadot/reddit-reposter/substrate_helpers.py:280\u001b[0m, in \u001b[0;36mfollow_user\u001b[0;34m(protagonist_msa_id, antagonist_msa_id, is_follow, wait_for_inclusion, wait_for_finalization)\u001b[0m\n\u001b[1;32m    272\u001b[0m message \u001b[38;5;241m=\u001b[39m \u001b[38;5;124m'\u001b[39m\u001b[38;5;124m{\u001b[39m\u001b[38;5;124m'\u001b[39m \u001b[38;5;241m+\u001b[39m \u001b[38;5;124mf\u001b[39m\u001b[38;5;124m'\u001b[39m\u001b[38;5;124m\"\u001b[39m\u001b[38;5;124mprotagonist_msa_id\u001b[39m\u001b[38;5;124m\"\u001b[39m\u001b[38;5;124m: \u001b[39m\u001b[38;5;132;01m{\u001b[39;00mprotagonist_msa_id\u001b[38;5;132;01m}\u001b[39;00m\u001b[38;5;124m,\u001b[39m\u001b[38;5;124m\"\u001b[39m\u001b[38;5;124mantagonist_msa_id\u001b[39m\u001b[38;5;124m\"\u001b[39m\u001b[38;5;124m: \u001b[39m\u001b[38;5;124m\"\u001b[39m\u001b[38;5;132;01m{\u001b[39;00mantagonist_msa_id\u001b[38;5;132;01m}\u001b[39;00m\u001b[38;5;124m\"\u001b[39m\u001b[38;5;124m,\u001b[39m\u001b[38;5;124m\"\u001b[39m\u001b[38;5;124mevent\u001b[39m\u001b[38;5;124m\"\u001b[39m\u001b[38;5;124m: \u001b[39m\u001b[38;5;124m\"\u001b[39m\u001b[38;5;132;01m{\u001b[39;00mfollow\u001b[38;5;132;01m}\u001b[39;00m\u001b[38;5;124m\"\u001b[39m\u001b[38;5;124m'\u001b[39m \u001b[38;5;241m+\u001b[39m \u001b[38;5;124m'\u001b[39m\u001b[38;5;124m}\u001b[39m\u001b[38;5;124m'\u001b[39m\n\u001b[1;32m    274\u001b[0m call_params \u001b[38;5;241m=\u001b[39m {\n\u001b[1;32m    275\u001b[0m     \u001b[38;5;124m\"\u001b[39m\u001b[38;5;124mon_behalf_of\u001b[39m\u001b[38;5;124m\"\u001b[39m: protagonist_msa_id,\n\u001b[1;32m    276\u001b[0m     \u001b[38;5;124m\"\u001b[39m\u001b[38;5;124mschema_id\u001b[39m\u001b[38;5;124m\"\u001b[39m: follow_schemaId,\n\u001b[1;32m    277\u001b[0m     \u001b[38;5;124m\"\u001b[39m\u001b[38;5;124mmessage\u001b[39m\u001b[38;5;124m\"\u001b[39m: message,\n\u001b[1;32m    278\u001b[0m     \u001b[38;5;124m\"\u001b[39m\u001b[38;5;124mpayload\u001b[39m\u001b[38;5;124m\"\u001b[39m: message\n\u001b[1;32m    279\u001b[0m }\n\u001b[0;32m--> 280\u001b[0m receipt_follow \u001b[38;5;241m=\u001b[39m \u001b[43mmake_call\u001b[49m\u001b[43m(\u001b[49m\u001b[38;5;124;43m\"\u001b[39;49m\u001b[38;5;124;43mMessages\u001b[39;49m\u001b[38;5;124;43m\"\u001b[39;49m\u001b[43m,\u001b[49m\u001b[43m \u001b[49m\u001b[38;5;124;43m\"\u001b[39;49m\u001b[38;5;124;43madd\u001b[39;49m\u001b[38;5;124;43m\"\u001b[39;49m\u001b[43m,\u001b[49m\u001b[43m \u001b[49m\u001b[43mcall_params\u001b[49m\u001b[43m,\u001b[49m\u001b[43m \u001b[49m\u001b[43mdelegate\u001b[49m\u001b[43m,\u001b[49m\u001b[43m \u001b[49m\n\u001b[1;32m    281\u001b[0m \u001b[43m                                        \u001b[49m\u001b[43mwait_for_inclusion\u001b[49m\u001b[38;5;241;43m=\u001b[39;49m\u001b[43mwait_for_inclusion\u001b[49m\u001b[43m,\u001b[49m\u001b[43m \u001b[49m\u001b[43mwait_for_finalization\u001b[49m\u001b[38;5;241;43m=\u001b[39;49m\u001b[43mwait_for_finalization\u001b[49m\u001b[43m)\u001b[49m\n\u001b[1;32m    282\u001b[0m \u001b[38;5;28;01mreturn\u001b[39;00m receipt_follow\n",
      "File \u001b[0;32m~/polkadot_projects/PostThread-Polkadot/reddit-reposter/substrate_helpers.py:23\u001b[0m, in \u001b[0;36mmake_call\u001b[0;34m(call_module, call_function, call_params, keypair, wait_for_inclusion, wait_for_finalization)\u001b[0m\n\u001b[1;32m     22\u001b[0m \u001b[38;5;28;01mdef\u001b[39;00m \u001b[38;5;21mmake_call\u001b[39m(call_module, call_function, call_params, keypair, wait_for_inclusion\u001b[38;5;241m=\u001b[39m\u001b[38;5;28;01mTrue\u001b[39;00m, wait_for_finalization\u001b[38;5;241m=\u001b[39m\u001b[38;5;28;01mFalse\u001b[39;00m):\n\u001b[0;32m---> 23\u001b[0m     call \u001b[38;5;241m=\u001b[39m \u001b[43msubstrate\u001b[49m\u001b[38;5;241;43m.\u001b[39;49m\u001b[43mcompose_call\u001b[49m(\n\u001b[1;32m     24\u001b[0m         call_module\u001b[38;5;241m=\u001b[39mcall_module,  \n\u001b[1;32m     25\u001b[0m         call_function\u001b[38;5;241m=\u001b[39mcall_function,\n\u001b[1;32m     26\u001b[0m         call_params\u001b[38;5;241m=\u001b[39mcall_params\n\u001b[1;32m     27\u001b[0m     )\n\u001b[1;32m     29\u001b[0m     extrinsic \u001b[38;5;241m=\u001b[39m substrate\u001b[38;5;241m.\u001b[39mcreate_signed_extrinsic(call\u001b[38;5;241m=\u001b[39mcall, keypair\u001b[38;5;241m=\u001b[39mkeypair)\n\u001b[1;32m     31\u001b[0m     \u001b[38;5;28;01mtry\u001b[39;00m:\n",
      "\u001b[0;31mAttributeError\u001b[0m: 'NoneType' object has no attribute 'compose_call'"
     ]
    }
   ],
   "source": [
    "receipt = follow_user(msa_keys[2], msa_keys[3], False, wait_for_inclusion=False, wait_for_finalization=False)\n",
    "receipt = follow_user(msa_keys[3], msa_keys[2], False, wait_for_inclusion=False, wait_for_finalization=False)\n",
    "receipt = follow_user(msa_keys[3], msa_keys[2], True, wait_for_inclusion=False, wait_for_finalization=False)"
   ]
  },
  {
   "cell_type": "markdown",
   "id": "fa6e1713",
   "metadata": {},
   "source": [
    "# Test post"
   ]
  },
  {
   "cell_type": "code",
   "execution_count": null,
   "id": "ad265ade",
   "metadata": {},
   "outputs": [],
   "source": [
    "curl -X 'POST' \\\n",
    "  'http://67.160.97.38:5000/submit' \\\n",
    "  -H 'accept: application/json' \\\n",
    "  -H 'Content-Type: application/json' \\\n",
    "  -d '{\n",
    "  \"category\": \"string\",\n",
    "  \"username\": msa_keys.keys()[1],\n",
    "  \"profile_pic\": \"string\",\n",
    "  \"title\": \"string\",\n",
    "  \"body\": \"string\",\n",
    "  \"url\": \"http://www.google.com\",\n",
    "  \"is_nsfw\": true\n",
    "}'"
   ]
  },
  {
   "cell_type": "code",
   "execution_count": null,
   "id": "dbcf25d3",
   "metadata": {},
   "outputs": [],
   "source": []
  }
 ],
 "metadata": {
  "kernelspec": {
   "display_name": "Python 3 (ipykernel)",
   "language": "python",
   "name": "python3"
  },
  "language_info": {
   "codemirror_mode": {
    "name": "ipython",
    "version": 3
   },
   "file_extension": ".py",
   "mimetype": "text/x-python",
   "name": "python",
   "nbconvert_exporter": "python",
   "pygments_lexer": "ipython3",
   "version": "3.8.5"
  },
  "vscode": {
   "interpreter": {
    "hash": "f90a51316803318f0b952c570a4fe32d53aa73ff3300e1da5777ab9e91b8249c"
   }
  }
 },
 "nbformat": 4,
 "nbformat_minor": 5
}
