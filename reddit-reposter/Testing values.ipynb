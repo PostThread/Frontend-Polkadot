{
 "cells": [
  {
   "cell_type": "code",
   "execution_count": 10,
   "id": "f429211c",
   "metadata": {},
   "outputs": [
    {
     "name": "stdout",
     "output_type": "stream",
     "text": [
      "\u001b[31mERROR\u001b[0m: The Compose file './docker-compose.yml' is invalid because:\n",
      "Unsupported config option for services.networks: 'backend'\n"
     ]
    }
   ],
   "source": [
    "!docker stop ipfs_host"
   ]
  },
  {
   "cell_type": "code",
   "execution_count": 11,
   "id": "0221dfe1",
   "metadata": {},
   "outputs": [
    {
     "name": "stdout",
     "output_type": "stream",
     "text": [
      "\u001b[31mERROR\u001b[0m: The Compose file './docker-compose.yml' is invalid because:\n",
      "Unsupported config option for services.networks: 'backend'\n"
     ]
    }
   ],
   "source": [
    "!docker rm ipf_host"
   ]
  },
  {
   "cell_type": "code",
   "execution_count": 12,
   "id": "c6b8e975",
   "metadata": {},
   "outputs": [
    {
     "name": "stdout",
     "output_type": "stream",
     "text": [
      "539f3618e5ff0b0a85e7d61b47c4aeeb89876547f596fe3bad72779d35980a25\n"
     ]
    }
   ],
   "source": [
    "!docker run -d --name ipfs_host2 -v $ipfs_staging:/export -v $ipfs_data:/data/ipfs -p 4001:4001 -p 4001:4001/udp -p 127.0.0.1:8080:8080 -p 127.0.0.1:5001:5001 ipfs/go-ipfs:latest"
   ]
  },
  {
   "cell_type": "code",
   "execution_count": 1,
   "id": "44fb498b",
   "metadata": {},
   "outputs": [],
   "source": [
    "!mkdir /tmp/posts\n",
    "!mkdir /tmp/comments"
   ]
  },
  {
   "cell_type": "code",
   "execution_count": 2,
   "id": "6f6314c3",
   "metadata": {},
   "outputs": [],
   "source": [
    "%load_ext autoreload\n",
    "%autoreload 2"
   ]
  },
  {
   "cell_type": "code",
   "execution_count": 3,
   "id": "9f865ce4",
   "metadata": {},
   "outputs": [
    {
     "name": "stderr",
     "output_type": "stream",
     "text": [
      "/home/chia/miniconda3/lib/python3.8/site-packages/ipfshttpclient/client/__init__.py:73: VersionMismatch: Unsupported daemon version '0.13.0' (not in range: 0.5.0 ≤ … < 0.9.0)\n",
      "  warnings.warn(exceptions.VersionMismatch(version, minimum, maximum))\n"
     ]
    }
   ],
   "source": [
    "import json\n",
    "import substrateinterface\n",
    "from substrateinterface import SubstrateInterface, Keypair\n",
    "from substrateinterface.exceptions import SubstrateRequestException\n",
    "from substrate_helpers import make_call, addSchema, get_msa_id, \\\n",
    "            get_signature, create_msa_with_delegator, mint_votes, mint_user, get_schemas_from_pattern, \\\n",
    "            get_content_from_schemas, get_user, follow_user, add_delegate"
   ]
  },
  {
   "cell_type": "code",
   "execution_count": 23,
   "id": "5cc0951b",
   "metadata": {
    "scrolled": true
   },
   "outputs": [],
   "source": [
    "bob = Keypair.create_from_uri('//Bob')\n",
    "substrate = SubstrateInterface(\n",
    "    url=\"ws://127.0.0.1:9944\",\n",
    "    ss58_format=42,\n",
    "    type_registry_preset='kusama'\n",
    ")"
   ]
  },
  {
   "cell_type": "code",
   "execution_count": 24,
   "id": "fda56af6",
   "metadata": {},
   "outputs": [],
   "source": [
    "bob_msa_id = get_msa_id(bob, create=True)"
   ]
  },
  {
   "cell_type": "code",
   "execution_count": 25,
   "id": "ee9d6b7f",
   "metadata": {},
   "outputs": [
    {
     "data": {
      "text/plain": [
       "1"
      ]
     },
     "execution_count": 25,
     "metadata": {},
     "output_type": "execute_result"
    }
   ],
   "source": [
    "bob_msa_id"
   ]
  },
  {
   "cell_type": "markdown",
   "id": "8ae0a517",
   "metadata": {},
   "source": [
    "# Make schemas"
   ]
  },
  {
   "cell_type": "code",
   "execution_count": 36,
   "id": "63fb5116",
   "metadata": {},
   "outputs": [],
   "source": [
    "post_schema = \"category STRING,title STRING,body STRING,url STRING,is_nsfw NUMERIC\"\n",
    "post_schemaId = addSchema(post_schema, wait_for_inclusion=True, wait_for_finalization=False)\n",
    "\n",
    "comment_schema = \"post_hash STRING,parent_hash STRING,depth NUMERIC,body STRING\"\n",
    "comment_schemaId = addSchema(comment_schema, wait_for_inclusion=True, wait_for_finalization=False)\n",
    "\n",
    "vote_schema = \"post_hash STRING,parent_hash STRING,parent_type STRING,num_votes NUMERIC\"\n",
    "vote_schemaId = addSchema(vote_schema, wait_for_inclusion=True, wait_for_finalization=False)\n",
    "\n",
    "user_schema = \"msa_id NUMERIC,username STRING,password STRING,profile_pic STRING,wallet_ss58_address STRING\"\n",
    "user_schemaId = addSchema(user_schema, wait_for_inclusion=True, wait_for_finalization=False)\n",
    "\n",
    "follow_schema = \"protagonist_msa_id NUMERIC,antagonist_msa_id NUMERIC,event STRING\"\n",
    "follow_schemaId = addSchema(follow_schema, wait_for_inclusion=True, wait_for_finalization=False)"
   ]
  },
  {
   "cell_type": "code",
   "execution_count": 37,
   "id": "53bb7bff",
   "metadata": {},
   "outputs": [
    {
     "data": {
      "text/plain": [
       "[7, 8, 3, 4, 5]"
      ]
     },
     "execution_count": 37,
     "metadata": {},
     "output_type": "execute_result"
    }
   ],
   "source": [
    "[post_schemaId, comment_schemaId, vote_schemaId, user_schemaId, follow_schemaId]"
   ]
  },
  {
   "cell_type": "markdown",
   "id": "7d979bcb",
   "metadata": {},
   "source": [
    "# Mint accounts "
   ]
  },
  {
   "cell_type": "code",
   "execution_count": 7,
   "id": "73af93ae",
   "metadata": {
    "scrolled": true
   },
   "outputs": [
    {
     "name": "stdout",
     "output_type": "stream",
     "text": [
      "Extrinsic '0x6f3487322b79a061e5c60f06c243eafa8812ff86db36a80818ac0fe5670e581b' sent and included in block 'None'\n",
      "Extrinsic '0xee09f22fc082a4f3591ddcebf91b77363f562c80a4ae4573aa3de8a0388a38b9' sent and included in block 'None'\n",
      "Extrinsic '0x7e09f84547fd0602720eca04409ead3fb1cc633a283098cc1d3ee3c7baadd52a' sent and included in block 'None'\n",
      "Extrinsic '0xf576f4a1cdf73706b95cfe6d74dff9dc5f3eb8f925e7fcee33cfcaad20eb44d3' sent and included in block 'None'\n",
      "Extrinsic '0x73c99a4f20a1d075ff77ffe2482abc61286e6b3b5eae4a0f80e43eaf76559003' sent and included in block 'None'\n"
     ]
    }
   ],
   "source": [
    "msa_keys = {}\n",
    "for account in ['Alice', 'Charlie', 'Dave', 'Eve', 'Ferdie']:\n",
    "    wallet = Keypair.create_from_uri(f'//{account}')\n",
    "    user_msa_id, receipt_user = mint_user(account, \"password\", \"profile_pic\", wallet)\n",
    "    msa_keys[account] = user_msa_id"
   ]
  },
  {
   "cell_type": "code",
   "execution_count": 8,
   "id": "d1e47bf8",
   "metadata": {},
   "outputs": [
    {
     "data": {
      "text/plain": [
       "{'Alice': 2, 'Charlie': 3, 'Dave': 4, 'Eve': 5, 'Ferdie': 6}"
      ]
     },
     "execution_count": 8,
     "metadata": {},
     "output_type": "execute_result"
    }
   ],
   "source": [
    "msa_keys"
   ]
  },
  {
   "cell_type": "markdown",
   "id": "17943ed7",
   "metadata": {},
   "source": [
    "# Have accounts follow each other"
   ]
  },
  {
   "cell_type": "code",
   "execution_count": 9,
   "id": "0e81330b",
   "metadata": {
    "scrolled": true
   },
   "outputs": [
    {
     "name": "stdout",
     "output_type": "stream",
     "text": [
      "Alice Charlie\n",
      "Extrinsic '0x5a88c7f192ce049e29a4f3beafbf90d6cdf7f5e4736b21cfb5339f04a67c2820' sent and included in block 'None'\n",
      "Alice Dave\n",
      "Extrinsic '0xb80df0a00e510873d891d7f5abfbc82f73eee6d4f9e1f7145fb9c0105cda5039' sent and included in block 'None'\n",
      "Alice Eve\n",
      "Extrinsic '0x1bcf43324fe04c2f3ce00f4c931b5655197dad1fedbd8a0b8977d2d05caae594' sent and included in block 'None'\n",
      "Alice Ferdie\n",
      "Extrinsic '0x4600325cdf93696755c9935eb8deb7ae40d08dcb61e52e0ec223dcc1d7ed33d9' sent and included in block 'None'\n",
      "Charlie Alice\n",
      "Extrinsic '0xceb0dfd6351a19baaaa81f341d4018d9a836c80b756e85b4d454615d004c7367' sent and included in block 'None'\n",
      "Charlie Dave\n",
      "Extrinsic '0x3e6fa5b06da66c006805b800101a1aa80f20f04ba7c8a47c47713b96e2f31b60' sent and included in block 'None'\n",
      "Charlie Eve\n",
      "Extrinsic '0xfc1aefea856a9432bfabb5f38c2f9116c1429803104a6fbca1a214efd5c1132e' sent and included in block 'None'\n",
      "Charlie Ferdie\n",
      "Extrinsic '0x71f7c4b6f734b1c7589140046f9ca9d0ce7cde205fd944eacf888d774989a53d' sent and included in block 'None'\n",
      "Dave Alice\n",
      "Extrinsic '0xd6f36adb3e5259df29eadfa1278c5cbf9d01a99cc5308527b81e5113681d35f7' sent and included in block 'None'\n",
      "Dave Charlie\n",
      "Extrinsic '0xe48fa9593eff8be772452f4ae0fa3ff0e9a5219e5c2690f669f18cbf3efab84d' sent and included in block 'None'\n",
      "Dave Eve\n",
      "Extrinsic '0x415fd075417c478d292b7cb13ae28a8da8b6fe742c62d8df1aa079b1f31d5d1a' sent and included in block 'None'\n",
      "Dave Ferdie\n",
      "Extrinsic '0x7c777c709c86affcd40f3828777b16097ef12830efe66b1cd72047b1479b9f06' sent and included in block 'None'\n",
      "Eve Alice\n",
      "Extrinsic '0x2aea5444b47db236266fe37c1d126db53aba2c8c26f377ef45af3544d57ebcd1' sent and included in block 'None'\n",
      "Eve Charlie\n",
      "Extrinsic '0x7333854fe5994230eea28d8cf238ab1cd51ced4008951efa4b1ba31be9282941' sent and included in block 'None'\n",
      "Eve Dave\n",
      "Extrinsic '0x9902ed45fc190951728f4d617a7866830ba2145be9992d11ef08705a68c7af97' sent and included in block 'None'\n",
      "Eve Ferdie\n",
      "Extrinsic '0x2b2fd60be0be7d20007d2b93dfdbbcf122a3d8bcdd51aac48f6db61377547625' sent and included in block 'None'\n",
      "Ferdie Alice\n",
      "Extrinsic '0x12ce0e828d6d7b42750b57c9963b61f200cd56fe1d6158298c05554b8deae87a' sent and included in block 'None'\n",
      "Ferdie Charlie\n",
      "Extrinsic '0xc4cd9ad64f4fe183f2846f2971cce529caea7f613b62c2b0f1a893f797d78c20' sent and included in block 'None'\n",
      "Ferdie Dave\n",
      "Extrinsic '0x70a687a781d42b13d835973f1a08c505c08f26f105ac80c349e4cf6fcd1249e1' sent and included in block 'None'\n",
      "Ferdie Eve\n",
      "Extrinsic '0x0bf4053591c2c7285a2a190022b3170f2e717435a6ee920c84bdf4d9e24ac274' sent and included in block 'None'\n"
     ]
    }
   ],
   "source": [
    "for name1, k1 in msa_keys.items():\n",
    "    for name2, k2 in msa_keys.items():\n",
    "        if k1 != k2:\n",
    "            print(name1, name2)\n",
    "            receipt = follow_user(k1, k2, True, wait_for_inclusion=False, wait_for_finalization=False)"
   ]
  },
  {
   "cell_type": "code",
   "execution_count": 10,
   "id": "754e8fd0",
   "metadata": {
    "scrolled": true
   },
   "outputs": [
    {
     "name": "stdout",
     "output_type": "stream",
     "text": [
      "Extrinsic '0xd749790cde74e27eb2b8d46866a8414331bce4ca09dbec9dd652a80fa3dcf42d' sent and included in block 'None'\n",
      "Extrinsic '0xdd837d187a14cbabd8c469d89ef3f546595be06257bd132b4cb7cab67e5ed68d' sent and included in block 'None'\n",
      "Extrinsic '0x14217205ac30aa0932e86106b80a8751a0a8de617d8ff45214edccf170b311da' sent and included in block 'None'\n"
     ]
    }
   ],
   "source": [
    "receipt = follow_user(msa_keys['Dave'], msa_keys['Eve'], False, wait_for_inclusion=False, wait_for_finalization=False)\n",
    "receipt = follow_user(msa_keys['Eve'], msa_keys['Dave'], False, wait_for_inclusion=False, wait_for_finalization=False)\n",
    "receipt = follow_user(msa_keys['Dave'], msa_keys['Eve'], True, wait_for_inclusion=False, wait_for_finalization=False)"
   ]
  },
  {
   "cell_type": "markdown",
   "id": "fa6e1713",
   "metadata": {},
   "source": [
    "# Test post"
   ]
  },
  {
   "cell_type": "code",
   "execution_count": 31,
   "id": "ad265ade",
   "metadata": {
    "scrolled": true
   },
   "outputs": [
    {
     "name": "stderr",
     "output_type": "stream",
     "text": [
      "  % Total    % Received % Xferd  Average Speed   Time    Time     Time  Current\n",
      "                                 Dload  Upload   Total   Spent    Left  Speed\n",
      "  0     0    0     0    0     0      0      0 --:--:--  0:02:09 --:--:--     0\n",
      "curl: (28) Failed to connect to 67.160.97.38 port 5000: Connection timed out\n"
     ]
    },
    {
     "ename": "CalledProcessError",
     "evalue": "Command 'b'curl -X \\'POST\\' \\\\\\n  \\'http://67.160.97.38:5000/submit/post\\' \\\\\\n  -H \\'accept: application/json\\' \\\\\\n  -H \\'Content-Type: application/json\\' \\\\\\n  -d \\'{\\n  \"category\": \"string\",\\n  \"title\": \"string\",\\n  \"body\": \"string\",\\n  \"url\": \"http://www.google.com\",\\n  \"is_nsfw\": true\\n}\\'\\n'' returned non-zero exit status 28.",
     "output_type": "error",
     "traceback": [
      "\u001b[0;31m---------------------------------------------------------------------------\u001b[0m",
      "\u001b[0;31mCalledProcessError\u001b[0m                        Traceback (most recent call last)",
      "Input \u001b[0;32mIn [31]\u001b[0m, in \u001b[0;36m<cell line: 1>\u001b[0;34m()\u001b[0m\n\u001b[0;32m----> 1\u001b[0m \u001b[43mget_ipython\u001b[49m\u001b[43m(\u001b[49m\u001b[43m)\u001b[49m\u001b[38;5;241;43m.\u001b[39;49m\u001b[43mrun_cell_magic\u001b[49m\u001b[43m(\u001b[49m\u001b[38;5;124;43m'\u001b[39;49m\u001b[38;5;124;43mbash\u001b[39;49m\u001b[38;5;124;43m'\u001b[39;49m\u001b[43m,\u001b[49m\u001b[43m \u001b[49m\u001b[38;5;124;43m'\u001b[39;49m\u001b[38;5;124;43m'\u001b[39;49m\u001b[43m,\u001b[49m\u001b[43m \u001b[49m\u001b[38;5;124;43m'\u001b[39;49m\u001b[38;5;124;43mcurl -X \u001b[39;49m\u001b[38;5;130;43;01m\\'\u001b[39;49;00m\u001b[38;5;124;43mPOST\u001b[39;49m\u001b[38;5;130;43;01m\\'\u001b[39;49;00m\u001b[38;5;124;43m \u001b[39;49m\u001b[38;5;130;43;01m\\\\\u001b[39;49;00m\u001b[38;5;130;43;01m\\n\u001b[39;49;00m\u001b[38;5;124;43m  \u001b[39;49m\u001b[38;5;130;43;01m\\'\u001b[39;49;00m\u001b[38;5;124;43mhttp://67.160.97.38:5000/submit/post\u001b[39;49m\u001b[38;5;130;43;01m\\'\u001b[39;49;00m\u001b[38;5;124;43m \u001b[39;49m\u001b[38;5;130;43;01m\\\\\u001b[39;49;00m\u001b[38;5;130;43;01m\\n\u001b[39;49;00m\u001b[38;5;124;43m  -H \u001b[39;49m\u001b[38;5;130;43;01m\\'\u001b[39;49;00m\u001b[38;5;124;43maccept: application/json\u001b[39;49m\u001b[38;5;130;43;01m\\'\u001b[39;49;00m\u001b[38;5;124;43m \u001b[39;49m\u001b[38;5;130;43;01m\\\\\u001b[39;49;00m\u001b[38;5;130;43;01m\\n\u001b[39;49;00m\u001b[38;5;124;43m  -H \u001b[39;49m\u001b[38;5;130;43;01m\\'\u001b[39;49;00m\u001b[38;5;124;43mContent-Type: application/json\u001b[39;49m\u001b[38;5;130;43;01m\\'\u001b[39;49;00m\u001b[38;5;124;43m \u001b[39;49m\u001b[38;5;130;43;01m\\\\\u001b[39;49;00m\u001b[38;5;130;43;01m\\n\u001b[39;49;00m\u001b[38;5;124;43m  -d \u001b[39;49m\u001b[38;5;130;43;01m\\'\u001b[39;49;00m\u001b[38;5;124;43m{\u001b[39;49m\u001b[38;5;130;43;01m\\n\u001b[39;49;00m\u001b[38;5;124;43m  \u001b[39;49m\u001b[38;5;124;43m\"\u001b[39;49m\u001b[38;5;124;43mcategory\u001b[39;49m\u001b[38;5;124;43m\"\u001b[39;49m\u001b[38;5;124;43m: \u001b[39;49m\u001b[38;5;124;43m\"\u001b[39;49m\u001b[38;5;124;43mstring\u001b[39;49m\u001b[38;5;124;43m\"\u001b[39;49m\u001b[38;5;124;43m,\u001b[39;49m\u001b[38;5;130;43;01m\\n\u001b[39;49;00m\u001b[38;5;124;43m  \u001b[39;49m\u001b[38;5;124;43m\"\u001b[39;49m\u001b[38;5;124;43mtitle\u001b[39;49m\u001b[38;5;124;43m\"\u001b[39;49m\u001b[38;5;124;43m: \u001b[39;49m\u001b[38;5;124;43m\"\u001b[39;49m\u001b[38;5;124;43mstring\u001b[39;49m\u001b[38;5;124;43m\"\u001b[39;49m\u001b[38;5;124;43m,\u001b[39;49m\u001b[38;5;130;43;01m\\n\u001b[39;49;00m\u001b[38;5;124;43m  \u001b[39;49m\u001b[38;5;124;43m\"\u001b[39;49m\u001b[38;5;124;43mbody\u001b[39;49m\u001b[38;5;124;43m\"\u001b[39;49m\u001b[38;5;124;43m: \u001b[39;49m\u001b[38;5;124;43m\"\u001b[39;49m\u001b[38;5;124;43mstring\u001b[39;49m\u001b[38;5;124;43m\"\u001b[39;49m\u001b[38;5;124;43m,\u001b[39;49m\u001b[38;5;130;43;01m\\n\u001b[39;49;00m\u001b[38;5;124;43m  \u001b[39;49m\u001b[38;5;124;43m\"\u001b[39;49m\u001b[38;5;124;43murl\u001b[39;49m\u001b[38;5;124;43m\"\u001b[39;49m\u001b[38;5;124;43m: \u001b[39;49m\u001b[38;5;124;43m\"\u001b[39;49m\u001b[38;5;124;43mhttp://www.google.com\u001b[39;49m\u001b[38;5;124;43m\"\u001b[39;49m\u001b[38;5;124;43m,\u001b[39;49m\u001b[38;5;130;43;01m\\n\u001b[39;49;00m\u001b[38;5;124;43m  \u001b[39;49m\u001b[38;5;124;43m\"\u001b[39;49m\u001b[38;5;124;43mis_nsfw\u001b[39;49m\u001b[38;5;124;43m\"\u001b[39;49m\u001b[38;5;124;43m: true\u001b[39;49m\u001b[38;5;130;43;01m\\n\u001b[39;49;00m\u001b[38;5;124;43m}\u001b[39;49m\u001b[38;5;130;43;01m\\'\u001b[39;49;00m\u001b[38;5;130;43;01m\\n\u001b[39;49;00m\u001b[38;5;124;43m'\u001b[39;49m\u001b[43m)\u001b[49m\n",
      "File \u001b[0;32m~/miniconda3/lib/python3.8/site-packages/IPython/core/interactiveshell.py:2358\u001b[0m, in \u001b[0;36mInteractiveShell.run_cell_magic\u001b[0;34m(self, magic_name, line, cell)\u001b[0m\n\u001b[1;32m   2356\u001b[0m \u001b[38;5;28;01mwith\u001b[39;00m \u001b[38;5;28mself\u001b[39m\u001b[38;5;241m.\u001b[39mbuiltin_trap:\n\u001b[1;32m   2357\u001b[0m     args \u001b[38;5;241m=\u001b[39m (magic_arg_s, cell)\n\u001b[0;32m-> 2358\u001b[0m     result \u001b[38;5;241m=\u001b[39m \u001b[43mfn\u001b[49m\u001b[43m(\u001b[49m\u001b[38;5;241;43m*\u001b[39;49m\u001b[43margs\u001b[49m\u001b[43m,\u001b[49m\u001b[43m \u001b[49m\u001b[38;5;241;43m*\u001b[39;49m\u001b[38;5;241;43m*\u001b[39;49m\u001b[43mkwargs\u001b[49m\u001b[43m)\u001b[49m\n\u001b[1;32m   2359\u001b[0m \u001b[38;5;28;01mreturn\u001b[39;00m result\n",
      "File \u001b[0;32m~/miniconda3/lib/python3.8/site-packages/IPython/core/magics/script.py:153\u001b[0m, in \u001b[0;36mScriptMagics._make_script_magic.<locals>.named_script_magic\u001b[0;34m(line, cell)\u001b[0m\n\u001b[1;32m    151\u001b[0m \u001b[38;5;28;01melse\u001b[39;00m:\n\u001b[1;32m    152\u001b[0m     line \u001b[38;5;241m=\u001b[39m script\n\u001b[0;32m--> 153\u001b[0m \u001b[38;5;28;01mreturn\u001b[39;00m \u001b[38;5;28;43mself\u001b[39;49m\u001b[38;5;241;43m.\u001b[39;49m\u001b[43mshebang\u001b[49m\u001b[43m(\u001b[49m\u001b[43mline\u001b[49m\u001b[43m,\u001b[49m\u001b[43m \u001b[49m\u001b[43mcell\u001b[49m\u001b[43m)\u001b[49m\n",
      "File \u001b[0;32m~/miniconda3/lib/python3.8/site-packages/IPython/core/magics/script.py:305\u001b[0m, in \u001b[0;36mScriptMagics.shebang\u001b[0;34m(self, line, cell)\u001b[0m\n\u001b[1;32m    300\u001b[0m \u001b[38;5;28;01mif\u001b[39;00m args\u001b[38;5;241m.\u001b[39mraise_error \u001b[38;5;129;01mand\u001b[39;00m p\u001b[38;5;241m.\u001b[39mreturncode \u001b[38;5;241m!=\u001b[39m \u001b[38;5;241m0\u001b[39m:\n\u001b[1;32m    301\u001b[0m     \u001b[38;5;66;03m# If we get here and p.returncode is still None, we must have\u001b[39;00m\n\u001b[1;32m    302\u001b[0m     \u001b[38;5;66;03m# killed it but not yet seen its return code. We don't wait for it,\u001b[39;00m\n\u001b[1;32m    303\u001b[0m     \u001b[38;5;66;03m# in case it's stuck in uninterruptible sleep. -9 = SIGKILL\u001b[39;00m\n\u001b[1;32m    304\u001b[0m     rc \u001b[38;5;241m=\u001b[39m p\u001b[38;5;241m.\u001b[39mreturncode \u001b[38;5;129;01mor\u001b[39;00m \u001b[38;5;241m-\u001b[39m\u001b[38;5;241m9\u001b[39m\n\u001b[0;32m--> 305\u001b[0m     \u001b[38;5;28;01mraise\u001b[39;00m CalledProcessError(rc, cell)\n",
      "\u001b[0;31mCalledProcessError\u001b[0m: Command 'b'curl -X \\'POST\\' \\\\\\n  \\'http://67.160.97.38:5000/submit/post\\' \\\\\\n  -H \\'accept: application/json\\' \\\\\\n  -H \\'Content-Type: application/json\\' \\\\\\n  -d \\'{\\n  \"category\": \"string\",\\n  \"title\": \"string\",\\n  \"body\": \"string\",\\n  \"url\": \"http://www.google.com\",\\n  \"is_nsfw\": true\\n}\\'\\n'' returned non-zero exit status 28."
     ]
    }
   ],
   "source": [
    "%%bash\n",
    "curl -X 'POST' \\\n",
    "  'http://67.160.97.38:5000/submit/post' \\\n",
    "  -H 'accept: application/json' \\\n",
    "  -H 'Content-Type: application/json' \\\n",
    "  -d '{\n",
    "  \"category\": \"string\",\n",
    "  \"title\": \"string\",\n",
    "  \"body\": \"string\",\n",
    "  \"url\": \"http://www.google.com\",\n",
    "  \"is_nsfw\": true\n",
    "}'"
   ]
  },
  {
   "cell_type": "code",
   "execution_count": null,
   "id": "dbcf25d3",
   "metadata": {},
   "outputs": [],
   "source": []
  }
 ],
 "metadata": {
  "kernelspec": {
   "display_name": "Python 3 (ipykernel)",
   "language": "python",
   "name": "python3"
  },
  "language_info": {
   "codemirror_mode": {
    "name": "ipython",
    "version": 3
   },
   "file_extension": ".py",
   "mimetype": "text/x-python",
   "name": "python",
   "nbconvert_exporter": "python",
   "pygments_lexer": "ipython3",
   "version": "3.8.5"
  },
  "vscode": {
   "interpreter": {
    "hash": "f90a51316803318f0b952c570a4fe32d53aa73ff3300e1da5777ab9e91b8249c"
   }
  }
 },
 "nbformat": 4,
 "nbformat_minor": 5
}
