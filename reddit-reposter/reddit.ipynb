{
 "cells": [
  {
   "cell_type": "code",
   "execution_count": 1,
   "id": "c02729b4",
   "metadata": {},
   "outputs": [],
   "source": [
    "%load_ext autoreload\n",
    "%autoreload 2"
   ]
  },
  {
   "cell_type": "code",
   "execution_count": 2,
   "id": "4298de95",
   "metadata": {},
   "outputs": [
    {
     "name": "stderr",
     "output_type": "stream",
     "text": [
      "/home/chia/miniconda3/lib/python3.8/site-packages/ipfshttpclient/client/__init__.py:73: VersionMismatch: Unsupported daemon version '0.13.0' (not in range: 0.5.0 ≤ … < 0.9.0)\n",
      "  warnings.warn(exceptions.VersionMismatch(version, minimum, maximum))\n"
     ]
    }
   ],
   "source": [
    "import json\n",
    "import time\n",
    "from random import sample\n",
    "import ipfshttpclient\n",
    "from os import listdir\n",
    "from os.path import isfile, join\n",
    "import re\n",
    "import praw\n",
    "\n",
    "import substrateinterface\n",
    "from substrateinterface import SubstrateInterface, Keypair\n",
    "from substrateinterface.exceptions import SubstrateRequestException\n",
    "\n",
    "from substrate_helpers import set_substrate, set_delegate, make_call, addSchema, get_msa_id, get_signature, create_msa_with_delegator, mint_votes, mint_user, follow_user"
   ]
  },
  {
   "cell_type": "code",
   "execution_count": 3,
   "id": "780ca96b",
   "metadata": {
    "scrolled": true
   },
   "outputs": [],
   "source": [
    "reddit_creds = json.load(open(\".reddit_creds.json\", \"r\"))\n",
    "reddit = praw.Reddit(\n",
    "    client_id=reddit_creds[\"client_id\"],\n",
    "    client_secret=reddit_creds[\"client_secret\"],\n",
    "    password=reddit_creds[\"password\"],\n",
    "    user_agent=reddit_creds[\"user_agent\"],\n",
    "    username=reddit_creds[\"username\"],\n",
    ")"
   ]
  },
  {
   "cell_type": "code",
   "execution_count": 22,
   "id": "c80d80b8",
   "metadata": {
    "scrolled": true
   },
   "outputs": [],
   "source": [
    "substrate = SubstrateInterface(\n",
    "    url=\"ws://127.0.0.1:11946\",\n",
    "    ss58_format=42,\n",
    "    type_registry_preset='kusama'\n",
    ")\n",
    "bob = Keypair.create_from_uri('//Bob')\n",
    "set_delegate(bob)\n",
    "set_substrate(substrate)\n",
    "bob_msa_id = get_msa_id(bob)"
   ]
  },
  {
   "cell_type": "code",
   "execution_count": 8,
   "id": "32f8566f",
   "metadata": {},
   "outputs": [],
   "source": [
    "r_all = reddit.subreddit('all')"
   ]
  },
  {
   "cell_type": "code",
   "execution_count": 9,
   "id": "2aaa501c",
   "metadata": {},
   "outputs": [],
   "source": [
    "client = ipfshttpclient.connect()"
   ]
  },
  {
   "cell_type": "code",
   "execution_count": 5,
   "id": "3c63319f",
   "metadata": {
    "scrolled": true
   },
   "outputs": [],
   "source": [
    "post_schema = \"category STRING,username STRING,profile_pic STRING,title STRING,body STRING,url STRING,is_nsfw NUMERIC\"\n",
    "post_schemaId = addSchema(post_schema, wait_for_inclusion=True, wait_for_finalization=False)\n",
    "\n",
    "comment_schema = \"post_hash STRING,parent_hash STRING,parent_type STRING,username STRING,profile_pic STRING,body STRING\"\n",
    "comment_schemaId = addSchema(comment_schema, wait_for_inclusion=True, wait_for_finalization=False)\n",
    "\n",
    "vote_schema = \"post_hash STRING,parent_hash STRING,parent_type STRING,num_votes NUMERIC\"\n",
    "vote_schemaId = addSchema(vote_schema, wait_for_inclusion=True, wait_for_finalization=False)\n",
    "\n",
    "user_schema = \"msa_id NUMERIC,username STRING,password STRING,profile_pic STRING,wallet_ss58_address STRING\"\n",
    "user_schemaId = addSchema(user_schema, wait_for_inclusion=True, wait_for_finalization=False)\n",
    "\n",
    "follow_schema = \"protagonist_msa_id NUMERIC,antagonist_msa_id NUMERIC,event STRING\"\n",
    "follow_schemaId = addSchema(follow_schema, wait_for_inclusion=True, wait_for_finalization=False)"
   ]
  },
  {
   "cell_type": "code",
   "execution_count": 6,
   "id": "23b7513a",
   "metadata": {},
   "outputs": [
    {
     "data": {
      "text/plain": [
       "[155, 156, 159, 160, 161]"
      ]
     },
     "execution_count": 6,
     "metadata": {},
     "output_type": "execute_result"
    }
   ],
   "source": [
    "[post_schemaId, comment_schemaId, vote_schemaId, user_schemaId, follow_schemaId]"
   ]
  },
  {
   "cell_type": "code",
   "execution_count": null,
   "id": "8e1eb535",
   "metadata": {},
   "outputs": [],
   "source": [
    "path = \"/tmp/\""
   ]
  },
  {
   "cell_type": "code",
   "execution_count": 20,
   "id": "31fedc04",
   "metadata": {},
   "outputs": [],
   "source": [
    "def mint_comments(comments, post, post_data_hash):\n",
    "    id_to_hash = {}\n",
    "    for comment in comments:\n",
    "        try:\n",
    "            username = comment.author.name\n",
    "            profile_pic = comment.author.icon_img\n",
    "        except:\n",
    "            username = \"removed\"\n",
    "            profile_pic = \"removed\"\n",
    "            \n",
    "        password = 'password'\n",
    "        user_wallet = Keypair.create_from_uri('//' + username + password)\n",
    "        comment_user_msa_id, receipt_comment_user = mint_user(username, password, profile_pic, user_wallet)\n",
    "            \n",
    "        if comment.parent_id == post.name:\n",
    "            parent_hash = post_data_hash\n",
    "            parent_type = 'post'\n",
    "        else:\n",
    "            parent_hash = id_to_hash[comment.parent_id]\n",
    "            parent_type = 'comment'\n",
    "            \n",
    "        comment_data = {\n",
    "            \"post_hash\": post_data_hash,\n",
    "            \"parent_hash\": parent_hash,\n",
    "            \"parent_type\": parent_type,\n",
    "            \"username\": username,\n",
    "            \"profile_pic\": profile_pic,\n",
    "            \"body\": comment.body,\n",
    "        }\n",
    "        \n",
    "        comment_data_hash, receipt_comment = mint_data(comment_data, user_msa_id, path+'comments/' wait_for_inclusion=False, wait_for_finalization=False)\n",
    "        \n",
    "        receipt_comment = make_call(\"Messages\", \"add\", call_params, bob, wait_for_inclusion=False, wait_for_finalization=False)\n",
    "        print(comment_data_hash)\n",
    "        \n",
    "        ## comment votes ##\n",
    "        receipt_ups = mint_votes(comment_user_msa_id, comment.ups, comment_data_hash, post_data_hash, 'comment')\n",
    "        receipt_downs = mint_votes(comment_user_msa_id, comment.downs, comment_data_hash, post_data_hash, 'comment')\n",
    "        print(comment.ups, comment.downs)\n",
    "        \n",
    "        ## FOLLOWS ##\n",
    "        for follow_msa_id in sample(users, min(10, len(users))):\n",
    "            follow_user(comment_user_msa_id, follow_msa_id)\n",
    "            \n",
    "        users.append(comment_user_msa_id)"
   ]
  },
  {
   "cell_type": "code",
   "execution_count": 23,
   "id": "3f21250f",
   "metadata": {
    "scrolled": true
   },
   "outputs": [
    {
     "name": "stdout",
     "output_type": "stream",
     "text": [
      "Extrinsic '0xb5cafbb6c313f9261676610e390287c69a7b5739da89ae3b9b74386b113f3b62' sent and included in block 'None'\n",
      "Extrinsic '0xd002df048664209bfd609f391cb13630d6e06006e77df33c439828fa94cc6db0' sent and included in block 'None'\n",
      "Extrinsic '0x81bbb6952a69cc25cd539f35c975d31e026e3967e272587811bd9080eaab3ddc' sent and included in block 'None'\n",
      "Extrinsic '0x68a1a0f067c6c36b3436a3db68774160c18392c5e29dcbfacdccde8fb72bbf20' sent and included in block 'None'\n",
      "Extrinsic '0xb2f171be69c428488f4f4cad95adca69e2e3c5d822099675be711574e3e2d492' sent and included in block 'None'\n",
      "Extrinsic '0xb3005c43b597882b171a7f5002a1bdf25a0ac11f111b28e14d3a419859cfd72c' sent and included in block 'None'\n",
      "Extrinsic '0x65152b49fea7e38f6d34395618bffd635521d17f7bd5a46cdff1ad7c3111db1a' sent and included in block 'None'\n",
      "Extrinsic '0x45f43a311919562d99b43feee8b6262edc6624fc97145e68168220b77b58a8f8' sent and included in block 'None'\n",
      "Extrinsic '0x239052065565e66de58466c9b57cee27683e3c98fbf70220e41b0a4e1d94f1f8' sent and included in block 'None'\n",
      "Extrinsic '0xf347950c5242bdc7ef2358c61dc02bbde2d92683fea6b5fc7c404829b0b4ef17' sent and included in block 'None'\n",
      "Extrinsic '0x3859588f6e66373a5ca33ab0065024b8e8be34f30481b5aac23dc63565978747' sent and included in block 'None'\n",
      "Extrinsic '0x9b1dad0c2ff873ec4e6ef97dce00107dda630630c90a25332f9d9e3b71c1ed8d' sent and included in block 'None'\n",
      "Extrinsic '0xd95f7221a1e75d7c2c3d2e8ab22dcf95d15353f3aaf07ddf7a0f3ff3e9f8ea7a' sent and included in block 'None'\n",
      "Extrinsic '0x2e8999a52a067145f38615965bc53e2b719051eb27b35b231dfb207095d35b63' sent and included in block 'None'\n",
      "Extrinsic '0xfb67af629461bd802f68db5ae293c31085d4d5a0d425e58405131108eb08f202' sent and included in block 'None'\n",
      "Extrinsic '0x5ddeff27728a8d94c1f63229f4091472ae8062cf4533580f98ba25f67f0f2add' sent and included in block 'None'\n",
      "Extrinsic '0xcf716dc13ab55564a2a844f9254913e9d7e2ff2ce9983ce2b9615059d1854d55' sent and included in block 'None'\n",
      "Extrinsic '0xa9f4a7de00f73235fed2aae5e9402b88b41a1afd5fdb27151e028c7386da3ee7' sent and included in block 'None'\n",
      "Extrinsic '0x0a53e9e1eba3e9ff8026d039dadfb95152708d77197d665d1613ed8924d20e10' sent and included in block 'None'\n",
      "Extrinsic '0x8833529c849af5f7a0e5d3f05dcaa5a93d6d1f3b95afcc2cb74203d66e5a4ce7' sent and included in block 'None'\n"
     ]
    },
    {
     "ename": "TypeError",
     "evalue": "'NoneType' object is not subscriptable",
     "output_type": "error",
     "traceback": [
      "\u001b[0;31m---------------------------------------------------------------------------\u001b[0m",
      "\u001b[0;31mTypeError\u001b[0m                                 Traceback (most recent call last)",
      "Input \u001b[0;32mIn [23]\u001b[0m, in \u001b[0;36m<cell line: 9>\u001b[0;34m()\u001b[0m\n\u001b[1;32m     18\u001b[0m password \u001b[38;5;241m=\u001b[39m \u001b[38;5;124m'\u001b[39m\u001b[38;5;124mpassword\u001b[39m\u001b[38;5;124m'\u001b[39m\n\u001b[1;32m     19\u001b[0m user_wallet \u001b[38;5;241m=\u001b[39m Keypair\u001b[38;5;241m.\u001b[39mcreate_from_uri(\u001b[38;5;124m'\u001b[39m\u001b[38;5;124m//\u001b[39m\u001b[38;5;124m'\u001b[39m \u001b[38;5;241m+\u001b[39m username \u001b[38;5;241m+\u001b[39m password)\n\u001b[0;32m---> 20\u001b[0m user_msa_id, receipt_user \u001b[38;5;241m=\u001b[39m \u001b[43mmint_user\u001b[49m\u001b[43m(\u001b[49m\u001b[43musername\u001b[49m\u001b[43m,\u001b[49m\u001b[43m \u001b[49m\u001b[43mpassword\u001b[49m\u001b[43m,\u001b[49m\u001b[43m \u001b[49m\u001b[43mprofile_pic\u001b[49m\u001b[43m,\u001b[49m\u001b[43m \u001b[49m\u001b[43muser_wallet\u001b[49m\u001b[43m)\u001b[49m\n\u001b[1;32m     22\u001b[0m \u001b[38;5;66;03m## POST ##\u001b[39;00m\n\u001b[1;32m     23\u001b[0m post_data \u001b[38;5;241m=\u001b[39m {\n\u001b[1;32m     24\u001b[0m     \u001b[38;5;124m\"\u001b[39m\u001b[38;5;124mcategory\u001b[39m\u001b[38;5;124m\"\u001b[39m: post\u001b[38;5;241m.\u001b[39msubreddit\u001b[38;5;241m.\u001b[39mdisplay_name,\n\u001b[1;32m     25\u001b[0m     \u001b[38;5;124m\"\u001b[39m\u001b[38;5;124musername\u001b[39m\u001b[38;5;124m\"\u001b[39m: username,\n\u001b[0;32m   (...)\u001b[0m\n\u001b[1;32m     30\u001b[0m     \u001b[38;5;124m\"\u001b[39m\u001b[38;5;124mis_nsfw\u001b[39m\u001b[38;5;124m\"\u001b[39m: post\u001b[38;5;241m.\u001b[39mover_18\n\u001b[1;32m     31\u001b[0m }\n",
      "File \u001b[0;32m~/polkadot_projects/PostThread-Polkadot/reddit-reposter/substrate_helpers.py:220\u001b[0m, in \u001b[0;36mmint_user\u001b[0;34m(username, password, profile_pic, user_wallet, wait_for_inclusion, wait_for_finalization)\u001b[0m\n\u001b[1;32m    219\u001b[0m \u001b[38;5;28;01mdef\u001b[39;00m \u001b[38;5;21mmint_user\u001b[39m(username, password, profile_pic, user_wallet, wait_for_inclusion\u001b[38;5;241m=\u001b[39m\u001b[38;5;28;01mFalse\u001b[39;00m, wait_for_finalization\u001b[38;5;241m=\u001b[39m\u001b[38;5;28;01mFalse\u001b[39;00m):      \n\u001b[0;32m--> 220\u001b[0m     user_msa_id \u001b[38;5;241m=\u001b[39m \u001b[43mcreate_msa_with_delegator\u001b[49m\u001b[43m(\u001b[49m\u001b[43mdelegate\u001b[49m\u001b[43m,\u001b[49m\u001b[43m \u001b[49m\u001b[43muser_wallet\u001b[49m\u001b[43m)\u001b[49m\n\u001b[1;32m    221\u001b[0m     user_data \u001b[38;5;241m=\u001b[39m \u001b[38;5;124m'\u001b[39m\u001b[38;5;124m{\u001b[39m\u001b[38;5;124m'\u001b[39m \u001b[38;5;241m+\u001b[39m \u001b[38;5;124mf\u001b[39m\u001b[38;5;124m'\u001b[39m\u001b[38;5;124m\"\u001b[39m\u001b[38;5;124mmsa_id\u001b[39m\u001b[38;5;124m\"\u001b[39m\u001b[38;5;124m: \u001b[39m\u001b[38;5;132;01m{\u001b[39;00muser_msa_id\u001b[38;5;132;01m}\u001b[39;00m\u001b[38;5;124m,\u001b[39m\u001b[38;5;124m\"\u001b[39m\u001b[38;5;124musername\u001b[39m\u001b[38;5;124m\"\u001b[39m\u001b[38;5;124m: \u001b[39m\u001b[38;5;124m\"\u001b[39m\u001b[38;5;132;01m{\u001b[39;00musername\u001b[38;5;132;01m}\u001b[39;00m\u001b[38;5;124m\"\u001b[39m\u001b[38;5;124m,\u001b[39m\u001b[38;5;124m\"\u001b[39m\u001b[38;5;124mpassword\u001b[39m\u001b[38;5;124m\"\u001b[39m\u001b[38;5;124m: \u001b[39m\u001b[38;5;124m\"\u001b[39m\u001b[38;5;132;01m{\u001b[39;00mpassword\u001b[38;5;132;01m}\u001b[39;00m\u001b[38;5;124m\"\u001b[39m\u001b[38;5;124m,\u001b[39m\u001b[38;5;124m\"\u001b[39m\u001b[38;5;124mprofile_pic\u001b[39m\u001b[38;5;124m\"\u001b[39m\u001b[38;5;124m: \u001b[39m\u001b[38;5;124m\"\u001b[39m\u001b[38;5;132;01m{\u001b[39;00mprofile_pic\u001b[38;5;132;01m}\u001b[39;00m\u001b[38;5;124m\"\u001b[39m\u001b[38;5;124m,\u001b[39m\u001b[38;5;124m\"\u001b[39m\u001b[38;5;124mwallet_ss58_address\u001b[39m\u001b[38;5;124m\"\u001b[39m\u001b[38;5;124m: \u001b[39m\u001b[38;5;124m\"\u001b[39m\u001b[38;5;132;01m{\u001b[39;00muser_wallet\u001b[38;5;241m.\u001b[39mss58_address\u001b[38;5;132;01m}\u001b[39;00m\u001b[38;5;124m\"\u001b[39m\u001b[38;5;124m'\u001b[39m \u001b[38;5;241m+\u001b[39m \u001b[38;5;124m'\u001b[39m\u001b[38;5;124m}\u001b[39m\u001b[38;5;124m'\u001b[39m\n\u001b[1;32m    223\u001b[0m     call_params \u001b[38;5;241m=\u001b[39m {\n\u001b[1;32m    224\u001b[0m         \u001b[38;5;124m\"\u001b[39m\u001b[38;5;124mon_behalf_of\u001b[39m\u001b[38;5;124m\"\u001b[39m: user_msa_id,\n\u001b[1;32m    225\u001b[0m         \u001b[38;5;124m\"\u001b[39m\u001b[38;5;124mschema_id\u001b[39m\u001b[38;5;124m\"\u001b[39m: user_schemaId,\n\u001b[1;32m    226\u001b[0m         \u001b[38;5;124m\"\u001b[39m\u001b[38;5;124mmessage\u001b[39m\u001b[38;5;124m\"\u001b[39m: user_data,\n\u001b[1;32m    227\u001b[0m         \u001b[38;5;124m\"\u001b[39m\u001b[38;5;124mpayload\u001b[39m\u001b[38;5;124m\"\u001b[39m: user_data\n\u001b[1;32m    228\u001b[0m     }\n",
      "File \u001b[0;32m~/polkadot_projects/PostThread-Polkadot/reddit-reposter/substrate_helpers.py:130\u001b[0m, in \u001b[0;36mcreate_msa_with_delegator\u001b[0;34m(provider_wallet, delegator_wallet)\u001b[0m\n\u001b[1;32m    129\u001b[0m \u001b[38;5;28;01mdef\u001b[39;00m \u001b[38;5;21mcreate_msa_with_delegator\u001b[39m(provider_wallet, delegator_wallet):\n\u001b[0;32m--> 130\u001b[0m     msa_id \u001b[38;5;241m=\u001b[39m \u001b[43mget_msa_id\u001b[49m\u001b[43m(\u001b[49m\u001b[43mdelegator_wallet\u001b[49m\u001b[43m,\u001b[49m\u001b[43m \u001b[49m\u001b[43mcreate\u001b[49m\u001b[38;5;241;43m=\u001b[39;49m\u001b[38;5;28;43;01mFalse\u001b[39;49;00m\u001b[43m)\u001b[49m\n\u001b[1;32m    131\u001b[0m     \u001b[38;5;28;01mif\u001b[39;00m msa_id \u001b[38;5;129;01mis\u001b[39;00m \u001b[38;5;129;01mnot\u001b[39;00m \u001b[38;5;28;01mNone\u001b[39;00m:\n\u001b[1;32m    132\u001b[0m         \u001b[38;5;28;01mreturn\u001b[39;00m msa_id\n",
      "File \u001b[0;32m~/polkadot_projects/PostThread-Polkadot/reddit-reposter/substrate_helpers.py:87\u001b[0m, in \u001b[0;36mget_msa_id\u001b[0;34m(wallet, create)\u001b[0m\n\u001b[1;32m     85\u001b[0m         \u001b[38;5;28;01mreturn\u001b[39;00m \u001b[38;5;28;01mNone\u001b[39;00m\n\u001b[1;32m     86\u001b[0m     \u001b[38;5;28;01melse\u001b[39;00m:\n\u001b[0;32m---> 87\u001b[0m         \u001b[38;5;28;01mreturn\u001b[39;00m \u001b[43mmsa_key\u001b[49m\u001b[38;5;241;43m.\u001b[39;49m\u001b[43mvalue\u001b[49m\u001b[43m[\u001b[49m\u001b[38;5;124;43m'\u001b[39;49m\u001b[38;5;124;43mmsa_id\u001b[39;49m\u001b[38;5;124;43m'\u001b[39;49m\u001b[43m]\u001b[49m\n\u001b[1;32m     89\u001b[0m \u001b[38;5;28;01mif\u001b[39;00m msa_key \u001b[38;5;241m==\u001b[39m \u001b[38;5;28;01mNone\u001b[39;00m:\n\u001b[1;32m     90\u001b[0m     receipt \u001b[38;5;241m=\u001b[39m make_call(\u001b[38;5;124m\"\u001b[39m\u001b[38;5;124mMsa\u001b[39m\u001b[38;5;124m\"\u001b[39m, \u001b[38;5;124m\"\u001b[39m\u001b[38;5;124mcreate\u001b[39m\u001b[38;5;124m\"\u001b[39m, {}, wallet)\n",
      "\u001b[0;31mTypeError\u001b[0m: 'NoneType' object is not subscriptable"
     ]
    }
   ],
   "source": [
    "schema_count = substrate.query(\n",
    "    module='Schemas',\n",
    "    storage_function='SchemaCount',\n",
    "    params=[]\n",
    ").value\n",
    "\n",
    "while (True):\n",
    "    for i, post in enumerate(r_all.top(time_filter='day')):\n",
    "        ## USER ##\n",
    "        try:\n",
    "            username = post.author.name\n",
    "            profile_pic = post.author.icon_img\n",
    "        except:\n",
    "            username = \"removed\"\n",
    "            profile_pic = \"removed\"\n",
    "            \n",
    "        password = 'password'\n",
    "        user_wallet = Keypair.create_from_uri('//' + username + password)\n",
    "        user_msa_id, receipt_user = mint_user(username, password, profile_pic, user_wallet)\n",
    "\n",
    "        ## POST ##\n",
    "        post_data = {\n",
    "            \"category\": post.subreddit.display_name,\n",
    "            \"username\": username,\n",
    "            \"profile_pic\": profile_pic,\n",
    "            \"title\": post.title,\n",
    "            \"body\": post.selftext,\n",
    "            \"url\": post.url,\n",
    "            \"is_nsfw\": post.over_18\n",
    "        }\n",
    "\n",
    "        post_data_hash, receipt_post = make_post(post_data, user_msa_id, path+'posts/', wait_for_inclusion=False, wait_for_finalization=False)\n",
    "        print(post_data_hash)\n",
    "\n",
    "        ## post votes ##\n",
    "        receipt_ups = mint_votes(user_msa_id, post.ups, post_data_hash, post_data_hash, 'post')\n",
    "        receipt_downs = mint_votes(user_msa_id, post.downs, post_data_hash, post_data_hash, 'post')\n",
    "        print(post.ups, post.downs)\n",
    "\n",
    "        ## COMMENT ##\n",
    "        mint_comments(post.comments.list()[:10], post, post_data_hash)\n",
    "        \n",
    "        ## FOLLOWS ##\n",
    "        for follow_msa_id in sample(users, min(10, len(users))):\n",
    "            follow_user(user_msa_id, follow_msa_id)\n",
    "            \n",
    "        users.append(user_msa_id)\n",
    "        \n",
    "    print(\"waiting...\")\n",
    "    print()\n",
    "    # sleep for a bit and then check again\n",
    "    time.sleep(60*10)"
   ]
  },
  {
   "cell_type": "code",
   "execution_count": 39,
   "id": "d3feed06",
   "metadata": {},
   "outputs": [],
   "source": [
    "b = reddit.redditor('abowlofspaghetti')"
   ]
  },
  {
   "cell_type": "code",
   "execution_count": 40,
   "id": "0e9ed430",
   "metadata": {},
   "outputs": [
    {
     "data": {
      "text/plain": [
       "(7003, 737, 0, 0)"
      ]
     },
     "execution_count": 40,
     "metadata": {},
     "output_type": "execute_result"
    }
   ],
   "source": [
    "b.link_karma, b.comment_karma"
   ]
  },
  {
   "cell_type": "code",
   "execution_count": 47,
   "id": "5bff244e",
   "metadata": {},
   "outputs": [
    {
     "data": {
      "text/plain": [
       "<praw.models.listing.generator.ListingGenerator at 0x7f6355f90df0>"
      ]
     },
     "execution_count": 47,
     "metadata": {},
     "output_type": "execute_result"
    }
   ],
   "source": [
    "b.submissions.new()"
   ]
  },
  {
   "cell_type": "code",
   "execution_count": 49,
   "id": "857df083",
   "metadata": {
    "scrolled": true
   },
   "outputs": [],
   "source": [
    "for t in b.submissions.new():\n",
    "    break"
   ]
  },
  {
   "cell_type": "code",
   "execution_count": 52,
   "id": "e3b49e3d",
   "metadata": {},
   "outputs": [
    {
     "data": {
      "text/plain": [
       "\"I'm not a huge fan of GBTC for Bitcoin but it's the only way to get exposure to crypto in my 401k. So I will be dumping all my GBTC whenever an ETF comes available. However, I feel like many people could do that and it'll tank the stock. Is that a possibility? I know it's supposed to represent btc value but it's constantly off by huge percentages.\""
      ]
     },
     "execution_count": 52,
     "metadata": {},
     "output_type": "execute_result"
    }
   ],
   "source": [
    "t.selftext"
   ]
  },
  {
   "cell_type": "code",
   "execution_count": 32,
   "id": "7fffb063",
   "metadata": {},
   "outputs": [
    {
     "data": {
      "text/plain": [
       "[]"
      ]
     },
     "execution_count": 32,
     "metadata": {},
     "output_type": "execute_result"
    }
   ],
   "source": [
    "[t for t in b.awardee_karma.top()]"
   ]
  },
  {
   "cell_type": "code",
   "execution_count": null,
   "id": "aa8b5350",
   "metadata": {},
   "outputs": [],
   "source": []
  },
  {
   "cell_type": "code",
   "execution_count": null,
   "id": "4ccacb78",
   "metadata": {},
   "outputs": [],
   "source": []
  },
  {
   "cell_type": "code",
   "execution_count": 543,
   "id": "28220666",
   "metadata": {},
   "outputs": [
    {
     "data": {
      "text/plain": [
       "9694"
      ]
     },
     "execution_count": 543,
     "metadata": {},
     "output_type": "execute_result"
    }
   ],
   "source": [
    "substrate.get_block()['header']['number']"
   ]
  },
  {
   "cell_type": "code",
   "execution_count": 489,
   "id": "f1175441",
   "metadata": {},
   "outputs": [],
   "source": [
    "start_block = 5490"
   ]
  },
  {
   "cell_type": "code",
   "execution_count": 42,
   "id": "92e6d160",
   "metadata": {},
   "outputs": [],
   "source": [
    "post_pattern = re.compile(f\".*,.*,type,parent,data\")"
   ]
  },
  {
   "cell_type": "code",
   "execution_count": 43,
   "id": "2f852fd5",
   "metadata": {
    "scrolled": true
   },
   "outputs": [
    {
     "name": "stdout",
     "output_type": "stream",
     "text": [
      "QmQzgLfEczTXa3rWFC4y7vJMECV7yFqbByhFPzUR9woUWs,interestingasfuck,type,parent,data\n"
     ]
    }
   ],
   "source": [
    "schema_count = substrate.query(\n",
    "    module='Schemas',\n",
    "    storage_function='SchemaCount',\n",
    "    params=[]\n",
    ").value\n",
    "\n",
    "post_schemas = {}\n",
    "for i in range(1, schema_count+1):\n",
    "    schemaTemp = substrate.query(\n",
    "        module='Schemas',\n",
    "        storage_function='Schemas',\n",
    "        params=[i]\n",
    "    )\n",
    "    if post_pattern.match(schemaTemp.value):\n",
    "        print(schemaTemp.value)\n",
    "        post_schemas[schemaTemp.value] = i"
   ]
  },
  {
   "cell_type": "code",
   "execution_count": 48,
   "id": "a1ee26be",
   "metadata": {
    "scrolled": true
   },
   "outputs": [
    {
     "name": "stdout",
     "output_type": "stream",
     "text": [
      "QmQzgLfEczTXa3rWFC4y7vJMECV7yFqbByhFPzUR9woUWs,interestingasfuck,type,parent,data {'jsonrpc': '2.0', 'result': {'content': [{'block_number': 34, 'data': '0x2c2c706f73742c2c516d517a674c6645637a5458613372574643347937764a4d454356377946716242796846507a555239776f555773', 'index': 0, 'msa_id': 1, 'signer': '5FHneW46xGXgs5mUiveU4sbTyGBzmstUspZC92UhjJM694ty'}, {'block_number': 43, 'data': '0x2c2c706f73742c2c516d517a674c6645637a5458613372574643347937764a4d454356377946716242796846507a555239776f555773', 'index': 0, 'msa_id': 1, 'signer': '5FHneW46xGXgs5mUiveU4sbTyGBzmstUspZC92UhjJM694ty'}], 'has_next': False}, 'id': 139}\n",
      "CPU times: user 2.16 ms, sys: 0 ns, total: 2.16 ms\n",
      "Wall time: 41.8 ms\n"
     ]
    }
   ],
   "source": [
    "%%time\n",
    "content_jsons = {}\n",
    "for schema, schemaId in post_schemas.items():\n",
    "    params = [\n",
    "        schemaId,\n",
    "        {\n",
    "            \"page_size\": 10000,\n",
    "            \"from_block\": 0,\n",
    "            \"to_block\": 10000,\n",
    "            \"from_index\": 0,\n",
    "        }\n",
    "    ]\n",
    "\n",
    "    content = substrate.rpc_request(\n",
    "        method='messages_getBySchema',\n",
    "        params=params,\n",
    "    )\n",
    "    print(schema, content)\n",
    "    if len(content['result']['content']) > 0:\n",
    "        content_jsons[schema] = content['result']['content']"
   ]
  },
  {
   "cell_type": "code",
   "execution_count": 45,
   "id": "d15cc63e",
   "metadata": {},
   "outputs": [
    {
     "data": {
      "text/plain": [
       "{}"
      ]
     },
     "execution_count": 45,
     "metadata": {},
     "output_type": "execute_result"
    }
   ],
   "source": [
    "content_jsons"
   ]
  },
  {
   "cell_type": "code",
   "execution_count": 353,
   "id": "51fc69d4",
   "metadata": {},
   "outputs": [],
   "source": [
    "def add_comment(_data, _dict, _is_vote):\n",
    "    for hsh in _dict.keys():\n",
    "        if hsh == data[2]:\n",
    "            if is_vote:\n",
    "                if '-' in data[3]:\n",
    "                    # downvote\n",
    "                    _dict['data']['downvotes'] += data[3]\n",
    "                else:\n",
    "                    # upvote\n",
    "                    _dict['data']['upvotes'] += data[3]\n",
    "            else:\n",
    "                _dict[data[3]] = {\n",
    "                    'data': json.loads(client.cat(_data).decode()), \n",
    "                    'comments': {}\n",
    "                }\n",
    "                \n",
    "                _dict['data'].update({\"upvotes\": 0, \"downvotes\": 0})\n",
    "            return True\n",
    "        result = add_comment(_data, _dict['comments'], _is_vote)\n",
    "        if result:\n",
    "            return True\n",
    "    return False"
   ]
  },
  {
   "cell_type": "code",
   "execution_count": 354,
   "id": "c81d698c",
   "metadata": {
    "scrolled": true
   },
   "outputs": [],
   "source": [
    "posts = {}\n",
    "for schema, contents in content_jsons.items():\n",
    "    schema_items = schema.split(',')\n",
    "    category = schema_items[0]\n",
    "    post_hash = schema_items[1]\n",
    "    posts[post_hash] = {'data': {\"upvotes\": 0, \"downvotes\": 0}, 'comments': {}}\n",
    "    \n",
    "    for content in contents:\n",
    "        data = bytes.fromhex(content['data'][2:]).decode().split(',')\n",
    "        # votes had numeric numbers instead of hashes\n",
    "        is_vote = data[3].strip('-').isnumeric() \n",
    "        if is_vote:\n",
    "            data[3] = int(data[3])\n",
    "            \n",
    "        if data[2] == '': \n",
    "            # empty means its post data\n",
    "            posts[post_hash]['data'].update(json.loads(client.cat(data[3]).decode()))\n",
    "        elif data[2] == post_hash: \n",
    "            # post_hash means its comment\n",
    "            if is_vote:\n",
    "                if data[3] < 0:\n",
    "                    # downvote\n",
    "                    posts[post_hash]['data']['downvotes'] += data[3]\n",
    "                else:\n",
    "                    # upvote\n",
    "                    posts[post_hash]['data']['upvotes'] += data[3]\n",
    "            else:\n",
    "                posts[post_hash]['comments'][data[3]] = {\n",
    "                    'data': json.loads(client.cat(data[3]).decode()), \n",
    "                    'comments': {}\n",
    "                }\n",
    "                posts[post_hash]['comments'][data[3]]['data'].update({\"upvotes\": 0, \"downvotes\": 0})\n",
    "        else: \n",
    "            # neither means its comment of comment\n",
    "            result = add_comment(data[3], posts[post_hash]['comments'], is_vote)\n",
    "            if not result:\n",
    "                print('couldnt find', data[2], json.loads(client.cat(data[3]).decode()))"
   ]
  },
  {
   "cell_type": "code",
   "execution_count": 355,
   "id": "510f0c3e",
   "metadata": {},
   "outputs": [],
   "source": [
    "from collections import OrderedDict\n",
    "o = OrderedDict(sorted(posts.items(), key=lambda t: t[1]['data']['upvotes'], reverse=True))"
   ]
  },
  {
   "cell_type": "code",
   "execution_count": 357,
   "id": "4a5e49b8",
   "metadata": {},
   "outputs": [],
   "source": [
    "posts_list = []\n",
    "for k, v in OrderedDict(sorted(posts.items(), key=lambda t: t[1]['data']['upvotes'], reverse=True)).items():\n",
    "    posts_list.append({k:v})"
   ]
  },
  {
   "cell_type": "code",
   "execution_count": null,
   "id": "f9f4b300",
   "metadata": {},
   "outputs": [],
   "source": []
  }
 ],
 "metadata": {
  "kernelspec": {
   "display_name": "Python 3 (ipykernel)",
   "language": "python",
   "name": "python3"
  },
  "language_info": {
   "codemirror_mode": {
    "name": "ipython",
    "version": 3
   },
   "file_extension": ".py",
   "mimetype": "text/x-python",
   "name": "python",
   "nbconvert_exporter": "python",
   "pygments_lexer": "ipython3",
   "version": "3.8.5"
  },
  "vscode": {
   "interpreter": {
    "hash": "f90a51316803318f0b952c570a4fe32d53aa73ff3300e1da5777ab9e91b8249c"
   }
  }
 },
 "nbformat": 4,
 "nbformat_minor": 5
}
