{
 "cells": [
  {
   "cell_type": "code",
   "execution_count": 1,
   "id": "c02729b4",
   "metadata": {},
   "outputs": [],
   "source": [
    "%load_ext autoreload\n",
    "%autoreload 2"
   ]
  },
  {
   "cell_type": "code",
   "execution_count": 2,
   "id": "4298de95",
   "metadata": {},
   "outputs": [],
   "source": [
    "import json\n",
    "import pandas as pd\n",
    "import subprocess\n",
    "import time\n",
    "from random import sample\n",
    "import ipfshttpclient\n",
    "from os import listdir\n",
    "from os.path import isfile, join\n",
    "import re\n",
    "import praw\n",
    "\n",
    "import substrateinterface\n",
    "from substrateinterface import SubstrateInterface, Keypair\n",
    "from substrateinterface.exceptions import SubstrateRequestException\n",
    "\n",
    "from substrate_helpers import *\n",
    "from REST_API.database_queries import update_db, set_connection\n",
    "import sqlite3"
   ]
  },
  {
   "cell_type": "code",
   "execution_count": 3,
   "id": "780ca96b",
   "metadata": {
    "scrolled": true
   },
   "outputs": [],
   "source": [
    "reddit_creds = json.load(open(\".reddit_creds.json\", \"r\"))\n",
    "reddit = praw.Reddit(\n",
    "    client_id=reddit_creds[\"client_id\"],\n",
    "    client_secret=reddit_creds[\"client_secret\"],\n",
    "    password=reddit_creds[\"password\"],\n",
    "    user_agent=reddit_creds[\"user_agent\"],\n",
    "    username=reddit_creds[\"username\"],\n",
    ")"
   ]
  },
  {
   "cell_type": "code",
   "execution_count": 4,
   "id": "c80d80b8",
   "metadata": {
    "scrolled": true
   },
   "outputs": [],
   "source": [
    "substrate = SubstrateInterface(\n",
    "    url=\"ws://127.0.0.1:9944\",\n",
    "    ss58_format=42,\n",
    "    type_registry_preset='kusama'\n",
    ")\n",
    "bob = Keypair.create_from_uri('//Bob')\n",
    "bob_msa_id = get_msa_id(bob)"
   ]
  },
  {
   "cell_type": "code",
   "execution_count": 5,
   "id": "b299c1ad",
   "metadata": {},
   "outputs": [],
   "source": [
    "con = sqlite3.connect('postthreadV1_write.db')\n",
    "cur = con.cursor()"
   ]
  },
  {
   "cell_type": "code",
   "execution_count": 19,
   "id": "8a40a018",
   "metadata": {},
   "outputs": [],
   "source": [
    "set_connection(con, cur)"
   ]
  },
  {
   "cell_type": "code",
   "execution_count": 7,
   "id": "32f8566f",
   "metadata": {},
   "outputs": [],
   "source": [
    "r_all = reddit.subreddit('all')"
   ]
  },
  {
   "cell_type": "code",
   "execution_count": 8,
   "id": "2aaa501c",
   "metadata": {},
   "outputs": [],
   "source": [
    "client = ipfshttpclient.connect()"
   ]
  },
  {
   "cell_type": "code",
   "execution_count": 9,
   "id": "8e1eb535",
   "metadata": {},
   "outputs": [],
   "source": [
    "path = \"/tmp/\""
   ]
  },
  {
   "cell_type": "code",
   "execution_count": 10,
   "id": "77b71c1c",
   "metadata": {},
   "outputs": [],
   "source": [
    "def mint_reddit_users_msa_ids(post, delegate):\n",
    "    ## USER ##\n",
    "    try:\n",
    "        username = post.author.name\n",
    "        profile_pic = post.author.icon_img\n",
    "    except:\n",
    "        username = \"removed\"\n",
    "        profile_pic = \"removed\"\n",
    "\n",
    "    password = 'password'\n",
    "    user_wallet = Keypair.create_from_uri('//' + username + password)\n",
    "    create_msa_with_delegator(delegate, user_wallet, wait_for_inclusion=False, wait_for_finalization=False)\n",
    "    \n",
    "    return {\"username\": username, \"password\": password, \"profile_pic\": profile_pic, \"user_wallet\": user_wallet}"
   ]
  },
  {
   "cell_type": "code",
   "execution_count": 11,
   "id": "cca922d6",
   "metadata": {
    "scrolled": true
   },
   "outputs": [],
   "source": [
    "def mint_reddit_users_msa_ids_for_posts(posts, delegate):\n",
    "    users = {}\n",
    "    posts_and_comments = posts\n",
    "    for i, (post_name, post) in enumerate(posts.items()):\n",
    "        users[post_name] = {post_name: mint_reddit_users_msa_ids(post, delegate)}\n",
    "        \n",
    "        top_comments = []\n",
    "        for comment in post.comments.list()[:10]:\n",
    "            if comment.parent_id == post.name:\n",
    "                top_comments.append(comment.name)\n",
    "                users[post_name][comment.name] = mint_reddit_users_msa_ids(post, delegate)\n",
    "        for comment in post.comments.list():\n",
    "            if type(comment) != praw.models.reddit.more.MoreComments and comment.parent_id in top_comments:\n",
    "                users[post_name][comment.name] = mint_reddit_users_msa_ids(post, delegate)\n",
    "        \n",
    "    return users"
   ]
  },
  {
   "cell_type": "code",
   "execution_count": 12,
   "id": "0ca0f68b",
   "metadata": {},
   "outputs": [],
   "source": [
    "def mint_comment(post_data_hash, parent_hash, user, comment):      \n",
    "    user_wallet = Keypair.create_from_uri('//' + user['username'] + user['password'])\n",
    "    user_msa_id = get_msa_id(user_wallet)\n",
    "\n",
    "    comment_data = {\n",
    "        \"post_hash\": post_data_hash,\n",
    "        \"parent_hash\": parent_hash,\n",
    "        \"depth\": comment.depth,\n",
    "        \"body\": comment.body,\n",
    "    }\n",
    "\n",
    "    comment_data_hash, receipt_comment = mint_data(comment_data, user_msa_id, comment_schemaId, path+'comments/', wait_for_inclusion=False, wait_for_finalization=False)\n",
    "\n",
    "    ## comment votes ##\n",
    "    receipt_ups = mint_votes(user_msa_id, comment.ups, comment_data_hash, post_data_hash, 'comment')\n",
    "    receipt_downs = mint_votes(user_msa_id, comment.downs, comment_data_hash, post_data_hash, 'comment')\n",
    "    \n",
    "    return comment_data_hash, user_msa_id"
   ]
  },
  {
   "cell_type": "code",
   "execution_count": 72,
   "id": "f6b72d3d",
   "metadata": {},
   "outputs": [],
   "source": [
    "def mint_reddit_posts_and_users(posts, users, delegate):\n",
    "    for i, (post_name, post) in enumerate(posts.items()):\n",
    "        user = users[post.name][post.name]\n",
    "        ## POST ##\n",
    "        post_data = {\n",
    "            \"category\": post.subreddit.display_name,\n",
    "            \"title\": post.title,\n",
    "            \"body\": post.selftext,\n",
    "            \"url\": post.url,\n",
    "            \"is_nsfw\": post.over_18\n",
    "        }\n",
    "        user_wallet = Keypair.create_from_uri('//' + user['username'] + user['password'])\n",
    "        user_msa_id = get_msa_id(user_wallet)\n",
    "        users[post.name][post.name]['user_msa_id'] = user_msa_id\n",
    "        if user_msa_id is None:\n",
    "            print('no user_msa_id')\n",
    "            continue\n",
    "        \n",
    "        receipt_user = mint_user(user_msa_id, user['username'], user['password'], user['profile_pic'], user_wallet)\n",
    "\n",
    "        post_data_hash, receipt_post = mint_data(post_data, user_msa_id, post_schemaId, path+'posts/', \n",
    "                                                 wait_for_inclusion=False, wait_for_finalization=False)\n",
    "\n",
    "        ## post votes ##\n",
    "        receipt_ups = mint_votes(user_msa_id, post.ups, post_data_hash, post_data_hash, 'post', \n",
    "                                                 wait_for_inclusion=False, wait_for_finalization=False)\n",
    "        receipt_downs = mint_votes(user_msa_id, post.downs, post_data_hash, post_data_hash, 'post', \n",
    "                                                 wait_for_inclusion=False, wait_for_finalization=False)\n",
    "        \n",
    "        comment_list = post.comments.list()\n",
    "        top_comments = {}\n",
    "        for comment in comment_list[:10]:\n",
    "            if comment.parent_id == post.name:  \n",
    "                try:\n",
    "                    user = users[post.name][comment.name]     \n",
    "                except:\n",
    "                    continue\n",
    "                comment_data_hash, comment_user_msa_id = mint_comment(post_data_hash, post_data_hash, user, comment)\n",
    "                users[post.name][comment.name]['user_msa_id'] = comment_user_msa_id\n",
    "                top_comments[comment.name] = {\"hash\": comment_data_hash, \"comment_count\": 0}\n",
    "                \n",
    "        if len(comment_list) > 10:\n",
    "            for comment in comment_list[10:]:\n",
    "                if type(comment) != praw.models.reddit.more.MoreComments and comment.parent_id in top_comments and top_comments[comment.parent_id]['comment_count'] < 10:\n",
    "                    try:    \n",
    "                        user = users[post.name][comment.name]    \n",
    "                    except:\n",
    "                        continue\n",
    "                        \n",
    "                    comment_data_hash = mint_comment(post_data_hash, top_comments[comment.parent_id][\"hash\"], user, comment)\n",
    "                    users[post.name][comment.name]['user_msa_id'] = comment_user_msa_id\n",
    "                    top_comments[comment.name] = {\"hash\": comment_data_hash, \"comment_count\": 0}\n",
    "                    top_comments[comment.parent_id][\"comment_count\"] += 1\n",
    "        \n",
    "        ## FOLLOWS ##\n",
    "        for comment_name in sample(top_comments.keys(), min(10, len(top_comments))):\n",
    "            follow_user(user_msa_id, users[post_name][comment_name]['user_msa_id'])\n",
    "            \n",
    "        for comment_name in sample(top_comments.keys(), min(100, len(top_comments))):\n",
    "            follow_user(users[post_name][comment_name]['user_msa_id'], user_msa_id)\n",
    "        \n",
    "        \n",
    "    return True"
   ]
  },
  {
   "cell_type": "markdown",
   "id": "991f3d2e",
   "metadata": {},
   "source": [
    "# DB writer"
   ]
  },
  {
   "cell_type": "code",
   "execution_count": 74,
   "id": "677f9863",
   "metadata": {},
   "outputs": [],
   "source": [
    "all_users = {}\n",
    "all_posts = {}"
   ]
  },
  {
   "cell_type": "code",
   "execution_count": null,
   "id": "638e95f3",
   "metadata": {
    "scrolled": true
   },
   "outputs": [
    {
     "name": "stdout",
     "output_type": "stream",
     "text": [
      "waiting for msa's to post..\n",
      "Done minting\n",
      "post 3\n",
      "comment 9\n",
      "vote 24\n",
      "user 3\n",
      "follow 18\n",
      "Block:  6801\n",
      "\n",
      "post 20\n",
      "comment 172\n",
      "vote 384\n",
      "user 20\n",
      "follow 306\n",
      "Block:  6802\n",
      "\n",
      "post 27\n",
      "comment 169\n",
      "vote 392\n",
      "user 27\n",
      "follow 315\n",
      "Block:  6803\n",
      "\n",
      "post 32\n",
      "comment 163\n",
      "vote 389\n",
      "user 32\n",
      "follow 282\n",
      "Block:  6804\n",
      "\n",
      "post 21\n",
      "comment 84\n",
      "vote 211\n",
      "user 21\n",
      "follow 169\n",
      "Block:  6805\n",
      "\n",
      "Block:  6806\n",
      "\n",
      "Block:  6807\n",
      "\n",
      "Block:  6808\n",
      "\n",
      "Block:  6809\n",
      "\n",
      "Block:  6810\n",
      "\n",
      "Block:  6811\n",
      "\n",
      "Block:  6812\n",
      "\n",
      "Block:  6813\n",
      "\n",
      "Block:  6814\n",
      "\n",
      "Block:  6815\n",
      "\n",
      "Block:  6816\n",
      "\n",
      "Block:  6817\n",
      "\n",
      "Block:  6818\n",
      "\n",
      "Block:  6819\n",
      "\n",
      "Block:  6820\n",
      "\n",
      "Block:  6821\n",
      "\n",
      "Block:  6822\n",
      "\n",
      "Block:  6823\n",
      "\n",
      "Block:  6824\n",
      "\n",
      "Block:  6825\n",
      "\n",
      "Block:  6826\n",
      "\n",
      "waiting for msa's to post..\n",
      "Done minting\n",
      "Block:  6831\n",
      "\n",
      "Block:  6832\n",
      "\n",
      "post 23\n",
      "comment 183\n",
      "vote 412\n",
      "user 23\n",
      "follow 292\n",
      "Block:  6833\n",
      "\n",
      "post 30\n",
      "comment 145\n",
      "vote 350\n",
      "user 30\n",
      "follow 273\n",
      "Block:  6834\n",
      "\n",
      "Block:  6835\n",
      "\n",
      "Block:  6836\n",
      "\n",
      "Block:  6837\n",
      "\n",
      "Block:  6838\n",
      "\n",
      "Block:  6839\n",
      "\n",
      "Block:  6840\n",
      "\n",
      "Block:  6841\n",
      "\n",
      "Block:  6842\n",
      "\n",
      "Block:  6843\n",
      "\n",
      "Block:  6844\n",
      "\n",
      "Block:  6845\n",
      "\n",
      "Block:  6846\n",
      "\n",
      "Block:  6847\n",
      "\n",
      "Block:  6848\n",
      "\n",
      "Block:  6849\n",
      "\n",
      "Block:  6850\n",
      "\n",
      "Block:  6851\n",
      "\n",
      "Block:  6852\n",
      "\n",
      "Block:  6853\n",
      "\n",
      "Block:  6854\n",
      "\n",
      "Block:  6855\n",
      "\n",
      "Block:  6856\n",
      "\n",
      "waiting for msa's to post..\n",
      "Done minting\n",
      "Block:  6863\n",
      "\n",
      "Block:  6864\n",
      "\n",
      "post 20\n",
      "comment 175\n",
      "vote 390\n",
      "user 21\n",
      "follow 291\n",
      "Block:  6865\n",
      "\n",
      "post 25\n",
      "comment 169\n",
      "vote 386\n",
      "user 24\n",
      "follow 305\n",
      "Block:  6866\n",
      "\n",
      "post 4\n",
      "comment 36\n",
      "vote 82\n",
      "user 4\n",
      "follow 63\n",
      "Block:  6867\n",
      "\n",
      "Block:  6868\n",
      "\n",
      "Block:  6869\n",
      "\n",
      "Block:  6870\n",
      "\n",
      "Block:  6871\n",
      "\n",
      "Block:  6872\n",
      "\n",
      "Block:  6873\n",
      "\n",
      "Block:  6874\n",
      "\n",
      "Block:  6875\n",
      "\n",
      "Block:  6876\n",
      "\n",
      "Block:  6877\n",
      "\n",
      "Block:  6878\n",
      "\n",
      "Block:  6879\n",
      "\n",
      "Block:  6880\n",
      "\n",
      "Block:  6881\n",
      "\n",
      "Block:  6882\n",
      "\n",
      "Block:  6883\n",
      "\n",
      "Block:  6884\n",
      "\n",
      "Block:  6885\n",
      "\n",
      "follow 946\n",
      "Block:  6886\n",
      "\n",
      "follow 953\n",
      "Block:  6887\n",
      "\n",
      "Failed to send: {'code': 1014, 'message': 'Priority is too low: (1278 vs 775)', 'data': 'The transaction has too low priority to replace another transaction already in the pool.'}\n",
      "Failed to send: {'code': 1014, 'message': 'Priority is too low: (1278 vs 775)', 'data': 'The transaction has too low priority to replace another transaction already in the pool.'}\n",
      "Failed to send: {'code': 1014, 'message': 'Priority is too low: (1278 vs 775)', 'data': 'The transaction has too low priority to replace another transaction already in the pool.'}\n",
      "Failed to send: {'code': 1014, 'message': 'Priority is too low: (1278 vs 775)', 'data': 'The transaction has too low priority to replace another transaction already in the pool.'}\n",
      "Failed to send: {'code': 1014, 'message': 'Priority is too low: (1278 vs 775)', 'data': 'The transaction has too low priority to replace another transaction already in the pool.'}\n",
      "Failed to send: {'code': 1014, 'message': 'Priority is too low: (1278 vs 775)', 'data': 'The transaction has too low priority to replace another transaction already in the pool.'}\n",
      "Failed to send: {'code': 1014, 'message': 'Priority is too low: (1278 vs 775)', 'data': 'The transaction has too low priority to replace another transaction already in the pool.'}\n",
      "Failed to send: {'code': 1014, 'message': 'Priority is too low: (1278 vs 775)', 'data': 'The transaction has too low priority to replace another transaction already in the pool.'}\n",
      "Failed to send: {'code': 1014, 'message': 'Priority is too low: (1278 vs 775)', 'data': 'The transaction has too low priority to replace another transaction already in the pool.'}\n",
      "Failed to send: {'code': 1014, 'message': 'Priority is too low: (1278 vs 775)', 'data': 'The transaction has too low priority to replace another transaction already in the pool.'}\n",
      "Failed to send: {'code': 1014, 'message': 'Priority is too low: (1278 vs 775)', 'data': 'The transaction has too low priority to replace another transaction already in the pool.'}\n",
      "Failed to send: {'code': 1014, 'message': 'Priority is too low: (1278 vs 775)', 'data': 'The transaction has too low priority to replace another transaction already in the pool.'}\n",
      "Failed to send: {'code': 1014, 'message': 'Priority is too low: (1278 vs 775)', 'data': 'The transaction has too low priority to replace another transaction already in the pool.'}\n",
      "Failed to send: {'code': 1014, 'message': 'Priority is too low: (1278 vs 775)', 'data': 'The transaction has too low priority to replace another transaction already in the pool.'}\n",
      "Failed to send: {'code': 1014, 'message': 'Priority is too low: (1278 vs 775)', 'data': 'The transaction has too low priority to replace another transaction already in the pool.'}\n",
      "Failed to send: {'code': 1014, 'message': 'Priority is too low: (1278 vs 775)', 'data': 'The transaction has too low priority to replace another transaction already in the pool.'}\n",
      "Failed to send: {'code': 1014, 'message': 'Priority is too low: (1278 vs 775)', 'data': 'The transaction has too low priority to replace another transaction already in the pool.'}\n",
      "Failed to send: {'code': 1014, 'message': 'Priority is too low: (1278 vs 775)', 'data': 'The transaction has too low priority to replace another transaction already in the pool.'}\n",
      "Failed to send: {'code': 1014, 'message': 'Priority is too low: (1278 vs 775)', 'data': 'The transaction has too low priority to replace another transaction already in the pool.'}\n",
      "Failed to send: {'code': 1014, 'message': 'Priority is too low: (1278 vs 775)', 'data': 'The transaction has too low priority to replace another transaction already in the pool.'}\n",
      "Failed to send: {'code': 1014, 'message': 'Priority is too low: (1278 vs 775)', 'data': 'The transaction has too low priority to replace another transaction already in the pool.'}\n",
      "Failed to send: {'code': 1014, 'message': 'Priority is too low: (1278 vs 775)', 'data': 'The transaction has too low priority to replace another transaction already in the pool.'}\n",
      "Failed to send: {'code': 1014, 'message': 'Priority is too low: (1278 vs 775)', 'data': 'The transaction has too low priority to replace another transaction already in the pool.'}\n",
      "Failed to send: {'code': 1014, 'message': 'Priority is too low: (1278 vs 775)', 'data': 'The transaction has too low priority to replace another transaction already in the pool.'}\n",
      "Failed to send: {'code': 1014, 'message': 'Priority is too low: (1278 vs 775)', 'data': 'The transaction has too low priority to replace another transaction already in the pool.'}\n",
      "Failed to send: {'code': 1014, 'message': 'Priority is too low: (1278 vs 775)', 'data': 'The transaction has too low priority to replace another transaction already in the pool.'}\n",
      "Failed to send: {'code': 1014, 'message': 'Priority is too low: (1278 vs 775)', 'data': 'The transaction has too low priority to replace another transaction already in the pool.'}\n",
      "Failed to send: {'code': 1014, 'message': 'Priority is too low: (1278 vs 775)', 'data': 'The transaction has too low priority to replace another transaction already in the pool.'}\n",
      "Failed to send: {'code': 1014, 'message': 'Priority is too low: (1278 vs 775)', 'data': 'The transaction has too low priority to replace another transaction already in the pool.'}\n",
      "Failed to send: {'code': 1014, 'message': 'Priority is too low: (1278 vs 775)', 'data': 'The transaction has too low priority to replace another transaction already in the pool.'}\n",
      "Failed to send: {'code': 1014, 'message': 'Priority is too low: (1278 vs 775)', 'data': 'The transaction has too low priority to replace another transaction already in the pool.'}\n",
      "Failed to send: {'code': 1014, 'message': 'Priority is too low: (1278 vs 775)', 'data': 'The transaction has too low priority to replace another transaction already in the pool.'}\n",
      "Failed to send: {'code': 1014, 'message': 'Priority is too low: (1278 vs 775)', 'data': 'The transaction has too low priority to replace another transaction already in the pool.'}\n",
      "Failed to send: {'code': 1014, 'message': 'Priority is too low: (1278 vs 775)', 'data': 'The transaction has too low priority to replace another transaction already in the pool.'}\n",
      "Failed to send: {'code': 1014, 'message': 'Priority is too low: (1278 vs 775)', 'data': 'The transaction has too low priority to replace another transaction already in the pool.'}\n",
      "Failed to send: {'code': 1014, 'message': 'Priority is too low: (1278 vs 775)', 'data': 'The transaction has too low priority to replace another transaction already in the pool.'}\n",
      "Failed to send: {'code': 1014, 'message': 'Priority is too low: (1278 vs 775)', 'data': 'The transaction has too low priority to replace another transaction already in the pool.'}\n",
      "Failed to send: {'code': 1014, 'message': 'Priority is too low: (1278 vs 775)', 'data': 'The transaction has too low priority to replace another transaction already in the pool.'}\n",
      "Failed to send: {'code': 1014, 'message': 'Priority is too low: (1278 vs 775)', 'data': 'The transaction has too low priority to replace another transaction already in the pool.'}\n"
     ]
    },
    {
     "name": "stdout",
     "output_type": "stream",
     "text": [
      "Failed to send: {'code': 1014, 'message': 'Priority is too low: (1278 vs 775)', 'data': 'The transaction has too low priority to replace another transaction already in the pool.'}\n",
      "Failed to send: {'code': 1014, 'message': 'Priority is too low: (1278 vs 775)', 'data': 'The transaction has too low priority to replace another transaction already in the pool.'}\n",
      "Failed to send: {'code': 1014, 'message': 'Priority is too low: (1278 vs 775)', 'data': 'The transaction has too low priority to replace another transaction already in the pool.'}\n",
      "Failed to send: {'code': 1014, 'message': 'Priority is too low: (1278 vs 775)', 'data': 'The transaction has too low priority to replace another transaction already in the pool.'}\n",
      "Failed to send: {'code': 1014, 'message': 'Priority is too low: (1278 vs 775)', 'data': 'The transaction has too low priority to replace another transaction already in the pool.'}\n",
      "Failed to send: {'code': 1014, 'message': 'Priority is too low: (1278 vs 775)', 'data': 'The transaction has too low priority to replace another transaction already in the pool.'}\n",
      "Failed to send: {'code': 1014, 'message': 'Priority is too low: (1278 vs 775)', 'data': 'The transaction has too low priority to replace another transaction already in the pool.'}\n",
      "Failed to send: {'code': 1014, 'message': 'Priority is too low: (1278 vs 775)', 'data': 'The transaction has too low priority to replace another transaction already in the pool.'}\n",
      "Failed to send: {'code': 1014, 'message': 'Priority is too low: (1278 vs 775)', 'data': 'The transaction has too low priority to replace another transaction already in the pool.'}\n",
      "Failed to send: {'code': 1014, 'message': 'Priority is too low: (1278 vs 775)', 'data': 'The transaction has too low priority to replace another transaction already in the pool.'}\n",
      "Failed to send: {'code': 1014, 'message': 'Priority is too low: (1278 vs 775)', 'data': 'The transaction has too low priority to replace another transaction already in the pool.'}\n",
      "Failed to send: {'code': 1014, 'message': 'Priority is too low: (1278 vs 775)', 'data': 'The transaction has too low priority to replace another transaction already in the pool.'}\n",
      "Failed to send: {'code': 1014, 'message': 'Priority is too low: (1278 vs 775)', 'data': 'The transaction has too low priority to replace another transaction already in the pool.'}\n",
      "Failed to send: {'code': 1014, 'message': 'Priority is too low: (1278 vs 775)', 'data': 'The transaction has too low priority to replace another transaction already in the pool.'}\n",
      "Failed to send: {'code': 1014, 'message': 'Priority is too low: (1278 vs 775)', 'data': 'The transaction has too low priority to replace another transaction already in the pool.'}\n",
      "Failed to send: {'code': 1014, 'message': 'Priority is too low: (1278 vs 775)', 'data': 'The transaction has too low priority to replace another transaction already in the pool.'}\n",
      "Failed to send: {'code': 1014, 'message': 'Priority is too low: (1278 vs 775)', 'data': 'The transaction has too low priority to replace another transaction already in the pool.'}\n",
      "Failed to send: {'code': 1014, 'message': 'Priority is too low: (1278 vs 775)', 'data': 'The transaction has too low priority to replace another transaction already in the pool.'}\n",
      "Failed to send: {'code': 1014, 'message': 'Priority is too low: (1278 vs 775)', 'data': 'The transaction has too low priority to replace another transaction already in the pool.'}\n",
      "Failed to send: {'code': 1014, 'message': 'Priority is too low: (1278 vs 775)', 'data': 'The transaction has too low priority to replace another transaction already in the pool.'}\n",
      "Failed to send: {'code': 1014, 'message': 'Priority is too low: (1278 vs 775)', 'data': 'The transaction has too low priority to replace another transaction already in the pool.'}\n",
      "Failed to send: {'code': 1014, 'message': 'Priority is too low: (1278 vs 775)', 'data': 'The transaction has too low priority to replace another transaction already in the pool.'}\n",
      "Failed to send: {'code': 1014, 'message': 'Priority is too low: (1278 vs 775)', 'data': 'The transaction has too low priority to replace another transaction already in the pool.'}\n",
      "Failed to send: {'code': 1014, 'message': 'Priority is too low: (1278 vs 775)', 'data': 'The transaction has too low priority to replace another transaction already in the pool.'}\n",
      "Failed to send: {'code': 1014, 'message': 'Priority is too low: (1278 vs 775)', 'data': 'The transaction has too low priority to replace another transaction already in the pool.'}\n",
      "Failed to send: {'code': 1014, 'message': 'Priority is too low: (1278 vs 775)', 'data': 'The transaction has too low priority to replace another transaction already in the pool.'}\n",
      "Failed to send: {'code': 1014, 'message': 'Priority is too low: (1278 vs 775)', 'data': 'The transaction has too low priority to replace another transaction already in the pool.'}\n",
      "Failed to send: {'code': 1014, 'message': 'Priority is too low: (1278 vs 775)', 'data': 'The transaction has too low priority to replace another transaction already in the pool.'}\n",
      "Failed to send: {'code': 1014, 'message': 'Priority is too low: (1278 vs 775)', 'data': 'The transaction has too low priority to replace another transaction already in the pool.'}\n",
      "Failed to send: {'code': 1014, 'message': 'Priority is too low: (1278 vs 775)', 'data': 'The transaction has too low priority to replace another transaction already in the pool.'}\n",
      "Failed to send: {'code': 1014, 'message': 'Priority is too low: (1278 vs 775)', 'data': 'The transaction has too low priority to replace another transaction already in the pool.'}\n",
      "Failed to send: {'code': 1014, 'message': 'Priority is too low: (1278 vs 775)', 'data': 'The transaction has too low priority to replace another transaction already in the pool.'}\n",
      "Failed to send: {'code': 1014, 'message': 'Priority is too low: (1278 vs 775)', 'data': 'The transaction has too low priority to replace another transaction already in the pool.'}\n",
      "Failed to send: {'code': 1014, 'message': 'Priority is too low: (1278 vs 775)', 'data': 'The transaction has too low priority to replace another transaction already in the pool.'}\n",
      "Failed to send: {'code': 1014, 'message': 'Priority is too low: (1278 vs 775)', 'data': 'The transaction has too low priority to replace another transaction already in the pool.'}\n",
      "Failed to send: {'code': 1014, 'message': 'Priority is too low: (1278 vs 775)', 'data': 'The transaction has too low priority to replace another transaction already in the pool.'}\n",
      "Failed to send: {'code': 1014, 'message': 'Priority is too low: (1278 vs 775)', 'data': 'The transaction has too low priority to replace another transaction already in the pool.'}\n",
      "Failed to send: {'code': 1014, 'message': 'Priority is too low: (1278 vs 775)', 'data': 'The transaction has too low priority to replace another transaction already in the pool.'}\n",
      "Failed to send: {'code': 1014, 'message': 'Priority is too low: (1278 vs 775)', 'data': 'The transaction has too low priority to replace another transaction already in the pool.'}\n",
      "Failed to send: {'code': 1014, 'message': 'Priority is too low: (1278 vs 775)', 'data': 'The transaction has too low priority to replace another transaction already in the pool.'}\n",
      "Failed to send: {'code': 1014, 'message': 'Priority is too low: (1278 vs 775)', 'data': 'The transaction has too low priority to replace another transaction already in the pool.'}\n",
      "Failed to send: {'code': 1014, 'message': 'Priority is too low: (1278 vs 775)', 'data': 'The transaction has too low priority to replace another transaction already in the pool.'}\n",
      "Failed to send: {'code': 1014, 'message': 'Priority is too low: (1278 vs 775)', 'data': 'The transaction has too low priority to replace another transaction already in the pool.'}\n",
      "Failed to send: {'code': 1014, 'message': 'Priority is too low: (1278 vs 775)', 'data': 'The transaction has too low priority to replace another transaction already in the pool.'}\n",
      "Failed to send: {'code': 1014, 'message': 'Priority is too low: (1278 vs 775)', 'data': 'The transaction has too low priority to replace another transaction already in the pool.'}\n",
      "Failed to send: {'code': 1014, 'message': 'Priority is too low: (1278 vs 775)', 'data': 'The transaction has too low priority to replace another transaction already in the pool.'}\n",
      "Failed to send: {'code': 1014, 'message': 'Priority is too low: (1278 vs 775)', 'data': 'The transaction has too low priority to replace another transaction already in the pool.'}\n",
      "Failed to send: {'code': 1014, 'message': 'Priority is too low: (1278 vs 775)', 'data': 'The transaction has too low priority to replace another transaction already in the pool.'}\n"
     ]
    },
    {
     "name": "stdout",
     "output_type": "stream",
     "text": [
      "Failed to send: {'code': 1014, 'message': 'Priority is too low: (1278 vs 775)', 'data': 'The transaction has too low priority to replace another transaction already in the pool.'}\n",
      "Failed to send: {'code': 1014, 'message': 'Priority is too low: (1278 vs 775)', 'data': 'The transaction has too low priority to replace another transaction already in the pool.'}\n",
      "Failed to send: {'code': 1014, 'message': 'Priority is too low: (1278 vs 775)', 'data': 'The transaction has too low priority to replace another transaction already in the pool.'}\n",
      "Failed to send: {'code': 1014, 'message': 'Priority is too low: (1278 vs 775)', 'data': 'The transaction has too low priority to replace another transaction already in the pool.'}\n",
      "Failed to send: {'code': 1014, 'message': 'Priority is too low: (1278 vs 775)', 'data': 'The transaction has too low priority to replace another transaction already in the pool.'}\n",
      "Failed to send: {'code': 1014, 'message': 'Priority is too low: (1278 vs 775)', 'data': 'The transaction has too low priority to replace another transaction already in the pool.'}\n",
      "Failed to send: {'code': 1014, 'message': 'Priority is too low: (1278 vs 775)', 'data': 'The transaction has too low priority to replace another transaction already in the pool.'}\n",
      "Failed to send: {'code': 1014, 'message': 'Priority is too low: (1278 vs 775)', 'data': 'The transaction has too low priority to replace another transaction already in the pool.'}\n",
      "Failed to send: {'code': 1014, 'message': 'Priority is too low: (1278 vs 775)', 'data': 'The transaction has too low priority to replace another transaction already in the pool.'}\n",
      "Failed to send: {'code': 1014, 'message': 'Priority is too low: (1278 vs 775)', 'data': 'The transaction has too low priority to replace another transaction already in the pool.'}\n",
      "Failed to send: {'code': 1014, 'message': 'Priority is too low: (1278 vs 775)', 'data': 'The transaction has too low priority to replace another transaction already in the pool.'}\n",
      "Failed to send: {'code': 1014, 'message': 'Priority is too low: (1278 vs 775)', 'data': 'The transaction has too low priority to replace another transaction already in the pool.'}\n",
      "Failed to send: {'code': 1014, 'message': 'Priority is too low: (1278 vs 775)', 'data': 'The transaction has too low priority to replace another transaction already in the pool.'}\n",
      "Failed to send: {'code': 1014, 'message': 'Priority is too low: (1278 vs 775)', 'data': 'The transaction has too low priority to replace another transaction already in the pool.'}\n",
      "Failed to send: {'code': 1014, 'message': 'Priority is too low: (1278 vs 775)', 'data': 'The transaction has too low priority to replace another transaction already in the pool.'}\n",
      "Failed to send: {'code': 1014, 'message': 'Priority is too low: (1278 vs 775)', 'data': 'The transaction has too low priority to replace another transaction already in the pool.'}\n",
      "Failed to send: {'code': 1014, 'message': 'Priority is too low: (1278 vs 775)', 'data': 'The transaction has too low priority to replace another transaction already in the pool.'}\n",
      "Failed to send: {'code': 1014, 'message': 'Priority is too low: (1278 vs 775)', 'data': 'The transaction has too low priority to replace another transaction already in the pool.'}\n",
      "Failed to send: {'code': 1014, 'message': 'Priority is too low: (1278 vs 775)', 'data': 'The transaction has too low priority to replace another transaction already in the pool.'}\n",
      "Failed to send: {'code': 1014, 'message': 'Priority is too low: (1278 vs 775)', 'data': 'The transaction has too low priority to replace another transaction already in the pool.'}\n",
      "Failed to send: {'code': 1014, 'message': 'Priority is too low: (1278 vs 775)', 'data': 'The transaction has too low priority to replace another transaction already in the pool.'}\n",
      "Failed to send: {'code': 1014, 'message': 'Priority is too low: (1278 vs 775)', 'data': 'The transaction has too low priority to replace another transaction already in the pool.'}\n",
      "Failed to send: {'code': 1014, 'message': 'Priority is too low: (1278 vs 775)', 'data': 'The transaction has too low priority to replace another transaction already in the pool.'}\n",
      "Failed to send: {'code': 1014, 'message': 'Priority is too low: (1278 vs 775)', 'data': 'The transaction has too low priority to replace another transaction already in the pool.'}\n",
      "Failed to send: {'code': 1014, 'message': 'Priority is too low: (1278 vs 775)', 'data': 'The transaction has too low priority to replace another transaction already in the pool.'}\n",
      "Failed to send: {'code': 1014, 'message': 'Priority is too low: (1278 vs 775)', 'data': 'The transaction has too low priority to replace another transaction already in the pool.'}\n",
      "Failed to send: {'code': 1014, 'message': 'Priority is too low: (1278 vs 775)', 'data': 'The transaction has too low priority to replace another transaction already in the pool.'}\n",
      "Failed to send: {'code': 1014, 'message': 'Priority is too low: (1278 vs 775)', 'data': 'The transaction has too low priority to replace another transaction already in the pool.'}\n",
      "Failed to send: {'code': 1014, 'message': 'Priority is too low: (1278 vs 775)', 'data': 'The transaction has too low priority to replace another transaction already in the pool.'}\n",
      "Failed to send: {'code': 1014, 'message': 'Priority is too low: (1278 vs 775)', 'data': 'The transaction has too low priority to replace another transaction already in the pool.'}\n",
      "Failed to send: {'code': 1014, 'message': 'Priority is too low: (1278 vs 775)', 'data': 'The transaction has too low priority to replace another transaction already in the pool.'}\n",
      "Failed to send: {'code': 1014, 'message': 'Priority is too low: (1278 vs 775)', 'data': 'The transaction has too low priority to replace another transaction already in the pool.'}\n",
      "Failed to send: {'code': 1014, 'message': 'Priority is too low: (1278 vs 775)', 'data': 'The transaction has too low priority to replace another transaction already in the pool.'}\n",
      "Failed to send: {'code': 1014, 'message': 'Priority is too low: (1278 vs 775)', 'data': 'The transaction has too low priority to replace another transaction already in the pool.'}\n",
      "Failed to send: {'code': 1014, 'message': 'Priority is too low: (1278 vs 775)', 'data': 'The transaction has too low priority to replace another transaction already in the pool.'}\n",
      "Failed to send: {'code': 1014, 'message': 'Priority is too low: (1278 vs 775)', 'data': 'The transaction has too low priority to replace another transaction already in the pool.'}\n",
      "Failed to send: {'code': 1014, 'message': 'Priority is too low: (1278 vs 775)', 'data': 'The transaction has too low priority to replace another transaction already in the pool.'}\n",
      "Failed to send: {'code': 1014, 'message': 'Priority is too low: (1278 vs 775)', 'data': 'The transaction has too low priority to replace another transaction already in the pool.'}\n",
      "Failed to send: {'code': 1014, 'message': 'Priority is too low: (1278 vs 775)', 'data': 'The transaction has too low priority to replace another transaction already in the pool.'}\n",
      "Failed to send: {'code': 1014, 'message': 'Priority is too low: (1278 vs 775)', 'data': 'The transaction has too low priority to replace another transaction already in the pool.'}\n",
      "Failed to send: {'code': 1014, 'message': 'Priority is too low: (1278 vs 775)', 'data': 'The transaction has too low priority to replace another transaction already in the pool.'}\n",
      "Failed to send: {'code': 1014, 'message': 'Priority is too low: (1278 vs 775)', 'data': 'The transaction has too low priority to replace another transaction already in the pool.'}\n",
      "Failed to send: {'code': 1014, 'message': 'Priority is too low: (1278 vs 775)', 'data': 'The transaction has too low priority to replace another transaction already in the pool.'}\n",
      "Failed to send: {'code': 1014, 'message': 'Priority is too low: (1278 vs 775)', 'data': 'The transaction has too low priority to replace another transaction already in the pool.'}\n",
      "Failed to send: {'code': 1014, 'message': 'Priority is too low: (1278 vs 775)', 'data': 'The transaction has too low priority to replace another transaction already in the pool.'}\n",
      "Failed to send: {'code': 1014, 'message': 'Priority is too low: (1278 vs 775)', 'data': 'The transaction has too low priority to replace another transaction already in the pool.'}\n"
     ]
    },
    {
     "name": "stdout",
     "output_type": "stream",
     "text": [
      "Failed to send: {'code': 1014, 'message': 'Priority is too low: (1278 vs 775)', 'data': 'The transaction has too low priority to replace another transaction already in the pool.'}\n",
      "Failed to send: {'code': 1014, 'message': 'Priority is too low: (1278 vs 775)', 'data': 'The transaction has too low priority to replace another transaction already in the pool.'}\n",
      "Failed to send: {'code': 1014, 'message': 'Priority is too low: (1278 vs 775)', 'data': 'The transaction has too low priority to replace another transaction already in the pool.'}\n",
      "Failed to send: {'code': 1014, 'message': 'Priority is too low: (1278 vs 775)', 'data': 'The transaction has too low priority to replace another transaction already in the pool.'}\n",
      "Failed to send: {'code': 1014, 'message': 'Priority is too low: (1278 vs 775)', 'data': 'The transaction has too low priority to replace another transaction already in the pool.'}\n",
      "Failed to send: {'code': 1014, 'message': 'Priority is too low: (1278 vs 775)', 'data': 'The transaction has too low priority to replace another transaction already in the pool.'}\n",
      "Failed to send: {'code': 1014, 'message': 'Priority is too low: (1278 vs 775)', 'data': 'The transaction has too low priority to replace another transaction already in the pool.'}\n",
      "waiting for msa's to post..\n",
      "no user_msa_id\n",
      "no user_msa_id\n",
      "no user_msa_id\n",
      "no user_msa_id\n",
      "no user_msa_id\n",
      "no user_msa_id\n",
      "no user_msa_id\n",
      "no user_msa_id\n",
      "no user_msa_id\n",
      "no user_msa_id\n",
      "no user_msa_id\n",
      "no user_msa_id\n",
      "no user_msa_id\n",
      "no user_msa_id\n",
      "no user_msa_id\n",
      "no user_msa_id\n",
      "no user_msa_id\n",
      "no user_msa_id\n",
      "no user_msa_id\n",
      "no user_msa_id\n",
      "no user_msa_id\n",
      "no user_msa_id\n",
      "no user_msa_id\n",
      "no user_msa_id\n",
      "no user_msa_id\n",
      "no user_msa_id\n",
      "no user_msa_id\n",
      "no user_msa_id\n",
      "no user_msa_id\n",
      "no user_msa_id\n",
      "no user_msa_id\n",
      "no user_msa_id\n",
      "no user_msa_id\n",
      "no user_msa_id\n",
      "no user_msa_id\n",
      "no user_msa_id\n",
      "no user_msa_id\n",
      "Done minting\n",
      "follow 4626\n",
      "Block:  6892\n",
      "\n",
      "follow 959\n",
      "Block:  6893\n",
      "\n",
      "post 5\n",
      "comment 30\n",
      "vote 70\n",
      "user 5\n",
      "follow 256\n",
      "Block:  6894\n",
      "\n"
     ]
    }
   ],
   "source": [
    "minted_time = 0\n",
    "last_block = 0\n",
    "while True:\n",
    "    if (time.time() - minted_time) / 60 > 10:\n",
    "#         posts = {p.name: p for p in r_all.top(time_filter='week') if p.name not in all_posts}\n",
    "#         all_posts.update(posts)\n",
    "#         all_users.update(mint_reddit_users_msa_ids_for_posts(posts, bob))\n",
    "\n",
    "#         posts = {p.name: p for p in r_all.top(time_filter='day') if p.name not in all_posts}\n",
    "#         all_posts.update(posts)\n",
    "#         all_users.update(mint_reddit_users_msa_ids_for_posts(posts, bob))\n",
    "\n",
    "        posts = {p.name: p for p in r_all.top(time_filter='hour') if p.name not in all_posts}\n",
    "        all_posts.update(posts)\n",
    "        all_users.update(mint_reddit_users_msa_ids_for_posts(posts, bob))\n",
    "        time.sleep(60*1)\n",
    "        print(\"waiting for msa's to post..\")\n",
    "        mint_reddit_posts_and_users(posts, all_users, bob)\n",
    "\n",
    "        time_to_mint_posts = False\n",
    "        minted_time = time.time()\n",
    "        print('Done minting')\n",
    "    \n",
    "    current_block = substrate.get_block()['header']['number']\n",
    "    if current_block != last_block:\n",
    "        last_block = update_db(\n",
    "            query_start=True, \n",
    "            backfill=False, schemaToUpdate=None\n",
    "        )\n",
    "        print(\"Block: \", current_block)\n",
    "        print()\n",
    "        \n",
    "    time.sleep(1)\n",
    "    "
   ]
  },
  {
   "cell_type": "code",
   "execution_count": null,
   "id": "0ce70020",
   "metadata": {},
   "outputs": [],
   "source": []
  },
  {
   "cell_type": "code",
   "execution_count": 70,
   "id": "67458a3b",
   "metadata": {},
   "outputs": [
    {
     "name": "stdout",
     "output_type": "stream",
     "text": [
      "post 107\n",
      "Failed to get ipfs hash  {\"nothing\": nothing}\n",
      "comment 1017\n",
      "vote 4702\n",
      "user 341\n",
      "follow 2017\n"
     ]
    },
    {
     "data": {
      "text/plain": [
       "6782"
      ]
     },
     "execution_count": 70,
     "metadata": {},
     "output_type": "execute_result"
    }
   ],
   "source": [
    "update_db(backfill=True, schemaToUpdate=None)"
   ]
  },
  {
   "cell_type": "code",
   "execution_count": 67,
   "id": "b8b6671e",
   "metadata": {},
   "outputs": [],
   "source": [
    "set_connection(con, cur)"
   ]
  },
  {
   "cell_type": "code",
   "execution_count": 25,
   "id": "50e13483",
   "metadata": {
    "scrolled": true
   },
   "outputs": [
    {
     "name": "stdout",
     "output_type": "stream",
     "text": [
      "post 3498 6731 {'jsonrpc': '2.0', 'result': {'content': [], 'has_next': False}, 'id': 22}\n",
      "comment 3498 6731 {'jsonrpc': '2.0', 'result': {'content': [], 'has_next': False}, 'id': 25}\n",
      "vote 3498 6731 {'jsonrpc': '2.0', 'result': {'content': [], 'has_next': False}, 'id': 28}\n",
      "user 3956 6731 {'jsonrpc': '2.0', 'result': {'content': [], 'has_next': False}, 'id': 31}\n",
      "follow 3956 6731 {'jsonrpc': '2.0', 'result': {'content': [], 'has_next': False}, 'id': 34}\n",
      "Block:  6731\n",
      "\n"
     ]
    }
   ],
   "source": [
    "    current_block = substrate.get_block()['header']['number']\n",
    "    last_block = update_db(\n",
    "        query_start=True, \n",
    "        backfill=False, schemaToUpdate=None\n",
    "    )\n",
    "    print(\"Block: \", current_block)\n",
    "    print()"
   ]
  },
  {
   "cell_type": "code",
   "execution_count": 36,
   "id": "c789e486",
   "metadata": {},
   "outputs": [],
   "source": [
    "    data = '{\"nothing\": nothing}'\n",
    "    user_msa_id = 382\n",
    "    schemaId = 7\n",
    "    path=None\n",
    "    wait_for_inclusion=True\n",
    "    wait_for_finalization=False\n",
    "    \n",
    "    if path is not None:\n",
    "        # write to temp file first to get hash from ipfs\n",
    "        json.dump(data, open(f\"temp.json\", \"w\"))\n",
    "        data_hash = client.add('temp.json', only_hash=True)[\"Hash\"]\n",
    "        \n",
    "        # use hash to check if we already added this post to the blockchain\n",
    "        # if so then skip\n",
    "        data_files = [f for f in listdir(path) if isfile(join(path, f))]\n",
    "        file = f\"{path}{data_hash}.json\"\n",
    "        if file in data_files:\n",
    "            print(data_hash, None)\n",
    "\n",
    "        json.dump(data, open(file, \"w\"))\n",
    "        res_post = client.add(file)\n",
    "        message = res_post[\"Hash\"]\n",
    "    else:\n",
    "        message = data\n",
    "\n",
    "    call_params = {\n",
    "        \"on_behalf_of\": user_msa_id,\n",
    "        \"schema_id\": schemaId,\n",
    "        \"payload\": f\"{message}\",\n",
    "    }\n",
    "    receipt_post = make_call(\"Messages\", \"add\", call_params, delegate, \n",
    "                        wait_for_inclusion=wait_for_inclusion, wait_for_finalization=wait_for_finalization)"
   ]
  },
  {
   "cell_type": "code",
   "execution_count": 37,
   "id": "29c12e39",
   "metadata": {},
   "outputs": [],
   "source": [
    "receipt_post.error_message"
   ]
  },
  {
   "cell_type": "code",
   "execution_count": 52,
   "id": "c3aad064",
   "metadata": {},
   "outputs": [
    {
     "data": {
      "text/plain": [
       "<GenericExtrinsic(value={'extrinsic_hash': '0x31b45d38fe0a0e3fe9bb50f59b0b7f2117b8fd20dd944f14340f30581ac1f3a5', 'extrinsic_length': 165, 'address': '5FHneW46xGXgs5mUiveU4sbTyGBzmstUspZC92UhjJM694ty', 'signature': {'Sr25519': '0xc200eb7cfe5fe6d0921663b4775b80c5a0e9aead4228e0ca12e75686c571e32a4d8f08b88688e943ae1528288ace47ec57b019156d12ec2bae630ac4ca68c481'}, 'era': '00', 'nonce': 40305, 'tip': 0, 'call': {'call_index': '0x2300', 'call_function': 'add', 'call_module': 'Messages', 'call_args': [{'name': 'on_behalf_of', 'type': 'Option<MessageSourceId>', 'value': 741}, {'name': 'schema_id', 'type': 'SchemaId', 'value': 7}, {'name': 'payload', 'type': 'Bytes', 'value': 'QmUK9DdL2iNj6ttSz9xvcFA72Ru3Sj64PtKdzwMkGFScza'}], 'call_hash': '0x56a75bcb0ef230873df4513c48e4251e08875caf229e351e9b50dc713c5468e8'}})>"
      ]
     },
     "execution_count": 52,
     "metadata": {},
     "output_type": "execute_result"
    }
   ],
   "source": [
    "receipt_post.extrinsic"
   ]
  },
  {
   "cell_type": "code",
   "execution_count": null,
   "id": "9a03ce84",
   "metadata": {},
   "outputs": [],
   "source": []
  },
  {
   "cell_type": "code",
   "execution_count": 42,
   "id": "6f5387ad",
   "metadata": {},
   "outputs": [
    {
     "data": {
      "text/plain": [
       "(6731, 6750)"
      ]
     },
     "execution_count": 42,
     "metadata": {},
     "output_type": "execute_result"
    }
   ],
   "source": [
    "current_block, substrate.get_block()['header']['number']"
   ]
  },
  {
   "cell_type": "code",
   "execution_count": 62,
   "id": "c1f1263d",
   "metadata": {},
   "outputs": [
    {
     "data": {
      "text/plain": [
       "{'jsonrpc': '2.0',\n",
       " 'result': {'content': [{'block_number': 6748,\n",
       "    'index': 0,\n",
       "    'msa_id': 382,\n",
       "    'payload': '0x7b226e6f7468696e67223a206e6f7468696e677d',\n",
       "    'provider_key': '5FHneW46xGXgs5mUiveU4sbTyGBzmstUspZC92UhjJM694ty'},\n",
       "   {'block_number': 6757,\n",
       "    'index': 1,\n",
       "    'msa_id': 741,\n",
       "    'payload': '0x516d554b3944644c32694e6a367474537a3978766346413732527533536a363450744b647a774d6b474653637a61',\n",
       "    'provider_key': '5FHneW46xGXgs5mUiveU4sbTyGBzmstUspZC92UhjJM694ty'}],\n",
       "  'has_next': False},\n",
       " 'id': 132842}"
      ]
     },
     "execution_count": 62,
     "metadata": {},
     "output_type": "execute_result"
    }
   ],
   "source": [
    "        params = [\n",
    "            7,\n",
    "            {\n",
    "                \"page_size\": 10000,\n",
    "                \"from_block\": 3498,\n",
    "                \"to_block\": 10000,\n",
    "                \"from_index\": 0,\n",
    "            }\n",
    "        ]\n",
    "\n",
    "        request = substrate.rpc_request(\n",
    "            method='messages_getBySchema',\n",
    "            params=params,\n",
    "        )\n",
    "        request"
   ]
  },
  {
   "cell_type": "code",
   "execution_count": null,
   "id": "c118c0e9",
   "metadata": {},
   "outputs": [],
   "source": []
  },
  {
   "cell_type": "code",
   "execution_count": 294,
   "id": "2ae20ad9",
   "metadata": {
    "scrolled": true
   },
   "outputs": [
    {
     "data": {
      "text/html": [
       "<div>\n",
       "<style scoped>\n",
       "    .dataframe tbody tr th:only-of-type {\n",
       "        vertical-align: middle;\n",
       "    }\n",
       "\n",
       "    .dataframe tbody tr th {\n",
       "        vertical-align: top;\n",
       "    }\n",
       "\n",
       "    .dataframe thead th {\n",
       "        text-align: right;\n",
       "    }\n",
       "</style>\n",
       "<table border=\"1\" class=\"dataframe\">\n",
       "  <thead>\n",
       "    <tr style=\"text-align: right;\">\n",
       "      <th></th>\n",
       "      <th>post_hash</th>\n",
       "      <th>parent_hash</th>\n",
       "      <th>parent_type</th>\n",
       "      <th>num_votes</th>\n",
       "      <th>block_number</th>\n",
       "      <th>msa_id_from_query</th>\n",
       "      <th>provider_key</th>\n",
       "      <th>date_minted</th>\n",
       "    </tr>\n",
       "  </thead>\n",
       "  <tbody>\n",
       "    <tr>\n",
       "      <th>0</th>\n",
       "      <td>QmW4gfvWVdCw4fy4powQhK7c9cnDvGY6oGF1W4idfhkPXy</td>\n",
       "      <td>QmW4gfvWVdCw4fy4powQhK7c9cnDvGY6oGF1W4idfhkPXy</td>\n",
       "      <td>post</td>\n",
       "      <td>118538</td>\n",
       "      <td>177</td>\n",
       "      <td>7</td>\n",
       "      <td>5FHneW46xGXgs5mUiveU4sbTyGBzmstUspZC92UhjJM694ty</td>\n",
       "      <td>'2022-06-23 16:09:42'</td>\n",
       "    </tr>\n",
       "    <tr>\n",
       "      <th>1</th>\n",
       "      <td>QmW4gfvWVdCw4fy4powQhK7c9cnDvGY6oGF1W4idfhkPXy</td>\n",
       "      <td>QmW4gfvWVdCw4fy4powQhK7c9cnDvGY6oGF1W4idfhkPXy</td>\n",
       "      <td>post</td>\n",
       "      <td>0</td>\n",
       "      <td>178</td>\n",
       "      <td>7</td>\n",
       "      <td>5FHneW46xGXgs5mUiveU4sbTyGBzmstUspZC92UhjJM694ty</td>\n",
       "      <td>'2022-06-23 16:10:00'</td>\n",
       "    </tr>\n",
       "    <tr>\n",
       "      <th>2</th>\n",
       "      <td>QmW4gfvWVdCw4fy4powQhK7c9cnDvGY6oGF1W4idfhkPXy</td>\n",
       "      <td>QmW4gfvWVdCw4fy4powQhK7c9cnDvGY6oGF1W4idfhkPXy</td>\n",
       "      <td>post</td>\n",
       "      <td>118538</td>\n",
       "      <td>181</td>\n",
       "      <td>7</td>\n",
       "      <td>5FHneW46xGXgs5mUiveU4sbTyGBzmstUspZC92UhjJM694ty</td>\n",
       "      <td>'2022-06-23 16:11:18'</td>\n",
       "    </tr>\n",
       "    <tr>\n",
       "      <th>3</th>\n",
       "      <td>QmW4gfvWVdCw4fy4powQhK7c9cnDvGY6oGF1W4idfhkPXy</td>\n",
       "      <td>QmW4gfvWVdCw4fy4powQhK7c9cnDvGY6oGF1W4idfhkPXy</td>\n",
       "      <td>post</td>\n",
       "      <td>0</td>\n",
       "      <td>181</td>\n",
       "      <td>7</td>\n",
       "      <td>5FHneW46xGXgs5mUiveU4sbTyGBzmstUspZC92UhjJM694ty</td>\n",
       "      <td>'2022-06-23 16:11:18'</td>\n",
       "    </tr>\n",
       "    <tr>\n",
       "      <th>4</th>\n",
       "      <td>QmcoKf7whNof9z1hKfDiYuHBAt1AEvD7fdiC5JWaAxBkF9</td>\n",
       "      <td>QmcoKf7whNof9z1hKfDiYuHBAt1AEvD7fdiC5JWaAxBkF9</td>\n",
       "      <td>post</td>\n",
       "      <td>91687</td>\n",
       "      <td>181</td>\n",
       "      <td>8</td>\n",
       "      <td>5FHneW46xGXgs5mUiveU4sbTyGBzmstUspZC92UhjJM694ty</td>\n",
       "      <td>'2022-06-23 16:11:18'</td>\n",
       "    </tr>\n",
       "    <tr>\n",
       "      <th>5</th>\n",
       "      <td>QmcoKf7whNof9z1hKfDiYuHBAt1AEvD7fdiC5JWaAxBkF9</td>\n",
       "      <td>QmcoKf7whNof9z1hKfDiYuHBAt1AEvD7fdiC5JWaAxBkF9</td>\n",
       "      <td>post</td>\n",
       "      <td>0</td>\n",
       "      <td>181</td>\n",
       "      <td>8</td>\n",
       "      <td>5FHneW46xGXgs5mUiveU4sbTyGBzmstUspZC92UhjJM694ty</td>\n",
       "      <td>'2022-06-23 16:11:18'</td>\n",
       "    </tr>\n",
       "    <tr>\n",
       "      <th>6</th>\n",
       "      <td>QmbL3efVgMgfQRCLQ7QiH2YSVjDqNxHgkvWP9Lde9cQNiJ</td>\n",
       "      <td>QmbL3efVgMgfQRCLQ7QiH2YSVjDqNxHgkvWP9Lde9cQNiJ</td>\n",
       "      <td>post</td>\n",
       "      <td>92313</td>\n",
       "      <td>181</td>\n",
       "      <td>9</td>\n",
       "      <td>5FHneW46xGXgs5mUiveU4sbTyGBzmstUspZC92UhjJM694ty</td>\n",
       "      <td>'2022-06-23 16:11:18'</td>\n",
       "    </tr>\n",
       "    <tr>\n",
       "      <th>7</th>\n",
       "      <td>QmbL3efVgMgfQRCLQ7QiH2YSVjDqNxHgkvWP9Lde9cQNiJ</td>\n",
       "      <td>QmbL3efVgMgfQRCLQ7QiH2YSVjDqNxHgkvWP9Lde9cQNiJ</td>\n",
       "      <td>post</td>\n",
       "      <td>0</td>\n",
       "      <td>181</td>\n",
       "      <td>9</td>\n",
       "      <td>5FHneW46xGXgs5mUiveU4sbTyGBzmstUspZC92UhjJM694ty</td>\n",
       "      <td>'2022-06-23 16:11:18'</td>\n",
       "    </tr>\n",
       "    <tr>\n",
       "      <th>8</th>\n",
       "      <td>QmTouht5ngCno1YkYfAijrTbR7PXmQggtrRoMsa21teC38</td>\n",
       "      <td>QmTouht5ngCno1YkYfAijrTbR7PXmQggtrRoMsa21teC38</td>\n",
       "      <td>post</td>\n",
       "      <td>76949</td>\n",
       "      <td>181</td>\n",
       "      <td>10</td>\n",
       "      <td>5FHneW46xGXgs5mUiveU4sbTyGBzmstUspZC92UhjJM694ty</td>\n",
       "      <td>'2022-06-23 16:11:18'</td>\n",
       "    </tr>\n",
       "    <tr>\n",
       "      <th>9</th>\n",
       "      <td>QmTouht5ngCno1YkYfAijrTbR7PXmQggtrRoMsa21teC38</td>\n",
       "      <td>QmTouht5ngCno1YkYfAijrTbR7PXmQggtrRoMsa21teC38</td>\n",
       "      <td>post</td>\n",
       "      <td>0</td>\n",
       "      <td>181</td>\n",
       "      <td>10</td>\n",
       "      <td>5FHneW46xGXgs5mUiveU4sbTyGBzmstUspZC92UhjJM694ty</td>\n",
       "      <td>'2022-06-23 16:11:18'</td>\n",
       "    </tr>\n",
       "  </tbody>\n",
       "</table>\n",
       "</div>"
      ],
      "text/plain": [
       "                                        post_hash  \\\n",
       "0  QmW4gfvWVdCw4fy4powQhK7c9cnDvGY6oGF1W4idfhkPXy   \n",
       "1  QmW4gfvWVdCw4fy4powQhK7c9cnDvGY6oGF1W4idfhkPXy   \n",
       "2  QmW4gfvWVdCw4fy4powQhK7c9cnDvGY6oGF1W4idfhkPXy   \n",
       "3  QmW4gfvWVdCw4fy4powQhK7c9cnDvGY6oGF1W4idfhkPXy   \n",
       "4  QmcoKf7whNof9z1hKfDiYuHBAt1AEvD7fdiC5JWaAxBkF9   \n",
       "5  QmcoKf7whNof9z1hKfDiYuHBAt1AEvD7fdiC5JWaAxBkF9   \n",
       "6  QmbL3efVgMgfQRCLQ7QiH2YSVjDqNxHgkvWP9Lde9cQNiJ   \n",
       "7  QmbL3efVgMgfQRCLQ7QiH2YSVjDqNxHgkvWP9Lde9cQNiJ   \n",
       "8  QmTouht5ngCno1YkYfAijrTbR7PXmQggtrRoMsa21teC38   \n",
       "9  QmTouht5ngCno1YkYfAijrTbR7PXmQggtrRoMsa21teC38   \n",
       "\n",
       "                                      parent_hash parent_type  num_votes  \\\n",
       "0  QmW4gfvWVdCw4fy4powQhK7c9cnDvGY6oGF1W4idfhkPXy        post     118538   \n",
       "1  QmW4gfvWVdCw4fy4powQhK7c9cnDvGY6oGF1W4idfhkPXy        post          0   \n",
       "2  QmW4gfvWVdCw4fy4powQhK7c9cnDvGY6oGF1W4idfhkPXy        post     118538   \n",
       "3  QmW4gfvWVdCw4fy4powQhK7c9cnDvGY6oGF1W4idfhkPXy        post          0   \n",
       "4  QmcoKf7whNof9z1hKfDiYuHBAt1AEvD7fdiC5JWaAxBkF9        post      91687   \n",
       "5  QmcoKf7whNof9z1hKfDiYuHBAt1AEvD7fdiC5JWaAxBkF9        post          0   \n",
       "6  QmbL3efVgMgfQRCLQ7QiH2YSVjDqNxHgkvWP9Lde9cQNiJ        post      92313   \n",
       "7  QmbL3efVgMgfQRCLQ7QiH2YSVjDqNxHgkvWP9Lde9cQNiJ        post          0   \n",
       "8  QmTouht5ngCno1YkYfAijrTbR7PXmQggtrRoMsa21teC38        post      76949   \n",
       "9  QmTouht5ngCno1YkYfAijrTbR7PXmQggtrRoMsa21teC38        post          0   \n",
       "\n",
       "   block_number  msa_id_from_query  \\\n",
       "0           177                  7   \n",
       "1           178                  7   \n",
       "2           181                  7   \n",
       "3           181                  7   \n",
       "4           181                  8   \n",
       "5           181                  8   \n",
       "6           181                  9   \n",
       "7           181                  9   \n",
       "8           181                 10   \n",
       "9           181                 10   \n",
       "\n",
       "                                       provider_key            date_minted  \n",
       "0  5FHneW46xGXgs5mUiveU4sbTyGBzmstUspZC92UhjJM694ty  '2022-06-23 16:09:42'  \n",
       "1  5FHneW46xGXgs5mUiveU4sbTyGBzmstUspZC92UhjJM694ty  '2022-06-23 16:10:00'  \n",
       "2  5FHneW46xGXgs5mUiveU4sbTyGBzmstUspZC92UhjJM694ty  '2022-06-23 16:11:18'  \n",
       "3  5FHneW46xGXgs5mUiveU4sbTyGBzmstUspZC92UhjJM694ty  '2022-06-23 16:11:18'  \n",
       "4  5FHneW46xGXgs5mUiveU4sbTyGBzmstUspZC92UhjJM694ty  '2022-06-23 16:11:18'  \n",
       "5  5FHneW46xGXgs5mUiveU4sbTyGBzmstUspZC92UhjJM694ty  '2022-06-23 16:11:18'  \n",
       "6  5FHneW46xGXgs5mUiveU4sbTyGBzmstUspZC92UhjJM694ty  '2022-06-23 16:11:18'  \n",
       "7  5FHneW46xGXgs5mUiveU4sbTyGBzmstUspZC92UhjJM694ty  '2022-06-23 16:11:18'  \n",
       "8  5FHneW46xGXgs5mUiveU4sbTyGBzmstUspZC92UhjJM694ty  '2022-06-23 16:11:18'  \n",
       "9  5FHneW46xGXgs5mUiveU4sbTyGBzmstUspZC92UhjJM694ty  '2022-06-23 16:11:18'  "
      ]
     },
     "execution_count": 294,
     "metadata": {},
     "output_type": "execute_result"
    }
   ],
   "source": [
    "pd.read_sql_query(\"\"\"    SELECT * FROM vote\n",
    "    LIMIT 0, 10\"\"\", con)"
   ]
  },
  {
   "cell_type": "code",
   "execution_count": null,
   "id": "88cfed5f",
   "metadata": {
    "scrolled": true
   },
   "outputs": [],
   "source": [
    "pd.read_sql_query(\"\"\"SELECT user.date_minted FROM user, post, comment, vote, follow limit 1\"\"\", con)"
   ]
  },
  {
   "cell_type": "code",
   "execution_count": 289,
   "id": "34fee1fb",
   "metadata": {},
   "outputs": [],
   "source": [
    "con = sqlite3.connect('postthreadV1_write.db')\n",
    "cur = con.cursor()"
   ]
  },
  {
   "cell_type": "code",
   "execution_count": 298,
   "id": "4da5119e",
   "metadata": {},
   "outputs": [],
   "source": [
    "set_connection(con, cur)"
   ]
  },
  {
   "cell_type": "code",
   "execution_count": 313,
   "id": "d6ac054d",
   "metadata": {
    "scrolled": true
   },
   "outputs": [
    {
     "name": "stdout",
     "output_type": "stream",
     "text": [
      "post 103\n",
      "comment 1003\n",
      "vote 4670\n",
      "user 326\n",
      "follow 1988\n"
     ]
    }
   ],
   "source": [
    "last_updated_block = update_db(\n",
    "    start_block=0, \n",
    "    backfill=True, schemaToUpdate=None\n",
    ")"
   ]
  },
  {
   "cell_type": "code",
   "execution_count": 272,
   "id": "3c0ab926",
   "metadata": {},
   "outputs": [
    {
     "ename": "OperationalError",
     "evalue": "table comment already exists",
     "output_type": "error",
     "traceback": [
      "\u001b[0;31m---------------------------------------------------------------------------\u001b[0m",
      "\u001b[0;31mOperationalError\u001b[0m                          Traceback (most recent call last)",
      "Input \u001b[0;32mIn [272]\u001b[0m, in \u001b[0;36m<cell line: 10>\u001b[0;34m()\u001b[0m\n\u001b[1;32m      7\u001b[0m query \u001b[38;5;241m=\u001b[39m \u001b[38;5;124m\"\u001b[39m\u001b[38;5;124m\"\u001b[39m\u001b[38;5;241m.\u001b[39mjoin(line \u001b[38;5;28;01mfor\u001b[39;00m line \u001b[38;5;129;01min\u001b[39;00m con\u001b[38;5;241m.\u001b[39miterdump())\n\u001b[1;32m      9\u001b[0m \u001b[38;5;66;03m# Dump old database in the new one. \u001b[39;00m\n\u001b[0;32m---> 10\u001b[0m \u001b[43mnew_db\u001b[49m\u001b[38;5;241;43m.\u001b[39;49m\u001b[43mexecutescript\u001b[49m\u001b[43m(\u001b[49m\u001b[43mquery\u001b[49m\u001b[43m)\u001b[49m\n\u001b[1;32m     11\u001b[0m new_db\u001b[38;5;241m.\u001b[39mclose()\n",
      "\u001b[0;31mOperationalError\u001b[0m: table comment already exists"
     ]
    }
   ],
   "source": [
    "\n",
    "    # copy write database to read for REST api to access\n",
    "    bashCommand = \"rm postthreadV1_read.db\"\n",
    "    process = subprocess.Popen(bashCommand.split(), stdout=subprocess.PIPE)\n",
    "\n",
    "    new_db = sqlite3.connect('postthreadV1_read.db') # create a memory database\n",
    "\n",
    "    query = \"\".join(line for line in con.iterdump())\n",
    "\n",
    "    # Dump old database in the new one. \n",
    "    new_db.executescript(query)\n",
    "    new_db.close()"
   ]
  },
  {
   "cell_type": "code",
   "execution_count": 288,
   "id": "1898406e",
   "metadata": {},
   "outputs": [],
   "source": [
    "con.close()"
   ]
  },
  {
   "cell_type": "code",
   "execution_count": null,
   "id": "cff2a205",
   "metadata": {},
   "outputs": [],
   "source": []
  },
  {
   "cell_type": "markdown",
   "id": "8e531a50",
   "metadata": {},
   "source": [
    "# Old"
   ]
  },
  {
   "cell_type": "code",
   "execution_count": 20,
   "id": "31fedc04",
   "metadata": {},
   "outputs": [],
   "source": [
    "def mint_comments(comments, post, post_data_hash):\n",
    "    id_to_hash = {}\n",
    "    for comment in comments:\n",
    "        try:\n",
    "            username = comment.author.name\n",
    "            profile_pic = comment.author.icon_img\n",
    "        except:\n",
    "            username = \"removed\"\n",
    "            profile_pic = \"removed\"\n",
    "            \n",
    "        password = 'password'\n",
    "        user_wallet = Keypair.create_from_uri('//' + username + password)\n",
    "        comment_user_msa_id, receipt_comment_user = mint_user(username, password, profile_pic, user_wallet)\n",
    "            \n",
    "        if comment.parent_id == post.name:\n",
    "            parent_hash = post_data_hash\n",
    "        else:\n",
    "            parent_hash = id_to_hash[comment.parent_id]\n",
    "            \n",
    "        comment_data = {\n",
    "            \"post_hash\": post_data_hash,\n",
    "            \"parent_hash\": parent_hash,\n",
    "            \"depth\": comment.depth,\n",
    "            \"body\": comment.body,\n",
    "        }\n",
    "        \n",
    "        comment_data_hash, receipt_comment = mint_data(comment_data, user_msa_id, path+'comments/' wait_for_inclusion=False, wait_for_finalization=False)\n",
    "        \n",
    "        receipt_comment = make_call(\"Messages\", \"add\", call_params, bob, wait_for_inclusion=False, wait_for_finalization=False)\n",
    "        print(comment_data_hash)\n",
    "        \n",
    "        ## comment votes ##\n",
    "        receipt_ups = mint_votes(comment_user_msa_id, comment.ups, comment_data_hash, post_data_hash, 'comment')\n",
    "        receipt_downs = mint_votes(comment_user_msa_id, comment.downs, comment_data_hash, post_data_hash, 'comment')\n",
    "        print(comment.ups, comment.downs)\n",
    "        \n",
    "        ## FOLLOWS ##\n",
    "        for follow_msa_id in sample(users, min(10, len(users))):\n",
    "            follow_user(comment_user_msa_id, follow_msa_id)\n",
    "            \n",
    "        users.append(comment_user_msa_id)"
   ]
  },
  {
   "cell_type": "code",
   "execution_count": 74,
   "id": "3840a4fa",
   "metadata": {},
   "outputs": [
    {
     "data": {
      "text/plain": [
       "['idfh90g',\n",
       " 'idhlodd',\n",
       " 'idfzo8y',\n",
       " 'idgpexs',\n",
       " 'idflc6e',\n",
       " 'idgtpmq',\n",
       " 'idg250u',\n",
       " 'idfuefl',\n",
       " 'idghn5g',\n",
       " 'idhrhpx',\n",
       " 'idg14ie',\n",
       " 'idf549m',\n",
       " 'idg4vrw']"
      ]
     },
     "execution_count": 74,
     "metadata": {},
     "output_type": "execute_result"
    }
   ],
   "source": [
    "c.children"
   ]
  },
  {
   "cell_type": "code",
   "execution_count": 23,
   "id": "3f21250f",
   "metadata": {
    "scrolled": true
   },
   "outputs": [
    {
     "name": "stdout",
     "output_type": "stream",
     "text": [
      "Extrinsic '0xb5cafbb6c313f9261676610e390287c69a7b5739da89ae3b9b74386b113f3b62' sent and included in block 'None'\n",
      "Extrinsic '0xd002df048664209bfd609f391cb13630d6e06006e77df33c439828fa94cc6db0' sent and included in block 'None'\n",
      "Extrinsic '0x81bbb6952a69cc25cd539f35c975d31e026e3967e272587811bd9080eaab3ddc' sent and included in block 'None'\n",
      "Extrinsic '0x68a1a0f067c6c36b3436a3db68774160c18392c5e29dcbfacdccde8fb72bbf20' sent and included in block 'None'\n",
      "Extrinsic '0xb2f171be69c428488f4f4cad95adca69e2e3c5d822099675be711574e3e2d492' sent and included in block 'None'\n",
      "Extrinsic '0xb3005c43b597882b171a7f5002a1bdf25a0ac11f111b28e14d3a419859cfd72c' sent and included in block 'None'\n",
      "Extrinsic '0x65152b49fea7e38f6d34395618bffd635521d17f7bd5a46cdff1ad7c3111db1a' sent and included in block 'None'\n",
      "Extrinsic '0x45f43a311919562d99b43feee8b6262edc6624fc97145e68168220b77b58a8f8' sent and included in block 'None'\n",
      "Extrinsic '0x239052065565e66de58466c9b57cee27683e3c98fbf70220e41b0a4e1d94f1f8' sent and included in block 'None'\n",
      "Extrinsic '0xf347950c5242bdc7ef2358c61dc02bbde2d92683fea6b5fc7c404829b0b4ef17' sent and included in block 'None'\n",
      "Extrinsic '0x3859588f6e66373a5ca33ab0065024b8e8be34f30481b5aac23dc63565978747' sent and included in block 'None'\n",
      "Extrinsic '0x9b1dad0c2ff873ec4e6ef97dce00107dda630630c90a25332f9d9e3b71c1ed8d' sent and included in block 'None'\n",
      "Extrinsic '0xd95f7221a1e75d7c2c3d2e8ab22dcf95d15353f3aaf07ddf7a0f3ff3e9f8ea7a' sent and included in block 'None'\n",
      "Extrinsic '0x2e8999a52a067145f38615965bc53e2b719051eb27b35b231dfb207095d35b63' sent and included in block 'None'\n",
      "Extrinsic '0xfb67af629461bd802f68db5ae293c31085d4d5a0d425e58405131108eb08f202' sent and included in block 'None'\n",
      "Extrinsic '0x5ddeff27728a8d94c1f63229f4091472ae8062cf4533580f98ba25f67f0f2add' sent and included in block 'None'\n",
      "Extrinsic '0xcf716dc13ab55564a2a844f9254913e9d7e2ff2ce9983ce2b9615059d1854d55' sent and included in block 'None'\n",
      "Extrinsic '0xa9f4a7de00f73235fed2aae5e9402b88b41a1afd5fdb27151e028c7386da3ee7' sent and included in block 'None'\n",
      "Extrinsic '0x0a53e9e1eba3e9ff8026d039dadfb95152708d77197d665d1613ed8924d20e10' sent and included in block 'None'\n",
      "Extrinsic '0x8833529c849af5f7a0e5d3f05dcaa5a93d6d1f3b95afcc2cb74203d66e5a4ce7' sent and included in block 'None'\n"
     ]
    },
    {
     "ename": "TypeError",
     "evalue": "'NoneType' object is not subscriptable",
     "output_type": "error",
     "traceback": [
      "\u001b[0;31m---------------------------------------------------------------------------\u001b[0m",
      "\u001b[0;31mTypeError\u001b[0m                                 Traceback (most recent call last)",
      "Input \u001b[0;32mIn [23]\u001b[0m, in \u001b[0;36m<cell line: 9>\u001b[0;34m()\u001b[0m\n\u001b[1;32m     18\u001b[0m password \u001b[38;5;241m=\u001b[39m \u001b[38;5;124m'\u001b[39m\u001b[38;5;124mpassword\u001b[39m\u001b[38;5;124m'\u001b[39m\n\u001b[1;32m     19\u001b[0m user_wallet \u001b[38;5;241m=\u001b[39m Keypair\u001b[38;5;241m.\u001b[39mcreate_from_uri(\u001b[38;5;124m'\u001b[39m\u001b[38;5;124m//\u001b[39m\u001b[38;5;124m'\u001b[39m \u001b[38;5;241m+\u001b[39m username \u001b[38;5;241m+\u001b[39m password)\n\u001b[0;32m---> 20\u001b[0m user_msa_id, receipt_user \u001b[38;5;241m=\u001b[39m \u001b[43mmint_user\u001b[49m\u001b[43m(\u001b[49m\u001b[43musername\u001b[49m\u001b[43m,\u001b[49m\u001b[43m \u001b[49m\u001b[43mpassword\u001b[49m\u001b[43m,\u001b[49m\u001b[43m \u001b[49m\u001b[43mprofile_pic\u001b[49m\u001b[43m,\u001b[49m\u001b[43m \u001b[49m\u001b[43muser_wallet\u001b[49m\u001b[43m)\u001b[49m\n\u001b[1;32m     22\u001b[0m \u001b[38;5;66;03m## POST ##\u001b[39;00m\n\u001b[1;32m     23\u001b[0m post_data \u001b[38;5;241m=\u001b[39m {\n\u001b[1;32m     24\u001b[0m     \u001b[38;5;124m\"\u001b[39m\u001b[38;5;124mcategory\u001b[39m\u001b[38;5;124m\"\u001b[39m: post\u001b[38;5;241m.\u001b[39msubreddit\u001b[38;5;241m.\u001b[39mdisplay_name,\n\u001b[1;32m     25\u001b[0m     \u001b[38;5;124m\"\u001b[39m\u001b[38;5;124musername\u001b[39m\u001b[38;5;124m\"\u001b[39m: username,\n\u001b[0;32m   (...)\u001b[0m\n\u001b[1;32m     30\u001b[0m     \u001b[38;5;124m\"\u001b[39m\u001b[38;5;124mis_nsfw\u001b[39m\u001b[38;5;124m\"\u001b[39m: post\u001b[38;5;241m.\u001b[39mover_18\n\u001b[1;32m     31\u001b[0m }\n",
      "File \u001b[0;32m~/polkadot_projects/PostThread-Polkadot/reddit-reposter/substrate_helpers.py:220\u001b[0m, in \u001b[0;36mmint_user\u001b[0;34m(username, password, profile_pic, user_wallet, wait_for_inclusion, wait_for_finalization)\u001b[0m\n\u001b[1;32m    219\u001b[0m \u001b[38;5;28;01mdef\u001b[39;00m \u001b[38;5;21mmint_user\u001b[39m(username, password, profile_pic, user_wallet, wait_for_inclusion\u001b[38;5;241m=\u001b[39m\u001b[38;5;28;01mFalse\u001b[39;00m, wait_for_finalization\u001b[38;5;241m=\u001b[39m\u001b[38;5;28;01mFalse\u001b[39;00m):      \n\u001b[0;32m--> 220\u001b[0m     user_msa_id \u001b[38;5;241m=\u001b[39m \u001b[43mcreate_msa_with_delegator\u001b[49m\u001b[43m(\u001b[49m\u001b[43mdelegate\u001b[49m\u001b[43m,\u001b[49m\u001b[43m \u001b[49m\u001b[43muser_wallet\u001b[49m\u001b[43m)\u001b[49m\n\u001b[1;32m    221\u001b[0m     user_data \u001b[38;5;241m=\u001b[39m \u001b[38;5;124m'\u001b[39m\u001b[38;5;124m{\u001b[39m\u001b[38;5;124m'\u001b[39m \u001b[38;5;241m+\u001b[39m \u001b[38;5;124mf\u001b[39m\u001b[38;5;124m'\u001b[39m\u001b[38;5;124m\"\u001b[39m\u001b[38;5;124mmsa_id\u001b[39m\u001b[38;5;124m\"\u001b[39m\u001b[38;5;124m: \u001b[39m\u001b[38;5;132;01m{\u001b[39;00muser_msa_id\u001b[38;5;132;01m}\u001b[39;00m\u001b[38;5;124m,\u001b[39m\u001b[38;5;124m\"\u001b[39m\u001b[38;5;124musername\u001b[39m\u001b[38;5;124m\"\u001b[39m\u001b[38;5;124m: \u001b[39m\u001b[38;5;124m\"\u001b[39m\u001b[38;5;132;01m{\u001b[39;00musername\u001b[38;5;132;01m}\u001b[39;00m\u001b[38;5;124m\"\u001b[39m\u001b[38;5;124m,\u001b[39m\u001b[38;5;124m\"\u001b[39m\u001b[38;5;124mpassword\u001b[39m\u001b[38;5;124m\"\u001b[39m\u001b[38;5;124m: \u001b[39m\u001b[38;5;124m\"\u001b[39m\u001b[38;5;132;01m{\u001b[39;00mpassword\u001b[38;5;132;01m}\u001b[39;00m\u001b[38;5;124m\"\u001b[39m\u001b[38;5;124m,\u001b[39m\u001b[38;5;124m\"\u001b[39m\u001b[38;5;124mprofile_pic\u001b[39m\u001b[38;5;124m\"\u001b[39m\u001b[38;5;124m: \u001b[39m\u001b[38;5;124m\"\u001b[39m\u001b[38;5;132;01m{\u001b[39;00mprofile_pic\u001b[38;5;132;01m}\u001b[39;00m\u001b[38;5;124m\"\u001b[39m\u001b[38;5;124m,\u001b[39m\u001b[38;5;124m\"\u001b[39m\u001b[38;5;124mwallet_ss58_address\u001b[39m\u001b[38;5;124m\"\u001b[39m\u001b[38;5;124m: \u001b[39m\u001b[38;5;124m\"\u001b[39m\u001b[38;5;132;01m{\u001b[39;00muser_wallet\u001b[38;5;241m.\u001b[39mss58_address\u001b[38;5;132;01m}\u001b[39;00m\u001b[38;5;124m\"\u001b[39m\u001b[38;5;124m'\u001b[39m \u001b[38;5;241m+\u001b[39m \u001b[38;5;124m'\u001b[39m\u001b[38;5;124m}\u001b[39m\u001b[38;5;124m'\u001b[39m\n\u001b[1;32m    223\u001b[0m     call_params \u001b[38;5;241m=\u001b[39m {\n\u001b[1;32m    224\u001b[0m         \u001b[38;5;124m\"\u001b[39m\u001b[38;5;124mon_behalf_of\u001b[39m\u001b[38;5;124m\"\u001b[39m: user_msa_id,\n\u001b[1;32m    225\u001b[0m         \u001b[38;5;124m\"\u001b[39m\u001b[38;5;124mschema_id\u001b[39m\u001b[38;5;124m\"\u001b[39m: user_schemaId,\n\u001b[1;32m    226\u001b[0m         \u001b[38;5;124m\"\u001b[39m\u001b[38;5;124mmessage\u001b[39m\u001b[38;5;124m\"\u001b[39m: user_data,\n\u001b[1;32m    227\u001b[0m         \u001b[38;5;124m\"\u001b[39m\u001b[38;5;124mpayload\u001b[39m\u001b[38;5;124m\"\u001b[39m: user_data\n\u001b[1;32m    228\u001b[0m     }\n",
      "File \u001b[0;32m~/polkadot_projects/PostThread-Polkadot/reddit-reposter/substrate_helpers.py:130\u001b[0m, in \u001b[0;36mcreate_msa_with_delegator\u001b[0;34m(provider_wallet, delegator_wallet)\u001b[0m\n\u001b[1;32m    129\u001b[0m \u001b[38;5;28;01mdef\u001b[39;00m \u001b[38;5;21mcreate_msa_with_delegator\u001b[39m(provider_wallet, delegator_wallet):\n\u001b[0;32m--> 130\u001b[0m     msa_id \u001b[38;5;241m=\u001b[39m \u001b[43mget_msa_id\u001b[49m\u001b[43m(\u001b[49m\u001b[43mdelegator_wallet\u001b[49m\u001b[43m,\u001b[49m\u001b[43m \u001b[49m\u001b[43mcreate\u001b[49m\u001b[38;5;241;43m=\u001b[39;49m\u001b[38;5;28;43;01mFalse\u001b[39;49;00m\u001b[43m)\u001b[49m\n\u001b[1;32m    131\u001b[0m     \u001b[38;5;28;01mif\u001b[39;00m msa_id \u001b[38;5;129;01mis\u001b[39;00m \u001b[38;5;129;01mnot\u001b[39;00m \u001b[38;5;28;01mNone\u001b[39;00m:\n\u001b[1;32m    132\u001b[0m         \u001b[38;5;28;01mreturn\u001b[39;00m msa_id\n",
      "File \u001b[0;32m~/polkadot_projects/PostThread-Polkadot/reddit-reposter/substrate_helpers.py:87\u001b[0m, in \u001b[0;36mget_msa_id\u001b[0;34m(wallet, create)\u001b[0m\n\u001b[1;32m     85\u001b[0m         \u001b[38;5;28;01mreturn\u001b[39;00m \u001b[38;5;28;01mNone\u001b[39;00m\n\u001b[1;32m     86\u001b[0m     \u001b[38;5;28;01melse\u001b[39;00m:\n\u001b[0;32m---> 87\u001b[0m         \u001b[38;5;28;01mreturn\u001b[39;00m \u001b[43mmsa_key\u001b[49m\u001b[38;5;241;43m.\u001b[39;49m\u001b[43mvalue\u001b[49m\u001b[43m[\u001b[49m\u001b[38;5;124;43m'\u001b[39;49m\u001b[38;5;124;43mmsa_id\u001b[39;49m\u001b[38;5;124;43m'\u001b[39;49m\u001b[43m]\u001b[49m\n\u001b[1;32m     89\u001b[0m \u001b[38;5;28;01mif\u001b[39;00m msa_key \u001b[38;5;241m==\u001b[39m \u001b[38;5;28;01mNone\u001b[39;00m:\n\u001b[1;32m     90\u001b[0m     receipt \u001b[38;5;241m=\u001b[39m make_call(\u001b[38;5;124m\"\u001b[39m\u001b[38;5;124mMsa\u001b[39m\u001b[38;5;124m\"\u001b[39m, \u001b[38;5;124m\"\u001b[39m\u001b[38;5;124mcreate\u001b[39m\u001b[38;5;124m\"\u001b[39m, {}, wallet)\n",
      "\u001b[0;31mTypeError\u001b[0m: 'NoneType' object is not subscriptable"
     ]
    }
   ],
   "source": [
    "while (True):\n",
    "    posts = [p for p in r_all.top(time_filter='day')]\n",
    "    for i, post in enumerate(posts):\n",
    "        ## USER ##\n",
    "        try:\n",
    "            username = post.author.name\n",
    "            profile_pic = post.author.icon_img\n",
    "        except:\n",
    "            username = \"removed\"\n",
    "            profile_pic = \"removed\"\n",
    "            \n",
    "        password = 'password'\n",
    "        user_wallet = Keypair.create_from_uri('//' + username + password)\n",
    "        user_msa_id, receipt_user = mint_user(username, password, profile_pic, user_wallet)\n",
    "\n",
    "        ## POST ##\n",
    "        post_data = {\n",
    "            \"category\": post.subreddit.display_name,\n",
    "            \"username\": username,\n",
    "            \"profile_pic\": profile_pic,\n",
    "            \"title\": post.title,\n",
    "            \"body\": post.selftext,\n",
    "            \"url\": post.url,\n",
    "            \"is_nsfw\": post.over_18\n",
    "        }\n",
    "\n",
    "        post_data_hash, receipt_post = make_post(post_data, user_msa_id, path+'posts/', wait_for_inclusion=False, wait_for_finalization=False)\n",
    "        print(post_data_hash)\n",
    "\n",
    "        ## post votes ##\n",
    "        receipt_ups = mint_votes(user_msa_id, post.ups, post_data_hash, post_data_hash, 'post')\n",
    "        receipt_downs = mint_votes(user_msa_id, post.downs, post_data_hash, post_data_hash, 'post')\n",
    "        print(post.ups, post.downs)\n",
    "\n",
    "        ## COMMENT ##\n",
    "        mint_comments(post.comments.list()[:10], post, post_data_hash)\n",
    "        \n",
    "        ## FOLLOWS ##\n",
    "        for follow_msa_id in sample(users, min(10, len(users))):\n",
    "            follow_user(user_msa_id, follow_msa_id)\n",
    "            \n",
    "        users.append(user_msa_id)\n",
    "        \n",
    "    print(\"waiting...\")\n",
    "    print()\n",
    "    # sleep for a bit and then check again\n",
    "    time.sleep(60*10)"
   ]
  },
  {
   "cell_type": "code",
   "execution_count": 39,
   "id": "d3feed06",
   "metadata": {},
   "outputs": [],
   "source": [
    "b = reddit.redditor('abowlofspaghetti')"
   ]
  },
  {
   "cell_type": "code",
   "execution_count": 40,
   "id": "0e9ed430",
   "metadata": {},
   "outputs": [
    {
     "data": {
      "text/plain": [
       "(7003, 737, 0, 0)"
      ]
     },
     "execution_count": 40,
     "metadata": {},
     "output_type": "execute_result"
    }
   ],
   "source": [
    "b.link_karma, b.comment_karma"
   ]
  },
  {
   "cell_type": "code",
   "execution_count": 47,
   "id": "5bff244e",
   "metadata": {},
   "outputs": [
    {
     "data": {
      "text/plain": [
       "<praw.models.listing.generator.ListingGenerator at 0x7f6355f90df0>"
      ]
     },
     "execution_count": 47,
     "metadata": {},
     "output_type": "execute_result"
    }
   ],
   "source": [
    "b.submissions.new()"
   ]
  },
  {
   "cell_type": "code",
   "execution_count": 49,
   "id": "857df083",
   "metadata": {
    "scrolled": true
   },
   "outputs": [],
   "source": [
    "for t in b.submissions.new():\n",
    "    break"
   ]
  },
  {
   "cell_type": "code",
   "execution_count": null,
   "id": "af461c24",
   "metadata": {},
   "outputs": [],
   "source": []
  },
  {
   "cell_type": "code",
   "execution_count": 52,
   "id": "e3b49e3d",
   "metadata": {},
   "outputs": [
    {
     "data": {
      "text/plain": [
       "\"I'm not a huge fan of GBTC for Bitcoin but it's the only way to get exposure to crypto in my 401k. So I will be dumping all my GBTC whenever an ETF comes available. However, I feel like many people could do that and it'll tank the stock. Is that a possibility? I know it's supposed to represent btc value but it's constantly off by huge percentages.\""
      ]
     },
     "execution_count": 52,
     "metadata": {},
     "output_type": "execute_result"
    }
   ],
   "source": [
    "t.selftext"
   ]
  },
  {
   "cell_type": "code",
   "execution_count": 32,
   "id": "7fffb063",
   "metadata": {},
   "outputs": [
    {
     "data": {
      "text/plain": [
       "[]"
      ]
     },
     "execution_count": 32,
     "metadata": {},
     "output_type": "execute_result"
    }
   ],
   "source": [
    "[t for t in b.awardee_karma.top()]"
   ]
  },
  {
   "cell_type": "code",
   "execution_count": null,
   "id": "aa8b5350",
   "metadata": {},
   "outputs": [],
   "source": []
  },
  {
   "cell_type": "code",
   "execution_count": null,
   "id": "4ccacb78",
   "metadata": {},
   "outputs": [],
   "source": []
  },
  {
   "cell_type": "code",
   "execution_count": 543,
   "id": "28220666",
   "metadata": {},
   "outputs": [
    {
     "data": {
      "text/plain": [
       "9694"
      ]
     },
     "execution_count": 543,
     "metadata": {},
     "output_type": "execute_result"
    }
   ],
   "source": [
    "substrate.get_block()['header']['number']"
   ]
  },
  {
   "cell_type": "code",
   "execution_count": 489,
   "id": "f1175441",
   "metadata": {},
   "outputs": [],
   "source": [
    "start_block = 5490"
   ]
  },
  {
   "cell_type": "code",
   "execution_count": 42,
   "id": "92e6d160",
   "metadata": {},
   "outputs": [],
   "source": [
    "post_pattern = re.compile(f\".*,.*,type,parent,data\")"
   ]
  },
  {
   "cell_type": "code",
   "execution_count": 43,
   "id": "2f852fd5",
   "metadata": {
    "scrolled": true
   },
   "outputs": [
    {
     "name": "stdout",
     "output_type": "stream",
     "text": [
      "QmQzgLfEczTXa3rWFC4y7vJMECV7yFqbByhFPzUR9woUWs,interestingasfuck,type,parent,data\n"
     ]
    }
   ],
   "source": [
    "schema_count = substrate.query(\n",
    "    module='Schemas',\n",
    "    storage_function='SchemaCount',\n",
    "    params=[]\n",
    ").value\n",
    "\n",
    "post_schemas = {}\n",
    "for i in range(1, schema_count+1):\n",
    "    schemaTemp = substrate.query(\n",
    "        module='Schemas',\n",
    "        storage_function='Schemas',\n",
    "        params=[i]\n",
    "    )\n",
    "    if post_pattern.match(schemaTemp.value):\n",
    "        print(schemaTemp.value)\n",
    "        post_schemas[schemaTemp.value] = i"
   ]
  },
  {
   "cell_type": "code",
   "execution_count": 48,
   "id": "a1ee26be",
   "metadata": {
    "scrolled": true
   },
   "outputs": [
    {
     "name": "stdout",
     "output_type": "stream",
     "text": [
      "QmQzgLfEczTXa3rWFC4y7vJMECV7yFqbByhFPzUR9woUWs,interestingasfuck,type,parent,data {'jsonrpc': '2.0', 'result': {'content': [{'block_number': 34, 'data': '0x2c2c706f73742c2c516d517a674c6645637a5458613372574643347937764a4d454356377946716242796846507a555239776f555773', 'index': 0, 'msa_id': 1, 'signer': '5FHneW46xGXgs5mUiveU4sbTyGBzmstUspZC92UhjJM694ty'}, {'block_number': 43, 'data': '0x2c2c706f73742c2c516d517a674c6645637a5458613372574643347937764a4d454356377946716242796846507a555239776f555773', 'index': 0, 'msa_id': 1, 'signer': '5FHneW46xGXgs5mUiveU4sbTyGBzmstUspZC92UhjJM694ty'}], 'has_next': False}, 'id': 139}\n",
      "CPU times: user 2.16 ms, sys: 0 ns, total: 2.16 ms\n",
      "Wall time: 41.8 ms\n"
     ]
    }
   ],
   "source": [
    "%%time\n",
    "content_jsons = {}\n",
    "for schema, schemaId in post_schemas.items():\n",
    "    params = [\n",
    "        schemaId,\n",
    "        {\n",
    "            \"page_size\": 10000,\n",
    "            \"from_block\": 0,\n",
    "            \"to_block\": 10000,\n",
    "            \"from_index\": 0,\n",
    "        }\n",
    "    ]\n",
    "\n",
    "    content = substrate.rpc_request(\n",
    "        method='messages_getBySchema',\n",
    "        params=params,\n",
    "    )\n",
    "    print(schema, content)\n",
    "    if len(content['result']['content']) > 0:\n",
    "        content_jsons[schema] = content['result']['content']"
   ]
  },
  {
   "cell_type": "code",
   "execution_count": 45,
   "id": "d15cc63e",
   "metadata": {},
   "outputs": [
    {
     "data": {
      "text/plain": [
       "{}"
      ]
     },
     "execution_count": 45,
     "metadata": {},
     "output_type": "execute_result"
    }
   ],
   "source": [
    "content_jsons"
   ]
  },
  {
   "cell_type": "code",
   "execution_count": 23,
   "id": "d1cf793c",
   "metadata": {
    "scrolled": true
   },
   "outputs": [
    {
     "data": {
      "text/plain": [
       "{'t3_vim7ng': Submission(id='vim7ng'),\n",
       " 't3_vit3x1': Submission(id='vit3x1'),\n",
       " 't3_vixi09': Submission(id='vixi09'),\n",
       " 't3_viiej5': Submission(id='viiej5'),\n",
       " 't3_vizh71': Submission(id='vizh71'),\n",
       " 't3_vivnm4': Submission(id='vivnm4'),\n",
       " 't3_viulb0': Submission(id='viulb0'),\n",
       " 't3_vinjcr': Submission(id='vinjcr'),\n",
       " 't3_vip13v': Submission(id='vip13v'),\n",
       " 't3_vii7b8': Submission(id='vii7b8'),\n",
       " 't3_virxw5': Submission(id='virxw5'),\n",
       " 't3_vimk8e': Submission(id='vimk8e'),\n",
       " 't3_vit8uu': Submission(id='vit8uu'),\n",
       " 't3_viu2uy': Submission(id='viu2uy'),\n",
       " 't3_viiwew': Submission(id='viiwew'),\n",
       " 't3_vilwa7': Submission(id='vilwa7'),\n",
       " 't3_viqm5t': Submission(id='viqm5t'),\n",
       " 't3_vii5pa': Submission(id='vii5pa'),\n",
       " 't3_vivotx': Submission(id='vivotx'),\n",
       " 't3_vitu44': Submission(id='vitu44'),\n",
       " 't3_vipp6u': Submission(id='vipp6u'),\n",
       " 't3_viu8fu': Submission(id='viu8fu'),\n",
       " 't3_viv1te': Submission(id='viv1te'),\n",
       " 't3_vj1k3n': Submission(id='vj1k3n'),\n",
       " 't3_vir64e': Submission(id='vir64e'),\n",
       " 't3_viv9uf': Submission(id='viv9uf'),\n",
       " 't3_vihxa0': Submission(id='vihxa0'),\n",
       " 't3_vitirc': Submission(id='vitirc'),\n",
       " 't3_virvdb': Submission(id='virvdb'),\n",
       " 't3_vixfko': Submission(id='vixfko'),\n",
       " 't3_vip47n': Submission(id='vip47n'),\n",
       " 't3_vin8hn': Submission(id='vin8hn'),\n",
       " 't3_vik8zi': Submission(id='vik8zi'),\n",
       " 't3_vit2m6': Submission(id='vit2m6'),\n",
       " 't3_vis6co': Submission(id='vis6co'),\n",
       " 't3_vixs3e': Submission(id='vixs3e'),\n",
       " 't3_vilfua': Submission(id='vilfua'),\n",
       " 't3_vis3q3': Submission(id='vis3q3'),\n",
       " 't3_vij700': Submission(id='vij700'),\n",
       " 't3_vj069m': Submission(id='vj069m'),\n",
       " 't3_vin9v0': Submission(id='vin9v0'),\n",
       " 't3_viotqt': Submission(id='viotqt'),\n",
       " 't3_viltda': Submission(id='viltda'),\n",
       " 't3_viwh64': Submission(id='viwh64'),\n",
       " 't3_viyqer': Submission(id='viyqer'),\n",
       " 't3_vitiqi': Submission(id='vitiqi'),\n",
       " 't3_viq23j': Submission(id='viq23j'),\n",
       " 't3_vise9r': Submission(id='vise9r'),\n",
       " 't3_vil8qr': Submission(id='vil8qr'),\n",
       " 't3_viilkv': Submission(id='viilkv'),\n",
       " 't3_viu2nn': Submission(id='viu2nn'),\n",
       " 't3_viklwh': Submission(id='viklwh'),\n",
       " 't3_viqb3j': Submission(id='viqb3j'),\n",
       " 't3_viyb5l': Submission(id='viyb5l'),\n",
       " 't3_viz15t': Submission(id='viz15t'),\n",
       " 't3_vitrc6': Submission(id='vitrc6'),\n",
       " 't3_vikfyz': Submission(id='vikfyz'),\n",
       " 't3_vilc2a': Submission(id='vilc2a'),\n",
       " 't3_vj2xbo': Submission(id='vj2xbo'),\n",
       " 't3_viko2m': Submission(id='viko2m'),\n",
       " 't3_vin4jv': Submission(id='vin4jv'),\n",
       " 't3_viqtez': Submission(id='viqtez'),\n",
       " 't3_vilidd': Submission(id='vilidd'),\n",
       " 't3_vij5oj': Submission(id='vij5oj'),\n",
       " 't3_vij6k3': Submission(id='vij6k3'),\n",
       " 't3_viuxtj': Submission(id='viuxtj'),\n",
       " 't3_vizthy': Submission(id='vizthy'),\n",
       " 't3_viquj1': Submission(id='viquj1'),\n",
       " 't3_viswlp': Submission(id='viswlp'),\n",
       " 't3_vii4wg': Submission(id='vii4wg'),\n",
       " 't3_vir1eq': Submission(id='vir1eq'),\n",
       " 't3_vij5j5': Submission(id='vij5j5'),\n",
       " 't3_viv4dn': Submission(id='viv4dn'),\n",
       " 't3_viv6b5': Submission(id='viv6b5'),\n",
       " 't3_vis8mp': Submission(id='vis8mp'),\n",
       " 't3_vipqbx': Submission(id='vipqbx'),\n",
       " 't3_vispa0': Submission(id='vispa0'),\n",
       " 't3_vihue7': Submission(id='vihue7'),\n",
       " 't3_vizc82': Submission(id='vizc82'),\n",
       " 't3_viq2p1': Submission(id='viq2p1'),\n",
       " 't3_viobzc': Submission(id='viobzc'),\n",
       " 't3_viz2y1': Submission(id='viz2y1'),\n",
       " 't3_viv4i6': Submission(id='viv4i6'),\n",
       " 't3_vihvzy': Submission(id='vihvzy'),\n",
       " 't3_viwd4l': Submission(id='viwd4l'),\n",
       " 't3_viqrhp': Submission(id='viqrhp'),\n",
       " 't3_vikbzz': Submission(id='vikbzz'),\n",
       " 't3_viumok': Submission(id='viumok'),\n",
       " 't3_viv9gj': Submission(id='viv9gj'),\n",
       " 't3_visr9p': Submission(id='visr9p'),\n",
       " 't3_vitikb': Submission(id='vitikb'),\n",
       " 't3_viktan': Submission(id='viktan'),\n",
       " 't3_vix912': Submission(id='vix912'),\n",
       " 't3_vivgq4': Submission(id='vivgq4'),\n",
       " 't3_vilmiq': Submission(id='vilmiq'),\n",
       " 't3_viozwn': Submission(id='viozwn'),\n",
       " 't3_vit1uj': Submission(id='vit1uj'),\n",
       " 't3_viygi9': Submission(id='viygi9'),\n",
       " 't3_viorbz': Submission(id='viorbz'),\n",
       " 't3_vitp3t': Submission(id='vitp3t')}"
      ]
     },
     "execution_count": 23,
     "metadata": {},
     "output_type": "execute_result"
    }
   ],
   "source": [
    "posts"
   ]
  },
  {
   "cell_type": "code",
   "execution_count": 353,
   "id": "51fc69d4",
   "metadata": {},
   "outputs": [],
   "source": [
    "def add_comment(_data, _dict, _is_vote):\n",
    "    for hsh in _dict.keys():\n",
    "        if hsh == data[2]:\n",
    "            if is_vote:\n",
    "                if '-' in data[3]:\n",
    "                    # downvote\n",
    "                    _dict['data']['downvotes'] += data[3]\n",
    "                else:\n",
    "                    # upvote\n",
    "                    _dict['data']['upvotes'] += data[3]\n",
    "            else:\n",
    "                _dict[data[3]] = {\n",
    "                    'data': json.loads(client.cat(_data).decode()), \n",
    "                    'comments': {}\n",
    "                }\n",
    "                \n",
    "                _dict['data'].update({\"upvotes\": 0, \"downvotes\": 0})\n",
    "            return True\n",
    "        result = add_comment(_data, _dict['comments'], _is_vote)\n",
    "        if result:\n",
    "            return True\n",
    "    return False"
   ]
  },
  {
   "cell_type": "code",
   "execution_count": null,
   "id": "2a24b901",
   "metadata": {},
   "outputs": [],
   "source": []
  },
  {
   "cell_type": "code",
   "execution_count": null,
   "id": "d10077b4",
   "metadata": {},
   "outputs": [],
   "source": [
    "posts[0]"
   ]
  },
  {
   "cell_type": "code",
   "execution_count": 354,
   "id": "c81d698c",
   "metadata": {
    "scrolled": true
   },
   "outputs": [],
   "source": [
    "posts = {}\n",
    "for schema, contents in content_jsons.items():\n",
    "    schema_items = schema.split(',')\n",
    "    category = schema_items[0]\n",
    "    post_hash = schema_items[1]\n",
    "    posts[post_hash] = {'data': {\"upvotes\": 0, \"downvotes\": 0}, 'comments': {}}\n",
    "    \n",
    "    for content in contents:\n",
    "        data = bytes.fromhex(content['data'][2:]).decode().split(',')\n",
    "        # votes had numeric numbers instead of hashes\n",
    "        is_vote = data[3].strip('-').isnumeric() \n",
    "        if is_vote:\n",
    "            data[3] = int(data[3])\n",
    "            \n",
    "        if data[2] == '': \n",
    "            # empty means its post data\n",
    "            posts[post_hash]['data'].update(json.loads(client.cat(data[3]).decode()))\n",
    "        elif data[2] == post_hash: \n",
    "            # post_hash means its comment\n",
    "            if is_vote:\n",
    "                if data[3] < 0:\n",
    "                    # downvote\n",
    "                    posts[post_hash]['data']['downvotes'] += data[3]\n",
    "                else:\n",
    "                    # upvote\n",
    "                    posts[post_hash]['data']['upvotes'] += data[3]\n",
    "            else:\n",
    "                posts[post_hash]['comments'][data[3]] = {\n",
    "                    'data': json.loads(client.cat(data[3]).decode()), \n",
    "                    'comments': {}\n",
    "                }\n",
    "                posts[post_hash]['comments'][data[3]]['data'].update({\"upvotes\": 0, \"downvotes\": 0})\n",
    "        else: \n",
    "            # neither means its comment of comment\n",
    "            result = add_comment(data[3], posts[post_hash]['comments'], is_vote)\n",
    "            if not result:\n",
    "                print('couldnt find', data[2], json.loads(client.cat(data[3]).decode()))"
   ]
  },
  {
   "cell_type": "code",
   "execution_count": 42,
   "id": "6f5ecd98",
   "metadata": {},
   "outputs": [
    {
     "data": {
      "text/plain": [
       "{'username': 'SamMee514',\n",
       " 'password': 'password',\n",
       " 'profile_pic': 'https://styles.redditmedia.com/t5_3nk7j/styles/profileIcon_xwxr5t82uvo71.jpg?width=256&height=256&crop=256:256,smart&s=f979360d063c5a7fac85612deb538dbba83f8fb4',\n",
       " 'user_wallet': <Keypair (address=5HT8T1mywhQspN8ZwSVFh9g5o9BCnGWWuutWfddUTbAa7LNL)>}"
      ]
     },
     "execution_count": 42,
     "metadata": {},
     "output_type": "execute_result"
    }
   ],
   "source": [
    "all_users['t3_vim7ng']"
   ]
  },
  {
   "cell_type": "code",
   "execution_count": 355,
   "id": "510f0c3e",
   "metadata": {},
   "outputs": [],
   "source": [
    "from collections import OrderedDict\n",
    "o = OrderedDict(sorted(posts.items(), key=lambda t: t[1]['data']['upvotes'], reverse=True))"
   ]
  },
  {
   "cell_type": "code",
   "execution_count": 41,
   "id": "52abbf60",
   "metadata": {},
   "outputs": [
    {
     "data": {
      "text/plain": [
       "(dict_keys(['t3_vim7ng', 't3_vit3x1', 't3_vixi09', 't3_viiej5', 't3_vizh71', 't3_vivnm4', 't3_viulb0', 't3_vinjcr', 't3_vip13v', 't3_vii7b8', 't3_virxw5', 't3_vimk8e', 't3_vit8uu', 't3_viu2uy', 't3_viiwew', 't3_vilwa7', 't3_viqm5t', 't3_vii5pa', 't3_vivotx', 't3_vitu44', 't3_vipp6u', 't3_viu8fu', 't3_viv1te', 't3_vj1k3n', 't3_vir64e', 't3_viv9uf', 't3_vitirc', 't3_virvdb', 't3_vixfko', 't3_vip47n', 't3_vin8hn', 't3_vik8zi', 't3_vit2m6', 't3_vis6co', 't3_vixs3e', 't3_vilfua', 't3_vis3q3', 't3_vij700', 't3_vj069m', 't3_vin9v0', 't3_viotqt', 't3_viltda', 't3_viwh64', 't3_viyqer', 't3_vitiqi', 't3_viq23j', 't3_vise9r', 't3_vil8qr', 't3_viilkv', 't3_viu2nn', 't3_viklwh', 't3_viqb3j', 't3_viyb5l', 't3_viz15t', 't3_vitrc6', 't3_vikfyz', 't3_vilc2a', 't3_vj2xbo', 't3_viko2m', 't3_vin4jv', 't3_viqtez', 't3_vilidd', 't3_vij5oj', 't3_vij6k3', 't3_viuxtj', 't3_vizthy', 't3_viquj1', 't3_viswlp', 't3_vii4wg', 't3_vir1eq', 't3_vij5j5', 't3_viv4dn', 't3_viv6b5', 't3_vis8mp', 't3_vipqbx', 't3_vispa0', 't3_vizc82', 't3_viq2p1', 't3_viobzc', 't3_viz2y1', 't3_viv4i6', 't3_viwd4l', 't3_viqrhp', 't3_vikbzz', 't3_viumok', 't3_viv9gj', 't3_visr9p', 't3_vitikb', 't3_viktan', 't3_vix912', 't3_vivgq4', 't3_vilmiq', 't3_viozwn', 't3_vit1uj', 't3_viygi9', 't3_viorbz', 't3_vitp3t', 't3_vileet', 't3_vizggt', 't3_vij7c8']),\n",
       " dict_keys(['t3_vim7ng', 't3_vit3x1', 't3_vixi09', 't3_viiej5', 't3_vizh71', 't3_vivnm4', 't3_viulb0', 't3_vinjcr', 't3_vip13v', 't3_vii7b8', 't3_virxw5', 't3_vimk8e', 't3_vit8uu', 't3_viu2uy', 't3_viiwew', 't3_vilwa7', 't3_viqm5t', 't3_vii5pa', 't3_vivotx', 't3_vitu44', 't3_vipp6u', 't3_viu8fu', 't3_viv1te', 't3_vj1k3n', 't3_vir64e', 't3_viv9uf', 't3_vitirc', 't3_virvdb', 't3_vixfko', 't3_vip47n', 't3_vin8hn', 't3_vik8zi', 't3_vit2m6', 't3_vis6co', 't3_vixs3e', 't3_vilfua', 't3_vis3q3', 't3_vij700', 't3_vj069m', 't3_vin9v0', 't3_viotqt', 't3_viltda', 't3_viwh64', 't3_viyqer', 't3_vitiqi', 't3_viq23j', 't3_vise9r', 't3_vil8qr', 't3_viilkv', 't3_viu2nn', 't3_viklwh', 't3_viqb3j', 't3_viyb5l', 't3_viz15t', 't3_vitrc6', 't3_vikfyz', 't3_vilc2a', 't3_vj2xbo', 't3_viko2m', 't3_vin4jv', 't3_viqtez', 't3_vilidd', 't3_vij5oj', 't3_vij6k3', 't3_viuxtj', 't3_vizthy', 't3_viquj1', 't3_viswlp', 't3_vii4wg', 't3_vir1eq', 't3_vij5j5', 't3_viv4dn', 't3_viv6b5', 't3_vis8mp', 't3_vipqbx', 't3_vispa0', 't3_vizc82', 't3_viq2p1', 't3_viobzc', 't3_viz2y1', 't3_viv4i6', 't3_viwd4l', 't3_viqrhp', 't3_vikbzz', 't3_viumok', 't3_viv9gj', 't3_visr9p', 't3_vitikb', 't3_viktan', 't3_vix912', 't3_vivgq4', 't3_vilmiq', 't3_viozwn', 't3_vit1uj', 't3_viygi9', 't3_viorbz', 't3_vitp3t', 't3_vileet', 't3_vizggt', 't3_vij7c8']),\n",
       " dict_keys(['t3_vim7ng', 't3_vit3x1', 't3_vixi09', 't3_viiej5', 't3_vizh71', 't3_vivnm4', 't3_viulb0', 't3_vinjcr', 't3_vip13v', 't3_vii7b8', 't3_virxw5', 't3_vimk8e', 't3_vit8uu', 't3_viu2uy', 't3_viiwew', 't3_vilwa7', 't3_viqm5t', 't3_vii5pa', 't3_vivotx', 't3_vitu44', 't3_vipp6u', 't3_viu8fu', 't3_viv1te', 't3_vj1k3n', 't3_vir64e', 't3_viv9uf', 't3_vitirc', 't3_virvdb', 't3_vixfko', 't3_vip47n', 't3_vin8hn', 't3_vik8zi', 't3_vit2m6', 't3_vis6co', 't3_vixs3e', 't3_vilfua', 't3_vis3q3', 't3_vij700', 't3_vj069m', 't3_vin9v0', 't3_viotqt', 't3_viltda', 't3_viwh64', 't3_viyqer', 't3_vitiqi', 't3_viq23j', 't3_vise9r', 't3_vil8qr', 't3_viilkv', 't3_viu2nn', 't3_viklwh', 't3_viqb3j', 't3_viyb5l', 't3_viz15t', 't3_vitrc6', 't3_vikfyz', 't3_vilc2a', 't3_vj2xbo', 't3_viko2m', 't3_vin4jv', 't3_viqtez', 't3_vilidd', 't3_vij5oj', 't3_vij6k3', 't3_viuxtj', 't3_vizthy', 't3_viquj1', 't3_viswlp', 't3_vii4wg', 't3_vir1eq', 't3_vij5j5', 't3_viv4dn', 't3_viv6b5', 't3_vis8mp', 't3_vipqbx', 't3_vispa0', 't3_vizc82', 't3_viq2p1', 't3_viobzc', 't3_viz2y1', 't3_viv4i6', 't3_viwd4l', 't3_viqrhp', 't3_vikbzz', 't3_viumok', 't3_viv9gj', 't3_visr9p', 't3_vitikb', 't3_viktan', 't3_vix912', 't3_vivgq4', 't3_vilmiq', 't3_viozwn', 't3_vit1uj', 't3_viygi9', 't3_viorbz', 't3_vitp3t', 't3_vileet', 't3_vizggt', 't3_vij7c8']))"
      ]
     },
     "execution_count": 41,
     "metadata": {},
     "output_type": "execute_result"
    }
   ],
   "source": [
    "all_users.keys(), all_posts.keys(), posts.keys()"
   ]
  },
  {
   "cell_type": "code",
   "execution_count": 357,
   "id": "4a5e49b8",
   "metadata": {},
   "outputs": [],
   "source": [
    "posts_list = []\n",
    "for k, v in OrderedDict(sorted(posts.items(), key=lambda t: t[1]['data']['upvotes'], reverse=True)).items():\n",
    "    posts_list.append({k:v})"
   ]
  },
  {
   "cell_type": "code",
   "execution_count": null,
   "id": "f9f4b300",
   "metadata": {},
   "outputs": [],
   "source": []
  }
 ],
 "metadata": {
  "kernelspec": {
   "display_name": "Python 3 (ipykernel)",
   "language": "python",
   "name": "python3"
  },
  "language_info": {
   "codemirror_mode": {
    "name": "ipython",
    "version": 3
   },
   "file_extension": ".py",
   "mimetype": "text/x-python",
   "name": "python",
   "nbconvert_exporter": "python",
   "pygments_lexer": "ipython3",
   "version": "3.8.5"
  },
  "vscode": {
   "interpreter": {
    "hash": "f90a51316803318f0b952c570a4fe32d53aa73ff3300e1da5777ab9e91b8249c"
   }
  }
 },
 "nbformat": 4,
 "nbformat_minor": 5
}
